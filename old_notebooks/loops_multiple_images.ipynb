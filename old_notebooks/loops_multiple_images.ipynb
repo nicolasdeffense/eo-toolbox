{
 "cells": [
  {
   "cell_type": "markdown",
   "id": "major-sunglasses",
   "metadata": {},
   "source": [
    "# Working with multiple images\n",
    "\n",
    "In this Jupyter Notebook, we will see how to apply multiples geometric manipulations on a large number of images with the help of the `for` loops.\n",
    "\n",
    "1. Clip images to the extent of the Region of Interest (ROI) and resample Scene Classification maps from 20m to 10m\n",
    "2. Apply SCL to reflectances images to mask invalid pixels (clouds, shadows,...)\n",
    "3. Compute NDVI at each date\n",
    "4. Compute mean NDVI for each polygon\n"
   ]
  },
  {
   "cell_type": "code",
   "execution_count": 1,
   "id": "domestic-vacation",
   "metadata": {},
   "outputs": [
    {
     "output_type": "stream",
     "name": "stdout",
     "text": [
      "Numpy : 1.19.2\nPandas : 1.1.5\nGeoPandas : 0.8.1\nRasterio : 1.1.0\nRasterstats : 0.14.0\nMatplotlib : 3.3.4\n"
     ]
    }
   ],
   "source": [
    "import glob, os\n",
    "import numpy as np\n",
    "import pandas as pd\n",
    "import geopandas as gpd\n",
    "\n",
    "import rasterio\n",
    "import rasterio.mask\n",
    "from rasterio.enums import Resampling\n",
    "from rasterio import plot\n",
    "from rasterio.plot import show\n",
    "\n",
    "import matplotlib\n",
    "import matplotlib.pyplot as plt\n",
    "\n",
    "import rasterstats\n",
    "from rasterstats import zonal_stats\n",
    "\n",
    "from pathlib import Path\n",
    "from IPython.display import display\n",
    "\n",
    "print(f'Numpy : {np.__version__}')\n",
    "print(f'Pandas : {pd.__version__}')\n",
    "print(f'GeoPandas : {gpd.__version__}')\n",
    "print(f'Rasterio : {rasterio.__version__}')\n",
    "print(f'Rasterstats : {rasterstats.__version__}')\n",
    "print(f'Matplotlib : {matplotlib.__version__}')"
   ]
  },
  {
   "source": [
    "## Set paths for input and output directories\n",
    "\n",
    "Create directories if there are missing using `Path` and `mkdir`"
   ],
   "cell_type": "markdown",
   "metadata": {}
  },
  {
   "cell_type": "code",
   "execution_count": 2,
   "id": "perceived-dollar",
   "metadata": {},
   "outputs": [
    {
     "output_type": "stream",
     "name": "stdout",
     "text": [
      "Vector input path are set to : /Users/Nicolas/OneDrive - UCL/LBRAT2104/VECTOR/\nRaster input path are set to : /Volumes/nbdid-sst-lbrat2104/data/RASTER/\nOutput path are set to       : /Users/Nicolas/OneDrive - UCL/LBRAT2104/Output/\n"
     ]
    }
   ],
   "source": [
    "grp_letter   = 'X'\n",
    "student_name = 'ndeffense'\n",
    "\n",
    "# When you are connected to the computer room\n",
    "'''\n",
    "vector_path = 'X:/data/VECTOR/'\n",
    "raster_path = 'X:/data/RASTER/'\n",
    "output_path = f'X:/GROUP_{grp_letter}/TP/{student_name}/DATA/'\n",
    "'''\n",
    "\n",
    "# When you are connected to your personnal computer\n",
    "vector_path = '/Users/Nicolas/OneDrive - UCL/LBRAT2104/VECTOR/'\n",
    "raster_path = '/Volumes/nbdid-sst-lbrat2104/data/RASTER/'\n",
    "output_path = '/Users/Nicolas/OneDrive - UCL/LBRAT2104/Output/'\n",
    "\n",
    "\n",
    "print(f'Vector input path are set to : {vector_path}')\n",
    "print(f'Raster input path are set to : {raster_path}')\n",
    "print(f'Output path are set to       : {output_path}')\n",
    "\n",
    "# Directory to store all clipped images\n",
    "clip_path = f'{output_path}IM_ROI/'\n",
    "\n",
    "# Directory to store all clipped images with SCL\n",
    "clip_scl_path = f'{output_path}IM_ROI_SCL/'\n",
    "\n",
    "# Directory to store all NDVI images\n",
    "ndvi_path = f'{output_path}NDVI_ROI/'\n",
    "\n",
    "# Create directories if missing\n",
    "Path(clip_path).mkdir(parents=True, exist_ok=True)\n",
    "Path(clip_scl_path).mkdir(parents=True, exist_ok=True)\n",
    "Path(ndvi_path).mkdir(parents=True, exist_ok=True)"
   ]
  },
  {
   "cell_type": "markdown",
   "id": "competitive-romantic",
   "metadata": {},
   "source": [
    "## Set parameters\n",
    "    \n",
    "It is a good habit to set all parameters at the begining of the script to easily find them and modify them if needed."
   ]
  },
  {
   "cell_type": "code",
   "execution_count": 3,
   "id": "absolute-passage",
   "metadata": {},
   "outputs": [],
   "source": [
    "# Resampling parameters\n",
    "# ---------------------\n",
    "\n",
    "upscale_factor = 2\n",
    "\n",
    "method = 'nearest'\n",
    "\n",
    "if method == 'nearest':\n",
    "    resampling_method = Resampling.nearest\n",
    "elif method == 'bilinear':\n",
    "    resampling_method = Resampling.bilinear\n",
    "elif method == 'cubic':\n",
    "    resampling_method = Resampling.cubic\n",
    "\n",
    "\n",
    "# Cloud mask parameters\n",
    "# ---------------------\n",
    "\n",
    "nodata_val = -10000"
   ]
  },
  {
   "cell_type": "markdown",
   "id": "legendary-fusion",
   "metadata": {},
   "source": [
    "## Manipulate a large number of images\n",
    "\n",
    "Create a *DataFrame* with `Pandas` using `glob` to store all informations from the SAFE directories you have uploaded on *Copernicus Open Access Hub*\n",
    "\n",
    "***\n",
    "**pandas**\n",
    "\n",
    "`pandas` is a fast, powerful, flexible and easy to use open source data analysis and manipulation tool,\n",
    "built on top of the Python programming language\n",
    "- A fast and efficient DataFrame object for data manipulation with integrated indexing;\n",
    "- Tools for reading and writing data between in-memory data structures and different formats: CSV and text files, Microsoft Excel, SQL databases;\n",
    "- Time series-functionality;\n",
    "- Python with pandas is in use in a wide variety of academic and commercial domains, including Finance, Neuroscience, Economics, Statistics, Advertising, Web Analytics, and more\n",
    "\n",
    "**glob**\n",
    "\n",
    "The `glob` module finds all the pathnames matching a specified pattern according to the rules used by the Unix shell, although results are returned in arbitrary order. No tilde expansion is done, but *, ?, and character ranges expressed with [] will be correctly matched.\n",
    "\n",
    "`glob.glob()` : Return a possibly-empty list of path names that match *pathname*, which must be a string containing a path specification. *pathname* can be either absolute (like `/usr/src/Python-1.5/Makefile`) or relative (like `../../Tools/*/*.gif`)\n",
    "\n",
    "**for loop**\n",
    "\n",
    "In Python, a `for` loop is usually written as a loop over an iterable object (e.g. list, dataframe, array,...). This means you don’t need a counting variable to access items in the iterable. Sometimes, though, you do want to have a variable that changes on each loop iteration. Rather than creating and incrementing a variable yourself, you can use Python’s `enumerate()` to get a counter and the value from the iterable at the same time!\n",
    "\n",
    "***\n"
   ]
  },
  {
   "cell_type": "code",
   "execution_count": 7,
   "id": "lyric-launch",
   "metadata": {},
   "outputs": [
    {
     "output_type": "display_data",
     "data": {
      "text/plain": "        date   tile band  \\\n56  20200116  31UFS    0   \n16  20200116  31UFS   02   \n17  20200116  31UFS   03   \n18  20200116  31UFS   04   \n19  20200116  31UFS   08   \n..       ...    ...  ...   \n64  20201218  31UFS    0   \n48  20201218  31UFS   02   \n49  20201218  31UFS   03   \n50  20201218  31UFS   04   \n51  20201218  31UFS   08   \n\n                                                                                                                                                                                                        im_path  \n56  /Volumes/nbdid-sst-lbrat2104/data/RASTER/TP_2/S2B_MSIL2A_20200116T105309_N0213_R051_T31UFS_20200116T122813.SAFE/GRANULE/L2A_T31UFS_A014949_20200116T105304/IMG_DATA/R20m/T31UFS_20200116T105309_SCL_20m.jp2  \n16  /Volumes/nbdid-sst-lbrat2104/data/RASTER/TP_2/S2B_MSIL2A_20200116T105309_N0213_R051_T31UFS_20200116T122813.SAFE/GRANULE/L2A_T31UFS_A014949_20200116T105304/IMG_DATA/R10m/T31UFS_20200116T105309_B02_10m.jp2  \n17  /Volumes/nbdid-sst-lbrat2104/data/RASTER/TP_2/S2B_MSIL2A_20200116T105309_N0213_R051_T31UFS_20200116T122813.SAFE/GRANULE/L2A_T31UFS_A014949_20200116T105304/IMG_DATA/R10m/T31UFS_20200116T105309_B03_10m.jp2  \n18  /Volumes/nbdid-sst-lbrat2104/data/RASTER/TP_2/S2B_MSIL2A_20200116T105309_N0213_R051_T31UFS_20200116T122813.SAFE/GRANULE/L2A_T31UFS_A014949_20200116T105304/IMG_DATA/R10m/T31UFS_20200116T105309_B04_10m.jp2  \n19  /Volumes/nbdid-sst-lbrat2104/data/RASTER/TP_2/S2B_MSIL2A_20200116T105309_N0213_R051_T31UFS_20200116T122813.SAFE/GRANULE/L2A_T31UFS_A014949_20200116T105304/IMG_DATA/R10m/T31UFS_20200116T105309_B08_10m.jp2  \n..                                                                                                                                                                                                          ...  \n64  /Volumes/nbdid-sst-lbrat2104/data/RASTER/TP_2/S2B_MSIL2A_20201218T104349_N0214_R008_T31UFS_20201218T124059.SAFE/GRANULE/L2A_T31UFS_A019768_20201218T104343/IMG_DATA/R20m/T31UFS_20201218T104349_SCL_20m.jp2  \n48  /Volumes/nbdid-sst-lbrat2104/data/RASTER/TP_2/S2B_MSIL2A_20201218T104349_N0214_R008_T31UFS_20201218T124059.SAFE/GRANULE/L2A_T31UFS_A019768_20201218T104343/IMG_DATA/R10m/T31UFS_20201218T104349_B02_10m.jp2  \n49  /Volumes/nbdid-sst-lbrat2104/data/RASTER/TP_2/S2B_MSIL2A_20201218T104349_N0214_R008_T31UFS_20201218T124059.SAFE/GRANULE/L2A_T31UFS_A019768_20201218T104343/IMG_DATA/R10m/T31UFS_20201218T104349_B03_10m.jp2  \n50  /Volumes/nbdid-sst-lbrat2104/data/RASTER/TP_2/S2B_MSIL2A_20201218T104349_N0214_R008_T31UFS_20201218T124059.SAFE/GRANULE/L2A_T31UFS_A019768_20201218T104343/IMG_DATA/R10m/T31UFS_20201218T104349_B04_10m.jp2  \n51  /Volumes/nbdid-sst-lbrat2104/data/RASTER/TP_2/S2B_MSIL2A_20201218T104349_N0214_R008_T31UFS_20201218T124059.SAFE/GRANULE/L2A_T31UFS_A019768_20201218T104343/IMG_DATA/R10m/T31UFS_20201218T104349_B08_10m.jp2  \n\n[65 rows x 4 columns]",
      "text/html": "<div>\n<style scoped>\n    .dataframe tbody tr th:only-of-type {\n        vertical-align: middle;\n    }\n\n    .dataframe tbody tr th {\n        vertical-align: top;\n    }\n\n    .dataframe thead th {\n        text-align: right;\n    }\n</style>\n<table border=\"1\" class=\"dataframe\">\n  <thead>\n    <tr style=\"text-align: right;\">\n      <th></th>\n      <th>date</th>\n      <th>tile</th>\n      <th>band</th>\n      <th>im_path</th>\n    </tr>\n  </thead>\n  <tbody>\n    <tr>\n      <th>56</th>\n      <td>20200116</td>\n      <td>31UFS</td>\n      <td>0</td>\n      <td>/Volumes/nbdid-sst-lbrat2104/data/RASTER/TP_2/S2B_MSIL2A_20200116T105309_N0213_R051_T31UFS_20200116T122813.SAFE/GRANULE/L2A_T31UFS_A014949_20200116T105304/IMG_DATA/R20m/T31UFS_20200116T105309_SCL_20m.jp2</td>\n    </tr>\n    <tr>\n      <th>16</th>\n      <td>20200116</td>\n      <td>31UFS</td>\n      <td>02</td>\n      <td>/Volumes/nbdid-sst-lbrat2104/data/RASTER/TP_2/S2B_MSIL2A_20200116T105309_N0213_R051_T31UFS_20200116T122813.SAFE/GRANULE/L2A_T31UFS_A014949_20200116T105304/IMG_DATA/R10m/T31UFS_20200116T105309_B02_10m.jp2</td>\n    </tr>\n    <tr>\n      <th>17</th>\n      <td>20200116</td>\n      <td>31UFS</td>\n      <td>03</td>\n      <td>/Volumes/nbdid-sst-lbrat2104/data/RASTER/TP_2/S2B_MSIL2A_20200116T105309_N0213_R051_T31UFS_20200116T122813.SAFE/GRANULE/L2A_T31UFS_A014949_20200116T105304/IMG_DATA/R10m/T31UFS_20200116T105309_B03_10m.jp2</td>\n    </tr>\n    <tr>\n      <th>18</th>\n      <td>20200116</td>\n      <td>31UFS</td>\n      <td>04</td>\n      <td>/Volumes/nbdid-sst-lbrat2104/data/RASTER/TP_2/S2B_MSIL2A_20200116T105309_N0213_R051_T31UFS_20200116T122813.SAFE/GRANULE/L2A_T31UFS_A014949_20200116T105304/IMG_DATA/R10m/T31UFS_20200116T105309_B04_10m.jp2</td>\n    </tr>\n    <tr>\n      <th>19</th>\n      <td>20200116</td>\n      <td>31UFS</td>\n      <td>08</td>\n      <td>/Volumes/nbdid-sst-lbrat2104/data/RASTER/TP_2/S2B_MSIL2A_20200116T105309_N0213_R051_T31UFS_20200116T122813.SAFE/GRANULE/L2A_T31UFS_A014949_20200116T105304/IMG_DATA/R10m/T31UFS_20200116T105309_B08_10m.jp2</td>\n    </tr>\n    <tr>\n      <th>...</th>\n      <td>...</td>\n      <td>...</td>\n      <td>...</td>\n      <td>...</td>\n    </tr>\n    <tr>\n      <th>64</th>\n      <td>20201218</td>\n      <td>31UFS</td>\n      <td>0</td>\n      <td>/Volumes/nbdid-sst-lbrat2104/data/RASTER/TP_2/S2B_MSIL2A_20201218T104349_N0214_R008_T31UFS_20201218T124059.SAFE/GRANULE/L2A_T31UFS_A019768_20201218T104343/IMG_DATA/R20m/T31UFS_20201218T104349_SCL_20m.jp2</td>\n    </tr>\n    <tr>\n      <th>48</th>\n      <td>20201218</td>\n      <td>31UFS</td>\n      <td>02</td>\n      <td>/Volumes/nbdid-sst-lbrat2104/data/RASTER/TP_2/S2B_MSIL2A_20201218T104349_N0214_R008_T31UFS_20201218T124059.SAFE/GRANULE/L2A_T31UFS_A019768_20201218T104343/IMG_DATA/R10m/T31UFS_20201218T104349_B02_10m.jp2</td>\n    </tr>\n    <tr>\n      <th>49</th>\n      <td>20201218</td>\n      <td>31UFS</td>\n      <td>03</td>\n      <td>/Volumes/nbdid-sst-lbrat2104/data/RASTER/TP_2/S2B_MSIL2A_20201218T104349_N0214_R008_T31UFS_20201218T124059.SAFE/GRANULE/L2A_T31UFS_A019768_20201218T104343/IMG_DATA/R10m/T31UFS_20201218T104349_B03_10m.jp2</td>\n    </tr>\n    <tr>\n      <th>50</th>\n      <td>20201218</td>\n      <td>31UFS</td>\n      <td>04</td>\n      <td>/Volumes/nbdid-sst-lbrat2104/data/RASTER/TP_2/S2B_MSIL2A_20201218T104349_N0214_R008_T31UFS_20201218T124059.SAFE/GRANULE/L2A_T31UFS_A019768_20201218T104343/IMG_DATA/R10m/T31UFS_20201218T104349_B04_10m.jp2</td>\n    </tr>\n    <tr>\n      <th>51</th>\n      <td>20201218</td>\n      <td>31UFS</td>\n      <td>08</td>\n      <td>/Volumes/nbdid-sst-lbrat2104/data/RASTER/TP_2/S2B_MSIL2A_20201218T104349_N0214_R008_T31UFS_20201218T124059.SAFE/GRANULE/L2A_T31UFS_A019768_20201218T104343/IMG_DATA/R10m/T31UFS_20201218T104349_B08_10m.jp2</td>\n    </tr>\n  </tbody>\n</table>\n<p>65 rows × 4 columns</p>\n</div>"
     },
     "metadata": {}
    }
   ],
   "source": [
    "# Set path where your SAFE folders are\n",
    "L2A_path = f'{raster_path}TP_2/'\n",
    "\n",
    "# Get a list with all reflectance bands at 10m resolution\n",
    "L2A_BANDS_10M = glob.glob(f'{L2A_path}*.SAFE/GRANULE/*/IMG_DATA/R10m/*B0*.jp2')\n",
    "\n",
    "# Get a list with all reflectance bands at 20m resolution\n",
    "L2A_BANDS_20M = glob.glob(f'{L2A_path}*.SAFE/GRANULE/*/IMG_DATA/R20m/*B0*.jp2')\n",
    "\n",
    "# Get a list with all Scene Classification maps (SCL) products at 20m resolution\n",
    "L2A_SCL_20M  = glob.glob(f'{L2A_path}*.SAFE/GRANULE/*/IMG_DATA/R20m/*SCL*.jp2')\n",
    "\n",
    "L2A_all = L2A_BANDS_10M + L2A_SCL_20M\n",
    "\n",
    "\n",
    "# Create an empty DataFrame using pandas with 4 columns : date, tile name, band number and image path\n",
    "\n",
    "df = pd.DataFrame(columns=['date','tile','band','im_path'])\n",
    "\n",
    "# Populate DataFrame using a for loop\n",
    "\n",
    "for i, im_path in enumerate(L2A_all):\n",
    "    \n",
    "    im_path = im_path.replace('\\\\','/')      # If you are working in Windows, you may need to change '\\' by '/'\n",
    "    \n",
    "    tile = os.path.basename(im_path)[1:1+5]  # Find the tile name inside the file name\n",
    "    date = os.path.basename(im_path)[7:7+8]  # Find the date inside the file name\n",
    "    \n",
    "    if 'B0' in os.path.basename(im_path):\n",
    "        band = os.path.basename(im_path)[-10:-8]  # Find the band number inside the file name\n",
    "        \n",
    "    elif 'SCL' in os.path.basename(im_path):\n",
    "        band = '0'                               # If the file is the SCL, set the band number to 0\n",
    "    \n",
    "    # Add file infos to the dataframe\n",
    "    df.loc[i,'date']    = date\n",
    "    df.loc[i,'tile']    = tile\n",
    "    df.loc[i,'band']    = band\n",
    "    df.loc[i,'im_path'] = im_path\n",
    "\n",
    "\n",
    "# Now that the for loop is finished, you can sort the newly created dataframe first by date, then by tile and lastly by band.\n",
    "\n",
    "df = df.sort_values(by=['date','tile','band'])\n",
    "\n",
    "# Display the entire DataFrame\n",
    "\n",
    "pd.set_option('display.max_rows', 10)       # Maximum number of rows pandas to print\n",
    "pd.set_option('display.max_columns', None)  # Maximum number of columns pandas to print\n",
    "pd.set_option('display.max_colwidth', None) # Maximum width in characters of a column to print\n",
    "\n",
    "display(df)"
   ]
  },
  {
   "source": [
    "### Display a subset of the DataFrame"
   ],
   "cell_type": "markdown",
   "metadata": {}
  },
  {
   "source": [
    "date_select = '20200212'\n",
    "\n",
    "df_subset = df.loc[df['date'] == date_select]\n",
    "\n",
    "print(f'Information for image at date : {date_select}')\n",
    "\n",
    "display(df_subset)"
   ],
   "cell_type": "code",
   "metadata": {},
   "execution_count": 8,
   "outputs": [
    {
     "output_type": "stream",
     "name": "stdout",
     "text": [
      "Information for image at date : 20200212\n"
     ]
    },
    {
     "output_type": "display_data",
     "data": {
      "text/plain": "        date   tile band  \\\n57  20200212  31UFS    0   \n20  20200212  31UFS   02   \n21  20200212  31UFS   03   \n22  20200212  31UFS   04   \n23  20200212  31UFS   08   \n\n                                                                                                                                                                                                        im_path  \n57  /Volumes/nbdid-sst-lbrat2104/data/RASTER/TP_2/S2B_MSIL2A_20200212T104049_N0214_R008_T31UFS_20200213T134833.SAFE/GRANULE/L2A_T31UFS_A015335_20200212T104614/IMG_DATA/R20m/T31UFS_20200212T104049_SCL_20m.jp2  \n20  /Volumes/nbdid-sst-lbrat2104/data/RASTER/TP_2/S2B_MSIL2A_20200212T104049_N0214_R008_T31UFS_20200213T134833.SAFE/GRANULE/L2A_T31UFS_A015335_20200212T104614/IMG_DATA/R10m/T31UFS_20200212T104049_B02_10m.jp2  \n21  /Volumes/nbdid-sst-lbrat2104/data/RASTER/TP_2/S2B_MSIL2A_20200212T104049_N0214_R008_T31UFS_20200213T134833.SAFE/GRANULE/L2A_T31UFS_A015335_20200212T104614/IMG_DATA/R10m/T31UFS_20200212T104049_B03_10m.jp2  \n22  /Volumes/nbdid-sst-lbrat2104/data/RASTER/TP_2/S2B_MSIL2A_20200212T104049_N0214_R008_T31UFS_20200213T134833.SAFE/GRANULE/L2A_T31UFS_A015335_20200212T104614/IMG_DATA/R10m/T31UFS_20200212T104049_B04_10m.jp2  \n23  /Volumes/nbdid-sst-lbrat2104/data/RASTER/TP_2/S2B_MSIL2A_20200212T104049_N0214_R008_T31UFS_20200213T134833.SAFE/GRANULE/L2A_T31UFS_A015335_20200212T104614/IMG_DATA/R10m/T31UFS_20200212T104049_B08_10m.jp2  ",
      "text/html": "<div>\n<style scoped>\n    .dataframe tbody tr th:only-of-type {\n        vertical-align: middle;\n    }\n\n    .dataframe tbody tr th {\n        vertical-align: top;\n    }\n\n    .dataframe thead th {\n        text-align: right;\n    }\n</style>\n<table border=\"1\" class=\"dataframe\">\n  <thead>\n    <tr style=\"text-align: right;\">\n      <th></th>\n      <th>date</th>\n      <th>tile</th>\n      <th>band</th>\n      <th>im_path</th>\n    </tr>\n  </thead>\n  <tbody>\n    <tr>\n      <th>57</th>\n      <td>20200212</td>\n      <td>31UFS</td>\n      <td>0</td>\n      <td>/Volumes/nbdid-sst-lbrat2104/data/RASTER/TP_2/S2B_MSIL2A_20200212T104049_N0214_R008_T31UFS_20200213T134833.SAFE/GRANULE/L2A_T31UFS_A015335_20200212T104614/IMG_DATA/R20m/T31UFS_20200212T104049_SCL_20m.jp2</td>\n    </tr>\n    <tr>\n      <th>20</th>\n      <td>20200212</td>\n      <td>31UFS</td>\n      <td>02</td>\n      <td>/Volumes/nbdid-sst-lbrat2104/data/RASTER/TP_2/S2B_MSIL2A_20200212T104049_N0214_R008_T31UFS_20200213T134833.SAFE/GRANULE/L2A_T31UFS_A015335_20200212T104614/IMG_DATA/R10m/T31UFS_20200212T104049_B02_10m.jp2</td>\n    </tr>\n    <tr>\n      <th>21</th>\n      <td>20200212</td>\n      <td>31UFS</td>\n      <td>03</td>\n      <td>/Volumes/nbdid-sst-lbrat2104/data/RASTER/TP_2/S2B_MSIL2A_20200212T104049_N0214_R008_T31UFS_20200213T134833.SAFE/GRANULE/L2A_T31UFS_A015335_20200212T104614/IMG_DATA/R10m/T31UFS_20200212T104049_B03_10m.jp2</td>\n    </tr>\n    <tr>\n      <th>22</th>\n      <td>20200212</td>\n      <td>31UFS</td>\n      <td>04</td>\n      <td>/Volumes/nbdid-sst-lbrat2104/data/RASTER/TP_2/S2B_MSIL2A_20200212T104049_N0214_R008_T31UFS_20200213T134833.SAFE/GRANULE/L2A_T31UFS_A015335_20200212T104614/IMG_DATA/R10m/T31UFS_20200212T104049_B04_10m.jp2</td>\n    </tr>\n    <tr>\n      <th>23</th>\n      <td>20200212</td>\n      <td>31UFS</td>\n      <td>08</td>\n      <td>/Volumes/nbdid-sst-lbrat2104/data/RASTER/TP_2/S2B_MSIL2A_20200212T104049_N0214_R008_T31UFS_20200213T134833.SAFE/GRANULE/L2A_T31UFS_A015335_20200212T104614/IMG_DATA/R10m/T31UFS_20200212T104049_B08_10m.jp2</td>\n    </tr>\n  </tbody>\n</table>\n</div>"
     },
     "metadata": {}
    }
   ]
  },
  {
   "cell_type": "markdown",
   "id": "upper-liberia",
   "metadata": {},
   "source": [
    "## 1. Clip all images & resample to 10m if needed\n",
    "\n",
    "With a few lines of code and the powerful libraries `rasterio` and `GeoPandas`, we will automatically crop/clip the Sentinel-2 images over our study area (ROI) and resample the Scene Classification maps from 20m to 10m.\n"
   ]
  },
  {
   "cell_type": "code",
   "execution_count": 9,
   "id": "judicial-recruitment",
   "metadata": {},
   "outputs": [
    {
     "output_type": "stream",
     "name": "stdout",
     "text": [
      "ROI filename is : /Users/Nicolas/OneDrive - UCL/LBRAT2104/Output/ROI/extent_roi_32631.shp\n"
     ]
    }
   ],
   "source": [
    "# Read ROI as a GeoDataFrame\n",
    "roi_file = f'{output_path}ROI/extent_roi_32631.shp'\n",
    "\n",
    "print(f'ROI filename is : {roi_file}')\n",
    "\n",
    "roi = gpd.read_file(roi_file)\n",
    "\n",
    "\n",
    "# Make a for loop to get all images paths from dataframe and apply operations one after the other\n",
    "\n",
    "for src_file in df['im_path']:\n",
    "    \n",
    "    filename = os.path.basename(src_file)[:-4]      # Get the image name without the extension (.tif)\n",
    "    \n",
    "    clipped_dst_file = f'{clip_path}{filename}_ROI.tif'  # Set the name of the new clipped image\n",
    "    \n",
    "    if not os.path.isfile(clipped_dst_file):     # If clipped image doesn't exist, create it\n",
    "        \n",
    "        # Open original file with rasterio\n",
    "        src = rasterio.open(src_file, \"r\", driver='JP2OpenJPEG')\n",
    "        \n",
    "        # Clip original file with rasterio\n",
    "        out_image, out_transform = rasterio.mask.mask(src, roi.geometry, crop=True)\n",
    "        out_meta = src.meta\n",
    "\n",
    "        out_meta.update({\"driver\": \"GTiff\",\n",
    "                         \"height\": out_image.shape[1],\n",
    "                         \"width\": out_image.shape[2],\n",
    "                         \"transform\": out_transform})\n",
    "        \n",
    "        # Write clipped file\n",
    "        dst = rasterio.open(clipped_dst_file, \"w\", **out_meta)\n",
    "        dst.write(out_image)\n",
    "\n",
    "        # Close rasterio objects\n",
    "        src.close()\n",
    "        dst.close()\n",
    "\n",
    "        print(f'A new clipped raster file is created : {clipped_dst_file}')\n",
    "    \n",
    "        # ------------------------------------------------------------------- #\n",
    "        # If the new created file is a SCL map, we also need to resample it ! #\n",
    "        # ------------------------------------------------------------------- #\n",
    "\n",
    "        if 'SCL_20m' in clipped_dst_file:\n",
    "\n",
    "            # Create new name for the resampled SCL\n",
    "            resampled_dst_file = f'{clipped_dst_file[:-11]}10m_ROI.tif'\n",
    "\n",
    "            # Open clipped SCL\n",
    "            src = rasterio.open(clipped_dst_file, \"r\", driver='GTiff')\n",
    "\n",
    "            # Update the metadata\n",
    "            profile = src.profile\n",
    "            width   = src.width*upscale_factor\n",
    "            height  = src.height*upscale_factor\n",
    "\n",
    "            # Resample data to target shape\n",
    "            data = src.read(\n",
    "                out_shape=(\n",
    "                    src.count,\n",
    "                    int(src.height * upscale_factor),\n",
    "                    int(src.width * upscale_factor)\n",
    "                ),\n",
    "                resampling=resampling_method\n",
    "            )\n",
    "\n",
    "            # Scale image transform\n",
    "            transform = src.transform * src.transform.scale(\n",
    "                (src.width / data.shape[-1]),\n",
    "                (src.height / data.shape[-2])\n",
    "            )\n",
    "\n",
    "            profile.update(transform=transform, width=width, height=height)\n",
    "\n",
    "\n",
    "            # Write resampled image\n",
    "            dst = rasterio.open(resampled_dst_file, \"w\", **profile)\n",
    "            dst.write(data)\n",
    "\n",
    "            # Close rasterio objects\n",
    "            src.close()\n",
    "            dst.close()\n",
    "\n",
    "            print(f'--> A new resampled raster file is created : {resampled_dst_file}')"
   ]
  },
  {
   "cell_type": "markdown",
   "id": "experienced-orlando",
   "metadata": {},
   "source": [
    "## 2. Apply Scene Classification maps on all reflectances images"
   ]
  },
  {
   "cell_type": "code",
   "execution_count": 10,
   "id": "joint-apache",
   "metadata": {},
   "outputs": [
    {
     "output_type": "stream",
     "name": "stdout",
     "text": [
      "All your reflectances images with SCL are ready ! \n"
     ]
    }
   ],
   "source": [
    "# Get a list with all reflectance bands clipped on the ROI\n",
    "list_im_ROI = glob.glob(f'{clip_path}*_B*_ROI.tif')\n",
    "\n",
    "\n",
    "for im_file in list_im_ROI:\n",
    "    \n",
    "    # Get date of image\n",
    "    date = os.path.basename(im_file)[7:7+15]\n",
    "    \n",
    "    # Find SCL corresponding to the given reflectances image\n",
    "    scl_file = glob.glob(f'{clip_path}*{date}*SCL_10m_ROI.tif')[0]\n",
    "   \n",
    "    # Change \\\\ to / in path if you areworking on Windows\n",
    "    im_file  = im_file.replace('\\\\','/')\n",
    "    scl_file = scl_file.replace('\\\\','/')\n",
    "    \n",
    "    # Get filename (only basename without path!) and create a new file name\n",
    "    filename = os.path.basename(im_file)[:-4]\n",
    "    im_scl_file = f'{clip_scl_path}{filename}_SCL.tif'\n",
    "    \n",
    "    if not os.path.isfile(im_scl_file):\n",
    "\n",
    "        # Open reflectance image with rasterio and read it as a numpy array\n",
    "        im_src = rasterio.open(im_file, \"r\", driver='GTiff')\n",
    "        im = im_src.read(1)\n",
    "\n",
    "        # Open SCL image with rasterio and read it as a numpy array\n",
    "        scl_src = rasterio.open(scl_file, \"r\", driver='GTiff')\n",
    "        scl = scl_src.read(1)\n",
    "        \n",
    "        # Update profile informations with the new metadata\n",
    "        profile = scl_src.profile\n",
    "\n",
    "        profile.update(dtype=rasterio.int16,  # Set to int16 it is lighter than float\n",
    "                       count=1,               # We will write 1 band by file\n",
    "                       nodata=nodata_val,     # Set nodata value in metadata\n",
    "                       compress='lzw')        # Compression option)\n",
    "        \n",
    "        # Use SCL categorical values to mask invalid reflectance pixels\n",
    "        # -------------------------------------------------------------\n",
    "        \n",
    "        scl = scl.astype(float)  # Convert scl array to float to be able to use \"np.nan\"\n",
    "        \n",
    "        # Set nan to categories corresponding to invalid pixels\n",
    "        # Set 1 to categories corresponding to valid pixels\n",
    "        \n",
    "        # Be careful, you may have to change this! (e.g. if you are working on snow anomalies)\n",
    "\n",
    "        scl[scl == 0] = np.nan    # No data\n",
    "        scl[scl == 1] = np.nan    # Saturated or defective\n",
    "        scl[scl == 2] = np.nan    # Dark area pixels\n",
    "        scl[scl == 3] = np.nan    # Cloud shadows\n",
    "        scl[scl == 4] = 1         # Vegetation\n",
    "        scl[scl == 5] = 1         # Not vegetated\n",
    "        scl[scl == 6] = 1         # Water\n",
    "        scl[scl == 7] = 1         # Unclassified\n",
    "        scl[scl == 8] = np.nan    # Cloud medium probability\n",
    "        scl[scl == 9] = np.nan    # Cloud high probability\n",
    "        scl[scl == 10] = np.nan   # Thin cirrus\n",
    "        scl[scl == 11] = np.nan   # Snow\n",
    "        \n",
    "        im_scl = im*scl\n",
    "        im_scl[np.isnan(im_scl)] = nodata_val  # Change np.nan by -10000\n",
    "        \n",
    "        # Convert image type from float to integer16 to reduce storage\n",
    "        im_scl = im_scl.astype(np.int16)\n",
    "\n",
    "        # Write reflectance with no data values\n",
    "        im_scl_dst = rasterio.open(im_scl_file, \"w\", **profile)\n",
    "        im_scl_dst.write(im_scl, 1)\n",
    "\n",
    "        # Close all rasterio objects\n",
    "        im_src.close()\n",
    "        scl_src.close()\n",
    "        im_scl_dst.close()\n",
    "\n",
    "        print(f'A new raster with SCL is created : {im_scl_file}')\n",
    "    \n",
    "\n",
    "print(\"All your reflectances images with SCL are ready ! \")\n",
    "    "
   ]
  },
  {
   "source": [
    "## 3. Compute NDVI in your ROI at each date"
   ],
   "cell_type": "markdown",
   "metadata": {}
  },
  {
   "cell_type": "code",
   "execution_count": 11,
   "metadata": {},
   "outputs": [
    {
     "output_type": "stream",
     "name": "stdout",
     "text": [
      "All your NDVI images are ready ! \n"
     ]
    }
   ],
   "source": [
    "# Get a list with all reflectance bands clipped on the ROI\n",
    "list_im_red_ROI_SCL = glob.glob(f'{clip_scl_path}*_B04_10m_ROI_SCL.tif')\n",
    "\n",
    "# Suppress error message if we divide by NaN\n",
    "np.seterr(invalid='ignore')\n",
    "\n",
    "\n",
    "for im_file_red in list_im_red_ROI_SCL:\n",
    "    \n",
    "    im_file_nir = im_file_red.replace('B04','B08')\n",
    "\n",
    "    # Set the name of the new NDVI image based on the name of the RED image \n",
    "    im_file_ndvi = f'{ndvi_path}{os.path.basename(im_file_red).replace(\"B04\",\"NDVI\")}'\n",
    "\n",
    "    if not os.path.isfile(im_file_ndvi):\n",
    "\n",
    "        # Open RED band\n",
    "        red_src = rasterio.open(im_file_red, 'r')\n",
    "        red = red_src.read(1)\n",
    "\n",
    "        # Open NIR band\n",
    "        nir_src = rasterio.open(im_file_nir, 'r')\n",
    "        nir = nir_src.read(1)\n",
    "\n",
    "        #  Get a copy of the source dataset's profile\n",
    "        profile = red_src.profile\n",
    "\n",
    "        # Convert -10000 to np.nan before computing NDVI\n",
    "        red = red.astype(float)\n",
    "        red[red == nodata_val] = np.nan\n",
    "\n",
    "        nir = nir.astype(float)\n",
    "        nir[nir == nodata_val] = np.nan\n",
    "        \n",
    "        # Compute NDVI\n",
    "        NDVI = (nir - red) / (nir + red) * 1000\n",
    "        \n",
    "        # Convert np.nan to -10000 to be able to store the data in integer16 (int16)\n",
    "        NDVI[np.isnan(NDVI)] = nodata_val\n",
    "        NDVI = NDVI.astype(np.int16)\n",
    "\n",
    "        # Write NDVI image\n",
    "        dst = rasterio.open(im_file_ndvi, \"w\", **profile)\n",
    "        dst.write(NDVI,1)\n",
    "        \n",
    "        # Close all rasterio objects\n",
    "        nir_src.close()\n",
    "        red_src.close()\n",
    "        dst.close()\n",
    "\n",
    "        print(f'A new raster file is created : {im_file_ndvi}')\n",
    "\n",
    "print(\"All your NDVI images are ready ! \")\n"
   ]
  }
 ],
 "metadata": {
  "kernelspec": {
   "name": "python3610jvsc74a57bd0d44a822591a3717b24d3edf137db462f6168d56f0b857c252a9153258824edbd",
   "display_name": "Python 3.6.10 64-bit ('python_3_6': conda)"
  },
  "language_info": {
   "codemirror_mode": {
    "name": "ipython",
    "version": 3
   },
   "file_extension": ".py",
   "mimetype": "text/x-python",
   "name": "python",
   "nbconvert_exporter": "python",
   "pygments_lexer": "ipython3",
   "version": "3.6.10"
  }
 },
 "nbformat": 4,
 "nbformat_minor": 5
}