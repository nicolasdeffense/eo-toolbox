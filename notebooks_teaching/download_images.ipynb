{
 "cells": [
  {
   "cell_type": "markdown",
   "source": [
    "# Download images with `sentinelsat`\n",
    "\n",
    "\n",
    "The *Copernicus Open Access Hub* provides complete, free and open access to Sentinel-1, Sentinel-2, Sentinel-3 and Sentinel-5P user products.\n",
    "\n",
    "`sentinelsat` makes searching, downloading and retrieving the metadata of Sentinel satellite images from the Copernicus Open Access Hub easy.\n",
    "\n"
   ],
   "metadata": {}
  },
  {
   "cell_type": "code",
   "execution_count": 1,
   "source": [
    "import sentinelsat\n",
    "from sentinelsat import SentinelAPI, read_geojson, geojson_to_wkt\n",
    "from collections import OrderedDict\n",
    "from pathlib import Path\n",
    "from datetime import date\n",
    "import geopandas as gpd\n",
    "from IPython.display import display\n",
    "\n",
    "print(f'sentinelsat : {sentinelsat.__version__}')"
   ],
   "outputs": [
    {
     "output_type": "stream",
     "name": "stdout",
     "text": [
      "sentinelsat : 1.0.1\n"
     ]
    }
   ],
   "metadata": {}
  },
  {
   "cell_type": "markdown",
   "source": [
    "## Set directory"
   ],
   "metadata": {}
  },
  {
   "cell_type": "code",
   "execution_count": 2,
   "source": [
    "computer_path = '/Volumes/nbdid-sst-lbrat2104/'\n",
    "grp_letter    = 'N'\n",
    "\n",
    "# Directory for all work files\n",
    "work_path = f'{computer_path}GROUP_{grp_letter}/WORK/'\n",
    "\n",
    "roi_path = f'{work_path}ROI/'\n",
    "\n",
    "Path(roi_path).mkdir(parents=True, exist_ok=True)"
   ],
   "outputs": [],
   "metadata": {}
  },
  {
   "cell_type": "markdown",
   "source": [
    "## Set Region of Interest"
   ],
   "metadata": {}
  },
  {
   "cell_type": "code",
   "execution_count": 3,
   "source": [
    "roi_file      = f'{roi_path}extent_roi_32631.shp'\n",
    "roi_file_json = f'{roi_path}extent_roi_4326.geojson'\n",
    "\n",
    "print(f'ROI file : {roi_file}')\n",
    "\n",
    "# Convert to WGS 84 if needed\n",
    "\n",
    "roi_gdf = gpd.read_file(roi_file)\n",
    "\n",
    "if roi_gdf.crs != 'epsg:4326':\n",
    "    print(f'Old CRS : {roi_gdf.crs}')\n",
    "    \n",
    "    roi_gdf = roi_gdf.to_crs('epsg:4326')\n",
    "\n",
    "    print((f'New CRS : {roi_gdf.crs}'))\n",
    "\n",
    "\n",
    "# Write ROI file in GeoJSON format\n",
    "\n",
    "roi_gdf.to_file(roi_file_json,  driver='GeoJSON')\n"
   ],
   "outputs": [
    {
     "output_type": "stream",
     "name": "stdout",
     "text": [
      "ROI file : /Volumes/nbdid-sst-lbrat2104/GROUP_N/WORK/ROI/extent_roi_32631.shp\n",
      "Old CRS : epsg:32631\n",
      "New CRS : epsg:4326\n"
     ]
    }
   ],
   "metadata": {}
  },
  {
   "cell_type": "markdown",
   "source": [
    "## Authentification\n",
    "\n",
    "The Copernicus Open Access Hub and probably most Data Hubs require authentication.\n",
    "\n",
    "You can provide your credentials with **SentinelAPI(your username , your password)**\n"
   ],
   "metadata": {}
  },
  {
   "cell_type": "code",
   "execution_count": 4,
   "source": [
    "user     = 'ndeffense'\n",
    "password = 'lbrat2104'\n",
    "\n",
    "# Connect to the API\n",
    "\n",
    "api = SentinelAPI(user, password)"
   ],
   "outputs": [],
   "metadata": {}
  },
  {
   "cell_type": "markdown",
   "source": [
    "## Sorting & Filtering\n",
    "\n",
    "In addition to the *search query keywords* sentinelsat allows filtering and sorting of search results before download. To simplify these operations sentinelsat offers the convenience functions `to_geojson()`, `to_dataframe()` and `to_geodataframe()` which return the search results as a GeoJSON object, Pandas DataFrame or a GeoPandas GeoDataFrame, respectively. `to_dataframe()` and `to_geodataframe()` require pandas and geopandas to be installed, respectively.\n",
    "\n",
    "In this example we query Sentinel-2 scenes over a location and convert the query results to a Pandas DataFrame. The DataFrame is then sorted by cloud cover and ingestion date. We limit the query to first 5 results within our timespan and download them, starting with the least cloudy scene. Filtering can be done with all data types, as long as you pass the id to the download function."
   ],
   "metadata": {}
  },
  {
   "cell_type": "code",
   "execution_count": 22,
   "source": [
    "start_date    = date(2018, 8, 25)\n",
    "end_date      = date(2018, 8, 27)\n",
    "\n",
    "dates = (start_date, end_date)\n",
    "\n",
    "platform_name = 'Sentinel-2'\n",
    "\n",
    "# Sentinel-2\n",
    "s2_level      = 'Level-1C'\n",
    "product_type  = 'S2MSI1C'\n",
    "cloud_cover   = (0,90)\n",
    "s2_tile       = '31UFS'\n",
    "\n",
    "# Sentinel-1\n",
    "polarisation_mode =  'VV VH'"
   ],
   "outputs": [],
   "metadata": {}
  },
  {
   "cell_type": "code",
   "execution_count": 23,
   "source": [
    "# Search by polygon, time, and SciHub query keywords\n",
    "\n",
    "footprint = geojson_to_wkt(read_geojson(roi_file_json))\n",
    "\n",
    "if platform_name == 'Sentinel-2':\n",
    "\n",
    "    products = api.query(footprint,\n",
    "                        date = dates,\n",
    "                        platformname = platform_name,\n",
    "                        processinglevel = s2_level,\n",
    "                        producttype = product_type,\n",
    "                        cloudcoverpercentage = cloud_cover)\n",
    "\n",
    "\n",
    "# convert to Pandas DataFrame\n",
    "products_df = api.to_dataframe(products)\n",
    "\n",
    "# sort and limit to first 5 sorted products\n",
    "\n",
    "products_df_sorted = products_df.sort_values(['cloudcoverpercentage', 'ingestiondate'], ascending=[True, True])\n",
    "#products_df_sorted = products_df_sorted[['cloudcoverpercentage','ingestiondate']]\n",
    "\n",
    "products_df = products_df[products_df['title'].str.contains(s2_tile)]\n",
    "\n",
    "#display(products_df_sorted.columns)\n",
    "\n",
    "\n",
    "display(products_df)\n",
    "\n",
    "\n",
    "#products_df_sorted = products_df_sorted[0:1][0:1]\n",
    "\n",
    "products_df_sorted = products_df_sorted[0:1]['filename']\n",
    "\n",
    "print(products_df_sorted)\n"
   ],
   "outputs": [
    {
     "output_type": "display_data",
     "data": {
      "text/html": [
       "<div>\n",
       "<style scoped>\n",
       "    .dataframe tbody tr th:only-of-type {\n",
       "        vertical-align: middle;\n",
       "    }\n",
       "\n",
       "    .dataframe tbody tr th {\n",
       "        vertical-align: top;\n",
       "    }\n",
       "\n",
       "    .dataframe thead th {\n",
       "        text-align: right;\n",
       "    }\n",
       "</style>\n",
       "<table border=\"1\" class=\"dataframe\">\n",
       "  <thead>\n",
       "    <tr style=\"text-align: right;\">\n",
       "      <th></th>\n",
       "      <th>title</th>\n",
       "      <th>link</th>\n",
       "      <th>link_alternative</th>\n",
       "      <th>link_icon</th>\n",
       "      <th>summary</th>\n",
       "      <th>ondemand</th>\n",
       "      <th>datatakesensingstart</th>\n",
       "      <th>beginposition</th>\n",
       "      <th>endposition</th>\n",
       "      <th>ingestiondate</th>\n",
       "      <th>...</th>\n",
       "      <th>producttype</th>\n",
       "      <th>platformidentifier</th>\n",
       "      <th>orbitdirection</th>\n",
       "      <th>platformserialidentifier</th>\n",
       "      <th>processinglevel</th>\n",
       "      <th>identifier</th>\n",
       "      <th>uuid</th>\n",
       "      <th>level1cpdiidentifier</th>\n",
       "      <th>granuleidentifier</th>\n",
       "      <th>datastripidentifier</th>\n",
       "    </tr>\n",
       "  </thead>\n",
       "  <tbody>\n",
       "    <tr>\n",
       "      <th>0e24fb26-bbcf-4af8-af52-51eea7505a2e</th>\n",
       "      <td>S2A_MSIL1C_20180826T104021_N0206_R008_T31UFS_2...</td>\n",
       "      <td>https://apihub.copernicus.eu/apihub/odata/v1/P...</td>\n",
       "      <td>https://apihub.copernicus.eu/apihub/odata/v1/P...</td>\n",
       "      <td>https://apihub.copernicus.eu/apihub/odata/v1/P...</td>\n",
       "      <td>Date: 2018-08-26T10:40:21.024Z, Instrument: MS...</td>\n",
       "      <td>false</td>\n",
       "      <td>2018-08-26 10:40:21.024</td>\n",
       "      <td>2018-08-26 10:40:21.024</td>\n",
       "      <td>2018-08-26 10:40:21.024</td>\n",
       "      <td>2018-08-26 16:57:16.717</td>\n",
       "      <td>...</td>\n",
       "      <td>S2MSI1C</td>\n",
       "      <td>2015-028A</td>\n",
       "      <td>DESCENDING</td>\n",
       "      <td>Sentinel-2A</td>\n",
       "      <td>Level-1C</td>\n",
       "      <td>S2A_MSIL1C_20180826T104021_N0206_R008_T31UFS_2...</td>\n",
       "      <td>0e24fb26-bbcf-4af8-af52-51eea7505a2e</td>\n",
       "      <td>S2A_OPER_MSI_L1C_TL_MPS__20180826T125219_A0165...</td>\n",
       "      <td>S2A_OPER_MSI_L1C_TL_MPS__20180826T125219_A0165...</td>\n",
       "      <td>S2A_OPER_MSI_L1C_DS_MPS__20180826T125219_S2018...</td>\n",
       "    </tr>\n",
       "  </tbody>\n",
       "</table>\n",
       "<p>1 rows × 36 columns</p>\n",
       "</div>"
      ],
      "text/plain": [
       "                                                                                  title  \\\n",
       "0e24fb26-bbcf-4af8-af52-51eea7505a2e  S2A_MSIL1C_20180826T104021_N0206_R008_T31UFS_2...   \n",
       "\n",
       "                                                                                   link  \\\n",
       "0e24fb26-bbcf-4af8-af52-51eea7505a2e  https://apihub.copernicus.eu/apihub/odata/v1/P...   \n",
       "\n",
       "                                                                       link_alternative  \\\n",
       "0e24fb26-bbcf-4af8-af52-51eea7505a2e  https://apihub.copernicus.eu/apihub/odata/v1/P...   \n",
       "\n",
       "                                                                              link_icon  \\\n",
       "0e24fb26-bbcf-4af8-af52-51eea7505a2e  https://apihub.copernicus.eu/apihub/odata/v1/P...   \n",
       "\n",
       "                                                                                summary  \\\n",
       "0e24fb26-bbcf-4af8-af52-51eea7505a2e  Date: 2018-08-26T10:40:21.024Z, Instrument: MS...   \n",
       "\n",
       "                                     ondemand    datatakesensingstart  \\\n",
       "0e24fb26-bbcf-4af8-af52-51eea7505a2e    false 2018-08-26 10:40:21.024   \n",
       "\n",
       "                                               beginposition  \\\n",
       "0e24fb26-bbcf-4af8-af52-51eea7505a2e 2018-08-26 10:40:21.024   \n",
       "\n",
       "                                                 endposition  \\\n",
       "0e24fb26-bbcf-4af8-af52-51eea7505a2e 2018-08-26 10:40:21.024   \n",
       "\n",
       "                                               ingestiondate  ...  \\\n",
       "0e24fb26-bbcf-4af8-af52-51eea7505a2e 2018-08-26 16:57:16.717  ...   \n",
       "\n",
       "                                      producttype  platformidentifier  \\\n",
       "0e24fb26-bbcf-4af8-af52-51eea7505a2e      S2MSI1C           2015-028A   \n",
       "\n",
       "                                      orbitdirection platformserialidentifier  \\\n",
       "0e24fb26-bbcf-4af8-af52-51eea7505a2e      DESCENDING              Sentinel-2A   \n",
       "\n",
       "                                     processinglevel  \\\n",
       "0e24fb26-bbcf-4af8-af52-51eea7505a2e        Level-1C   \n",
       "\n",
       "                                                                             identifier  \\\n",
       "0e24fb26-bbcf-4af8-af52-51eea7505a2e  S2A_MSIL1C_20180826T104021_N0206_R008_T31UFS_2...   \n",
       "\n",
       "                                                                      uuid  \\\n",
       "0e24fb26-bbcf-4af8-af52-51eea7505a2e  0e24fb26-bbcf-4af8-af52-51eea7505a2e   \n",
       "\n",
       "                                                                   level1cpdiidentifier  \\\n",
       "0e24fb26-bbcf-4af8-af52-51eea7505a2e  S2A_OPER_MSI_L1C_TL_MPS__20180826T125219_A0165...   \n",
       "\n",
       "                                                                      granuleidentifier  \\\n",
       "0e24fb26-bbcf-4af8-af52-51eea7505a2e  S2A_OPER_MSI_L1C_TL_MPS__20180826T125219_A0165...   \n",
       "\n",
       "                                                                    datastripidentifier  \n",
       "0e24fb26-bbcf-4af8-af52-51eea7505a2e  S2A_OPER_MSI_L1C_DS_MPS__20180826T125219_S2018...  \n",
       "\n",
       "[1 rows x 36 columns]"
      ]
     },
     "metadata": {}
    },
    {
     "output_type": "stream",
     "name": "stdout",
     "text": [
      "71fb445a-3f76-4ff1-a819-4ea4452dfaeb    S2A_MSIL1C_20180826T104021_N0206_R008_T31UES_2...\n",
      "Name: filename, dtype: object\n"
     ]
    }
   ],
   "metadata": {}
  },
  {
   "cell_type": "code",
   "execution_count": 24,
   "source": [
    "# download sorted and reduced products\n",
    "\n",
    "api.download_all(products_df_sorted.index)\n",
    "\n",
    "#api.download_all(['96b88d4d-216d-4451-a7f5-038296e58034\t'])"
   ],
   "outputs": [
    {
     "output_type": "stream",
     "name": "stderr",
     "text": [
      "Fetching archival status: 100%|██████████| 1/1 [00:00<00:00,  1.11 products/s]\n"
     ]
    },
    {
     "output_type": "execute_result",
     "data": {
      "text/plain": [
       "ResultTuple(downloaded={}, retrieval_triggered={'71fb445a-3f76-4ff1-a819-4ea4452dfaeb': {'id': '71fb445a-3f76-4ff1-a819-4ea4452dfaeb', 'title': 'S2A_MSIL1C_20180826T104021_N0206_R008_T31UES_20180826T125219', 'size': 174376297, 'md5': '42EF146D051F399B970CBE6EDA6481C9', 'date': datetime.datetime(2018, 8, 26, 10, 40, 21, 24000), 'footprint': 'POLYGON((4.066065964389006 50.45671446498236,4.097963501108383 50.53670821564332,4.156231340156582 50.68263118874896,4.214817201303932 50.82849148370492,4.273792905856817 50.974334620142365,4.333128373837741 51.12016825845845,4.392764835675447 51.266066533716206,4.453096478039404 51.41195894441646,4.465299057889804 51.44131066874662,4.579544021469633 51.44054116582309,4.546436441462649 50.453523278919015,4.066065964389006 50.45671446498236))', 'url': \"https://apihub.copernicus.eu/apihub/odata/v1/Products('71fb445a-3f76-4ff1-a819-4ea4452dfaeb')/$value\", 'Online': False, 'Creation Date': datetime.datetime(2018, 8, 26, 16, 48, 38, 842000), 'Ingestion Date': datetime.datetime(2018, 8, 26, 16, 45, 13, 443000), 'quicklook_url': \"https://apihub.copernicus.eu/apihub/odata/v1/Products('71fb445a-3f76-4ff1-a819-4ea4452dfaeb')/Products('Quicklook')/$value\"}}, failed={})"
      ]
     },
     "metadata": {},
     "execution_count": 24
    }
   ],
   "metadata": {}
  },
  {
   "cell_type": "code",
   "execution_count": null,
   "source": [
    "footprint = geojson_to_wkt(read_geojson('search_polygon.geojson'))\n",
    "\n",
    "products = api.query(footprint,\n",
    "                     producttype='SLC',\n",
    "                     orbitdirection='ASCENDING',\n",
    "                     limit=10)\n",
    "\n",
    "api.download_all(products)"
   ],
   "outputs": [],
   "metadata": {}
  },
  {
   "cell_type": "code",
   "execution_count": 33,
   "source": [
    "tiles = ['33VUC', '33UUB']\n",
    "\n",
    "query_kwargs = {\n",
    "        'platformname': platform_name,\n",
    "        'producttype': product_type,\n",
    "        'date': dates}\n",
    "\n",
    "products = OrderedDict()\n",
    "for tile in tiles:\n",
    "    kw = query_kwargs.copy()\n",
    "    kw['tileid'] = tile\n",
    "    pp = api.query(**kw)\n",
    "    products.update(pp)\n",
    "\n",
    "print(products)"
   ],
   "outputs": [
    {
     "output_type": "stream",
     "name": "stdout",
     "text": [
      "OrderedDict()\n"
     ]
    }
   ],
   "metadata": {}
  },
  {
   "cell_type": "code",
   "execution_count": null,
   "source": [],
   "outputs": [],
   "metadata": {}
  }
 ],
 "metadata": {
  "orig_nbformat": 4,
  "language_info": {
   "name": "python",
   "version": "3.6.10",
   "mimetype": "text/x-python",
   "codemirror_mode": {
    "name": "ipython",
    "version": 3
   },
   "pygments_lexer": "ipython3",
   "nbconvert_exporter": "python",
   "file_extension": ".py"
  },
  "kernelspec": {
   "name": "python3",
   "display_name": "Python 3.6.10 64-bit ('python_3_6': conda)"
  },
  "interpreter": {
   "hash": "d44a822591a3717b24d3edf137db462f6168d56f0b857c252a9153258824edbd"
  }
 },
 "nbformat": 4,
 "nbformat_minor": 2
}