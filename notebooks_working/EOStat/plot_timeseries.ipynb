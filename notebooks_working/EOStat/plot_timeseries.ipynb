{
 "cells": [
  {
   "cell_type": "code",
   "execution_count": 1,
   "metadata": {},
   "outputs": [],
   "source": [
    "import os, glob, sys\n",
    "import pandas as pd\n",
    "import geopandas as gpd\n",
    "import plotly.express as px\n",
    "import numpy as np\n",
    "\n",
    "git_path = '/export/miro/ndeffense/'\n",
    "\n",
    "sys.path.insert(0, f'{git_path}CODE/enge/projects/Sen4Stat/WORKFLOWS/')\n",
    "\n",
    "import timeseries_functions\n"
   ]
  },
  {
   "cell_type": "markdown",
   "metadata": {},
   "source": [
    "# Input / Output"
   ]
  },
  {
   "cell_type": "code",
   "execution_count": 2,
   "metadata": {},
   "outputs": [
    {
     "name": "stdout",
     "output_type": "stream",
     "text": [
      "/export/projects/Sen4Stat/WORK/FEATURES/SITE_41/06-01_11-15/SAMPLING_DESIGN_V25/SEN_2021_SITE_41_buf_0_LC_all_EXTENT_wall_to_wall_SEG_RATIO_100_LEVEL_grp_1_SD_25_FEAT_2.sqlite\n"
     ]
    }
   ],
   "source": [
    "opath = '/export/projects/Sen4Stat/WORK/'\n",
    "site_nb = '41'\n",
    "\n",
    "db_file = f'{opath}FEATURES/SITE_41/06-01_11-15/SAMPLING_DESIGN_V25/SEN_2021_SITE_41_buf_0_LC_all_EXTENT_wall_to_wall_SEG_RATIO_100_LEVEL_grp_1_SD_25_FEAT_2.sqlite'\n",
    "print(db_file)\n",
    "opath_TS_TRUE = f'{opath}TIMESERIES/SITE_41/SAMPLING_DESIGN_V25/TRUE/'\n",
    "\n",
    "crop_lut = '/export/projects/Sen4Stat/WORK/LUT/crop_dictionary_new.xlsx'\n",
    "\n",
    "crop_code_field = 'grp_1_nb'\n",
    "crop_name_field = crop_code_field[:-3]\n",
    "col_type        = 'ndvi'"
   ]
  },
  {
   "cell_type": "markdown",
   "metadata": {},
   "source": [
    "# Timeseries"
   ]
  },
  {
   "cell_type": "code",
   "execution_count": 26,
   "metadata": {},
   "outputs": [
    {
     "name": "stdout",
     "output_type": "stream",
     "text": [
      "features_2\n",
      "['point_id', '0601_ndvi', '0611_ndvi', '0621_ndvi', '0701_ndvi', '0711_ndvi', '0721_ndvi', '0731_ndvi', '0810_ndvi', '0820_ndvi', '0830_ndvi', '0909_ndvi', '0919_ndvi', '0929_ndvi', '1009_ndvi', '1019_ndvi', '1029_ndvi', '1108_ndvi']\n",
      "['point_id', '060121', '061121', '062121', '070121', '071121', '072121', '073121', '081021', '082021', '083021', '090921', '091921', '092921', '100921', '101921', '102921', '110821']\n"
     ]
    },
    {
     "data": {
      "text/html": [
       "<div>\n",
       "<style scoped>\n",
       "    .dataframe tbody tr th:only-of-type {\n",
       "        vertical-align: middle;\n",
       "    }\n",
       "\n",
       "    .dataframe tbody tr th {\n",
       "        vertical-align: top;\n",
       "    }\n",
       "\n",
       "    .dataframe thead th {\n",
       "        text-align: right;\n",
       "    }\n",
       "</style>\n",
       "<table border=\"1\" class=\"dataframe\">\n",
       "  <thead>\n",
       "    <tr style=\"text-align: right;\">\n",
       "      <th>point_id</th>\n",
       "      <th>10413</th>\n",
       "      <th>36</th>\n",
       "      <th>843</th>\n",
       "      <th>10481</th>\n",
       "      <th>9731</th>\n",
       "      <th>795</th>\n",
       "      <th>264</th>\n",
       "      <th>108</th>\n",
       "      <th>9986</th>\n",
       "      <th>574</th>\n",
       "      <th>...</th>\n",
       "      <th>31</th>\n",
       "      <th>9904</th>\n",
       "      <th>507</th>\n",
       "      <th>10312</th>\n",
       "      <th>37</th>\n",
       "      <th>694</th>\n",
       "      <th>10380</th>\n",
       "      <th>9961</th>\n",
       "      <th>10141</th>\n",
       "      <th>10172</th>\n",
       "    </tr>\n",
       "  </thead>\n",
       "  <tbody>\n",
       "    <tr>\n",
       "      <th>2021-06-01</th>\n",
       "      <td>NaN</td>\n",
       "      <td>0.110</td>\n",
       "      <td>0.123</td>\n",
       "      <td>NaN</td>\n",
       "      <td>NaN</td>\n",
       "      <td>0.130</td>\n",
       "      <td>0.101</td>\n",
       "      <td>NaN</td>\n",
       "      <td>NaN</td>\n",
       "      <td>NaN</td>\n",
       "      <td>...</td>\n",
       "      <td>0.102</td>\n",
       "      <td>NaN</td>\n",
       "      <td>NaN</td>\n",
       "      <td>NaN</td>\n",
       "      <td>0.111</td>\n",
       "      <td>NaN</td>\n",
       "      <td>NaN</td>\n",
       "      <td>NaN</td>\n",
       "      <td>NaN</td>\n",
       "      <td>NaN</td>\n",
       "    </tr>\n",
       "    <tr>\n",
       "      <th>2021-06-11</th>\n",
       "      <td>0.084</td>\n",
       "      <td>0.096</td>\n",
       "      <td>0.127</td>\n",
       "      <td>0.097</td>\n",
       "      <td>0.119</td>\n",
       "      <td>0.130</td>\n",
       "      <td>0.108</td>\n",
       "      <td>0.104</td>\n",
       "      <td>0.102</td>\n",
       "      <td>0.092</td>\n",
       "      <td>...</td>\n",
       "      <td>0.102</td>\n",
       "      <td>0.095</td>\n",
       "      <td>0.099</td>\n",
       "      <td>0.110</td>\n",
       "      <td>0.105</td>\n",
       "      <td>0.088</td>\n",
       "      <td>0.125</td>\n",
       "      <td>0.104</td>\n",
       "      <td>0.103</td>\n",
       "      <td>0.098</td>\n",
       "    </tr>\n",
       "    <tr>\n",
       "      <th>2021-06-21</th>\n",
       "      <td>0.090</td>\n",
       "      <td>0.080</td>\n",
       "      <td>0.125</td>\n",
       "      <td>0.086</td>\n",
       "      <td>0.120</td>\n",
       "      <td>0.131</td>\n",
       "      <td>0.103</td>\n",
       "      <td>0.106</td>\n",
       "      <td>0.092</td>\n",
       "      <td>0.088</td>\n",
       "      <td>...</td>\n",
       "      <td>0.077</td>\n",
       "      <td>0.087</td>\n",
       "      <td>0.095</td>\n",
       "      <td>0.108</td>\n",
       "      <td>0.080</td>\n",
       "      <td>0.087</td>\n",
       "      <td>0.118</td>\n",
       "      <td>0.097</td>\n",
       "      <td>0.104</td>\n",
       "      <td>0.094</td>\n",
       "    </tr>\n",
       "    <tr>\n",
       "      <th>2021-07-01</th>\n",
       "      <td>0.080</td>\n",
       "      <td>0.098</td>\n",
       "      <td>0.138</td>\n",
       "      <td>0.087</td>\n",
       "      <td>0.110</td>\n",
       "      <td>0.151</td>\n",
       "      <td>0.104</td>\n",
       "      <td>0.129</td>\n",
       "      <td>0.094</td>\n",
       "      <td>0.102</td>\n",
       "      <td>...</td>\n",
       "      <td>0.111</td>\n",
       "      <td>0.086</td>\n",
       "      <td>0.118</td>\n",
       "      <td>0.099</td>\n",
       "      <td>0.098</td>\n",
       "      <td>0.108</td>\n",
       "      <td>0.123</td>\n",
       "      <td>0.093</td>\n",
       "      <td>0.103</td>\n",
       "      <td>0.103</td>\n",
       "    </tr>\n",
       "    <tr>\n",
       "      <th>2021-07-11</th>\n",
       "      <td>0.124</td>\n",
       "      <td>0.106</td>\n",
       "      <td>0.137</td>\n",
       "      <td>0.123</td>\n",
       "      <td>0.156</td>\n",
       "      <td>0.151</td>\n",
       "      <td>0.114</td>\n",
       "      <td>0.131</td>\n",
       "      <td>0.153</td>\n",
       "      <td>0.184</td>\n",
       "      <td>...</td>\n",
       "      <td>0.098</td>\n",
       "      <td>0.142</td>\n",
       "      <td>0.185</td>\n",
       "      <td>0.155</td>\n",
       "      <td>0.106</td>\n",
       "      <td>0.129</td>\n",
       "      <td>0.155</td>\n",
       "      <td>0.137</td>\n",
       "      <td>0.152</td>\n",
       "      <td>0.137</td>\n",
       "    </tr>\n",
       "    <tr>\n",
       "      <th>2021-07-21</th>\n",
       "      <td>0.132</td>\n",
       "      <td>0.127</td>\n",
       "      <td>0.147</td>\n",
       "      <td>0.147</td>\n",
       "      <td>0.213</td>\n",
       "      <td>0.156</td>\n",
       "      <td>0.144</td>\n",
       "      <td>0.202</td>\n",
       "      <td>0.305</td>\n",
       "      <td>0.337</td>\n",
       "      <td>...</td>\n",
       "      <td>0.127</td>\n",
       "      <td>0.142</td>\n",
       "      <td>0.322</td>\n",
       "      <td>0.202</td>\n",
       "      <td>0.125</td>\n",
       "      <td>0.170</td>\n",
       "      <td>0.162</td>\n",
       "      <td>0.266</td>\n",
       "      <td>0.197</td>\n",
       "      <td>0.175</td>\n",
       "    </tr>\n",
       "    <tr>\n",
       "      <th>2021-07-31</th>\n",
       "      <td>0.178</td>\n",
       "      <td>0.147</td>\n",
       "      <td>0.152</td>\n",
       "      <td>0.208</td>\n",
       "      <td>0.228</td>\n",
       "      <td>0.242</td>\n",
       "      <td>0.218</td>\n",
       "      <td>0.260</td>\n",
       "      <td>0.217</td>\n",
       "      <td>0.430</td>\n",
       "      <td>...</td>\n",
       "      <td>0.136</td>\n",
       "      <td>0.157</td>\n",
       "      <td>0.514</td>\n",
       "      <td>0.140</td>\n",
       "      <td>0.147</td>\n",
       "      <td>0.127</td>\n",
       "      <td>0.179</td>\n",
       "      <td>0.209</td>\n",
       "      <td>0.217</td>\n",
       "      <td>0.172</td>\n",
       "    </tr>\n",
       "    <tr>\n",
       "      <th>2021-08-10</th>\n",
       "      <td>0.233</td>\n",
       "      <td>0.271</td>\n",
       "      <td>0.219</td>\n",
       "      <td>0.296</td>\n",
       "      <td>0.225</td>\n",
       "      <td>0.412</td>\n",
       "      <td>0.368</td>\n",
       "      <td>0.325</td>\n",
       "      <td>0.323</td>\n",
       "      <td>0.524</td>\n",
       "      <td>...</td>\n",
       "      <td>0.232</td>\n",
       "      <td>0.291</td>\n",
       "      <td>0.704</td>\n",
       "      <td>0.180</td>\n",
       "      <td>0.277</td>\n",
       "      <td>0.226</td>\n",
       "      <td>0.236</td>\n",
       "      <td>0.337</td>\n",
       "      <td>0.395</td>\n",
       "      <td>0.289</td>\n",
       "    </tr>\n",
       "    <tr>\n",
       "      <th>2021-08-20</th>\n",
       "      <td>0.350</td>\n",
       "      <td>0.341</td>\n",
       "      <td>0.190</td>\n",
       "      <td>0.411</td>\n",
       "      <td>0.316</td>\n",
       "      <td>0.549</td>\n",
       "      <td>0.488</td>\n",
       "      <td>0.457</td>\n",
       "      <td>NaN</td>\n",
       "      <td>0.596</td>\n",
       "      <td>...</td>\n",
       "      <td>0.315</td>\n",
       "      <td>0.407</td>\n",
       "      <td>0.724</td>\n",
       "      <td>0.231</td>\n",
       "      <td>0.360</td>\n",
       "      <td>0.323</td>\n",
       "      <td>0.367</td>\n",
       "      <td>NaN</td>\n",
       "      <td>0.478</td>\n",
       "      <td>0.378</td>\n",
       "    </tr>\n",
       "    <tr>\n",
       "      <th>2021-08-30</th>\n",
       "      <td>0.490</td>\n",
       "      <td>0.453</td>\n",
       "      <td>0.332</td>\n",
       "      <td>0.535</td>\n",
       "      <td>0.433</td>\n",
       "      <td>0.736</td>\n",
       "      <td>0.531</td>\n",
       "      <td>0.602</td>\n",
       "      <td>NaN</td>\n",
       "      <td>0.654</td>\n",
       "      <td>...</td>\n",
       "      <td>0.449</td>\n",
       "      <td>0.512</td>\n",
       "      <td>0.700</td>\n",
       "      <td>0.291</td>\n",
       "      <td>0.472</td>\n",
       "      <td>0.434</td>\n",
       "      <td>0.527</td>\n",
       "      <td>NaN</td>\n",
       "      <td>0.536</td>\n",
       "      <td>0.467</td>\n",
       "    </tr>\n",
       "    <tr>\n",
       "      <th>2021-09-09</th>\n",
       "      <td>0.610</td>\n",
       "      <td>0.660</td>\n",
       "      <td>0.387</td>\n",
       "      <td>0.631</td>\n",
       "      <td>0.597</td>\n",
       "      <td>0.778</td>\n",
       "      <td>0.591</td>\n",
       "      <td>0.707</td>\n",
       "      <td>NaN</td>\n",
       "      <td>0.724</td>\n",
       "      <td>...</td>\n",
       "      <td>0.624</td>\n",
       "      <td>0.690</td>\n",
       "      <td>0.745</td>\n",
       "      <td>0.339</td>\n",
       "      <td>0.686</td>\n",
       "      <td>0.581</td>\n",
       "      <td>0.702</td>\n",
       "      <td>NaN</td>\n",
       "      <td>0.626</td>\n",
       "      <td>0.566</td>\n",
       "    </tr>\n",
       "    <tr>\n",
       "      <th>2021-09-19</th>\n",
       "      <td>0.685</td>\n",
       "      <td>0.619</td>\n",
       "      <td>0.451</td>\n",
       "      <td>0.654</td>\n",
       "      <td>0.619</td>\n",
       "      <td>0.649</td>\n",
       "      <td>0.593</td>\n",
       "      <td>0.589</td>\n",
       "      <td>NaN</td>\n",
       "      <td>0.635</td>\n",
       "      <td>...</td>\n",
       "      <td>0.619</td>\n",
       "      <td>0.644</td>\n",
       "      <td>0.657</td>\n",
       "      <td>0.336</td>\n",
       "      <td>0.632</td>\n",
       "      <td>0.631</td>\n",
       "      <td>0.688</td>\n",
       "      <td>NaN</td>\n",
       "      <td>0.571</td>\n",
       "      <td>0.535</td>\n",
       "    </tr>\n",
       "    <tr>\n",
       "      <th>2021-09-29</th>\n",
       "      <td>0.685</td>\n",
       "      <td>0.643</td>\n",
       "      <td>0.541</td>\n",
       "      <td>0.661</td>\n",
       "      <td>0.591</td>\n",
       "      <td>0.711</td>\n",
       "      <td>0.588</td>\n",
       "      <td>0.588</td>\n",
       "      <td>0.509</td>\n",
       "      <td>0.600</td>\n",
       "      <td>...</td>\n",
       "      <td>0.630</td>\n",
       "      <td>0.601</td>\n",
       "      <td>0.632</td>\n",
       "      <td>0.395</td>\n",
       "      <td>0.658</td>\n",
       "      <td>0.660</td>\n",
       "      <td>0.675</td>\n",
       "      <td>0.558</td>\n",
       "      <td>0.519</td>\n",
       "      <td>0.502</td>\n",
       "    </tr>\n",
       "    <tr>\n",
       "      <th>2021-10-09</th>\n",
       "      <td>0.633</td>\n",
       "      <td>0.544</td>\n",
       "      <td>0.569</td>\n",
       "      <td>0.639</td>\n",
       "      <td>0.524</td>\n",
       "      <td>0.597</td>\n",
       "      <td>0.601</td>\n",
       "      <td>0.547</td>\n",
       "      <td>0.515</td>\n",
       "      <td>0.579</td>\n",
       "      <td>...</td>\n",
       "      <td>0.543</td>\n",
       "      <td>0.544</td>\n",
       "      <td>0.622</td>\n",
       "      <td>0.436</td>\n",
       "      <td>0.565</td>\n",
       "      <td>0.648</td>\n",
       "      <td>0.612</td>\n",
       "      <td>0.564</td>\n",
       "      <td>0.457</td>\n",
       "      <td>0.436</td>\n",
       "    </tr>\n",
       "    <tr>\n",
       "      <th>2021-10-19</th>\n",
       "      <td>0.525</td>\n",
       "      <td>0.477</td>\n",
       "      <td>0.551</td>\n",
       "      <td>0.561</td>\n",
       "      <td>0.436</td>\n",
       "      <td>0.640</td>\n",
       "      <td>0.515</td>\n",
       "      <td>0.518</td>\n",
       "      <td>0.446</td>\n",
       "      <td>0.526</td>\n",
       "      <td>...</td>\n",
       "      <td>0.474</td>\n",
       "      <td>0.424</td>\n",
       "      <td>0.564</td>\n",
       "      <td>0.413</td>\n",
       "      <td>0.495</td>\n",
       "      <td>0.520</td>\n",
       "      <td>0.490</td>\n",
       "      <td>0.478</td>\n",
       "      <td>0.399</td>\n",
       "      <td>0.370</td>\n",
       "    </tr>\n",
       "    <tr>\n",
       "      <th>2021-10-29</th>\n",
       "      <td>0.453</td>\n",
       "      <td>0.454</td>\n",
       "      <td>0.379</td>\n",
       "      <td>0.476</td>\n",
       "      <td>0.329</td>\n",
       "      <td>0.559</td>\n",
       "      <td>0.360</td>\n",
       "      <td>0.442</td>\n",
       "      <td>0.387</td>\n",
       "      <td>0.507</td>\n",
       "      <td>...</td>\n",
       "      <td>0.466</td>\n",
       "      <td>0.373</td>\n",
       "      <td>0.530</td>\n",
       "      <td>0.335</td>\n",
       "      <td>0.469</td>\n",
       "      <td>0.453</td>\n",
       "      <td>0.412</td>\n",
       "      <td>0.414</td>\n",
       "      <td>0.343</td>\n",
       "      <td>0.314</td>\n",
       "    </tr>\n",
       "    <tr>\n",
       "      <th>2021-11-08</th>\n",
       "      <td>0.380</td>\n",
       "      <td>0.270</td>\n",
       "      <td>0.276</td>\n",
       "      <td>0.387</td>\n",
       "      <td>0.243</td>\n",
       "      <td>0.399</td>\n",
       "      <td>0.190</td>\n",
       "      <td>0.369</td>\n",
       "      <td>0.319</td>\n",
       "      <td>0.487</td>\n",
       "      <td>...</td>\n",
       "      <td>0.266</td>\n",
       "      <td>0.324</td>\n",
       "      <td>0.493</td>\n",
       "      <td>0.265</td>\n",
       "      <td>0.262</td>\n",
       "      <td>0.379</td>\n",
       "      <td>0.333</td>\n",
       "      <td>0.308</td>\n",
       "      <td>0.303</td>\n",
       "      <td>0.268</td>\n",
       "    </tr>\n",
       "  </tbody>\n",
       "</table>\n",
       "<p>17 rows × 100 columns</p>\n",
       "</div>"
      ],
      "text/plain": [
       "point_id    10413  36     843    10481  9731   795    264    108    9986   \\\n",
       "2021-06-01    NaN  0.110  0.123    NaN    NaN  0.130  0.101    NaN    NaN   \n",
       "2021-06-11  0.084  0.096  0.127  0.097  0.119  0.130  0.108  0.104  0.102   \n",
       "2021-06-21  0.090  0.080  0.125  0.086  0.120  0.131  0.103  0.106  0.092   \n",
       "2021-07-01  0.080  0.098  0.138  0.087  0.110  0.151  0.104  0.129  0.094   \n",
       "2021-07-11  0.124  0.106  0.137  0.123  0.156  0.151  0.114  0.131  0.153   \n",
       "2021-07-21  0.132  0.127  0.147  0.147  0.213  0.156  0.144  0.202  0.305   \n",
       "2021-07-31  0.178  0.147  0.152  0.208  0.228  0.242  0.218  0.260  0.217   \n",
       "2021-08-10  0.233  0.271  0.219  0.296  0.225  0.412  0.368  0.325  0.323   \n",
       "2021-08-20  0.350  0.341  0.190  0.411  0.316  0.549  0.488  0.457    NaN   \n",
       "2021-08-30  0.490  0.453  0.332  0.535  0.433  0.736  0.531  0.602    NaN   \n",
       "2021-09-09  0.610  0.660  0.387  0.631  0.597  0.778  0.591  0.707    NaN   \n",
       "2021-09-19  0.685  0.619  0.451  0.654  0.619  0.649  0.593  0.589    NaN   \n",
       "2021-09-29  0.685  0.643  0.541  0.661  0.591  0.711  0.588  0.588  0.509   \n",
       "2021-10-09  0.633  0.544  0.569  0.639  0.524  0.597  0.601  0.547  0.515   \n",
       "2021-10-19  0.525  0.477  0.551  0.561  0.436  0.640  0.515  0.518  0.446   \n",
       "2021-10-29  0.453  0.454  0.379  0.476  0.329  0.559  0.360  0.442  0.387   \n",
       "2021-11-08  0.380  0.270  0.276  0.387  0.243  0.399  0.190  0.369  0.319   \n",
       "\n",
       "point_id    574    ...  31     9904   507    10312  37     694    10380  \\\n",
       "2021-06-01    NaN  ...  0.102    NaN    NaN    NaN  0.111    NaN    NaN   \n",
       "2021-06-11  0.092  ...  0.102  0.095  0.099  0.110  0.105  0.088  0.125   \n",
       "2021-06-21  0.088  ...  0.077  0.087  0.095  0.108  0.080  0.087  0.118   \n",
       "2021-07-01  0.102  ...  0.111  0.086  0.118  0.099  0.098  0.108  0.123   \n",
       "2021-07-11  0.184  ...  0.098  0.142  0.185  0.155  0.106  0.129  0.155   \n",
       "2021-07-21  0.337  ...  0.127  0.142  0.322  0.202  0.125  0.170  0.162   \n",
       "2021-07-31  0.430  ...  0.136  0.157  0.514  0.140  0.147  0.127  0.179   \n",
       "2021-08-10  0.524  ...  0.232  0.291  0.704  0.180  0.277  0.226  0.236   \n",
       "2021-08-20  0.596  ...  0.315  0.407  0.724  0.231  0.360  0.323  0.367   \n",
       "2021-08-30  0.654  ...  0.449  0.512  0.700  0.291  0.472  0.434  0.527   \n",
       "2021-09-09  0.724  ...  0.624  0.690  0.745  0.339  0.686  0.581  0.702   \n",
       "2021-09-19  0.635  ...  0.619  0.644  0.657  0.336  0.632  0.631  0.688   \n",
       "2021-09-29  0.600  ...  0.630  0.601  0.632  0.395  0.658  0.660  0.675   \n",
       "2021-10-09  0.579  ...  0.543  0.544  0.622  0.436  0.565  0.648  0.612   \n",
       "2021-10-19  0.526  ...  0.474  0.424  0.564  0.413  0.495  0.520  0.490   \n",
       "2021-10-29  0.507  ...  0.466  0.373  0.530  0.335  0.469  0.453  0.412   \n",
       "2021-11-08  0.487  ...  0.266  0.324  0.493  0.265  0.262  0.379  0.333   \n",
       "\n",
       "point_id    9961   10141  10172  \n",
       "2021-06-01    NaN    NaN    NaN  \n",
       "2021-06-11  0.104  0.103  0.098  \n",
       "2021-06-21  0.097  0.104  0.094  \n",
       "2021-07-01  0.093  0.103  0.103  \n",
       "2021-07-11  0.137  0.152  0.137  \n",
       "2021-07-21  0.266  0.197  0.175  \n",
       "2021-07-31  0.209  0.217  0.172  \n",
       "2021-08-10  0.337  0.395  0.289  \n",
       "2021-08-20    NaN  0.478  0.378  \n",
       "2021-08-30    NaN  0.536  0.467  \n",
       "2021-09-09    NaN  0.626  0.566  \n",
       "2021-09-19    NaN  0.571  0.535  \n",
       "2021-09-29  0.558  0.519  0.502  \n",
       "2021-10-09  0.564  0.457  0.436  \n",
       "2021-10-19  0.478  0.399  0.370  \n",
       "2021-10-29  0.414  0.343  0.314  \n",
       "2021-11-08  0.308  0.303  0.268  \n",
       "\n",
       "[17 rows x 100 columns]"
      ]
     },
     "metadata": {},
     "output_type": "display_data"
    }
   ],
   "source": [
    "import importlib\n",
    "sys.path.insert(0, f'{git_path}CODE/enge/projects/Sen4Stat/WORKFLOWS/')\n",
    "\n",
    "importlib.reload(timeseries_functions)\n",
    "\n",
    "table_name = timeseries_functions.find_table_name(db_file, 'feat')\n",
    "\n",
    "print(table_name)\n",
    "\n",
    "selected_col_names = timeseries_functions.get_column_names(db_file, table_name, col_type)\n",
    "\n",
    "print(selected_col_names)\n",
    "\n",
    "df = timeseries_functions.get_crop_list(crop_lut, crop_code_field, crop_name_field)\n",
    "\n",
    "year = '2021'\n",
    "\n",
    "crop_code = '1121'\n",
    "crop_name = 'Maize'\n",
    "graph_title = f'{col_type.upper()} profile of {crop_name} - SITE {site_nb}'\n",
    "#graph_file = f'{opath_TS_TRUE}{graph_title.replace(\" \",\"_\")}.png'\n",
    "\n",
    "graph_file = f'{opath_TS_TRUE}{graph_title.replace(\" \",\"_\")}.html'\n",
    "\n",
    "#print(graph_title)\n",
    "#print(graph_file)\n",
    "\n",
    "data_extracted = timeseries_functions.extract_data(db_file, table_name, selected_col_names, crop_code_field, crop_code)     \n",
    "\n",
    "\n",
    "df = pd.DataFrame(data_extracted)\n",
    "\n",
    "col_names_list = ['point_id']\n",
    "col_names_list += [x[0:4] + year[-2:] for x in selected_col_names[1:]]\n",
    "\n",
    "print(col_names_list)\n",
    "\n",
    "df.columns = col_names_list\n",
    "\n",
    "df = df.set_index('point_id')\n",
    "\n",
    "\n",
    "df = df.transpose()\n",
    "\n",
    "df.index = pd.to_datetime(df.index, format='%m%d%y')\n",
    "\n",
    "\n",
    "\n",
    "df = df.replace(-10000, np.nan)\n",
    "\n",
    "if col_type == 'ndvi':\n",
    "    df = df.div(1000)\n",
    "\n",
    "n_sample = len(df.columns)\n",
    "\n",
    "if n_sample > 100:\n",
    "    n_sample = 100\n",
    "\n",
    "\n",
    "df_small_subset = df.sample(n=n_sample, axis='columns', random_state=10)\n",
    "\n",
    "\n",
    "df_mean = df.mean(axis=1)\n",
    "df_std  = df.std(axis=1)\n",
    "\n",
    "df_dates = df.index\n",
    "\n",
    "\n",
    "display(df_small_subset)\n"
   ]
  },
  {
   "cell_type": "code",
   "execution_count": 4,
   "metadata": {},
   "outputs": [],
   "source": [
    "pd.set_option('display.max_rows', 50)\n",
    "\n",
    "pos_shp = f'{opath}IN_SITU/SITE_41/SAMPLING_DESIGN_V25/SEN_2021_SITE_41_buf_0_LC_all_EXTENT_wall_to_wall_SEG_RATIO_100_LEVEL_grp_1_SD_25_cal_parcels_positions.shp'\n",
    "\n",
    "gdf = gpd.read_file(pos_shp)"
   ]
  },
  {
   "cell_type": "code",
   "execution_count": 5,
   "metadata": {},
   "outputs": [
    {
     "data": {
      "text/html": [
       "<div>\n",
       "<style scoped>\n",
       "    .dataframe tbody tr th:only-of-type {\n",
       "        vertical-align: middle;\n",
       "    }\n",
       "\n",
       "    .dataframe tbody tr th {\n",
       "        vertical-align: top;\n",
       "    }\n",
       "\n",
       "    .dataframe thead th {\n",
       "        text-align: right;\n",
       "    }\n",
       "</style>\n",
       "<table border=\"1\" class=\"dataframe\">\n",
       "  <thead>\n",
       "    <tr style=\"text-align: right;\">\n",
       "      <th></th>\n",
       "      <th>parcel_id</th>\n",
       "      <th>point_id</th>\n",
       "    </tr>\n",
       "  </thead>\n",
       "  <tbody>\n",
       "    <tr>\n",
       "      <th>0</th>\n",
       "      <td>35</td>\n",
       "      <td>0</td>\n",
       "    </tr>\n",
       "    <tr>\n",
       "      <th>1</th>\n",
       "      <td>35</td>\n",
       "      <td>1</td>\n",
       "    </tr>\n",
       "    <tr>\n",
       "      <th>2</th>\n",
       "      <td>35</td>\n",
       "      <td>2</td>\n",
       "    </tr>\n",
       "    <tr>\n",
       "      <th>3</th>\n",
       "      <td>35</td>\n",
       "      <td>3</td>\n",
       "    </tr>\n",
       "    <tr>\n",
       "      <th>4</th>\n",
       "      <td>35</td>\n",
       "      <td>4</td>\n",
       "    </tr>\n",
       "  </tbody>\n",
       "</table>\n",
       "</div>"
      ],
      "text/plain": [
       "   parcel_id  point_id\n",
       "0         35         0\n",
       "1         35         1\n",
       "2         35         2\n",
       "3         35         3\n",
       "4         35         4"
      ]
     },
     "metadata": {},
     "output_type": "display_data"
    }
   ],
   "source": [
    "gdf = gdf[['id','point_id']]\n",
    "\n",
    "gdf = gdf.rename(columns={\"id\": \"parcel_id\"})\n",
    "\n",
    "display(gdf.head())"
   ]
  },
  {
   "cell_type": "code",
   "execution_count": 34,
   "metadata": {},
   "outputs": [
    {
     "data": {
      "text/html": [
       "<div>\n",
       "<style scoped>\n",
       "    .dataframe tbody tr th:only-of-type {\n",
       "        vertical-align: middle;\n",
       "    }\n",
       "\n",
       "    .dataframe tbody tr th {\n",
       "        vertical-align: top;\n",
       "    }\n",
       "\n",
       "    .dataframe thead th {\n",
       "        text-align: right;\n",
       "    }\n",
       "</style>\n",
       "<table border=\"1\" class=\"dataframe\">\n",
       "  <thead>\n",
       "    <tr style=\"text-align: right;\">\n",
       "      <th></th>\n",
       "      <th>date</th>\n",
       "      <th>point_id</th>\n",
       "      <th>value</th>\n",
       "      <th>parcel_id</th>\n",
       "    </tr>\n",
       "  </thead>\n",
       "  <tbody>\n",
       "    <tr>\n",
       "      <th>0</th>\n",
       "      <td>2021-06-01</td>\n",
       "      <td>10413</td>\n",
       "      <td>NaN</td>\n",
       "      <td>32</td>\n",
       "    </tr>\n",
       "    <tr>\n",
       "      <th>1</th>\n",
       "      <td>2021-06-11</td>\n",
       "      <td>10413</td>\n",
       "      <td>0.084</td>\n",
       "      <td>32</td>\n",
       "    </tr>\n",
       "    <tr>\n",
       "      <th>2</th>\n",
       "      <td>2021-06-21</td>\n",
       "      <td>10413</td>\n",
       "      <td>0.090</td>\n",
       "      <td>32</td>\n",
       "    </tr>\n",
       "    <tr>\n",
       "      <th>3</th>\n",
       "      <td>2021-07-01</td>\n",
       "      <td>10413</td>\n",
       "      <td>0.080</td>\n",
       "      <td>32</td>\n",
       "    </tr>\n",
       "    <tr>\n",
       "      <th>4</th>\n",
       "      <td>2021-07-11</td>\n",
       "      <td>10413</td>\n",
       "      <td>0.124</td>\n",
       "      <td>32</td>\n",
       "    </tr>\n",
       "    <tr>\n",
       "      <th>...</th>\n",
       "      <td>...</td>\n",
       "      <td>...</td>\n",
       "      <td>...</td>\n",
       "      <td>...</td>\n",
       "    </tr>\n",
       "    <tr>\n",
       "      <th>1695</th>\n",
       "      <td>2021-09-29</td>\n",
       "      <td>10172</td>\n",
       "      <td>0.502</td>\n",
       "      <td>38</td>\n",
       "    </tr>\n",
       "    <tr>\n",
       "      <th>1696</th>\n",
       "      <td>2021-10-09</td>\n",
       "      <td>10172</td>\n",
       "      <td>0.436</td>\n",
       "      <td>38</td>\n",
       "    </tr>\n",
       "    <tr>\n",
       "      <th>1697</th>\n",
       "      <td>2021-10-19</td>\n",
       "      <td>10172</td>\n",
       "      <td>0.370</td>\n",
       "      <td>38</td>\n",
       "    </tr>\n",
       "    <tr>\n",
       "      <th>1698</th>\n",
       "      <td>2021-10-29</td>\n",
       "      <td>10172</td>\n",
       "      <td>0.314</td>\n",
       "      <td>38</td>\n",
       "    </tr>\n",
       "    <tr>\n",
       "      <th>1699</th>\n",
       "      <td>2021-11-08</td>\n",
       "      <td>10172</td>\n",
       "      <td>0.268</td>\n",
       "      <td>38</td>\n",
       "    </tr>\n",
       "  </tbody>\n",
       "</table>\n",
       "<p>1700 rows × 4 columns</p>\n",
       "</div>"
      ],
      "text/plain": [
       "           date point_id  value  parcel_id\n",
       "0    2021-06-01    10413    NaN         32\n",
       "1    2021-06-11    10413  0.084         32\n",
       "2    2021-06-21    10413  0.090         32\n",
       "3    2021-07-01    10413  0.080         32\n",
       "4    2021-07-11    10413  0.124         32\n",
       "...         ...      ...    ...        ...\n",
       "1695 2021-09-29    10172  0.502         38\n",
       "1696 2021-10-09    10172  0.436         38\n",
       "1697 2021-10-19    10172  0.370         38\n",
       "1698 2021-10-29    10172  0.314         38\n",
       "1699 2021-11-08    10172  0.268         38\n",
       "\n",
       "[1700 rows x 4 columns]"
      ]
     },
     "metadata": {},
     "output_type": "display_data"
    },
    {
     "data": {
      "text/html": [
       "<div>\n",
       "<style scoped>\n",
       "    .dataframe tbody tr th:only-of-type {\n",
       "        vertical-align: middle;\n",
       "    }\n",
       "\n",
       "    .dataframe tbody tr th {\n",
       "        vertical-align: top;\n",
       "    }\n",
       "\n",
       "    .dataframe thead th {\n",
       "        text-align: right;\n",
       "    }\n",
       "</style>\n",
       "<table border=\"1\" class=\"dataframe\">\n",
       "  <thead>\n",
       "    <tr style=\"text-align: right;\">\n",
       "      <th></th>\n",
       "      <th>date</th>\n",
       "      <th>value</th>\n",
       "    </tr>\n",
       "  </thead>\n",
       "  <tbody>\n",
       "    <tr>\n",
       "      <th>0</th>\n",
       "      <td>2021-06-01</td>\n",
       "      <td>0.115437</td>\n",
       "    </tr>\n",
       "    <tr>\n",
       "      <th>1</th>\n",
       "      <td>2021-06-11</td>\n",
       "      <td>0.102278</td>\n",
       "    </tr>\n",
       "    <tr>\n",
       "      <th>2</th>\n",
       "      <td>2021-06-21</td>\n",
       "      <td>0.102569</td>\n",
       "    </tr>\n",
       "    <tr>\n",
       "      <th>3</th>\n",
       "      <td>2021-07-01</td>\n",
       "      <td>0.117286</td>\n",
       "    </tr>\n",
       "    <tr>\n",
       "      <th>4</th>\n",
       "      <td>2021-07-11</td>\n",
       "      <td>0.148222</td>\n",
       "    </tr>\n",
       "    <tr>\n",
       "      <th>5</th>\n",
       "      <td>2021-07-21</td>\n",
       "      <td>0.202804</td>\n",
       "    </tr>\n",
       "    <tr>\n",
       "      <th>6</th>\n",
       "      <td>2021-07-31</td>\n",
       "      <td>0.231308</td>\n",
       "    </tr>\n",
       "    <tr>\n",
       "      <th>7</th>\n",
       "      <td>2021-08-10</td>\n",
       "      <td>0.301289</td>\n",
       "    </tr>\n",
       "    <tr>\n",
       "      <th>8</th>\n",
       "      <td>2021-08-20</td>\n",
       "      <td>0.397158</td>\n",
       "    </tr>\n",
       "    <tr>\n",
       "      <th>9</th>\n",
       "      <td>2021-08-30</td>\n",
       "      <td>0.499423</td>\n",
       "    </tr>\n",
       "    <tr>\n",
       "      <th>10</th>\n",
       "      <td>2021-09-09</td>\n",
       "      <td>0.592263</td>\n",
       "    </tr>\n",
       "    <tr>\n",
       "      <th>11</th>\n",
       "      <td>2021-09-19</td>\n",
       "      <td>0.600392</td>\n",
       "    </tr>\n",
       "    <tr>\n",
       "      <th>12</th>\n",
       "      <td>2021-09-29</td>\n",
       "      <td>0.612986</td>\n",
       "    </tr>\n",
       "    <tr>\n",
       "      <th>13</th>\n",
       "      <td>2021-10-09</td>\n",
       "      <td>0.585729</td>\n",
       "    </tr>\n",
       "    <tr>\n",
       "      <th>14</th>\n",
       "      <td>2021-10-19</td>\n",
       "      <td>0.490581</td>\n",
       "    </tr>\n",
       "    <tr>\n",
       "      <th>15</th>\n",
       "      <td>2021-10-29</td>\n",
       "      <td>0.420066</td>\n",
       "    </tr>\n",
       "    <tr>\n",
       "      <th>16</th>\n",
       "      <td>2021-11-08</td>\n",
       "      <td>0.352086</td>\n",
       "    </tr>\n",
       "  </tbody>\n",
       "</table>\n",
       "</div>"
      ],
      "text/plain": [
       "         date     value\n",
       "0  2021-06-01  0.115437\n",
       "1  2021-06-11  0.102278\n",
       "2  2021-06-21  0.102569\n",
       "3  2021-07-01  0.117286\n",
       "4  2021-07-11  0.148222\n",
       "5  2021-07-21  0.202804\n",
       "6  2021-07-31  0.231308\n",
       "7  2021-08-10  0.301289\n",
       "8  2021-08-20  0.397158\n",
       "9  2021-08-30  0.499423\n",
       "10 2021-09-09  0.592263\n",
       "11 2021-09-19  0.600392\n",
       "12 2021-09-29  0.612986\n",
       "13 2021-10-09  0.585729\n",
       "14 2021-10-19  0.490581\n",
       "15 2021-10-29  0.420066\n",
       "16 2021-11-08  0.352086"
      ]
     },
     "metadata": {},
     "output_type": "display_data"
    }
   ],
   "source": [
    "pd.set_option('display.max_rows', 50)\n",
    "\n",
    "#df = px.data.stocks()\n",
    "\n",
    "df = df_small_subset\n",
    "\n",
    "df['date'] = df.index\n",
    "\n",
    "#display(df)\n",
    "\n",
    "df = df.melt(id_vars=['date'], var_name='point_id')\n",
    "\n",
    "df = df.merge(gdf, on='point_id')\n",
    "\n",
    "display(df)\n",
    "\n",
    "#df_mean['date'] = df_mean.index\n",
    "\n",
    "#display(df_mean)\n",
    "df_mean_1 = pd.DataFrame({'date':df_mean.index, 'value':df_mean.values})\n",
    "\n",
    "\n",
    "display(df_mean_1)\n"
   ]
  },
  {
   "cell_type": "code",
   "execution_count": 45,
   "metadata": {},
   "outputs": [
    {
     "data": {
      "application/vnd.plotly.v1+json": {
       "config": {
        "plotlyServerURL": "https://plot.ly"
       },
       "data": [
        {
         "customdata": [
          [
           32
          ],
          [
           32
          ],
          [
           32
          ],
          [
           32
          ],
          [
           32
          ],
          [
           32
          ],
          [
           32
          ],
          [
           32
          ],
          [
           32
          ],
          [
           32
          ],
          [
           32
          ],
          [
           32
          ],
          [
           32
          ],
          [
           32
          ],
          [
           32
          ],
          [
           32
          ],
          [
           32
          ]
         ],
         "hovertemplate": "parcel_id=%{customdata[0]}<br>point_id=10413<br>date=%{x}<br>value=%{y}<extra></extra>",
         "legendgroup": "32",
         "line": {
          "color": "#636efa",
          "dash": "solid",
          "width": 0.7
         },
         "marker": {
          "symbol": "circle"
         },
         "mode": "lines",
         "name": "32",
         "showlegend": true,
         "type": "scattergl",
         "x": [
          "2021-06-01T00:00:00",
          "2021-06-11T00:00:00",
          "2021-06-21T00:00:00",
          "2021-07-01T00:00:00",
          "2021-07-11T00:00:00",
          "2021-07-21T00:00:00",
          "2021-07-31T00:00:00",
          "2021-08-10T00:00:00",
          "2021-08-20T00:00:00",
          "2021-08-30T00:00:00",
          "2021-09-09T00:00:00",
          "2021-09-19T00:00:00",
          "2021-09-29T00:00:00",
          "2021-10-09T00:00:00",
          "2021-10-19T00:00:00",
          "2021-10-29T00:00:00",
          "2021-11-08T00:00:00"
         ],
         "xaxis": "x",
         "y": [
          null,
          0.084,
          0.09,
          0.08,
          0.124,
          0.132,
          0.178,
          0.233,
          0.35,
          0.49,
          0.61,
          0.685,
          0.685,
          0.633,
          0.525,
          0.453,
          0.38
         ],
         "yaxis": "y"
        },
        {
         "customdata": [
          [
           32
          ],
          [
           32
          ],
          [
           32
          ],
          [
           32
          ],
          [
           32
          ],
          [
           32
          ],
          [
           32
          ],
          [
           32
          ],
          [
           32
          ],
          [
           32
          ],
          [
           32
          ],
          [
           32
          ],
          [
           32
          ],
          [
           32
          ],
          [
           32
          ],
          [
           32
          ],
          [
           32
          ]
         ],
         "hovertemplate": "parcel_id=%{customdata[0]}<br>point_id=10481<br>date=%{x}<br>value=%{y}<extra></extra>",
         "legendgroup": "32",
         "line": {
          "color": "#636efa",
          "dash": "solid",
          "width": 0.7
         },
         "marker": {
          "symbol": "circle"
         },
         "mode": "lines",
         "name": "32",
         "showlegend": false,
         "type": "scattergl",
         "x": [
          "2021-06-01T00:00:00",
          "2021-06-11T00:00:00",
          "2021-06-21T00:00:00",
          "2021-07-01T00:00:00",
          "2021-07-11T00:00:00",
          "2021-07-21T00:00:00",
          "2021-07-31T00:00:00",
          "2021-08-10T00:00:00",
          "2021-08-20T00:00:00",
          "2021-08-30T00:00:00",
          "2021-09-09T00:00:00",
          "2021-09-19T00:00:00",
          "2021-09-29T00:00:00",
          "2021-10-09T00:00:00",
          "2021-10-19T00:00:00",
          "2021-10-29T00:00:00",
          "2021-11-08T00:00:00"
         ],
         "xaxis": "x",
         "y": [
          null,
          0.097,
          0.086,
          0.087,
          0.123,
          0.147,
          0.208,
          0.296,
          0.411,
          0.535,
          0.631,
          0.654,
          0.661,
          0.639,
          0.561,
          0.476,
          0.387
         ],
         "yaxis": "y"
        },
        {
         "customdata": [
          [
           32
          ],
          [
           32
          ],
          [
           32
          ],
          [
           32
          ],
          [
           32
          ],
          [
           32
          ],
          [
           32
          ],
          [
           32
          ],
          [
           32
          ],
          [
           32
          ],
          [
           32
          ],
          [
           32
          ],
          [
           32
          ],
          [
           32
          ],
          [
           32
          ],
          [
           32
          ],
          [
           32
          ]
         ],
         "hovertemplate": "parcel_id=%{customdata[0]}<br>point_id=10412<br>date=%{x}<br>value=%{y}<extra></extra>",
         "legendgroup": "32",
         "line": {
          "color": "#636efa",
          "dash": "solid",
          "width": 0.7
         },
         "marker": {
          "symbol": "circle"
         },
         "mode": "lines",
         "name": "32",
         "showlegend": false,
         "type": "scattergl",
         "x": [
          "2021-06-01T00:00:00",
          "2021-06-11T00:00:00",
          "2021-06-21T00:00:00",
          "2021-07-01T00:00:00",
          "2021-07-11T00:00:00",
          "2021-07-21T00:00:00",
          "2021-07-31T00:00:00",
          "2021-08-10T00:00:00",
          "2021-08-20T00:00:00",
          "2021-08-30T00:00:00",
          "2021-09-09T00:00:00",
          "2021-09-19T00:00:00",
          "2021-09-29T00:00:00",
          "2021-10-09T00:00:00",
          "2021-10-19T00:00:00",
          "2021-10-29T00:00:00",
          "2021-11-08T00:00:00"
         ],
         "xaxis": "x",
         "y": [
          null,
          0.085,
          0.087,
          0.09,
          0.146,
          0.132,
          0.174,
          0.229,
          0.347,
          0.482,
          0.596,
          0.668,
          0.658,
          0.601,
          0.503,
          0.434,
          0.363
         ],
         "yaxis": "y"
        },
        {
         "customdata": [
          [
           32
          ],
          [
           32
          ],
          [
           32
          ],
          [
           32
          ],
          [
           32
          ],
          [
           32
          ],
          [
           32
          ],
          [
           32
          ],
          [
           32
          ],
          [
           32
          ],
          [
           32
          ],
          [
           32
          ],
          [
           32
          ],
          [
           32
          ],
          [
           32
          ],
          [
           32
          ],
          [
           32
          ]
         ],
         "hovertemplate": "parcel_id=%{customdata[0]}<br>point_id=10520<br>date=%{x}<br>value=%{y}<extra></extra>",
         "legendgroup": "32",
         "line": {
          "color": "#636efa",
          "dash": "solid",
          "width": 0.7
         },
         "marker": {
          "symbol": "circle"
         },
         "mode": "lines",
         "name": "32",
         "showlegend": false,
         "type": "scattergl",
         "x": [
          "2021-06-01T00:00:00",
          "2021-06-11T00:00:00",
          "2021-06-21T00:00:00",
          "2021-07-01T00:00:00",
          "2021-07-11T00:00:00",
          "2021-07-21T00:00:00",
          "2021-07-31T00:00:00",
          "2021-08-10T00:00:00",
          "2021-08-20T00:00:00",
          "2021-08-30T00:00:00",
          "2021-09-09T00:00:00",
          "2021-09-19T00:00:00",
          "2021-09-29T00:00:00",
          "2021-10-09T00:00:00",
          "2021-10-19T00:00:00",
          "2021-10-29T00:00:00",
          "2021-11-08T00:00:00"
         ],
         "xaxis": "x",
         "y": [
          null,
          0.112,
          0.117,
          0.12,
          0.173,
          0.17,
          0.242,
          0.362,
          0.5,
          0.622,
          0.702,
          0.714,
          0.745,
          0.714,
          0.545,
          0.436,
          0.316
         ],
         "yaxis": "y"
        },
        {
         "customdata": [
          [
           32
          ],
          [
           32
          ],
          [
           32
          ],
          [
           32
          ],
          [
           32
          ],
          [
           32
          ],
          [
           32
          ],
          [
           32
          ],
          [
           32
          ],
          [
           32
          ],
          [
           32
          ],
          [
           32
          ],
          [
           32
          ],
          [
           32
          ],
          [
           32
          ],
          [
           32
          ],
          [
           32
          ]
         ],
         "hovertemplate": "parcel_id=%{customdata[0]}<br>point_id=10433<br>date=%{x}<br>value=%{y}<extra></extra>",
         "legendgroup": "32",
         "line": {
          "color": "#636efa",
          "dash": "solid",
          "width": 0.7
         },
         "marker": {
          "symbol": "circle"
         },
         "mode": "lines",
         "name": "32",
         "showlegend": false,
         "type": "scattergl",
         "x": [
          "2021-06-01T00:00:00",
          "2021-06-11T00:00:00",
          "2021-06-21T00:00:00",
          "2021-07-01T00:00:00",
          "2021-07-11T00:00:00",
          "2021-07-21T00:00:00",
          "2021-07-31T00:00:00",
          "2021-08-10T00:00:00",
          "2021-08-20T00:00:00",
          "2021-08-30T00:00:00",
          "2021-09-09T00:00:00",
          "2021-09-19T00:00:00",
          "2021-09-29T00:00:00",
          "2021-10-09T00:00:00",
          "2021-10-19T00:00:00",
          "2021-10-29T00:00:00",
          "2021-11-08T00:00:00"
         ],
         "xaxis": "x",
         "y": [
          null,
          0.079,
          0.088,
          0.085,
          0.129,
          0.124,
          0.159,
          0.212,
          0.3,
          0.399,
          0.5,
          0.616,
          0.647,
          0.611,
          0.503,
          0.43,
          0.355
         ],
         "yaxis": "y"
        },
        {
         "customdata": [
          [
           32
          ],
          [
           32
          ],
          [
           32
          ],
          [
           32
          ],
          [
           32
          ],
          [
           32
          ],
          [
           32
          ],
          [
           32
          ],
          [
           32
          ],
          [
           32
          ],
          [
           32
          ],
          [
           32
          ],
          [
           32
          ],
          [
           32
          ],
          [
           32
          ],
          [
           32
          ],
          [
           32
          ]
         ],
         "hovertemplate": "parcel_id=%{customdata[0]}<br>point_id=10467<br>date=%{x}<br>value=%{y}<extra></extra>",
         "legendgroup": "32",
         "line": {
          "color": "#636efa",
          "dash": "solid",
          "width": 0.7
         },
         "marker": {
          "symbol": "circle"
         },
         "mode": "lines",
         "name": "32",
         "showlegend": false,
         "type": "scattergl",
         "x": [
          "2021-06-01T00:00:00",
          "2021-06-11T00:00:00",
          "2021-06-21T00:00:00",
          "2021-07-01T00:00:00",
          "2021-07-11T00:00:00",
          "2021-07-21T00:00:00",
          "2021-07-31T00:00:00",
          "2021-08-10T00:00:00",
          "2021-08-20T00:00:00",
          "2021-08-30T00:00:00",
          "2021-09-09T00:00:00",
          "2021-09-19T00:00:00",
          "2021-09-29T00:00:00",
          "2021-10-09T00:00:00",
          "2021-10-19T00:00:00",
          "2021-10-29T00:00:00",
          "2021-11-08T00:00:00"
         ],
         "xaxis": "x",
         "y": [
          null,
          0.091,
          0.097,
          0.088,
          0.144,
          0.135,
          0.22,
          0.351,
          0.447,
          0.531,
          0.608,
          0.678,
          0.691,
          0.666,
          0.59,
          0.507,
          0.421
         ],
         "yaxis": "y"
        },
        {
         "customdata": [
          [
           32
          ],
          [
           32
          ],
          [
           32
          ],
          [
           32
          ],
          [
           32
          ],
          [
           32
          ],
          [
           32
          ],
          [
           32
          ],
          [
           32
          ],
          [
           32
          ],
          [
           32
          ],
          [
           32
          ],
          [
           32
          ],
          [
           32
          ],
          [
           32
          ],
          [
           32
          ],
          [
           32
          ]
         ],
         "hovertemplate": "parcel_id=%{customdata[0]}<br>point_id=10389<br>date=%{x}<br>value=%{y}<extra></extra>",
         "legendgroup": "32",
         "line": {
          "color": "#636efa",
          "dash": "solid",
          "width": 0.7
         },
         "marker": {
          "symbol": "circle"
         },
         "mode": "lines",
         "name": "32",
         "showlegend": false,
         "type": "scattergl",
         "x": [
          "2021-06-01T00:00:00",
          "2021-06-11T00:00:00",
          "2021-06-21T00:00:00",
          "2021-07-01T00:00:00",
          "2021-07-11T00:00:00",
          "2021-07-21T00:00:00",
          "2021-07-31T00:00:00",
          "2021-08-10T00:00:00",
          "2021-08-20T00:00:00",
          "2021-08-30T00:00:00",
          "2021-09-09T00:00:00",
          "2021-09-19T00:00:00",
          "2021-09-29T00:00:00",
          "2021-10-09T00:00:00",
          "2021-10-19T00:00:00",
          "2021-10-29T00:00:00",
          "2021-11-08T00:00:00"
         ],
         "xaxis": "x",
         "y": [
          null,
          0.084,
          0.094,
          0.093,
          0.145,
          0.15,
          0.183,
          0.221,
          0.289,
          0.372,
          0.469,
          0.6,
          0.635,
          0.593,
          0.465,
          0.383,
          0.298
         ],
         "yaxis": "y"
        },
        {
         "customdata": [
          [
           32
          ],
          [
           32
          ],
          [
           32
          ],
          [
           32
          ],
          [
           32
          ],
          [
           32
          ],
          [
           32
          ],
          [
           32
          ],
          [
           32
          ],
          [
           32
          ],
          [
           32
          ],
          [
           32
          ],
          [
           32
          ],
          [
           32
          ],
          [
           32
          ],
          [
           32
          ],
          [
           32
          ]
         ],
         "hovertemplate": "parcel_id=%{customdata[0]}<br>point_id=10409<br>date=%{x}<br>value=%{y}<extra></extra>",
         "legendgroup": "32",
         "line": {
          "color": "#636efa",
          "dash": "solid",
          "width": 0.7
         },
         "marker": {
          "symbol": "circle"
         },
         "mode": "lines",
         "name": "32",
         "showlegend": false,
         "type": "scattergl",
         "x": [
          "2021-06-01T00:00:00",
          "2021-06-11T00:00:00",
          "2021-06-21T00:00:00",
          "2021-07-01T00:00:00",
          "2021-07-11T00:00:00",
          "2021-07-21T00:00:00",
          "2021-07-31T00:00:00",
          "2021-08-10T00:00:00",
          "2021-08-20T00:00:00",
          "2021-08-30T00:00:00",
          "2021-09-09T00:00:00",
          "2021-09-19T00:00:00",
          "2021-09-29T00:00:00",
          "2021-10-09T00:00:00",
          "2021-10-19T00:00:00",
          "2021-10-29T00:00:00",
          "2021-11-08T00:00:00"
         ],
         "xaxis": "x",
         "y": [
          null,
          0.078,
          0.087,
          0.083,
          0.135,
          0.129,
          0.158,
          0.203,
          0.297,
          0.404,
          0.506,
          0.621,
          0.666,
          0.639,
          0.518,
          0.431,
          0.339
         ],
         "yaxis": "y"
        },
        {
         "customdata": [
          [
           32
          ],
          [
           32
          ],
          [
           32
          ],
          [
           32
          ],
          [
           32
          ],
          [
           32
          ],
          [
           32
          ],
          [
           32
          ],
          [
           32
          ],
          [
           32
          ],
          [
           32
          ],
          [
           32
          ],
          [
           32
          ],
          [
           32
          ],
          [
           32
          ],
          [
           32
          ],
          [
           32
          ]
         ],
         "hovertemplate": "parcel_id=%{customdata[0]}<br>point_id=10484<br>date=%{x}<br>value=%{y}<extra></extra>",
         "legendgroup": "32",
         "line": {
          "color": "#636efa",
          "dash": "solid",
          "width": 0.7
         },
         "marker": {
          "symbol": "circle"
         },
         "mode": "lines",
         "name": "32",
         "showlegend": false,
         "type": "scattergl",
         "x": [
          "2021-06-01T00:00:00",
          "2021-06-11T00:00:00",
          "2021-06-21T00:00:00",
          "2021-07-01T00:00:00",
          "2021-07-11T00:00:00",
          "2021-07-21T00:00:00",
          "2021-07-31T00:00:00",
          "2021-08-10T00:00:00",
          "2021-08-20T00:00:00",
          "2021-08-30T00:00:00",
          "2021-09-09T00:00:00",
          "2021-09-19T00:00:00",
          "2021-09-29T00:00:00",
          "2021-10-09T00:00:00",
          "2021-10-19T00:00:00",
          "2021-10-29T00:00:00",
          "2021-11-08T00:00:00"
         ],
         "xaxis": "x",
         "y": [
          null,
          0.083,
          0.082,
          0.083,
          0.103,
          0.125,
          0.184,
          0.286,
          0.427,
          0.563,
          0.661,
          0.698,
          0.699,
          0.655,
          0.549,
          0.477,
          0.401
         ],
         "yaxis": "y"
        },
        {
         "customdata": [
          [
           32
          ],
          [
           32
          ],
          [
           32
          ],
          [
           32
          ],
          [
           32
          ],
          [
           32
          ],
          [
           32
          ],
          [
           32
          ],
          [
           32
          ],
          [
           32
          ],
          [
           32
          ],
          [
           32
          ],
          [
           32
          ],
          [
           32
          ],
          [
           32
          ],
          [
           32
          ],
          [
           32
          ]
         ],
         "hovertemplate": "parcel_id=%{customdata[0]}<br>point_id=10394<br>date=%{x}<br>value=%{y}<extra></extra>",
         "legendgroup": "32",
         "line": {
          "color": "#636efa",
          "dash": "solid",
          "width": 0.7
         },
         "marker": {
          "symbol": "circle"
         },
         "mode": "lines",
         "name": "32",
         "showlegend": false,
         "type": "scattergl",
         "x": [
          "2021-06-01T00:00:00",
          "2021-06-11T00:00:00",
          "2021-06-21T00:00:00",
          "2021-07-01T00:00:00",
          "2021-07-11T00:00:00",
          "2021-07-21T00:00:00",
          "2021-07-31T00:00:00",
          "2021-08-10T00:00:00",
          "2021-08-20T00:00:00",
          "2021-08-30T00:00:00",
          "2021-09-09T00:00:00",
          "2021-09-19T00:00:00",
          "2021-09-29T00:00:00",
          "2021-10-09T00:00:00",
          "2021-10-19T00:00:00",
          "2021-10-29T00:00:00",
          "2021-11-08T00:00:00"
         ],
         "xaxis": "x",
         "y": [
          null,
          0.087,
          0.092,
          0.084,
          0.136,
          0.13,
          0.177,
          0.234,
          0.335,
          0.449,
          0.558,
          0.673,
          0.71,
          0.68,
          0.564,
          0.489,
          0.411
         ],
         "yaxis": "y"
        },
        {
         "customdata": [
          [
           35
          ],
          [
           35
          ],
          [
           35
          ],
          [
           35
          ],
          [
           35
          ],
          [
           35
          ],
          [
           35
          ],
          [
           35
          ],
          [
           35
          ],
          [
           35
          ],
          [
           35
          ],
          [
           35
          ],
          [
           35
          ],
          [
           35
          ],
          [
           35
          ],
          [
           35
          ],
          [
           35
          ]
         ],
         "hovertemplate": "parcel_id=%{customdata[0]}<br>point_id=36<br>date=%{x}<br>value=%{y}<extra></extra>",
         "legendgroup": "35",
         "line": {
          "color": "#EF553B",
          "dash": "solid",
          "width": 0.7
         },
         "marker": {
          "symbol": "circle"
         },
         "mode": "lines",
         "name": "35",
         "showlegend": true,
         "type": "scattergl",
         "x": [
          "2021-06-01T00:00:00",
          "2021-06-11T00:00:00",
          "2021-06-21T00:00:00",
          "2021-07-01T00:00:00",
          "2021-07-11T00:00:00",
          "2021-07-21T00:00:00",
          "2021-07-31T00:00:00",
          "2021-08-10T00:00:00",
          "2021-08-20T00:00:00",
          "2021-08-30T00:00:00",
          "2021-09-09T00:00:00",
          "2021-09-19T00:00:00",
          "2021-09-29T00:00:00",
          "2021-10-09T00:00:00",
          "2021-10-19T00:00:00",
          "2021-10-29T00:00:00",
          "2021-11-08T00:00:00"
         ],
         "xaxis": "x",
         "y": [
          0.11,
          0.096,
          0.08,
          0.098,
          0.106,
          0.127,
          0.147,
          0.271,
          0.341,
          0.453,
          0.66,
          0.619,
          0.643,
          0.544,
          0.477,
          0.454,
          0.27
         ],
         "yaxis": "y"
        },
        {
         "customdata": [
          [
           35
          ],
          [
           35
          ],
          [
           35
          ],
          [
           35
          ],
          [
           35
          ],
          [
           35
          ],
          [
           35
          ],
          [
           35
          ],
          [
           35
          ],
          [
           35
          ],
          [
           35
          ],
          [
           35
          ],
          [
           35
          ],
          [
           35
          ],
          [
           35
          ],
          [
           35
          ],
          [
           35
          ]
         ],
         "hovertemplate": "parcel_id=%{customdata[0]}<br>point_id=10<br>date=%{x}<br>value=%{y}<extra></extra>",
         "legendgroup": "35",
         "line": {
          "color": "#EF553B",
          "dash": "solid",
          "width": 0.7
         },
         "marker": {
          "symbol": "circle"
         },
         "mode": "lines",
         "name": "35",
         "showlegend": false,
         "type": "scattergl",
         "x": [
          "2021-06-01T00:00:00",
          "2021-06-11T00:00:00",
          "2021-06-21T00:00:00",
          "2021-07-01T00:00:00",
          "2021-07-11T00:00:00",
          "2021-07-21T00:00:00",
          "2021-07-31T00:00:00",
          "2021-08-10T00:00:00",
          "2021-08-20T00:00:00",
          "2021-08-30T00:00:00",
          "2021-09-09T00:00:00",
          "2021-09-19T00:00:00",
          "2021-09-29T00:00:00",
          "2021-10-09T00:00:00",
          "2021-10-19T00:00:00",
          "2021-10-29T00:00:00",
          "2021-11-08T00:00:00"
         ],
         "xaxis": "x",
         "y": [
          0.108,
          0.101,
          0.08,
          0.12,
          0.102,
          0.137,
          0.161,
          0.268,
          0.38,
          0.488,
          0.673,
          0.624,
          0.639,
          0.527,
          0.435,
          0.424,
          0.247
         ],
         "yaxis": "y"
        },
        {
         "customdata": [
          [
           35
          ],
          [
           35
          ],
          [
           35
          ],
          [
           35
          ],
          [
           35
          ],
          [
           35
          ],
          [
           35
          ],
          [
           35
          ],
          [
           35
          ],
          [
           35
          ],
          [
           35
          ],
          [
           35
          ],
          [
           35
          ],
          [
           35
          ],
          [
           35
          ],
          [
           35
          ],
          [
           35
          ]
         ],
         "hovertemplate": "parcel_id=%{customdata[0]}<br>point_id=35<br>date=%{x}<br>value=%{y}<extra></extra>",
         "legendgroup": "35",
         "line": {
          "color": "#EF553B",
          "dash": "solid",
          "width": 0.7
         },
         "marker": {
          "symbol": "circle"
         },
         "mode": "lines",
         "name": "35",
         "showlegend": false,
         "type": "scattergl",
         "x": [
          "2021-06-01T00:00:00",
          "2021-06-11T00:00:00",
          "2021-06-21T00:00:00",
          "2021-07-01T00:00:00",
          "2021-07-11T00:00:00",
          "2021-07-21T00:00:00",
          "2021-07-31T00:00:00",
          "2021-08-10T00:00:00",
          "2021-08-20T00:00:00",
          "2021-08-30T00:00:00",
          "2021-09-09T00:00:00",
          "2021-09-19T00:00:00",
          "2021-09-29T00:00:00",
          "2021-10-09T00:00:00",
          "2021-10-19T00:00:00",
          "2021-10-29T00:00:00",
          "2021-11-08T00:00:00"
         ],
         "xaxis": "x",
         "y": [
          0.113,
          0.108,
          0.082,
          0.104,
          0.107,
          0.134,
          0.156,
          0.286,
          0.365,
          0.544,
          0.649,
          0.615,
          0.642,
          0.543,
          0.483,
          0.479,
          0.263
         ],
         "yaxis": "y"
        },
        {
         "customdata": [
          [
           35
          ],
          [
           35
          ],
          [
           35
          ],
          [
           35
          ],
          [
           35
          ],
          [
           35
          ],
          [
           35
          ],
          [
           35
          ],
          [
           35
          ],
          [
           35
          ],
          [
           35
          ],
          [
           35
          ],
          [
           35
          ],
          [
           35
          ],
          [
           35
          ],
          [
           35
          ],
          [
           35
          ]
         ],
         "hovertemplate": "parcel_id=%{customdata[0]}<br>point_id=31<br>date=%{x}<br>value=%{y}<extra></extra>",
         "legendgroup": "35",
         "line": {
          "color": "#EF553B",
          "dash": "solid",
          "width": 0.7
         },
         "marker": {
          "symbol": "circle"
         },
         "mode": "lines",
         "name": "35",
         "showlegend": false,
         "type": "scattergl",
         "x": [
          "2021-06-01T00:00:00",
          "2021-06-11T00:00:00",
          "2021-06-21T00:00:00",
          "2021-07-01T00:00:00",
          "2021-07-11T00:00:00",
          "2021-07-21T00:00:00",
          "2021-07-31T00:00:00",
          "2021-08-10T00:00:00",
          "2021-08-20T00:00:00",
          "2021-08-30T00:00:00",
          "2021-09-09T00:00:00",
          "2021-09-19T00:00:00",
          "2021-09-29T00:00:00",
          "2021-10-09T00:00:00",
          "2021-10-19T00:00:00",
          "2021-10-29T00:00:00",
          "2021-11-08T00:00:00"
         ],
         "xaxis": "x",
         "y": [
          0.102,
          0.102,
          0.077,
          0.111,
          0.098,
          0.127,
          0.136,
          0.232,
          0.315,
          0.449,
          0.624,
          0.619,
          0.63,
          0.543,
          0.474,
          0.466,
          0.266
         ],
         "yaxis": "y"
        },
        {
         "customdata": [
          [
           35
          ],
          [
           35
          ],
          [
           35
          ],
          [
           35
          ],
          [
           35
          ],
          [
           35
          ],
          [
           35
          ],
          [
           35
          ],
          [
           35
          ],
          [
           35
          ],
          [
           35
          ],
          [
           35
          ],
          [
           35
          ],
          [
           35
          ],
          [
           35
          ],
          [
           35
          ],
          [
           35
          ]
         ],
         "hovertemplate": "parcel_id=%{customdata[0]}<br>point_id=37<br>date=%{x}<br>value=%{y}<extra></extra>",
         "legendgroup": "35",
         "line": {
          "color": "#EF553B",
          "dash": "solid",
          "width": 0.7
         },
         "marker": {
          "symbol": "circle"
         },
         "mode": "lines",
         "name": "35",
         "showlegend": false,
         "type": "scattergl",
         "x": [
          "2021-06-01T00:00:00",
          "2021-06-11T00:00:00",
          "2021-06-21T00:00:00",
          "2021-07-01T00:00:00",
          "2021-07-11T00:00:00",
          "2021-07-21T00:00:00",
          "2021-07-31T00:00:00",
          "2021-08-10T00:00:00",
          "2021-08-20T00:00:00",
          "2021-08-30T00:00:00",
          "2021-09-09T00:00:00",
          "2021-09-19T00:00:00",
          "2021-09-29T00:00:00",
          "2021-10-09T00:00:00",
          "2021-10-19T00:00:00",
          "2021-10-29T00:00:00",
          "2021-11-08T00:00:00"
         ],
         "xaxis": "x",
         "y": [
          0.111,
          0.105,
          0.08,
          0.098,
          0.106,
          0.125,
          0.147,
          0.277,
          0.36,
          0.472,
          0.686,
          0.632,
          0.658,
          0.565,
          0.495,
          0.469,
          0.262
         ],
         "yaxis": "y"
        },
        {
         "customdata": [
          [
           34
          ],
          [
           34
          ],
          [
           34
          ],
          [
           34
          ],
          [
           34
          ],
          [
           34
          ],
          [
           34
          ],
          [
           34
          ],
          [
           34
          ],
          [
           34
          ],
          [
           34
          ],
          [
           34
          ],
          [
           34
          ],
          [
           34
          ],
          [
           34
          ],
          [
           34
          ],
          [
           34
          ]
         ],
         "hovertemplate": "parcel_id=%{customdata[0]}<br>point_id=843<br>date=%{x}<br>value=%{y}<extra></extra>",
         "legendgroup": "34",
         "line": {
          "color": "#00cc96",
          "dash": "solid",
          "width": 0.7
         },
         "marker": {
          "symbol": "circle"
         },
         "mode": "lines",
         "name": "34",
         "showlegend": true,
         "type": "scattergl",
         "x": [
          "2021-06-01T00:00:00",
          "2021-06-11T00:00:00",
          "2021-06-21T00:00:00",
          "2021-07-01T00:00:00",
          "2021-07-11T00:00:00",
          "2021-07-21T00:00:00",
          "2021-07-31T00:00:00",
          "2021-08-10T00:00:00",
          "2021-08-20T00:00:00",
          "2021-08-30T00:00:00",
          "2021-09-09T00:00:00",
          "2021-09-19T00:00:00",
          "2021-09-29T00:00:00",
          "2021-10-09T00:00:00",
          "2021-10-19T00:00:00",
          "2021-10-29T00:00:00",
          "2021-11-08T00:00:00"
         ],
         "xaxis": "x",
         "y": [
          0.123,
          0.127,
          0.125,
          0.138,
          0.137,
          0.147,
          0.152,
          0.219,
          0.19,
          0.332,
          0.387,
          0.451,
          0.541,
          0.569,
          0.551,
          0.379,
          0.276
         ],
         "yaxis": "y"
        },
        {
         "customdata": [
          [
           21
          ],
          [
           21
          ],
          [
           21
          ],
          [
           21
          ],
          [
           21
          ],
          [
           21
          ],
          [
           21
          ],
          [
           21
          ],
          [
           21
          ],
          [
           21
          ],
          [
           21
          ],
          [
           21
          ],
          [
           21
          ],
          [
           21
          ],
          [
           21
          ],
          [
           21
          ],
          [
           21
          ]
         ],
         "hovertemplate": "parcel_id=%{customdata[0]}<br>point_id=9731<br>date=%{x}<br>value=%{y}<extra></extra>",
         "legendgroup": "21",
         "line": {
          "color": "#ab63fa",
          "dash": "solid",
          "width": 0.7
         },
         "marker": {
          "symbol": "circle"
         },
         "mode": "lines",
         "name": "21",
         "showlegend": true,
         "type": "scattergl",
         "x": [
          "2021-06-01T00:00:00",
          "2021-06-11T00:00:00",
          "2021-06-21T00:00:00",
          "2021-07-01T00:00:00",
          "2021-07-11T00:00:00",
          "2021-07-21T00:00:00",
          "2021-07-31T00:00:00",
          "2021-08-10T00:00:00",
          "2021-08-20T00:00:00",
          "2021-08-30T00:00:00",
          "2021-09-09T00:00:00",
          "2021-09-19T00:00:00",
          "2021-09-29T00:00:00",
          "2021-10-09T00:00:00",
          "2021-10-19T00:00:00",
          "2021-10-29T00:00:00",
          "2021-11-08T00:00:00"
         ],
         "xaxis": "x",
         "y": [
          null,
          0.119,
          0.12,
          0.11,
          0.156,
          0.213,
          0.228,
          0.225,
          0.316,
          0.433,
          0.597,
          0.619,
          0.591,
          0.524,
          0.436,
          0.329,
          0.243
         ],
         "yaxis": "y"
        },
        {
         "customdata": [
          [
           21
          ],
          [
           21
          ],
          [
           21
          ],
          [
           21
          ],
          [
           21
          ],
          [
           21
          ],
          [
           21
          ],
          [
           21
          ],
          [
           21
          ],
          [
           21
          ],
          [
           21
          ],
          [
           21
          ],
          [
           21
          ],
          [
           21
          ],
          [
           21
          ],
          [
           21
          ],
          [
           21
          ]
         ],
         "hovertemplate": "parcel_id=%{customdata[0]}<br>point_id=9734<br>date=%{x}<br>value=%{y}<extra></extra>",
         "legendgroup": "21",
         "line": {
          "color": "#ab63fa",
          "dash": "solid",
          "width": 0.7
         },
         "marker": {
          "symbol": "circle"
         },
         "mode": "lines",
         "name": "21",
         "showlegend": false,
         "type": "scattergl",
         "x": [
          "2021-06-01T00:00:00",
          "2021-06-11T00:00:00",
          "2021-06-21T00:00:00",
          "2021-07-01T00:00:00",
          "2021-07-11T00:00:00",
          "2021-07-21T00:00:00",
          "2021-07-31T00:00:00",
          "2021-08-10T00:00:00",
          "2021-08-20T00:00:00",
          "2021-08-30T00:00:00",
          "2021-09-09T00:00:00",
          "2021-09-19T00:00:00",
          "2021-09-29T00:00:00",
          "2021-10-09T00:00:00",
          "2021-10-19T00:00:00",
          "2021-10-29T00:00:00",
          "2021-11-08T00:00:00"
         ],
         "xaxis": "x",
         "y": [
          null,
          0.116,
          0.13,
          0.126,
          0.167,
          0.199,
          0.229,
          0.232,
          0.33,
          0.455,
          0.642,
          0.634,
          0.607,
          0.554,
          0.46,
          0.354,
          0.265
         ],
         "yaxis": "y"
        },
        {
         "customdata": [
          [
           21
          ],
          [
           21
          ],
          [
           21
          ],
          [
           21
          ],
          [
           21
          ],
          [
           21
          ],
          [
           21
          ],
          [
           21
          ],
          [
           21
          ],
          [
           21
          ],
          [
           21
          ],
          [
           21
          ],
          [
           21
          ],
          [
           21
          ],
          [
           21
          ],
          [
           21
          ],
          [
           21
          ]
         ],
         "hovertemplate": "parcel_id=%{customdata[0]}<br>point_id=9735<br>date=%{x}<br>value=%{y}<extra></extra>",
         "legendgroup": "21",
         "line": {
          "color": "#ab63fa",
          "dash": "solid",
          "width": 0.7
         },
         "marker": {
          "symbol": "circle"
         },
         "mode": "lines",
         "name": "21",
         "showlegend": false,
         "type": "scattergl",
         "x": [
          "2021-06-01T00:00:00",
          "2021-06-11T00:00:00",
          "2021-06-21T00:00:00",
          "2021-07-01T00:00:00",
          "2021-07-11T00:00:00",
          "2021-07-21T00:00:00",
          "2021-07-31T00:00:00",
          "2021-08-10T00:00:00",
          "2021-08-20T00:00:00",
          "2021-08-30T00:00:00",
          "2021-09-09T00:00:00",
          "2021-09-19T00:00:00",
          "2021-09-29T00:00:00",
          "2021-10-09T00:00:00",
          "2021-10-19T00:00:00",
          "2021-10-29T00:00:00",
          "2021-11-08T00:00:00"
         ],
         "xaxis": "x",
         "y": [
          null,
          0.121,
          0.123,
          0.115,
          0.153,
          0.185,
          0.196,
          0.213,
          0.324,
          0.466,
          0.67,
          0.645,
          0.607,
          0.56,
          0.46,
          0.352,
          0.264
         ],
         "yaxis": "y"
        },
        {
         "customdata": [
          [
           21
          ],
          [
           21
          ],
          [
           21
          ],
          [
           21
          ],
          [
           21
          ],
          [
           21
          ],
          [
           21
          ],
          [
           21
          ],
          [
           21
          ],
          [
           21
          ],
          [
           21
          ],
          [
           21
          ],
          [
           21
          ],
          [
           21
          ],
          [
           21
          ],
          [
           21
          ],
          [
           21
          ]
         ],
         "hovertemplate": "parcel_id=%{customdata[0]}<br>point_id=9732<br>date=%{x}<br>value=%{y}<extra></extra>",
         "legendgroup": "21",
         "line": {
          "color": "#ab63fa",
          "dash": "solid",
          "width": 0.7
         },
         "marker": {
          "symbol": "circle"
         },
         "mode": "lines",
         "name": "21",
         "showlegend": false,
         "type": "scattergl",
         "x": [
          "2021-06-01T00:00:00",
          "2021-06-11T00:00:00",
          "2021-06-21T00:00:00",
          "2021-07-01T00:00:00",
          "2021-07-11T00:00:00",
          "2021-07-21T00:00:00",
          "2021-07-31T00:00:00",
          "2021-08-10T00:00:00",
          "2021-08-20T00:00:00",
          "2021-08-30T00:00:00",
          "2021-09-09T00:00:00",
          "2021-09-19T00:00:00",
          "2021-09-29T00:00:00",
          "2021-10-09T00:00:00",
          "2021-10-19T00:00:00",
          "2021-10-29T00:00:00",
          "2021-11-08T00:00:00"
         ],
         "xaxis": "x",
         "y": [
          null,
          0.119,
          0.124,
          0.118,
          0.154,
          0.211,
          0.229,
          0.231,
          0.325,
          0.446,
          0.629,
          0.63,
          0.6,
          0.558,
          0.441,
          0.329,
          0.24
         ],
         "yaxis": "y"
        },
        {
         "customdata": [
          [
           36
          ],
          [
           36
          ],
          [
           36
          ],
          [
           36
          ],
          [
           36
          ],
          [
           36
          ],
          [
           36
          ],
          [
           36
          ],
          [
           36
          ],
          [
           36
          ],
          [
           36
          ],
          [
           36
          ],
          [
           36
          ],
          [
           36
          ],
          [
           36
          ],
          [
           36
          ],
          [
           36
          ]
         ],
         "hovertemplate": "parcel_id=%{customdata[0]}<br>point_id=795<br>date=%{x}<br>value=%{y}<extra></extra>",
         "legendgroup": "36",
         "line": {
          "color": "#FFA15A",
          "dash": "solid",
          "width": 0.7
         },
         "marker": {
          "symbol": "circle"
         },
         "mode": "lines",
         "name": "36",
         "showlegend": true,
         "type": "scattergl",
         "x": [
          "2021-06-01T00:00:00",
          "2021-06-11T00:00:00",
          "2021-06-21T00:00:00",
          "2021-07-01T00:00:00",
          "2021-07-11T00:00:00",
          "2021-07-21T00:00:00",
          "2021-07-31T00:00:00",
          "2021-08-10T00:00:00",
          "2021-08-20T00:00:00",
          "2021-08-30T00:00:00",
          "2021-09-09T00:00:00",
          "2021-09-19T00:00:00",
          "2021-09-29T00:00:00",
          "2021-10-09T00:00:00",
          "2021-10-19T00:00:00",
          "2021-10-29T00:00:00",
          "2021-11-08T00:00:00"
         ],
         "xaxis": "x",
         "y": [
          0.13,
          0.13,
          0.131,
          0.151,
          0.151,
          0.156,
          0.242,
          0.412,
          0.549,
          0.736,
          0.778,
          0.649,
          0.711,
          0.597,
          0.64,
          0.559,
          0.399
         ],
         "yaxis": "y"
        },
        {
         "customdata": [
          [
           36
          ],
          [
           36
          ],
          [
           36
          ],
          [
           36
          ],
          [
           36
          ],
          [
           36
          ],
          [
           36
          ],
          [
           36
          ],
          [
           36
          ],
          [
           36
          ],
          [
           36
          ],
          [
           36
          ],
          [
           36
          ],
          [
           36
          ],
          [
           36
          ],
          [
           36
          ],
          [
           36
          ]
         ],
         "hovertemplate": "parcel_id=%{customdata[0]}<br>point_id=817<br>date=%{x}<br>value=%{y}<extra></extra>",
         "legendgroup": "36",
         "line": {
          "color": "#FFA15A",
          "dash": "solid",
          "width": 0.7
         },
         "marker": {
          "symbol": "circle"
         },
         "mode": "lines",
         "name": "36",
         "showlegend": false,
         "type": "scattergl",
         "x": [
          "2021-06-01T00:00:00",
          "2021-06-11T00:00:00",
          "2021-06-21T00:00:00",
          "2021-07-01T00:00:00",
          "2021-07-11T00:00:00",
          "2021-07-21T00:00:00",
          "2021-07-31T00:00:00",
          "2021-08-10T00:00:00",
          "2021-08-20T00:00:00",
          "2021-08-30T00:00:00",
          "2021-09-09T00:00:00",
          "2021-09-19T00:00:00",
          "2021-09-29T00:00:00",
          "2021-10-09T00:00:00",
          "2021-10-19T00:00:00",
          "2021-10-29T00:00:00",
          "2021-11-08T00:00:00"
         ],
         "xaxis": "x",
         "y": [
          0.105,
          0.094,
          0.152,
          0.149,
          0.136,
          0.149,
          0.225,
          0.367,
          0.498,
          0.704,
          0.78,
          0.642,
          0.701,
          0.637,
          0.554,
          0.491,
          0.379
         ],
         "yaxis": "y"
        },
        {
         "customdata": [
          [
           17
          ],
          [
           17
          ],
          [
           17
          ],
          [
           17
          ],
          [
           17
          ],
          [
           17
          ],
          [
           17
          ],
          [
           17
          ],
          [
           17
          ],
          [
           17
          ],
          [
           17
          ],
          [
           17
          ],
          [
           17
          ],
          [
           17
          ],
          [
           17
          ],
          [
           17
          ],
          [
           17
          ]
         ],
         "hovertemplate": "parcel_id=%{customdata[0]}<br>point_id=264<br>date=%{x}<br>value=%{y}<extra></extra>",
         "legendgroup": "17",
         "line": {
          "color": "#19d3f3",
          "dash": "solid",
          "width": 0.7
         },
         "marker": {
          "symbol": "circle"
         },
         "mode": "lines",
         "name": "17",
         "showlegend": true,
         "type": "scattergl",
         "x": [
          "2021-06-01T00:00:00",
          "2021-06-11T00:00:00",
          "2021-06-21T00:00:00",
          "2021-07-01T00:00:00",
          "2021-07-11T00:00:00",
          "2021-07-21T00:00:00",
          "2021-07-31T00:00:00",
          "2021-08-10T00:00:00",
          "2021-08-20T00:00:00",
          "2021-08-30T00:00:00",
          "2021-09-09T00:00:00",
          "2021-09-19T00:00:00",
          "2021-09-29T00:00:00",
          "2021-10-09T00:00:00",
          "2021-10-19T00:00:00",
          "2021-10-29T00:00:00",
          "2021-11-08T00:00:00"
         ],
         "xaxis": "x",
         "y": [
          0.101,
          0.108,
          0.103,
          0.104,
          0.114,
          0.144,
          0.218,
          0.368,
          0.488,
          0.531,
          0.591,
          0.593,
          0.588,
          0.601,
          0.515,
          0.36,
          0.19
         ],
         "yaxis": "y"
        },
        {
         "customdata": [
          [
           5
          ],
          [
           5
          ],
          [
           5
          ],
          [
           5
          ],
          [
           5
          ],
          [
           5
          ],
          [
           5
          ],
          [
           5
          ],
          [
           5
          ],
          [
           5
          ],
          [
           5
          ],
          [
           5
          ],
          [
           5
          ],
          [
           5
          ],
          [
           5
          ],
          [
           5
          ],
          [
           5
          ]
         ],
         "hovertemplate": "parcel_id=%{customdata[0]}<br>point_id=108<br>date=%{x}<br>value=%{y}<extra></extra>",
         "legendgroup": "5",
         "line": {
          "color": "#FF6692",
          "dash": "solid",
          "width": 0.7
         },
         "marker": {
          "symbol": "circle"
         },
         "mode": "lines",
         "name": "5",
         "showlegend": true,
         "type": "scattergl",
         "x": [
          "2021-06-01T00:00:00",
          "2021-06-11T00:00:00",
          "2021-06-21T00:00:00",
          "2021-07-01T00:00:00",
          "2021-07-11T00:00:00",
          "2021-07-21T00:00:00",
          "2021-07-31T00:00:00",
          "2021-08-10T00:00:00",
          "2021-08-20T00:00:00",
          "2021-08-30T00:00:00",
          "2021-09-09T00:00:00",
          "2021-09-19T00:00:00",
          "2021-09-29T00:00:00",
          "2021-10-09T00:00:00",
          "2021-10-19T00:00:00",
          "2021-10-29T00:00:00",
          "2021-11-08T00:00:00"
         ],
         "xaxis": "x",
         "y": [
          null,
          0.104,
          0.106,
          0.129,
          0.131,
          0.202,
          0.26,
          0.325,
          0.457,
          0.602,
          0.707,
          0.589,
          0.588,
          0.547,
          0.518,
          0.442,
          0.369
         ],
         "yaxis": "y"
        },
        {
         "customdata": [
          [
           5
          ],
          [
           5
          ],
          [
           5
          ],
          [
           5
          ],
          [
           5
          ],
          [
           5
          ],
          [
           5
          ],
          [
           5
          ],
          [
           5
          ],
          [
           5
          ],
          [
           5
          ],
          [
           5
          ],
          [
           5
          ],
          [
           5
          ],
          [
           5
          ],
          [
           5
          ],
          [
           5
          ]
         ],
         "hovertemplate": "parcel_id=%{customdata[0]}<br>point_id=107<br>date=%{x}<br>value=%{y}<extra></extra>",
         "legendgroup": "5",
         "line": {
          "color": "#FF6692",
          "dash": "solid",
          "width": 0.7
         },
         "marker": {
          "symbol": "circle"
         },
         "mode": "lines",
         "name": "5",
         "showlegend": false,
         "type": "scattergl",
         "x": [
          "2021-06-01T00:00:00",
          "2021-06-11T00:00:00",
          "2021-06-21T00:00:00",
          "2021-07-01T00:00:00",
          "2021-07-11T00:00:00",
          "2021-07-21T00:00:00",
          "2021-07-31T00:00:00",
          "2021-08-10T00:00:00",
          "2021-08-20T00:00:00",
          "2021-08-30T00:00:00",
          "2021-09-09T00:00:00",
          "2021-09-19T00:00:00",
          "2021-09-29T00:00:00",
          "2021-10-09T00:00:00",
          "2021-10-19T00:00:00",
          "2021-10-29T00:00:00",
          "2021-11-08T00:00:00"
         ],
         "xaxis": "x",
         "y": [
          null,
          0.104,
          0.109,
          0.123,
          0.127,
          0.2,
          0.253,
          0.309,
          0.446,
          0.605,
          0.678,
          0.604,
          0.602,
          0.551,
          0.505,
          0.426,
          0.366
         ],
         "yaxis": "y"
        },
        {
         "customdata": [
          [
           11
          ],
          [
           11
          ],
          [
           11
          ],
          [
           11
          ],
          [
           11
          ],
          [
           11
          ],
          [
           11
          ],
          [
           11
          ],
          [
           11
          ],
          [
           11
          ],
          [
           11
          ],
          [
           11
          ],
          [
           11
          ],
          [
           11
          ],
          [
           11
          ],
          [
           11
          ],
          [
           11
          ]
         ],
         "hovertemplate": "parcel_id=%{customdata[0]}<br>point_id=9986<br>date=%{x}<br>value=%{y}<extra></extra>",
         "legendgroup": "11",
         "line": {
          "color": "#B6E880",
          "dash": "solid",
          "width": 0.7
         },
         "marker": {
          "symbol": "circle"
         },
         "mode": "lines",
         "name": "11",
         "showlegend": true,
         "type": "scattergl",
         "x": [
          "2021-06-01T00:00:00",
          "2021-06-11T00:00:00",
          "2021-06-21T00:00:00",
          "2021-07-01T00:00:00",
          "2021-07-11T00:00:00",
          "2021-07-21T00:00:00",
          "2021-07-31T00:00:00",
          "2021-08-10T00:00:00",
          "2021-08-20T00:00:00",
          "2021-08-30T00:00:00",
          "2021-09-09T00:00:00",
          "2021-09-19T00:00:00",
          "2021-09-29T00:00:00",
          "2021-10-09T00:00:00",
          "2021-10-19T00:00:00",
          "2021-10-29T00:00:00",
          "2021-11-08T00:00:00"
         ],
         "xaxis": "x",
         "y": [
          null,
          0.102,
          0.092,
          0.094,
          0.153,
          0.305,
          0.217,
          0.323,
          null,
          null,
          null,
          null,
          0.509,
          0.515,
          0.446,
          0.387,
          0.319
         ],
         "yaxis": "y"
        },
        {
         "customdata": [
          [
           11
          ],
          [
           11
          ],
          [
           11
          ],
          [
           11
          ],
          [
           11
          ],
          [
           11
          ],
          [
           11
          ],
          [
           11
          ],
          [
           11
          ],
          [
           11
          ],
          [
           11
          ],
          [
           11
          ],
          [
           11
          ],
          [
           11
          ],
          [
           11
          ],
          [
           11
          ],
          [
           11
          ]
         ],
         "hovertemplate": "parcel_id=%{customdata[0]}<br>point_id=9973<br>date=%{x}<br>value=%{y}<extra></extra>",
         "legendgroup": "11",
         "line": {
          "color": "#B6E880",
          "dash": "solid",
          "width": 0.7
         },
         "marker": {
          "symbol": "circle"
         },
         "mode": "lines",
         "name": "11",
         "showlegend": false,
         "type": "scattergl",
         "x": [
          "2021-06-01T00:00:00",
          "2021-06-11T00:00:00",
          "2021-06-21T00:00:00",
          "2021-07-01T00:00:00",
          "2021-07-11T00:00:00",
          "2021-07-21T00:00:00",
          "2021-07-31T00:00:00",
          "2021-08-10T00:00:00",
          "2021-08-20T00:00:00",
          "2021-08-30T00:00:00",
          "2021-09-09T00:00:00",
          "2021-09-19T00:00:00",
          "2021-09-29T00:00:00",
          "2021-10-09T00:00:00",
          "2021-10-19T00:00:00",
          "2021-10-29T00:00:00",
          "2021-11-08T00:00:00"
         ],
         "xaxis": "x",
         "y": [
          null,
          0.099,
          0.095,
          0.096,
          0.143,
          0.281,
          0.202,
          0.314,
          null,
          null,
          null,
          null,
          0.532,
          0.54,
          0.447,
          0.392,
          0.317
         ],
         "yaxis": "y"
        },
        {
         "customdata": [
          [
           11
          ],
          [
           11
          ],
          [
           11
          ],
          [
           11
          ],
          [
           11
          ],
          [
           11
          ],
          [
           11
          ],
          [
           11
          ],
          [
           11
          ],
          [
           11
          ],
          [
           11
          ],
          [
           11
          ],
          [
           11
          ],
          [
           11
          ],
          [
           11
          ],
          [
           11
          ],
          [
           11
          ]
         ],
         "hovertemplate": "parcel_id=%{customdata[0]}<br>point_id=9925<br>date=%{x}<br>value=%{y}<extra></extra>",
         "legendgroup": "11",
         "line": {
          "color": "#B6E880",
          "dash": "solid",
          "width": 0.7
         },
         "marker": {
          "symbol": "circle"
         },
         "mode": "lines",
         "name": "11",
         "showlegend": false,
         "type": "scattergl",
         "x": [
          "2021-06-01T00:00:00",
          "2021-06-11T00:00:00",
          "2021-06-21T00:00:00",
          "2021-07-01T00:00:00",
          "2021-07-11T00:00:00",
          "2021-07-21T00:00:00",
          "2021-07-31T00:00:00",
          "2021-08-10T00:00:00",
          "2021-08-20T00:00:00",
          "2021-08-30T00:00:00",
          "2021-09-09T00:00:00",
          "2021-09-19T00:00:00",
          "2021-09-29T00:00:00",
          "2021-10-09T00:00:00",
          "2021-10-19T00:00:00",
          "2021-10-29T00:00:00",
          "2021-11-08T00:00:00"
         ],
         "xaxis": "x",
         "y": [
          null,
          0.116,
          0.116,
          0.131,
          0.148,
          0.183,
          0.217,
          0.386,
          null,
          null,
          null,
          null,
          0.683,
          0.732,
          0.591,
          0.505,
          0.264
         ],
         "yaxis": "y"
        },
        {
         "customdata": [
          [
           11
          ],
          [
           11
          ],
          [
           11
          ],
          [
           11
          ],
          [
           11
          ],
          [
           11
          ],
          [
           11
          ],
          [
           11
          ],
          [
           11
          ],
          [
           11
          ],
          [
           11
          ],
          [
           11
          ],
          [
           11
          ],
          [
           11
          ],
          [
           11
          ],
          [
           11
          ],
          [
           11
          ]
         ],
         "hovertemplate": "parcel_id=%{customdata[0]}<br>point_id=9969<br>date=%{x}<br>value=%{y}<extra></extra>",
         "legendgroup": "11",
         "line": {
          "color": "#B6E880",
          "dash": "solid",
          "width": 0.7
         },
         "marker": {
          "symbol": "circle"
         },
         "mode": "lines",
         "name": "11",
         "showlegend": false,
         "type": "scattergl",
         "x": [
          "2021-06-01T00:00:00",
          "2021-06-11T00:00:00",
          "2021-06-21T00:00:00",
          "2021-07-01T00:00:00",
          "2021-07-11T00:00:00",
          "2021-07-21T00:00:00",
          "2021-07-31T00:00:00",
          "2021-08-10T00:00:00",
          "2021-08-20T00:00:00",
          "2021-08-30T00:00:00",
          "2021-09-09T00:00:00",
          "2021-09-19T00:00:00",
          "2021-09-29T00:00:00",
          "2021-10-09T00:00:00",
          "2021-10-19T00:00:00",
          "2021-10-29T00:00:00",
          "2021-11-08T00:00:00"
         ],
         "xaxis": "x",
         "y": [
          null,
          0.12,
          0.111,
          0.095,
          0.15,
          0.18,
          null,
          null,
          null,
          null,
          null,
          null,
          0.596,
          0.629,
          0.529,
          0.456,
          0.318
         ],
         "yaxis": "y"
        },
        {
         "customdata": [
          [
           11
          ],
          [
           11
          ],
          [
           11
          ],
          [
           11
          ],
          [
           11
          ],
          [
           11
          ],
          [
           11
          ],
          [
           11
          ],
          [
           11
          ],
          [
           11
          ],
          [
           11
          ],
          [
           11
          ],
          [
           11
          ],
          [
           11
          ],
          [
           11
          ],
          [
           11
          ],
          [
           11
          ]
         ],
         "hovertemplate": "parcel_id=%{customdata[0]}<br>point_id=9963<br>date=%{x}<br>value=%{y}<extra></extra>",
         "legendgroup": "11",
         "line": {
          "color": "#B6E880",
          "dash": "solid",
          "width": 0.7
         },
         "marker": {
          "symbol": "circle"
         },
         "mode": "lines",
         "name": "11",
         "showlegend": false,
         "type": "scattergl",
         "x": [
          "2021-06-01T00:00:00",
          "2021-06-11T00:00:00",
          "2021-06-21T00:00:00",
          "2021-07-01T00:00:00",
          "2021-07-11T00:00:00",
          "2021-07-21T00:00:00",
          "2021-07-31T00:00:00",
          "2021-08-10T00:00:00",
          "2021-08-20T00:00:00",
          "2021-08-30T00:00:00",
          "2021-09-09T00:00:00",
          "2021-09-19T00:00:00",
          "2021-09-29T00:00:00",
          "2021-10-09T00:00:00",
          "2021-10-19T00:00:00",
          "2021-10-29T00:00:00",
          "2021-11-08T00:00:00"
         ],
         "xaxis": "x",
         "y": [
          null,
          0.113,
          0.104,
          0.097,
          0.142,
          0.262,
          0.221,
          0.368,
          null,
          null,
          null,
          null,
          0.548,
          0.566,
          0.485,
          0.415,
          0.283
         ],
         "yaxis": "y"
        },
        {
         "customdata": [
          [
           11
          ],
          [
           11
          ],
          [
           11
          ],
          [
           11
          ],
          [
           11
          ],
          [
           11
          ],
          [
           11
          ],
          [
           11
          ],
          [
           11
          ],
          [
           11
          ],
          [
           11
          ],
          [
           11
          ],
          [
           11
          ],
          [
           11
          ],
          [
           11
          ],
          [
           11
          ],
          [
           11
          ]
         ],
         "hovertemplate": "parcel_id=%{customdata[0]}<br>point_id=9961<br>date=%{x}<br>value=%{y}<extra></extra>",
         "legendgroup": "11",
         "line": {
          "color": "#B6E880",
          "dash": "solid",
          "width": 0.7
         },
         "marker": {
          "symbol": "circle"
         },
         "mode": "lines",
         "name": "11",
         "showlegend": false,
         "type": "scattergl",
         "x": [
          "2021-06-01T00:00:00",
          "2021-06-11T00:00:00",
          "2021-06-21T00:00:00",
          "2021-07-01T00:00:00",
          "2021-07-11T00:00:00",
          "2021-07-21T00:00:00",
          "2021-07-31T00:00:00",
          "2021-08-10T00:00:00",
          "2021-08-20T00:00:00",
          "2021-08-30T00:00:00",
          "2021-09-09T00:00:00",
          "2021-09-19T00:00:00",
          "2021-09-29T00:00:00",
          "2021-10-09T00:00:00",
          "2021-10-19T00:00:00",
          "2021-10-29T00:00:00",
          "2021-11-08T00:00:00"
         ],
         "xaxis": "x",
         "y": [
          null,
          0.104,
          0.097,
          0.093,
          0.137,
          0.266,
          0.209,
          0.337,
          null,
          null,
          null,
          null,
          0.558,
          0.564,
          0.478,
          0.414,
          0.308
         ],
         "yaxis": "y"
        },
        {
         "customdata": [
          [
           29
          ],
          [
           29
          ],
          [
           29
          ],
          [
           29
          ],
          [
           29
          ],
          [
           29
          ],
          [
           29
          ],
          [
           29
          ],
          [
           29
          ],
          [
           29
          ],
          [
           29
          ],
          [
           29
          ],
          [
           29
          ],
          [
           29
          ],
          [
           29
          ],
          [
           29
          ],
          [
           29
          ]
         ],
         "hovertemplate": "parcel_id=%{customdata[0]}<br>point_id=574<br>date=%{x}<br>value=%{y}<extra></extra>",
         "legendgroup": "29",
         "line": {
          "color": "#FF97FF",
          "dash": "solid",
          "width": 0.7
         },
         "marker": {
          "symbol": "circle"
         },
         "mode": "lines",
         "name": "29",
         "showlegend": true,
         "type": "scattergl",
         "x": [
          "2021-06-01T00:00:00",
          "2021-06-11T00:00:00",
          "2021-06-21T00:00:00",
          "2021-07-01T00:00:00",
          "2021-07-11T00:00:00",
          "2021-07-21T00:00:00",
          "2021-07-31T00:00:00",
          "2021-08-10T00:00:00",
          "2021-08-20T00:00:00",
          "2021-08-30T00:00:00",
          "2021-09-09T00:00:00",
          "2021-09-19T00:00:00",
          "2021-09-29T00:00:00",
          "2021-10-09T00:00:00",
          "2021-10-19T00:00:00",
          "2021-10-29T00:00:00",
          "2021-11-08T00:00:00"
         ],
         "xaxis": "x",
         "y": [
          null,
          0.092,
          0.088,
          0.102,
          0.184,
          0.337,
          0.43,
          0.524,
          0.596,
          0.654,
          0.724,
          0.635,
          0.6,
          0.579,
          0.526,
          0.507,
          0.487
         ],
         "yaxis": "y"
        },
        {
         "customdata": [
          [
           29
          ],
          [
           29
          ],
          [
           29
          ],
          [
           29
          ],
          [
           29
          ],
          [
           29
          ],
          [
           29
          ],
          [
           29
          ],
          [
           29
          ],
          [
           29
          ],
          [
           29
          ],
          [
           29
          ],
          [
           29
          ],
          [
           29
          ],
          [
           29
          ],
          [
           29
          ],
          [
           29
          ]
         ],
         "hovertemplate": "parcel_id=%{customdata[0]}<br>point_id=517<br>date=%{x}<br>value=%{y}<extra></extra>",
         "legendgroup": "29",
         "line": {
          "color": "#FF97FF",
          "dash": "solid",
          "width": 0.7
         },
         "marker": {
          "symbol": "circle"
         },
         "mode": "lines",
         "name": "29",
         "showlegend": false,
         "type": "scattergl",
         "x": [
          "2021-06-01T00:00:00",
          "2021-06-11T00:00:00",
          "2021-06-21T00:00:00",
          "2021-07-01T00:00:00",
          "2021-07-11T00:00:00",
          "2021-07-21T00:00:00",
          "2021-07-31T00:00:00",
          "2021-08-10T00:00:00",
          "2021-08-20T00:00:00",
          "2021-08-30T00:00:00",
          "2021-09-09T00:00:00",
          "2021-09-19T00:00:00",
          "2021-09-29T00:00:00",
          "2021-10-09T00:00:00",
          "2021-10-19T00:00:00",
          "2021-10-29T00:00:00",
          "2021-11-08T00:00:00"
         ],
         "xaxis": "x",
         "y": [
          null,
          0.088,
          0.082,
          0.118,
          0.191,
          0.328,
          0.472,
          0.655,
          0.691,
          0.685,
          0.723,
          0.608,
          0.542,
          0.496,
          0.401,
          0.373,
          0.384
         ],
         "yaxis": "y"
        },
        {
         "customdata": [
          [
           29
          ],
          [
           29
          ],
          [
           29
          ],
          [
           29
          ],
          [
           29
          ],
          [
           29
          ],
          [
           29
          ],
          [
           29
          ],
          [
           29
          ],
          [
           29
          ],
          [
           29
          ],
          [
           29
          ],
          [
           29
          ],
          [
           29
          ],
          [
           29
          ],
          [
           29
          ],
          [
           29
          ]
         ],
         "hovertemplate": "parcel_id=%{customdata[0]}<br>point_id=507<br>date=%{x}<br>value=%{y}<extra></extra>",
         "legendgroup": "29",
         "line": {
          "color": "#FF97FF",
          "dash": "solid",
          "width": 0.7
         },
         "marker": {
          "symbol": "circle"
         },
         "mode": "lines",
         "name": "29",
         "showlegend": false,
         "type": "scattergl",
         "x": [
          "2021-06-01T00:00:00",
          "2021-06-11T00:00:00",
          "2021-06-21T00:00:00",
          "2021-07-01T00:00:00",
          "2021-07-11T00:00:00",
          "2021-07-21T00:00:00",
          "2021-07-31T00:00:00",
          "2021-08-10T00:00:00",
          "2021-08-20T00:00:00",
          "2021-08-30T00:00:00",
          "2021-09-09T00:00:00",
          "2021-09-19T00:00:00",
          "2021-09-29T00:00:00",
          "2021-10-09T00:00:00",
          "2021-10-19T00:00:00",
          "2021-10-29T00:00:00",
          "2021-11-08T00:00:00"
         ],
         "xaxis": "x",
         "y": [
          null,
          0.099,
          0.095,
          0.118,
          0.185,
          0.322,
          0.514,
          0.704,
          0.724,
          0.7,
          0.745,
          0.657,
          0.632,
          0.622,
          0.564,
          0.53,
          0.493
         ],
         "yaxis": "y"
        },
        {
         "customdata": [
          [
           16
          ],
          [
           16
          ],
          [
           16
          ],
          [
           16
          ],
          [
           16
          ],
          [
           16
          ],
          [
           16
          ],
          [
           16
          ],
          [
           16
          ],
          [
           16
          ],
          [
           16
          ],
          [
           16
          ],
          [
           16
          ],
          [
           16
          ],
          [
           16
          ],
          [
           16
          ],
          [
           16
          ]
         ],
         "hovertemplate": "parcel_id=%{customdata[0]}<br>point_id=130<br>date=%{x}<br>value=%{y}<extra></extra>",
         "legendgroup": "16",
         "line": {
          "color": "#FECB52",
          "dash": "solid",
          "width": 0.7
         },
         "marker": {
          "symbol": "circle"
         },
         "mode": "lines",
         "name": "16",
         "showlegend": true,
         "type": "scattergl",
         "x": [
          "2021-06-01T00:00:00",
          "2021-06-11T00:00:00",
          "2021-06-21T00:00:00",
          "2021-07-01T00:00:00",
          "2021-07-11T00:00:00",
          "2021-07-21T00:00:00",
          "2021-07-31T00:00:00",
          "2021-08-10T00:00:00",
          "2021-08-20T00:00:00",
          "2021-08-30T00:00:00",
          "2021-09-09T00:00:00",
          "2021-09-19T00:00:00",
          "2021-09-29T00:00:00",
          "2021-10-09T00:00:00",
          "2021-10-19T00:00:00",
          "2021-10-29T00:00:00",
          "2021-11-08T00:00:00"
         ],
         "xaxis": "x",
         "y": [
          null,
          0.087,
          0.067,
          0.1,
          0.107,
          0.113,
          0.145,
          0.19,
          0.238,
          0.375,
          0.415,
          0.43,
          0.428,
          0.405,
          0.357,
          0.307,
          0.273
         ],
         "yaxis": "y"
        },
        {
         "customdata": [
          [
           16
          ],
          [
           16
          ],
          [
           16
          ],
          [
           16
          ],
          [
           16
          ],
          [
           16
          ],
          [
           16
          ],
          [
           16
          ],
          [
           16
          ],
          [
           16
          ],
          [
           16
          ],
          [
           16
          ],
          [
           16
          ],
          [
           16
          ],
          [
           16
          ],
          [
           16
          ],
          [
           16
          ]
         ],
         "hovertemplate": "parcel_id=%{customdata[0]}<br>point_id=241<br>date=%{x}<br>value=%{y}<extra></extra>",
         "legendgroup": "16",
         "line": {
          "color": "#FECB52",
          "dash": "solid",
          "width": 0.7
         },
         "marker": {
          "symbol": "circle"
         },
         "mode": "lines",
         "name": "16",
         "showlegend": false,
         "type": "scattergl",
         "x": [
          "2021-06-01T00:00:00",
          "2021-06-11T00:00:00",
          "2021-06-21T00:00:00",
          "2021-07-01T00:00:00",
          "2021-07-11T00:00:00",
          "2021-07-21T00:00:00",
          "2021-07-31T00:00:00",
          "2021-08-10T00:00:00",
          "2021-08-20T00:00:00",
          "2021-08-30T00:00:00",
          "2021-09-09T00:00:00",
          "2021-09-19T00:00:00",
          "2021-09-29T00:00:00",
          "2021-10-09T00:00:00",
          "2021-10-19T00:00:00",
          "2021-10-29T00:00:00",
          "2021-11-08T00:00:00"
         ],
         "xaxis": "x",
         "y": [
          null,
          0.093,
          0.068,
          0.12,
          0.119,
          0.121,
          0.169,
          0.267,
          0.338,
          0.458,
          0.521,
          0.62,
          0.636,
          0.587,
          0.502,
          0.439,
          0.401
         ],
         "yaxis": "y"
        },
        {
         "customdata": [
          [
           16
          ],
          [
           16
          ],
          [
           16
          ],
          [
           16
          ],
          [
           16
          ],
          [
           16
          ],
          [
           16
          ],
          [
           16
          ],
          [
           16
          ],
          [
           16
          ],
          [
           16
          ],
          [
           16
          ],
          [
           16
          ],
          [
           16
          ],
          [
           16
          ],
          [
           16
          ],
          [
           16
          ]
         ],
         "hovertemplate": "parcel_id=%{customdata[0]}<br>point_id=229<br>date=%{x}<br>value=%{y}<extra></extra>",
         "legendgroup": "16",
         "line": {
          "color": "#FECB52",
          "dash": "solid",
          "width": 0.7
         },
         "marker": {
          "symbol": "circle"
         },
         "mode": "lines",
         "name": "16",
         "showlegend": false,
         "type": "scattergl",
         "x": [
          "2021-06-01T00:00:00",
          "2021-06-11T00:00:00",
          "2021-06-21T00:00:00",
          "2021-07-01T00:00:00",
          "2021-07-11T00:00:00",
          "2021-07-21T00:00:00",
          "2021-07-31T00:00:00",
          "2021-08-10T00:00:00",
          "2021-08-20T00:00:00",
          "2021-08-30T00:00:00",
          "2021-09-09T00:00:00",
          "2021-09-19T00:00:00",
          "2021-09-29T00:00:00",
          "2021-10-09T00:00:00",
          "2021-10-19T00:00:00",
          "2021-10-29T00:00:00",
          "2021-11-08T00:00:00"
         ],
         "xaxis": "x",
         "y": [
          null,
          0.097,
          0.066,
          0.116,
          0.124,
          0.118,
          0.169,
          0.268,
          0.338,
          0.447,
          0.544,
          0.631,
          0.654,
          0.609,
          0.53,
          0.461,
          0.415
         ],
         "yaxis": "y"
        },
        {
         "customdata": [
          [
           16
          ],
          [
           16
          ],
          [
           16
          ],
          [
           16
          ],
          [
           16
          ],
          [
           16
          ],
          [
           16
          ],
          [
           16
          ],
          [
           16
          ],
          [
           16
          ],
          [
           16
          ],
          [
           16
          ],
          [
           16
          ],
          [
           16
          ],
          [
           16
          ],
          [
           16
          ],
          [
           16
          ]
         ],
         "hovertemplate": "parcel_id=%{customdata[0]}<br>point_id=236<br>date=%{x}<br>value=%{y}<extra></extra>",
         "legendgroup": "16",
         "line": {
          "color": "#FECB52",
          "dash": "solid",
          "width": 0.7
         },
         "marker": {
          "symbol": "circle"
         },
         "mode": "lines",
         "name": "16",
         "showlegend": false,
         "type": "scattergl",
         "x": [
          "2021-06-01T00:00:00",
          "2021-06-11T00:00:00",
          "2021-06-21T00:00:00",
          "2021-07-01T00:00:00",
          "2021-07-11T00:00:00",
          "2021-07-21T00:00:00",
          "2021-07-31T00:00:00",
          "2021-08-10T00:00:00",
          "2021-08-20T00:00:00",
          "2021-08-30T00:00:00",
          "2021-09-09T00:00:00",
          "2021-09-19T00:00:00",
          "2021-09-29T00:00:00",
          "2021-10-09T00:00:00",
          "2021-10-19T00:00:00",
          "2021-10-29T00:00:00",
          "2021-11-08T00:00:00"
         ],
         "xaxis": "x",
         "y": [
          null,
          0.088,
          0.058,
          0.108,
          0.117,
          0.121,
          0.164,
          0.248,
          0.296,
          0.434,
          0.549,
          0.579,
          0.582,
          0.537,
          0.463,
          0.427,
          0.415
         ],
         "yaxis": "y"
        },
        {
         "customdata": [
          [
           16
          ],
          [
           16
          ],
          [
           16
          ],
          [
           16
          ],
          [
           16
          ],
          [
           16
          ],
          [
           16
          ],
          [
           16
          ],
          [
           16
          ],
          [
           16
          ],
          [
           16
          ],
          [
           16
          ],
          [
           16
          ],
          [
           16
          ],
          [
           16
          ],
          [
           16
          ],
          [
           16
          ]
         ],
         "hovertemplate": "parcel_id=%{customdata[0]}<br>point_id=231<br>date=%{x}<br>value=%{y}<extra></extra>",
         "legendgroup": "16",
         "line": {
          "color": "#FECB52",
          "dash": "solid",
          "width": 0.7
         },
         "marker": {
          "symbol": "circle"
         },
         "mode": "lines",
         "name": "16",
         "showlegend": false,
         "type": "scattergl",
         "x": [
          "2021-06-01T00:00:00",
          "2021-06-11T00:00:00",
          "2021-06-21T00:00:00",
          "2021-07-01T00:00:00",
          "2021-07-11T00:00:00",
          "2021-07-21T00:00:00",
          "2021-07-31T00:00:00",
          "2021-08-10T00:00:00",
          "2021-08-20T00:00:00",
          "2021-08-30T00:00:00",
          "2021-09-09T00:00:00",
          "2021-09-19T00:00:00",
          "2021-09-29T00:00:00",
          "2021-10-09T00:00:00",
          "2021-10-19T00:00:00",
          "2021-10-29T00:00:00",
          "2021-11-08T00:00:00"
         ],
         "xaxis": "x",
         "y": [
          null,
          0.094,
          0.064,
          0.117,
          0.113,
          0.115,
          0.167,
          0.265,
          0.319,
          0.444,
          0.524,
          0.61,
          0.627,
          0.575,
          0.486,
          0.422,
          0.383
         ],
         "yaxis": "y"
        },
        {
         "customdata": [
          [
           16
          ],
          [
           16
          ],
          [
           16
          ],
          [
           16
          ],
          [
           16
          ],
          [
           16
          ],
          [
           16
          ],
          [
           16
          ],
          [
           16
          ],
          [
           16
          ],
          [
           16
          ],
          [
           16
          ],
          [
           16
          ],
          [
           16
          ],
          [
           16
          ],
          [
           16
          ],
          [
           16
          ]
         ],
         "hovertemplate": "parcel_id=%{customdata[0]}<br>point_id=164<br>date=%{x}<br>value=%{y}<extra></extra>",
         "legendgroup": "16",
         "line": {
          "color": "#FECB52",
          "dash": "solid",
          "width": 0.7
         },
         "marker": {
          "symbol": "circle"
         },
         "mode": "lines",
         "name": "16",
         "showlegend": false,
         "type": "scattergl",
         "x": [
          "2021-06-01T00:00:00",
          "2021-06-11T00:00:00",
          "2021-06-21T00:00:00",
          "2021-07-01T00:00:00",
          "2021-07-11T00:00:00",
          "2021-07-21T00:00:00",
          "2021-07-31T00:00:00",
          "2021-08-10T00:00:00",
          "2021-08-20T00:00:00",
          "2021-08-30T00:00:00",
          "2021-09-09T00:00:00",
          "2021-09-19T00:00:00",
          "2021-09-29T00:00:00",
          "2021-10-09T00:00:00",
          "2021-10-19T00:00:00",
          "2021-10-29T00:00:00",
          "2021-11-08T00:00:00"
         ],
         "xaxis": "x",
         "y": [
          null,
          0.088,
          0.074,
          0.113,
          0.109,
          0.109,
          0.154,
          0.23,
          0.276,
          0.413,
          0.462,
          0.559,
          0.555,
          0.5,
          0.427,
          0.387,
          0.364
         ],
         "yaxis": "y"
        },
        {
         "customdata": [
          [
           16
          ],
          [
           16
          ],
          [
           16
          ],
          [
           16
          ],
          [
           16
          ],
          [
           16
          ],
          [
           16
          ],
          [
           16
          ],
          [
           16
          ],
          [
           16
          ],
          [
           16
          ],
          [
           16
          ],
          [
           16
          ],
          [
           16
          ],
          [
           16
          ],
          [
           16
          ],
          [
           16
          ]
         ],
         "hovertemplate": "parcel_id=%{customdata[0]}<br>point_id=209<br>date=%{x}<br>value=%{y}<extra></extra>",
         "legendgroup": "16",
         "line": {
          "color": "#FECB52",
          "dash": "solid",
          "width": 0.7
         },
         "marker": {
          "symbol": "circle"
         },
         "mode": "lines",
         "name": "16",
         "showlegend": false,
         "type": "scattergl",
         "x": [
          "2021-06-01T00:00:00",
          "2021-06-11T00:00:00",
          "2021-06-21T00:00:00",
          "2021-07-01T00:00:00",
          "2021-07-11T00:00:00",
          "2021-07-21T00:00:00",
          "2021-07-31T00:00:00",
          "2021-08-10T00:00:00",
          "2021-08-20T00:00:00",
          "2021-08-30T00:00:00",
          "2021-09-09T00:00:00",
          "2021-09-19T00:00:00",
          "2021-09-29T00:00:00",
          "2021-10-09T00:00:00",
          "2021-10-19T00:00:00",
          "2021-10-29T00:00:00",
          "2021-11-08T00:00:00"
         ],
         "xaxis": "x",
         "y": [
          null,
          0.096,
          0.066,
          0.131,
          0.1,
          0.12,
          0.17,
          0.258,
          0.32,
          0.426,
          0.561,
          0.62,
          0.631,
          0.575,
          0.49,
          0.426,
          0.383
         ],
         "yaxis": "y"
        },
        {
         "customdata": [
          [
           20
          ],
          [
           20
          ],
          [
           20
          ],
          [
           20
          ],
          [
           20
          ],
          [
           20
          ],
          [
           20
          ],
          [
           20
          ],
          [
           20
          ],
          [
           20
          ],
          [
           20
          ],
          [
           20
          ],
          [
           20
          ],
          [
           20
          ],
          [
           20
          ],
          [
           20
          ],
          [
           20
          ]
         ],
         "hovertemplate": "parcel_id=%{customdata[0]}<br>point_id=10034<br>date=%{x}<br>value=%{y}<extra></extra>",
         "legendgroup": "20",
         "line": {
          "color": "#636efa",
          "dash": "solid",
          "width": 0.7
         },
         "marker": {
          "symbol": "circle"
         },
         "mode": "lines",
         "name": "20",
         "showlegend": true,
         "type": "scattergl",
         "x": [
          "2021-06-01T00:00:00",
          "2021-06-11T00:00:00",
          "2021-06-21T00:00:00",
          "2021-07-01T00:00:00",
          "2021-07-11T00:00:00",
          "2021-07-21T00:00:00",
          "2021-07-31T00:00:00",
          "2021-08-10T00:00:00",
          "2021-08-20T00:00:00",
          "2021-08-30T00:00:00",
          "2021-09-09T00:00:00",
          "2021-09-19T00:00:00",
          "2021-09-29T00:00:00",
          "2021-10-09T00:00:00",
          "2021-10-19T00:00:00",
          "2021-10-29T00:00:00",
          "2021-11-08T00:00:00"
         ],
         "xaxis": "x",
         "y": [
          null,
          0.109,
          0.11,
          0.132,
          0.328,
          0.632,
          0.526,
          0.294,
          0.328,
          0.437,
          0.546,
          0.494,
          0.563,
          0.604,
          0.511,
          0.461,
          0.41
         ],
         "yaxis": "y"
        },
        {
         "customdata": [
          [
           20
          ],
          [
           20
          ],
          [
           20
          ],
          [
           20
          ],
          [
           20
          ],
          [
           20
          ],
          [
           20
          ],
          [
           20
          ],
          [
           20
          ],
          [
           20
          ],
          [
           20
          ],
          [
           20
          ],
          [
           20
          ],
          [
           20
          ],
          [
           20
          ],
          [
           20
          ],
          [
           20
          ]
         ],
         "hovertemplate": "parcel_id=%{customdata[0]}<br>point_id=10109<br>date=%{x}<br>value=%{y}<extra></extra>",
         "legendgroup": "20",
         "line": {
          "color": "#636efa",
          "dash": "solid",
          "width": 0.7
         },
         "marker": {
          "symbol": "circle"
         },
         "mode": "lines",
         "name": "20",
         "showlegend": false,
         "type": "scattergl",
         "x": [
          "2021-06-01T00:00:00",
          "2021-06-11T00:00:00",
          "2021-06-21T00:00:00",
          "2021-07-01T00:00:00",
          "2021-07-11T00:00:00",
          "2021-07-21T00:00:00",
          "2021-07-31T00:00:00",
          "2021-08-10T00:00:00",
          "2021-08-20T00:00:00",
          "2021-08-30T00:00:00",
          "2021-09-09T00:00:00",
          "2021-09-19T00:00:00",
          "2021-09-29T00:00:00",
          "2021-10-09T00:00:00",
          "2021-10-19T00:00:00",
          "2021-10-29T00:00:00",
          "2021-11-08T00:00:00"
         ],
         "xaxis": "x",
         "y": [
          null,
          0.113,
          0.108,
          0.117,
          0.279,
          0.54,
          0.458,
          0.278,
          0.268,
          0.307,
          0.373,
          0.488,
          0.62,
          0.678,
          0.51,
          0.439,
          0.364
         ],
         "yaxis": "y"
        },
        {
         "customdata": [
          [
           20
          ],
          [
           20
          ],
          [
           20
          ],
          [
           20
          ],
          [
           20
          ],
          [
           20
          ],
          [
           20
          ],
          [
           20
          ],
          [
           20
          ],
          [
           20
          ],
          [
           20
          ],
          [
           20
          ],
          [
           20
          ],
          [
           20
          ],
          [
           20
          ],
          [
           20
          ],
          [
           20
          ]
         ],
         "hovertemplate": "parcel_id=%{customdata[0]}<br>point_id=10070<br>date=%{x}<br>value=%{y}<extra></extra>",
         "legendgroup": "20",
         "line": {
          "color": "#636efa",
          "dash": "solid",
          "width": 0.7
         },
         "marker": {
          "symbol": "circle"
         },
         "mode": "lines",
         "name": "20",
         "showlegend": false,
         "type": "scattergl",
         "x": [
          "2021-06-01T00:00:00",
          "2021-06-11T00:00:00",
          "2021-06-21T00:00:00",
          "2021-07-01T00:00:00",
          "2021-07-11T00:00:00",
          "2021-07-21T00:00:00",
          "2021-07-31T00:00:00",
          "2021-08-10T00:00:00",
          "2021-08-20T00:00:00",
          "2021-08-30T00:00:00",
          "2021-09-09T00:00:00",
          "2021-09-19T00:00:00",
          "2021-09-29T00:00:00",
          "2021-10-09T00:00:00",
          "2021-10-19T00:00:00",
          "2021-10-29T00:00:00",
          "2021-11-08T00:00:00"
         ],
         "xaxis": "x",
         "y": [
          null,
          0.122,
          0.123,
          0.137,
          0.3,
          0.621,
          0.549,
          0.354,
          0.316,
          0.321,
          0.363,
          0.483,
          0.593,
          0.624,
          0.576,
          0.53,
          0.479
         ],
         "yaxis": "y"
        },
        {
         "customdata": [
          [
           20
          ],
          [
           20
          ],
          [
           20
          ],
          [
           20
          ],
          [
           20
          ],
          [
           20
          ],
          [
           20
          ],
          [
           20
          ],
          [
           20
          ],
          [
           20
          ],
          [
           20
          ],
          [
           20
          ],
          [
           20
          ],
          [
           20
          ],
          [
           20
          ],
          [
           20
          ],
          [
           20
          ]
         ],
         "hovertemplate": "parcel_id=%{customdata[0]}<br>point_id=10042<br>date=%{x}<br>value=%{y}<extra></extra>",
         "legendgroup": "20",
         "line": {
          "color": "#636efa",
          "dash": "solid",
          "width": 0.7
         },
         "marker": {
          "symbol": "circle"
         },
         "mode": "lines",
         "name": "20",
         "showlegend": false,
         "type": "scattergl",
         "x": [
          "2021-06-01T00:00:00",
          "2021-06-11T00:00:00",
          "2021-06-21T00:00:00",
          "2021-07-01T00:00:00",
          "2021-07-11T00:00:00",
          "2021-07-21T00:00:00",
          "2021-07-31T00:00:00",
          "2021-08-10T00:00:00",
          "2021-08-20T00:00:00",
          "2021-08-30T00:00:00",
          "2021-09-09T00:00:00",
          "2021-09-19T00:00:00",
          "2021-09-29T00:00:00",
          "2021-10-09T00:00:00",
          "2021-10-19T00:00:00",
          "2021-10-29T00:00:00",
          "2021-11-08T00:00:00"
         ],
         "xaxis": "x",
         "y": [
          null,
          0.108,
          0.109,
          0.119,
          0.255,
          0.521,
          0.422,
          0.223,
          0.221,
          0.276,
          0.343,
          0.417,
          0.497,
          0.508,
          0.481,
          0.425,
          0.364
         ],
         "yaxis": "y"
        },
        {
         "customdata": [
          [
           20
          ],
          [
           20
          ],
          [
           20
          ],
          [
           20
          ],
          [
           20
          ],
          [
           20
          ],
          [
           20
          ],
          [
           20
          ],
          [
           20
          ],
          [
           20
          ],
          [
           20
          ],
          [
           20
          ],
          [
           20
          ],
          [
           20
          ],
          [
           20
          ],
          [
           20
          ],
          [
           20
          ]
         ],
         "hovertemplate": "parcel_id=%{customdata[0]}<br>point_id=10020<br>date=%{x}<br>value=%{y}<extra></extra>",
         "legendgroup": "20",
         "line": {
          "color": "#636efa",
          "dash": "solid",
          "width": 0.7
         },
         "marker": {
          "symbol": "circle"
         },
         "mode": "lines",
         "name": "20",
         "showlegend": false,
         "type": "scattergl",
         "x": [
          "2021-06-01T00:00:00",
          "2021-06-11T00:00:00",
          "2021-06-21T00:00:00",
          "2021-07-01T00:00:00",
          "2021-07-11T00:00:00",
          "2021-07-21T00:00:00",
          "2021-07-31T00:00:00",
          "2021-08-10T00:00:00",
          "2021-08-20T00:00:00",
          "2021-08-30T00:00:00",
          "2021-09-09T00:00:00",
          "2021-09-19T00:00:00",
          "2021-09-29T00:00:00",
          "2021-10-09T00:00:00",
          "2021-10-19T00:00:00",
          "2021-10-29T00:00:00",
          "2021-11-08T00:00:00"
         ],
         "xaxis": "x",
         "y": [
          null,
          0.113,
          0.113,
          0.141,
          0.308,
          0.551,
          0.461,
          0.272,
          0.269,
          0.319,
          0.389,
          0.503,
          0.597,
          0.614,
          0.561,
          0.47,
          0.373
         ],
         "yaxis": "y"
        },
        {
         "customdata": [
          [
           20
          ],
          [
           20
          ],
          [
           20
          ],
          [
           20
          ],
          [
           20
          ],
          [
           20
          ],
          [
           20
          ],
          [
           20
          ],
          [
           20
          ],
          [
           20
          ],
          [
           20
          ],
          [
           20
          ],
          [
           20
          ],
          [
           20
          ],
          [
           20
          ],
          [
           20
          ],
          [
           20
          ]
         ],
         "hovertemplate": "parcel_id=%{customdata[0]}<br>point_id=10017<br>date=%{x}<br>value=%{y}<extra></extra>",
         "legendgroup": "20",
         "line": {
          "color": "#636efa",
          "dash": "solid",
          "width": 0.7
         },
         "marker": {
          "symbol": "circle"
         },
         "mode": "lines",
         "name": "20",
         "showlegend": false,
         "type": "scattergl",
         "x": [
          "2021-06-01T00:00:00",
          "2021-06-11T00:00:00",
          "2021-06-21T00:00:00",
          "2021-07-01T00:00:00",
          "2021-07-11T00:00:00",
          "2021-07-21T00:00:00",
          "2021-07-31T00:00:00",
          "2021-08-10T00:00:00",
          "2021-08-20T00:00:00",
          "2021-08-30T00:00:00",
          "2021-09-09T00:00:00",
          "2021-09-19T00:00:00",
          "2021-09-29T00:00:00",
          "2021-10-09T00:00:00",
          "2021-10-19T00:00:00",
          "2021-10-29T00:00:00",
          "2021-11-08T00:00:00"
         ],
         "xaxis": "x",
         "y": [
          null,
          0.13,
          0.128,
          0.155,
          0.329,
          0.6,
          0.51,
          0.304,
          0.278,
          0.301,
          0.341,
          0.424,
          0.515,
          0.556,
          0.53,
          0.462,
          0.391
         ],
         "yaxis": "y"
        },
        {
         "customdata": [
          [
           20
          ],
          [
           20
          ],
          [
           20
          ],
          [
           20
          ],
          [
           20
          ],
          [
           20
          ],
          [
           20
          ],
          [
           20
          ],
          [
           20
          ],
          [
           20
          ],
          [
           20
          ],
          [
           20
          ],
          [
           20
          ],
          [
           20
          ],
          [
           20
          ],
          [
           20
          ],
          [
           20
          ]
         ],
         "hovertemplate": "parcel_id=%{customdata[0]}<br>point_id=10060<br>date=%{x}<br>value=%{y}<extra></extra>",
         "legendgroup": "20",
         "line": {
          "color": "#636efa",
          "dash": "solid",
          "width": 0.7
         },
         "marker": {
          "symbol": "circle"
         },
         "mode": "lines",
         "name": "20",
         "showlegend": false,
         "type": "scattergl",
         "x": [
          "2021-06-01T00:00:00",
          "2021-06-11T00:00:00",
          "2021-06-21T00:00:00",
          "2021-07-01T00:00:00",
          "2021-07-11T00:00:00",
          "2021-07-21T00:00:00",
          "2021-07-31T00:00:00",
          "2021-08-10T00:00:00",
          "2021-08-20T00:00:00",
          "2021-08-30T00:00:00",
          "2021-09-09T00:00:00",
          "2021-09-19T00:00:00",
          "2021-09-29T00:00:00",
          "2021-10-09T00:00:00",
          "2021-10-19T00:00:00",
          "2021-10-29T00:00:00",
          "2021-11-08T00:00:00"
         ],
         "xaxis": "x",
         "y": [
          null,
          0.107,
          0.11,
          0.123,
          0.282,
          0.602,
          0.505,
          0.27,
          0.247,
          0.285,
          0.342,
          0.434,
          0.509,
          0.526,
          0.518,
          0.482,
          0.444
         ],
         "yaxis": "y"
        },
        {
         "customdata": [
          [
           13
          ],
          [
           13
          ],
          [
           13
          ],
          [
           13
          ],
          [
           13
          ],
          [
           13
          ],
          [
           13
          ],
          [
           13
          ],
          [
           13
          ],
          [
           13
          ],
          [
           13
          ],
          [
           13
          ],
          [
           13
          ],
          [
           13
          ],
          [
           13
          ],
          [
           13
          ],
          [
           13
          ]
         ],
         "hovertemplate": "parcel_id=%{customdata[0]}<br>point_id=9882<br>date=%{x}<br>value=%{y}<extra></extra>",
         "legendgroup": "13",
         "line": {
          "color": "#EF553B",
          "dash": "solid",
          "width": 0.7
         },
         "marker": {
          "symbol": "circle"
         },
         "mode": "lines",
         "name": "13",
         "showlegend": true,
         "type": "scattergl",
         "x": [
          "2021-06-01T00:00:00",
          "2021-06-11T00:00:00",
          "2021-06-21T00:00:00",
          "2021-07-01T00:00:00",
          "2021-07-11T00:00:00",
          "2021-07-21T00:00:00",
          "2021-07-31T00:00:00",
          "2021-08-10T00:00:00",
          "2021-08-20T00:00:00",
          "2021-08-30T00:00:00",
          "2021-09-09T00:00:00",
          "2021-09-19T00:00:00",
          "2021-09-29T00:00:00",
          "2021-10-09T00:00:00",
          "2021-10-19T00:00:00",
          "2021-10-29T00:00:00",
          "2021-11-08T00:00:00"
         ],
         "xaxis": "x",
         "y": [
          null,
          0.115,
          0.118,
          0.13,
          0.177,
          0.303,
          null,
          null,
          null,
          null,
          0.605,
          0.646,
          0.66,
          0.641,
          0.521,
          0.44,
          0.363
         ],
         "yaxis": "y"
        },
        {
         "customdata": [
          [
           14
          ],
          [
           14
          ],
          [
           14
          ],
          [
           14
          ],
          [
           14
          ],
          [
           14
          ],
          [
           14
          ],
          [
           14
          ],
          [
           14
          ],
          [
           14
          ],
          [
           14
          ],
          [
           14
          ],
          [
           14
          ],
          [
           14
          ],
          [
           14
          ],
          [
           14
          ],
          [
           14
          ]
         ],
         "hovertemplate": "parcel_id=%{customdata[0]}<br>point_id=675<br>date=%{x}<br>value=%{y}<extra></extra>",
         "legendgroup": "14",
         "line": {
          "color": "#00cc96",
          "dash": "solid",
          "width": 0.7
         },
         "marker": {
          "symbol": "circle"
         },
         "mode": "lines",
         "name": "14",
         "showlegend": true,
         "type": "scattergl",
         "x": [
          "2021-06-01T00:00:00",
          "2021-06-11T00:00:00",
          "2021-06-21T00:00:00",
          "2021-07-01T00:00:00",
          "2021-07-11T00:00:00",
          "2021-07-21T00:00:00",
          "2021-07-31T00:00:00",
          "2021-08-10T00:00:00",
          "2021-08-20T00:00:00",
          "2021-08-30T00:00:00",
          "2021-09-09T00:00:00",
          "2021-09-19T00:00:00",
          "2021-09-29T00:00:00",
          "2021-10-09T00:00:00",
          "2021-10-19T00:00:00",
          "2021-10-29T00:00:00",
          "2021-11-08T00:00:00"
         ],
         "xaxis": "x",
         "y": [
          null,
          0.085,
          0.081,
          0.108,
          0.134,
          0.163,
          0.124,
          0.185,
          0.253,
          0.356,
          0.532,
          0.592,
          0.646,
          0.657,
          0.573,
          0.511,
          0.439
         ],
         "yaxis": "y"
        },
        {
         "customdata": [
          [
           14
          ],
          [
           14
          ],
          [
           14
          ],
          [
           14
          ],
          [
           14
          ],
          [
           14
          ],
          [
           14
          ],
          [
           14
          ],
          [
           14
          ],
          [
           14
          ],
          [
           14
          ],
          [
           14
          ],
          [
           14
          ],
          [
           14
          ],
          [
           14
          ],
          [
           14
          ],
          [
           14
          ]
         ],
         "hovertemplate": "parcel_id=%{customdata[0]}<br>point_id=656<br>date=%{x}<br>value=%{y}<extra></extra>",
         "legendgroup": "14",
         "line": {
          "color": "#00cc96",
          "dash": "solid",
          "width": 0.7
         },
         "marker": {
          "symbol": "circle"
         },
         "mode": "lines",
         "name": "14",
         "showlegend": false,
         "type": "scattergl",
         "x": [
          "2021-06-01T00:00:00",
          "2021-06-11T00:00:00",
          "2021-06-21T00:00:00",
          "2021-07-01T00:00:00",
          "2021-07-11T00:00:00",
          "2021-07-21T00:00:00",
          "2021-07-31T00:00:00",
          "2021-08-10T00:00:00",
          "2021-08-20T00:00:00",
          "2021-08-30T00:00:00",
          "2021-09-09T00:00:00",
          "2021-09-19T00:00:00",
          "2021-09-29T00:00:00",
          "2021-10-09T00:00:00",
          "2021-10-19T00:00:00",
          "2021-10-29T00:00:00",
          "2021-11-08T00:00:00"
         ],
         "xaxis": "x",
         "y": [
          null,
          0.094,
          0.088,
          0.135,
          0.151,
          0.172,
          0.213,
          0.382,
          0.546,
          0.712,
          0.732,
          0.659,
          0.648,
          0.625,
          0.512,
          0.464,
          0.413
         ],
         "yaxis": "y"
        },
        {
         "customdata": [
          [
           14
          ],
          [
           14
          ],
          [
           14
          ],
          [
           14
          ],
          [
           14
          ],
          [
           14
          ],
          [
           14
          ],
          [
           14
          ],
          [
           14
          ],
          [
           14
          ],
          [
           14
          ],
          [
           14
          ],
          [
           14
          ],
          [
           14
          ],
          [
           14
          ],
          [
           14
          ],
          [
           14
          ]
         ],
         "hovertemplate": "parcel_id=%{customdata[0]}<br>point_id=660<br>date=%{x}<br>value=%{y}<extra></extra>",
         "legendgroup": "14",
         "line": {
          "color": "#00cc96",
          "dash": "solid",
          "width": 0.7
         },
         "marker": {
          "symbol": "circle"
         },
         "mode": "lines",
         "name": "14",
         "showlegend": false,
         "type": "scattergl",
         "x": [
          "2021-06-01T00:00:00",
          "2021-06-11T00:00:00",
          "2021-06-21T00:00:00",
          "2021-07-01T00:00:00",
          "2021-07-11T00:00:00",
          "2021-07-21T00:00:00",
          "2021-07-31T00:00:00",
          "2021-08-10T00:00:00",
          "2021-08-20T00:00:00",
          "2021-08-30T00:00:00",
          "2021-09-09T00:00:00",
          "2021-09-19T00:00:00",
          "2021-09-29T00:00:00",
          "2021-10-09T00:00:00",
          "2021-10-19T00:00:00",
          "2021-10-29T00:00:00",
          "2021-11-08T00:00:00"
         ],
         "xaxis": "x",
         "y": [
          null,
          0.087,
          0.081,
          0.117,
          0.14,
          0.159,
          0.15,
          0.279,
          0.421,
          0.59,
          0.694,
          0.664,
          0.686,
          0.685,
          0.573,
          0.503,
          0.427
         ],
         "yaxis": "y"
        },
        {
         "customdata": [
          [
           14
          ],
          [
           14
          ],
          [
           14
          ],
          [
           14
          ],
          [
           14
          ],
          [
           14
          ],
          [
           14
          ],
          [
           14
          ],
          [
           14
          ],
          [
           14
          ],
          [
           14
          ],
          [
           14
          ],
          [
           14
          ],
          [
           14
          ],
          [
           14
          ],
          [
           14
          ],
          [
           14
          ]
         ],
         "hovertemplate": "parcel_id=%{customdata[0]}<br>point_id=694<br>date=%{x}<br>value=%{y}<extra></extra>",
         "legendgroup": "14",
         "line": {
          "color": "#00cc96",
          "dash": "solid",
          "width": 0.7
         },
         "marker": {
          "symbol": "circle"
         },
         "mode": "lines",
         "name": "14",
         "showlegend": false,
         "type": "scattergl",
         "x": [
          "2021-06-01T00:00:00",
          "2021-06-11T00:00:00",
          "2021-06-21T00:00:00",
          "2021-07-01T00:00:00",
          "2021-07-11T00:00:00",
          "2021-07-21T00:00:00",
          "2021-07-31T00:00:00",
          "2021-08-10T00:00:00",
          "2021-08-20T00:00:00",
          "2021-08-30T00:00:00",
          "2021-09-09T00:00:00",
          "2021-09-19T00:00:00",
          "2021-09-29T00:00:00",
          "2021-10-09T00:00:00",
          "2021-10-19T00:00:00",
          "2021-10-29T00:00:00",
          "2021-11-08T00:00:00"
         ],
         "xaxis": "x",
         "y": [
          null,
          0.088,
          0.087,
          0.108,
          0.129,
          0.17,
          0.127,
          0.226,
          0.323,
          0.434,
          0.581,
          0.631,
          0.66,
          0.648,
          0.52,
          0.453,
          0.379
         ],
         "yaxis": "y"
        },
        {
         "customdata": [
          [
           48
          ],
          [
           48
          ],
          [
           48
          ],
          [
           48
          ],
          [
           48
          ],
          [
           48
          ],
          [
           48
          ],
          [
           48
          ],
          [
           48
          ],
          [
           48
          ],
          [
           48
          ],
          [
           48
          ],
          [
           48
          ],
          [
           48
          ],
          [
           48
          ],
          [
           48
          ],
          [
           48
          ]
         ],
         "hovertemplate": "parcel_id=%{customdata[0]}<br>point_id=63<br>date=%{x}<br>value=%{y}<extra></extra>",
         "legendgroup": "48",
         "line": {
          "color": "#ab63fa",
          "dash": "solid",
          "width": 0.7
         },
         "marker": {
          "symbol": "circle"
         },
         "mode": "lines",
         "name": "48",
         "showlegend": true,
         "type": "scattergl",
         "x": [
          "2021-06-01T00:00:00",
          "2021-06-11T00:00:00",
          "2021-06-21T00:00:00",
          "2021-07-01T00:00:00",
          "2021-07-11T00:00:00",
          "2021-07-21T00:00:00",
          "2021-07-31T00:00:00",
          "2021-08-10T00:00:00",
          "2021-08-20T00:00:00",
          "2021-08-30T00:00:00",
          "2021-09-09T00:00:00",
          "2021-09-19T00:00:00",
          "2021-09-29T00:00:00",
          "2021-10-09T00:00:00",
          "2021-10-19T00:00:00",
          "2021-10-29T00:00:00",
          "2021-11-08T00:00:00"
         ],
         "xaxis": "x",
         "y": [
          null,
          0.085,
          0.089,
          0.109,
          0.104,
          0.165,
          0.125,
          0.213,
          0.331,
          0.476,
          0.474,
          0.598,
          0.666,
          0.655,
          0.481,
          0.426,
          0.408
         ],
         "yaxis": "y"
        },
        {
         "customdata": [
          [
           48
          ],
          [
           48
          ],
          [
           48
          ],
          [
           48
          ],
          [
           48
          ],
          [
           48
          ],
          [
           48
          ],
          [
           48
          ],
          [
           48
          ],
          [
           48
          ],
          [
           48
          ],
          [
           48
          ],
          [
           48
          ],
          [
           48
          ],
          [
           48
          ],
          [
           48
          ],
          [
           48
          ]
         ],
         "hovertemplate": "parcel_id=%{customdata[0]}<br>point_id=47<br>date=%{x}<br>value=%{y}<extra></extra>",
         "legendgroup": "48",
         "line": {
          "color": "#ab63fa",
          "dash": "solid",
          "width": 0.7
         },
         "marker": {
          "symbol": "circle"
         },
         "mode": "lines",
         "name": "48",
         "showlegend": false,
         "type": "scattergl",
         "x": [
          "2021-06-01T00:00:00",
          "2021-06-11T00:00:00",
          "2021-06-21T00:00:00",
          "2021-07-01T00:00:00",
          "2021-07-11T00:00:00",
          "2021-07-21T00:00:00",
          "2021-07-31T00:00:00",
          "2021-08-10T00:00:00",
          "2021-08-20T00:00:00",
          "2021-08-30T00:00:00",
          "2021-09-09T00:00:00",
          "2021-09-19T00:00:00",
          "2021-09-29T00:00:00",
          "2021-10-09T00:00:00",
          "2021-10-19T00:00:00",
          "2021-10-29T00:00:00",
          "2021-11-08T00:00:00"
         ],
         "xaxis": "x",
         "y": [
          null,
          0.087,
          0.088,
          0.12,
          0.112,
          0.168,
          0.139,
          0.217,
          0.32,
          0.439,
          0.575,
          0.603,
          0.67,
          0.675,
          0.501,
          0.451,
          0.43
         ],
         "yaxis": "y"
        },
        {
         "customdata": [
          [
           48
          ],
          [
           48
          ],
          [
           48
          ],
          [
           48
          ],
          [
           48
          ],
          [
           48
          ],
          [
           48
          ],
          [
           48
          ],
          [
           48
          ],
          [
           48
          ],
          [
           48
          ],
          [
           48
          ],
          [
           48
          ],
          [
           48
          ],
          [
           48
          ],
          [
           48
          ],
          [
           48
          ]
         ],
         "hovertemplate": "parcel_id=%{customdata[0]}<br>point_id=54<br>date=%{x}<br>value=%{y}<extra></extra>",
         "legendgroup": "48",
         "line": {
          "color": "#ab63fa",
          "dash": "solid",
          "width": 0.7
         },
         "marker": {
          "symbol": "circle"
         },
         "mode": "lines",
         "name": "48",
         "showlegend": false,
         "type": "scattergl",
         "x": [
          "2021-06-01T00:00:00",
          "2021-06-11T00:00:00",
          "2021-06-21T00:00:00",
          "2021-07-01T00:00:00",
          "2021-07-11T00:00:00",
          "2021-07-21T00:00:00",
          "2021-07-31T00:00:00",
          "2021-08-10T00:00:00",
          "2021-08-20T00:00:00",
          "2021-08-30T00:00:00",
          "2021-09-09T00:00:00",
          "2021-09-19T00:00:00",
          "2021-09-29T00:00:00",
          "2021-10-09T00:00:00",
          "2021-10-19T00:00:00",
          "2021-10-29T00:00:00",
          "2021-11-08T00:00:00"
         ],
         "xaxis": "x",
         "y": [
          null,
          0.087,
          0.089,
          0.113,
          0.111,
          0.168,
          0.14,
          0.208,
          0.315,
          0.447,
          0.518,
          0.597,
          0.644,
          0.625,
          0.46,
          0.406,
          0.385
         ],
         "yaxis": "y"
        },
        {
         "customdata": [
          [
           48
          ],
          [
           48
          ],
          [
           48
          ],
          [
           48
          ],
          [
           48
          ],
          [
           48
          ],
          [
           48
          ],
          [
           48
          ],
          [
           48
          ],
          [
           48
          ],
          [
           48
          ],
          [
           48
          ],
          [
           48
          ],
          [
           48
          ],
          [
           48
          ],
          [
           48
          ],
          [
           48
          ]
         ],
         "hovertemplate": "parcel_id=%{customdata[0]}<br>point_id=101<br>date=%{x}<br>value=%{y}<extra></extra>",
         "legendgroup": "48",
         "line": {
          "color": "#ab63fa",
          "dash": "solid",
          "width": 0.7
         },
         "marker": {
          "symbol": "circle"
         },
         "mode": "lines",
         "name": "48",
         "showlegend": false,
         "type": "scattergl",
         "x": [
          "2021-06-01T00:00:00",
          "2021-06-11T00:00:00",
          "2021-06-21T00:00:00",
          "2021-07-01T00:00:00",
          "2021-07-11T00:00:00",
          "2021-07-21T00:00:00",
          "2021-07-31T00:00:00",
          "2021-08-10T00:00:00",
          "2021-08-20T00:00:00",
          "2021-08-30T00:00:00",
          "2021-09-09T00:00:00",
          "2021-09-19T00:00:00",
          "2021-09-29T00:00:00",
          "2021-10-09T00:00:00",
          "2021-10-19T00:00:00",
          "2021-10-29T00:00:00",
          "2021-11-08T00:00:00"
         ],
         "xaxis": "x",
         "y": [
          null,
          0.082,
          0.089,
          0.122,
          0.104,
          0.162,
          0.128,
          0.217,
          0.33,
          0.465,
          0.582,
          0.658,
          0.665,
          0.604,
          0.432,
          0.377,
          0.355
         ],
         "yaxis": "y"
        },
        {
         "customdata": [
          [
           41
          ],
          [
           41
          ],
          [
           41
          ],
          [
           41
          ],
          [
           41
          ],
          [
           41
          ],
          [
           41
          ],
          [
           41
          ],
          [
           41
          ],
          [
           41
          ],
          [
           41
          ],
          [
           41
          ],
          [
           41
          ],
          [
           41
          ],
          [
           41
          ],
          [
           41
          ],
          [
           41
          ]
         ],
         "hovertemplate": "parcel_id=%{customdata[0]}<br>point_id=9668<br>date=%{x}<br>value=%{y}<extra></extra>",
         "legendgroup": "41",
         "line": {
          "color": "#FFA15A",
          "dash": "solid",
          "width": 0.7
         },
         "marker": {
          "symbol": "circle"
         },
         "mode": "lines",
         "name": "41",
         "showlegend": true,
         "type": "scattergl",
         "x": [
          "2021-06-01T00:00:00",
          "2021-06-11T00:00:00",
          "2021-06-21T00:00:00",
          "2021-07-01T00:00:00",
          "2021-07-11T00:00:00",
          "2021-07-21T00:00:00",
          "2021-07-31T00:00:00",
          "2021-08-10T00:00:00",
          "2021-08-20T00:00:00",
          "2021-08-30T00:00:00",
          "2021-09-09T00:00:00",
          "2021-09-19T00:00:00",
          "2021-09-29T00:00:00",
          "2021-10-09T00:00:00",
          "2021-10-19T00:00:00",
          "2021-10-29T00:00:00",
          "2021-11-08T00:00:00"
         ],
         "xaxis": "x",
         "y": [
          null,
          0.103,
          0.103,
          0.112,
          0.116,
          0.199,
          null,
          null,
          null,
          null,
          0.73,
          0.685,
          0.693,
          0.693,
          0.591,
          0.519,
          0.448
         ],
         "yaxis": "y"
        },
        {
         "customdata": [
          [
           41
          ],
          [
           41
          ],
          [
           41
          ],
          [
           41
          ],
          [
           41
          ],
          [
           41
          ],
          [
           41
          ],
          [
           41
          ],
          [
           41
          ],
          [
           41
          ],
          [
           41
          ],
          [
           41
          ],
          [
           41
          ],
          [
           41
          ],
          [
           41
          ],
          [
           41
          ],
          [
           41
          ]
         ],
         "hovertemplate": "parcel_id=%{customdata[0]}<br>point_id=9679<br>date=%{x}<br>value=%{y}<extra></extra>",
         "legendgroup": "41",
         "line": {
          "color": "#FFA15A",
          "dash": "solid",
          "width": 0.7
         },
         "marker": {
          "symbol": "circle"
         },
         "mode": "lines",
         "name": "41",
         "showlegend": false,
         "type": "scattergl",
         "x": [
          "2021-06-01T00:00:00",
          "2021-06-11T00:00:00",
          "2021-06-21T00:00:00",
          "2021-07-01T00:00:00",
          "2021-07-11T00:00:00",
          "2021-07-21T00:00:00",
          "2021-07-31T00:00:00",
          "2021-08-10T00:00:00",
          "2021-08-20T00:00:00",
          "2021-08-30T00:00:00",
          "2021-09-09T00:00:00",
          "2021-09-19T00:00:00",
          "2021-09-29T00:00:00",
          "2021-10-09T00:00:00",
          "2021-10-19T00:00:00",
          "2021-10-29T00:00:00",
          "2021-11-08T00:00:00"
         ],
         "xaxis": "x",
         "y": [
          null,
          0.117,
          0.109,
          0.112,
          0.123,
          0.189,
          null,
          null,
          null,
          null,
          0.742,
          0.683,
          0.673,
          0.658,
          0.541,
          0.461,
          0.387
         ],
         "yaxis": "y"
        },
        {
         "customdata": [
          [
           47
          ],
          [
           47
          ],
          [
           47
          ],
          [
           47
          ],
          [
           47
          ],
          [
           47
          ],
          [
           47
          ],
          [
           47
          ],
          [
           47
          ],
          [
           47
          ],
          [
           47
          ],
          [
           47
          ],
          [
           47
          ],
          [
           47
          ],
          [
           47
          ],
          [
           47
          ],
          [
           47
          ]
         ],
         "hovertemplate": "parcel_id=%{customdata[0]}<br>point_id=9906<br>date=%{x}<br>value=%{y}<extra></extra>",
         "legendgroup": "47",
         "line": {
          "color": "#19d3f3",
          "dash": "solid",
          "width": 0.7
         },
         "marker": {
          "symbol": "circle"
         },
         "mode": "lines",
         "name": "47",
         "showlegend": true,
         "type": "scattergl",
         "x": [
          "2021-06-01T00:00:00",
          "2021-06-11T00:00:00",
          "2021-06-21T00:00:00",
          "2021-07-01T00:00:00",
          "2021-07-11T00:00:00",
          "2021-07-21T00:00:00",
          "2021-07-31T00:00:00",
          "2021-08-10T00:00:00",
          "2021-08-20T00:00:00",
          "2021-08-30T00:00:00",
          "2021-09-09T00:00:00",
          "2021-09-19T00:00:00",
          "2021-09-29T00:00:00",
          "2021-10-09T00:00:00",
          "2021-10-19T00:00:00",
          "2021-10-29T00:00:00",
          "2021-11-08T00:00:00"
         ],
         "xaxis": "x",
         "y": [
          null,
          0.089,
          0.085,
          0.091,
          0.14,
          0.143,
          0.161,
          0.323,
          0.471,
          0.596,
          0.73,
          0.659,
          0.603,
          0.516,
          0.338,
          0.306,
          0.317
         ],
         "yaxis": "y"
        },
        {
         "customdata": [
          [
           47
          ],
          [
           47
          ],
          [
           47
          ],
          [
           47
          ],
          [
           47
          ],
          [
           47
          ],
          [
           47
          ],
          [
           47
          ],
          [
           47
          ],
          [
           47
          ],
          [
           47
          ],
          [
           47
          ],
          [
           47
          ],
          [
           47
          ],
          [
           47
          ],
          [
           47
          ],
          [
           47
          ]
         ],
         "hovertemplate": "parcel_id=%{customdata[0]}<br>point_id=9918<br>date=%{x}<br>value=%{y}<extra></extra>",
         "legendgroup": "47",
         "line": {
          "color": "#19d3f3",
          "dash": "solid",
          "width": 0.7
         },
         "marker": {
          "symbol": "circle"
         },
         "mode": "lines",
         "name": "47",
         "showlegend": false,
         "type": "scattergl",
         "x": [
          "2021-06-01T00:00:00",
          "2021-06-11T00:00:00",
          "2021-06-21T00:00:00",
          "2021-07-01T00:00:00",
          "2021-07-11T00:00:00",
          "2021-07-21T00:00:00",
          "2021-07-31T00:00:00",
          "2021-08-10T00:00:00",
          "2021-08-20T00:00:00",
          "2021-08-30T00:00:00",
          "2021-09-09T00:00:00",
          "2021-09-19T00:00:00",
          "2021-09-29T00:00:00",
          "2021-10-09T00:00:00",
          "2021-10-19T00:00:00",
          "2021-10-29T00:00:00",
          "2021-11-08T00:00:00"
         ],
         "xaxis": "x",
         "y": [
          null,
          0.091,
          0.085,
          0.083,
          0.146,
          0.137,
          0.153,
          0.3,
          0.444,
          0.574,
          0.708,
          0.637,
          0.598,
          0.517,
          0.387,
          0.336,
          0.289
         ],
         "yaxis": "y"
        },
        {
         "customdata": [
          [
           47
          ],
          [
           47
          ],
          [
           47
          ],
          [
           47
          ],
          [
           47
          ],
          [
           47
          ],
          [
           47
          ],
          [
           47
          ],
          [
           47
          ],
          [
           47
          ],
          [
           47
          ],
          [
           47
          ],
          [
           47
          ],
          [
           47
          ],
          [
           47
          ],
          [
           47
          ],
          [
           47
          ]
         ],
         "hovertemplate": "parcel_id=%{customdata[0]}<br>point_id=9907<br>date=%{x}<br>value=%{y}<extra></extra>",
         "legendgroup": "47",
         "line": {
          "color": "#19d3f3",
          "dash": "solid",
          "width": 0.7
         },
         "marker": {
          "symbol": "circle"
         },
         "mode": "lines",
         "name": "47",
         "showlegend": false,
         "type": "scattergl",
         "x": [
          "2021-06-01T00:00:00",
          "2021-06-11T00:00:00",
          "2021-06-21T00:00:00",
          "2021-07-01T00:00:00",
          "2021-07-11T00:00:00",
          "2021-07-21T00:00:00",
          "2021-07-31T00:00:00",
          "2021-08-10T00:00:00",
          "2021-08-20T00:00:00",
          "2021-08-30T00:00:00",
          "2021-09-09T00:00:00",
          "2021-09-19T00:00:00",
          "2021-09-29T00:00:00",
          "2021-10-09T00:00:00",
          "2021-10-19T00:00:00",
          "2021-10-29T00:00:00",
          "2021-11-08T00:00:00"
         ],
         "xaxis": "x",
         "y": [
          null,
          0.092,
          0.087,
          0.094,
          0.146,
          0.141,
          0.165,
          0.316,
          0.46,
          0.586,
          0.726,
          0.65,
          0.603,
          0.536,
          0.356,
          0.316,
          0.329
         ],
         "yaxis": "y"
        },
        {
         "customdata": [
          [
           47
          ],
          [
           47
          ],
          [
           47
          ],
          [
           47
          ],
          [
           47
          ],
          [
           47
          ],
          [
           47
          ],
          [
           47
          ],
          [
           47
          ],
          [
           47
          ],
          [
           47
          ],
          [
           47
          ],
          [
           47
          ],
          [
           47
          ],
          [
           47
          ],
          [
           47
          ],
          [
           47
          ]
         ],
         "hovertemplate": "parcel_id=%{customdata[0]}<br>point_id=9904<br>date=%{x}<br>value=%{y}<extra></extra>",
         "legendgroup": "47",
         "line": {
          "color": "#19d3f3",
          "dash": "solid",
          "width": 0.7
         },
         "marker": {
          "symbol": "circle"
         },
         "mode": "lines",
         "name": "47",
         "showlegend": false,
         "type": "scattergl",
         "x": [
          "2021-06-01T00:00:00",
          "2021-06-11T00:00:00",
          "2021-06-21T00:00:00",
          "2021-07-01T00:00:00",
          "2021-07-11T00:00:00",
          "2021-07-21T00:00:00",
          "2021-07-31T00:00:00",
          "2021-08-10T00:00:00",
          "2021-08-20T00:00:00",
          "2021-08-30T00:00:00",
          "2021-09-09T00:00:00",
          "2021-09-19T00:00:00",
          "2021-09-29T00:00:00",
          "2021-10-09T00:00:00",
          "2021-10-19T00:00:00",
          "2021-10-29T00:00:00",
          "2021-11-08T00:00:00"
         ],
         "xaxis": "x",
         "y": [
          null,
          0.095,
          0.087,
          0.086,
          0.142,
          0.142,
          0.157,
          0.291,
          0.407,
          0.512,
          0.69,
          0.644,
          0.601,
          0.544,
          0.424,
          0.373,
          0.324
         ],
         "yaxis": "y"
        },
        {
         "customdata": [
          [
           15
          ],
          [
           15
          ],
          [
           15
          ],
          [
           15
          ],
          [
           15
          ],
          [
           15
          ],
          [
           15
          ],
          [
           15
          ],
          [
           15
          ],
          [
           15
          ],
          [
           15
          ],
          [
           15
          ],
          [
           15
          ],
          [
           15
          ],
          [
           15
          ],
          [
           15
          ],
          [
           15
          ]
         ],
         "hovertemplate": "parcel_id=%{customdata[0]}<br>point_id=10290<br>date=%{x}<br>value=%{y}<extra></extra>",
         "legendgroup": "15",
         "line": {
          "color": "#FF6692",
          "dash": "solid",
          "width": 0.7
         },
         "marker": {
          "symbol": "circle"
         },
         "mode": "lines",
         "name": "15",
         "showlegend": true,
         "type": "scattergl",
         "x": [
          "2021-06-01T00:00:00",
          "2021-06-11T00:00:00",
          "2021-06-21T00:00:00",
          "2021-07-01T00:00:00",
          "2021-07-11T00:00:00",
          "2021-07-21T00:00:00",
          "2021-07-31T00:00:00",
          "2021-08-10T00:00:00",
          "2021-08-20T00:00:00",
          "2021-08-30T00:00:00",
          "2021-09-09T00:00:00",
          "2021-09-19T00:00:00",
          "2021-09-29T00:00:00",
          "2021-10-09T00:00:00",
          "2021-10-19T00:00:00",
          "2021-10-29T00:00:00",
          "2021-11-08T00:00:00"
         ],
         "xaxis": "x",
         "y": [
          null,
          0.145,
          0.143,
          0.155,
          0.217,
          0.209,
          0.221,
          0.272,
          0.319,
          0.367,
          0.433,
          0.543,
          0.603,
          0.618,
          0.493,
          0.398,
          0.363
         ],
         "yaxis": "y"
        },
        {
         "customdata": [
          [
           15
          ],
          [
           15
          ],
          [
           15
          ],
          [
           15
          ],
          [
           15
          ],
          [
           15
          ],
          [
           15
          ],
          [
           15
          ],
          [
           15
          ],
          [
           15
          ],
          [
           15
          ],
          [
           15
          ],
          [
           15
          ],
          [
           15
          ],
          [
           15
          ],
          [
           15
          ],
          [
           15
          ]
         ],
         "hovertemplate": "parcel_id=%{customdata[0]}<br>point_id=10292<br>date=%{x}<br>value=%{y}<extra></extra>",
         "legendgroup": "15",
         "line": {
          "color": "#FF6692",
          "dash": "solid",
          "width": 0.7
         },
         "marker": {
          "symbol": "circle"
         },
         "mode": "lines",
         "name": "15",
         "showlegend": false,
         "type": "scattergl",
         "x": [
          "2021-06-01T00:00:00",
          "2021-06-11T00:00:00",
          "2021-06-21T00:00:00",
          "2021-07-01T00:00:00",
          "2021-07-11T00:00:00",
          "2021-07-21T00:00:00",
          "2021-07-31T00:00:00",
          "2021-08-10T00:00:00",
          "2021-08-20T00:00:00",
          "2021-08-30T00:00:00",
          "2021-09-09T00:00:00",
          "2021-09-19T00:00:00",
          "2021-09-29T00:00:00",
          "2021-10-09T00:00:00",
          "2021-10-19T00:00:00",
          "2021-10-29T00:00:00",
          "2021-11-08T00:00:00"
         ],
         "xaxis": "x",
         "y": [
          null,
          0.114,
          0.112,
          0.102,
          0.156,
          0.173,
          0.171,
          0.212,
          0.276,
          0.349,
          0.433,
          0.506,
          0.579,
          0.623,
          0.483,
          0.406,
          0.36
         ],
         "yaxis": "y"
        },
        {
         "customdata": [
          [
           15
          ],
          [
           15
          ],
          [
           15
          ],
          [
           15
          ],
          [
           15
          ],
          [
           15
          ],
          [
           15
          ],
          [
           15
          ],
          [
           15
          ],
          [
           15
          ],
          [
           15
          ],
          [
           15
          ],
          [
           15
          ],
          [
           15
          ],
          [
           15
          ],
          [
           15
          ],
          [
           15
          ]
         ],
         "hovertemplate": "parcel_id=%{customdata[0]}<br>point_id=10299<br>date=%{x}<br>value=%{y}<extra></extra>",
         "legendgroup": "15",
         "line": {
          "color": "#FF6692",
          "dash": "solid",
          "width": 0.7
         },
         "marker": {
          "symbol": "circle"
         },
         "mode": "lines",
         "name": "15",
         "showlegend": false,
         "type": "scattergl",
         "x": [
          "2021-06-01T00:00:00",
          "2021-06-11T00:00:00",
          "2021-06-21T00:00:00",
          "2021-07-01T00:00:00",
          "2021-07-11T00:00:00",
          "2021-07-21T00:00:00",
          "2021-07-31T00:00:00",
          "2021-08-10T00:00:00",
          "2021-08-20T00:00:00",
          "2021-08-30T00:00:00",
          "2021-09-09T00:00:00",
          "2021-09-19T00:00:00",
          "2021-09-29T00:00:00",
          "2021-10-09T00:00:00",
          "2021-10-19T00:00:00",
          "2021-10-29T00:00:00",
          "2021-11-08T00:00:00"
         ],
         "xaxis": "x",
         "y": [
          null,
          0.104,
          0.103,
          0.098,
          0.156,
          0.199,
          0.162,
          0.189,
          0.251,
          0.332,
          0.398,
          0.407,
          0.466,
          0.524,
          0.428,
          0.35,
          0.298
         ],
         "yaxis": "y"
        },
        {
         "customdata": [
          [
           15
          ],
          [
           15
          ],
          [
           15
          ],
          [
           15
          ],
          [
           15
          ],
          [
           15
          ],
          [
           15
          ],
          [
           15
          ],
          [
           15
          ],
          [
           15
          ],
          [
           15
          ],
          [
           15
          ],
          [
           15
          ],
          [
           15
          ],
          [
           15
          ],
          [
           15
          ],
          [
           15
          ]
         ],
         "hovertemplate": "parcel_id=%{customdata[0]}<br>point_id=10326<br>date=%{x}<br>value=%{y}<extra></extra>",
         "legendgroup": "15",
         "line": {
          "color": "#FF6692",
          "dash": "solid",
          "width": 0.7
         },
         "marker": {
          "symbol": "circle"
         },
         "mode": "lines",
         "name": "15",
         "showlegend": false,
         "type": "scattergl",
         "x": [
          "2021-06-01T00:00:00",
          "2021-06-11T00:00:00",
          "2021-06-21T00:00:00",
          "2021-07-01T00:00:00",
          "2021-07-11T00:00:00",
          "2021-07-21T00:00:00",
          "2021-07-31T00:00:00",
          "2021-08-10T00:00:00",
          "2021-08-20T00:00:00",
          "2021-08-30T00:00:00",
          "2021-09-09T00:00:00",
          "2021-09-19T00:00:00",
          "2021-09-29T00:00:00",
          "2021-10-09T00:00:00",
          "2021-10-19T00:00:00",
          "2021-10-29T00:00:00",
          "2021-11-08T00:00:00"
         ],
         "xaxis": "x",
         "y": [
          null,
          0.107,
          0.105,
          0.095,
          0.155,
          0.22,
          0.155,
          0.233,
          0.27,
          0.297,
          0.333,
          0.389,
          0.448,
          0.499,
          0.415,
          0.332,
          0.253
         ],
         "yaxis": "y"
        },
        {
         "customdata": [
          [
           15
          ],
          [
           15
          ],
          [
           15
          ],
          [
           15
          ],
          [
           15
          ],
          [
           15
          ],
          [
           15
          ],
          [
           15
          ],
          [
           15
          ],
          [
           15
          ],
          [
           15
          ],
          [
           15
          ],
          [
           15
          ],
          [
           15
          ],
          [
           15
          ],
          [
           15
          ],
          [
           15
          ]
         ],
         "hovertemplate": "parcel_id=%{customdata[0]}<br>point_id=10328<br>date=%{x}<br>value=%{y}<extra></extra>",
         "legendgroup": "15",
         "line": {
          "color": "#FF6692",
          "dash": "solid",
          "width": 0.7
         },
         "marker": {
          "symbol": "circle"
         },
         "mode": "lines",
         "name": "15",
         "showlegend": false,
         "type": "scattergl",
         "x": [
          "2021-06-01T00:00:00",
          "2021-06-11T00:00:00",
          "2021-06-21T00:00:00",
          "2021-07-01T00:00:00",
          "2021-07-11T00:00:00",
          "2021-07-21T00:00:00",
          "2021-07-31T00:00:00",
          "2021-08-10T00:00:00",
          "2021-08-20T00:00:00",
          "2021-08-30T00:00:00",
          "2021-09-09T00:00:00",
          "2021-09-19T00:00:00",
          "2021-09-29T00:00:00",
          "2021-10-09T00:00:00",
          "2021-10-19T00:00:00",
          "2021-10-29T00:00:00",
          "2021-11-08T00:00:00"
         ],
         "xaxis": "x",
         "y": [
          null,
          0.222,
          0.235,
          0.245,
          0.325,
          0.338,
          0.278,
          0.382,
          0.381,
          0.351,
          0.366,
          0.505,
          0.606,
          0.661,
          0.541,
          0.417,
          0.393
         ],
         "yaxis": "y"
        },
        {
         "customdata": [
          [
           15
          ],
          [
           15
          ],
          [
           15
          ],
          [
           15
          ],
          [
           15
          ],
          [
           15
          ],
          [
           15
          ],
          [
           15
          ],
          [
           15
          ],
          [
           15
          ],
          [
           15
          ],
          [
           15
          ],
          [
           15
          ],
          [
           15
          ],
          [
           15
          ],
          [
           15
          ],
          [
           15
          ]
         ],
         "hovertemplate": "parcel_id=%{customdata[0]}<br>point_id=10312<br>date=%{x}<br>value=%{y}<extra></extra>",
         "legendgroup": "15",
         "line": {
          "color": "#FF6692",
          "dash": "solid",
          "width": 0.7
         },
         "marker": {
          "symbol": "circle"
         },
         "mode": "lines",
         "name": "15",
         "showlegend": false,
         "type": "scattergl",
         "x": [
          "2021-06-01T00:00:00",
          "2021-06-11T00:00:00",
          "2021-06-21T00:00:00",
          "2021-07-01T00:00:00",
          "2021-07-11T00:00:00",
          "2021-07-21T00:00:00",
          "2021-07-31T00:00:00",
          "2021-08-10T00:00:00",
          "2021-08-20T00:00:00",
          "2021-08-30T00:00:00",
          "2021-09-09T00:00:00",
          "2021-09-19T00:00:00",
          "2021-09-29T00:00:00",
          "2021-10-09T00:00:00",
          "2021-10-19T00:00:00",
          "2021-10-29T00:00:00",
          "2021-11-08T00:00:00"
         ],
         "xaxis": "x",
         "y": [
          null,
          0.11,
          0.108,
          0.099,
          0.155,
          0.202,
          0.14,
          0.18,
          0.231,
          0.291,
          0.339,
          0.336,
          0.395,
          0.436,
          0.413,
          0.335,
          0.265
         ],
         "yaxis": "y"
        },
        {
         "customdata": [
          [
           40
          ],
          [
           40
          ],
          [
           40
          ],
          [
           40
          ],
          [
           40
          ],
          [
           40
          ],
          [
           40
          ],
          [
           40
          ],
          [
           40
          ],
          [
           40
          ],
          [
           40
          ],
          [
           40
          ],
          [
           40
          ],
          [
           40
          ],
          [
           40
          ],
          [
           40
          ],
          [
           40
          ]
         ],
         "hovertemplate": "parcel_id=%{customdata[0]}<br>point_id=316<br>date=%{x}<br>value=%{y}<extra></extra>",
         "legendgroup": "40",
         "line": {
          "color": "#B6E880",
          "dash": "solid",
          "width": 0.7
         },
         "marker": {
          "symbol": "circle"
         },
         "mode": "lines",
         "name": "40",
         "showlegend": true,
         "type": "scattergl",
         "x": [
          "2021-06-01T00:00:00",
          "2021-06-11T00:00:00",
          "2021-06-21T00:00:00",
          "2021-07-01T00:00:00",
          "2021-07-11T00:00:00",
          "2021-07-21T00:00:00",
          "2021-07-31T00:00:00",
          "2021-08-10T00:00:00",
          "2021-08-20T00:00:00",
          "2021-08-30T00:00:00",
          "2021-09-09T00:00:00",
          "2021-09-19T00:00:00",
          "2021-09-29T00:00:00",
          "2021-10-09T00:00:00",
          "2021-10-19T00:00:00",
          "2021-10-29T00:00:00",
          "2021-11-08T00:00:00"
         ],
         "xaxis": "x",
         "y": [
          null,
          0.093,
          0.104,
          0.112,
          0.096,
          0.133,
          0.168,
          0.21,
          null,
          null,
          null,
          null,
          0.708,
          0.697,
          0.589,
          0.501,
          0.432
         ],
         "yaxis": "y"
        },
        {
         "customdata": [
          [
           40
          ],
          [
           40
          ],
          [
           40
          ],
          [
           40
          ],
          [
           40
          ],
          [
           40
          ],
          [
           40
          ],
          [
           40
          ],
          [
           40
          ],
          [
           40
          ],
          [
           40
          ],
          [
           40
          ],
          [
           40
          ],
          [
           40
          ],
          [
           40
          ],
          [
           40
          ],
          [
           40
          ]
         ],
         "hovertemplate": "parcel_id=%{customdata[0]}<br>point_id=312<br>date=%{x}<br>value=%{y}<extra></extra>",
         "legendgroup": "40",
         "line": {
          "color": "#B6E880",
          "dash": "solid",
          "width": 0.7
         },
         "marker": {
          "symbol": "circle"
         },
         "mode": "lines",
         "name": "40",
         "showlegend": false,
         "type": "scattergl",
         "x": [
          "2021-06-01T00:00:00",
          "2021-06-11T00:00:00",
          "2021-06-21T00:00:00",
          "2021-07-01T00:00:00",
          "2021-07-11T00:00:00",
          "2021-07-21T00:00:00",
          "2021-07-31T00:00:00",
          "2021-08-10T00:00:00",
          "2021-08-20T00:00:00",
          "2021-08-30T00:00:00",
          "2021-09-09T00:00:00",
          "2021-09-19T00:00:00",
          "2021-09-29T00:00:00",
          "2021-10-09T00:00:00",
          "2021-10-19T00:00:00",
          "2021-10-29T00:00:00",
          "2021-11-08T00:00:00"
         ],
         "xaxis": "x",
         "y": [
          null,
          0.093,
          0.102,
          0.118,
          0.093,
          0.128,
          0.149,
          0.175,
          null,
          null,
          null,
          null,
          0.689,
          0.686,
          0.588,
          0.506,
          0.441
         ],
         "yaxis": "y"
        },
        {
         "customdata": [
          [
           40
          ],
          [
           40
          ],
          [
           40
          ],
          [
           40
          ],
          [
           40
          ],
          [
           40
          ],
          [
           40
          ],
          [
           40
          ],
          [
           40
          ],
          [
           40
          ],
          [
           40
          ],
          [
           40
          ],
          [
           40
          ],
          [
           40
          ],
          [
           40
          ],
          [
           40
          ],
          [
           40
          ]
         ],
         "hovertemplate": "parcel_id=%{customdata[0]}<br>point_id=308<br>date=%{x}<br>value=%{y}<extra></extra>",
         "legendgroup": "40",
         "line": {
          "color": "#B6E880",
          "dash": "solid",
          "width": 0.7
         },
         "marker": {
          "symbol": "circle"
         },
         "mode": "lines",
         "name": "40",
         "showlegend": false,
         "type": "scattergl",
         "x": [
          "2021-06-01T00:00:00",
          "2021-06-11T00:00:00",
          "2021-06-21T00:00:00",
          "2021-07-01T00:00:00",
          "2021-07-11T00:00:00",
          "2021-07-21T00:00:00",
          "2021-07-31T00:00:00",
          "2021-08-10T00:00:00",
          "2021-08-20T00:00:00",
          "2021-08-30T00:00:00",
          "2021-09-09T00:00:00",
          "2021-09-19T00:00:00",
          "2021-09-29T00:00:00",
          "2021-10-09T00:00:00",
          "2021-10-19T00:00:00",
          "2021-10-29T00:00:00",
          "2021-11-08T00:00:00"
         ],
         "xaxis": "x",
         "y": [
          null,
          0.093,
          0.118,
          0.119,
          0.097,
          0.134,
          0.177,
          0.228,
          null,
          null,
          null,
          null,
          0.694,
          0.686,
          0.579,
          0.488,
          0.421
         ],
         "yaxis": "y"
        },
        {
         "customdata": [
          [
           40
          ],
          [
           40
          ],
          [
           40
          ],
          [
           40
          ],
          [
           40
          ],
          [
           40
          ],
          [
           40
          ],
          [
           40
          ],
          [
           40
          ],
          [
           40
          ],
          [
           40
          ],
          [
           40
          ],
          [
           40
          ],
          [
           40
          ],
          [
           40
          ],
          [
           40
          ],
          [
           40
          ]
         ],
         "hovertemplate": "parcel_id=%{customdata[0]}<br>point_id=437<br>date=%{x}<br>value=%{y}<extra></extra>",
         "legendgroup": "40",
         "line": {
          "color": "#B6E880",
          "dash": "solid",
          "width": 0.7
         },
         "marker": {
          "symbol": "circle"
         },
         "mode": "lines",
         "name": "40",
         "showlegend": false,
         "type": "scattergl",
         "x": [
          "2021-06-01T00:00:00",
          "2021-06-11T00:00:00",
          "2021-06-21T00:00:00",
          "2021-07-01T00:00:00",
          "2021-07-11T00:00:00",
          "2021-07-21T00:00:00",
          "2021-07-31T00:00:00",
          "2021-08-10T00:00:00",
          "2021-08-20T00:00:00",
          "2021-08-30T00:00:00",
          "2021-09-09T00:00:00",
          "2021-09-19T00:00:00",
          "2021-09-29T00:00:00",
          "2021-10-09T00:00:00",
          "2021-10-19T00:00:00",
          "2021-10-29T00:00:00",
          "2021-11-08T00:00:00"
         ],
         "xaxis": "x",
         "y": [
          null,
          0.157,
          0.186,
          0.201,
          0.182,
          0.18,
          0.253,
          0.341,
          null,
          null,
          null,
          null,
          0.652,
          0.621,
          0.513,
          0.44,
          0.398
         ],
         "yaxis": "y"
        },
        {
         "customdata": [
          [
           40
          ],
          [
           40
          ],
          [
           40
          ],
          [
           40
          ],
          [
           40
          ],
          [
           40
          ],
          [
           40
          ],
          [
           40
          ],
          [
           40
          ],
          [
           40
          ],
          [
           40
          ],
          [
           40
          ],
          [
           40
          ],
          [
           40
          ],
          [
           40
          ],
          [
           40
          ],
          [
           40
          ]
         ],
         "hovertemplate": "parcel_id=%{customdata[0]}<br>point_id=464<br>date=%{x}<br>value=%{y}<extra></extra>",
         "legendgroup": "40",
         "line": {
          "color": "#B6E880",
          "dash": "solid",
          "width": 0.7
         },
         "marker": {
          "symbol": "circle"
         },
         "mode": "lines",
         "name": "40",
         "showlegend": false,
         "type": "scattergl",
         "x": [
          "2021-06-01T00:00:00",
          "2021-06-11T00:00:00",
          "2021-06-21T00:00:00",
          "2021-07-01T00:00:00",
          "2021-07-11T00:00:00",
          "2021-07-21T00:00:00",
          "2021-07-31T00:00:00",
          "2021-08-10T00:00:00",
          "2021-08-20T00:00:00",
          "2021-08-30T00:00:00",
          "2021-09-09T00:00:00",
          "2021-09-19T00:00:00",
          "2021-09-29T00:00:00",
          "2021-10-09T00:00:00",
          "2021-10-19T00:00:00",
          "2021-10-29T00:00:00",
          "2021-11-08T00:00:00"
         ],
         "xaxis": "x",
         "y": [
          null,
          0.092,
          0.096,
          0.107,
          0.095,
          0.128,
          0.162,
          0.202,
          null,
          null,
          null,
          null,
          0.691,
          0.67,
          0.557,
          0.481,
          0.435
         ],
         "yaxis": "y"
        },
        {
         "customdata": [
          [
           40
          ],
          [
           40
          ],
          [
           40
          ],
          [
           40
          ],
          [
           40
          ],
          [
           40
          ],
          [
           40
          ],
          [
           40
          ],
          [
           40
          ],
          [
           40
          ],
          [
           40
          ],
          [
           40
          ],
          [
           40
          ],
          [
           40
          ],
          [
           40
          ],
          [
           40
          ],
          [
           40
          ]
         ],
         "hovertemplate": "parcel_id=%{customdata[0]}<br>point_id=447<br>date=%{x}<br>value=%{y}<extra></extra>",
         "legendgroup": "40",
         "line": {
          "color": "#B6E880",
          "dash": "solid",
          "width": 0.7
         },
         "marker": {
          "symbol": "circle"
         },
         "mode": "lines",
         "name": "40",
         "showlegend": false,
         "type": "scattergl",
         "x": [
          "2021-06-01T00:00:00",
          "2021-06-11T00:00:00",
          "2021-06-21T00:00:00",
          "2021-07-01T00:00:00",
          "2021-07-11T00:00:00",
          "2021-07-21T00:00:00",
          "2021-07-31T00:00:00",
          "2021-08-10T00:00:00",
          "2021-08-20T00:00:00",
          "2021-08-30T00:00:00",
          "2021-09-09T00:00:00",
          "2021-09-19T00:00:00",
          "2021-09-29T00:00:00",
          "2021-10-09T00:00:00",
          "2021-10-19T00:00:00",
          "2021-10-29T00:00:00",
          "2021-11-08T00:00:00"
         ],
         "xaxis": "x",
         "y": [
          null,
          0.105,
          0.123,
          0.148,
          0.135,
          0.159,
          0.199,
          0.246,
          0.413,
          0.589,
          0.744,
          0.696,
          0.676,
          0.652,
          0.538,
          0.475,
          0.439
         ],
         "yaxis": "y"
        },
        {
         "customdata": [
          [
           40
          ],
          [
           40
          ],
          [
           40
          ],
          [
           40
          ],
          [
           40
          ],
          [
           40
          ],
          [
           40
          ],
          [
           40
          ],
          [
           40
          ],
          [
           40
          ],
          [
           40
          ],
          [
           40
          ],
          [
           40
          ],
          [
           40
          ],
          [
           40
          ],
          [
           40
          ],
          [
           40
          ]
         ],
         "hovertemplate": "parcel_id=%{customdata[0]}<br>point_id=377<br>date=%{x}<br>value=%{y}<extra></extra>",
         "legendgroup": "40",
         "line": {
          "color": "#B6E880",
          "dash": "solid",
          "width": 0.7
         },
         "marker": {
          "symbol": "circle"
         },
         "mode": "lines",
         "name": "40",
         "showlegend": false,
         "type": "scattergl",
         "x": [
          "2021-06-01T00:00:00",
          "2021-06-11T00:00:00",
          "2021-06-21T00:00:00",
          "2021-07-01T00:00:00",
          "2021-07-11T00:00:00",
          "2021-07-21T00:00:00",
          "2021-07-31T00:00:00",
          "2021-08-10T00:00:00",
          "2021-08-20T00:00:00",
          "2021-08-30T00:00:00",
          "2021-09-09T00:00:00",
          "2021-09-19T00:00:00",
          "2021-09-29T00:00:00",
          "2021-10-09T00:00:00",
          "2021-10-19T00:00:00",
          "2021-10-29T00:00:00",
          "2021-11-08T00:00:00"
         ],
         "xaxis": "x",
         "y": [
          null,
          0.091,
          0.094,
          0.098,
          0.093,
          0.124,
          0.146,
          0.172,
          null,
          null,
          null,
          null,
          0.675,
          0.689,
          0.587,
          0.502,
          0.437
         ],
         "yaxis": "y"
        },
        {
         "customdata": [
          [
           40
          ],
          [
           40
          ],
          [
           40
          ],
          [
           40
          ],
          [
           40
          ],
          [
           40
          ],
          [
           40
          ],
          [
           40
          ],
          [
           40
          ],
          [
           40
          ],
          [
           40
          ],
          [
           40
          ],
          [
           40
          ],
          [
           40
          ],
          [
           40
          ],
          [
           40
          ],
          [
           40
          ]
         ],
         "hovertemplate": "parcel_id=%{customdata[0]}<br>point_id=428<br>date=%{x}<br>value=%{y}<extra></extra>",
         "legendgroup": "40",
         "line": {
          "color": "#B6E880",
          "dash": "solid",
          "width": 0.7
         },
         "marker": {
          "symbol": "circle"
         },
         "mode": "lines",
         "name": "40",
         "showlegend": false,
         "type": "scattergl",
         "x": [
          "2021-06-01T00:00:00",
          "2021-06-11T00:00:00",
          "2021-06-21T00:00:00",
          "2021-07-01T00:00:00",
          "2021-07-11T00:00:00",
          "2021-07-21T00:00:00",
          "2021-07-31T00:00:00",
          "2021-08-10T00:00:00",
          "2021-08-20T00:00:00",
          "2021-08-30T00:00:00",
          "2021-09-09T00:00:00",
          "2021-09-19T00:00:00",
          "2021-09-29T00:00:00",
          "2021-10-09T00:00:00",
          "2021-10-19T00:00:00",
          "2021-10-29T00:00:00",
          "2021-11-08T00:00:00"
         ],
         "xaxis": "x",
         "y": [
          null,
          0.089,
          0.1,
          0.113,
          0.099,
          0.137,
          0.168,
          0.205,
          null,
          null,
          null,
          null,
          0.694,
          0.694,
          0.583,
          0.495,
          0.427
         ],
         "yaxis": "y"
        },
        {
         "customdata": [
          [
           40
          ],
          [
           40
          ],
          [
           40
          ],
          [
           40
          ],
          [
           40
          ],
          [
           40
          ],
          [
           40
          ],
          [
           40
          ],
          [
           40
          ],
          [
           40
          ],
          [
           40
          ],
          [
           40
          ],
          [
           40
          ],
          [
           40
          ],
          [
           40
          ],
          [
           40
          ],
          [
           40
          ]
         ],
         "hovertemplate": "parcel_id=%{customdata[0]}<br>point_id=329<br>date=%{x}<br>value=%{y}<extra></extra>",
         "legendgroup": "40",
         "line": {
          "color": "#B6E880",
          "dash": "solid",
          "width": 0.7
         },
         "marker": {
          "symbol": "circle"
         },
         "mode": "lines",
         "name": "40",
         "showlegend": false,
         "type": "scattergl",
         "x": [
          "2021-06-01T00:00:00",
          "2021-06-11T00:00:00",
          "2021-06-21T00:00:00",
          "2021-07-01T00:00:00",
          "2021-07-11T00:00:00",
          "2021-07-21T00:00:00",
          "2021-07-31T00:00:00",
          "2021-08-10T00:00:00",
          "2021-08-20T00:00:00",
          "2021-08-30T00:00:00",
          "2021-09-09T00:00:00",
          "2021-09-19T00:00:00",
          "2021-09-29T00:00:00",
          "2021-10-09T00:00:00",
          "2021-10-19T00:00:00",
          "2021-10-29T00:00:00",
          "2021-11-08T00:00:00"
         ],
         "xaxis": "x",
         "y": [
          null,
          0.095,
          0.099,
          0.111,
          0.095,
          0.133,
          0.162,
          0.197,
          null,
          null,
          null,
          null,
          0.722,
          0.715,
          0.598,
          0.504,
          0.435
         ],
         "yaxis": "y"
        },
        {
         "customdata": [
          [
           40
          ],
          [
           40
          ],
          [
           40
          ],
          [
           40
          ],
          [
           40
          ],
          [
           40
          ],
          [
           40
          ],
          [
           40
          ],
          [
           40
          ],
          [
           40
          ],
          [
           40
          ],
          [
           40
          ],
          [
           40
          ],
          [
           40
          ],
          [
           40
          ],
          [
           40
          ],
          [
           40
          ]
         ],
         "hovertemplate": "parcel_id=%{customdata[0]}<br>point_id=398<br>date=%{x}<br>value=%{y}<extra></extra>",
         "legendgroup": "40",
         "line": {
          "color": "#B6E880",
          "dash": "solid",
          "width": 0.7
         },
         "marker": {
          "symbol": "circle"
         },
         "mode": "lines",
         "name": "40",
         "showlegend": false,
         "type": "scattergl",
         "x": [
          "2021-06-01T00:00:00",
          "2021-06-11T00:00:00",
          "2021-06-21T00:00:00",
          "2021-07-01T00:00:00",
          "2021-07-11T00:00:00",
          "2021-07-21T00:00:00",
          "2021-07-31T00:00:00",
          "2021-08-10T00:00:00",
          "2021-08-20T00:00:00",
          "2021-08-30T00:00:00",
          "2021-09-09T00:00:00",
          "2021-09-19T00:00:00",
          "2021-09-29T00:00:00",
          "2021-10-09T00:00:00",
          "2021-10-19T00:00:00",
          "2021-10-29T00:00:00",
          "2021-11-08T00:00:00"
         ],
         "xaxis": "x",
         "y": [
          null,
          0.09,
          0.09,
          0.1,
          0.093,
          0.119,
          0.144,
          0.173,
          null,
          null,
          null,
          null,
          0.71,
          0.722,
          0.611,
          0.513,
          0.44
         ],
         "yaxis": "y"
        },
        {
         "customdata": [
          [
           40
          ],
          [
           40
          ],
          [
           40
          ],
          [
           40
          ],
          [
           40
          ],
          [
           40
          ],
          [
           40
          ],
          [
           40
          ],
          [
           40
          ],
          [
           40
          ],
          [
           40
          ],
          [
           40
          ],
          [
           40
          ],
          [
           40
          ],
          [
           40
          ],
          [
           40
          ],
          [
           40
          ]
         ],
         "hovertemplate": "parcel_id=%{customdata[0]}<br>point_id=389<br>date=%{x}<br>value=%{y}<extra></extra>",
         "legendgroup": "40",
         "line": {
          "color": "#B6E880",
          "dash": "solid",
          "width": 0.7
         },
         "marker": {
          "symbol": "circle"
         },
         "mode": "lines",
         "name": "40",
         "showlegend": false,
         "type": "scattergl",
         "x": [
          "2021-06-01T00:00:00",
          "2021-06-11T00:00:00",
          "2021-06-21T00:00:00",
          "2021-07-01T00:00:00",
          "2021-07-11T00:00:00",
          "2021-07-21T00:00:00",
          "2021-07-31T00:00:00",
          "2021-08-10T00:00:00",
          "2021-08-20T00:00:00",
          "2021-08-30T00:00:00",
          "2021-09-09T00:00:00",
          "2021-09-19T00:00:00",
          "2021-09-29T00:00:00",
          "2021-10-09T00:00:00",
          "2021-10-19T00:00:00",
          "2021-10-29T00:00:00",
          "2021-11-08T00:00:00"
         ],
         "xaxis": "x",
         "y": [
          null,
          0.089,
          0.101,
          0.107,
          0.1,
          0.132,
          0.172,
          0.219,
          0.373,
          0.533,
          0.676,
          0.63,
          0.57,
          0.521,
          0.457,
          0.411,
          0.386
         ],
         "yaxis": "y"
        },
        {
         "customdata": [
          [
           40
          ],
          [
           40
          ],
          [
           40
          ],
          [
           40
          ],
          [
           40
          ],
          [
           40
          ],
          [
           40
          ],
          [
           40
          ],
          [
           40
          ],
          [
           40
          ],
          [
           40
          ],
          [
           40
          ],
          [
           40
          ],
          [
           40
          ],
          [
           40
          ],
          [
           40
          ],
          [
           40
          ]
         ],
         "hovertemplate": "parcel_id=%{customdata[0]}<br>point_id=349<br>date=%{x}<br>value=%{y}<extra></extra>",
         "legendgroup": "40",
         "line": {
          "color": "#B6E880",
          "dash": "solid",
          "width": 0.7
         },
         "marker": {
          "symbol": "circle"
         },
         "mode": "lines",
         "name": "40",
         "showlegend": false,
         "type": "scattergl",
         "x": [
          "2021-06-01T00:00:00",
          "2021-06-11T00:00:00",
          "2021-06-21T00:00:00",
          "2021-07-01T00:00:00",
          "2021-07-11T00:00:00",
          "2021-07-21T00:00:00",
          "2021-07-31T00:00:00",
          "2021-08-10T00:00:00",
          "2021-08-20T00:00:00",
          "2021-08-30T00:00:00",
          "2021-09-09T00:00:00",
          "2021-09-19T00:00:00",
          "2021-09-29T00:00:00",
          "2021-10-09T00:00:00",
          "2021-10-19T00:00:00",
          "2021-10-29T00:00:00",
          "2021-11-08T00:00:00"
         ],
         "xaxis": "x",
         "y": [
          null,
          0.084,
          0.091,
          0.104,
          0.087,
          0.131,
          0.172,
          0.221,
          null,
          null,
          null,
          null,
          0.678,
          0.663,
          0.54,
          0.448,
          0.379
         ],
         "yaxis": "y"
        },
        {
         "customdata": [
          [
           30
          ],
          [
           30
          ],
          [
           30
          ],
          [
           30
          ],
          [
           30
          ],
          [
           30
          ],
          [
           30
          ],
          [
           30
          ],
          [
           30
          ],
          [
           30
          ],
          [
           30
          ],
          [
           30
          ],
          [
           30
          ],
          [
           30
          ],
          [
           30
          ],
          [
           30
          ],
          [
           30
          ]
         ],
         "hovertemplate": "parcel_id=%{customdata[0]}<br>point_id=10222<br>date=%{x}<br>value=%{y}<extra></extra>",
         "legendgroup": "30",
         "line": {
          "color": "#FF97FF",
          "dash": "solid",
          "width": 0.7
         },
         "marker": {
          "symbol": "circle"
         },
         "mode": "lines",
         "name": "30",
         "showlegend": true,
         "type": "scattergl",
         "x": [
          "2021-06-01T00:00:00",
          "2021-06-11T00:00:00",
          "2021-06-21T00:00:00",
          "2021-07-01T00:00:00",
          "2021-07-11T00:00:00",
          "2021-07-21T00:00:00",
          "2021-07-31T00:00:00",
          "2021-08-10T00:00:00",
          "2021-08-20T00:00:00",
          "2021-08-30T00:00:00",
          "2021-09-09T00:00:00",
          "2021-09-19T00:00:00",
          "2021-09-29T00:00:00",
          "2021-10-09T00:00:00",
          "2021-10-19T00:00:00",
          "2021-10-29T00:00:00",
          "2021-11-08T00:00:00"
         ],
         "xaxis": "x",
         "y": [
          null,
          0.095,
          0.099,
          0.126,
          0.172,
          0.226,
          0.203,
          0.321,
          0.417,
          0.505,
          0.601,
          0.599,
          0.556,
          0.49,
          0.43,
          0.409,
          0.402
         ],
         "yaxis": "y"
        },
        {
         "customdata": [
          [
           30
          ],
          [
           30
          ],
          [
           30
          ],
          [
           30
          ],
          [
           30
          ],
          [
           30
          ],
          [
           30
          ],
          [
           30
          ],
          [
           30
          ],
          [
           30
          ],
          [
           30
          ],
          [
           30
          ],
          [
           30
          ],
          [
           30
          ],
          [
           30
          ],
          [
           30
          ],
          [
           30
          ]
         ],
         "hovertemplate": "parcel_id=%{customdata[0]}<br>point_id=10178<br>date=%{x}<br>value=%{y}<extra></extra>",
         "legendgroup": "30",
         "line": {
          "color": "#FF97FF",
          "dash": "solid",
          "width": 0.7
         },
         "marker": {
          "symbol": "circle"
         },
         "mode": "lines",
         "name": "30",
         "showlegend": false,
         "type": "scattergl",
         "x": [
          "2021-06-01T00:00:00",
          "2021-06-11T00:00:00",
          "2021-06-21T00:00:00",
          "2021-07-01T00:00:00",
          "2021-07-11T00:00:00",
          "2021-07-21T00:00:00",
          "2021-07-31T00:00:00",
          "2021-08-10T00:00:00",
          "2021-08-20T00:00:00",
          "2021-08-30T00:00:00",
          "2021-09-09T00:00:00",
          "2021-09-19T00:00:00",
          "2021-09-29T00:00:00",
          "2021-10-09T00:00:00",
          "2021-10-19T00:00:00",
          "2021-10-29T00:00:00",
          "2021-11-08T00:00:00"
         ],
         "xaxis": "x",
         "y": [
          null,
          0.108,
          0.117,
          0.138,
          0.159,
          0.247,
          0.233,
          0.365,
          0.478,
          0.574,
          0.67,
          0.668,
          0.676,
          0.67,
          0.548,
          0.465,
          0.407
         ],
         "yaxis": "y"
        },
        {
         "customdata": [
          [
           30
          ],
          [
           30
          ],
          [
           30
          ],
          [
           30
          ],
          [
           30
          ],
          [
           30
          ],
          [
           30
          ],
          [
           30
          ],
          [
           30
          ],
          [
           30
          ],
          [
           30
          ],
          [
           30
          ],
          [
           30
          ],
          [
           30
          ],
          [
           30
          ],
          [
           30
          ],
          [
           30
          ]
         ],
         "hovertemplate": "parcel_id=%{customdata[0]}<br>point_id=10209<br>date=%{x}<br>value=%{y}<extra></extra>",
         "legendgroup": "30",
         "line": {
          "color": "#FF97FF",
          "dash": "solid",
          "width": 0.7
         },
         "marker": {
          "symbol": "circle"
         },
         "mode": "lines",
         "name": "30",
         "showlegend": false,
         "type": "scattergl",
         "x": [
          "2021-06-01T00:00:00",
          "2021-06-11T00:00:00",
          "2021-06-21T00:00:00",
          "2021-07-01T00:00:00",
          "2021-07-11T00:00:00",
          "2021-07-21T00:00:00",
          "2021-07-31T00:00:00",
          "2021-08-10T00:00:00",
          "2021-08-20T00:00:00",
          "2021-08-30T00:00:00",
          "2021-09-09T00:00:00",
          "2021-09-19T00:00:00",
          "2021-09-29T00:00:00",
          "2021-10-09T00:00:00",
          "2021-10-19T00:00:00",
          "2021-10-29T00:00:00",
          "2021-11-08T00:00:00"
         ],
         "xaxis": "x",
         "y": [
          null,
          0.101,
          0.107,
          0.121,
          0.149,
          0.212,
          0.222,
          0.35,
          0.448,
          0.537,
          0.625,
          0.611,
          0.551,
          0.442,
          0.402,
          0.385,
          0.376
         ],
         "yaxis": "y"
        },
        {
         "customdata": [
          [
           38
          ],
          [
           38
          ],
          [
           38
          ],
          [
           38
          ],
          [
           38
          ],
          [
           38
          ],
          [
           38
          ],
          [
           38
          ],
          [
           38
          ],
          [
           38
          ],
          [
           38
          ],
          [
           38
          ],
          [
           38
          ],
          [
           38
          ],
          [
           38
          ],
          [
           38
          ],
          [
           38
          ]
         ],
         "hovertemplate": "parcel_id=%{customdata[0]}<br>point_id=10128<br>date=%{x}<br>value=%{y}<extra></extra>",
         "legendgroup": "38",
         "line": {
          "color": "#FECB52",
          "dash": "solid",
          "width": 0.7
         },
         "marker": {
          "symbol": "circle"
         },
         "mode": "lines",
         "name": "38",
         "showlegend": true,
         "type": "scattergl",
         "x": [
          "2021-06-01T00:00:00",
          "2021-06-11T00:00:00",
          "2021-06-21T00:00:00",
          "2021-07-01T00:00:00",
          "2021-07-11T00:00:00",
          "2021-07-21T00:00:00",
          "2021-07-31T00:00:00",
          "2021-08-10T00:00:00",
          "2021-08-20T00:00:00",
          "2021-08-30T00:00:00",
          "2021-09-09T00:00:00",
          "2021-09-19T00:00:00",
          "2021-09-29T00:00:00",
          "2021-10-09T00:00:00",
          "2021-10-19T00:00:00",
          "2021-10-29T00:00:00",
          "2021-11-08T00:00:00"
         ],
         "xaxis": "x",
         "y": [
          null,
          0.1,
          0.102,
          0.104,
          0.108,
          0.186,
          0.189,
          0.311,
          0.414,
          0.52,
          0.677,
          0.611,
          0.562,
          0.512,
          0.416,
          0.358,
          0.319
         ],
         "yaxis": "y"
        },
        {
         "customdata": [
          [
           38
          ],
          [
           38
          ],
          [
           38
          ],
          [
           38
          ],
          [
           38
          ],
          [
           38
          ],
          [
           38
          ],
          [
           38
          ],
          [
           38
          ],
          [
           38
          ],
          [
           38
          ],
          [
           38
          ],
          [
           38
          ],
          [
           38
          ],
          [
           38
          ],
          [
           38
          ],
          [
           38
          ]
         ],
         "hovertemplate": "parcel_id=%{customdata[0]}<br>point_id=10174<br>date=%{x}<br>value=%{y}<extra></extra>",
         "legendgroup": "38",
         "line": {
          "color": "#FECB52",
          "dash": "solid",
          "width": 0.7
         },
         "marker": {
          "symbol": "circle"
         },
         "mode": "lines",
         "name": "38",
         "showlegend": false,
         "type": "scattergl",
         "x": [
          "2021-06-01T00:00:00",
          "2021-06-11T00:00:00",
          "2021-06-21T00:00:00",
          "2021-07-01T00:00:00",
          "2021-07-11T00:00:00",
          "2021-07-21T00:00:00",
          "2021-07-31T00:00:00",
          "2021-08-10T00:00:00",
          "2021-08-20T00:00:00",
          "2021-08-30T00:00:00",
          "2021-09-09T00:00:00",
          "2021-09-19T00:00:00",
          "2021-09-29T00:00:00",
          "2021-10-09T00:00:00",
          "2021-10-19T00:00:00",
          "2021-10-29T00:00:00",
          "2021-11-08T00:00:00"
         ],
         "xaxis": "x",
         "y": [
          null,
          0.102,
          0.098,
          0.099,
          0.141,
          0.174,
          0.176,
          0.332,
          0.424,
          0.498,
          0.578,
          0.542,
          0.512,
          0.487,
          0.423,
          0.38,
          0.35
         ],
         "yaxis": "y"
        },
        {
         "customdata": [
          [
           38
          ],
          [
           38
          ],
          [
           38
          ],
          [
           38
          ],
          [
           38
          ],
          [
           38
          ],
          [
           38
          ],
          [
           38
          ],
          [
           38
          ],
          [
           38
          ],
          [
           38
          ],
          [
           38
          ],
          [
           38
          ],
          [
           38
          ],
          [
           38
          ],
          [
           38
          ],
          [
           38
          ]
         ],
         "hovertemplate": "parcel_id=%{customdata[0]}<br>point_id=10113<br>date=%{x}<br>value=%{y}<extra></extra>",
         "legendgroup": "38",
         "line": {
          "color": "#FECB52",
          "dash": "solid",
          "width": 0.7
         },
         "marker": {
          "symbol": "circle"
         },
         "mode": "lines",
         "name": "38",
         "showlegend": false,
         "type": "scattergl",
         "x": [
          "2021-06-01T00:00:00",
          "2021-06-11T00:00:00",
          "2021-06-21T00:00:00",
          "2021-07-01T00:00:00",
          "2021-07-11T00:00:00",
          "2021-07-21T00:00:00",
          "2021-07-31T00:00:00",
          "2021-08-10T00:00:00",
          "2021-08-20T00:00:00",
          "2021-08-30T00:00:00",
          "2021-09-09T00:00:00",
          "2021-09-19T00:00:00",
          "2021-09-29T00:00:00",
          "2021-10-09T00:00:00",
          "2021-10-19T00:00:00",
          "2021-10-29T00:00:00",
          "2021-11-08T00:00:00"
         ],
         "xaxis": "x",
         "y": [
          null,
          0.108,
          0.104,
          0.125,
          0.169,
          0.248,
          0.325,
          0.508,
          0.564,
          0.587,
          0.659,
          0.568,
          0.532,
          0.499,
          0.408,
          0.343,
          0.3
         ],
         "yaxis": "y"
        },
        {
         "customdata": [
          [
           38
          ],
          [
           38
          ],
          [
           38
          ],
          [
           38
          ],
          [
           38
          ],
          [
           38
          ],
          [
           38
          ],
          [
           38
          ],
          [
           38
          ],
          [
           38
          ],
          [
           38
          ],
          [
           38
          ],
          [
           38
          ],
          [
           38
          ],
          [
           38
          ],
          [
           38
          ],
          [
           38
          ]
         ],
         "hovertemplate": "parcel_id=%{customdata[0]}<br>point_id=10161<br>date=%{x}<br>value=%{y}<extra></extra>",
         "legendgroup": "38",
         "line": {
          "color": "#FECB52",
          "dash": "solid",
          "width": 0.7
         },
         "marker": {
          "symbol": "circle"
         },
         "mode": "lines",
         "name": "38",
         "showlegend": false,
         "type": "scattergl",
         "x": [
          "2021-06-01T00:00:00",
          "2021-06-11T00:00:00",
          "2021-06-21T00:00:00",
          "2021-07-01T00:00:00",
          "2021-07-11T00:00:00",
          "2021-07-21T00:00:00",
          "2021-07-31T00:00:00",
          "2021-08-10T00:00:00",
          "2021-08-20T00:00:00",
          "2021-08-30T00:00:00",
          "2021-09-09T00:00:00",
          "2021-09-19T00:00:00",
          "2021-09-29T00:00:00",
          "2021-10-09T00:00:00",
          "2021-10-19T00:00:00",
          "2021-10-29T00:00:00",
          "2021-11-08T00:00:00"
         ],
         "xaxis": "x",
         "y": [
          null,
          0.098,
          0.101,
          0.11,
          0.151,
          0.179,
          0.182,
          0.29,
          0.379,
          0.471,
          0.575,
          0.54,
          0.497,
          0.431,
          0.357,
          0.293,
          0.253
         ],
         "yaxis": "y"
        },
        {
         "customdata": [
          [
           38
          ],
          [
           38
          ],
          [
           38
          ],
          [
           38
          ],
          [
           38
          ],
          [
           38
          ],
          [
           38
          ],
          [
           38
          ],
          [
           38
          ],
          [
           38
          ],
          [
           38
          ],
          [
           38
          ],
          [
           38
          ],
          [
           38
          ],
          [
           38
          ],
          [
           38
          ],
          [
           38
          ]
         ],
         "hovertemplate": "parcel_id=%{customdata[0]}<br>point_id=10141<br>date=%{x}<br>value=%{y}<extra></extra>",
         "legendgroup": "38",
         "line": {
          "color": "#FECB52",
          "dash": "solid",
          "width": 0.7
         },
         "marker": {
          "symbol": "circle"
         },
         "mode": "lines",
         "name": "38",
         "showlegend": false,
         "type": "scattergl",
         "x": [
          "2021-06-01T00:00:00",
          "2021-06-11T00:00:00",
          "2021-06-21T00:00:00",
          "2021-07-01T00:00:00",
          "2021-07-11T00:00:00",
          "2021-07-21T00:00:00",
          "2021-07-31T00:00:00",
          "2021-08-10T00:00:00",
          "2021-08-20T00:00:00",
          "2021-08-30T00:00:00",
          "2021-09-09T00:00:00",
          "2021-09-19T00:00:00",
          "2021-09-29T00:00:00",
          "2021-10-09T00:00:00",
          "2021-10-19T00:00:00",
          "2021-10-29T00:00:00",
          "2021-11-08T00:00:00"
         ],
         "xaxis": "x",
         "y": [
          null,
          0.103,
          0.104,
          0.103,
          0.152,
          0.197,
          0.217,
          0.395,
          0.478,
          0.536,
          0.626,
          0.571,
          0.519,
          0.457,
          0.399,
          0.343,
          0.303
         ],
         "yaxis": "y"
        },
        {
         "customdata": [
          [
           38
          ],
          [
           38
          ],
          [
           38
          ],
          [
           38
          ],
          [
           38
          ],
          [
           38
          ],
          [
           38
          ],
          [
           38
          ],
          [
           38
          ],
          [
           38
          ],
          [
           38
          ],
          [
           38
          ],
          [
           38
          ],
          [
           38
          ],
          [
           38
          ],
          [
           38
          ],
          [
           38
          ]
         ],
         "hovertemplate": "parcel_id=%{customdata[0]}<br>point_id=10172<br>date=%{x}<br>value=%{y}<extra></extra>",
         "legendgroup": "38",
         "line": {
          "color": "#FECB52",
          "dash": "solid",
          "width": 0.7
         },
         "marker": {
          "symbol": "circle"
         },
         "mode": "lines",
         "name": "38",
         "showlegend": false,
         "type": "scattergl",
         "x": [
          "2021-06-01T00:00:00",
          "2021-06-11T00:00:00",
          "2021-06-21T00:00:00",
          "2021-07-01T00:00:00",
          "2021-07-11T00:00:00",
          "2021-07-21T00:00:00",
          "2021-07-31T00:00:00",
          "2021-08-10T00:00:00",
          "2021-08-20T00:00:00",
          "2021-08-30T00:00:00",
          "2021-09-09T00:00:00",
          "2021-09-19T00:00:00",
          "2021-09-29T00:00:00",
          "2021-10-09T00:00:00",
          "2021-10-19T00:00:00",
          "2021-10-29T00:00:00",
          "2021-11-08T00:00:00"
         ],
         "xaxis": "x",
         "y": [
          null,
          0.098,
          0.094,
          0.103,
          0.137,
          0.175,
          0.172,
          0.289,
          0.378,
          0.467,
          0.566,
          0.535,
          0.502,
          0.436,
          0.37,
          0.314,
          0.268
         ],
         "yaxis": "y"
        },
        {
         "customdata": [
          [
           37
          ],
          [
           37
          ],
          [
           37
          ],
          [
           37
          ],
          [
           37
          ],
          [
           37
          ],
          [
           37
          ],
          [
           37
          ],
          [
           37
          ],
          [
           37
          ],
          [
           37
          ],
          [
           37
          ],
          [
           37
          ],
          [
           37
          ],
          [
           37
          ],
          [
           37
          ],
          [
           37
          ]
         ],
         "hovertemplate": "parcel_id=%{customdata[0]}<br>point_id=10635<br>date=%{x}<br>value=%{y}<extra></extra>",
         "legendgroup": "37",
         "line": {
          "color": "#636efa",
          "dash": "solid",
          "width": 0.7
         },
         "marker": {
          "symbol": "circle"
         },
         "mode": "lines",
         "name": "37",
         "showlegend": true,
         "type": "scattergl",
         "x": [
          "2021-06-01T00:00:00",
          "2021-06-11T00:00:00",
          "2021-06-21T00:00:00",
          "2021-07-01T00:00:00",
          "2021-07-11T00:00:00",
          "2021-07-21T00:00:00",
          "2021-07-31T00:00:00",
          "2021-08-10T00:00:00",
          "2021-08-20T00:00:00",
          "2021-08-30T00:00:00",
          "2021-09-09T00:00:00",
          "2021-09-19T00:00:00",
          "2021-09-29T00:00:00",
          "2021-10-09T00:00:00",
          "2021-10-19T00:00:00",
          "2021-10-29T00:00:00",
          "2021-11-08T00:00:00"
         ],
         "xaxis": "x",
         "y": [
          null,
          0.095,
          0.098,
          0.122,
          0.137,
          0.17,
          null,
          null,
          null,
          null,
          null,
          null,
          0.609,
          0.55,
          0.432,
          0.351,
          0.293
         ],
         "yaxis": "y"
        },
        {
         "customdata": [
          [
           37
          ],
          [
           37
          ],
          [
           37
          ],
          [
           37
          ],
          [
           37
          ],
          [
           37
          ],
          [
           37
          ],
          [
           37
          ],
          [
           37
          ],
          [
           37
          ],
          [
           37
          ],
          [
           37
          ],
          [
           37
          ],
          [
           37
          ],
          [
           37
          ],
          [
           37
          ],
          [
           37
          ]
         ],
         "hovertemplate": "parcel_id=%{customdata[0]}<br>point_id=10645<br>date=%{x}<br>value=%{y}<extra></extra>",
         "legendgroup": "37",
         "line": {
          "color": "#636efa",
          "dash": "solid",
          "width": 0.7
         },
         "marker": {
          "symbol": "circle"
         },
         "mode": "lines",
         "name": "37",
         "showlegend": false,
         "type": "scattergl",
         "x": [
          "2021-06-01T00:00:00",
          "2021-06-11T00:00:00",
          "2021-06-21T00:00:00",
          "2021-07-01T00:00:00",
          "2021-07-11T00:00:00",
          "2021-07-21T00:00:00",
          "2021-07-31T00:00:00",
          "2021-08-10T00:00:00",
          "2021-08-20T00:00:00",
          "2021-08-30T00:00:00",
          "2021-09-09T00:00:00",
          "2021-09-19T00:00:00",
          "2021-09-29T00:00:00",
          "2021-10-09T00:00:00",
          "2021-10-19T00:00:00",
          "2021-10-29T00:00:00",
          "2021-11-08T00:00:00"
         ],
         "xaxis": "x",
         "y": [
          null,
          0.117,
          0.116,
          0.126,
          0.151,
          0.195,
          null,
          null,
          null,
          null,
          null,
          null,
          0.593,
          0.529,
          0.393,
          0.328,
          0.291
         ],
         "yaxis": "y"
        },
        {
         "customdata": [
          [
           7
          ],
          [
           7
          ],
          [
           7
          ],
          [
           7
          ],
          [
           7
          ],
          [
           7
          ],
          [
           7
          ],
          [
           7
          ],
          [
           7
          ],
          [
           7
          ],
          [
           7
          ],
          [
           7
          ],
          [
           7
          ],
          [
           7
          ],
          [
           7
          ],
          [
           7
          ],
          [
           7
          ]
         ],
         "hovertemplate": "parcel_id=%{customdata[0]}<br>point_id=10600<br>date=%{x}<br>value=%{y}<extra></extra>",
         "legendgroup": "7",
         "line": {
          "color": "#EF553B",
          "dash": "solid",
          "width": 0.7
         },
         "marker": {
          "symbol": "circle"
         },
         "mode": "lines",
         "name": "7",
         "showlegend": true,
         "type": "scattergl",
         "x": [
          "2021-06-01T00:00:00",
          "2021-06-11T00:00:00",
          "2021-06-21T00:00:00",
          "2021-07-01T00:00:00",
          "2021-07-11T00:00:00",
          "2021-07-21T00:00:00",
          "2021-07-31T00:00:00",
          "2021-08-10T00:00:00",
          "2021-08-20T00:00:00",
          "2021-08-30T00:00:00",
          "2021-09-09T00:00:00",
          "2021-09-19T00:00:00",
          "2021-09-29T00:00:00",
          "2021-10-09T00:00:00",
          "2021-10-19T00:00:00",
          "2021-10-29T00:00:00",
          "2021-11-08T00:00:00"
         ],
         "xaxis": "x",
         "y": [
          null,
          0.126,
          0.117,
          0.117,
          0.219,
          0.197,
          null,
          null,
          null,
          null,
          0.509,
          0.457,
          0.55,
          0.637,
          0.515,
          0.422,
          0.354
         ],
         "yaxis": "y"
        },
        {
         "customdata": [
          [
           46
          ],
          [
           46
          ],
          [
           46
          ],
          [
           46
          ],
          [
           46
          ],
          [
           46
          ],
          [
           46
          ],
          [
           46
          ],
          [
           46
          ],
          [
           46
          ],
          [
           46
          ],
          [
           46
          ],
          [
           46
          ],
          [
           46
          ],
          [
           46
          ],
          [
           46
          ],
          [
           46
          ]
         ],
         "hovertemplate": "parcel_id=%{customdata[0]}<br>point_id=10613<br>date=%{x}<br>value=%{y}<extra></extra>",
         "legendgroup": "46",
         "line": {
          "color": "#00cc96",
          "dash": "solid",
          "width": 0.7
         },
         "marker": {
          "symbol": "circle"
         },
         "mode": "lines",
         "name": "46",
         "showlegend": true,
         "type": "scattergl",
         "x": [
          "2021-06-01T00:00:00",
          "2021-06-11T00:00:00",
          "2021-06-21T00:00:00",
          "2021-07-01T00:00:00",
          "2021-07-11T00:00:00",
          "2021-07-21T00:00:00",
          "2021-07-31T00:00:00",
          "2021-08-10T00:00:00",
          "2021-08-20T00:00:00",
          "2021-08-30T00:00:00",
          "2021-09-09T00:00:00",
          "2021-09-19T00:00:00",
          "2021-09-29T00:00:00",
          "2021-10-09T00:00:00",
          "2021-10-19T00:00:00",
          "2021-10-29T00:00:00",
          "2021-11-08T00:00:00"
         ],
         "xaxis": "x",
         "y": [
          null,
          0.111,
          0.12,
          0.115,
          0.117,
          0.192,
          0.214,
          0.209,
          0.282,
          0.379,
          0.462,
          0.505,
          0.531,
          0.501,
          0.404,
          0.36,
          0.315
         ],
         "yaxis": "y"
        },
        {
         "customdata": [
          [
           23
          ],
          [
           23
          ],
          [
           23
          ],
          [
           23
          ],
          [
           23
          ],
          [
           23
          ],
          [
           23
          ],
          [
           23
          ],
          [
           23
          ],
          [
           23
          ],
          [
           23
          ],
          [
           23
          ],
          [
           23
          ],
          [
           23
          ],
          [
           23
          ],
          [
           23
          ],
          [
           23
          ]
         ],
         "hovertemplate": "parcel_id=%{customdata[0]}<br>point_id=9859<br>date=%{x}<br>value=%{y}<extra></extra>",
         "legendgroup": "23",
         "line": {
          "color": "#ab63fa",
          "dash": "solid",
          "width": 0.7
         },
         "marker": {
          "symbol": "circle"
         },
         "mode": "lines",
         "name": "23",
         "showlegend": true,
         "type": "scattergl",
         "x": [
          "2021-06-01T00:00:00",
          "2021-06-11T00:00:00",
          "2021-06-21T00:00:00",
          "2021-07-01T00:00:00",
          "2021-07-11T00:00:00",
          "2021-07-21T00:00:00",
          "2021-07-31T00:00:00",
          "2021-08-10T00:00:00",
          "2021-08-20T00:00:00",
          "2021-08-30T00:00:00",
          "2021-09-09T00:00:00",
          "2021-09-19T00:00:00",
          "2021-09-29T00:00:00",
          "2021-10-09T00:00:00",
          "2021-10-19T00:00:00",
          "2021-10-29T00:00:00",
          "2021-11-08T00:00:00"
         ],
         "xaxis": "x",
         "y": [
          null,
          0.123,
          0.141,
          0.163,
          0.187,
          0.231,
          0.287,
          0.366,
          0.476,
          0.577,
          0.645,
          0.669,
          0.683,
          0.64,
          0.548,
          0.46,
          0.375
         ],
         "yaxis": "y"
        },
        {
         "customdata": [
          [
           23
          ],
          [
           23
          ],
          [
           23
          ],
          [
           23
          ],
          [
           23
          ],
          [
           23
          ],
          [
           23
          ],
          [
           23
          ],
          [
           23
          ],
          [
           23
          ],
          [
           23
          ],
          [
           23
          ],
          [
           23
          ],
          [
           23
          ],
          [
           23
          ],
          [
           23
          ],
          [
           23
          ]
         ],
         "hovertemplate": "parcel_id=%{customdata[0]}<br>point_id=9843<br>date=%{x}<br>value=%{y}<extra></extra>",
         "legendgroup": "23",
         "line": {
          "color": "#ab63fa",
          "dash": "solid",
          "width": 0.7
         },
         "marker": {
          "symbol": "circle"
         },
         "mode": "lines",
         "name": "23",
         "showlegend": false,
         "type": "scattergl",
         "x": [
          "2021-06-01T00:00:00",
          "2021-06-11T00:00:00",
          "2021-06-21T00:00:00",
          "2021-07-01T00:00:00",
          "2021-07-11T00:00:00",
          "2021-07-21T00:00:00",
          "2021-07-31T00:00:00",
          "2021-08-10T00:00:00",
          "2021-08-20T00:00:00",
          "2021-08-30T00:00:00",
          "2021-09-09T00:00:00",
          "2021-09-19T00:00:00",
          "2021-09-29T00:00:00",
          "2021-10-09T00:00:00",
          "2021-10-19T00:00:00",
          "2021-10-29T00:00:00",
          "2021-11-08T00:00:00"
         ],
         "xaxis": "x",
         "y": [
          null,
          0.119,
          0.137,
          0.164,
          0.161,
          0.227,
          0.287,
          0.386,
          0.503,
          0.604,
          0.664,
          0.668,
          0.665,
          0.616,
          0.519,
          0.41,
          0.319
         ],
         "yaxis": "y"
        },
        {
         "customdata": [
          [
           23
          ],
          [
           23
          ],
          [
           23
          ],
          [
           23
          ],
          [
           23
          ],
          [
           23
          ],
          [
           23
          ],
          [
           23
          ],
          [
           23
          ],
          [
           23
          ],
          [
           23
          ],
          [
           23
          ],
          [
           23
          ],
          [
           23
          ],
          [
           23
          ],
          [
           23
          ],
          [
           23
          ]
         ],
         "hovertemplate": "parcel_id=%{customdata[0]}<br>point_id=9810<br>date=%{x}<br>value=%{y}<extra></extra>",
         "legendgroup": "23",
         "line": {
          "color": "#ab63fa",
          "dash": "solid",
          "width": 0.7
         },
         "marker": {
          "symbol": "circle"
         },
         "mode": "lines",
         "name": "23",
         "showlegend": false,
         "type": "scattergl",
         "x": [
          "2021-06-01T00:00:00",
          "2021-06-11T00:00:00",
          "2021-06-21T00:00:00",
          "2021-07-01T00:00:00",
          "2021-07-11T00:00:00",
          "2021-07-21T00:00:00",
          "2021-07-31T00:00:00",
          "2021-08-10T00:00:00",
          "2021-08-20T00:00:00",
          "2021-08-30T00:00:00",
          "2021-09-09T00:00:00",
          "2021-09-19T00:00:00",
          "2021-09-29T00:00:00",
          "2021-10-09T00:00:00",
          "2021-10-19T00:00:00",
          "2021-10-29T00:00:00",
          "2021-11-08T00:00:00"
         ],
         "xaxis": "x",
         "y": [
          null,
          0.136,
          0.147,
          0.164,
          0.18,
          0.233,
          0.389,
          0.543,
          0.614,
          0.656,
          0.685,
          0.699,
          0.716,
          0.7,
          0.565,
          0.427,
          0.296
         ],
         "yaxis": "y"
        },
        {
         "customdata": [
          [
           8
          ],
          [
           8
          ],
          [
           8
          ],
          [
           8
          ],
          [
           8
          ],
          [
           8
          ],
          [
           8
          ],
          [
           8
          ],
          [
           8
          ],
          [
           8
          ],
          [
           8
          ],
          [
           8
          ],
          [
           8
          ],
          [
           8
          ],
          [
           8
          ],
          [
           8
          ],
          [
           8
          ]
         ],
         "hovertemplate": "parcel_id=%{customdata[0]}<br>point_id=9752<br>date=%{x}<br>value=%{y}<extra></extra>",
         "legendgroup": "8",
         "line": {
          "color": "#FFA15A",
          "dash": "solid",
          "width": 0.7
         },
         "marker": {
          "symbol": "circle"
         },
         "mode": "lines",
         "name": "8",
         "showlegend": true,
         "type": "scattergl",
         "x": [
          "2021-06-01T00:00:00",
          "2021-06-11T00:00:00",
          "2021-06-21T00:00:00",
          "2021-07-01T00:00:00",
          "2021-07-11T00:00:00",
          "2021-07-21T00:00:00",
          "2021-07-31T00:00:00",
          "2021-08-10T00:00:00",
          "2021-08-20T00:00:00",
          "2021-08-30T00:00:00",
          "2021-09-09T00:00:00",
          "2021-09-19T00:00:00",
          "2021-09-29T00:00:00",
          "2021-10-09T00:00:00",
          "2021-10-19T00:00:00",
          "2021-10-29T00:00:00",
          "2021-11-08T00:00:00"
         ],
         "xaxis": "x",
         "y": [
          null,
          0.097,
          0.099,
          0.1,
          0.125,
          0.168,
          0.169,
          0.226,
          0.364,
          0.521,
          0.664,
          0.665,
          0.731,
          null,
          null,
          null,
          null
         ],
         "yaxis": "y"
        },
        {
         "customdata": [
          [
           31
          ],
          [
           31
          ],
          [
           31
          ],
          [
           31
          ],
          [
           31
          ],
          [
           31
          ],
          [
           31
          ],
          [
           31
          ],
          [
           31
          ],
          [
           31
          ],
          [
           31
          ],
          [
           31
          ],
          [
           31
          ],
          [
           31
          ],
          [
           31
          ],
          [
           31
          ],
          [
           31
          ]
         ],
         "hovertemplate": "parcel_id=%{customdata[0]}<br>point_id=734<br>date=%{x}<br>value=%{y}<extra></extra>",
         "legendgroup": "31",
         "line": {
          "color": "#19d3f3",
          "dash": "solid",
          "width": 0.7
         },
         "marker": {
          "symbol": "circle"
         },
         "mode": "lines",
         "name": "31",
         "showlegend": true,
         "type": "scattergl",
         "x": [
          "2021-06-01T00:00:00",
          "2021-06-11T00:00:00",
          "2021-06-21T00:00:00",
          "2021-07-01T00:00:00",
          "2021-07-11T00:00:00",
          "2021-07-21T00:00:00",
          "2021-07-31T00:00:00",
          "2021-08-10T00:00:00",
          "2021-08-20T00:00:00",
          "2021-08-30T00:00:00",
          "2021-09-09T00:00:00",
          "2021-09-19T00:00:00",
          "2021-09-29T00:00:00",
          "2021-10-09T00:00:00",
          "2021-10-19T00:00:00",
          "2021-10-29T00:00:00",
          "2021-11-08T00:00:00"
         ],
         "xaxis": "x",
         "y": [
          null,
          0.084,
          0.085,
          0.091,
          0.082,
          0.105,
          0.145,
          0.196,
          0.331,
          0.495,
          0.552,
          0.607,
          0.631,
          0.592,
          0.512,
          0.425,
          0.365
         ],
         "yaxis": "y"
        },
        {
         "customdata": [
          [
           26
          ],
          [
           26
          ],
          [
           26
          ],
          [
           26
          ],
          [
           26
          ],
          [
           26
          ],
          [
           26
          ],
          [
           26
          ],
          [
           26
          ],
          [
           26
          ],
          [
           26
          ],
          [
           26
          ],
          [
           26
          ],
          [
           26
          ],
          [
           26
          ],
          [
           26
          ],
          [
           26
          ]
         ],
         "hovertemplate": "parcel_id=%{customdata[0]}<br>point_id=10380<br>date=%{x}<br>value=%{y}<extra></extra>",
         "legendgroup": "26",
         "line": {
          "color": "#FF6692",
          "dash": "solid",
          "width": 0.7
         },
         "marker": {
          "symbol": "circle"
         },
         "mode": "lines",
         "name": "26",
         "showlegend": true,
         "type": "scattergl",
         "x": [
          "2021-06-01T00:00:00",
          "2021-06-11T00:00:00",
          "2021-06-21T00:00:00",
          "2021-07-01T00:00:00",
          "2021-07-11T00:00:00",
          "2021-07-21T00:00:00",
          "2021-07-31T00:00:00",
          "2021-08-10T00:00:00",
          "2021-08-20T00:00:00",
          "2021-08-30T00:00:00",
          "2021-09-09T00:00:00",
          "2021-09-19T00:00:00",
          "2021-09-29T00:00:00",
          "2021-10-09T00:00:00",
          "2021-10-19T00:00:00",
          "2021-10-29T00:00:00",
          "2021-11-08T00:00:00"
         ],
         "xaxis": "x",
         "y": [
          null,
          0.125,
          0.118,
          0.123,
          0.155,
          0.162,
          0.179,
          0.236,
          0.367,
          0.527,
          0.702,
          0.688,
          0.675,
          0.612,
          0.49,
          0.412,
          0.333
         ],
         "yaxis": "y"
        },
        {
         "line": {
          "color": "black",
          "width": 4
         },
         "mode": "lines",
         "name": "mean",
         "showlegend": true,
         "type": "scatter",
         "x": [
          "2021-06-01T00:00:00",
          "2021-06-11T00:00:00",
          "2021-06-21T00:00:00",
          "2021-07-01T00:00:00",
          "2021-07-11T00:00:00",
          "2021-07-21T00:00:00",
          "2021-07-31T00:00:00",
          "2021-08-10T00:00:00",
          "2021-08-20T00:00:00",
          "2021-08-30T00:00:00",
          "2021-09-09T00:00:00",
          "2021-09-19T00:00:00",
          "2021-09-29T00:00:00",
          "2021-10-09T00:00:00",
          "2021-10-19T00:00:00",
          "2021-10-29T00:00:00",
          "2021-11-08T00:00:00"
         ],
         "y": [
          0.11543650793650798,
          0.10227798607391543,
          0.10256882699517952,
          0.11728602035350798,
          0.14822228173540417,
          0.20280396357793273,
          0.23130769230769233,
          0.3012894891368176,
          0.39715760495526437,
          0.499423262216105,
          0.5922628797886396,
          0.600391644908616,
          0.6129860739153727,
          0.5857289416846648,
          0.4905809935205183,
          0.4200658747300221,
          0.35208585313175
         ]
        }
       ],
       "layout": {
        "legend": {
         "title": {
          "text": "parcel_id"
         },
         "tracegroupgap": 0
        },
        "template": {
         "data": {
          "bar": [
           {
            "error_x": {
             "color": "#2a3f5f"
            },
            "error_y": {
             "color": "#2a3f5f"
            },
            "marker": {
             "line": {
              "color": "#E5ECF6",
              "width": 0.5
             },
             "pattern": {
              "fillmode": "overlay",
              "size": 10,
              "solidity": 0.2
             }
            },
            "type": "bar"
           }
          ],
          "barpolar": [
           {
            "marker": {
             "line": {
              "color": "#E5ECF6",
              "width": 0.5
             },
             "pattern": {
              "fillmode": "overlay",
              "size": 10,
              "solidity": 0.2
             }
            },
            "type": "barpolar"
           }
          ],
          "carpet": [
           {
            "aaxis": {
             "endlinecolor": "#2a3f5f",
             "gridcolor": "white",
             "linecolor": "white",
             "minorgridcolor": "white",
             "startlinecolor": "#2a3f5f"
            },
            "baxis": {
             "endlinecolor": "#2a3f5f",
             "gridcolor": "white",
             "linecolor": "white",
             "minorgridcolor": "white",
             "startlinecolor": "#2a3f5f"
            },
            "type": "carpet"
           }
          ],
          "choropleth": [
           {
            "colorbar": {
             "outlinewidth": 0,
             "ticks": ""
            },
            "type": "choropleth"
           }
          ],
          "contour": [
           {
            "colorbar": {
             "outlinewidth": 0,
             "ticks": ""
            },
            "colorscale": [
             [
              0,
              "#0d0887"
             ],
             [
              0.1111111111111111,
              "#46039f"
             ],
             [
              0.2222222222222222,
              "#7201a8"
             ],
             [
              0.3333333333333333,
              "#9c179e"
             ],
             [
              0.4444444444444444,
              "#bd3786"
             ],
             [
              0.5555555555555556,
              "#d8576b"
             ],
             [
              0.6666666666666666,
              "#ed7953"
             ],
             [
              0.7777777777777778,
              "#fb9f3a"
             ],
             [
              0.8888888888888888,
              "#fdca26"
             ],
             [
              1,
              "#f0f921"
             ]
            ],
            "type": "contour"
           }
          ],
          "contourcarpet": [
           {
            "colorbar": {
             "outlinewidth": 0,
             "ticks": ""
            },
            "type": "contourcarpet"
           }
          ],
          "heatmap": [
           {
            "colorbar": {
             "outlinewidth": 0,
             "ticks": ""
            },
            "colorscale": [
             [
              0,
              "#0d0887"
             ],
             [
              0.1111111111111111,
              "#46039f"
             ],
             [
              0.2222222222222222,
              "#7201a8"
             ],
             [
              0.3333333333333333,
              "#9c179e"
             ],
             [
              0.4444444444444444,
              "#bd3786"
             ],
             [
              0.5555555555555556,
              "#d8576b"
             ],
             [
              0.6666666666666666,
              "#ed7953"
             ],
             [
              0.7777777777777778,
              "#fb9f3a"
             ],
             [
              0.8888888888888888,
              "#fdca26"
             ],
             [
              1,
              "#f0f921"
             ]
            ],
            "type": "heatmap"
           }
          ],
          "heatmapgl": [
           {
            "colorbar": {
             "outlinewidth": 0,
             "ticks": ""
            },
            "colorscale": [
             [
              0,
              "#0d0887"
             ],
             [
              0.1111111111111111,
              "#46039f"
             ],
             [
              0.2222222222222222,
              "#7201a8"
             ],
             [
              0.3333333333333333,
              "#9c179e"
             ],
             [
              0.4444444444444444,
              "#bd3786"
             ],
             [
              0.5555555555555556,
              "#d8576b"
             ],
             [
              0.6666666666666666,
              "#ed7953"
             ],
             [
              0.7777777777777778,
              "#fb9f3a"
             ],
             [
              0.8888888888888888,
              "#fdca26"
             ],
             [
              1,
              "#f0f921"
             ]
            ],
            "type": "heatmapgl"
           }
          ],
          "histogram": [
           {
            "marker": {
             "pattern": {
              "fillmode": "overlay",
              "size": 10,
              "solidity": 0.2
             }
            },
            "type": "histogram"
           }
          ],
          "histogram2d": [
           {
            "colorbar": {
             "outlinewidth": 0,
             "ticks": ""
            },
            "colorscale": [
             [
              0,
              "#0d0887"
             ],
             [
              0.1111111111111111,
              "#46039f"
             ],
             [
              0.2222222222222222,
              "#7201a8"
             ],
             [
              0.3333333333333333,
              "#9c179e"
             ],
             [
              0.4444444444444444,
              "#bd3786"
             ],
             [
              0.5555555555555556,
              "#d8576b"
             ],
             [
              0.6666666666666666,
              "#ed7953"
             ],
             [
              0.7777777777777778,
              "#fb9f3a"
             ],
             [
              0.8888888888888888,
              "#fdca26"
             ],
             [
              1,
              "#f0f921"
             ]
            ],
            "type": "histogram2d"
           }
          ],
          "histogram2dcontour": [
           {
            "colorbar": {
             "outlinewidth": 0,
             "ticks": ""
            },
            "colorscale": [
             [
              0,
              "#0d0887"
             ],
             [
              0.1111111111111111,
              "#46039f"
             ],
             [
              0.2222222222222222,
              "#7201a8"
             ],
             [
              0.3333333333333333,
              "#9c179e"
             ],
             [
              0.4444444444444444,
              "#bd3786"
             ],
             [
              0.5555555555555556,
              "#d8576b"
             ],
             [
              0.6666666666666666,
              "#ed7953"
             ],
             [
              0.7777777777777778,
              "#fb9f3a"
             ],
             [
              0.8888888888888888,
              "#fdca26"
             ],
             [
              1,
              "#f0f921"
             ]
            ],
            "type": "histogram2dcontour"
           }
          ],
          "mesh3d": [
           {
            "colorbar": {
             "outlinewidth": 0,
             "ticks": ""
            },
            "type": "mesh3d"
           }
          ],
          "parcoords": [
           {
            "line": {
             "colorbar": {
              "outlinewidth": 0,
              "ticks": ""
             }
            },
            "type": "parcoords"
           }
          ],
          "pie": [
           {
            "automargin": true,
            "type": "pie"
           }
          ],
          "scatter": [
           {
            "marker": {
             "colorbar": {
              "outlinewidth": 0,
              "ticks": ""
             }
            },
            "type": "scatter"
           }
          ],
          "scatter3d": [
           {
            "line": {
             "colorbar": {
              "outlinewidth": 0,
              "ticks": ""
             }
            },
            "marker": {
             "colorbar": {
              "outlinewidth": 0,
              "ticks": ""
             }
            },
            "type": "scatter3d"
           }
          ],
          "scattercarpet": [
           {
            "marker": {
             "colorbar": {
              "outlinewidth": 0,
              "ticks": ""
             }
            },
            "type": "scattercarpet"
           }
          ],
          "scattergeo": [
           {
            "marker": {
             "colorbar": {
              "outlinewidth": 0,
              "ticks": ""
             }
            },
            "type": "scattergeo"
           }
          ],
          "scattergl": [
           {
            "marker": {
             "colorbar": {
              "outlinewidth": 0,
              "ticks": ""
             }
            },
            "type": "scattergl"
           }
          ],
          "scattermapbox": [
           {
            "marker": {
             "colorbar": {
              "outlinewidth": 0,
              "ticks": ""
             }
            },
            "type": "scattermapbox"
           }
          ],
          "scatterpolar": [
           {
            "marker": {
             "colorbar": {
              "outlinewidth": 0,
              "ticks": ""
             }
            },
            "type": "scatterpolar"
           }
          ],
          "scatterpolargl": [
           {
            "marker": {
             "colorbar": {
              "outlinewidth": 0,
              "ticks": ""
             }
            },
            "type": "scatterpolargl"
           }
          ],
          "scatterternary": [
           {
            "marker": {
             "colorbar": {
              "outlinewidth": 0,
              "ticks": ""
             }
            },
            "type": "scatterternary"
           }
          ],
          "surface": [
           {
            "colorbar": {
             "outlinewidth": 0,
             "ticks": ""
            },
            "colorscale": [
             [
              0,
              "#0d0887"
             ],
             [
              0.1111111111111111,
              "#46039f"
             ],
             [
              0.2222222222222222,
              "#7201a8"
             ],
             [
              0.3333333333333333,
              "#9c179e"
             ],
             [
              0.4444444444444444,
              "#bd3786"
             ],
             [
              0.5555555555555556,
              "#d8576b"
             ],
             [
              0.6666666666666666,
              "#ed7953"
             ],
             [
              0.7777777777777778,
              "#fb9f3a"
             ],
             [
              0.8888888888888888,
              "#fdca26"
             ],
             [
              1,
              "#f0f921"
             ]
            ],
            "type": "surface"
           }
          ],
          "table": [
           {
            "cells": {
             "fill": {
              "color": "#EBF0F8"
             },
             "line": {
              "color": "white"
             }
            },
            "header": {
             "fill": {
              "color": "#C8D4E3"
             },
             "line": {
              "color": "white"
             }
            },
            "type": "table"
           }
          ]
         },
         "layout": {
          "annotationdefaults": {
           "arrowcolor": "#2a3f5f",
           "arrowhead": 0,
           "arrowwidth": 1
          },
          "autotypenumbers": "strict",
          "coloraxis": {
           "colorbar": {
            "outlinewidth": 0,
            "ticks": ""
           }
          },
          "colorscale": {
           "diverging": [
            [
             0,
             "#8e0152"
            ],
            [
             0.1,
             "#c51b7d"
            ],
            [
             0.2,
             "#de77ae"
            ],
            [
             0.3,
             "#f1b6da"
            ],
            [
             0.4,
             "#fde0ef"
            ],
            [
             0.5,
             "#f7f7f7"
            ],
            [
             0.6,
             "#e6f5d0"
            ],
            [
             0.7,
             "#b8e186"
            ],
            [
             0.8,
             "#7fbc41"
            ],
            [
             0.9,
             "#4d9221"
            ],
            [
             1,
             "#276419"
            ]
           ],
           "sequential": [
            [
             0,
             "#0d0887"
            ],
            [
             0.1111111111111111,
             "#46039f"
            ],
            [
             0.2222222222222222,
             "#7201a8"
            ],
            [
             0.3333333333333333,
             "#9c179e"
            ],
            [
             0.4444444444444444,
             "#bd3786"
            ],
            [
             0.5555555555555556,
             "#d8576b"
            ],
            [
             0.6666666666666666,
             "#ed7953"
            ],
            [
             0.7777777777777778,
             "#fb9f3a"
            ],
            [
             0.8888888888888888,
             "#fdca26"
            ],
            [
             1,
             "#f0f921"
            ]
           ],
           "sequentialminus": [
            [
             0,
             "#0d0887"
            ],
            [
             0.1111111111111111,
             "#46039f"
            ],
            [
             0.2222222222222222,
             "#7201a8"
            ],
            [
             0.3333333333333333,
             "#9c179e"
            ],
            [
             0.4444444444444444,
             "#bd3786"
            ],
            [
             0.5555555555555556,
             "#d8576b"
            ],
            [
             0.6666666666666666,
             "#ed7953"
            ],
            [
             0.7777777777777778,
             "#fb9f3a"
            ],
            [
             0.8888888888888888,
             "#fdca26"
            ],
            [
             1,
             "#f0f921"
            ]
           ]
          },
          "colorway": [
           "#636efa",
           "#EF553B",
           "#00cc96",
           "#ab63fa",
           "#FFA15A",
           "#19d3f3",
           "#FF6692",
           "#B6E880",
           "#FF97FF",
           "#FECB52"
          ],
          "font": {
           "color": "#2a3f5f"
          },
          "geo": {
           "bgcolor": "white",
           "lakecolor": "white",
           "landcolor": "#E5ECF6",
           "showlakes": true,
           "showland": true,
           "subunitcolor": "white"
          },
          "hoverlabel": {
           "align": "left"
          },
          "hovermode": "closest",
          "mapbox": {
           "style": "light"
          },
          "paper_bgcolor": "white",
          "plot_bgcolor": "#E5ECF6",
          "polar": {
           "angularaxis": {
            "gridcolor": "white",
            "linecolor": "white",
            "ticks": ""
           },
           "bgcolor": "#E5ECF6",
           "radialaxis": {
            "gridcolor": "white",
            "linecolor": "white",
            "ticks": ""
           }
          },
          "scene": {
           "xaxis": {
            "backgroundcolor": "#E5ECF6",
            "gridcolor": "white",
            "gridwidth": 2,
            "linecolor": "white",
            "showbackground": true,
            "ticks": "",
            "zerolinecolor": "white"
           },
           "yaxis": {
            "backgroundcolor": "#E5ECF6",
            "gridcolor": "white",
            "gridwidth": 2,
            "linecolor": "white",
            "showbackground": true,
            "ticks": "",
            "zerolinecolor": "white"
           },
           "zaxis": {
            "backgroundcolor": "#E5ECF6",
            "gridcolor": "white",
            "gridwidth": 2,
            "linecolor": "white",
            "showbackground": true,
            "ticks": "",
            "zerolinecolor": "white"
           }
          },
          "shapedefaults": {
           "line": {
            "color": "#2a3f5f"
           }
          },
          "ternary": {
           "aaxis": {
            "gridcolor": "white",
            "linecolor": "white",
            "ticks": ""
           },
           "baxis": {
            "gridcolor": "white",
            "linecolor": "white",
            "ticks": ""
           },
           "bgcolor": "#E5ECF6",
           "caxis": {
            "gridcolor": "white",
            "linecolor": "white",
            "ticks": ""
           }
          },
          "title": {
           "x": 0.05
          },
          "xaxis": {
           "automargin": true,
           "gridcolor": "white",
           "linecolor": "white",
           "ticks": "",
           "title": {
            "standoff": 15
           },
           "zerolinecolor": "white",
           "zerolinewidth": 2
          },
          "yaxis": {
           "automargin": true,
           "gridcolor": "white",
           "linecolor": "white",
           "ticks": "",
           "title": {
            "standoff": 15
           },
           "zerolinecolor": "white",
           "zerolinewidth": 2
          }
         }
        },
        "title": {
         "text": "NDVI profile of Maize - SITE 41"
        },
        "xaxis": {
         "anchor": "y",
         "domain": [
          0,
          1
         ],
         "title": {
          "text": "date"
         }
        },
        "yaxis": {
         "anchor": "x",
         "domain": [
          0,
          1
         ],
         "title": {
          "text": "value"
         }
        }
       }
      },
      "text/html": [
       "<div>                            <div id=\"b6e57440-2350-4d62-8387-aa48837461a8\" class=\"plotly-graph-div\" style=\"height:525px; width:100%;\"></div>            <script type=\"text/javascript\">                require([\"plotly\"], function(Plotly) {                    window.PLOTLYENV=window.PLOTLYENV || {};                                    if (document.getElementById(\"b6e57440-2350-4d62-8387-aa48837461a8\")) {                    Plotly.newPlot(                        \"b6e57440-2350-4d62-8387-aa48837461a8\",                        [{\"customdata\":[[32],[32],[32],[32],[32],[32],[32],[32],[32],[32],[32],[32],[32],[32],[32],[32],[32]],\"hovertemplate\":\"parcel_id=%{customdata[0]}<br>point_id=10413<br>date=%{x}<br>value=%{y}<extra></extra>\",\"legendgroup\":\"32\",\"line\":{\"color\":\"#636efa\",\"dash\":\"solid\",\"width\":0.7},\"marker\":{\"symbol\":\"circle\"},\"mode\":\"lines\",\"name\":\"32\",\"showlegend\":true,\"type\":\"scattergl\",\"x\":[\"2021-06-01T00:00:00\",\"2021-06-11T00:00:00\",\"2021-06-21T00:00:00\",\"2021-07-01T00:00:00\",\"2021-07-11T00:00:00\",\"2021-07-21T00:00:00\",\"2021-07-31T00:00:00\",\"2021-08-10T00:00:00\",\"2021-08-20T00:00:00\",\"2021-08-30T00:00:00\",\"2021-09-09T00:00:00\",\"2021-09-19T00:00:00\",\"2021-09-29T00:00:00\",\"2021-10-09T00:00:00\",\"2021-10-19T00:00:00\",\"2021-10-29T00:00:00\",\"2021-11-08T00:00:00\"],\"xaxis\":\"x\",\"y\":[null,0.084,0.09,0.08,0.124,0.132,0.178,0.233,0.35,0.49,0.61,0.685,0.685,0.633,0.525,0.453,0.38],\"yaxis\":\"y\"},{\"customdata\":[[32],[32],[32],[32],[32],[32],[32],[32],[32],[32],[32],[32],[32],[32],[32],[32],[32]],\"hovertemplate\":\"parcel_id=%{customdata[0]}<br>point_id=10481<br>date=%{x}<br>value=%{y}<extra></extra>\",\"legendgroup\":\"32\",\"line\":{\"color\":\"#636efa\",\"dash\":\"solid\",\"width\":0.7},\"marker\":{\"symbol\":\"circle\"},\"mode\":\"lines\",\"name\":\"32\",\"showlegend\":false,\"type\":\"scattergl\",\"x\":[\"2021-06-01T00:00:00\",\"2021-06-11T00:00:00\",\"2021-06-21T00:00:00\",\"2021-07-01T00:00:00\",\"2021-07-11T00:00:00\",\"2021-07-21T00:00:00\",\"2021-07-31T00:00:00\",\"2021-08-10T00:00:00\",\"2021-08-20T00:00:00\",\"2021-08-30T00:00:00\",\"2021-09-09T00:00:00\",\"2021-09-19T00:00:00\",\"2021-09-29T00:00:00\",\"2021-10-09T00:00:00\",\"2021-10-19T00:00:00\",\"2021-10-29T00:00:00\",\"2021-11-08T00:00:00\"],\"xaxis\":\"x\",\"y\":[null,0.097,0.086,0.087,0.123,0.147,0.208,0.296,0.411,0.535,0.631,0.654,0.661,0.639,0.561,0.476,0.387],\"yaxis\":\"y\"},{\"customdata\":[[32],[32],[32],[32],[32],[32],[32],[32],[32],[32],[32],[32],[32],[32],[32],[32],[32]],\"hovertemplate\":\"parcel_id=%{customdata[0]}<br>point_id=10412<br>date=%{x}<br>value=%{y}<extra></extra>\",\"legendgroup\":\"32\",\"line\":{\"color\":\"#636efa\",\"dash\":\"solid\",\"width\":0.7},\"marker\":{\"symbol\":\"circle\"},\"mode\":\"lines\",\"name\":\"32\",\"showlegend\":false,\"type\":\"scattergl\",\"x\":[\"2021-06-01T00:00:00\",\"2021-06-11T00:00:00\",\"2021-06-21T00:00:00\",\"2021-07-01T00:00:00\",\"2021-07-11T00:00:00\",\"2021-07-21T00:00:00\",\"2021-07-31T00:00:00\",\"2021-08-10T00:00:00\",\"2021-08-20T00:00:00\",\"2021-08-30T00:00:00\",\"2021-09-09T00:00:00\",\"2021-09-19T00:00:00\",\"2021-09-29T00:00:00\",\"2021-10-09T00:00:00\",\"2021-10-19T00:00:00\",\"2021-10-29T00:00:00\",\"2021-11-08T00:00:00\"],\"xaxis\":\"x\",\"y\":[null,0.085,0.087,0.09,0.146,0.132,0.174,0.229,0.347,0.482,0.596,0.668,0.658,0.601,0.503,0.434,0.363],\"yaxis\":\"y\"},{\"customdata\":[[32],[32],[32],[32],[32],[32],[32],[32],[32],[32],[32],[32],[32],[32],[32],[32],[32]],\"hovertemplate\":\"parcel_id=%{customdata[0]}<br>point_id=10520<br>date=%{x}<br>value=%{y}<extra></extra>\",\"legendgroup\":\"32\",\"line\":{\"color\":\"#636efa\",\"dash\":\"solid\",\"width\":0.7},\"marker\":{\"symbol\":\"circle\"},\"mode\":\"lines\",\"name\":\"32\",\"showlegend\":false,\"type\":\"scattergl\",\"x\":[\"2021-06-01T00:00:00\",\"2021-06-11T00:00:00\",\"2021-06-21T00:00:00\",\"2021-07-01T00:00:00\",\"2021-07-11T00:00:00\",\"2021-07-21T00:00:00\",\"2021-07-31T00:00:00\",\"2021-08-10T00:00:00\",\"2021-08-20T00:00:00\",\"2021-08-30T00:00:00\",\"2021-09-09T00:00:00\",\"2021-09-19T00:00:00\",\"2021-09-29T00:00:00\",\"2021-10-09T00:00:00\",\"2021-10-19T00:00:00\",\"2021-10-29T00:00:00\",\"2021-11-08T00:00:00\"],\"xaxis\":\"x\",\"y\":[null,0.112,0.117,0.12,0.173,0.17,0.242,0.362,0.5,0.622,0.702,0.714,0.745,0.714,0.545,0.436,0.316],\"yaxis\":\"y\"},{\"customdata\":[[32],[32],[32],[32],[32],[32],[32],[32],[32],[32],[32],[32],[32],[32],[32],[32],[32]],\"hovertemplate\":\"parcel_id=%{customdata[0]}<br>point_id=10433<br>date=%{x}<br>value=%{y}<extra></extra>\",\"legendgroup\":\"32\",\"line\":{\"color\":\"#636efa\",\"dash\":\"solid\",\"width\":0.7},\"marker\":{\"symbol\":\"circle\"},\"mode\":\"lines\",\"name\":\"32\",\"showlegend\":false,\"type\":\"scattergl\",\"x\":[\"2021-06-01T00:00:00\",\"2021-06-11T00:00:00\",\"2021-06-21T00:00:00\",\"2021-07-01T00:00:00\",\"2021-07-11T00:00:00\",\"2021-07-21T00:00:00\",\"2021-07-31T00:00:00\",\"2021-08-10T00:00:00\",\"2021-08-20T00:00:00\",\"2021-08-30T00:00:00\",\"2021-09-09T00:00:00\",\"2021-09-19T00:00:00\",\"2021-09-29T00:00:00\",\"2021-10-09T00:00:00\",\"2021-10-19T00:00:00\",\"2021-10-29T00:00:00\",\"2021-11-08T00:00:00\"],\"xaxis\":\"x\",\"y\":[null,0.079,0.088,0.085,0.129,0.124,0.159,0.212,0.3,0.399,0.5,0.616,0.647,0.611,0.503,0.43,0.355],\"yaxis\":\"y\"},{\"customdata\":[[32],[32],[32],[32],[32],[32],[32],[32],[32],[32],[32],[32],[32],[32],[32],[32],[32]],\"hovertemplate\":\"parcel_id=%{customdata[0]}<br>point_id=10467<br>date=%{x}<br>value=%{y}<extra></extra>\",\"legendgroup\":\"32\",\"line\":{\"color\":\"#636efa\",\"dash\":\"solid\",\"width\":0.7},\"marker\":{\"symbol\":\"circle\"},\"mode\":\"lines\",\"name\":\"32\",\"showlegend\":false,\"type\":\"scattergl\",\"x\":[\"2021-06-01T00:00:00\",\"2021-06-11T00:00:00\",\"2021-06-21T00:00:00\",\"2021-07-01T00:00:00\",\"2021-07-11T00:00:00\",\"2021-07-21T00:00:00\",\"2021-07-31T00:00:00\",\"2021-08-10T00:00:00\",\"2021-08-20T00:00:00\",\"2021-08-30T00:00:00\",\"2021-09-09T00:00:00\",\"2021-09-19T00:00:00\",\"2021-09-29T00:00:00\",\"2021-10-09T00:00:00\",\"2021-10-19T00:00:00\",\"2021-10-29T00:00:00\",\"2021-11-08T00:00:00\"],\"xaxis\":\"x\",\"y\":[null,0.091,0.097,0.088,0.144,0.135,0.22,0.351,0.447,0.531,0.608,0.678,0.691,0.666,0.59,0.507,0.421],\"yaxis\":\"y\"},{\"customdata\":[[32],[32],[32],[32],[32],[32],[32],[32],[32],[32],[32],[32],[32],[32],[32],[32],[32]],\"hovertemplate\":\"parcel_id=%{customdata[0]}<br>point_id=10389<br>date=%{x}<br>value=%{y}<extra></extra>\",\"legendgroup\":\"32\",\"line\":{\"color\":\"#636efa\",\"dash\":\"solid\",\"width\":0.7},\"marker\":{\"symbol\":\"circle\"},\"mode\":\"lines\",\"name\":\"32\",\"showlegend\":false,\"type\":\"scattergl\",\"x\":[\"2021-06-01T00:00:00\",\"2021-06-11T00:00:00\",\"2021-06-21T00:00:00\",\"2021-07-01T00:00:00\",\"2021-07-11T00:00:00\",\"2021-07-21T00:00:00\",\"2021-07-31T00:00:00\",\"2021-08-10T00:00:00\",\"2021-08-20T00:00:00\",\"2021-08-30T00:00:00\",\"2021-09-09T00:00:00\",\"2021-09-19T00:00:00\",\"2021-09-29T00:00:00\",\"2021-10-09T00:00:00\",\"2021-10-19T00:00:00\",\"2021-10-29T00:00:00\",\"2021-11-08T00:00:00\"],\"xaxis\":\"x\",\"y\":[null,0.084,0.094,0.093,0.145,0.15,0.183,0.221,0.289,0.372,0.469,0.6,0.635,0.593,0.465,0.383,0.298],\"yaxis\":\"y\"},{\"customdata\":[[32],[32],[32],[32],[32],[32],[32],[32],[32],[32],[32],[32],[32],[32],[32],[32],[32]],\"hovertemplate\":\"parcel_id=%{customdata[0]}<br>point_id=10409<br>date=%{x}<br>value=%{y}<extra></extra>\",\"legendgroup\":\"32\",\"line\":{\"color\":\"#636efa\",\"dash\":\"solid\",\"width\":0.7},\"marker\":{\"symbol\":\"circle\"},\"mode\":\"lines\",\"name\":\"32\",\"showlegend\":false,\"type\":\"scattergl\",\"x\":[\"2021-06-01T00:00:00\",\"2021-06-11T00:00:00\",\"2021-06-21T00:00:00\",\"2021-07-01T00:00:00\",\"2021-07-11T00:00:00\",\"2021-07-21T00:00:00\",\"2021-07-31T00:00:00\",\"2021-08-10T00:00:00\",\"2021-08-20T00:00:00\",\"2021-08-30T00:00:00\",\"2021-09-09T00:00:00\",\"2021-09-19T00:00:00\",\"2021-09-29T00:00:00\",\"2021-10-09T00:00:00\",\"2021-10-19T00:00:00\",\"2021-10-29T00:00:00\",\"2021-11-08T00:00:00\"],\"xaxis\":\"x\",\"y\":[null,0.078,0.087,0.083,0.135,0.129,0.158,0.203,0.297,0.404,0.506,0.621,0.666,0.639,0.518,0.431,0.339],\"yaxis\":\"y\"},{\"customdata\":[[32],[32],[32],[32],[32],[32],[32],[32],[32],[32],[32],[32],[32],[32],[32],[32],[32]],\"hovertemplate\":\"parcel_id=%{customdata[0]}<br>point_id=10484<br>date=%{x}<br>value=%{y}<extra></extra>\",\"legendgroup\":\"32\",\"line\":{\"color\":\"#636efa\",\"dash\":\"solid\",\"width\":0.7},\"marker\":{\"symbol\":\"circle\"},\"mode\":\"lines\",\"name\":\"32\",\"showlegend\":false,\"type\":\"scattergl\",\"x\":[\"2021-06-01T00:00:00\",\"2021-06-11T00:00:00\",\"2021-06-21T00:00:00\",\"2021-07-01T00:00:00\",\"2021-07-11T00:00:00\",\"2021-07-21T00:00:00\",\"2021-07-31T00:00:00\",\"2021-08-10T00:00:00\",\"2021-08-20T00:00:00\",\"2021-08-30T00:00:00\",\"2021-09-09T00:00:00\",\"2021-09-19T00:00:00\",\"2021-09-29T00:00:00\",\"2021-10-09T00:00:00\",\"2021-10-19T00:00:00\",\"2021-10-29T00:00:00\",\"2021-11-08T00:00:00\"],\"xaxis\":\"x\",\"y\":[null,0.083,0.082,0.083,0.103,0.125,0.184,0.286,0.427,0.563,0.661,0.698,0.699,0.655,0.549,0.477,0.401],\"yaxis\":\"y\"},{\"customdata\":[[32],[32],[32],[32],[32],[32],[32],[32],[32],[32],[32],[32],[32],[32],[32],[32],[32]],\"hovertemplate\":\"parcel_id=%{customdata[0]}<br>point_id=10394<br>date=%{x}<br>value=%{y}<extra></extra>\",\"legendgroup\":\"32\",\"line\":{\"color\":\"#636efa\",\"dash\":\"solid\",\"width\":0.7},\"marker\":{\"symbol\":\"circle\"},\"mode\":\"lines\",\"name\":\"32\",\"showlegend\":false,\"type\":\"scattergl\",\"x\":[\"2021-06-01T00:00:00\",\"2021-06-11T00:00:00\",\"2021-06-21T00:00:00\",\"2021-07-01T00:00:00\",\"2021-07-11T00:00:00\",\"2021-07-21T00:00:00\",\"2021-07-31T00:00:00\",\"2021-08-10T00:00:00\",\"2021-08-20T00:00:00\",\"2021-08-30T00:00:00\",\"2021-09-09T00:00:00\",\"2021-09-19T00:00:00\",\"2021-09-29T00:00:00\",\"2021-10-09T00:00:00\",\"2021-10-19T00:00:00\",\"2021-10-29T00:00:00\",\"2021-11-08T00:00:00\"],\"xaxis\":\"x\",\"y\":[null,0.087,0.092,0.084,0.136,0.13,0.177,0.234,0.335,0.449,0.558,0.673,0.71,0.68,0.564,0.489,0.411],\"yaxis\":\"y\"},{\"customdata\":[[35],[35],[35],[35],[35],[35],[35],[35],[35],[35],[35],[35],[35],[35],[35],[35],[35]],\"hovertemplate\":\"parcel_id=%{customdata[0]}<br>point_id=36<br>date=%{x}<br>value=%{y}<extra></extra>\",\"legendgroup\":\"35\",\"line\":{\"color\":\"#EF553B\",\"dash\":\"solid\",\"width\":0.7},\"marker\":{\"symbol\":\"circle\"},\"mode\":\"lines\",\"name\":\"35\",\"showlegend\":true,\"type\":\"scattergl\",\"x\":[\"2021-06-01T00:00:00\",\"2021-06-11T00:00:00\",\"2021-06-21T00:00:00\",\"2021-07-01T00:00:00\",\"2021-07-11T00:00:00\",\"2021-07-21T00:00:00\",\"2021-07-31T00:00:00\",\"2021-08-10T00:00:00\",\"2021-08-20T00:00:00\",\"2021-08-30T00:00:00\",\"2021-09-09T00:00:00\",\"2021-09-19T00:00:00\",\"2021-09-29T00:00:00\",\"2021-10-09T00:00:00\",\"2021-10-19T00:00:00\",\"2021-10-29T00:00:00\",\"2021-11-08T00:00:00\"],\"xaxis\":\"x\",\"y\":[0.11,0.096,0.08,0.098,0.106,0.127,0.147,0.271,0.341,0.453,0.66,0.619,0.643,0.544,0.477,0.454,0.27],\"yaxis\":\"y\"},{\"customdata\":[[35],[35],[35],[35],[35],[35],[35],[35],[35],[35],[35],[35],[35],[35],[35],[35],[35]],\"hovertemplate\":\"parcel_id=%{customdata[0]}<br>point_id=10<br>date=%{x}<br>value=%{y}<extra></extra>\",\"legendgroup\":\"35\",\"line\":{\"color\":\"#EF553B\",\"dash\":\"solid\",\"width\":0.7},\"marker\":{\"symbol\":\"circle\"},\"mode\":\"lines\",\"name\":\"35\",\"showlegend\":false,\"type\":\"scattergl\",\"x\":[\"2021-06-01T00:00:00\",\"2021-06-11T00:00:00\",\"2021-06-21T00:00:00\",\"2021-07-01T00:00:00\",\"2021-07-11T00:00:00\",\"2021-07-21T00:00:00\",\"2021-07-31T00:00:00\",\"2021-08-10T00:00:00\",\"2021-08-20T00:00:00\",\"2021-08-30T00:00:00\",\"2021-09-09T00:00:00\",\"2021-09-19T00:00:00\",\"2021-09-29T00:00:00\",\"2021-10-09T00:00:00\",\"2021-10-19T00:00:00\",\"2021-10-29T00:00:00\",\"2021-11-08T00:00:00\"],\"xaxis\":\"x\",\"y\":[0.108,0.101,0.08,0.12,0.102,0.137,0.161,0.268,0.38,0.488,0.673,0.624,0.639,0.527,0.435,0.424,0.247],\"yaxis\":\"y\"},{\"customdata\":[[35],[35],[35],[35],[35],[35],[35],[35],[35],[35],[35],[35],[35],[35],[35],[35],[35]],\"hovertemplate\":\"parcel_id=%{customdata[0]}<br>point_id=35<br>date=%{x}<br>value=%{y}<extra></extra>\",\"legendgroup\":\"35\",\"line\":{\"color\":\"#EF553B\",\"dash\":\"solid\",\"width\":0.7},\"marker\":{\"symbol\":\"circle\"},\"mode\":\"lines\",\"name\":\"35\",\"showlegend\":false,\"type\":\"scattergl\",\"x\":[\"2021-06-01T00:00:00\",\"2021-06-11T00:00:00\",\"2021-06-21T00:00:00\",\"2021-07-01T00:00:00\",\"2021-07-11T00:00:00\",\"2021-07-21T00:00:00\",\"2021-07-31T00:00:00\",\"2021-08-10T00:00:00\",\"2021-08-20T00:00:00\",\"2021-08-30T00:00:00\",\"2021-09-09T00:00:00\",\"2021-09-19T00:00:00\",\"2021-09-29T00:00:00\",\"2021-10-09T00:00:00\",\"2021-10-19T00:00:00\",\"2021-10-29T00:00:00\",\"2021-11-08T00:00:00\"],\"xaxis\":\"x\",\"y\":[0.113,0.108,0.082,0.104,0.107,0.134,0.156,0.286,0.365,0.544,0.649,0.615,0.642,0.543,0.483,0.479,0.263],\"yaxis\":\"y\"},{\"customdata\":[[35],[35],[35],[35],[35],[35],[35],[35],[35],[35],[35],[35],[35],[35],[35],[35],[35]],\"hovertemplate\":\"parcel_id=%{customdata[0]}<br>point_id=31<br>date=%{x}<br>value=%{y}<extra></extra>\",\"legendgroup\":\"35\",\"line\":{\"color\":\"#EF553B\",\"dash\":\"solid\",\"width\":0.7},\"marker\":{\"symbol\":\"circle\"},\"mode\":\"lines\",\"name\":\"35\",\"showlegend\":false,\"type\":\"scattergl\",\"x\":[\"2021-06-01T00:00:00\",\"2021-06-11T00:00:00\",\"2021-06-21T00:00:00\",\"2021-07-01T00:00:00\",\"2021-07-11T00:00:00\",\"2021-07-21T00:00:00\",\"2021-07-31T00:00:00\",\"2021-08-10T00:00:00\",\"2021-08-20T00:00:00\",\"2021-08-30T00:00:00\",\"2021-09-09T00:00:00\",\"2021-09-19T00:00:00\",\"2021-09-29T00:00:00\",\"2021-10-09T00:00:00\",\"2021-10-19T00:00:00\",\"2021-10-29T00:00:00\",\"2021-11-08T00:00:00\"],\"xaxis\":\"x\",\"y\":[0.102,0.102,0.077,0.111,0.098,0.127,0.136,0.232,0.315,0.449,0.624,0.619,0.63,0.543,0.474,0.466,0.266],\"yaxis\":\"y\"},{\"customdata\":[[35],[35],[35],[35],[35],[35],[35],[35],[35],[35],[35],[35],[35],[35],[35],[35],[35]],\"hovertemplate\":\"parcel_id=%{customdata[0]}<br>point_id=37<br>date=%{x}<br>value=%{y}<extra></extra>\",\"legendgroup\":\"35\",\"line\":{\"color\":\"#EF553B\",\"dash\":\"solid\",\"width\":0.7},\"marker\":{\"symbol\":\"circle\"},\"mode\":\"lines\",\"name\":\"35\",\"showlegend\":false,\"type\":\"scattergl\",\"x\":[\"2021-06-01T00:00:00\",\"2021-06-11T00:00:00\",\"2021-06-21T00:00:00\",\"2021-07-01T00:00:00\",\"2021-07-11T00:00:00\",\"2021-07-21T00:00:00\",\"2021-07-31T00:00:00\",\"2021-08-10T00:00:00\",\"2021-08-20T00:00:00\",\"2021-08-30T00:00:00\",\"2021-09-09T00:00:00\",\"2021-09-19T00:00:00\",\"2021-09-29T00:00:00\",\"2021-10-09T00:00:00\",\"2021-10-19T00:00:00\",\"2021-10-29T00:00:00\",\"2021-11-08T00:00:00\"],\"xaxis\":\"x\",\"y\":[0.111,0.105,0.08,0.098,0.106,0.125,0.147,0.277,0.36,0.472,0.686,0.632,0.658,0.565,0.495,0.469,0.262],\"yaxis\":\"y\"},{\"customdata\":[[34],[34],[34],[34],[34],[34],[34],[34],[34],[34],[34],[34],[34],[34],[34],[34],[34]],\"hovertemplate\":\"parcel_id=%{customdata[0]}<br>point_id=843<br>date=%{x}<br>value=%{y}<extra></extra>\",\"legendgroup\":\"34\",\"line\":{\"color\":\"#00cc96\",\"dash\":\"solid\",\"width\":0.7},\"marker\":{\"symbol\":\"circle\"},\"mode\":\"lines\",\"name\":\"34\",\"showlegend\":true,\"type\":\"scattergl\",\"x\":[\"2021-06-01T00:00:00\",\"2021-06-11T00:00:00\",\"2021-06-21T00:00:00\",\"2021-07-01T00:00:00\",\"2021-07-11T00:00:00\",\"2021-07-21T00:00:00\",\"2021-07-31T00:00:00\",\"2021-08-10T00:00:00\",\"2021-08-20T00:00:00\",\"2021-08-30T00:00:00\",\"2021-09-09T00:00:00\",\"2021-09-19T00:00:00\",\"2021-09-29T00:00:00\",\"2021-10-09T00:00:00\",\"2021-10-19T00:00:00\",\"2021-10-29T00:00:00\",\"2021-11-08T00:00:00\"],\"xaxis\":\"x\",\"y\":[0.123,0.127,0.125,0.138,0.137,0.147,0.152,0.219,0.19,0.332,0.387,0.451,0.541,0.569,0.551,0.379,0.276],\"yaxis\":\"y\"},{\"customdata\":[[21],[21],[21],[21],[21],[21],[21],[21],[21],[21],[21],[21],[21],[21],[21],[21],[21]],\"hovertemplate\":\"parcel_id=%{customdata[0]}<br>point_id=9731<br>date=%{x}<br>value=%{y}<extra></extra>\",\"legendgroup\":\"21\",\"line\":{\"color\":\"#ab63fa\",\"dash\":\"solid\",\"width\":0.7},\"marker\":{\"symbol\":\"circle\"},\"mode\":\"lines\",\"name\":\"21\",\"showlegend\":true,\"type\":\"scattergl\",\"x\":[\"2021-06-01T00:00:00\",\"2021-06-11T00:00:00\",\"2021-06-21T00:00:00\",\"2021-07-01T00:00:00\",\"2021-07-11T00:00:00\",\"2021-07-21T00:00:00\",\"2021-07-31T00:00:00\",\"2021-08-10T00:00:00\",\"2021-08-20T00:00:00\",\"2021-08-30T00:00:00\",\"2021-09-09T00:00:00\",\"2021-09-19T00:00:00\",\"2021-09-29T00:00:00\",\"2021-10-09T00:00:00\",\"2021-10-19T00:00:00\",\"2021-10-29T00:00:00\",\"2021-11-08T00:00:00\"],\"xaxis\":\"x\",\"y\":[null,0.119,0.12,0.11,0.156,0.213,0.228,0.225,0.316,0.433,0.597,0.619,0.591,0.524,0.436,0.329,0.243],\"yaxis\":\"y\"},{\"customdata\":[[21],[21],[21],[21],[21],[21],[21],[21],[21],[21],[21],[21],[21],[21],[21],[21],[21]],\"hovertemplate\":\"parcel_id=%{customdata[0]}<br>point_id=9734<br>date=%{x}<br>value=%{y}<extra></extra>\",\"legendgroup\":\"21\",\"line\":{\"color\":\"#ab63fa\",\"dash\":\"solid\",\"width\":0.7},\"marker\":{\"symbol\":\"circle\"},\"mode\":\"lines\",\"name\":\"21\",\"showlegend\":false,\"type\":\"scattergl\",\"x\":[\"2021-06-01T00:00:00\",\"2021-06-11T00:00:00\",\"2021-06-21T00:00:00\",\"2021-07-01T00:00:00\",\"2021-07-11T00:00:00\",\"2021-07-21T00:00:00\",\"2021-07-31T00:00:00\",\"2021-08-10T00:00:00\",\"2021-08-20T00:00:00\",\"2021-08-30T00:00:00\",\"2021-09-09T00:00:00\",\"2021-09-19T00:00:00\",\"2021-09-29T00:00:00\",\"2021-10-09T00:00:00\",\"2021-10-19T00:00:00\",\"2021-10-29T00:00:00\",\"2021-11-08T00:00:00\"],\"xaxis\":\"x\",\"y\":[null,0.116,0.13,0.126,0.167,0.199,0.229,0.232,0.33,0.455,0.642,0.634,0.607,0.554,0.46,0.354,0.265],\"yaxis\":\"y\"},{\"customdata\":[[21],[21],[21],[21],[21],[21],[21],[21],[21],[21],[21],[21],[21],[21],[21],[21],[21]],\"hovertemplate\":\"parcel_id=%{customdata[0]}<br>point_id=9735<br>date=%{x}<br>value=%{y}<extra></extra>\",\"legendgroup\":\"21\",\"line\":{\"color\":\"#ab63fa\",\"dash\":\"solid\",\"width\":0.7},\"marker\":{\"symbol\":\"circle\"},\"mode\":\"lines\",\"name\":\"21\",\"showlegend\":false,\"type\":\"scattergl\",\"x\":[\"2021-06-01T00:00:00\",\"2021-06-11T00:00:00\",\"2021-06-21T00:00:00\",\"2021-07-01T00:00:00\",\"2021-07-11T00:00:00\",\"2021-07-21T00:00:00\",\"2021-07-31T00:00:00\",\"2021-08-10T00:00:00\",\"2021-08-20T00:00:00\",\"2021-08-30T00:00:00\",\"2021-09-09T00:00:00\",\"2021-09-19T00:00:00\",\"2021-09-29T00:00:00\",\"2021-10-09T00:00:00\",\"2021-10-19T00:00:00\",\"2021-10-29T00:00:00\",\"2021-11-08T00:00:00\"],\"xaxis\":\"x\",\"y\":[null,0.121,0.123,0.115,0.153,0.185,0.196,0.213,0.324,0.466,0.67,0.645,0.607,0.56,0.46,0.352,0.264],\"yaxis\":\"y\"},{\"customdata\":[[21],[21],[21],[21],[21],[21],[21],[21],[21],[21],[21],[21],[21],[21],[21],[21],[21]],\"hovertemplate\":\"parcel_id=%{customdata[0]}<br>point_id=9732<br>date=%{x}<br>value=%{y}<extra></extra>\",\"legendgroup\":\"21\",\"line\":{\"color\":\"#ab63fa\",\"dash\":\"solid\",\"width\":0.7},\"marker\":{\"symbol\":\"circle\"},\"mode\":\"lines\",\"name\":\"21\",\"showlegend\":false,\"type\":\"scattergl\",\"x\":[\"2021-06-01T00:00:00\",\"2021-06-11T00:00:00\",\"2021-06-21T00:00:00\",\"2021-07-01T00:00:00\",\"2021-07-11T00:00:00\",\"2021-07-21T00:00:00\",\"2021-07-31T00:00:00\",\"2021-08-10T00:00:00\",\"2021-08-20T00:00:00\",\"2021-08-30T00:00:00\",\"2021-09-09T00:00:00\",\"2021-09-19T00:00:00\",\"2021-09-29T00:00:00\",\"2021-10-09T00:00:00\",\"2021-10-19T00:00:00\",\"2021-10-29T00:00:00\",\"2021-11-08T00:00:00\"],\"xaxis\":\"x\",\"y\":[null,0.119,0.124,0.118,0.154,0.211,0.229,0.231,0.325,0.446,0.629,0.63,0.6,0.558,0.441,0.329,0.24],\"yaxis\":\"y\"},{\"customdata\":[[36],[36],[36],[36],[36],[36],[36],[36],[36],[36],[36],[36],[36],[36],[36],[36],[36]],\"hovertemplate\":\"parcel_id=%{customdata[0]}<br>point_id=795<br>date=%{x}<br>value=%{y}<extra></extra>\",\"legendgroup\":\"36\",\"line\":{\"color\":\"#FFA15A\",\"dash\":\"solid\",\"width\":0.7},\"marker\":{\"symbol\":\"circle\"},\"mode\":\"lines\",\"name\":\"36\",\"showlegend\":true,\"type\":\"scattergl\",\"x\":[\"2021-06-01T00:00:00\",\"2021-06-11T00:00:00\",\"2021-06-21T00:00:00\",\"2021-07-01T00:00:00\",\"2021-07-11T00:00:00\",\"2021-07-21T00:00:00\",\"2021-07-31T00:00:00\",\"2021-08-10T00:00:00\",\"2021-08-20T00:00:00\",\"2021-08-30T00:00:00\",\"2021-09-09T00:00:00\",\"2021-09-19T00:00:00\",\"2021-09-29T00:00:00\",\"2021-10-09T00:00:00\",\"2021-10-19T00:00:00\",\"2021-10-29T00:00:00\",\"2021-11-08T00:00:00\"],\"xaxis\":\"x\",\"y\":[0.13,0.13,0.131,0.151,0.151,0.156,0.242,0.412,0.549,0.736,0.778,0.649,0.711,0.597,0.64,0.559,0.399],\"yaxis\":\"y\"},{\"customdata\":[[36],[36],[36],[36],[36],[36],[36],[36],[36],[36],[36],[36],[36],[36],[36],[36],[36]],\"hovertemplate\":\"parcel_id=%{customdata[0]}<br>point_id=817<br>date=%{x}<br>value=%{y}<extra></extra>\",\"legendgroup\":\"36\",\"line\":{\"color\":\"#FFA15A\",\"dash\":\"solid\",\"width\":0.7},\"marker\":{\"symbol\":\"circle\"},\"mode\":\"lines\",\"name\":\"36\",\"showlegend\":false,\"type\":\"scattergl\",\"x\":[\"2021-06-01T00:00:00\",\"2021-06-11T00:00:00\",\"2021-06-21T00:00:00\",\"2021-07-01T00:00:00\",\"2021-07-11T00:00:00\",\"2021-07-21T00:00:00\",\"2021-07-31T00:00:00\",\"2021-08-10T00:00:00\",\"2021-08-20T00:00:00\",\"2021-08-30T00:00:00\",\"2021-09-09T00:00:00\",\"2021-09-19T00:00:00\",\"2021-09-29T00:00:00\",\"2021-10-09T00:00:00\",\"2021-10-19T00:00:00\",\"2021-10-29T00:00:00\",\"2021-11-08T00:00:00\"],\"xaxis\":\"x\",\"y\":[0.105,0.094,0.152,0.149,0.136,0.149,0.225,0.367,0.498,0.704,0.78,0.642,0.701,0.637,0.554,0.491,0.379],\"yaxis\":\"y\"},{\"customdata\":[[17],[17],[17],[17],[17],[17],[17],[17],[17],[17],[17],[17],[17],[17],[17],[17],[17]],\"hovertemplate\":\"parcel_id=%{customdata[0]}<br>point_id=264<br>date=%{x}<br>value=%{y}<extra></extra>\",\"legendgroup\":\"17\",\"line\":{\"color\":\"#19d3f3\",\"dash\":\"solid\",\"width\":0.7},\"marker\":{\"symbol\":\"circle\"},\"mode\":\"lines\",\"name\":\"17\",\"showlegend\":true,\"type\":\"scattergl\",\"x\":[\"2021-06-01T00:00:00\",\"2021-06-11T00:00:00\",\"2021-06-21T00:00:00\",\"2021-07-01T00:00:00\",\"2021-07-11T00:00:00\",\"2021-07-21T00:00:00\",\"2021-07-31T00:00:00\",\"2021-08-10T00:00:00\",\"2021-08-20T00:00:00\",\"2021-08-30T00:00:00\",\"2021-09-09T00:00:00\",\"2021-09-19T00:00:00\",\"2021-09-29T00:00:00\",\"2021-10-09T00:00:00\",\"2021-10-19T00:00:00\",\"2021-10-29T00:00:00\",\"2021-11-08T00:00:00\"],\"xaxis\":\"x\",\"y\":[0.101,0.108,0.103,0.104,0.114,0.144,0.218,0.368,0.488,0.531,0.591,0.593,0.588,0.601,0.515,0.36,0.19],\"yaxis\":\"y\"},{\"customdata\":[[5],[5],[5],[5],[5],[5],[5],[5],[5],[5],[5],[5],[5],[5],[5],[5],[5]],\"hovertemplate\":\"parcel_id=%{customdata[0]}<br>point_id=108<br>date=%{x}<br>value=%{y}<extra></extra>\",\"legendgroup\":\"5\",\"line\":{\"color\":\"#FF6692\",\"dash\":\"solid\",\"width\":0.7},\"marker\":{\"symbol\":\"circle\"},\"mode\":\"lines\",\"name\":\"5\",\"showlegend\":true,\"type\":\"scattergl\",\"x\":[\"2021-06-01T00:00:00\",\"2021-06-11T00:00:00\",\"2021-06-21T00:00:00\",\"2021-07-01T00:00:00\",\"2021-07-11T00:00:00\",\"2021-07-21T00:00:00\",\"2021-07-31T00:00:00\",\"2021-08-10T00:00:00\",\"2021-08-20T00:00:00\",\"2021-08-30T00:00:00\",\"2021-09-09T00:00:00\",\"2021-09-19T00:00:00\",\"2021-09-29T00:00:00\",\"2021-10-09T00:00:00\",\"2021-10-19T00:00:00\",\"2021-10-29T00:00:00\",\"2021-11-08T00:00:00\"],\"xaxis\":\"x\",\"y\":[null,0.104,0.106,0.129,0.131,0.202,0.26,0.325,0.457,0.602,0.707,0.589,0.588,0.547,0.518,0.442,0.369],\"yaxis\":\"y\"},{\"customdata\":[[5],[5],[5],[5],[5],[5],[5],[5],[5],[5],[5],[5],[5],[5],[5],[5],[5]],\"hovertemplate\":\"parcel_id=%{customdata[0]}<br>point_id=107<br>date=%{x}<br>value=%{y}<extra></extra>\",\"legendgroup\":\"5\",\"line\":{\"color\":\"#FF6692\",\"dash\":\"solid\",\"width\":0.7},\"marker\":{\"symbol\":\"circle\"},\"mode\":\"lines\",\"name\":\"5\",\"showlegend\":false,\"type\":\"scattergl\",\"x\":[\"2021-06-01T00:00:00\",\"2021-06-11T00:00:00\",\"2021-06-21T00:00:00\",\"2021-07-01T00:00:00\",\"2021-07-11T00:00:00\",\"2021-07-21T00:00:00\",\"2021-07-31T00:00:00\",\"2021-08-10T00:00:00\",\"2021-08-20T00:00:00\",\"2021-08-30T00:00:00\",\"2021-09-09T00:00:00\",\"2021-09-19T00:00:00\",\"2021-09-29T00:00:00\",\"2021-10-09T00:00:00\",\"2021-10-19T00:00:00\",\"2021-10-29T00:00:00\",\"2021-11-08T00:00:00\"],\"xaxis\":\"x\",\"y\":[null,0.104,0.109,0.123,0.127,0.2,0.253,0.309,0.446,0.605,0.678,0.604,0.602,0.551,0.505,0.426,0.366],\"yaxis\":\"y\"},{\"customdata\":[[11],[11],[11],[11],[11],[11],[11],[11],[11],[11],[11],[11],[11],[11],[11],[11],[11]],\"hovertemplate\":\"parcel_id=%{customdata[0]}<br>point_id=9986<br>date=%{x}<br>value=%{y}<extra></extra>\",\"legendgroup\":\"11\",\"line\":{\"color\":\"#B6E880\",\"dash\":\"solid\",\"width\":0.7},\"marker\":{\"symbol\":\"circle\"},\"mode\":\"lines\",\"name\":\"11\",\"showlegend\":true,\"type\":\"scattergl\",\"x\":[\"2021-06-01T00:00:00\",\"2021-06-11T00:00:00\",\"2021-06-21T00:00:00\",\"2021-07-01T00:00:00\",\"2021-07-11T00:00:00\",\"2021-07-21T00:00:00\",\"2021-07-31T00:00:00\",\"2021-08-10T00:00:00\",\"2021-08-20T00:00:00\",\"2021-08-30T00:00:00\",\"2021-09-09T00:00:00\",\"2021-09-19T00:00:00\",\"2021-09-29T00:00:00\",\"2021-10-09T00:00:00\",\"2021-10-19T00:00:00\",\"2021-10-29T00:00:00\",\"2021-11-08T00:00:00\"],\"xaxis\":\"x\",\"y\":[null,0.102,0.092,0.094,0.153,0.305,0.217,0.323,null,null,null,null,0.509,0.515,0.446,0.387,0.319],\"yaxis\":\"y\"},{\"customdata\":[[11],[11],[11],[11],[11],[11],[11],[11],[11],[11],[11],[11],[11],[11],[11],[11],[11]],\"hovertemplate\":\"parcel_id=%{customdata[0]}<br>point_id=9973<br>date=%{x}<br>value=%{y}<extra></extra>\",\"legendgroup\":\"11\",\"line\":{\"color\":\"#B6E880\",\"dash\":\"solid\",\"width\":0.7},\"marker\":{\"symbol\":\"circle\"},\"mode\":\"lines\",\"name\":\"11\",\"showlegend\":false,\"type\":\"scattergl\",\"x\":[\"2021-06-01T00:00:00\",\"2021-06-11T00:00:00\",\"2021-06-21T00:00:00\",\"2021-07-01T00:00:00\",\"2021-07-11T00:00:00\",\"2021-07-21T00:00:00\",\"2021-07-31T00:00:00\",\"2021-08-10T00:00:00\",\"2021-08-20T00:00:00\",\"2021-08-30T00:00:00\",\"2021-09-09T00:00:00\",\"2021-09-19T00:00:00\",\"2021-09-29T00:00:00\",\"2021-10-09T00:00:00\",\"2021-10-19T00:00:00\",\"2021-10-29T00:00:00\",\"2021-11-08T00:00:00\"],\"xaxis\":\"x\",\"y\":[null,0.099,0.095,0.096,0.143,0.281,0.202,0.314,null,null,null,null,0.532,0.54,0.447,0.392,0.317],\"yaxis\":\"y\"},{\"customdata\":[[11],[11],[11],[11],[11],[11],[11],[11],[11],[11],[11],[11],[11],[11],[11],[11],[11]],\"hovertemplate\":\"parcel_id=%{customdata[0]}<br>point_id=9925<br>date=%{x}<br>value=%{y}<extra></extra>\",\"legendgroup\":\"11\",\"line\":{\"color\":\"#B6E880\",\"dash\":\"solid\",\"width\":0.7},\"marker\":{\"symbol\":\"circle\"},\"mode\":\"lines\",\"name\":\"11\",\"showlegend\":false,\"type\":\"scattergl\",\"x\":[\"2021-06-01T00:00:00\",\"2021-06-11T00:00:00\",\"2021-06-21T00:00:00\",\"2021-07-01T00:00:00\",\"2021-07-11T00:00:00\",\"2021-07-21T00:00:00\",\"2021-07-31T00:00:00\",\"2021-08-10T00:00:00\",\"2021-08-20T00:00:00\",\"2021-08-30T00:00:00\",\"2021-09-09T00:00:00\",\"2021-09-19T00:00:00\",\"2021-09-29T00:00:00\",\"2021-10-09T00:00:00\",\"2021-10-19T00:00:00\",\"2021-10-29T00:00:00\",\"2021-11-08T00:00:00\"],\"xaxis\":\"x\",\"y\":[null,0.116,0.116,0.131,0.148,0.183,0.217,0.386,null,null,null,null,0.683,0.732,0.591,0.505,0.264],\"yaxis\":\"y\"},{\"customdata\":[[11],[11],[11],[11],[11],[11],[11],[11],[11],[11],[11],[11],[11],[11],[11],[11],[11]],\"hovertemplate\":\"parcel_id=%{customdata[0]}<br>point_id=9969<br>date=%{x}<br>value=%{y}<extra></extra>\",\"legendgroup\":\"11\",\"line\":{\"color\":\"#B6E880\",\"dash\":\"solid\",\"width\":0.7},\"marker\":{\"symbol\":\"circle\"},\"mode\":\"lines\",\"name\":\"11\",\"showlegend\":false,\"type\":\"scattergl\",\"x\":[\"2021-06-01T00:00:00\",\"2021-06-11T00:00:00\",\"2021-06-21T00:00:00\",\"2021-07-01T00:00:00\",\"2021-07-11T00:00:00\",\"2021-07-21T00:00:00\",\"2021-07-31T00:00:00\",\"2021-08-10T00:00:00\",\"2021-08-20T00:00:00\",\"2021-08-30T00:00:00\",\"2021-09-09T00:00:00\",\"2021-09-19T00:00:00\",\"2021-09-29T00:00:00\",\"2021-10-09T00:00:00\",\"2021-10-19T00:00:00\",\"2021-10-29T00:00:00\",\"2021-11-08T00:00:00\"],\"xaxis\":\"x\",\"y\":[null,0.12,0.111,0.095,0.15,0.18,null,null,null,null,null,null,0.596,0.629,0.529,0.456,0.318],\"yaxis\":\"y\"},{\"customdata\":[[11],[11],[11],[11],[11],[11],[11],[11],[11],[11],[11],[11],[11],[11],[11],[11],[11]],\"hovertemplate\":\"parcel_id=%{customdata[0]}<br>point_id=9963<br>date=%{x}<br>value=%{y}<extra></extra>\",\"legendgroup\":\"11\",\"line\":{\"color\":\"#B6E880\",\"dash\":\"solid\",\"width\":0.7},\"marker\":{\"symbol\":\"circle\"},\"mode\":\"lines\",\"name\":\"11\",\"showlegend\":false,\"type\":\"scattergl\",\"x\":[\"2021-06-01T00:00:00\",\"2021-06-11T00:00:00\",\"2021-06-21T00:00:00\",\"2021-07-01T00:00:00\",\"2021-07-11T00:00:00\",\"2021-07-21T00:00:00\",\"2021-07-31T00:00:00\",\"2021-08-10T00:00:00\",\"2021-08-20T00:00:00\",\"2021-08-30T00:00:00\",\"2021-09-09T00:00:00\",\"2021-09-19T00:00:00\",\"2021-09-29T00:00:00\",\"2021-10-09T00:00:00\",\"2021-10-19T00:00:00\",\"2021-10-29T00:00:00\",\"2021-11-08T00:00:00\"],\"xaxis\":\"x\",\"y\":[null,0.113,0.104,0.097,0.142,0.262,0.221,0.368,null,null,null,null,0.548,0.566,0.485,0.415,0.283],\"yaxis\":\"y\"},{\"customdata\":[[11],[11],[11],[11],[11],[11],[11],[11],[11],[11],[11],[11],[11],[11],[11],[11],[11]],\"hovertemplate\":\"parcel_id=%{customdata[0]}<br>point_id=9961<br>date=%{x}<br>value=%{y}<extra></extra>\",\"legendgroup\":\"11\",\"line\":{\"color\":\"#B6E880\",\"dash\":\"solid\",\"width\":0.7},\"marker\":{\"symbol\":\"circle\"},\"mode\":\"lines\",\"name\":\"11\",\"showlegend\":false,\"type\":\"scattergl\",\"x\":[\"2021-06-01T00:00:00\",\"2021-06-11T00:00:00\",\"2021-06-21T00:00:00\",\"2021-07-01T00:00:00\",\"2021-07-11T00:00:00\",\"2021-07-21T00:00:00\",\"2021-07-31T00:00:00\",\"2021-08-10T00:00:00\",\"2021-08-20T00:00:00\",\"2021-08-30T00:00:00\",\"2021-09-09T00:00:00\",\"2021-09-19T00:00:00\",\"2021-09-29T00:00:00\",\"2021-10-09T00:00:00\",\"2021-10-19T00:00:00\",\"2021-10-29T00:00:00\",\"2021-11-08T00:00:00\"],\"xaxis\":\"x\",\"y\":[null,0.104,0.097,0.093,0.137,0.266,0.209,0.337,null,null,null,null,0.558,0.564,0.478,0.414,0.308],\"yaxis\":\"y\"},{\"customdata\":[[29],[29],[29],[29],[29],[29],[29],[29],[29],[29],[29],[29],[29],[29],[29],[29],[29]],\"hovertemplate\":\"parcel_id=%{customdata[0]}<br>point_id=574<br>date=%{x}<br>value=%{y}<extra></extra>\",\"legendgroup\":\"29\",\"line\":{\"color\":\"#FF97FF\",\"dash\":\"solid\",\"width\":0.7},\"marker\":{\"symbol\":\"circle\"},\"mode\":\"lines\",\"name\":\"29\",\"showlegend\":true,\"type\":\"scattergl\",\"x\":[\"2021-06-01T00:00:00\",\"2021-06-11T00:00:00\",\"2021-06-21T00:00:00\",\"2021-07-01T00:00:00\",\"2021-07-11T00:00:00\",\"2021-07-21T00:00:00\",\"2021-07-31T00:00:00\",\"2021-08-10T00:00:00\",\"2021-08-20T00:00:00\",\"2021-08-30T00:00:00\",\"2021-09-09T00:00:00\",\"2021-09-19T00:00:00\",\"2021-09-29T00:00:00\",\"2021-10-09T00:00:00\",\"2021-10-19T00:00:00\",\"2021-10-29T00:00:00\",\"2021-11-08T00:00:00\"],\"xaxis\":\"x\",\"y\":[null,0.092,0.088,0.102,0.184,0.337,0.43,0.524,0.596,0.654,0.724,0.635,0.6,0.579,0.526,0.507,0.487],\"yaxis\":\"y\"},{\"customdata\":[[29],[29],[29],[29],[29],[29],[29],[29],[29],[29],[29],[29],[29],[29],[29],[29],[29]],\"hovertemplate\":\"parcel_id=%{customdata[0]}<br>point_id=517<br>date=%{x}<br>value=%{y}<extra></extra>\",\"legendgroup\":\"29\",\"line\":{\"color\":\"#FF97FF\",\"dash\":\"solid\",\"width\":0.7},\"marker\":{\"symbol\":\"circle\"},\"mode\":\"lines\",\"name\":\"29\",\"showlegend\":false,\"type\":\"scattergl\",\"x\":[\"2021-06-01T00:00:00\",\"2021-06-11T00:00:00\",\"2021-06-21T00:00:00\",\"2021-07-01T00:00:00\",\"2021-07-11T00:00:00\",\"2021-07-21T00:00:00\",\"2021-07-31T00:00:00\",\"2021-08-10T00:00:00\",\"2021-08-20T00:00:00\",\"2021-08-30T00:00:00\",\"2021-09-09T00:00:00\",\"2021-09-19T00:00:00\",\"2021-09-29T00:00:00\",\"2021-10-09T00:00:00\",\"2021-10-19T00:00:00\",\"2021-10-29T00:00:00\",\"2021-11-08T00:00:00\"],\"xaxis\":\"x\",\"y\":[null,0.088,0.082,0.118,0.191,0.328,0.472,0.655,0.691,0.685,0.723,0.608,0.542,0.496,0.401,0.373,0.384],\"yaxis\":\"y\"},{\"customdata\":[[29],[29],[29],[29],[29],[29],[29],[29],[29],[29],[29],[29],[29],[29],[29],[29],[29]],\"hovertemplate\":\"parcel_id=%{customdata[0]}<br>point_id=507<br>date=%{x}<br>value=%{y}<extra></extra>\",\"legendgroup\":\"29\",\"line\":{\"color\":\"#FF97FF\",\"dash\":\"solid\",\"width\":0.7},\"marker\":{\"symbol\":\"circle\"},\"mode\":\"lines\",\"name\":\"29\",\"showlegend\":false,\"type\":\"scattergl\",\"x\":[\"2021-06-01T00:00:00\",\"2021-06-11T00:00:00\",\"2021-06-21T00:00:00\",\"2021-07-01T00:00:00\",\"2021-07-11T00:00:00\",\"2021-07-21T00:00:00\",\"2021-07-31T00:00:00\",\"2021-08-10T00:00:00\",\"2021-08-20T00:00:00\",\"2021-08-30T00:00:00\",\"2021-09-09T00:00:00\",\"2021-09-19T00:00:00\",\"2021-09-29T00:00:00\",\"2021-10-09T00:00:00\",\"2021-10-19T00:00:00\",\"2021-10-29T00:00:00\",\"2021-11-08T00:00:00\"],\"xaxis\":\"x\",\"y\":[null,0.099,0.095,0.118,0.185,0.322,0.514,0.704,0.724,0.7,0.745,0.657,0.632,0.622,0.564,0.53,0.493],\"yaxis\":\"y\"},{\"customdata\":[[16],[16],[16],[16],[16],[16],[16],[16],[16],[16],[16],[16],[16],[16],[16],[16],[16]],\"hovertemplate\":\"parcel_id=%{customdata[0]}<br>point_id=130<br>date=%{x}<br>value=%{y}<extra></extra>\",\"legendgroup\":\"16\",\"line\":{\"color\":\"#FECB52\",\"dash\":\"solid\",\"width\":0.7},\"marker\":{\"symbol\":\"circle\"},\"mode\":\"lines\",\"name\":\"16\",\"showlegend\":true,\"type\":\"scattergl\",\"x\":[\"2021-06-01T00:00:00\",\"2021-06-11T00:00:00\",\"2021-06-21T00:00:00\",\"2021-07-01T00:00:00\",\"2021-07-11T00:00:00\",\"2021-07-21T00:00:00\",\"2021-07-31T00:00:00\",\"2021-08-10T00:00:00\",\"2021-08-20T00:00:00\",\"2021-08-30T00:00:00\",\"2021-09-09T00:00:00\",\"2021-09-19T00:00:00\",\"2021-09-29T00:00:00\",\"2021-10-09T00:00:00\",\"2021-10-19T00:00:00\",\"2021-10-29T00:00:00\",\"2021-11-08T00:00:00\"],\"xaxis\":\"x\",\"y\":[null,0.087,0.067,0.1,0.107,0.113,0.145,0.19,0.238,0.375,0.415,0.43,0.428,0.405,0.357,0.307,0.273],\"yaxis\":\"y\"},{\"customdata\":[[16],[16],[16],[16],[16],[16],[16],[16],[16],[16],[16],[16],[16],[16],[16],[16],[16]],\"hovertemplate\":\"parcel_id=%{customdata[0]}<br>point_id=241<br>date=%{x}<br>value=%{y}<extra></extra>\",\"legendgroup\":\"16\",\"line\":{\"color\":\"#FECB52\",\"dash\":\"solid\",\"width\":0.7},\"marker\":{\"symbol\":\"circle\"},\"mode\":\"lines\",\"name\":\"16\",\"showlegend\":false,\"type\":\"scattergl\",\"x\":[\"2021-06-01T00:00:00\",\"2021-06-11T00:00:00\",\"2021-06-21T00:00:00\",\"2021-07-01T00:00:00\",\"2021-07-11T00:00:00\",\"2021-07-21T00:00:00\",\"2021-07-31T00:00:00\",\"2021-08-10T00:00:00\",\"2021-08-20T00:00:00\",\"2021-08-30T00:00:00\",\"2021-09-09T00:00:00\",\"2021-09-19T00:00:00\",\"2021-09-29T00:00:00\",\"2021-10-09T00:00:00\",\"2021-10-19T00:00:00\",\"2021-10-29T00:00:00\",\"2021-11-08T00:00:00\"],\"xaxis\":\"x\",\"y\":[null,0.093,0.068,0.12,0.119,0.121,0.169,0.267,0.338,0.458,0.521,0.62,0.636,0.587,0.502,0.439,0.401],\"yaxis\":\"y\"},{\"customdata\":[[16],[16],[16],[16],[16],[16],[16],[16],[16],[16],[16],[16],[16],[16],[16],[16],[16]],\"hovertemplate\":\"parcel_id=%{customdata[0]}<br>point_id=229<br>date=%{x}<br>value=%{y}<extra></extra>\",\"legendgroup\":\"16\",\"line\":{\"color\":\"#FECB52\",\"dash\":\"solid\",\"width\":0.7},\"marker\":{\"symbol\":\"circle\"},\"mode\":\"lines\",\"name\":\"16\",\"showlegend\":false,\"type\":\"scattergl\",\"x\":[\"2021-06-01T00:00:00\",\"2021-06-11T00:00:00\",\"2021-06-21T00:00:00\",\"2021-07-01T00:00:00\",\"2021-07-11T00:00:00\",\"2021-07-21T00:00:00\",\"2021-07-31T00:00:00\",\"2021-08-10T00:00:00\",\"2021-08-20T00:00:00\",\"2021-08-30T00:00:00\",\"2021-09-09T00:00:00\",\"2021-09-19T00:00:00\",\"2021-09-29T00:00:00\",\"2021-10-09T00:00:00\",\"2021-10-19T00:00:00\",\"2021-10-29T00:00:00\",\"2021-11-08T00:00:00\"],\"xaxis\":\"x\",\"y\":[null,0.097,0.066,0.116,0.124,0.118,0.169,0.268,0.338,0.447,0.544,0.631,0.654,0.609,0.53,0.461,0.415],\"yaxis\":\"y\"},{\"customdata\":[[16],[16],[16],[16],[16],[16],[16],[16],[16],[16],[16],[16],[16],[16],[16],[16],[16]],\"hovertemplate\":\"parcel_id=%{customdata[0]}<br>point_id=236<br>date=%{x}<br>value=%{y}<extra></extra>\",\"legendgroup\":\"16\",\"line\":{\"color\":\"#FECB52\",\"dash\":\"solid\",\"width\":0.7},\"marker\":{\"symbol\":\"circle\"},\"mode\":\"lines\",\"name\":\"16\",\"showlegend\":false,\"type\":\"scattergl\",\"x\":[\"2021-06-01T00:00:00\",\"2021-06-11T00:00:00\",\"2021-06-21T00:00:00\",\"2021-07-01T00:00:00\",\"2021-07-11T00:00:00\",\"2021-07-21T00:00:00\",\"2021-07-31T00:00:00\",\"2021-08-10T00:00:00\",\"2021-08-20T00:00:00\",\"2021-08-30T00:00:00\",\"2021-09-09T00:00:00\",\"2021-09-19T00:00:00\",\"2021-09-29T00:00:00\",\"2021-10-09T00:00:00\",\"2021-10-19T00:00:00\",\"2021-10-29T00:00:00\",\"2021-11-08T00:00:00\"],\"xaxis\":\"x\",\"y\":[null,0.088,0.058,0.108,0.117,0.121,0.164,0.248,0.296,0.434,0.549,0.579,0.582,0.537,0.463,0.427,0.415],\"yaxis\":\"y\"},{\"customdata\":[[16],[16],[16],[16],[16],[16],[16],[16],[16],[16],[16],[16],[16],[16],[16],[16],[16]],\"hovertemplate\":\"parcel_id=%{customdata[0]}<br>point_id=231<br>date=%{x}<br>value=%{y}<extra></extra>\",\"legendgroup\":\"16\",\"line\":{\"color\":\"#FECB52\",\"dash\":\"solid\",\"width\":0.7},\"marker\":{\"symbol\":\"circle\"},\"mode\":\"lines\",\"name\":\"16\",\"showlegend\":false,\"type\":\"scattergl\",\"x\":[\"2021-06-01T00:00:00\",\"2021-06-11T00:00:00\",\"2021-06-21T00:00:00\",\"2021-07-01T00:00:00\",\"2021-07-11T00:00:00\",\"2021-07-21T00:00:00\",\"2021-07-31T00:00:00\",\"2021-08-10T00:00:00\",\"2021-08-20T00:00:00\",\"2021-08-30T00:00:00\",\"2021-09-09T00:00:00\",\"2021-09-19T00:00:00\",\"2021-09-29T00:00:00\",\"2021-10-09T00:00:00\",\"2021-10-19T00:00:00\",\"2021-10-29T00:00:00\",\"2021-11-08T00:00:00\"],\"xaxis\":\"x\",\"y\":[null,0.094,0.064,0.117,0.113,0.115,0.167,0.265,0.319,0.444,0.524,0.61,0.627,0.575,0.486,0.422,0.383],\"yaxis\":\"y\"},{\"customdata\":[[16],[16],[16],[16],[16],[16],[16],[16],[16],[16],[16],[16],[16],[16],[16],[16],[16]],\"hovertemplate\":\"parcel_id=%{customdata[0]}<br>point_id=164<br>date=%{x}<br>value=%{y}<extra></extra>\",\"legendgroup\":\"16\",\"line\":{\"color\":\"#FECB52\",\"dash\":\"solid\",\"width\":0.7},\"marker\":{\"symbol\":\"circle\"},\"mode\":\"lines\",\"name\":\"16\",\"showlegend\":false,\"type\":\"scattergl\",\"x\":[\"2021-06-01T00:00:00\",\"2021-06-11T00:00:00\",\"2021-06-21T00:00:00\",\"2021-07-01T00:00:00\",\"2021-07-11T00:00:00\",\"2021-07-21T00:00:00\",\"2021-07-31T00:00:00\",\"2021-08-10T00:00:00\",\"2021-08-20T00:00:00\",\"2021-08-30T00:00:00\",\"2021-09-09T00:00:00\",\"2021-09-19T00:00:00\",\"2021-09-29T00:00:00\",\"2021-10-09T00:00:00\",\"2021-10-19T00:00:00\",\"2021-10-29T00:00:00\",\"2021-11-08T00:00:00\"],\"xaxis\":\"x\",\"y\":[null,0.088,0.074,0.113,0.109,0.109,0.154,0.23,0.276,0.413,0.462,0.559,0.555,0.5,0.427,0.387,0.364],\"yaxis\":\"y\"},{\"customdata\":[[16],[16],[16],[16],[16],[16],[16],[16],[16],[16],[16],[16],[16],[16],[16],[16],[16]],\"hovertemplate\":\"parcel_id=%{customdata[0]}<br>point_id=209<br>date=%{x}<br>value=%{y}<extra></extra>\",\"legendgroup\":\"16\",\"line\":{\"color\":\"#FECB52\",\"dash\":\"solid\",\"width\":0.7},\"marker\":{\"symbol\":\"circle\"},\"mode\":\"lines\",\"name\":\"16\",\"showlegend\":false,\"type\":\"scattergl\",\"x\":[\"2021-06-01T00:00:00\",\"2021-06-11T00:00:00\",\"2021-06-21T00:00:00\",\"2021-07-01T00:00:00\",\"2021-07-11T00:00:00\",\"2021-07-21T00:00:00\",\"2021-07-31T00:00:00\",\"2021-08-10T00:00:00\",\"2021-08-20T00:00:00\",\"2021-08-30T00:00:00\",\"2021-09-09T00:00:00\",\"2021-09-19T00:00:00\",\"2021-09-29T00:00:00\",\"2021-10-09T00:00:00\",\"2021-10-19T00:00:00\",\"2021-10-29T00:00:00\",\"2021-11-08T00:00:00\"],\"xaxis\":\"x\",\"y\":[null,0.096,0.066,0.131,0.1,0.12,0.17,0.258,0.32,0.426,0.561,0.62,0.631,0.575,0.49,0.426,0.383],\"yaxis\":\"y\"},{\"customdata\":[[20],[20],[20],[20],[20],[20],[20],[20],[20],[20],[20],[20],[20],[20],[20],[20],[20]],\"hovertemplate\":\"parcel_id=%{customdata[0]}<br>point_id=10034<br>date=%{x}<br>value=%{y}<extra></extra>\",\"legendgroup\":\"20\",\"line\":{\"color\":\"#636efa\",\"dash\":\"solid\",\"width\":0.7},\"marker\":{\"symbol\":\"circle\"},\"mode\":\"lines\",\"name\":\"20\",\"showlegend\":true,\"type\":\"scattergl\",\"x\":[\"2021-06-01T00:00:00\",\"2021-06-11T00:00:00\",\"2021-06-21T00:00:00\",\"2021-07-01T00:00:00\",\"2021-07-11T00:00:00\",\"2021-07-21T00:00:00\",\"2021-07-31T00:00:00\",\"2021-08-10T00:00:00\",\"2021-08-20T00:00:00\",\"2021-08-30T00:00:00\",\"2021-09-09T00:00:00\",\"2021-09-19T00:00:00\",\"2021-09-29T00:00:00\",\"2021-10-09T00:00:00\",\"2021-10-19T00:00:00\",\"2021-10-29T00:00:00\",\"2021-11-08T00:00:00\"],\"xaxis\":\"x\",\"y\":[null,0.109,0.11,0.132,0.328,0.632,0.526,0.294,0.328,0.437,0.546,0.494,0.563,0.604,0.511,0.461,0.41],\"yaxis\":\"y\"},{\"customdata\":[[20],[20],[20],[20],[20],[20],[20],[20],[20],[20],[20],[20],[20],[20],[20],[20],[20]],\"hovertemplate\":\"parcel_id=%{customdata[0]}<br>point_id=10109<br>date=%{x}<br>value=%{y}<extra></extra>\",\"legendgroup\":\"20\",\"line\":{\"color\":\"#636efa\",\"dash\":\"solid\",\"width\":0.7},\"marker\":{\"symbol\":\"circle\"},\"mode\":\"lines\",\"name\":\"20\",\"showlegend\":false,\"type\":\"scattergl\",\"x\":[\"2021-06-01T00:00:00\",\"2021-06-11T00:00:00\",\"2021-06-21T00:00:00\",\"2021-07-01T00:00:00\",\"2021-07-11T00:00:00\",\"2021-07-21T00:00:00\",\"2021-07-31T00:00:00\",\"2021-08-10T00:00:00\",\"2021-08-20T00:00:00\",\"2021-08-30T00:00:00\",\"2021-09-09T00:00:00\",\"2021-09-19T00:00:00\",\"2021-09-29T00:00:00\",\"2021-10-09T00:00:00\",\"2021-10-19T00:00:00\",\"2021-10-29T00:00:00\",\"2021-11-08T00:00:00\"],\"xaxis\":\"x\",\"y\":[null,0.113,0.108,0.117,0.279,0.54,0.458,0.278,0.268,0.307,0.373,0.488,0.62,0.678,0.51,0.439,0.364],\"yaxis\":\"y\"},{\"customdata\":[[20],[20],[20],[20],[20],[20],[20],[20],[20],[20],[20],[20],[20],[20],[20],[20],[20]],\"hovertemplate\":\"parcel_id=%{customdata[0]}<br>point_id=10070<br>date=%{x}<br>value=%{y}<extra></extra>\",\"legendgroup\":\"20\",\"line\":{\"color\":\"#636efa\",\"dash\":\"solid\",\"width\":0.7},\"marker\":{\"symbol\":\"circle\"},\"mode\":\"lines\",\"name\":\"20\",\"showlegend\":false,\"type\":\"scattergl\",\"x\":[\"2021-06-01T00:00:00\",\"2021-06-11T00:00:00\",\"2021-06-21T00:00:00\",\"2021-07-01T00:00:00\",\"2021-07-11T00:00:00\",\"2021-07-21T00:00:00\",\"2021-07-31T00:00:00\",\"2021-08-10T00:00:00\",\"2021-08-20T00:00:00\",\"2021-08-30T00:00:00\",\"2021-09-09T00:00:00\",\"2021-09-19T00:00:00\",\"2021-09-29T00:00:00\",\"2021-10-09T00:00:00\",\"2021-10-19T00:00:00\",\"2021-10-29T00:00:00\",\"2021-11-08T00:00:00\"],\"xaxis\":\"x\",\"y\":[null,0.122,0.123,0.137,0.3,0.621,0.549,0.354,0.316,0.321,0.363,0.483,0.593,0.624,0.576,0.53,0.479],\"yaxis\":\"y\"},{\"customdata\":[[20],[20],[20],[20],[20],[20],[20],[20],[20],[20],[20],[20],[20],[20],[20],[20],[20]],\"hovertemplate\":\"parcel_id=%{customdata[0]}<br>point_id=10042<br>date=%{x}<br>value=%{y}<extra></extra>\",\"legendgroup\":\"20\",\"line\":{\"color\":\"#636efa\",\"dash\":\"solid\",\"width\":0.7},\"marker\":{\"symbol\":\"circle\"},\"mode\":\"lines\",\"name\":\"20\",\"showlegend\":false,\"type\":\"scattergl\",\"x\":[\"2021-06-01T00:00:00\",\"2021-06-11T00:00:00\",\"2021-06-21T00:00:00\",\"2021-07-01T00:00:00\",\"2021-07-11T00:00:00\",\"2021-07-21T00:00:00\",\"2021-07-31T00:00:00\",\"2021-08-10T00:00:00\",\"2021-08-20T00:00:00\",\"2021-08-30T00:00:00\",\"2021-09-09T00:00:00\",\"2021-09-19T00:00:00\",\"2021-09-29T00:00:00\",\"2021-10-09T00:00:00\",\"2021-10-19T00:00:00\",\"2021-10-29T00:00:00\",\"2021-11-08T00:00:00\"],\"xaxis\":\"x\",\"y\":[null,0.108,0.109,0.119,0.255,0.521,0.422,0.223,0.221,0.276,0.343,0.417,0.497,0.508,0.481,0.425,0.364],\"yaxis\":\"y\"},{\"customdata\":[[20],[20],[20],[20],[20],[20],[20],[20],[20],[20],[20],[20],[20],[20],[20],[20],[20]],\"hovertemplate\":\"parcel_id=%{customdata[0]}<br>point_id=10020<br>date=%{x}<br>value=%{y}<extra></extra>\",\"legendgroup\":\"20\",\"line\":{\"color\":\"#636efa\",\"dash\":\"solid\",\"width\":0.7},\"marker\":{\"symbol\":\"circle\"},\"mode\":\"lines\",\"name\":\"20\",\"showlegend\":false,\"type\":\"scattergl\",\"x\":[\"2021-06-01T00:00:00\",\"2021-06-11T00:00:00\",\"2021-06-21T00:00:00\",\"2021-07-01T00:00:00\",\"2021-07-11T00:00:00\",\"2021-07-21T00:00:00\",\"2021-07-31T00:00:00\",\"2021-08-10T00:00:00\",\"2021-08-20T00:00:00\",\"2021-08-30T00:00:00\",\"2021-09-09T00:00:00\",\"2021-09-19T00:00:00\",\"2021-09-29T00:00:00\",\"2021-10-09T00:00:00\",\"2021-10-19T00:00:00\",\"2021-10-29T00:00:00\",\"2021-11-08T00:00:00\"],\"xaxis\":\"x\",\"y\":[null,0.113,0.113,0.141,0.308,0.551,0.461,0.272,0.269,0.319,0.389,0.503,0.597,0.614,0.561,0.47,0.373],\"yaxis\":\"y\"},{\"customdata\":[[20],[20],[20],[20],[20],[20],[20],[20],[20],[20],[20],[20],[20],[20],[20],[20],[20]],\"hovertemplate\":\"parcel_id=%{customdata[0]}<br>point_id=10017<br>date=%{x}<br>value=%{y}<extra></extra>\",\"legendgroup\":\"20\",\"line\":{\"color\":\"#636efa\",\"dash\":\"solid\",\"width\":0.7},\"marker\":{\"symbol\":\"circle\"},\"mode\":\"lines\",\"name\":\"20\",\"showlegend\":false,\"type\":\"scattergl\",\"x\":[\"2021-06-01T00:00:00\",\"2021-06-11T00:00:00\",\"2021-06-21T00:00:00\",\"2021-07-01T00:00:00\",\"2021-07-11T00:00:00\",\"2021-07-21T00:00:00\",\"2021-07-31T00:00:00\",\"2021-08-10T00:00:00\",\"2021-08-20T00:00:00\",\"2021-08-30T00:00:00\",\"2021-09-09T00:00:00\",\"2021-09-19T00:00:00\",\"2021-09-29T00:00:00\",\"2021-10-09T00:00:00\",\"2021-10-19T00:00:00\",\"2021-10-29T00:00:00\",\"2021-11-08T00:00:00\"],\"xaxis\":\"x\",\"y\":[null,0.13,0.128,0.155,0.329,0.6,0.51,0.304,0.278,0.301,0.341,0.424,0.515,0.556,0.53,0.462,0.391],\"yaxis\":\"y\"},{\"customdata\":[[20],[20],[20],[20],[20],[20],[20],[20],[20],[20],[20],[20],[20],[20],[20],[20],[20]],\"hovertemplate\":\"parcel_id=%{customdata[0]}<br>point_id=10060<br>date=%{x}<br>value=%{y}<extra></extra>\",\"legendgroup\":\"20\",\"line\":{\"color\":\"#636efa\",\"dash\":\"solid\",\"width\":0.7},\"marker\":{\"symbol\":\"circle\"},\"mode\":\"lines\",\"name\":\"20\",\"showlegend\":false,\"type\":\"scattergl\",\"x\":[\"2021-06-01T00:00:00\",\"2021-06-11T00:00:00\",\"2021-06-21T00:00:00\",\"2021-07-01T00:00:00\",\"2021-07-11T00:00:00\",\"2021-07-21T00:00:00\",\"2021-07-31T00:00:00\",\"2021-08-10T00:00:00\",\"2021-08-20T00:00:00\",\"2021-08-30T00:00:00\",\"2021-09-09T00:00:00\",\"2021-09-19T00:00:00\",\"2021-09-29T00:00:00\",\"2021-10-09T00:00:00\",\"2021-10-19T00:00:00\",\"2021-10-29T00:00:00\",\"2021-11-08T00:00:00\"],\"xaxis\":\"x\",\"y\":[null,0.107,0.11,0.123,0.282,0.602,0.505,0.27,0.247,0.285,0.342,0.434,0.509,0.526,0.518,0.482,0.444],\"yaxis\":\"y\"},{\"customdata\":[[13],[13],[13],[13],[13],[13],[13],[13],[13],[13],[13],[13],[13],[13],[13],[13],[13]],\"hovertemplate\":\"parcel_id=%{customdata[0]}<br>point_id=9882<br>date=%{x}<br>value=%{y}<extra></extra>\",\"legendgroup\":\"13\",\"line\":{\"color\":\"#EF553B\",\"dash\":\"solid\",\"width\":0.7},\"marker\":{\"symbol\":\"circle\"},\"mode\":\"lines\",\"name\":\"13\",\"showlegend\":true,\"type\":\"scattergl\",\"x\":[\"2021-06-01T00:00:00\",\"2021-06-11T00:00:00\",\"2021-06-21T00:00:00\",\"2021-07-01T00:00:00\",\"2021-07-11T00:00:00\",\"2021-07-21T00:00:00\",\"2021-07-31T00:00:00\",\"2021-08-10T00:00:00\",\"2021-08-20T00:00:00\",\"2021-08-30T00:00:00\",\"2021-09-09T00:00:00\",\"2021-09-19T00:00:00\",\"2021-09-29T00:00:00\",\"2021-10-09T00:00:00\",\"2021-10-19T00:00:00\",\"2021-10-29T00:00:00\",\"2021-11-08T00:00:00\"],\"xaxis\":\"x\",\"y\":[null,0.115,0.118,0.13,0.177,0.303,null,null,null,null,0.605,0.646,0.66,0.641,0.521,0.44,0.363],\"yaxis\":\"y\"},{\"customdata\":[[14],[14],[14],[14],[14],[14],[14],[14],[14],[14],[14],[14],[14],[14],[14],[14],[14]],\"hovertemplate\":\"parcel_id=%{customdata[0]}<br>point_id=675<br>date=%{x}<br>value=%{y}<extra></extra>\",\"legendgroup\":\"14\",\"line\":{\"color\":\"#00cc96\",\"dash\":\"solid\",\"width\":0.7},\"marker\":{\"symbol\":\"circle\"},\"mode\":\"lines\",\"name\":\"14\",\"showlegend\":true,\"type\":\"scattergl\",\"x\":[\"2021-06-01T00:00:00\",\"2021-06-11T00:00:00\",\"2021-06-21T00:00:00\",\"2021-07-01T00:00:00\",\"2021-07-11T00:00:00\",\"2021-07-21T00:00:00\",\"2021-07-31T00:00:00\",\"2021-08-10T00:00:00\",\"2021-08-20T00:00:00\",\"2021-08-30T00:00:00\",\"2021-09-09T00:00:00\",\"2021-09-19T00:00:00\",\"2021-09-29T00:00:00\",\"2021-10-09T00:00:00\",\"2021-10-19T00:00:00\",\"2021-10-29T00:00:00\",\"2021-11-08T00:00:00\"],\"xaxis\":\"x\",\"y\":[null,0.085,0.081,0.108,0.134,0.163,0.124,0.185,0.253,0.356,0.532,0.592,0.646,0.657,0.573,0.511,0.439],\"yaxis\":\"y\"},{\"customdata\":[[14],[14],[14],[14],[14],[14],[14],[14],[14],[14],[14],[14],[14],[14],[14],[14],[14]],\"hovertemplate\":\"parcel_id=%{customdata[0]}<br>point_id=656<br>date=%{x}<br>value=%{y}<extra></extra>\",\"legendgroup\":\"14\",\"line\":{\"color\":\"#00cc96\",\"dash\":\"solid\",\"width\":0.7},\"marker\":{\"symbol\":\"circle\"},\"mode\":\"lines\",\"name\":\"14\",\"showlegend\":false,\"type\":\"scattergl\",\"x\":[\"2021-06-01T00:00:00\",\"2021-06-11T00:00:00\",\"2021-06-21T00:00:00\",\"2021-07-01T00:00:00\",\"2021-07-11T00:00:00\",\"2021-07-21T00:00:00\",\"2021-07-31T00:00:00\",\"2021-08-10T00:00:00\",\"2021-08-20T00:00:00\",\"2021-08-30T00:00:00\",\"2021-09-09T00:00:00\",\"2021-09-19T00:00:00\",\"2021-09-29T00:00:00\",\"2021-10-09T00:00:00\",\"2021-10-19T00:00:00\",\"2021-10-29T00:00:00\",\"2021-11-08T00:00:00\"],\"xaxis\":\"x\",\"y\":[null,0.094,0.088,0.135,0.151,0.172,0.213,0.382,0.546,0.712,0.732,0.659,0.648,0.625,0.512,0.464,0.413],\"yaxis\":\"y\"},{\"customdata\":[[14],[14],[14],[14],[14],[14],[14],[14],[14],[14],[14],[14],[14],[14],[14],[14],[14]],\"hovertemplate\":\"parcel_id=%{customdata[0]}<br>point_id=660<br>date=%{x}<br>value=%{y}<extra></extra>\",\"legendgroup\":\"14\",\"line\":{\"color\":\"#00cc96\",\"dash\":\"solid\",\"width\":0.7},\"marker\":{\"symbol\":\"circle\"},\"mode\":\"lines\",\"name\":\"14\",\"showlegend\":false,\"type\":\"scattergl\",\"x\":[\"2021-06-01T00:00:00\",\"2021-06-11T00:00:00\",\"2021-06-21T00:00:00\",\"2021-07-01T00:00:00\",\"2021-07-11T00:00:00\",\"2021-07-21T00:00:00\",\"2021-07-31T00:00:00\",\"2021-08-10T00:00:00\",\"2021-08-20T00:00:00\",\"2021-08-30T00:00:00\",\"2021-09-09T00:00:00\",\"2021-09-19T00:00:00\",\"2021-09-29T00:00:00\",\"2021-10-09T00:00:00\",\"2021-10-19T00:00:00\",\"2021-10-29T00:00:00\",\"2021-11-08T00:00:00\"],\"xaxis\":\"x\",\"y\":[null,0.087,0.081,0.117,0.14,0.159,0.15,0.279,0.421,0.59,0.694,0.664,0.686,0.685,0.573,0.503,0.427],\"yaxis\":\"y\"},{\"customdata\":[[14],[14],[14],[14],[14],[14],[14],[14],[14],[14],[14],[14],[14],[14],[14],[14],[14]],\"hovertemplate\":\"parcel_id=%{customdata[0]}<br>point_id=694<br>date=%{x}<br>value=%{y}<extra></extra>\",\"legendgroup\":\"14\",\"line\":{\"color\":\"#00cc96\",\"dash\":\"solid\",\"width\":0.7},\"marker\":{\"symbol\":\"circle\"},\"mode\":\"lines\",\"name\":\"14\",\"showlegend\":false,\"type\":\"scattergl\",\"x\":[\"2021-06-01T00:00:00\",\"2021-06-11T00:00:00\",\"2021-06-21T00:00:00\",\"2021-07-01T00:00:00\",\"2021-07-11T00:00:00\",\"2021-07-21T00:00:00\",\"2021-07-31T00:00:00\",\"2021-08-10T00:00:00\",\"2021-08-20T00:00:00\",\"2021-08-30T00:00:00\",\"2021-09-09T00:00:00\",\"2021-09-19T00:00:00\",\"2021-09-29T00:00:00\",\"2021-10-09T00:00:00\",\"2021-10-19T00:00:00\",\"2021-10-29T00:00:00\",\"2021-11-08T00:00:00\"],\"xaxis\":\"x\",\"y\":[null,0.088,0.087,0.108,0.129,0.17,0.127,0.226,0.323,0.434,0.581,0.631,0.66,0.648,0.52,0.453,0.379],\"yaxis\":\"y\"},{\"customdata\":[[48],[48],[48],[48],[48],[48],[48],[48],[48],[48],[48],[48],[48],[48],[48],[48],[48]],\"hovertemplate\":\"parcel_id=%{customdata[0]}<br>point_id=63<br>date=%{x}<br>value=%{y}<extra></extra>\",\"legendgroup\":\"48\",\"line\":{\"color\":\"#ab63fa\",\"dash\":\"solid\",\"width\":0.7},\"marker\":{\"symbol\":\"circle\"},\"mode\":\"lines\",\"name\":\"48\",\"showlegend\":true,\"type\":\"scattergl\",\"x\":[\"2021-06-01T00:00:00\",\"2021-06-11T00:00:00\",\"2021-06-21T00:00:00\",\"2021-07-01T00:00:00\",\"2021-07-11T00:00:00\",\"2021-07-21T00:00:00\",\"2021-07-31T00:00:00\",\"2021-08-10T00:00:00\",\"2021-08-20T00:00:00\",\"2021-08-30T00:00:00\",\"2021-09-09T00:00:00\",\"2021-09-19T00:00:00\",\"2021-09-29T00:00:00\",\"2021-10-09T00:00:00\",\"2021-10-19T00:00:00\",\"2021-10-29T00:00:00\",\"2021-11-08T00:00:00\"],\"xaxis\":\"x\",\"y\":[null,0.085,0.089,0.109,0.104,0.165,0.125,0.213,0.331,0.476,0.474,0.598,0.666,0.655,0.481,0.426,0.408],\"yaxis\":\"y\"},{\"customdata\":[[48],[48],[48],[48],[48],[48],[48],[48],[48],[48],[48],[48],[48],[48],[48],[48],[48]],\"hovertemplate\":\"parcel_id=%{customdata[0]}<br>point_id=47<br>date=%{x}<br>value=%{y}<extra></extra>\",\"legendgroup\":\"48\",\"line\":{\"color\":\"#ab63fa\",\"dash\":\"solid\",\"width\":0.7},\"marker\":{\"symbol\":\"circle\"},\"mode\":\"lines\",\"name\":\"48\",\"showlegend\":false,\"type\":\"scattergl\",\"x\":[\"2021-06-01T00:00:00\",\"2021-06-11T00:00:00\",\"2021-06-21T00:00:00\",\"2021-07-01T00:00:00\",\"2021-07-11T00:00:00\",\"2021-07-21T00:00:00\",\"2021-07-31T00:00:00\",\"2021-08-10T00:00:00\",\"2021-08-20T00:00:00\",\"2021-08-30T00:00:00\",\"2021-09-09T00:00:00\",\"2021-09-19T00:00:00\",\"2021-09-29T00:00:00\",\"2021-10-09T00:00:00\",\"2021-10-19T00:00:00\",\"2021-10-29T00:00:00\",\"2021-11-08T00:00:00\"],\"xaxis\":\"x\",\"y\":[null,0.087,0.088,0.12,0.112,0.168,0.139,0.217,0.32,0.439,0.575,0.603,0.67,0.675,0.501,0.451,0.43],\"yaxis\":\"y\"},{\"customdata\":[[48],[48],[48],[48],[48],[48],[48],[48],[48],[48],[48],[48],[48],[48],[48],[48],[48]],\"hovertemplate\":\"parcel_id=%{customdata[0]}<br>point_id=54<br>date=%{x}<br>value=%{y}<extra></extra>\",\"legendgroup\":\"48\",\"line\":{\"color\":\"#ab63fa\",\"dash\":\"solid\",\"width\":0.7},\"marker\":{\"symbol\":\"circle\"},\"mode\":\"lines\",\"name\":\"48\",\"showlegend\":false,\"type\":\"scattergl\",\"x\":[\"2021-06-01T00:00:00\",\"2021-06-11T00:00:00\",\"2021-06-21T00:00:00\",\"2021-07-01T00:00:00\",\"2021-07-11T00:00:00\",\"2021-07-21T00:00:00\",\"2021-07-31T00:00:00\",\"2021-08-10T00:00:00\",\"2021-08-20T00:00:00\",\"2021-08-30T00:00:00\",\"2021-09-09T00:00:00\",\"2021-09-19T00:00:00\",\"2021-09-29T00:00:00\",\"2021-10-09T00:00:00\",\"2021-10-19T00:00:00\",\"2021-10-29T00:00:00\",\"2021-11-08T00:00:00\"],\"xaxis\":\"x\",\"y\":[null,0.087,0.089,0.113,0.111,0.168,0.14,0.208,0.315,0.447,0.518,0.597,0.644,0.625,0.46,0.406,0.385],\"yaxis\":\"y\"},{\"customdata\":[[48],[48],[48],[48],[48],[48],[48],[48],[48],[48],[48],[48],[48],[48],[48],[48],[48]],\"hovertemplate\":\"parcel_id=%{customdata[0]}<br>point_id=101<br>date=%{x}<br>value=%{y}<extra></extra>\",\"legendgroup\":\"48\",\"line\":{\"color\":\"#ab63fa\",\"dash\":\"solid\",\"width\":0.7},\"marker\":{\"symbol\":\"circle\"},\"mode\":\"lines\",\"name\":\"48\",\"showlegend\":false,\"type\":\"scattergl\",\"x\":[\"2021-06-01T00:00:00\",\"2021-06-11T00:00:00\",\"2021-06-21T00:00:00\",\"2021-07-01T00:00:00\",\"2021-07-11T00:00:00\",\"2021-07-21T00:00:00\",\"2021-07-31T00:00:00\",\"2021-08-10T00:00:00\",\"2021-08-20T00:00:00\",\"2021-08-30T00:00:00\",\"2021-09-09T00:00:00\",\"2021-09-19T00:00:00\",\"2021-09-29T00:00:00\",\"2021-10-09T00:00:00\",\"2021-10-19T00:00:00\",\"2021-10-29T00:00:00\",\"2021-11-08T00:00:00\"],\"xaxis\":\"x\",\"y\":[null,0.082,0.089,0.122,0.104,0.162,0.128,0.217,0.33,0.465,0.582,0.658,0.665,0.604,0.432,0.377,0.355],\"yaxis\":\"y\"},{\"customdata\":[[41],[41],[41],[41],[41],[41],[41],[41],[41],[41],[41],[41],[41],[41],[41],[41],[41]],\"hovertemplate\":\"parcel_id=%{customdata[0]}<br>point_id=9668<br>date=%{x}<br>value=%{y}<extra></extra>\",\"legendgroup\":\"41\",\"line\":{\"color\":\"#FFA15A\",\"dash\":\"solid\",\"width\":0.7},\"marker\":{\"symbol\":\"circle\"},\"mode\":\"lines\",\"name\":\"41\",\"showlegend\":true,\"type\":\"scattergl\",\"x\":[\"2021-06-01T00:00:00\",\"2021-06-11T00:00:00\",\"2021-06-21T00:00:00\",\"2021-07-01T00:00:00\",\"2021-07-11T00:00:00\",\"2021-07-21T00:00:00\",\"2021-07-31T00:00:00\",\"2021-08-10T00:00:00\",\"2021-08-20T00:00:00\",\"2021-08-30T00:00:00\",\"2021-09-09T00:00:00\",\"2021-09-19T00:00:00\",\"2021-09-29T00:00:00\",\"2021-10-09T00:00:00\",\"2021-10-19T00:00:00\",\"2021-10-29T00:00:00\",\"2021-11-08T00:00:00\"],\"xaxis\":\"x\",\"y\":[null,0.103,0.103,0.112,0.116,0.199,null,null,null,null,0.73,0.685,0.693,0.693,0.591,0.519,0.448],\"yaxis\":\"y\"},{\"customdata\":[[41],[41],[41],[41],[41],[41],[41],[41],[41],[41],[41],[41],[41],[41],[41],[41],[41]],\"hovertemplate\":\"parcel_id=%{customdata[0]}<br>point_id=9679<br>date=%{x}<br>value=%{y}<extra></extra>\",\"legendgroup\":\"41\",\"line\":{\"color\":\"#FFA15A\",\"dash\":\"solid\",\"width\":0.7},\"marker\":{\"symbol\":\"circle\"},\"mode\":\"lines\",\"name\":\"41\",\"showlegend\":false,\"type\":\"scattergl\",\"x\":[\"2021-06-01T00:00:00\",\"2021-06-11T00:00:00\",\"2021-06-21T00:00:00\",\"2021-07-01T00:00:00\",\"2021-07-11T00:00:00\",\"2021-07-21T00:00:00\",\"2021-07-31T00:00:00\",\"2021-08-10T00:00:00\",\"2021-08-20T00:00:00\",\"2021-08-30T00:00:00\",\"2021-09-09T00:00:00\",\"2021-09-19T00:00:00\",\"2021-09-29T00:00:00\",\"2021-10-09T00:00:00\",\"2021-10-19T00:00:00\",\"2021-10-29T00:00:00\",\"2021-11-08T00:00:00\"],\"xaxis\":\"x\",\"y\":[null,0.117,0.109,0.112,0.123,0.189,null,null,null,null,0.742,0.683,0.673,0.658,0.541,0.461,0.387],\"yaxis\":\"y\"},{\"customdata\":[[47],[47],[47],[47],[47],[47],[47],[47],[47],[47],[47],[47],[47],[47],[47],[47],[47]],\"hovertemplate\":\"parcel_id=%{customdata[0]}<br>point_id=9906<br>date=%{x}<br>value=%{y}<extra></extra>\",\"legendgroup\":\"47\",\"line\":{\"color\":\"#19d3f3\",\"dash\":\"solid\",\"width\":0.7},\"marker\":{\"symbol\":\"circle\"},\"mode\":\"lines\",\"name\":\"47\",\"showlegend\":true,\"type\":\"scattergl\",\"x\":[\"2021-06-01T00:00:00\",\"2021-06-11T00:00:00\",\"2021-06-21T00:00:00\",\"2021-07-01T00:00:00\",\"2021-07-11T00:00:00\",\"2021-07-21T00:00:00\",\"2021-07-31T00:00:00\",\"2021-08-10T00:00:00\",\"2021-08-20T00:00:00\",\"2021-08-30T00:00:00\",\"2021-09-09T00:00:00\",\"2021-09-19T00:00:00\",\"2021-09-29T00:00:00\",\"2021-10-09T00:00:00\",\"2021-10-19T00:00:00\",\"2021-10-29T00:00:00\",\"2021-11-08T00:00:00\"],\"xaxis\":\"x\",\"y\":[null,0.089,0.085,0.091,0.14,0.143,0.161,0.323,0.471,0.596,0.73,0.659,0.603,0.516,0.338,0.306,0.317],\"yaxis\":\"y\"},{\"customdata\":[[47],[47],[47],[47],[47],[47],[47],[47],[47],[47],[47],[47],[47],[47],[47],[47],[47]],\"hovertemplate\":\"parcel_id=%{customdata[0]}<br>point_id=9918<br>date=%{x}<br>value=%{y}<extra></extra>\",\"legendgroup\":\"47\",\"line\":{\"color\":\"#19d3f3\",\"dash\":\"solid\",\"width\":0.7},\"marker\":{\"symbol\":\"circle\"},\"mode\":\"lines\",\"name\":\"47\",\"showlegend\":false,\"type\":\"scattergl\",\"x\":[\"2021-06-01T00:00:00\",\"2021-06-11T00:00:00\",\"2021-06-21T00:00:00\",\"2021-07-01T00:00:00\",\"2021-07-11T00:00:00\",\"2021-07-21T00:00:00\",\"2021-07-31T00:00:00\",\"2021-08-10T00:00:00\",\"2021-08-20T00:00:00\",\"2021-08-30T00:00:00\",\"2021-09-09T00:00:00\",\"2021-09-19T00:00:00\",\"2021-09-29T00:00:00\",\"2021-10-09T00:00:00\",\"2021-10-19T00:00:00\",\"2021-10-29T00:00:00\",\"2021-11-08T00:00:00\"],\"xaxis\":\"x\",\"y\":[null,0.091,0.085,0.083,0.146,0.137,0.153,0.3,0.444,0.574,0.708,0.637,0.598,0.517,0.387,0.336,0.289],\"yaxis\":\"y\"},{\"customdata\":[[47],[47],[47],[47],[47],[47],[47],[47],[47],[47],[47],[47],[47],[47],[47],[47],[47]],\"hovertemplate\":\"parcel_id=%{customdata[0]}<br>point_id=9907<br>date=%{x}<br>value=%{y}<extra></extra>\",\"legendgroup\":\"47\",\"line\":{\"color\":\"#19d3f3\",\"dash\":\"solid\",\"width\":0.7},\"marker\":{\"symbol\":\"circle\"},\"mode\":\"lines\",\"name\":\"47\",\"showlegend\":false,\"type\":\"scattergl\",\"x\":[\"2021-06-01T00:00:00\",\"2021-06-11T00:00:00\",\"2021-06-21T00:00:00\",\"2021-07-01T00:00:00\",\"2021-07-11T00:00:00\",\"2021-07-21T00:00:00\",\"2021-07-31T00:00:00\",\"2021-08-10T00:00:00\",\"2021-08-20T00:00:00\",\"2021-08-30T00:00:00\",\"2021-09-09T00:00:00\",\"2021-09-19T00:00:00\",\"2021-09-29T00:00:00\",\"2021-10-09T00:00:00\",\"2021-10-19T00:00:00\",\"2021-10-29T00:00:00\",\"2021-11-08T00:00:00\"],\"xaxis\":\"x\",\"y\":[null,0.092,0.087,0.094,0.146,0.141,0.165,0.316,0.46,0.586,0.726,0.65,0.603,0.536,0.356,0.316,0.329],\"yaxis\":\"y\"},{\"customdata\":[[47],[47],[47],[47],[47],[47],[47],[47],[47],[47],[47],[47],[47],[47],[47],[47],[47]],\"hovertemplate\":\"parcel_id=%{customdata[0]}<br>point_id=9904<br>date=%{x}<br>value=%{y}<extra></extra>\",\"legendgroup\":\"47\",\"line\":{\"color\":\"#19d3f3\",\"dash\":\"solid\",\"width\":0.7},\"marker\":{\"symbol\":\"circle\"},\"mode\":\"lines\",\"name\":\"47\",\"showlegend\":false,\"type\":\"scattergl\",\"x\":[\"2021-06-01T00:00:00\",\"2021-06-11T00:00:00\",\"2021-06-21T00:00:00\",\"2021-07-01T00:00:00\",\"2021-07-11T00:00:00\",\"2021-07-21T00:00:00\",\"2021-07-31T00:00:00\",\"2021-08-10T00:00:00\",\"2021-08-20T00:00:00\",\"2021-08-30T00:00:00\",\"2021-09-09T00:00:00\",\"2021-09-19T00:00:00\",\"2021-09-29T00:00:00\",\"2021-10-09T00:00:00\",\"2021-10-19T00:00:00\",\"2021-10-29T00:00:00\",\"2021-11-08T00:00:00\"],\"xaxis\":\"x\",\"y\":[null,0.095,0.087,0.086,0.142,0.142,0.157,0.291,0.407,0.512,0.69,0.644,0.601,0.544,0.424,0.373,0.324],\"yaxis\":\"y\"},{\"customdata\":[[15],[15],[15],[15],[15],[15],[15],[15],[15],[15],[15],[15],[15],[15],[15],[15],[15]],\"hovertemplate\":\"parcel_id=%{customdata[0]}<br>point_id=10290<br>date=%{x}<br>value=%{y}<extra></extra>\",\"legendgroup\":\"15\",\"line\":{\"color\":\"#FF6692\",\"dash\":\"solid\",\"width\":0.7},\"marker\":{\"symbol\":\"circle\"},\"mode\":\"lines\",\"name\":\"15\",\"showlegend\":true,\"type\":\"scattergl\",\"x\":[\"2021-06-01T00:00:00\",\"2021-06-11T00:00:00\",\"2021-06-21T00:00:00\",\"2021-07-01T00:00:00\",\"2021-07-11T00:00:00\",\"2021-07-21T00:00:00\",\"2021-07-31T00:00:00\",\"2021-08-10T00:00:00\",\"2021-08-20T00:00:00\",\"2021-08-30T00:00:00\",\"2021-09-09T00:00:00\",\"2021-09-19T00:00:00\",\"2021-09-29T00:00:00\",\"2021-10-09T00:00:00\",\"2021-10-19T00:00:00\",\"2021-10-29T00:00:00\",\"2021-11-08T00:00:00\"],\"xaxis\":\"x\",\"y\":[null,0.145,0.143,0.155,0.217,0.209,0.221,0.272,0.319,0.367,0.433,0.543,0.603,0.618,0.493,0.398,0.363],\"yaxis\":\"y\"},{\"customdata\":[[15],[15],[15],[15],[15],[15],[15],[15],[15],[15],[15],[15],[15],[15],[15],[15],[15]],\"hovertemplate\":\"parcel_id=%{customdata[0]}<br>point_id=10292<br>date=%{x}<br>value=%{y}<extra></extra>\",\"legendgroup\":\"15\",\"line\":{\"color\":\"#FF6692\",\"dash\":\"solid\",\"width\":0.7},\"marker\":{\"symbol\":\"circle\"},\"mode\":\"lines\",\"name\":\"15\",\"showlegend\":false,\"type\":\"scattergl\",\"x\":[\"2021-06-01T00:00:00\",\"2021-06-11T00:00:00\",\"2021-06-21T00:00:00\",\"2021-07-01T00:00:00\",\"2021-07-11T00:00:00\",\"2021-07-21T00:00:00\",\"2021-07-31T00:00:00\",\"2021-08-10T00:00:00\",\"2021-08-20T00:00:00\",\"2021-08-30T00:00:00\",\"2021-09-09T00:00:00\",\"2021-09-19T00:00:00\",\"2021-09-29T00:00:00\",\"2021-10-09T00:00:00\",\"2021-10-19T00:00:00\",\"2021-10-29T00:00:00\",\"2021-11-08T00:00:00\"],\"xaxis\":\"x\",\"y\":[null,0.114,0.112,0.102,0.156,0.173,0.171,0.212,0.276,0.349,0.433,0.506,0.579,0.623,0.483,0.406,0.36],\"yaxis\":\"y\"},{\"customdata\":[[15],[15],[15],[15],[15],[15],[15],[15],[15],[15],[15],[15],[15],[15],[15],[15],[15]],\"hovertemplate\":\"parcel_id=%{customdata[0]}<br>point_id=10299<br>date=%{x}<br>value=%{y}<extra></extra>\",\"legendgroup\":\"15\",\"line\":{\"color\":\"#FF6692\",\"dash\":\"solid\",\"width\":0.7},\"marker\":{\"symbol\":\"circle\"},\"mode\":\"lines\",\"name\":\"15\",\"showlegend\":false,\"type\":\"scattergl\",\"x\":[\"2021-06-01T00:00:00\",\"2021-06-11T00:00:00\",\"2021-06-21T00:00:00\",\"2021-07-01T00:00:00\",\"2021-07-11T00:00:00\",\"2021-07-21T00:00:00\",\"2021-07-31T00:00:00\",\"2021-08-10T00:00:00\",\"2021-08-20T00:00:00\",\"2021-08-30T00:00:00\",\"2021-09-09T00:00:00\",\"2021-09-19T00:00:00\",\"2021-09-29T00:00:00\",\"2021-10-09T00:00:00\",\"2021-10-19T00:00:00\",\"2021-10-29T00:00:00\",\"2021-11-08T00:00:00\"],\"xaxis\":\"x\",\"y\":[null,0.104,0.103,0.098,0.156,0.199,0.162,0.189,0.251,0.332,0.398,0.407,0.466,0.524,0.428,0.35,0.298],\"yaxis\":\"y\"},{\"customdata\":[[15],[15],[15],[15],[15],[15],[15],[15],[15],[15],[15],[15],[15],[15],[15],[15],[15]],\"hovertemplate\":\"parcel_id=%{customdata[0]}<br>point_id=10326<br>date=%{x}<br>value=%{y}<extra></extra>\",\"legendgroup\":\"15\",\"line\":{\"color\":\"#FF6692\",\"dash\":\"solid\",\"width\":0.7},\"marker\":{\"symbol\":\"circle\"},\"mode\":\"lines\",\"name\":\"15\",\"showlegend\":false,\"type\":\"scattergl\",\"x\":[\"2021-06-01T00:00:00\",\"2021-06-11T00:00:00\",\"2021-06-21T00:00:00\",\"2021-07-01T00:00:00\",\"2021-07-11T00:00:00\",\"2021-07-21T00:00:00\",\"2021-07-31T00:00:00\",\"2021-08-10T00:00:00\",\"2021-08-20T00:00:00\",\"2021-08-30T00:00:00\",\"2021-09-09T00:00:00\",\"2021-09-19T00:00:00\",\"2021-09-29T00:00:00\",\"2021-10-09T00:00:00\",\"2021-10-19T00:00:00\",\"2021-10-29T00:00:00\",\"2021-11-08T00:00:00\"],\"xaxis\":\"x\",\"y\":[null,0.107,0.105,0.095,0.155,0.22,0.155,0.233,0.27,0.297,0.333,0.389,0.448,0.499,0.415,0.332,0.253],\"yaxis\":\"y\"},{\"customdata\":[[15],[15],[15],[15],[15],[15],[15],[15],[15],[15],[15],[15],[15],[15],[15],[15],[15]],\"hovertemplate\":\"parcel_id=%{customdata[0]}<br>point_id=10328<br>date=%{x}<br>value=%{y}<extra></extra>\",\"legendgroup\":\"15\",\"line\":{\"color\":\"#FF6692\",\"dash\":\"solid\",\"width\":0.7},\"marker\":{\"symbol\":\"circle\"},\"mode\":\"lines\",\"name\":\"15\",\"showlegend\":false,\"type\":\"scattergl\",\"x\":[\"2021-06-01T00:00:00\",\"2021-06-11T00:00:00\",\"2021-06-21T00:00:00\",\"2021-07-01T00:00:00\",\"2021-07-11T00:00:00\",\"2021-07-21T00:00:00\",\"2021-07-31T00:00:00\",\"2021-08-10T00:00:00\",\"2021-08-20T00:00:00\",\"2021-08-30T00:00:00\",\"2021-09-09T00:00:00\",\"2021-09-19T00:00:00\",\"2021-09-29T00:00:00\",\"2021-10-09T00:00:00\",\"2021-10-19T00:00:00\",\"2021-10-29T00:00:00\",\"2021-11-08T00:00:00\"],\"xaxis\":\"x\",\"y\":[null,0.222,0.235,0.245,0.325,0.338,0.278,0.382,0.381,0.351,0.366,0.505,0.606,0.661,0.541,0.417,0.393],\"yaxis\":\"y\"},{\"customdata\":[[15],[15],[15],[15],[15],[15],[15],[15],[15],[15],[15],[15],[15],[15],[15],[15],[15]],\"hovertemplate\":\"parcel_id=%{customdata[0]}<br>point_id=10312<br>date=%{x}<br>value=%{y}<extra></extra>\",\"legendgroup\":\"15\",\"line\":{\"color\":\"#FF6692\",\"dash\":\"solid\",\"width\":0.7},\"marker\":{\"symbol\":\"circle\"},\"mode\":\"lines\",\"name\":\"15\",\"showlegend\":false,\"type\":\"scattergl\",\"x\":[\"2021-06-01T00:00:00\",\"2021-06-11T00:00:00\",\"2021-06-21T00:00:00\",\"2021-07-01T00:00:00\",\"2021-07-11T00:00:00\",\"2021-07-21T00:00:00\",\"2021-07-31T00:00:00\",\"2021-08-10T00:00:00\",\"2021-08-20T00:00:00\",\"2021-08-30T00:00:00\",\"2021-09-09T00:00:00\",\"2021-09-19T00:00:00\",\"2021-09-29T00:00:00\",\"2021-10-09T00:00:00\",\"2021-10-19T00:00:00\",\"2021-10-29T00:00:00\",\"2021-11-08T00:00:00\"],\"xaxis\":\"x\",\"y\":[null,0.11,0.108,0.099,0.155,0.202,0.14,0.18,0.231,0.291,0.339,0.336,0.395,0.436,0.413,0.335,0.265],\"yaxis\":\"y\"},{\"customdata\":[[40],[40],[40],[40],[40],[40],[40],[40],[40],[40],[40],[40],[40],[40],[40],[40],[40]],\"hovertemplate\":\"parcel_id=%{customdata[0]}<br>point_id=316<br>date=%{x}<br>value=%{y}<extra></extra>\",\"legendgroup\":\"40\",\"line\":{\"color\":\"#B6E880\",\"dash\":\"solid\",\"width\":0.7},\"marker\":{\"symbol\":\"circle\"},\"mode\":\"lines\",\"name\":\"40\",\"showlegend\":true,\"type\":\"scattergl\",\"x\":[\"2021-06-01T00:00:00\",\"2021-06-11T00:00:00\",\"2021-06-21T00:00:00\",\"2021-07-01T00:00:00\",\"2021-07-11T00:00:00\",\"2021-07-21T00:00:00\",\"2021-07-31T00:00:00\",\"2021-08-10T00:00:00\",\"2021-08-20T00:00:00\",\"2021-08-30T00:00:00\",\"2021-09-09T00:00:00\",\"2021-09-19T00:00:00\",\"2021-09-29T00:00:00\",\"2021-10-09T00:00:00\",\"2021-10-19T00:00:00\",\"2021-10-29T00:00:00\",\"2021-11-08T00:00:00\"],\"xaxis\":\"x\",\"y\":[null,0.093,0.104,0.112,0.096,0.133,0.168,0.21,null,null,null,null,0.708,0.697,0.589,0.501,0.432],\"yaxis\":\"y\"},{\"customdata\":[[40],[40],[40],[40],[40],[40],[40],[40],[40],[40],[40],[40],[40],[40],[40],[40],[40]],\"hovertemplate\":\"parcel_id=%{customdata[0]}<br>point_id=312<br>date=%{x}<br>value=%{y}<extra></extra>\",\"legendgroup\":\"40\",\"line\":{\"color\":\"#B6E880\",\"dash\":\"solid\",\"width\":0.7},\"marker\":{\"symbol\":\"circle\"},\"mode\":\"lines\",\"name\":\"40\",\"showlegend\":false,\"type\":\"scattergl\",\"x\":[\"2021-06-01T00:00:00\",\"2021-06-11T00:00:00\",\"2021-06-21T00:00:00\",\"2021-07-01T00:00:00\",\"2021-07-11T00:00:00\",\"2021-07-21T00:00:00\",\"2021-07-31T00:00:00\",\"2021-08-10T00:00:00\",\"2021-08-20T00:00:00\",\"2021-08-30T00:00:00\",\"2021-09-09T00:00:00\",\"2021-09-19T00:00:00\",\"2021-09-29T00:00:00\",\"2021-10-09T00:00:00\",\"2021-10-19T00:00:00\",\"2021-10-29T00:00:00\",\"2021-11-08T00:00:00\"],\"xaxis\":\"x\",\"y\":[null,0.093,0.102,0.118,0.093,0.128,0.149,0.175,null,null,null,null,0.689,0.686,0.588,0.506,0.441],\"yaxis\":\"y\"},{\"customdata\":[[40],[40],[40],[40],[40],[40],[40],[40],[40],[40],[40],[40],[40],[40],[40],[40],[40]],\"hovertemplate\":\"parcel_id=%{customdata[0]}<br>point_id=308<br>date=%{x}<br>value=%{y}<extra></extra>\",\"legendgroup\":\"40\",\"line\":{\"color\":\"#B6E880\",\"dash\":\"solid\",\"width\":0.7},\"marker\":{\"symbol\":\"circle\"},\"mode\":\"lines\",\"name\":\"40\",\"showlegend\":false,\"type\":\"scattergl\",\"x\":[\"2021-06-01T00:00:00\",\"2021-06-11T00:00:00\",\"2021-06-21T00:00:00\",\"2021-07-01T00:00:00\",\"2021-07-11T00:00:00\",\"2021-07-21T00:00:00\",\"2021-07-31T00:00:00\",\"2021-08-10T00:00:00\",\"2021-08-20T00:00:00\",\"2021-08-30T00:00:00\",\"2021-09-09T00:00:00\",\"2021-09-19T00:00:00\",\"2021-09-29T00:00:00\",\"2021-10-09T00:00:00\",\"2021-10-19T00:00:00\",\"2021-10-29T00:00:00\",\"2021-11-08T00:00:00\"],\"xaxis\":\"x\",\"y\":[null,0.093,0.118,0.119,0.097,0.134,0.177,0.228,null,null,null,null,0.694,0.686,0.579,0.488,0.421],\"yaxis\":\"y\"},{\"customdata\":[[40],[40],[40],[40],[40],[40],[40],[40],[40],[40],[40],[40],[40],[40],[40],[40],[40]],\"hovertemplate\":\"parcel_id=%{customdata[0]}<br>point_id=437<br>date=%{x}<br>value=%{y}<extra></extra>\",\"legendgroup\":\"40\",\"line\":{\"color\":\"#B6E880\",\"dash\":\"solid\",\"width\":0.7},\"marker\":{\"symbol\":\"circle\"},\"mode\":\"lines\",\"name\":\"40\",\"showlegend\":false,\"type\":\"scattergl\",\"x\":[\"2021-06-01T00:00:00\",\"2021-06-11T00:00:00\",\"2021-06-21T00:00:00\",\"2021-07-01T00:00:00\",\"2021-07-11T00:00:00\",\"2021-07-21T00:00:00\",\"2021-07-31T00:00:00\",\"2021-08-10T00:00:00\",\"2021-08-20T00:00:00\",\"2021-08-30T00:00:00\",\"2021-09-09T00:00:00\",\"2021-09-19T00:00:00\",\"2021-09-29T00:00:00\",\"2021-10-09T00:00:00\",\"2021-10-19T00:00:00\",\"2021-10-29T00:00:00\",\"2021-11-08T00:00:00\"],\"xaxis\":\"x\",\"y\":[null,0.157,0.186,0.201,0.182,0.18,0.253,0.341,null,null,null,null,0.652,0.621,0.513,0.44,0.398],\"yaxis\":\"y\"},{\"customdata\":[[40],[40],[40],[40],[40],[40],[40],[40],[40],[40],[40],[40],[40],[40],[40],[40],[40]],\"hovertemplate\":\"parcel_id=%{customdata[0]}<br>point_id=464<br>date=%{x}<br>value=%{y}<extra></extra>\",\"legendgroup\":\"40\",\"line\":{\"color\":\"#B6E880\",\"dash\":\"solid\",\"width\":0.7},\"marker\":{\"symbol\":\"circle\"},\"mode\":\"lines\",\"name\":\"40\",\"showlegend\":false,\"type\":\"scattergl\",\"x\":[\"2021-06-01T00:00:00\",\"2021-06-11T00:00:00\",\"2021-06-21T00:00:00\",\"2021-07-01T00:00:00\",\"2021-07-11T00:00:00\",\"2021-07-21T00:00:00\",\"2021-07-31T00:00:00\",\"2021-08-10T00:00:00\",\"2021-08-20T00:00:00\",\"2021-08-30T00:00:00\",\"2021-09-09T00:00:00\",\"2021-09-19T00:00:00\",\"2021-09-29T00:00:00\",\"2021-10-09T00:00:00\",\"2021-10-19T00:00:00\",\"2021-10-29T00:00:00\",\"2021-11-08T00:00:00\"],\"xaxis\":\"x\",\"y\":[null,0.092,0.096,0.107,0.095,0.128,0.162,0.202,null,null,null,null,0.691,0.67,0.557,0.481,0.435],\"yaxis\":\"y\"},{\"customdata\":[[40],[40],[40],[40],[40],[40],[40],[40],[40],[40],[40],[40],[40],[40],[40],[40],[40]],\"hovertemplate\":\"parcel_id=%{customdata[0]}<br>point_id=447<br>date=%{x}<br>value=%{y}<extra></extra>\",\"legendgroup\":\"40\",\"line\":{\"color\":\"#B6E880\",\"dash\":\"solid\",\"width\":0.7},\"marker\":{\"symbol\":\"circle\"},\"mode\":\"lines\",\"name\":\"40\",\"showlegend\":false,\"type\":\"scattergl\",\"x\":[\"2021-06-01T00:00:00\",\"2021-06-11T00:00:00\",\"2021-06-21T00:00:00\",\"2021-07-01T00:00:00\",\"2021-07-11T00:00:00\",\"2021-07-21T00:00:00\",\"2021-07-31T00:00:00\",\"2021-08-10T00:00:00\",\"2021-08-20T00:00:00\",\"2021-08-30T00:00:00\",\"2021-09-09T00:00:00\",\"2021-09-19T00:00:00\",\"2021-09-29T00:00:00\",\"2021-10-09T00:00:00\",\"2021-10-19T00:00:00\",\"2021-10-29T00:00:00\",\"2021-11-08T00:00:00\"],\"xaxis\":\"x\",\"y\":[null,0.105,0.123,0.148,0.135,0.159,0.199,0.246,0.413,0.589,0.744,0.696,0.676,0.652,0.538,0.475,0.439],\"yaxis\":\"y\"},{\"customdata\":[[40],[40],[40],[40],[40],[40],[40],[40],[40],[40],[40],[40],[40],[40],[40],[40],[40]],\"hovertemplate\":\"parcel_id=%{customdata[0]}<br>point_id=377<br>date=%{x}<br>value=%{y}<extra></extra>\",\"legendgroup\":\"40\",\"line\":{\"color\":\"#B6E880\",\"dash\":\"solid\",\"width\":0.7},\"marker\":{\"symbol\":\"circle\"},\"mode\":\"lines\",\"name\":\"40\",\"showlegend\":false,\"type\":\"scattergl\",\"x\":[\"2021-06-01T00:00:00\",\"2021-06-11T00:00:00\",\"2021-06-21T00:00:00\",\"2021-07-01T00:00:00\",\"2021-07-11T00:00:00\",\"2021-07-21T00:00:00\",\"2021-07-31T00:00:00\",\"2021-08-10T00:00:00\",\"2021-08-20T00:00:00\",\"2021-08-30T00:00:00\",\"2021-09-09T00:00:00\",\"2021-09-19T00:00:00\",\"2021-09-29T00:00:00\",\"2021-10-09T00:00:00\",\"2021-10-19T00:00:00\",\"2021-10-29T00:00:00\",\"2021-11-08T00:00:00\"],\"xaxis\":\"x\",\"y\":[null,0.091,0.094,0.098,0.093,0.124,0.146,0.172,null,null,null,null,0.675,0.689,0.587,0.502,0.437],\"yaxis\":\"y\"},{\"customdata\":[[40],[40],[40],[40],[40],[40],[40],[40],[40],[40],[40],[40],[40],[40],[40],[40],[40]],\"hovertemplate\":\"parcel_id=%{customdata[0]}<br>point_id=428<br>date=%{x}<br>value=%{y}<extra></extra>\",\"legendgroup\":\"40\",\"line\":{\"color\":\"#B6E880\",\"dash\":\"solid\",\"width\":0.7},\"marker\":{\"symbol\":\"circle\"},\"mode\":\"lines\",\"name\":\"40\",\"showlegend\":false,\"type\":\"scattergl\",\"x\":[\"2021-06-01T00:00:00\",\"2021-06-11T00:00:00\",\"2021-06-21T00:00:00\",\"2021-07-01T00:00:00\",\"2021-07-11T00:00:00\",\"2021-07-21T00:00:00\",\"2021-07-31T00:00:00\",\"2021-08-10T00:00:00\",\"2021-08-20T00:00:00\",\"2021-08-30T00:00:00\",\"2021-09-09T00:00:00\",\"2021-09-19T00:00:00\",\"2021-09-29T00:00:00\",\"2021-10-09T00:00:00\",\"2021-10-19T00:00:00\",\"2021-10-29T00:00:00\",\"2021-11-08T00:00:00\"],\"xaxis\":\"x\",\"y\":[null,0.089,0.1,0.113,0.099,0.137,0.168,0.205,null,null,null,null,0.694,0.694,0.583,0.495,0.427],\"yaxis\":\"y\"},{\"customdata\":[[40],[40],[40],[40],[40],[40],[40],[40],[40],[40],[40],[40],[40],[40],[40],[40],[40]],\"hovertemplate\":\"parcel_id=%{customdata[0]}<br>point_id=329<br>date=%{x}<br>value=%{y}<extra></extra>\",\"legendgroup\":\"40\",\"line\":{\"color\":\"#B6E880\",\"dash\":\"solid\",\"width\":0.7},\"marker\":{\"symbol\":\"circle\"},\"mode\":\"lines\",\"name\":\"40\",\"showlegend\":false,\"type\":\"scattergl\",\"x\":[\"2021-06-01T00:00:00\",\"2021-06-11T00:00:00\",\"2021-06-21T00:00:00\",\"2021-07-01T00:00:00\",\"2021-07-11T00:00:00\",\"2021-07-21T00:00:00\",\"2021-07-31T00:00:00\",\"2021-08-10T00:00:00\",\"2021-08-20T00:00:00\",\"2021-08-30T00:00:00\",\"2021-09-09T00:00:00\",\"2021-09-19T00:00:00\",\"2021-09-29T00:00:00\",\"2021-10-09T00:00:00\",\"2021-10-19T00:00:00\",\"2021-10-29T00:00:00\",\"2021-11-08T00:00:00\"],\"xaxis\":\"x\",\"y\":[null,0.095,0.099,0.111,0.095,0.133,0.162,0.197,null,null,null,null,0.722,0.715,0.598,0.504,0.435],\"yaxis\":\"y\"},{\"customdata\":[[40],[40],[40],[40],[40],[40],[40],[40],[40],[40],[40],[40],[40],[40],[40],[40],[40]],\"hovertemplate\":\"parcel_id=%{customdata[0]}<br>point_id=398<br>date=%{x}<br>value=%{y}<extra></extra>\",\"legendgroup\":\"40\",\"line\":{\"color\":\"#B6E880\",\"dash\":\"solid\",\"width\":0.7},\"marker\":{\"symbol\":\"circle\"},\"mode\":\"lines\",\"name\":\"40\",\"showlegend\":false,\"type\":\"scattergl\",\"x\":[\"2021-06-01T00:00:00\",\"2021-06-11T00:00:00\",\"2021-06-21T00:00:00\",\"2021-07-01T00:00:00\",\"2021-07-11T00:00:00\",\"2021-07-21T00:00:00\",\"2021-07-31T00:00:00\",\"2021-08-10T00:00:00\",\"2021-08-20T00:00:00\",\"2021-08-30T00:00:00\",\"2021-09-09T00:00:00\",\"2021-09-19T00:00:00\",\"2021-09-29T00:00:00\",\"2021-10-09T00:00:00\",\"2021-10-19T00:00:00\",\"2021-10-29T00:00:00\",\"2021-11-08T00:00:00\"],\"xaxis\":\"x\",\"y\":[null,0.09,0.09,0.1,0.093,0.119,0.144,0.173,null,null,null,null,0.71,0.722,0.611,0.513,0.44],\"yaxis\":\"y\"},{\"customdata\":[[40],[40],[40],[40],[40],[40],[40],[40],[40],[40],[40],[40],[40],[40],[40],[40],[40]],\"hovertemplate\":\"parcel_id=%{customdata[0]}<br>point_id=389<br>date=%{x}<br>value=%{y}<extra></extra>\",\"legendgroup\":\"40\",\"line\":{\"color\":\"#B6E880\",\"dash\":\"solid\",\"width\":0.7},\"marker\":{\"symbol\":\"circle\"},\"mode\":\"lines\",\"name\":\"40\",\"showlegend\":false,\"type\":\"scattergl\",\"x\":[\"2021-06-01T00:00:00\",\"2021-06-11T00:00:00\",\"2021-06-21T00:00:00\",\"2021-07-01T00:00:00\",\"2021-07-11T00:00:00\",\"2021-07-21T00:00:00\",\"2021-07-31T00:00:00\",\"2021-08-10T00:00:00\",\"2021-08-20T00:00:00\",\"2021-08-30T00:00:00\",\"2021-09-09T00:00:00\",\"2021-09-19T00:00:00\",\"2021-09-29T00:00:00\",\"2021-10-09T00:00:00\",\"2021-10-19T00:00:00\",\"2021-10-29T00:00:00\",\"2021-11-08T00:00:00\"],\"xaxis\":\"x\",\"y\":[null,0.089,0.101,0.107,0.1,0.132,0.172,0.219,0.373,0.533,0.676,0.63,0.57,0.521,0.457,0.411,0.386],\"yaxis\":\"y\"},{\"customdata\":[[40],[40],[40],[40],[40],[40],[40],[40],[40],[40],[40],[40],[40],[40],[40],[40],[40]],\"hovertemplate\":\"parcel_id=%{customdata[0]}<br>point_id=349<br>date=%{x}<br>value=%{y}<extra></extra>\",\"legendgroup\":\"40\",\"line\":{\"color\":\"#B6E880\",\"dash\":\"solid\",\"width\":0.7},\"marker\":{\"symbol\":\"circle\"},\"mode\":\"lines\",\"name\":\"40\",\"showlegend\":false,\"type\":\"scattergl\",\"x\":[\"2021-06-01T00:00:00\",\"2021-06-11T00:00:00\",\"2021-06-21T00:00:00\",\"2021-07-01T00:00:00\",\"2021-07-11T00:00:00\",\"2021-07-21T00:00:00\",\"2021-07-31T00:00:00\",\"2021-08-10T00:00:00\",\"2021-08-20T00:00:00\",\"2021-08-30T00:00:00\",\"2021-09-09T00:00:00\",\"2021-09-19T00:00:00\",\"2021-09-29T00:00:00\",\"2021-10-09T00:00:00\",\"2021-10-19T00:00:00\",\"2021-10-29T00:00:00\",\"2021-11-08T00:00:00\"],\"xaxis\":\"x\",\"y\":[null,0.084,0.091,0.104,0.087,0.131,0.172,0.221,null,null,null,null,0.678,0.663,0.54,0.448,0.379],\"yaxis\":\"y\"},{\"customdata\":[[30],[30],[30],[30],[30],[30],[30],[30],[30],[30],[30],[30],[30],[30],[30],[30],[30]],\"hovertemplate\":\"parcel_id=%{customdata[0]}<br>point_id=10222<br>date=%{x}<br>value=%{y}<extra></extra>\",\"legendgroup\":\"30\",\"line\":{\"color\":\"#FF97FF\",\"dash\":\"solid\",\"width\":0.7},\"marker\":{\"symbol\":\"circle\"},\"mode\":\"lines\",\"name\":\"30\",\"showlegend\":true,\"type\":\"scattergl\",\"x\":[\"2021-06-01T00:00:00\",\"2021-06-11T00:00:00\",\"2021-06-21T00:00:00\",\"2021-07-01T00:00:00\",\"2021-07-11T00:00:00\",\"2021-07-21T00:00:00\",\"2021-07-31T00:00:00\",\"2021-08-10T00:00:00\",\"2021-08-20T00:00:00\",\"2021-08-30T00:00:00\",\"2021-09-09T00:00:00\",\"2021-09-19T00:00:00\",\"2021-09-29T00:00:00\",\"2021-10-09T00:00:00\",\"2021-10-19T00:00:00\",\"2021-10-29T00:00:00\",\"2021-11-08T00:00:00\"],\"xaxis\":\"x\",\"y\":[null,0.095,0.099,0.126,0.172,0.226,0.203,0.321,0.417,0.505,0.601,0.599,0.556,0.49,0.43,0.409,0.402],\"yaxis\":\"y\"},{\"customdata\":[[30],[30],[30],[30],[30],[30],[30],[30],[30],[30],[30],[30],[30],[30],[30],[30],[30]],\"hovertemplate\":\"parcel_id=%{customdata[0]}<br>point_id=10178<br>date=%{x}<br>value=%{y}<extra></extra>\",\"legendgroup\":\"30\",\"line\":{\"color\":\"#FF97FF\",\"dash\":\"solid\",\"width\":0.7},\"marker\":{\"symbol\":\"circle\"},\"mode\":\"lines\",\"name\":\"30\",\"showlegend\":false,\"type\":\"scattergl\",\"x\":[\"2021-06-01T00:00:00\",\"2021-06-11T00:00:00\",\"2021-06-21T00:00:00\",\"2021-07-01T00:00:00\",\"2021-07-11T00:00:00\",\"2021-07-21T00:00:00\",\"2021-07-31T00:00:00\",\"2021-08-10T00:00:00\",\"2021-08-20T00:00:00\",\"2021-08-30T00:00:00\",\"2021-09-09T00:00:00\",\"2021-09-19T00:00:00\",\"2021-09-29T00:00:00\",\"2021-10-09T00:00:00\",\"2021-10-19T00:00:00\",\"2021-10-29T00:00:00\",\"2021-11-08T00:00:00\"],\"xaxis\":\"x\",\"y\":[null,0.108,0.117,0.138,0.159,0.247,0.233,0.365,0.478,0.574,0.67,0.668,0.676,0.67,0.548,0.465,0.407],\"yaxis\":\"y\"},{\"customdata\":[[30],[30],[30],[30],[30],[30],[30],[30],[30],[30],[30],[30],[30],[30],[30],[30],[30]],\"hovertemplate\":\"parcel_id=%{customdata[0]}<br>point_id=10209<br>date=%{x}<br>value=%{y}<extra></extra>\",\"legendgroup\":\"30\",\"line\":{\"color\":\"#FF97FF\",\"dash\":\"solid\",\"width\":0.7},\"marker\":{\"symbol\":\"circle\"},\"mode\":\"lines\",\"name\":\"30\",\"showlegend\":false,\"type\":\"scattergl\",\"x\":[\"2021-06-01T00:00:00\",\"2021-06-11T00:00:00\",\"2021-06-21T00:00:00\",\"2021-07-01T00:00:00\",\"2021-07-11T00:00:00\",\"2021-07-21T00:00:00\",\"2021-07-31T00:00:00\",\"2021-08-10T00:00:00\",\"2021-08-20T00:00:00\",\"2021-08-30T00:00:00\",\"2021-09-09T00:00:00\",\"2021-09-19T00:00:00\",\"2021-09-29T00:00:00\",\"2021-10-09T00:00:00\",\"2021-10-19T00:00:00\",\"2021-10-29T00:00:00\",\"2021-11-08T00:00:00\"],\"xaxis\":\"x\",\"y\":[null,0.101,0.107,0.121,0.149,0.212,0.222,0.35,0.448,0.537,0.625,0.611,0.551,0.442,0.402,0.385,0.376],\"yaxis\":\"y\"},{\"customdata\":[[38],[38],[38],[38],[38],[38],[38],[38],[38],[38],[38],[38],[38],[38],[38],[38],[38]],\"hovertemplate\":\"parcel_id=%{customdata[0]}<br>point_id=10128<br>date=%{x}<br>value=%{y}<extra></extra>\",\"legendgroup\":\"38\",\"line\":{\"color\":\"#FECB52\",\"dash\":\"solid\",\"width\":0.7},\"marker\":{\"symbol\":\"circle\"},\"mode\":\"lines\",\"name\":\"38\",\"showlegend\":true,\"type\":\"scattergl\",\"x\":[\"2021-06-01T00:00:00\",\"2021-06-11T00:00:00\",\"2021-06-21T00:00:00\",\"2021-07-01T00:00:00\",\"2021-07-11T00:00:00\",\"2021-07-21T00:00:00\",\"2021-07-31T00:00:00\",\"2021-08-10T00:00:00\",\"2021-08-20T00:00:00\",\"2021-08-30T00:00:00\",\"2021-09-09T00:00:00\",\"2021-09-19T00:00:00\",\"2021-09-29T00:00:00\",\"2021-10-09T00:00:00\",\"2021-10-19T00:00:00\",\"2021-10-29T00:00:00\",\"2021-11-08T00:00:00\"],\"xaxis\":\"x\",\"y\":[null,0.1,0.102,0.104,0.108,0.186,0.189,0.311,0.414,0.52,0.677,0.611,0.562,0.512,0.416,0.358,0.319],\"yaxis\":\"y\"},{\"customdata\":[[38],[38],[38],[38],[38],[38],[38],[38],[38],[38],[38],[38],[38],[38],[38],[38],[38]],\"hovertemplate\":\"parcel_id=%{customdata[0]}<br>point_id=10174<br>date=%{x}<br>value=%{y}<extra></extra>\",\"legendgroup\":\"38\",\"line\":{\"color\":\"#FECB52\",\"dash\":\"solid\",\"width\":0.7},\"marker\":{\"symbol\":\"circle\"},\"mode\":\"lines\",\"name\":\"38\",\"showlegend\":false,\"type\":\"scattergl\",\"x\":[\"2021-06-01T00:00:00\",\"2021-06-11T00:00:00\",\"2021-06-21T00:00:00\",\"2021-07-01T00:00:00\",\"2021-07-11T00:00:00\",\"2021-07-21T00:00:00\",\"2021-07-31T00:00:00\",\"2021-08-10T00:00:00\",\"2021-08-20T00:00:00\",\"2021-08-30T00:00:00\",\"2021-09-09T00:00:00\",\"2021-09-19T00:00:00\",\"2021-09-29T00:00:00\",\"2021-10-09T00:00:00\",\"2021-10-19T00:00:00\",\"2021-10-29T00:00:00\",\"2021-11-08T00:00:00\"],\"xaxis\":\"x\",\"y\":[null,0.102,0.098,0.099,0.141,0.174,0.176,0.332,0.424,0.498,0.578,0.542,0.512,0.487,0.423,0.38,0.35],\"yaxis\":\"y\"},{\"customdata\":[[38],[38],[38],[38],[38],[38],[38],[38],[38],[38],[38],[38],[38],[38],[38],[38],[38]],\"hovertemplate\":\"parcel_id=%{customdata[0]}<br>point_id=10113<br>date=%{x}<br>value=%{y}<extra></extra>\",\"legendgroup\":\"38\",\"line\":{\"color\":\"#FECB52\",\"dash\":\"solid\",\"width\":0.7},\"marker\":{\"symbol\":\"circle\"},\"mode\":\"lines\",\"name\":\"38\",\"showlegend\":false,\"type\":\"scattergl\",\"x\":[\"2021-06-01T00:00:00\",\"2021-06-11T00:00:00\",\"2021-06-21T00:00:00\",\"2021-07-01T00:00:00\",\"2021-07-11T00:00:00\",\"2021-07-21T00:00:00\",\"2021-07-31T00:00:00\",\"2021-08-10T00:00:00\",\"2021-08-20T00:00:00\",\"2021-08-30T00:00:00\",\"2021-09-09T00:00:00\",\"2021-09-19T00:00:00\",\"2021-09-29T00:00:00\",\"2021-10-09T00:00:00\",\"2021-10-19T00:00:00\",\"2021-10-29T00:00:00\",\"2021-11-08T00:00:00\"],\"xaxis\":\"x\",\"y\":[null,0.108,0.104,0.125,0.169,0.248,0.325,0.508,0.564,0.587,0.659,0.568,0.532,0.499,0.408,0.343,0.3],\"yaxis\":\"y\"},{\"customdata\":[[38],[38],[38],[38],[38],[38],[38],[38],[38],[38],[38],[38],[38],[38],[38],[38],[38]],\"hovertemplate\":\"parcel_id=%{customdata[0]}<br>point_id=10161<br>date=%{x}<br>value=%{y}<extra></extra>\",\"legendgroup\":\"38\",\"line\":{\"color\":\"#FECB52\",\"dash\":\"solid\",\"width\":0.7},\"marker\":{\"symbol\":\"circle\"},\"mode\":\"lines\",\"name\":\"38\",\"showlegend\":false,\"type\":\"scattergl\",\"x\":[\"2021-06-01T00:00:00\",\"2021-06-11T00:00:00\",\"2021-06-21T00:00:00\",\"2021-07-01T00:00:00\",\"2021-07-11T00:00:00\",\"2021-07-21T00:00:00\",\"2021-07-31T00:00:00\",\"2021-08-10T00:00:00\",\"2021-08-20T00:00:00\",\"2021-08-30T00:00:00\",\"2021-09-09T00:00:00\",\"2021-09-19T00:00:00\",\"2021-09-29T00:00:00\",\"2021-10-09T00:00:00\",\"2021-10-19T00:00:00\",\"2021-10-29T00:00:00\",\"2021-11-08T00:00:00\"],\"xaxis\":\"x\",\"y\":[null,0.098,0.101,0.11,0.151,0.179,0.182,0.29,0.379,0.471,0.575,0.54,0.497,0.431,0.357,0.293,0.253],\"yaxis\":\"y\"},{\"customdata\":[[38],[38],[38],[38],[38],[38],[38],[38],[38],[38],[38],[38],[38],[38],[38],[38],[38]],\"hovertemplate\":\"parcel_id=%{customdata[0]}<br>point_id=10141<br>date=%{x}<br>value=%{y}<extra></extra>\",\"legendgroup\":\"38\",\"line\":{\"color\":\"#FECB52\",\"dash\":\"solid\",\"width\":0.7},\"marker\":{\"symbol\":\"circle\"},\"mode\":\"lines\",\"name\":\"38\",\"showlegend\":false,\"type\":\"scattergl\",\"x\":[\"2021-06-01T00:00:00\",\"2021-06-11T00:00:00\",\"2021-06-21T00:00:00\",\"2021-07-01T00:00:00\",\"2021-07-11T00:00:00\",\"2021-07-21T00:00:00\",\"2021-07-31T00:00:00\",\"2021-08-10T00:00:00\",\"2021-08-20T00:00:00\",\"2021-08-30T00:00:00\",\"2021-09-09T00:00:00\",\"2021-09-19T00:00:00\",\"2021-09-29T00:00:00\",\"2021-10-09T00:00:00\",\"2021-10-19T00:00:00\",\"2021-10-29T00:00:00\",\"2021-11-08T00:00:00\"],\"xaxis\":\"x\",\"y\":[null,0.103,0.104,0.103,0.152,0.197,0.217,0.395,0.478,0.536,0.626,0.571,0.519,0.457,0.399,0.343,0.303],\"yaxis\":\"y\"},{\"customdata\":[[38],[38],[38],[38],[38],[38],[38],[38],[38],[38],[38],[38],[38],[38],[38],[38],[38]],\"hovertemplate\":\"parcel_id=%{customdata[0]}<br>point_id=10172<br>date=%{x}<br>value=%{y}<extra></extra>\",\"legendgroup\":\"38\",\"line\":{\"color\":\"#FECB52\",\"dash\":\"solid\",\"width\":0.7},\"marker\":{\"symbol\":\"circle\"},\"mode\":\"lines\",\"name\":\"38\",\"showlegend\":false,\"type\":\"scattergl\",\"x\":[\"2021-06-01T00:00:00\",\"2021-06-11T00:00:00\",\"2021-06-21T00:00:00\",\"2021-07-01T00:00:00\",\"2021-07-11T00:00:00\",\"2021-07-21T00:00:00\",\"2021-07-31T00:00:00\",\"2021-08-10T00:00:00\",\"2021-08-20T00:00:00\",\"2021-08-30T00:00:00\",\"2021-09-09T00:00:00\",\"2021-09-19T00:00:00\",\"2021-09-29T00:00:00\",\"2021-10-09T00:00:00\",\"2021-10-19T00:00:00\",\"2021-10-29T00:00:00\",\"2021-11-08T00:00:00\"],\"xaxis\":\"x\",\"y\":[null,0.098,0.094,0.103,0.137,0.175,0.172,0.289,0.378,0.467,0.566,0.535,0.502,0.436,0.37,0.314,0.268],\"yaxis\":\"y\"},{\"customdata\":[[37],[37],[37],[37],[37],[37],[37],[37],[37],[37],[37],[37],[37],[37],[37],[37],[37]],\"hovertemplate\":\"parcel_id=%{customdata[0]}<br>point_id=10635<br>date=%{x}<br>value=%{y}<extra></extra>\",\"legendgroup\":\"37\",\"line\":{\"color\":\"#636efa\",\"dash\":\"solid\",\"width\":0.7},\"marker\":{\"symbol\":\"circle\"},\"mode\":\"lines\",\"name\":\"37\",\"showlegend\":true,\"type\":\"scattergl\",\"x\":[\"2021-06-01T00:00:00\",\"2021-06-11T00:00:00\",\"2021-06-21T00:00:00\",\"2021-07-01T00:00:00\",\"2021-07-11T00:00:00\",\"2021-07-21T00:00:00\",\"2021-07-31T00:00:00\",\"2021-08-10T00:00:00\",\"2021-08-20T00:00:00\",\"2021-08-30T00:00:00\",\"2021-09-09T00:00:00\",\"2021-09-19T00:00:00\",\"2021-09-29T00:00:00\",\"2021-10-09T00:00:00\",\"2021-10-19T00:00:00\",\"2021-10-29T00:00:00\",\"2021-11-08T00:00:00\"],\"xaxis\":\"x\",\"y\":[null,0.095,0.098,0.122,0.137,0.17,null,null,null,null,null,null,0.609,0.55,0.432,0.351,0.293],\"yaxis\":\"y\"},{\"customdata\":[[37],[37],[37],[37],[37],[37],[37],[37],[37],[37],[37],[37],[37],[37],[37],[37],[37]],\"hovertemplate\":\"parcel_id=%{customdata[0]}<br>point_id=10645<br>date=%{x}<br>value=%{y}<extra></extra>\",\"legendgroup\":\"37\",\"line\":{\"color\":\"#636efa\",\"dash\":\"solid\",\"width\":0.7},\"marker\":{\"symbol\":\"circle\"},\"mode\":\"lines\",\"name\":\"37\",\"showlegend\":false,\"type\":\"scattergl\",\"x\":[\"2021-06-01T00:00:00\",\"2021-06-11T00:00:00\",\"2021-06-21T00:00:00\",\"2021-07-01T00:00:00\",\"2021-07-11T00:00:00\",\"2021-07-21T00:00:00\",\"2021-07-31T00:00:00\",\"2021-08-10T00:00:00\",\"2021-08-20T00:00:00\",\"2021-08-30T00:00:00\",\"2021-09-09T00:00:00\",\"2021-09-19T00:00:00\",\"2021-09-29T00:00:00\",\"2021-10-09T00:00:00\",\"2021-10-19T00:00:00\",\"2021-10-29T00:00:00\",\"2021-11-08T00:00:00\"],\"xaxis\":\"x\",\"y\":[null,0.117,0.116,0.126,0.151,0.195,null,null,null,null,null,null,0.593,0.529,0.393,0.328,0.291],\"yaxis\":\"y\"},{\"customdata\":[[7],[7],[7],[7],[7],[7],[7],[7],[7],[7],[7],[7],[7],[7],[7],[7],[7]],\"hovertemplate\":\"parcel_id=%{customdata[0]}<br>point_id=10600<br>date=%{x}<br>value=%{y}<extra></extra>\",\"legendgroup\":\"7\",\"line\":{\"color\":\"#EF553B\",\"dash\":\"solid\",\"width\":0.7},\"marker\":{\"symbol\":\"circle\"},\"mode\":\"lines\",\"name\":\"7\",\"showlegend\":true,\"type\":\"scattergl\",\"x\":[\"2021-06-01T00:00:00\",\"2021-06-11T00:00:00\",\"2021-06-21T00:00:00\",\"2021-07-01T00:00:00\",\"2021-07-11T00:00:00\",\"2021-07-21T00:00:00\",\"2021-07-31T00:00:00\",\"2021-08-10T00:00:00\",\"2021-08-20T00:00:00\",\"2021-08-30T00:00:00\",\"2021-09-09T00:00:00\",\"2021-09-19T00:00:00\",\"2021-09-29T00:00:00\",\"2021-10-09T00:00:00\",\"2021-10-19T00:00:00\",\"2021-10-29T00:00:00\",\"2021-11-08T00:00:00\"],\"xaxis\":\"x\",\"y\":[null,0.126,0.117,0.117,0.219,0.197,null,null,null,null,0.509,0.457,0.55,0.637,0.515,0.422,0.354],\"yaxis\":\"y\"},{\"customdata\":[[46],[46],[46],[46],[46],[46],[46],[46],[46],[46],[46],[46],[46],[46],[46],[46],[46]],\"hovertemplate\":\"parcel_id=%{customdata[0]}<br>point_id=10613<br>date=%{x}<br>value=%{y}<extra></extra>\",\"legendgroup\":\"46\",\"line\":{\"color\":\"#00cc96\",\"dash\":\"solid\",\"width\":0.7},\"marker\":{\"symbol\":\"circle\"},\"mode\":\"lines\",\"name\":\"46\",\"showlegend\":true,\"type\":\"scattergl\",\"x\":[\"2021-06-01T00:00:00\",\"2021-06-11T00:00:00\",\"2021-06-21T00:00:00\",\"2021-07-01T00:00:00\",\"2021-07-11T00:00:00\",\"2021-07-21T00:00:00\",\"2021-07-31T00:00:00\",\"2021-08-10T00:00:00\",\"2021-08-20T00:00:00\",\"2021-08-30T00:00:00\",\"2021-09-09T00:00:00\",\"2021-09-19T00:00:00\",\"2021-09-29T00:00:00\",\"2021-10-09T00:00:00\",\"2021-10-19T00:00:00\",\"2021-10-29T00:00:00\",\"2021-11-08T00:00:00\"],\"xaxis\":\"x\",\"y\":[null,0.111,0.12,0.115,0.117,0.192,0.214,0.209,0.282,0.379,0.462,0.505,0.531,0.501,0.404,0.36,0.315],\"yaxis\":\"y\"},{\"customdata\":[[23],[23],[23],[23],[23],[23],[23],[23],[23],[23],[23],[23],[23],[23],[23],[23],[23]],\"hovertemplate\":\"parcel_id=%{customdata[0]}<br>point_id=9859<br>date=%{x}<br>value=%{y}<extra></extra>\",\"legendgroup\":\"23\",\"line\":{\"color\":\"#ab63fa\",\"dash\":\"solid\",\"width\":0.7},\"marker\":{\"symbol\":\"circle\"},\"mode\":\"lines\",\"name\":\"23\",\"showlegend\":true,\"type\":\"scattergl\",\"x\":[\"2021-06-01T00:00:00\",\"2021-06-11T00:00:00\",\"2021-06-21T00:00:00\",\"2021-07-01T00:00:00\",\"2021-07-11T00:00:00\",\"2021-07-21T00:00:00\",\"2021-07-31T00:00:00\",\"2021-08-10T00:00:00\",\"2021-08-20T00:00:00\",\"2021-08-30T00:00:00\",\"2021-09-09T00:00:00\",\"2021-09-19T00:00:00\",\"2021-09-29T00:00:00\",\"2021-10-09T00:00:00\",\"2021-10-19T00:00:00\",\"2021-10-29T00:00:00\",\"2021-11-08T00:00:00\"],\"xaxis\":\"x\",\"y\":[null,0.123,0.141,0.163,0.187,0.231,0.287,0.366,0.476,0.577,0.645,0.669,0.683,0.64,0.548,0.46,0.375],\"yaxis\":\"y\"},{\"customdata\":[[23],[23],[23],[23],[23],[23],[23],[23],[23],[23],[23],[23],[23],[23],[23],[23],[23]],\"hovertemplate\":\"parcel_id=%{customdata[0]}<br>point_id=9843<br>date=%{x}<br>value=%{y}<extra></extra>\",\"legendgroup\":\"23\",\"line\":{\"color\":\"#ab63fa\",\"dash\":\"solid\",\"width\":0.7},\"marker\":{\"symbol\":\"circle\"},\"mode\":\"lines\",\"name\":\"23\",\"showlegend\":false,\"type\":\"scattergl\",\"x\":[\"2021-06-01T00:00:00\",\"2021-06-11T00:00:00\",\"2021-06-21T00:00:00\",\"2021-07-01T00:00:00\",\"2021-07-11T00:00:00\",\"2021-07-21T00:00:00\",\"2021-07-31T00:00:00\",\"2021-08-10T00:00:00\",\"2021-08-20T00:00:00\",\"2021-08-30T00:00:00\",\"2021-09-09T00:00:00\",\"2021-09-19T00:00:00\",\"2021-09-29T00:00:00\",\"2021-10-09T00:00:00\",\"2021-10-19T00:00:00\",\"2021-10-29T00:00:00\",\"2021-11-08T00:00:00\"],\"xaxis\":\"x\",\"y\":[null,0.119,0.137,0.164,0.161,0.227,0.287,0.386,0.503,0.604,0.664,0.668,0.665,0.616,0.519,0.41,0.319],\"yaxis\":\"y\"},{\"customdata\":[[23],[23],[23],[23],[23],[23],[23],[23],[23],[23],[23],[23],[23],[23],[23],[23],[23]],\"hovertemplate\":\"parcel_id=%{customdata[0]}<br>point_id=9810<br>date=%{x}<br>value=%{y}<extra></extra>\",\"legendgroup\":\"23\",\"line\":{\"color\":\"#ab63fa\",\"dash\":\"solid\",\"width\":0.7},\"marker\":{\"symbol\":\"circle\"},\"mode\":\"lines\",\"name\":\"23\",\"showlegend\":false,\"type\":\"scattergl\",\"x\":[\"2021-06-01T00:00:00\",\"2021-06-11T00:00:00\",\"2021-06-21T00:00:00\",\"2021-07-01T00:00:00\",\"2021-07-11T00:00:00\",\"2021-07-21T00:00:00\",\"2021-07-31T00:00:00\",\"2021-08-10T00:00:00\",\"2021-08-20T00:00:00\",\"2021-08-30T00:00:00\",\"2021-09-09T00:00:00\",\"2021-09-19T00:00:00\",\"2021-09-29T00:00:00\",\"2021-10-09T00:00:00\",\"2021-10-19T00:00:00\",\"2021-10-29T00:00:00\",\"2021-11-08T00:00:00\"],\"xaxis\":\"x\",\"y\":[null,0.136,0.147,0.164,0.18,0.233,0.389,0.543,0.614,0.656,0.685,0.699,0.716,0.7,0.565,0.427,0.296],\"yaxis\":\"y\"},{\"customdata\":[[8],[8],[8],[8],[8],[8],[8],[8],[8],[8],[8],[8],[8],[8],[8],[8],[8]],\"hovertemplate\":\"parcel_id=%{customdata[0]}<br>point_id=9752<br>date=%{x}<br>value=%{y}<extra></extra>\",\"legendgroup\":\"8\",\"line\":{\"color\":\"#FFA15A\",\"dash\":\"solid\",\"width\":0.7},\"marker\":{\"symbol\":\"circle\"},\"mode\":\"lines\",\"name\":\"8\",\"showlegend\":true,\"type\":\"scattergl\",\"x\":[\"2021-06-01T00:00:00\",\"2021-06-11T00:00:00\",\"2021-06-21T00:00:00\",\"2021-07-01T00:00:00\",\"2021-07-11T00:00:00\",\"2021-07-21T00:00:00\",\"2021-07-31T00:00:00\",\"2021-08-10T00:00:00\",\"2021-08-20T00:00:00\",\"2021-08-30T00:00:00\",\"2021-09-09T00:00:00\",\"2021-09-19T00:00:00\",\"2021-09-29T00:00:00\",\"2021-10-09T00:00:00\",\"2021-10-19T00:00:00\",\"2021-10-29T00:00:00\",\"2021-11-08T00:00:00\"],\"xaxis\":\"x\",\"y\":[null,0.097,0.099,0.1,0.125,0.168,0.169,0.226,0.364,0.521,0.664,0.665,0.731,null,null,null,null],\"yaxis\":\"y\"},{\"customdata\":[[31],[31],[31],[31],[31],[31],[31],[31],[31],[31],[31],[31],[31],[31],[31],[31],[31]],\"hovertemplate\":\"parcel_id=%{customdata[0]}<br>point_id=734<br>date=%{x}<br>value=%{y}<extra></extra>\",\"legendgroup\":\"31\",\"line\":{\"color\":\"#19d3f3\",\"dash\":\"solid\",\"width\":0.7},\"marker\":{\"symbol\":\"circle\"},\"mode\":\"lines\",\"name\":\"31\",\"showlegend\":true,\"type\":\"scattergl\",\"x\":[\"2021-06-01T00:00:00\",\"2021-06-11T00:00:00\",\"2021-06-21T00:00:00\",\"2021-07-01T00:00:00\",\"2021-07-11T00:00:00\",\"2021-07-21T00:00:00\",\"2021-07-31T00:00:00\",\"2021-08-10T00:00:00\",\"2021-08-20T00:00:00\",\"2021-08-30T00:00:00\",\"2021-09-09T00:00:00\",\"2021-09-19T00:00:00\",\"2021-09-29T00:00:00\",\"2021-10-09T00:00:00\",\"2021-10-19T00:00:00\",\"2021-10-29T00:00:00\",\"2021-11-08T00:00:00\"],\"xaxis\":\"x\",\"y\":[null,0.084,0.085,0.091,0.082,0.105,0.145,0.196,0.331,0.495,0.552,0.607,0.631,0.592,0.512,0.425,0.365],\"yaxis\":\"y\"},{\"customdata\":[[26],[26],[26],[26],[26],[26],[26],[26],[26],[26],[26],[26],[26],[26],[26],[26],[26]],\"hovertemplate\":\"parcel_id=%{customdata[0]}<br>point_id=10380<br>date=%{x}<br>value=%{y}<extra></extra>\",\"legendgroup\":\"26\",\"line\":{\"color\":\"#FF6692\",\"dash\":\"solid\",\"width\":0.7},\"marker\":{\"symbol\":\"circle\"},\"mode\":\"lines\",\"name\":\"26\",\"showlegend\":true,\"type\":\"scattergl\",\"x\":[\"2021-06-01T00:00:00\",\"2021-06-11T00:00:00\",\"2021-06-21T00:00:00\",\"2021-07-01T00:00:00\",\"2021-07-11T00:00:00\",\"2021-07-21T00:00:00\",\"2021-07-31T00:00:00\",\"2021-08-10T00:00:00\",\"2021-08-20T00:00:00\",\"2021-08-30T00:00:00\",\"2021-09-09T00:00:00\",\"2021-09-19T00:00:00\",\"2021-09-29T00:00:00\",\"2021-10-09T00:00:00\",\"2021-10-19T00:00:00\",\"2021-10-29T00:00:00\",\"2021-11-08T00:00:00\"],\"xaxis\":\"x\",\"y\":[null,0.125,0.118,0.123,0.155,0.162,0.179,0.236,0.367,0.527,0.702,0.688,0.675,0.612,0.49,0.412,0.333],\"yaxis\":\"y\"},{\"line\":{\"color\":\"black\",\"width\":4},\"mode\":\"lines\",\"name\":\"mean\",\"showlegend\":true,\"type\":\"scatter\",\"x\":[\"2021-06-01T00:00:00\",\"2021-06-11T00:00:00\",\"2021-06-21T00:00:00\",\"2021-07-01T00:00:00\",\"2021-07-11T00:00:00\",\"2021-07-21T00:00:00\",\"2021-07-31T00:00:00\",\"2021-08-10T00:00:00\",\"2021-08-20T00:00:00\",\"2021-08-30T00:00:00\",\"2021-09-09T00:00:00\",\"2021-09-19T00:00:00\",\"2021-09-29T00:00:00\",\"2021-10-09T00:00:00\",\"2021-10-19T00:00:00\",\"2021-10-29T00:00:00\",\"2021-11-08T00:00:00\"],\"y\":[0.11543650793650798,0.10227798607391543,0.10256882699517952,0.11728602035350798,0.14822228173540417,0.20280396357793273,0.23130769230769233,0.3012894891368176,0.39715760495526437,0.499423262216105,0.5922628797886396,0.600391644908616,0.6129860739153727,0.5857289416846648,0.4905809935205183,0.4200658747300221,0.35208585313175]}],                        {\"legend\":{\"title\":{\"text\":\"parcel_id\"},\"tracegroupgap\":0},\"template\":{\"data\":{\"bar\":[{\"error_x\":{\"color\":\"#2a3f5f\"},\"error_y\":{\"color\":\"#2a3f5f\"},\"marker\":{\"line\":{\"color\":\"#E5ECF6\",\"width\":0.5},\"pattern\":{\"fillmode\":\"overlay\",\"size\":10,\"solidity\":0.2}},\"type\":\"bar\"}],\"barpolar\":[{\"marker\":{\"line\":{\"color\":\"#E5ECF6\",\"width\":0.5},\"pattern\":{\"fillmode\":\"overlay\",\"size\":10,\"solidity\":0.2}},\"type\":\"barpolar\"}],\"carpet\":[{\"aaxis\":{\"endlinecolor\":\"#2a3f5f\",\"gridcolor\":\"white\",\"linecolor\":\"white\",\"minorgridcolor\":\"white\",\"startlinecolor\":\"#2a3f5f\"},\"baxis\":{\"endlinecolor\":\"#2a3f5f\",\"gridcolor\":\"white\",\"linecolor\":\"white\",\"minorgridcolor\":\"white\",\"startlinecolor\":\"#2a3f5f\"},\"type\":\"carpet\"}],\"choropleth\":[{\"colorbar\":{\"outlinewidth\":0,\"ticks\":\"\"},\"type\":\"choropleth\"}],\"contour\":[{\"colorbar\":{\"outlinewidth\":0,\"ticks\":\"\"},\"colorscale\":[[0.0,\"#0d0887\"],[0.1111111111111111,\"#46039f\"],[0.2222222222222222,\"#7201a8\"],[0.3333333333333333,\"#9c179e\"],[0.4444444444444444,\"#bd3786\"],[0.5555555555555556,\"#d8576b\"],[0.6666666666666666,\"#ed7953\"],[0.7777777777777778,\"#fb9f3a\"],[0.8888888888888888,\"#fdca26\"],[1.0,\"#f0f921\"]],\"type\":\"contour\"}],\"contourcarpet\":[{\"colorbar\":{\"outlinewidth\":0,\"ticks\":\"\"},\"type\":\"contourcarpet\"}],\"heatmap\":[{\"colorbar\":{\"outlinewidth\":0,\"ticks\":\"\"},\"colorscale\":[[0.0,\"#0d0887\"],[0.1111111111111111,\"#46039f\"],[0.2222222222222222,\"#7201a8\"],[0.3333333333333333,\"#9c179e\"],[0.4444444444444444,\"#bd3786\"],[0.5555555555555556,\"#d8576b\"],[0.6666666666666666,\"#ed7953\"],[0.7777777777777778,\"#fb9f3a\"],[0.8888888888888888,\"#fdca26\"],[1.0,\"#f0f921\"]],\"type\":\"heatmap\"}],\"heatmapgl\":[{\"colorbar\":{\"outlinewidth\":0,\"ticks\":\"\"},\"colorscale\":[[0.0,\"#0d0887\"],[0.1111111111111111,\"#46039f\"],[0.2222222222222222,\"#7201a8\"],[0.3333333333333333,\"#9c179e\"],[0.4444444444444444,\"#bd3786\"],[0.5555555555555556,\"#d8576b\"],[0.6666666666666666,\"#ed7953\"],[0.7777777777777778,\"#fb9f3a\"],[0.8888888888888888,\"#fdca26\"],[1.0,\"#f0f921\"]],\"type\":\"heatmapgl\"}],\"histogram\":[{\"marker\":{\"pattern\":{\"fillmode\":\"overlay\",\"size\":10,\"solidity\":0.2}},\"type\":\"histogram\"}],\"histogram2d\":[{\"colorbar\":{\"outlinewidth\":0,\"ticks\":\"\"},\"colorscale\":[[0.0,\"#0d0887\"],[0.1111111111111111,\"#46039f\"],[0.2222222222222222,\"#7201a8\"],[0.3333333333333333,\"#9c179e\"],[0.4444444444444444,\"#bd3786\"],[0.5555555555555556,\"#d8576b\"],[0.6666666666666666,\"#ed7953\"],[0.7777777777777778,\"#fb9f3a\"],[0.8888888888888888,\"#fdca26\"],[1.0,\"#f0f921\"]],\"type\":\"histogram2d\"}],\"histogram2dcontour\":[{\"colorbar\":{\"outlinewidth\":0,\"ticks\":\"\"},\"colorscale\":[[0.0,\"#0d0887\"],[0.1111111111111111,\"#46039f\"],[0.2222222222222222,\"#7201a8\"],[0.3333333333333333,\"#9c179e\"],[0.4444444444444444,\"#bd3786\"],[0.5555555555555556,\"#d8576b\"],[0.6666666666666666,\"#ed7953\"],[0.7777777777777778,\"#fb9f3a\"],[0.8888888888888888,\"#fdca26\"],[1.0,\"#f0f921\"]],\"type\":\"histogram2dcontour\"}],\"mesh3d\":[{\"colorbar\":{\"outlinewidth\":0,\"ticks\":\"\"},\"type\":\"mesh3d\"}],\"parcoords\":[{\"line\":{\"colorbar\":{\"outlinewidth\":0,\"ticks\":\"\"}},\"type\":\"parcoords\"}],\"pie\":[{\"automargin\":true,\"type\":\"pie\"}],\"scatter\":[{\"marker\":{\"colorbar\":{\"outlinewidth\":0,\"ticks\":\"\"}},\"type\":\"scatter\"}],\"scatter3d\":[{\"line\":{\"colorbar\":{\"outlinewidth\":0,\"ticks\":\"\"}},\"marker\":{\"colorbar\":{\"outlinewidth\":0,\"ticks\":\"\"}},\"type\":\"scatter3d\"}],\"scattercarpet\":[{\"marker\":{\"colorbar\":{\"outlinewidth\":0,\"ticks\":\"\"}},\"type\":\"scattercarpet\"}],\"scattergeo\":[{\"marker\":{\"colorbar\":{\"outlinewidth\":0,\"ticks\":\"\"}},\"type\":\"scattergeo\"}],\"scattergl\":[{\"marker\":{\"colorbar\":{\"outlinewidth\":0,\"ticks\":\"\"}},\"type\":\"scattergl\"}],\"scattermapbox\":[{\"marker\":{\"colorbar\":{\"outlinewidth\":0,\"ticks\":\"\"}},\"type\":\"scattermapbox\"}],\"scatterpolar\":[{\"marker\":{\"colorbar\":{\"outlinewidth\":0,\"ticks\":\"\"}},\"type\":\"scatterpolar\"}],\"scatterpolargl\":[{\"marker\":{\"colorbar\":{\"outlinewidth\":0,\"ticks\":\"\"}},\"type\":\"scatterpolargl\"}],\"scatterternary\":[{\"marker\":{\"colorbar\":{\"outlinewidth\":0,\"ticks\":\"\"}},\"type\":\"scatterternary\"}],\"surface\":[{\"colorbar\":{\"outlinewidth\":0,\"ticks\":\"\"},\"colorscale\":[[0.0,\"#0d0887\"],[0.1111111111111111,\"#46039f\"],[0.2222222222222222,\"#7201a8\"],[0.3333333333333333,\"#9c179e\"],[0.4444444444444444,\"#bd3786\"],[0.5555555555555556,\"#d8576b\"],[0.6666666666666666,\"#ed7953\"],[0.7777777777777778,\"#fb9f3a\"],[0.8888888888888888,\"#fdca26\"],[1.0,\"#f0f921\"]],\"type\":\"surface\"}],\"table\":[{\"cells\":{\"fill\":{\"color\":\"#EBF0F8\"},\"line\":{\"color\":\"white\"}},\"header\":{\"fill\":{\"color\":\"#C8D4E3\"},\"line\":{\"color\":\"white\"}},\"type\":\"table\"}]},\"layout\":{\"annotationdefaults\":{\"arrowcolor\":\"#2a3f5f\",\"arrowhead\":0,\"arrowwidth\":1},\"autotypenumbers\":\"strict\",\"coloraxis\":{\"colorbar\":{\"outlinewidth\":0,\"ticks\":\"\"}},\"colorscale\":{\"diverging\":[[0,\"#8e0152\"],[0.1,\"#c51b7d\"],[0.2,\"#de77ae\"],[0.3,\"#f1b6da\"],[0.4,\"#fde0ef\"],[0.5,\"#f7f7f7\"],[0.6,\"#e6f5d0\"],[0.7,\"#b8e186\"],[0.8,\"#7fbc41\"],[0.9,\"#4d9221\"],[1,\"#276419\"]],\"sequential\":[[0.0,\"#0d0887\"],[0.1111111111111111,\"#46039f\"],[0.2222222222222222,\"#7201a8\"],[0.3333333333333333,\"#9c179e\"],[0.4444444444444444,\"#bd3786\"],[0.5555555555555556,\"#d8576b\"],[0.6666666666666666,\"#ed7953\"],[0.7777777777777778,\"#fb9f3a\"],[0.8888888888888888,\"#fdca26\"],[1.0,\"#f0f921\"]],\"sequentialminus\":[[0.0,\"#0d0887\"],[0.1111111111111111,\"#46039f\"],[0.2222222222222222,\"#7201a8\"],[0.3333333333333333,\"#9c179e\"],[0.4444444444444444,\"#bd3786\"],[0.5555555555555556,\"#d8576b\"],[0.6666666666666666,\"#ed7953\"],[0.7777777777777778,\"#fb9f3a\"],[0.8888888888888888,\"#fdca26\"],[1.0,\"#f0f921\"]]},\"colorway\":[\"#636efa\",\"#EF553B\",\"#00cc96\",\"#ab63fa\",\"#FFA15A\",\"#19d3f3\",\"#FF6692\",\"#B6E880\",\"#FF97FF\",\"#FECB52\"],\"font\":{\"color\":\"#2a3f5f\"},\"geo\":{\"bgcolor\":\"white\",\"lakecolor\":\"white\",\"landcolor\":\"#E5ECF6\",\"showlakes\":true,\"showland\":true,\"subunitcolor\":\"white\"},\"hoverlabel\":{\"align\":\"left\"},\"hovermode\":\"closest\",\"mapbox\":{\"style\":\"light\"},\"paper_bgcolor\":\"white\",\"plot_bgcolor\":\"#E5ECF6\",\"polar\":{\"angularaxis\":{\"gridcolor\":\"white\",\"linecolor\":\"white\",\"ticks\":\"\"},\"bgcolor\":\"#E5ECF6\",\"radialaxis\":{\"gridcolor\":\"white\",\"linecolor\":\"white\",\"ticks\":\"\"}},\"scene\":{\"xaxis\":{\"backgroundcolor\":\"#E5ECF6\",\"gridcolor\":\"white\",\"gridwidth\":2,\"linecolor\":\"white\",\"showbackground\":true,\"ticks\":\"\",\"zerolinecolor\":\"white\"},\"yaxis\":{\"backgroundcolor\":\"#E5ECF6\",\"gridcolor\":\"white\",\"gridwidth\":2,\"linecolor\":\"white\",\"showbackground\":true,\"ticks\":\"\",\"zerolinecolor\":\"white\"},\"zaxis\":{\"backgroundcolor\":\"#E5ECF6\",\"gridcolor\":\"white\",\"gridwidth\":2,\"linecolor\":\"white\",\"showbackground\":true,\"ticks\":\"\",\"zerolinecolor\":\"white\"}},\"shapedefaults\":{\"line\":{\"color\":\"#2a3f5f\"}},\"ternary\":{\"aaxis\":{\"gridcolor\":\"white\",\"linecolor\":\"white\",\"ticks\":\"\"},\"baxis\":{\"gridcolor\":\"white\",\"linecolor\":\"white\",\"ticks\":\"\"},\"bgcolor\":\"#E5ECF6\",\"caxis\":{\"gridcolor\":\"white\",\"linecolor\":\"white\",\"ticks\":\"\"}},\"title\":{\"x\":0.05},\"xaxis\":{\"automargin\":true,\"gridcolor\":\"white\",\"linecolor\":\"white\",\"ticks\":\"\",\"title\":{\"standoff\":15},\"zerolinecolor\":\"white\",\"zerolinewidth\":2},\"yaxis\":{\"automargin\":true,\"gridcolor\":\"white\",\"linecolor\":\"white\",\"ticks\":\"\",\"title\":{\"standoff\":15},\"zerolinecolor\":\"white\",\"zerolinewidth\":2}}},\"title\":{\"text\":\"NDVI profile of Maize - SITE 41\"},\"xaxis\":{\"anchor\":\"y\",\"domain\":[0.0,1.0],\"title\":{\"text\":\"date\"}},\"yaxis\":{\"anchor\":\"x\",\"domain\":[0.0,1.0],\"title\":{\"text\":\"value\"}}},                        {\"responsive\": true}                    ).then(function(){\n",
       "                            \n",
       "var gd = document.getElementById('b6e57440-2350-4d62-8387-aa48837461a8');\n",
       "var x = new MutationObserver(function (mutations, observer) {{\n",
       "        var display = window.getComputedStyle(gd).display;\n",
       "        if (!display || display === 'none') {{\n",
       "            console.log([gd, 'removed!']);\n",
       "            Plotly.purge(gd);\n",
       "            observer.disconnect();\n",
       "        }}\n",
       "}});\n",
       "\n",
       "// Listen for the removal of the full notebook cells\n",
       "var notebookContainer = gd.closest('#notebook-container');\n",
       "if (notebookContainer) {{\n",
       "    x.observe(notebookContainer, {childList: true});\n",
       "}}\n",
       "\n",
       "// Listen for the clearing of the current output cell\n",
       "var outputEl = gd.closest('.output');\n",
       "if (outputEl) {{\n",
       "    x.observe(outputEl, {childList: true});\n",
       "}}\n",
       "\n",
       "                        })                };                });            </script>        </div>"
      ]
     },
     "metadata": {},
     "output_type": "display_data"
    }
   ],
   "source": [
    "import plotly.graph_objects as go\n",
    "\n",
    "fig = px.line(df,\n",
    "                x='date',\n",
    "                y='value',\n",
    "                color='parcel_id',\n",
    "                line_group='point_id',\n",
    "                hover_data=['parcel_id'],\n",
    "                title= graph_title)\n",
    "\n",
    "fig.update_traces(line=dict(width=0.7))\n",
    "\n",
    "fig.add_trace(go.Scatter(x=df_mean_1['date'],\n",
    "                        y=df_mean_1['value'],\n",
    "                        mode='lines',\n",
    "                        name='mean',\n",
    "                        #line=go.scatter.Line(color=\"black\"),\n",
    "                        line=dict(color='black', width=4),\n",
    "                        showlegend=True))\n",
    "\n",
    "\n",
    "fig.show()\n",
    "\n",
    "#fig.write_html(graph_file)"
   ]
  },
  {
   "cell_type": "code",
   "execution_count": 44,
   "metadata": {},
   "outputs": [
    {
     "data": {
      "text/html": [
       "<div>\n",
       "<style scoped>\n",
       "    .dataframe tbody tr th:only-of-type {\n",
       "        vertical-align: middle;\n",
       "    }\n",
       "\n",
       "    .dataframe tbody tr th {\n",
       "        vertical-align: top;\n",
       "    }\n",
       "\n",
       "    .dataframe thead th {\n",
       "        text-align: right;\n",
       "    }\n",
       "</style>\n",
       "<table border=\"1\" class=\"dataframe\">\n",
       "  <thead>\n",
       "    <tr style=\"text-align: right;\">\n",
       "      <th></th>\n",
       "      <th>date</th>\n",
       "      <th>point_id</th>\n",
       "      <th>value</th>\n",
       "      <th>parcel_id</th>\n",
       "    </tr>\n",
       "  </thead>\n",
       "  <tbody>\n",
       "    <tr>\n",
       "      <th>0</th>\n",
       "      <td>2021-06-01</td>\n",
       "      <td>10413</td>\n",
       "      <td>NaN</td>\n",
       "      <td>32</td>\n",
       "    </tr>\n",
       "    <tr>\n",
       "      <th>1</th>\n",
       "      <td>2021-06-11</td>\n",
       "      <td>10413</td>\n",
       "      <td>0.084</td>\n",
       "      <td>32</td>\n",
       "    </tr>\n",
       "    <tr>\n",
       "      <th>2</th>\n",
       "      <td>2021-06-21</td>\n",
       "      <td>10413</td>\n",
       "      <td>0.090</td>\n",
       "      <td>32</td>\n",
       "    </tr>\n",
       "    <tr>\n",
       "      <th>3</th>\n",
       "      <td>2021-07-01</td>\n",
       "      <td>10413</td>\n",
       "      <td>0.080</td>\n",
       "      <td>32</td>\n",
       "    </tr>\n",
       "    <tr>\n",
       "      <th>4</th>\n",
       "      <td>2021-07-11</td>\n",
       "      <td>10413</td>\n",
       "      <td>0.124</td>\n",
       "      <td>32</td>\n",
       "    </tr>\n",
       "    <tr>\n",
       "      <th>...</th>\n",
       "      <td>...</td>\n",
       "      <td>...</td>\n",
       "      <td>...</td>\n",
       "      <td>...</td>\n",
       "    </tr>\n",
       "    <tr>\n",
       "      <th>1695</th>\n",
       "      <td>2021-09-29</td>\n",
       "      <td>10172</td>\n",
       "      <td>0.502</td>\n",
       "      <td>38</td>\n",
       "    </tr>\n",
       "    <tr>\n",
       "      <th>1696</th>\n",
       "      <td>2021-10-09</td>\n",
       "      <td>10172</td>\n",
       "      <td>0.436</td>\n",
       "      <td>38</td>\n",
       "    </tr>\n",
       "    <tr>\n",
       "      <th>1697</th>\n",
       "      <td>2021-10-19</td>\n",
       "      <td>10172</td>\n",
       "      <td>0.370</td>\n",
       "      <td>38</td>\n",
       "    </tr>\n",
       "    <tr>\n",
       "      <th>1698</th>\n",
       "      <td>2021-10-29</td>\n",
       "      <td>10172</td>\n",
       "      <td>0.314</td>\n",
       "      <td>38</td>\n",
       "    </tr>\n",
       "    <tr>\n",
       "      <th>1699</th>\n",
       "      <td>2021-11-08</td>\n",
       "      <td>10172</td>\n",
       "      <td>0.268</td>\n",
       "      <td>38</td>\n",
       "    </tr>\n",
       "  </tbody>\n",
       "</table>\n",
       "<p>1700 rows × 4 columns</p>\n",
       "</div>"
      ],
      "text/plain": [
       "           date point_id  value  parcel_id\n",
       "0    2021-06-01    10413    NaN         32\n",
       "1    2021-06-11    10413  0.084         32\n",
       "2    2021-06-21    10413  0.090         32\n",
       "3    2021-07-01    10413  0.080         32\n",
       "4    2021-07-11    10413  0.124         32\n",
       "...         ...      ...    ...        ...\n",
       "1695 2021-09-29    10172  0.502         38\n",
       "1696 2021-10-09    10172  0.436         38\n",
       "1697 2021-10-19    10172  0.370         38\n",
       "1698 2021-10-29    10172  0.314         38\n",
       "1699 2021-11-08    10172  0.268         38\n",
       "\n",
       "[1700 rows x 4 columns]"
      ]
     },
     "metadata": {},
     "output_type": "display_data"
    },
    {
     "ename": "ValueError",
     "evalue": "The first argument to the plotly.graph_objs.Scatter \nconstructor must be a dict or \nan instance of :class:`plotly.graph_objs.Scatter`",
     "output_type": "error",
     "traceback": [
      "\u001b[0;31m---------------------------------------------------------------------------\u001b[0m",
      "\u001b[0;31mValueError\u001b[0m                                Traceback (most recent call last)",
      "\u001b[0;32m<ipython-input-44-4086c8498dee>\u001b[0m in \u001b[0;36m<module>\u001b[0;34m\u001b[0m\n\u001b[1;32m      9\u001b[0m                         \u001b[0mmode\u001b[0m\u001b[0;34m=\u001b[0m\u001b[0;34m'markers'\u001b[0m\u001b[0;34m,\u001b[0m\u001b[0;34m\u001b[0m\u001b[0;34m\u001b[0m\u001b[0m\n\u001b[1;32m     10\u001b[0m                         \u001b[0;31m#line=go.scatter.Line(color=\"black\"),\u001b[0m\u001b[0;34m\u001b[0m\u001b[0;34m\u001b[0m\u001b[0;34m\u001b[0m\u001b[0m\n\u001b[0;32m---> 11\u001b[0;31m                         line=dict(width=0.7)))\n\u001b[0m\u001b[1;32m     12\u001b[0m \u001b[0;34m\u001b[0m\u001b[0m\n\u001b[1;32m     13\u001b[0m \u001b[0;34m\u001b[0m\u001b[0m\n",
      "\u001b[0;32m~/.local/lib/python3.6/site-packages/plotly/graph_objs/_scatter.py\u001b[0m in \u001b[0;36m__init__\u001b[0;34m(self, arg, cliponaxis, connectgaps, customdata, customdatasrc, dx, dy, error_x, error_y, fill, fillcolor, groupnorm, hoverinfo, hoverinfosrc, hoverlabel, hoveron, hovertemplate, hovertemplatesrc, hovertext, hovertextsrc, ids, idssrc, legendgroup, legendgrouptitle, legendrank, line, marker, meta, metasrc, mode, name, opacity, orientation, selected, selectedpoints, showlegend, stackgaps, stackgroup, stream, text, textfont, textposition, textpositionsrc, textsrc, texttemplate, texttemplatesrc, uid, uirevision, unselected, visible, x, x0, xaxis, xcalendar, xhoverformat, xperiod, xperiod0, xperiodalignment, xsrc, y, y0, yaxis, ycalendar, yhoverformat, yperiod, yperiod0, yperiodalignment, ysrc, **kwargs)\u001b[0m\n\u001b[1;32m   2997\u001b[0m \u001b[0mThe\u001b[0m \u001b[0mfirst\u001b[0m \u001b[0margument\u001b[0m \u001b[0mto\u001b[0m \u001b[0mthe\u001b[0m \u001b[0mplotly\u001b[0m\u001b[0;34m.\u001b[0m\u001b[0mgraph_objs\u001b[0m\u001b[0;34m.\u001b[0m\u001b[0mScatter\u001b[0m\u001b[0;34m\u001b[0m\u001b[0;34m\u001b[0m\u001b[0m\n\u001b[1;32m   2998\u001b[0m \u001b[0mconstructor\u001b[0m \u001b[0mmust\u001b[0m \u001b[0mbe\u001b[0m \u001b[0ma\u001b[0m \u001b[0mdict\u001b[0m \u001b[0;32mor\u001b[0m\u001b[0;34m\u001b[0m\u001b[0;34m\u001b[0m\u001b[0m\n\u001b[0;32m-> 2999\u001b[0;31m an instance of :class:`plotly.graph_objs.Scatter`\"\"\"\n\u001b[0m\u001b[1;32m   3000\u001b[0m             )\n\u001b[1;32m   3001\u001b[0m \u001b[0;34m\u001b[0m\u001b[0m\n",
      "\u001b[0;31mValueError\u001b[0m: The first argument to the plotly.graph_objs.Scatter \nconstructor must be a dict or \nan instance of :class:`plotly.graph_objs.Scatter`"
     ]
    }
   ],
   "source": [
    "fig = go.Figure()\n",
    "\n",
    "display(df)\n",
    "\n",
    "fig.add_trace(go.Scatter(df,\n",
    "                        x='date',\n",
    "                        y='value',\n",
    "                        color='parcel_id',\n",
    "                        mode='markers',\n",
    "                        #line=go.scatter.Line(color=\"black\"),\n",
    "                        line=dict(width=0.7)))\n",
    "\n",
    "\n",
    "fig.add_trace(go.Scatter(x=df_mean_1['date'],\n",
    "                        y=df_mean_1['value'],\n",
    "                        mode='lines',\n",
    "                        name='mean',\n",
    "                        #line=go.scatter.Line(color=\"black\"),\n",
    "                        line=dict(color='black', width=4),\n",
    "                        showlegend=True))\n",
    "\n",
    "\n",
    "fig.show()"
   ]
  }
 ],
 "metadata": {
  "interpreter": {
   "hash": "31f2aee4e71d21fbe5cf8b01ff0e069b9275f58929596ceb00d14d90e3e16cd6"
  },
  "kernelspec": {
   "display_name": "Python 3.6.12 64-bit",
   "language": "python",
   "name": "python3"
  },
  "language_info": {
   "codemirror_mode": {
    "name": "ipython",
    "version": 3
   },
   "file_extension": ".py",
   "mimetype": "text/x-python",
   "name": "python",
   "nbconvert_exporter": "python",
   "pygments_lexer": "ipython3",
   "version": "3.6.12"
  },
  "orig_nbformat": 4
 },
 "nbformat": 4,
 "nbformat_minor": 2
}
