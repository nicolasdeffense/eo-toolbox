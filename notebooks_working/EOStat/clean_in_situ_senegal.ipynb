{
 "cells": [
  {
   "cell_type": "code",
   "execution_count": 74,
   "metadata": {},
   "outputs": [],
   "source": [
    "import os, glob\n",
    "import pandas as pd\n",
    "import geopandas as gpd\n",
    "import fiona\n",
    "from shapely.geometry import shape, Polygon\n",
    "import matplotlib.pyplot as plt\n"
   ]
  },
  {
   "cell_type": "markdown",
   "metadata": {},
   "source": [
    "# Input / Output\n",
    "\n",
    "## Input"
   ]
  },
  {
   "cell_type": "code",
   "execution_count": 102,
   "metadata": {},
   "outputs": [],
   "source": [
    "gpx_path = '/export/projects/FAO-EOStat-Senegal/Assemble/'\n",
    "\n",
    "odk_path = '/export/projects/FAO-EOStat-Senegal/FormSenegal05/'\n",
    "\n",
    "odk_csv = f'{odk_path}FormSenegal05.csv'"
   ]
  },
  {
   "cell_type": "markdown",
   "metadata": {},
   "source": [
    "## Output"
   ]
  },
  {
   "cell_type": "code",
   "execution_count": 110,
   "metadata": {},
   "outputs": [],
   "source": [
    "gpx_shp = '/export/projects/FAO-EOStat-Senegal/Output_Nico/all_gpx.shp'"
   ]
  },
  {
   "cell_type": "markdown",
   "metadata": {},
   "source": [
    "# GPX files"
   ]
  },
  {
   "cell_type": "code",
   "execution_count": 116,
   "metadata": {},
   "outputs": [
    {
     "name": "stdout",
     "output_type": "stream",
     "text": [
      "Piste_6220102-2-4-1-1.gpx\n",
      "62201022411\n",
      "Piste_6220102-2-4-1-2.gpx\n",
      "62201022412\n",
      "Piste_6220102-2-4-1-3.gpx\n",
      "62201022413\n",
      "Piste_6220102-2-4-1-4.gpx\n",
      "62201022414\n",
      "Piste_6220102-2-16-4.gpx\n",
      "622010221-.\n",
      "Piste_6220102-2-16-5-1.gpx\n",
      "622010221--\n",
      "Piste_6220102-2-16-5-2.gpx\n",
      "622010221--\n",
      "Piste_6220102-2-16-5-3.gpx\n",
      "622010221--\n",
      "Piste_6220102-2-33-3-1.gpx\n",
      "622010223--\n",
      "Piste_6220102-2-4-1-1.gpx\n",
      "62201022411\n"
     ]
    }
   ],
   "source": [
    "\n",
    "dict_gpx_list = []\n",
    "\n",
    "for gpx_file in glob.glob(f'{gpx_path}*/*.gpx')[0:10]:\n",
    "\n",
    "    filename = os.path.basename(gpx_file)\n",
    "    print(filename)\n",
    "\n",
    "    id = f'{filename[6:6+7]}{filename[14:15]}{filename[16:17]}{filename[18:19]}{filename[20:21]}'\n",
    "\n",
    "    print(id)\n",
    "\n",
    "    layer = fiona.open(gpx_file, layer='tracks')\n",
    "\n",
    "    crs = layer.crs\n",
    "\n",
    "    if crs['init'] == 'epsg:4326':\n",
    "\n",
    "        dict_gpx = {'filename': filename,\n",
    "                    'id': id,\n",
    "                    'coordinates': layer[0]['geometry']['coordinates'][0]}\n",
    "\n",
    "        dict_gpx_list.append(dict_gpx)\n",
    "\n",
    "#dict_gpx_list\n"
   ]
  },
  {
   "cell_type": "code",
   "execution_count": 108,
   "metadata": {},
   "outputs": [
    {
     "data": {
      "text/html": [
       "<div>\n",
       "<style scoped>\n",
       "    .dataframe tbody tr th:only-of-type {\n",
       "        vertical-align: middle;\n",
       "    }\n",
       "\n",
       "    .dataframe tbody tr th {\n",
       "        vertical-align: top;\n",
       "    }\n",
       "\n",
       "    .dataframe thead th {\n",
       "        text-align: right;\n",
       "    }\n",
       "</style>\n",
       "<table border=\"1\" class=\"dataframe\">\n",
       "  <thead>\n",
       "    <tr style=\"text-align: right;\">\n",
       "      <th></th>\n",
       "      <th>filename</th>\n",
       "      <th>id</th>\n",
       "      <th>geometry</th>\n",
       "    </tr>\n",
       "  </thead>\n",
       "  <tbody>\n",
       "    <tr>\n",
       "      <th>0</th>\n",
       "      <td>Piste_6220102-2-4-1-1.gpx</td>\n",
       "      <td>62201022411</td>\n",
       "      <td>POLYGON ((-15.65158 13.71486, -15.65157 13.714...</td>\n",
       "    </tr>\n",
       "    <tr>\n",
       "      <th>1</th>\n",
       "      <td>Piste_6220102-2-4-1-2.gpx</td>\n",
       "      <td>62201022412</td>\n",
       "      <td>POLYGON ((-15.64866 13.71411, -15.64868 13.714...</td>\n",
       "    </tr>\n",
       "    <tr>\n",
       "      <th>2</th>\n",
       "      <td>Piste_6220102-2-4-1-3.gpx</td>\n",
       "      <td>62201022413</td>\n",
       "      <td>POLYGON ((-15.64766 13.71621, -15.64765 13.716...</td>\n",
       "    </tr>\n",
       "    <tr>\n",
       "      <th>3</th>\n",
       "      <td>Piste_6220102-2-4-1-4.gpx</td>\n",
       "      <td>62201022414</td>\n",
       "      <td>POLYGON ((-15.64763 13.71488, -15.64762 13.714...</td>\n",
       "    </tr>\n",
       "    <tr>\n",
       "      <th>4</th>\n",
       "      <td>Piste_6220102-2-16-4.gpx</td>\n",
       "      <td>622010221-.</td>\n",
       "      <td>POLYGON ((-15.64915 13.70645, -15.64915 13.706...</td>\n",
       "    </tr>\n",
       "    <tr>\n",
       "      <th>...</th>\n",
       "      <td>...</td>\n",
       "      <td>...</td>\n",
       "      <td>...</td>\n",
       "    </tr>\n",
       "    <tr>\n",
       "      <th>869</th>\n",
       "      <td>Piste_6220206-7-7-2-2.gpx</td>\n",
       "      <td>62202067722</td>\n",
       "      <td>POLYGON ((-15.70609 13.85070, -15.70609 13.850...</td>\n",
       "    </tr>\n",
       "    <tr>\n",
       "      <th>870</th>\n",
       "      <td>Piste_6220206-7-7-2-3.gpx</td>\n",
       "      <td>62202067723</td>\n",
       "      <td>POLYGON ((-15.69301 13.85112, -15.69309 13.851...</td>\n",
       "    </tr>\n",
       "    <tr>\n",
       "      <th>871</th>\n",
       "      <td>Piste_6220206-7-7-2-4.gpx</td>\n",
       "      <td>62202067724</td>\n",
       "      <td>POLYGON ((-15.69084 13.84977, -15.69084 13.849...</td>\n",
       "    </tr>\n",
       "    <tr>\n",
       "      <th>872</th>\n",
       "      <td>Piste_6220206-7-7-2-5.gpx</td>\n",
       "      <td>62202067725</td>\n",
       "      <td>POLYGON ((-15.69073 13.85019, -15.69074 13.850...</td>\n",
       "    </tr>\n",
       "    <tr>\n",
       "      <th>873</th>\n",
       "      <td>Piste_6220206-7-7-2-6.gpx</td>\n",
       "      <td>62202067726</td>\n",
       "      <td>POLYGON ((-15.70603 13.85079, -15.70605 13.850...</td>\n",
       "    </tr>\n",
       "  </tbody>\n",
       "</table>\n",
       "<p>874 rows × 3 columns</p>\n",
       "</div>"
      ],
      "text/plain": [
       "                      filename           id  \\\n",
       "0    Piste_6220102-2-4-1-1.gpx  62201022411   \n",
       "1    Piste_6220102-2-4-1-2.gpx  62201022412   \n",
       "2    Piste_6220102-2-4-1-3.gpx  62201022413   \n",
       "3    Piste_6220102-2-4-1-4.gpx  62201022414   \n",
       "4     Piste_6220102-2-16-4.gpx  622010221-.   \n",
       "..                         ...          ...   \n",
       "869  Piste_6220206-7-7-2-2.gpx  62202067722   \n",
       "870  Piste_6220206-7-7-2-3.gpx  62202067723   \n",
       "871  Piste_6220206-7-7-2-4.gpx  62202067724   \n",
       "872  Piste_6220206-7-7-2-5.gpx  62202067725   \n",
       "873  Piste_6220206-7-7-2-6.gpx  62202067726   \n",
       "\n",
       "                                              geometry  \n",
       "0    POLYGON ((-15.65158 13.71486, -15.65157 13.714...  \n",
       "1    POLYGON ((-15.64866 13.71411, -15.64868 13.714...  \n",
       "2    POLYGON ((-15.64766 13.71621, -15.64765 13.716...  \n",
       "3    POLYGON ((-15.64763 13.71488, -15.64762 13.714...  \n",
       "4    POLYGON ((-15.64915 13.70645, -15.64915 13.706...  \n",
       "..                                                 ...  \n",
       "869  POLYGON ((-15.70609 13.85070, -15.70609 13.850...  \n",
       "870  POLYGON ((-15.69301 13.85112, -15.69309 13.851...  \n",
       "871  POLYGON ((-15.69084 13.84977, -15.69084 13.849...  \n",
       "872  POLYGON ((-15.69073 13.85019, -15.69074 13.850...  \n",
       "873  POLYGON ((-15.70603 13.85079, -15.70605 13.850...  \n",
       "\n",
       "[874 rows x 3 columns]"
      ]
     },
     "execution_count": 108,
     "metadata": {},
     "output_type": "execute_result"
    }
   ],
   "source": [
    "df = pd.DataFrame.from_dict(dict_gpx_list)\n",
    "\n",
    "df['geometry'] = df.coordinates.apply(Polygon)\n",
    "\n",
    "df = df.drop('coordinates', axis=1)\n",
    "\n",
    "gdf = gpd.GeoDataFrame(df, crs='epsg:4326', geometry='geometry')\n",
    "\n",
    "gdf['geometry'] = gdf.buffer(0)\n",
    "\n",
    "gdf"
   ]
  },
  {
   "cell_type": "code",
   "execution_count": 101,
   "metadata": {},
   "outputs": [
    {
     "data": {
      "text/plain": [
       "<matplotlib.axes._subplots.AxesSubplot at 0x7fb5dfbb59e8>"
      ]
     },
     "execution_count": 101,
     "metadata": {},
     "output_type": "execute_result"
    },
    {
     "data": {
      "image/png": "[encoded data removed]",
      "text/plain": [
       "<Figure size 1440x1440 with 1 Axes>"
      ]
     },
     "metadata": {
      "needs_background": "light"
     },
     "output_type": "display_data"
    }
   ],
   "source": [
    "fig, ax = plt.subplots(1, figsize=(20, 20))\n",
    "\n",
    "gdf.plot(facecolor='red', edgecolor='black',ax=ax)"
   ]
  },
  {
   "cell_type": "code",
   "execution_count": 111,
   "metadata": {},
   "outputs": [],
   "source": [
    "gdf.to_file(filename=gpx_shp, driver='ESRI Shapefile')"
   ]
  },
  {
   "cell_type": "markdown",
   "metadata": {},
   "source": [
    "# ODK"
   ]
  },
  {
   "cell_type": "code",
   "execution_count": 113,
   "metadata": {},
   "outputs": [
    {
     "name": "stdout",
     "output_type": "stream",
     "text": [
      "SubmissionDate\n",
      "start\n",
      "end\n",
      "today\n",
      "start-geopoint-Latitude\n",
      "start-geopoint-Longitude\n",
      "start-geopoint-Altitude\n",
      "start-geopoint-Accuracy\n",
      "deviceid\n",
      "id-Commune\n",
      "id-Commune_autre\n",
      "id-District\n",
      "id-District_autre\n",
      "id-Concession\n",
      "id-Concession_autre\n",
      "id-Menage\n",
      "id-Mengae_autre\n",
      "id-Parcelle\n",
      "id-Parcelle_autre\n",
      "Informations_champ-Melange\n",
      "Informations_champ-Culture\n",
      "Informations_champ-Culture_autre\n",
      "Informations_champ-Culture2\n",
      "Informations_champ-Culture_autre2\n",
      "Informations_champ-Culture3\n",
      "Informations_champ-Culture_autre3\n",
      "Informations_champ-Proportion\n",
      "Informations_champ-Homogene\n",
      "Informations_champ-Photo\n",
      "Informations_champ-Herbe\n",
      "Informations_champ-polygone\n",
      "Informations_champ-Surface\n",
      "Informations_champ-Surface_arrondie\n",
      "Informations_champ-Surface_note\n",
      "Informations_rendement-Carre\n",
      "Informations_rendement-YorN\n",
      "Informations_rendement-Coordonee_carre-Latitude\n",
      "Informations_rendement-Coordonee_carre-Longitude\n",
      "Informations_rendement-Coordonee_carre-Altitude\n",
      "Informations_rendement-Coordonee_carre-Accuracy\n",
      "OTH-Comment\n",
      "meta-instanceID\n",
      "meta-instanceName\n",
      "KEY\n",
      "SubmitterID\n",
      "SubmitterName\n",
      "AttachmentsPresent\n",
      "AttachmentsExpected\n",
      "Status\n"
     ]
    }
   ],
   "source": [
    "odk_df = pd.read_csv(odk_csv)\n",
    "\n",
    "for col in odk_df.columns:\n",
    "    print(col)"
   ]
  },
  {
   "cell_type": "markdown",
   "metadata": {},
   "source": [
    "## Create ID from ODK csv"
   ]
  },
  {
   "cell_type": "code",
   "execution_count": 120,
   "metadata": {},
   "outputs": [
    {
     "data": {
      "text/plain": [
       "0      6220201174341\n",
       "1      6220201173222\n",
       "2      6220201171611\n",
       "3      6220201171631\n",
       "4      6220201171661\n",
       "           ...      \n",
       "231     622020557136\n",
       "232     622020557134\n",
       "233     622020557134\n",
       "234     622020557152\n",
       "235     622020557131\n",
       "Name: id, Length: 236, dtype: object"
      ]
     },
     "execution_count": 120,
     "metadata": {},
     "output_type": "execute_result"
    }
   ],
   "source": [
    "odk_df['id'] = odk_df['id-Commune'].astype(str) + odk_df['id-District'].astype(str) + odk_df['id-Concession'].astype(str) + odk_df['id-Menage'].astype(str) + odk_df['id-Parcelle'].astype(str)\n",
    "\n",
    "odk_df['id']"
   ]
  },
  {
   "cell_type": "markdown",
   "metadata": {},
   "source": [
    "## Select usefull fields"
   ]
  },
  {
   "cell_type": "code",
   "execution_count": 121,
   "metadata": {},
   "outputs": [
    {
     "data": {
      "text/html": [
       "<div>\n",
       "<style scoped>\n",
       "    .dataframe tbody tr th:only-of-type {\n",
       "        vertical-align: middle;\n",
       "    }\n",
       "\n",
       "    .dataframe tbody tr th {\n",
       "        vertical-align: top;\n",
       "    }\n",
       "\n",
       "    .dataframe thead th {\n",
       "        text-align: right;\n",
       "    }\n",
       "</style>\n",
       "<table border=\"1\" class=\"dataframe\">\n",
       "  <thead>\n",
       "    <tr style=\"text-align: right;\">\n",
       "      <th></th>\n",
       "      <th>id</th>\n",
       "      <th>Informations_champ-Melange</th>\n",
       "      <th>Informations_champ-Culture</th>\n",
       "      <th>Informations_champ-Surface</th>\n",
       "    </tr>\n",
       "  </thead>\n",
       "  <tbody>\n",
       "    <tr>\n",
       "      <th>0</th>\n",
       "      <td>6220201174341</td>\n",
       "      <td>1</td>\n",
       "      <td>1.0</td>\n",
       "      <td>31297.986337</td>\n",
       "    </tr>\n",
       "    <tr>\n",
       "      <th>1</th>\n",
       "      <td>6220201173222</td>\n",
       "      <td>1</td>\n",
       "      <td>13.0</td>\n",
       "      <td>9618.217668</td>\n",
       "    </tr>\n",
       "    <tr>\n",
       "      <th>2</th>\n",
       "      <td>6220201171611</td>\n",
       "      <td>1</td>\n",
       "      <td>1.0</td>\n",
       "      <td>17649.581646</td>\n",
       "    </tr>\n",
       "    <tr>\n",
       "      <th>3</th>\n",
       "      <td>6220201171631</td>\n",
       "      <td>1</td>\n",
       "      <td>1.0</td>\n",
       "      <td>10117.531243</td>\n",
       "    </tr>\n",
       "    <tr>\n",
       "      <th>4</th>\n",
       "      <td>6220201171661</td>\n",
       "      <td>1</td>\n",
       "      <td>1.0</td>\n",
       "      <td>7216.510582</td>\n",
       "    </tr>\n",
       "    <tr>\n",
       "      <th>...</th>\n",
       "      <td>...</td>\n",
       "      <td>...</td>\n",
       "      <td>...</td>\n",
       "      <td>...</td>\n",
       "    </tr>\n",
       "    <tr>\n",
       "      <th>231</th>\n",
       "      <td>622020557136</td>\n",
       "      <td>1</td>\n",
       "      <td>1.0</td>\n",
       "      <td>7939.164175</td>\n",
       "    </tr>\n",
       "    <tr>\n",
       "      <th>232</th>\n",
       "      <td>622020557134</td>\n",
       "      <td>1</td>\n",
       "      <td>11.0</td>\n",
       "      <td>11876.578849</td>\n",
       "    </tr>\n",
       "    <tr>\n",
       "      <th>233</th>\n",
       "      <td>622020557134</td>\n",
       "      <td>1</td>\n",
       "      <td>11.0</td>\n",
       "      <td>8226.201945</td>\n",
       "    </tr>\n",
       "    <tr>\n",
       "      <th>234</th>\n",
       "      <td>622020557152</td>\n",
       "      <td>1</td>\n",
       "      <td>11.0</td>\n",
       "      <td>5210.138491</td>\n",
       "    </tr>\n",
       "    <tr>\n",
       "      <th>235</th>\n",
       "      <td>622020557131</td>\n",
       "      <td>1</td>\n",
       "      <td>11.0</td>\n",
       "      <td>9735.147799</td>\n",
       "    </tr>\n",
       "  </tbody>\n",
       "</table>\n",
       "<p>236 rows × 4 columns</p>\n",
       "</div>"
      ],
      "text/plain": [
       "                id  Informations_champ-Melange  Informations_champ-Culture  \\\n",
       "0    6220201174341                           1                         1.0   \n",
       "1    6220201173222                           1                        13.0   \n",
       "2    6220201171611                           1                         1.0   \n",
       "3    6220201171631                           1                         1.0   \n",
       "4    6220201171661                           1                         1.0   \n",
       "..             ...                         ...                         ...   \n",
       "231   622020557136                           1                         1.0   \n",
       "232   622020557134                           1                        11.0   \n",
       "233   622020557134                           1                        11.0   \n",
       "234   622020557152                           1                        11.0   \n",
       "235   622020557131                           1                        11.0   \n",
       "\n",
       "     Informations_champ-Surface  \n",
       "0                  31297.986337  \n",
       "1                   9618.217668  \n",
       "2                  17649.581646  \n",
       "3                  10117.531243  \n",
       "4                   7216.510582  \n",
       "..                          ...  \n",
       "231                 7939.164175  \n",
       "232                11876.578849  \n",
       "233                 8226.201945  \n",
       "234                 5210.138491  \n",
       "235                 9735.147799  \n",
       "\n",
       "[236 rows x 4 columns]"
      ]
     },
     "execution_count": 121,
     "metadata": {},
     "output_type": "execute_result"
    }
   ],
   "source": [
    "odk_df_subset = odk_df[['id','Informations_champ-Melange','Informations_champ-Culture','Informations_champ-Surface']]\n",
    "\n",
    "odk_df_subset"
   ]
  }
 ],
 "metadata": {
  "interpreter": {
   "hash": "31f2aee4e71d21fbe5cf8b01ff0e069b9275f58929596ceb00d14d90e3e16cd6"
  },
  "kernelspec": {
   "display_name": "Python 3.6.12 64-bit",
   "name": "python3"
  },
  "language_info": {
   "codemirror_mode": {
    "name": "ipython",
    "version": 3
   },
   "file_extension": ".py",
   "mimetype": "text/x-python",
   "name": "python",
   "nbconvert_exporter": "python",
   "pygments_lexer": "ipython3",
   "version": "3.6.12"
  },
  "orig_nbformat": 4
 },
 "nbformat": 4,
 "nbformat_minor": 2
}
