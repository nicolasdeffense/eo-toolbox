{
 "cells": [
  {
   "cell_type": "markdown",
   "metadata": {},
   "source": [
    "# Zonal Statistics - continuous values"
   ]
  },
  {
   "cell_type": "code",
   "execution_count": 1,
   "metadata": {},
   "outputs": [
    {
     "name": "stdout",
     "output_type": "stream",
     "text": [
      "All libraries successfully imported!\n",
      "Rasterstats : 0.14.0\n"
     ]
    }
   ],
   "source": [
    "import glob, os\n",
    "import pandas as pd\n",
    "import geopandas as gpd\n",
    "import rasterio\n",
    "import rasterio.plot\n",
    "import rasterstats\n",
    "from rasterstats import zonal_stats\n",
    "import matplotlib.pyplot as plt\n",
    "from pathlib import Path\n",
    "import datetime\n",
    "from IPython.display import display\n",
    "import numpy as np\n",
    "\n",
    "print('All libraries successfully imported!')\n",
    "print(f'Rasterstats : {rasterstats.__version__}')"
   ]
  },
  {
   "cell_type": "code",
   "execution_count": 2,
   "metadata": {},
   "outputs": [
    {
     "name": "stdout",
     "output_type": "stream",
     "text": [
      "BE CAREFULL warning are masked !!\n"
     ]
    }
   ],
   "source": [
    "import warnings\n",
    "warnings.filterwarnings(\"ignore\")\n",
    "\n",
    "print(\"BE CAREFULL warning are masked !!\")"
   ]
  },
  {
   "cell_type": "markdown",
   "metadata": {},
   "source": [
    "## Set parameters\n",
    "\n",
    "Choose statistics :\n",
    "- min\n",
    "- max\n",
    "- mean"
   ]
  },
  {
   "cell_type": "code",
   "execution_count": 4,
   "metadata": {},
   "outputs": [],
   "source": [
    "\n",
    "nodata_val = -10000\n",
    "\n",
    "start = '20200101'\n",
    "end   = '20200601'"
   ]
  },
  {
   "cell_type": "markdown",
   "metadata": {},
   "source": [
    "### Date\n",
    "The date must be in each image filename. `begin_date` is the first position of the date\n",
    "\n",
    "E.g. : \"SITE_3_**2**0181108_NDVI.tif\" --> **begin_date = 8**"
   ]
  },
  {
   "cell_type": "code",
   "execution_count": 3,
   "metadata": {},
   "outputs": [],
   "source": [
    "format     = '%Y%m%d' # format : YYYYMMDD\n",
    "begin_date = 8"
   ]
  },
  {
   "cell_type": "markdown",
   "metadata": {},
   "source": [
    "## Set directory"
   ]
  },
  {
   "cell_type": "code",
   "execution_count": 29,
   "metadata": {},
   "outputs": [
    {
     "name": "stdout",
     "output_type": "stream",
     "text": [
      "['/export/miro/students/bnorgaard/Backup_training_data/images/Subset_S2A_MSIL2A_20201106T105241_N0214_R051_T31UFS_20201106T134121_resampled_BandMath.data/B2.img', '/export/miro/students/bnorgaard/Backup_training_data/images/Subset_S2A_MSIL2A_20201106T105241_N0214_R051_T31UFS_20201106T134121_resampled_BandMath.data/B3.img', '/export/miro/students/bnorgaard/Backup_training_data/images/Subset_S2A_MSIL2A_20201106T105241_N0214_R051_T31UFS_20201106T134121_resampled_BandMath.data/B4.img', '/export/miro/students/bnorgaard/Backup_training_data/images/Subset_S2A_MSIL2A_20201106T105241_N0214_R051_T31UFS_20201106T134121_resampled_BandMath.data/B8.img', '/export/miro/students/bnorgaard/Backup_training_data/images/Subset_S2A_MSIL2A_20201106T105241_N0214_R051_T31UFS_20201106T134121_resampled_BandMath.data/lai.img']\n"
     ]
    }
   ],
   "source": [
    "\n",
    "# Directory for all work files\n",
    "work_path = f'/export/miro/students/bnorgaard/Backup_training_data/'\n",
    "\n",
    "\n",
    "# Rasters files directory\n",
    "raster_file_list = sorted(glob.glob(f'{work_path}images/Subset_S2A_MSIL2A_20200407T104021_N0214_R008_T31UFS_20200407T113125_resampled_BandMath.data/*.img'))\n",
    "\n",
    "raster_file_list = sorted(glob.glob(f'{work_path}images/Subset_S2A_MSIL2A_20201106T105241_N0214_R051_T31UFS_20201106T134121_resampled_BandMath.data/*.img'))\n",
    "\n",
    "\n",
    "print(raster_file_list)\n",
    "# Vector file\n",
    "vector_file  = f'{work_path}shp/invariant_shp/invariant_surfaces.shp'\n",
    "\n",
    "# Zonal statistics output\n",
    "zonal_stat_path = f'{work_path}ZONAL_STATS/'\n",
    "\n",
    "\n",
    "Path(zonal_stat_path).mkdir(parents=True, exist_ok=True)"
   ]
  },
  {
   "cell_type": "markdown",
   "metadata": {},
   "source": [
    "## Check if raster and vector are projected to the same CRS"
   ]
  },
  {
   "cell_type": "code",
   "execution_count": 14,
   "metadata": {},
   "outputs": [
    {
     "name": "stdout",
     "output_type": "stream",
     "text": [
      "We must reproject vector file\n"
     ]
    }
   ],
   "source": [
    "gdf = gpd.read_file(vector_file)\n",
    "src = rasterio.open(raster_file_list[0], \"r\")\n",
    "\n",
    "crs_vector = str(gdf.crs).split(\":\",1)[1]\n",
    "crs_raster = str(src.crs).split(\":\",1)[1]\n",
    "\n",
    "if crs_vector == crs_raster:\n",
    "    print(f'CRS are the same : EPSG:{crs_vector} = EPSG:{crs_raster}')\n",
    "else:\n",
    "    print('We must reproject vector file')\n",
    "\n",
    "    gdf = gdf.to_crs(epsg=crs_raster)"
   ]
  },
  {
   "cell_type": "markdown",
   "metadata": {},
   "source": [
    "**Check if raster and vector file are intersecting**"
   ]
  },
  {
   "cell_type": "code",
   "execution_count": 16,
   "metadata": {},
   "outputs": [
    {
     "data": {
      "image/png": "[encoded data removed]",
      "text/plain": [
       "<Figure size 1080x1080 with 2 Axes>"
      ]
     },
     "metadata": {
      "needs_background": "light"
     },
     "output_type": "display_data"
    }
   ],
   "source": [
    "fig, ax = plt.subplots(1, 1, figsize=(15,15))\n",
    "\n",
    "# Plot vector\n",
    "gdf.plot(facecolor='none', edgecolor='black', linewidth = 2, ax=ax)\n",
    "\n",
    "# Plot image\n",
    "color_map = plt.cm.get_cmap(\"RdYlGn\")\n",
    "reversed_color_map = color_map.reversed()\n",
    "\n",
    "src = rasterio.open(raster_file_list[2], \"r\")\n",
    "im_rio = rasterio.plot.show(src, cmap=color_map, vmin=0, vmax=1, ax=ax)\n",
    "im_rio = im_rio.get_images()[0]\n",
    "\n",
    "cax = fig.add_axes([ax.get_position().x1+0.01,ax.get_position().y0,0.02,ax.get_position().height])\n",
    "plt.colorbar(im_rio, ax=ax, cax=cax)\n",
    "\n",
    "\n",
    "plt.box(False)"
   ]
  },
  {
   "cell_type": "code",
   "execution_count": 17,
   "metadata": {},
   "outputs": [
    {
     "data": {
      "text/html": [
       "<div>\n",
       "<style scoped>\n",
       "    .dataframe tbody tr th:only-of-type {\n",
       "        vertical-align: middle;\n",
       "    }\n",
       "\n",
       "    .dataframe tbody tr th {\n",
       "        vertical-align: top;\n",
       "    }\n",
       "\n",
       "    .dataframe thead th {\n",
       "        text-align: right;\n",
       "    }\n",
       "</style>\n",
       "<table border=\"1\" class=\"dataframe\">\n",
       "  <thead>\n",
       "    <tr style=\"text-align: right;\">\n",
       "      <th></th>\n",
       "      <th>id</th>\n",
       "      <th>TYPE</th>\n",
       "      <th>geometry</th>\n",
       "    </tr>\n",
       "  </thead>\n",
       "  <tbody>\n",
       "    <tr>\n",
       "      <th>0</th>\n",
       "      <td>0</td>\n",
       "      <td>quarry</td>\n",
       "      <td>POLYGON ((670994.030 5605621.100, 671284.291 5...</td>\n",
       "    </tr>\n",
       "    <tr>\n",
       "      <th>1</th>\n",
       "      <td>1</td>\n",
       "      <td>water</td>\n",
       "      <td>POLYGON ((673420.000 5607178.563, 673448.220 5...</td>\n",
       "    </tr>\n",
       "    <tr>\n",
       "      <th>2</th>\n",
       "      <td>2</td>\n",
       "      <td>warehouse roof</td>\n",
       "      <td>POLYGON ((675595.072 5614716.763, 675651.630 5...</td>\n",
       "    </tr>\n",
       "    <tr>\n",
       "      <th>3</th>\n",
       "      <td>3</td>\n",
       "      <td>pine trees</td>\n",
       "      <td>POLYGON ((671377.412 5603807.503, 671411.010 5...</td>\n",
       "    </tr>\n",
       "    <tr>\n",
       "      <th>4</th>\n",
       "      <td>4</td>\n",
       "      <td>airport_track</td>\n",
       "      <td>POLYGON ((671884.400 5611693.025, 673419.840 5...</td>\n",
       "    </tr>\n",
       "  </tbody>\n",
       "</table>\n",
       "</div>"
      ],
      "text/plain": [
       "   id            TYPE                                           geometry\n",
       "0   0          quarry  POLYGON ((670994.030 5605621.100, 671284.291 5...\n",
       "1   1           water  POLYGON ((673420.000 5607178.563, 673448.220 5...\n",
       "2   2  warehouse roof  POLYGON ((675595.072 5614716.763, 675651.630 5...\n",
       "3   3      pine trees  POLYGON ((671377.412 5603807.503, 671411.010 5...\n",
       "4   4   airport_track  POLYGON ((671884.400 5611693.025, 673419.840 5..."
      ]
     },
     "metadata": {},
     "output_type": "display_data"
    }
   ],
   "source": [
    "gdf[\"id\"] = gdf.index\n",
    "\n",
    "display(gdf)"
   ]
  },
  {
   "cell_type": "markdown",
   "metadata": {},
   "source": [
    "## Get date of each image"
   ]
  },
  {
   "cell_type": "code",
   "execution_count": 30,
   "metadata": {},
   "outputs": [
    {
     "name": "stdout",
     "output_type": "stream",
     "text": [
      "B2\n",
      "B3\n",
      "B4\n",
      "B8\n",
      "Ba\n"
     ]
    },
    {
     "data": {
      "text/html": [
       "<div>\n",
       "<style scoped>\n",
       "    .dataframe tbody tr th:only-of-type {\n",
       "        vertical-align: middle;\n",
       "    }\n",
       "\n",
       "    .dataframe tbody tr th {\n",
       "        vertical-align: top;\n",
       "    }\n",
       "\n",
       "    .dataframe thead th {\n",
       "        text-align: right;\n",
       "    }\n",
       "</style>\n",
       "<table border=\"1\" class=\"dataframe\">\n",
       "  <thead>\n",
       "    <tr style=\"text-align: right;\">\n",
       "      <th></th>\n",
       "      <th>date</th>\n",
       "      <th>im_path</th>\n",
       "    </tr>\n",
       "  </thead>\n",
       "  <tbody>\n",
       "    <tr>\n",
       "      <th>0</th>\n",
       "      <td>B2</td>\n",
       "      <td>/export/miro/students/bnorgaard/Backup_trainin...</td>\n",
       "    </tr>\n",
       "    <tr>\n",
       "      <th>1</th>\n",
       "      <td>B3</td>\n",
       "      <td>/export/miro/students/bnorgaard/Backup_trainin...</td>\n",
       "    </tr>\n",
       "    <tr>\n",
       "      <th>2</th>\n",
       "      <td>B4</td>\n",
       "      <td>/export/miro/students/bnorgaard/Backup_trainin...</td>\n",
       "    </tr>\n",
       "    <tr>\n",
       "      <th>3</th>\n",
       "      <td>B8</td>\n",
       "      <td>/export/miro/students/bnorgaard/Backup_trainin...</td>\n",
       "    </tr>\n",
       "    <tr>\n",
       "      <th>4</th>\n",
       "      <td>Ba</td>\n",
       "      <td>/export/miro/students/bnorgaard/Backup_trainin...</td>\n",
       "    </tr>\n",
       "  </tbody>\n",
       "</table>\n",
       "</div>"
      ],
      "text/plain": [
       "  date                                            im_path\n",
       "0   B2  /export/miro/students/bnorgaard/Backup_trainin...\n",
       "1   B3  /export/miro/students/bnorgaard/Backup_trainin...\n",
       "2   B4  /export/miro/students/bnorgaard/Backup_trainin...\n",
       "3   B8  /export/miro/students/bnorgaard/Backup_trainin...\n",
       "4   Ba  /export/miro/students/bnorgaard/Backup_trainin..."
      ]
     },
     "metadata": {},
     "output_type": "display_data"
    }
   ],
   "source": [
    "dict_list = []\n",
    "\n",
    "for im in raster_file_list:\n",
    "            \n",
    "        date_str = 'B' + os.path.basename(im)[1:2]\n",
    "        \n",
    "        print(date_str)\n",
    "\n",
    "        dict_list.append({'date': date_str,\n",
    "                            'im_path': im})\n",
    "\n",
    "im_date_path_df = pd.DataFrame.from_dict(dict_list).sort_values('date')\n",
    "\n",
    "display(im_date_path_df)"
   ]
  },
  {
   "cell_type": "markdown",
   "metadata": {},
   "source": [
    "### Select images inside a period"
   ]
  },
  {
   "cell_type": "markdown",
   "metadata": {},
   "source": [
    "## Compute zonal statistics"
   ]
  },
  {
   "cell_type": "code",
   "execution_count": 12,
   "metadata": {},
   "outputs": [],
   "source": [
    "def mean_div_std(x):\n",
    "\n",
    "    mean = np.mean(x)\n",
    "    std  = np.std(x)\n",
    "\n",
    "    result = mean / std\n",
    "\n",
    "    return result"
   ]
  },
  {
   "cell_type": "code",
   "execution_count": 33,
   "metadata": {},
   "outputs": [
    {
     "data": {
      "text/html": [
       "<div>\n",
       "<style scoped>\n",
       "    .dataframe tbody tr th:only-of-type {\n",
       "        vertical-align: middle;\n",
       "    }\n",
       "\n",
       "    .dataframe tbody tr th {\n",
       "        vertical-align: top;\n",
       "    }\n",
       "\n",
       "    .dataframe thead th {\n",
       "        text-align: right;\n",
       "    }\n",
       "</style>\n",
       "<table border=\"1\" class=\"dataframe\">\n",
       "  <thead>\n",
       "    <tr style=\"text-align: right;\">\n",
       "      <th></th>\n",
       "      <th>mean__B2</th>\n",
       "      <th>mean__B3</th>\n",
       "      <th>mean__B4</th>\n",
       "      <th>mean__B8</th>\n",
       "      <th>mean__Ba</th>\n",
       "    </tr>\n",
       "  </thead>\n",
       "  <tbody>\n",
       "    <tr>\n",
       "      <th>0</th>\n",
       "      <td>0.024499</td>\n",
       "      <td>0.034038</td>\n",
       "      <td>0.037920</td>\n",
       "      <td>0.058099</td>\n",
       "      <td>0.000037</td>\n",
       "    </tr>\n",
       "    <tr>\n",
       "      <th>1</th>\n",
       "      <td>0.011120</td>\n",
       "      <td>0.024980</td>\n",
       "      <td>0.020095</td>\n",
       "      <td>0.013518</td>\n",
       "      <td>0.000025</td>\n",
       "    </tr>\n",
       "    <tr>\n",
       "      <th>2</th>\n",
       "      <td>0.265435</td>\n",
       "      <td>0.294877</td>\n",
       "      <td>0.316177</td>\n",
       "      <td>0.335580</td>\n",
       "      <td>0.000018</td>\n",
       "    </tr>\n",
       "    <tr>\n",
       "      <th>3</th>\n",
       "      <td>0.005833</td>\n",
       "      <td>0.028233</td>\n",
       "      <td>0.029132</td>\n",
       "      <td>0.190367</td>\n",
       "      <td>0.000128</td>\n",
       "    </tr>\n",
       "    <tr>\n",
       "      <th>4</th>\n",
       "      <td>0.058782</td>\n",
       "      <td>0.071210</td>\n",
       "      <td>0.079812</td>\n",
       "      <td>0.117712</td>\n",
       "      <td>0.000005</td>\n",
       "    </tr>\n",
       "  </tbody>\n",
       "</table>\n",
       "</div>"
      ],
      "text/plain": [
       "   mean__B2  mean__B3  mean__B4  mean__B8  mean__Ba\n",
       "0  0.024499  0.034038  0.037920  0.058099  0.000037\n",
       "1  0.011120  0.024980  0.020095  0.013518  0.000025\n",
       "2  0.265435  0.294877  0.316177  0.335580  0.000018\n",
       "3  0.005833  0.028233  0.029132  0.190367  0.000128\n",
       "4  0.058782  0.071210  0.079812  0.117712  0.000005"
      ]
     },
     "metadata": {},
     "output_type": "display_data"
    },
    {
     "data": {
      "text/html": [
       "<div>\n",
       "<style scoped>\n",
       "    .dataframe tbody tr th:only-of-type {\n",
       "        vertical-align: middle;\n",
       "    }\n",
       "\n",
       "    .dataframe tbody tr th {\n",
       "        vertical-align: top;\n",
       "    }\n",
       "\n",
       "    .dataframe thead th {\n",
       "        text-align: right;\n",
       "    }\n",
       "</style>\n",
       "<table border=\"1\" class=\"dataframe\">\n",
       "  <thead>\n",
       "    <tr style=\"text-align: right;\">\n",
       "      <th></th>\n",
       "      <th>id</th>\n",
       "      <th>TYPE</th>\n",
       "      <th>geometry</th>\n",
       "    </tr>\n",
       "  </thead>\n",
       "  <tbody>\n",
       "    <tr>\n",
       "      <th>0</th>\n",
       "      <td>0</td>\n",
       "      <td>quarry</td>\n",
       "      <td>POLYGON ((670994.030 5605621.100, 671284.291 5...</td>\n",
       "    </tr>\n",
       "    <tr>\n",
       "      <th>1</th>\n",
       "      <td>1</td>\n",
       "      <td>water</td>\n",
       "      <td>POLYGON ((673420.000 5607178.563, 673448.220 5...</td>\n",
       "    </tr>\n",
       "    <tr>\n",
       "      <th>2</th>\n",
       "      <td>2</td>\n",
       "      <td>warehouse roof</td>\n",
       "      <td>POLYGON ((675595.072 5614716.763, 675651.630 5...</td>\n",
       "    </tr>\n",
       "    <tr>\n",
       "      <th>3</th>\n",
       "      <td>3</td>\n",
       "      <td>pine trees</td>\n",
       "      <td>POLYGON ((671377.412 5603807.503, 671411.010 5...</td>\n",
       "    </tr>\n",
       "    <tr>\n",
       "      <th>4</th>\n",
       "      <td>4</td>\n",
       "      <td>airport_track</td>\n",
       "      <td>POLYGON ((671884.400 5611693.025, 673419.840 5...</td>\n",
       "    </tr>\n",
       "  </tbody>\n",
       "</table>\n",
       "</div>"
      ],
      "text/plain": [
       "   id            TYPE                                           geometry\n",
       "0   0          quarry  POLYGON ((670994.030 5605621.100, 671284.291 5...\n",
       "1   1           water  POLYGON ((673420.000 5607178.563, 673448.220 5...\n",
       "2   2  warehouse roof  POLYGON ((675595.072 5614716.763, 675651.630 5...\n",
       "3   3      pine trees  POLYGON ((671377.412 5603807.503, 671411.010 5...\n",
       "4   4   airport_track  POLYGON ((671884.400 5611693.025, 673419.840 5..."
      ]
     },
     "metadata": {},
     "output_type": "display_data"
    }
   ],
   "source": [
    "df_list = []\n",
    "date_list = []\n",
    "\n",
    "for i, row in im_date_path_df.iterrows():\n",
    "    im_file    = row['im_path']\n",
    "    date  = row['date']\n",
    "    \n",
    "    # Open GeoTIFF file\n",
    "    src = rasterio.open(im_file, 'r')\n",
    "    im_arr = src.read(1)\n",
    "    \n",
    "    # Change NaN by \"nodata_val\"\n",
    "    im_arr = np.nan_to_num(im_arr, nan=nodata_val)\n",
    "\n",
    "    # Get transform from profile (metadata)\n",
    "    profile = src.profile\n",
    "    transform = profile['transform']\n",
    "    \n",
    "    src.close()\n",
    "\n",
    "    df = pd.DataFrame(zonal_stats(gdf,\n",
    "                                  im_arr,\n",
    "                                  affine=transform,\n",
    "                                  stats=['mean'],\n",
    "                                  nodata=nodata_val))\n",
    "    \n",
    "    df = df.rename(columns={'mean': f'mean__{date}'})\n",
    "    \n",
    "    df_list.append(df)\n",
    "    \n",
    "\n",
    "dfs = pd.concat(df_list, axis=1).divide(10000)\n",
    "\n",
    "display(dfs)\n",
    "display(gdf)\n"
   ]
  }
 ],
 "metadata": {
  "interpreter": {
   "hash": "31f2aee4e71d21fbe5cf8b01ff0e069b9275f58929596ceb00d14d90e3e16cd6"
  },
  "kernelspec": {
   "display_name": "Python 3.6.12 64-bit",
   "name": "python3"
  },
  "language_info": {
   "codemirror_mode": {
    "name": "ipython",
    "version": 3
   },
   "file_extension": ".py",
   "mimetype": "text/x-python",
   "name": "python",
   "nbconvert_exporter": "python",
   "pygments_lexer": "ipython3",
   "version": "3.6.12"
  },
  "orig_nbformat": 2
 },
 "nbformat": 4,
 "nbformat_minor": 2
}
