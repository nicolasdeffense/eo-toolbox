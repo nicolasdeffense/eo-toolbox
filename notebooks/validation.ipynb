{
 "metadata": {
  "language_info": {
   "codemirror_mode": {
    "name": "ipython",
    "version": 3
   },
   "file_extension": ".py",
   "mimetype": "text/x-python",
   "name": "python",
   "nbconvert_exporter": "python",
   "pygments_lexer": "ipython3",
   "version": "3.6.10"
  },
  "orig_nbformat": 2,
  "kernelspec": {
   "name": "python3610jvsc74a57bd0d44a822591a3717b24d3edf137db462f6168d56f0b857c252a9153258824edbd",
   "display_name": "Python 3.6.10 64-bit ('python_3_6': conda)"
  },
  "metadata": {
   "interpreter": {
    "hash": "31f2aee4e71d21fbe5cf8b01ff0e069b9275f58929596ceb00d14d90e3e16cd6"
   }
  }
 },
 "nbformat": 4,
 "nbformat_minor": 2,
 "cells": [
  {
   "source": [
    "# Validation"
   ],
   "cell_type": "markdown",
   "metadata": {}
  },
  {
   "cell_type": "code",
   "execution_count": 1,
   "metadata": {},
   "outputs": [
    {
     "output_type": "stream",
     "name": "stdout",
     "text": [
      "Numpy : 1.19.2\nPandas : 1.1.5\nGeoPandas : 0.8.1\nScipy: 1.5.2\nScikit-learn: 0.24.1\n"
     ]
    }
   ],
   "source": [
    "import glob, os, time\n",
    "import numpy as np\n",
    "import pandas as pd\n",
    "import geopandas as gpd\n",
    "import rasterio\n",
    "from rasterio import features\n",
    "\n",
    "import matplotlib.pyplot as plt\n",
    "import scipy\n",
    "import sklearn\n",
    "from sklearn.ensemble import RandomForestClassifier\n",
    "#from sklearn.datasets import make_classification\n",
    "from sklearn.metrics import confusion_matrix, ConfusionMatrixDisplay\n",
    "\n",
    "from pathlib import Path\n",
    "from IPython.display import display\n",
    "\n",
    "print(f'Numpy : {np.__version__}')\n",
    "print(f'Pandas : {pd.__version__}')\n",
    "print(f'GeoPandas : {gpd.__version__}')\n",
    "print(f'Scipy: {scipy.__version__}')\n",
    "print(f'Scikit-learn: {sklearn.__version__}')"
   ]
  },
  {
   "source": [
    "## Set paths for input and output directories"
   ],
   "cell_type": "markdown",
   "metadata": {}
  },
  {
   "cell_type": "code",
   "execution_count": 5,
   "metadata": {},
   "outputs": [
    {
     "output_type": "stream",
     "name": "stdout",
     "text": [
      "Classification path are set to : /Volumes/nbdid-sst-lbrat2104/GROUP_A/TP/llesne/DATA/CLASSIF/\n"
     ]
    }
   ],
   "source": [
    "#computer_path = 'X:/'\n",
    "computer_path = '/Volumes/nbdid-sst-lbrat2104/'\n",
    "grp_letter    = 'A'\n",
    "\n",
    "# Directory for all work files\n",
    "#work_path = f'{computer_path}GROUP_{grp_letter}/WORK/'\n",
    "\n",
    "work_path = f'{computer_path}GROUP_{grp_letter}/TP/llesne/DATA/'\n",
    "\n",
    "\n",
    "# ----- #\n",
    "# INPUT #\n",
    "# ----- #\n",
    "\n",
    "im_path   = f'{work_path}3_L2A_MASKED/'\n",
    "ndvi_path = f'{work_path}NDVI/'\n",
    "\n",
    "in_situ_SD_path = f'{work_path}IN_SITU_SD/'\n",
    "\n",
    "# ------ #\n",
    "# OUTPUT #\n",
    "# ------ #\n",
    "\n",
    "classif_path = f'{work_path}CLASSIF/'\n",
    "\n",
    "Path(classif_path).mkdir(parents=True, exist_ok=True)\n",
    "\n",
    "print(f'Classification path are set to : {classif_path}')"
   ]
  },
  {
   "source": [
    "## Rasterize in-situ data shapefile"
   ],
   "cell_type": "markdown",
   "metadata": {}
  },
  {
   "cell_type": "code",
   "execution_count": 8,
   "metadata": {},
   "outputs": [
    {
     "output_type": "stream",
     "name": "stdout",
     "text": [
      "/Volumes/nbdid-sst-lbrat2104/GROUP_A/TP/llesne/DATA/NDVI/*.tif\n",
      "Raster template file : /Volumes/nbdid-sst-lbrat2104/GROUP_A/TP/llesne/DATA/NDVI/NDVI_1.tif\n",
      "Rasterize /Volumes/nbdid-sst-lbrat2104/GROUP_A/TP/llesne/DATA/IN_SITU_SD/COSW_IN_SITU_ROI_val.shp\n",
      "epsg:32631\n"
     ]
    }
   ],
   "source": [
    "# Set the field name of the class code\n",
    "\n",
    "field_name_code = 'CLASS_NIV3'\n",
    "\n",
    "# Set up filenames\n",
    "\n",
    "in_situ_name = 'COSW_IN_SITU_ROI'\n",
    "\n",
    "#shp    = f'{in_situ_SD_path}{in_situ_name}_cal.shp'\n",
    "#raster = f'{in_situ_SD_path}{in_situ_name}_cal.tif'\n",
    "\n",
    "shp    = f'{in_situ_SD_path}{in_situ_name}_val.shp'\n",
    "raster = f'{in_situ_SD_path}{in_situ_name}_val.tif'\n",
    "\n",
    "\n",
    "print(f'{ndvi_path}*.tif')\n",
    "\n",
    "img_temp_tif = glob.glob(f'{ndvi_path}*.tif')[0]\n",
    "\n",
    "print(f'Raster template file : {img_temp_tif}')\n",
    "\n",
    "print(f'Rasterize {shp}')\n",
    "\n",
    "# Open the shapefile with GeoPandas\n",
    "\n",
    "in_situ_gdf = gpd.read_file(shp).to_crs(epsg='32631')\n",
    "\n",
    "print(in_situ_gdf.crs)\n",
    "\n",
    "# Open the raster file you want to use as a template for rasterize\n",
    "\n",
    "src = rasterio.open(img_temp_tif, \"r\")\n",
    "\n",
    "# Update metadata\n",
    "profile = src.profile\n",
    "profile.update(nodata=0)\n",
    "\n",
    "# Burn the features into the raster and write it out\n",
    "\n",
    "dst = rasterio.open(raster, 'w+', **profile)\n",
    "dst_arr = dst.read(1)\n",
    "\n",
    "# this is where we create a generator of geom, value pairs to use in rasterizing\n",
    "\n",
    "geom_col = in_situ_gdf.geometry\n",
    "code_col = in_situ_gdf[field_name_code].astype(int)\n",
    "\n",
    "shapes = ((geom,value) for geom, value in zip(geom_col, code_col))\n",
    "\n",
    "in_situ_arr = features.rasterize(shapes=shapes,\n",
    "                                    fill=0,\n",
    "                                    out=dst_arr,\n",
    "                                    transform=dst.transform)\n",
    "\n",
    "dst.write_band(1, in_situ_arr)\n",
    "\n",
    "# Close rasterio objects\n",
    "src.close()\n",
    "dst.close()\n"
   ]
  }
 ]
}