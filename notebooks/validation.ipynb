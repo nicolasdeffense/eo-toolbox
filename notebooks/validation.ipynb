{
 "metadata": {
  "language_info": {
   "codemirror_mode": {
    "name": "ipython",
    "version": 3
   },
   "file_extension": ".py",
   "mimetype": "text/x-python",
   "name": "python",
   "nbconvert_exporter": "python",
   "pygments_lexer": "ipython3",
   "version": "3.6.10"
  },
  "orig_nbformat": 2,
  "kernelspec": {
   "name": "python3610jvsc74a57bd0d44a822591a3717b24d3edf137db462f6168d56f0b857c252a9153258824edbd",
   "display_name": "Python 3.6.10 64-bit ('python_3_6': conda)"
  },
  "metadata": {
   "interpreter": {
    "hash": "31f2aee4e71d21fbe5cf8b01ff0e069b9275f58929596ceb00d14d90e3e16cd6"
   }
  }
 },
 "nbformat": 4,
 "nbformat_minor": 2,
 "cells": [
  {
   "source": [
    "# Validation\n",
    "\n",
    "When a classification is performed, whether it is generated with machine learning tools such as Random Forest or based on thresholds of a spectral index for example, it should be validated on the basis of in-situ data (ground data). In the case where in-situ data are also used to generate the classification, the data used to validate the classification must be independent."
   ],
   "cell_type": "markdown",
   "metadata": {}
  },
  {
   "cell_type": "code",
   "execution_count": 1,
   "metadata": {},
   "outputs": [
    {
     "output_type": "stream",
     "name": "stdout",
     "text": [
      "Numpy : 1.19.2\nPandas : 1.1.5\nGeoPandas : 0.8.1\nScipy: 1.5.2\nScikit-learn: 0.24.1\n"
     ]
    }
   ],
   "source": [
    "import glob, os, time\n",
    "import numpy as np\n",
    "import pandas as pd\n",
    "import geopandas as gpd\n",
    "import rasterio\n",
    "from rasterio import features\n",
    "\n",
    "import matplotlib.pyplot as plt\n",
    "import scipy\n",
    "import sklearn\n",
    "from sklearn.metrics import confusion_matrix, ConfusionMatrixDisplay, f1_score, accuracy_score, classification_report\n",
    "\n",
    "from pathlib import Path\n",
    "from IPython.display import display\n",
    "\n",
    "print(f'Numpy : {np.__version__}')\n",
    "print(f'Pandas : {pd.__version__}')\n",
    "print(f'GeoPandas : {gpd.__version__}')\n",
    "print(f'Scipy: {scipy.__version__}')\n",
    "print(f'Scikit-learn: {sklearn.__version__}')"
   ]
  },
  {
   "source": [
    "## Set paths for input and output directories"
   ],
   "cell_type": "markdown",
   "metadata": {}
  },
  {
   "cell_type": "code",
   "execution_count": 3,
   "metadata": {},
   "outputs": [
    {
     "output_type": "stream",
     "name": "stdout",
     "text": [
      "Accuracy metrics path are set to : /Volumes/nbdid-sst-lbrat2104/GROUP_X/WORK/ACCURACY_METRICS/\n"
     ]
    }
   ],
   "source": [
    "#computer_path = 'X:/'\n",
    "computer_path = '/Volumes/nbdid-sst-lbrat2104/'\n",
    "grp_letter    = 'X'\n",
    "\n",
    "# Directory for all work files\n",
    "work_path = f'{computer_path}GROUP_{grp_letter}/WORK/'\n",
    "\n",
    "\n",
    "# ----- #\n",
    "# INPUT #\n",
    "# ----- #\n",
    "\n",
    "# Product name\n",
    "\n",
    "prod_name = 'Classif_RF_with_NDVI'\n",
    "\n",
    "# Set the name of the classification map\n",
    "classif_tif = f'{work_path}CLASSIF/{prod_name}.tif'\n",
    "\n",
    "# Set the name of the in-situ used for validate the classification map\n",
    "in_situ_val_shp = f'{work_path}IN_SITU_SD/WALLONIA_2018_IN_SITU_ROI_val.shp'\n",
    "\n",
    "# Set the field name of the class code\n",
    "field_name_code = 'CODE'\n",
    "\n",
    "# ------ #\n",
    "# OUTPUT #\n",
    "# ------ #\n",
    "\n",
    "am_path = f'{work_path}ACCURACY_METRICS/'\n",
    "\n",
    "# Set the name of the Confusion Matrix\n",
    "cm_csv = f'{am_path}/{prod_name}_CM.csv'\n",
    "cm_png = f'{am_path}/{prod_name}_CM.png'\n",
    "\n",
    "\n",
    "\n",
    "Path(am_path).mkdir(parents=True, exist_ok=True)\n",
    "\n",
    "print(f'Accuracy metrics path are set to : {am_path}')"
   ]
  },
  {
   "source": [
    "## Rasterize in-situ data validation shapefile"
   ],
   "cell_type": "markdown",
   "metadata": {}
  },
  {
   "cell_type": "code",
   "execution_count": 4,
   "metadata": {},
   "outputs": [
    {
     "output_type": "stream",
     "name": "stdout",
     "text": [
      "The CRS of in-situ data is       : epsg:32631\nThe CRS of classification map is : EPSG:32631\nCRS are the same\nRasterize /Volumes/nbdid-sst-lbrat2104/GROUP_X/WORK/IN_SITU_SD/WALLONIA_2018_IN_SITU_ROI_val.shp\n"
     ]
    }
   ],
   "source": [
    "\n",
    "in_situ_val_tif = f'{in_situ_val_shp[:-4]}.tif'\n",
    "\n",
    "no_data_rasterize = -999\n",
    "\n",
    "# Open the shapefile with GeoPandas\n",
    "\n",
    "in_situ_gdf = gpd.read_file(in_situ_val_shp)\n",
    "\n",
    "\n",
    "# Open the raster file you want to use as a template for rasterize\n",
    "\n",
    "src = rasterio.open(classif_tif, \"r\")\n",
    "\n",
    "# Update metadata\n",
    "profile = src.profile\n",
    "profile.update(nodata=no_data_rasterize)\n",
    "\n",
    "print(f'The CRS of in-situ data is       : {in_situ_gdf.crs}')\n",
    "print(f'The CRS of classification map is : {src.crs}')\n",
    "\n",
    "if in_situ_gdf.crs == src.crs:\n",
    "    print(\"CRS are the same\")\n",
    "\n",
    "    print(f'Rasterize {in_situ_val_shp}')\n",
    "\n",
    "    # Burn the features into the raster and write it out\n",
    "\n",
    "    dst = rasterio.open(in_situ_val_tif, 'w+', **profile)\n",
    "    dst_arr = dst.read(1)\n",
    "\n",
    "    # this is where we create a generator of geom, value pairs to use in rasterizing\n",
    "\n",
    "    geom_col = in_situ_gdf.geometry\n",
    "    code_col = in_situ_gdf[field_name_code].astype(int)\n",
    "\n",
    "    shapes = ((geom,value) for geom, value in zip(geom_col, code_col))\n",
    "\n",
    "    in_situ_arr = features.rasterize(shapes=shapes,\n",
    "                                     fill=no_data_rasterize,\n",
    "                                     out=dst_arr,\n",
    "                                     transform=dst.transform)\n",
    "\n",
    "    dst.write_band(1, in_situ_arr)\n",
    "\n",
    "else:\n",
    "    print('CRS are different --> repoject in-situ data shapefile with \"to_crs\"')\n",
    "\n",
    "\n",
    "# Close rasterio objects\n",
    "src.close()\n",
    "dst.close()\n"
   ]
  },
  {
   "source": [
    "## Create Confusion Matrix"
   ],
   "cell_type": "markdown",
   "metadata": {}
  },
  {
   "cell_type": "code",
   "execution_count": 6,
   "metadata": {},
   "outputs": [
    {
     "output_type": "display_data",
     "data": {
      "text/plain": "      6     9     12    19    20    21    36    45    53    62    ...  901   \\\n6      794     0     0     5     3     0     0     0     0     0  ...     0   \n9      142     1     0     0     0     0     0     0     0    45  ...     0   \n12      10     0     0    10     0     0     0     0     0     0  ...     0   \n19       1     0     0   557     0    30     0     0     0     2  ...     2   \n20      10     0     0    23     2    16     0     0     0     0  ...     0   \n21       0     0     0     2     0    54     0     0     0     0  ...     0   \n36       0     0     0    11     0     0    18     0     0     0  ...     0   \n45       0     0     0     0     0     0     6     0     0     3  ...     0   \n53       0     0     0     9     0     0    82     0     0     0  ...     0   \n62      95     0     0    68     0     0   113     0     0  9523  ...   123   \n73       0     0     0     0     0     0     0     0     0   374  ...     0   \n91       0     0     0     4     0     0   153   694     0    10  ...  1821   \n201      0     0     0    13     0     0   495     0     0     3  ...   294   \n311      9     0     0    34     0     0  1513     1     0   352  ...   681   \n321      0     0     0   332     0     0     5     0     0     0  ...   233   \n341      0     0     0     0     0     0    13     0     0     8  ...     0   \n342      0     0     0    47     0     0     0     0     0     0  ...     4   \n541      0     0     0     0     0     0   150     0     0    52  ...     0   \n542      0     0     0   146     0     0     0     0     0     0  ...     0   \n743      0     0     0     0     0     0    23     0     0    86  ...    51   \n821      0     0     0     0     0     0    14     0     0     0  ...    51   \n901      0     0     0     2     0     0   634   148     0     0  ...   921   \n931      0     0     0     0     0     0   242     0     0     0  ...   383   \n959      0     0     0     0     0     0     2     0     0     0  ...     0   \n4111     0     0     0     0     0     0     3     0     0     0  ...     0   \n9202    56     0     0     0     0     0     0     0     0   909  ...     0   \n9410     0     0     0     0     0     0    45     0     0     0  ...     3   \n9535     0     0     0     6     0     0    31     0     0     0  ...     3   \n9741    89     0     0    22     2     0     0     0     0   104  ...     0   \n9742    38     0     0     0     0     0     0     0     0   586  ...     0   \n9812     0     0     0     0     0     0     3     0     0     0  ...     2   \n\n      931   959   4111  9202  9410  9535  9741  9742  9812  \n6        0     0     0     0     0     0     0     0     0  \n9        0     0     0     0     0     0     0     0     0  \n12       0     0     0     0     0     0     0     0     0  \n19       0     0     0     0     0     0     0     0     0  \n20       0     0     0     0     0     0     0     0     0  \n21       0     0     0     0     0     0     0     0     0  \n36       0     0     0     0     0     0     0     0     0  \n45       0     0     1     0     0     0     0     0     0  \n53       0     0     0     0     0     0     0     0     0  \n62       0     0    84     0     0     0     0     8     0  \n73       0     0     0     0     0     0     0     0     0  \n91       5     0    15     0     0     0     0     0     0  \n201      0     0     3     0     0     0     0     0     0  \n311    344     0   621     0    25     0     0     0    16  \n321      0     0     7     0     1     0     0     0     0  \n341      0     0     0     0     0     0     0     0     0  \n342      1     0     0     0     0     0     0     0     0  \n541      0     0     0     0     0     0     0     0     0  \n542      0     0     0     0     0     0     0     0     0  \n743    256     0    18     0     0     0     0     0     0  \n821      5     0     0     0   324     0     0     0     0  \n901      0     0    76     0     0     0     0     0     0  \n931     12     0     1     0     0     0     0     0     0  \n959      0     0     0     0     0     0     0     0     0  \n4111     0     0   670     0     0     0     0     0     0  \n9202     0     0     0     0     0     0     0     0     0  \n9410     0     0     0     0   202     0     0     0     0  \n9535   114     0     0     0     0     0     0     0   319  \n9741     0     0     0     0     0     0   113     0     0  \n9742     0     0     0     0     0     0     0     0     0  \n9812     4     0     0     0     0     0     0     0     0  \n\n[31 rows x 31 columns]",
      "text/html": "<div>\n<style scoped>\n    .dataframe tbody tr th:only-of-type {\n        vertical-align: middle;\n    }\n\n    .dataframe tbody tr th {\n        vertical-align: top;\n    }\n\n    .dataframe thead th {\n        text-align: right;\n    }\n</style>\n<table border=\"1\" class=\"dataframe\">\n  <thead>\n    <tr style=\"text-align: right;\">\n      <th></th>\n      <th>6</th>\n      <th>9</th>\n      <th>12</th>\n      <th>19</th>\n      <th>20</th>\n      <th>21</th>\n      <th>36</th>\n      <th>45</th>\n      <th>53</th>\n      <th>62</th>\n      <th>...</th>\n      <th>901</th>\n      <th>931</th>\n      <th>959</th>\n      <th>4111</th>\n      <th>9202</th>\n      <th>9410</th>\n      <th>9535</th>\n      <th>9741</th>\n      <th>9742</th>\n      <th>9812</th>\n    </tr>\n  </thead>\n  <tbody>\n    <tr>\n      <th>6</th>\n      <td>794</td>\n      <td>0</td>\n      <td>0</td>\n      <td>5</td>\n      <td>3</td>\n      <td>0</td>\n      <td>0</td>\n      <td>0</td>\n      <td>0</td>\n      <td>0</td>\n      <td>...</td>\n      <td>0</td>\n      <td>0</td>\n      <td>0</td>\n      <td>0</td>\n      <td>0</td>\n      <td>0</td>\n      <td>0</td>\n      <td>0</td>\n      <td>0</td>\n      <td>0</td>\n    </tr>\n    <tr>\n      <th>9</th>\n      <td>142</td>\n      <td>1</td>\n      <td>0</td>\n      <td>0</td>\n      <td>0</td>\n      <td>0</td>\n      <td>0</td>\n      <td>0</td>\n      <td>0</td>\n      <td>45</td>\n      <td>...</td>\n      <td>0</td>\n      <td>0</td>\n      <td>0</td>\n      <td>0</td>\n      <td>0</td>\n      <td>0</td>\n      <td>0</td>\n      <td>0</td>\n      <td>0</td>\n      <td>0</td>\n    </tr>\n    <tr>\n      <th>12</th>\n      <td>10</td>\n      <td>0</td>\n      <td>0</td>\n      <td>10</td>\n      <td>0</td>\n      <td>0</td>\n      <td>0</td>\n      <td>0</td>\n      <td>0</td>\n      <td>0</td>\n      <td>...</td>\n      <td>0</td>\n      <td>0</td>\n      <td>0</td>\n      <td>0</td>\n      <td>0</td>\n      <td>0</td>\n      <td>0</td>\n      <td>0</td>\n      <td>0</td>\n      <td>0</td>\n    </tr>\n    <tr>\n      <th>19</th>\n      <td>1</td>\n      <td>0</td>\n      <td>0</td>\n      <td>557</td>\n      <td>0</td>\n      <td>30</td>\n      <td>0</td>\n      <td>0</td>\n      <td>0</td>\n      <td>2</td>\n      <td>...</td>\n      <td>2</td>\n      <td>0</td>\n      <td>0</td>\n      <td>0</td>\n      <td>0</td>\n      <td>0</td>\n      <td>0</td>\n      <td>0</td>\n      <td>0</td>\n      <td>0</td>\n    </tr>\n    <tr>\n      <th>20</th>\n      <td>10</td>\n      <td>0</td>\n      <td>0</td>\n      <td>23</td>\n      <td>2</td>\n      <td>16</td>\n      <td>0</td>\n      <td>0</td>\n      <td>0</td>\n      <td>0</td>\n      <td>...</td>\n      <td>0</td>\n      <td>0</td>\n      <td>0</td>\n      <td>0</td>\n      <td>0</td>\n      <td>0</td>\n      <td>0</td>\n      <td>0</td>\n      <td>0</td>\n      <td>0</td>\n    </tr>\n    <tr>\n      <th>21</th>\n      <td>0</td>\n      <td>0</td>\n      <td>0</td>\n      <td>2</td>\n      <td>0</td>\n      <td>54</td>\n      <td>0</td>\n      <td>0</td>\n      <td>0</td>\n      <td>0</td>\n      <td>...</td>\n      <td>0</td>\n      <td>0</td>\n      <td>0</td>\n      <td>0</td>\n      <td>0</td>\n      <td>0</td>\n      <td>0</td>\n      <td>0</td>\n      <td>0</td>\n      <td>0</td>\n    </tr>\n    <tr>\n      <th>36</th>\n      <td>0</td>\n      <td>0</td>\n      <td>0</td>\n      <td>11</td>\n      <td>0</td>\n      <td>0</td>\n      <td>18</td>\n      <td>0</td>\n      <td>0</td>\n      <td>0</td>\n      <td>...</td>\n      <td>0</td>\n      <td>0</td>\n      <td>0</td>\n      <td>0</td>\n      <td>0</td>\n      <td>0</td>\n      <td>0</td>\n      <td>0</td>\n      <td>0</td>\n      <td>0</td>\n    </tr>\n    <tr>\n      <th>45</th>\n      <td>0</td>\n      <td>0</td>\n      <td>0</td>\n      <td>0</td>\n      <td>0</td>\n      <td>0</td>\n      <td>6</td>\n      <td>0</td>\n      <td>0</td>\n      <td>3</td>\n      <td>...</td>\n      <td>0</td>\n      <td>0</td>\n      <td>0</td>\n      <td>1</td>\n      <td>0</td>\n      <td>0</td>\n      <td>0</td>\n      <td>0</td>\n      <td>0</td>\n      <td>0</td>\n    </tr>\n    <tr>\n      <th>53</th>\n      <td>0</td>\n      <td>0</td>\n      <td>0</td>\n      <td>9</td>\n      <td>0</td>\n      <td>0</td>\n      <td>82</td>\n      <td>0</td>\n      <td>0</td>\n      <td>0</td>\n      <td>...</td>\n      <td>0</td>\n      <td>0</td>\n      <td>0</td>\n      <td>0</td>\n      <td>0</td>\n      <td>0</td>\n      <td>0</td>\n      <td>0</td>\n      <td>0</td>\n      <td>0</td>\n    </tr>\n    <tr>\n      <th>62</th>\n      <td>95</td>\n      <td>0</td>\n      <td>0</td>\n      <td>68</td>\n      <td>0</td>\n      <td>0</td>\n      <td>113</td>\n      <td>0</td>\n      <td>0</td>\n      <td>9523</td>\n      <td>...</td>\n      <td>123</td>\n      <td>0</td>\n      <td>0</td>\n      <td>84</td>\n      <td>0</td>\n      <td>0</td>\n      <td>0</td>\n      <td>0</td>\n      <td>8</td>\n      <td>0</td>\n    </tr>\n    <tr>\n      <th>73</th>\n      <td>0</td>\n      <td>0</td>\n      <td>0</td>\n      <td>0</td>\n      <td>0</td>\n      <td>0</td>\n      <td>0</td>\n      <td>0</td>\n      <td>0</td>\n      <td>374</td>\n      <td>...</td>\n      <td>0</td>\n      <td>0</td>\n      <td>0</td>\n      <td>0</td>\n      <td>0</td>\n      <td>0</td>\n      <td>0</td>\n      <td>0</td>\n      <td>0</td>\n      <td>0</td>\n    </tr>\n    <tr>\n      <th>91</th>\n      <td>0</td>\n      <td>0</td>\n      <td>0</td>\n      <td>4</td>\n      <td>0</td>\n      <td>0</td>\n      <td>153</td>\n      <td>694</td>\n      <td>0</td>\n      <td>10</td>\n      <td>...</td>\n      <td>1821</td>\n      <td>5</td>\n      <td>0</td>\n      <td>15</td>\n      <td>0</td>\n      <td>0</td>\n      <td>0</td>\n      <td>0</td>\n      <td>0</td>\n      <td>0</td>\n    </tr>\n    <tr>\n      <th>201</th>\n      <td>0</td>\n      <td>0</td>\n      <td>0</td>\n      <td>13</td>\n      <td>0</td>\n      <td>0</td>\n      <td>495</td>\n      <td>0</td>\n      <td>0</td>\n      <td>3</td>\n      <td>...</td>\n      <td>294</td>\n      <td>0</td>\n      <td>0</td>\n      <td>3</td>\n      <td>0</td>\n      <td>0</td>\n      <td>0</td>\n      <td>0</td>\n      <td>0</td>\n      <td>0</td>\n    </tr>\n    <tr>\n      <th>311</th>\n      <td>9</td>\n      <td>0</td>\n      <td>0</td>\n      <td>34</td>\n      <td>0</td>\n      <td>0</td>\n      <td>1513</td>\n      <td>1</td>\n      <td>0</td>\n      <td>352</td>\n      <td>...</td>\n      <td>681</td>\n      <td>344</td>\n      <td>0</td>\n      <td>621</td>\n      <td>0</td>\n      <td>25</td>\n      <td>0</td>\n      <td>0</td>\n      <td>0</td>\n      <td>16</td>\n    </tr>\n    <tr>\n      <th>321</th>\n      <td>0</td>\n      <td>0</td>\n      <td>0</td>\n      <td>332</td>\n      <td>0</td>\n      <td>0</td>\n      <td>5</td>\n      <td>0</td>\n      <td>0</td>\n      <td>0</td>\n      <td>...</td>\n      <td>233</td>\n      <td>0</td>\n      <td>0</td>\n      <td>7</td>\n      <td>0</td>\n      <td>1</td>\n      <td>0</td>\n      <td>0</td>\n      <td>0</td>\n      <td>0</td>\n    </tr>\n    <tr>\n      <th>341</th>\n      <td>0</td>\n      <td>0</td>\n      <td>0</td>\n      <td>0</td>\n      <td>0</td>\n      <td>0</td>\n      <td>13</td>\n      <td>0</td>\n      <td>0</td>\n      <td>8</td>\n      <td>...</td>\n      <td>0</td>\n      <td>0</td>\n      <td>0</td>\n      <td>0</td>\n      <td>0</td>\n      <td>0</td>\n      <td>0</td>\n      <td>0</td>\n      <td>0</td>\n      <td>0</td>\n    </tr>\n    <tr>\n      <th>342</th>\n      <td>0</td>\n      <td>0</td>\n      <td>0</td>\n      <td>47</td>\n      <td>0</td>\n      <td>0</td>\n      <td>0</td>\n      <td>0</td>\n      <td>0</td>\n      <td>0</td>\n      <td>...</td>\n      <td>4</td>\n      <td>1</td>\n      <td>0</td>\n      <td>0</td>\n      <td>0</td>\n      <td>0</td>\n      <td>0</td>\n      <td>0</td>\n      <td>0</td>\n      <td>0</td>\n    </tr>\n    <tr>\n      <th>541</th>\n      <td>0</td>\n      <td>0</td>\n      <td>0</td>\n      <td>0</td>\n      <td>0</td>\n      <td>0</td>\n      <td>150</td>\n      <td>0</td>\n      <td>0</td>\n      <td>52</td>\n      <td>...</td>\n      <td>0</td>\n      <td>0</td>\n      <td>0</td>\n      <td>0</td>\n      <td>0</td>\n      <td>0</td>\n      <td>0</td>\n      <td>0</td>\n      <td>0</td>\n      <td>0</td>\n    </tr>\n    <tr>\n      <th>542</th>\n      <td>0</td>\n      <td>0</td>\n      <td>0</td>\n      <td>146</td>\n      <td>0</td>\n      <td>0</td>\n      <td>0</td>\n      <td>0</td>\n      <td>0</td>\n      <td>0</td>\n      <td>...</td>\n      <td>0</td>\n      <td>0</td>\n      <td>0</td>\n      <td>0</td>\n      <td>0</td>\n      <td>0</td>\n      <td>0</td>\n      <td>0</td>\n      <td>0</td>\n      <td>0</td>\n    </tr>\n    <tr>\n      <th>743</th>\n      <td>0</td>\n      <td>0</td>\n      <td>0</td>\n      <td>0</td>\n      <td>0</td>\n      <td>0</td>\n      <td>23</td>\n      <td>0</td>\n      <td>0</td>\n      <td>86</td>\n      <td>...</td>\n      <td>51</td>\n      <td>256</td>\n      <td>0</td>\n      <td>18</td>\n      <td>0</td>\n      <td>0</td>\n      <td>0</td>\n      <td>0</td>\n      <td>0</td>\n      <td>0</td>\n    </tr>\n    <tr>\n      <th>821</th>\n      <td>0</td>\n      <td>0</td>\n      <td>0</td>\n      <td>0</td>\n      <td>0</td>\n      <td>0</td>\n      <td>14</td>\n      <td>0</td>\n      <td>0</td>\n      <td>0</td>\n      <td>...</td>\n      <td>51</td>\n      <td>5</td>\n      <td>0</td>\n      <td>0</td>\n      <td>0</td>\n      <td>324</td>\n      <td>0</td>\n      <td>0</td>\n      <td>0</td>\n      <td>0</td>\n    </tr>\n    <tr>\n      <th>901</th>\n      <td>0</td>\n      <td>0</td>\n      <td>0</td>\n      <td>2</td>\n      <td>0</td>\n      <td>0</td>\n      <td>634</td>\n      <td>148</td>\n      <td>0</td>\n      <td>0</td>\n      <td>...</td>\n      <td>921</td>\n      <td>0</td>\n      <td>0</td>\n      <td>76</td>\n      <td>0</td>\n      <td>0</td>\n      <td>0</td>\n      <td>0</td>\n      <td>0</td>\n      <td>0</td>\n    </tr>\n    <tr>\n      <th>931</th>\n      <td>0</td>\n      <td>0</td>\n      <td>0</td>\n      <td>0</td>\n      <td>0</td>\n      <td>0</td>\n      <td>242</td>\n      <td>0</td>\n      <td>0</td>\n      <td>0</td>\n      <td>...</td>\n      <td>383</td>\n      <td>12</td>\n      <td>0</td>\n      <td>1</td>\n      <td>0</td>\n      <td>0</td>\n      <td>0</td>\n      <td>0</td>\n      <td>0</td>\n      <td>0</td>\n    </tr>\n    <tr>\n      <th>959</th>\n      <td>0</td>\n      <td>0</td>\n      <td>0</td>\n      <td>0</td>\n      <td>0</td>\n      <td>0</td>\n      <td>2</td>\n      <td>0</td>\n      <td>0</td>\n      <td>0</td>\n      <td>...</td>\n      <td>0</td>\n      <td>0</td>\n      <td>0</td>\n      <td>0</td>\n      <td>0</td>\n      <td>0</td>\n      <td>0</td>\n      <td>0</td>\n      <td>0</td>\n      <td>0</td>\n    </tr>\n    <tr>\n      <th>4111</th>\n      <td>0</td>\n      <td>0</td>\n      <td>0</td>\n      <td>0</td>\n      <td>0</td>\n      <td>0</td>\n      <td>3</td>\n      <td>0</td>\n      <td>0</td>\n      <td>0</td>\n      <td>...</td>\n      <td>0</td>\n      <td>0</td>\n      <td>0</td>\n      <td>670</td>\n      <td>0</td>\n      <td>0</td>\n      <td>0</td>\n      <td>0</td>\n      <td>0</td>\n      <td>0</td>\n    </tr>\n    <tr>\n      <th>9202</th>\n      <td>56</td>\n      <td>0</td>\n      <td>0</td>\n      <td>0</td>\n      <td>0</td>\n      <td>0</td>\n      <td>0</td>\n      <td>0</td>\n      <td>0</td>\n      <td>909</td>\n      <td>...</td>\n      <td>0</td>\n      <td>0</td>\n      <td>0</td>\n      <td>0</td>\n      <td>0</td>\n      <td>0</td>\n      <td>0</td>\n      <td>0</td>\n      <td>0</td>\n      <td>0</td>\n    </tr>\n    <tr>\n      <th>9410</th>\n      <td>0</td>\n      <td>0</td>\n      <td>0</td>\n      <td>0</td>\n      <td>0</td>\n      <td>0</td>\n      <td>45</td>\n      <td>0</td>\n      <td>0</td>\n      <td>0</td>\n      <td>...</td>\n      <td>3</td>\n      <td>0</td>\n      <td>0</td>\n      <td>0</td>\n      <td>0</td>\n      <td>202</td>\n      <td>0</td>\n      <td>0</td>\n      <td>0</td>\n      <td>0</td>\n    </tr>\n    <tr>\n      <th>9535</th>\n      <td>0</td>\n      <td>0</td>\n      <td>0</td>\n      <td>6</td>\n      <td>0</td>\n      <td>0</td>\n      <td>31</td>\n      <td>0</td>\n      <td>0</td>\n      <td>0</td>\n      <td>...</td>\n      <td>3</td>\n      <td>114</td>\n      <td>0</td>\n      <td>0</td>\n      <td>0</td>\n      <td>0</td>\n      <td>0</td>\n      <td>0</td>\n      <td>0</td>\n      <td>319</td>\n    </tr>\n    <tr>\n      <th>9741</th>\n      <td>89</td>\n      <td>0</td>\n      <td>0</td>\n      <td>22</td>\n      <td>2</td>\n      <td>0</td>\n      <td>0</td>\n      <td>0</td>\n      <td>0</td>\n      <td>104</td>\n      <td>...</td>\n      <td>0</td>\n      <td>0</td>\n      <td>0</td>\n      <td>0</td>\n      <td>0</td>\n      <td>0</td>\n      <td>0</td>\n      <td>113</td>\n      <td>0</td>\n      <td>0</td>\n    </tr>\n    <tr>\n      <th>9742</th>\n      <td>38</td>\n      <td>0</td>\n      <td>0</td>\n      <td>0</td>\n      <td>0</td>\n      <td>0</td>\n      <td>0</td>\n      <td>0</td>\n      <td>0</td>\n      <td>586</td>\n      <td>...</td>\n      <td>0</td>\n      <td>0</td>\n      <td>0</td>\n      <td>0</td>\n      <td>0</td>\n      <td>0</td>\n      <td>0</td>\n      <td>0</td>\n      <td>0</td>\n      <td>0</td>\n    </tr>\n    <tr>\n      <th>9812</th>\n      <td>0</td>\n      <td>0</td>\n      <td>0</td>\n      <td>0</td>\n      <td>0</td>\n      <td>0</td>\n      <td>3</td>\n      <td>0</td>\n      <td>0</td>\n      <td>0</td>\n      <td>...</td>\n      <td>2</td>\n      <td>4</td>\n      <td>0</td>\n      <td>0</td>\n      <td>0</td>\n      <td>0</td>\n      <td>0</td>\n      <td>0</td>\n      <td>0</td>\n      <td>0</td>\n    </tr>\n  </tbody>\n</table>\n<p>31 rows × 31 columns</p>\n</div>"
     },
     "metadata": {}
    }
   ],
   "source": [
    "# Open in-situ used for validation\n",
    "src = rasterio.open(in_situ_val_tif, \"r\")\n",
    "val_arr = src.read(1)\n",
    "src.close()\n",
    "\n",
    "# Open classification map\n",
    "src = rasterio.open(classif_tif, \"r\")\n",
    "classif_arr = src.read(1)\n",
    "src.close()\n",
    "\n",
    "# Get the postion of validation pixels\n",
    "idx = np.where(val_arr == no_data_rasterize, 0, 1).astype(bool)\n",
    "\n",
    "\n",
    "# Ground truth (correct) target values\n",
    "y_true = val_arr[idx]\n",
    "# Estimated targets as returned by a classifier.\n",
    "y_pred = classif_arr[idx]\n",
    "\n",
    "\n",
    "labels_all    = np.concatenate((y_true, y_pred))\n",
    "labels_unique = np.unique(labels_all)\n",
    "\n",
    "\n",
    "# Compute Confusion Matrix\n",
    "cm = confusion_matrix(y_true, y_pred)\n",
    "\n",
    "#disp = ConfusionMatrixDisplay(confusion_matrix=cm, display_labels=labels)\n",
    "\n",
    "\n",
    "# Convert CM into panda dataframe and save it\n",
    "cm_df = pd.DataFrame(cm)\n",
    "\n",
    "cm_df.to_csv(cm_csv, index=False, sep=';')\n",
    "\n",
    "cm_values = cm_df.values\n",
    "\n",
    "cm_df.columns = labels_unique\n",
    "cm_df.index = labels_unique\n",
    "\n",
    "display(cm_df)\n",
    "\n"
   ]
  },
  {
   "source": [
    "## Compute accuracy metrics\n",
    "\n",
    "### Compute Overall Accuracy"
   ],
   "cell_type": "markdown",
   "metadata": {}
  },
  {
   "cell_type": "code",
   "execution_count": 7,
   "metadata": {},
   "outputs": [
    {
     "output_type": "stream",
     "name": "stdout",
     "text": [
      "Overall Accuracy (by hand)      : 41.32%\nOverall Accuracy (scikit-learn) : 41.32%\n"
     ]
    }
   ],
   "source": [
    "\n",
    "# By hand\n",
    "OA = (np.trace(cm) / float(np.sum(cm)))\n",
    "\n",
    "# With scikit-learn function\n",
    "OA_sk = accuracy_score(y_true, y_pred)\n",
    "\n",
    "print(f'Overall Accuracy (by hand)      : {round(OA*100,2)}%')\n",
    "print(f'Overall Accuracy (scikit-learn) : {round(OA_sk*100,2)}%')\n"
   ]
  },
  {
   "source": [
    "### Build a text report showing the main classification metrics\n",
    "\n",
    " Some labels in `y_test` don't appear in `y_pred`. Specifically in this case, label '2' is never predicted:"
   ],
   "cell_type": "markdown",
   "metadata": {}
  },
  {
   "cell_type": "code",
   "execution_count": 8,
   "metadata": {},
   "outputs": [
    {
     "output_type": "stream",
     "name": "stdout",
     "text": [
      "7 classes are missing in the classification (y_pred) : {9535, 743, 12, 9202, 341, 53, 959} \n",
      "\n",
      "              precision    recall  f1-score   support\n",
      "\n",
      "           6       0.64      0.99      0.78       802\n",
      "           9       1.00      0.01      0.01       188\n",
      "          12       0.00      0.00      0.00        21\n",
      "          19       0.43      0.91      0.59       613\n",
      "          20       0.29      0.03      0.06        61\n",
      "          21       0.54      0.96      0.69        56\n",
      "          36       0.01      0.02      0.01      1173\n",
      "          45       0.00      0.00      0.00       354\n",
      "          53       0.00      0.00      0.00       515\n",
      "          62       0.79      0.92      0.85     10301\n",
      "          73       0.00      0.00      0.00       374\n",
      "          91       0.00      0.00      0.00      8729\n",
      "         201       0.07      0.36      0.11      1649\n",
      "         311       0.80      0.42      0.55     18885\n",
      "         321       0.16      0.59      0.25      2161\n",
      "         341       0.00      0.00      0.00       329\n",
      "         342       0.63      0.76      0.69       307\n",
      "         541       0.65      0.40      0.49       358\n",
      "         542       0.00      0.00      0.00       285\n",
      "         743       0.00      0.00      0.00       614\n",
      "         821       0.00      0.00      0.00       733\n",
      "         901       0.20      0.49      0.29      1873\n",
      "         931       0.02      0.02      0.02       639\n",
      "         959       0.00      0.00      0.00       292\n",
      "        4111       0.45      0.96      0.61       696\n",
      "        9202       0.00      0.00      0.00       974\n",
      "        9410       0.37      0.55      0.44       368\n",
      "        9535       0.00      0.00      0.00       685\n",
      "        9741       1.00      0.32      0.48       354\n",
      "        9742       0.00      0.00      0.00       711\n",
      "        9812       0.00      0.00      0.00       544\n",
      "\n",
      "    accuracy                           0.41     55644\n",
      "   macro avg       0.26      0.28      0.22     55644\n",
      "weighted avg       0.47      0.41      0.41     55644\n",
      "\n",
      "/Users/Nicolas/miniconda3/envs/python_3_6/lib/python3.6/site-packages/sklearn/metrics/_classification.py:1245: UndefinedMetricWarning: Precision and F-score are ill-defined and being set to 0.0 in labels with no predicted samples. Use `zero_division` parameter to control this behavior.\n",
      "  _warn_prf(average, modifier, msg_start, len(result))\n",
      "/Users/Nicolas/miniconda3/envs/python_3_6/lib/python3.6/site-packages/sklearn/metrics/_classification.py:1245: UndefinedMetricWarning: Precision and F-score are ill-defined and being set to 0.0 in labels with no predicted samples. Use `zero_division` parameter to control this behavior.\n",
      "  _warn_prf(average, modifier, msg_start, len(result))\n",
      "/Users/Nicolas/miniconda3/envs/python_3_6/lib/python3.6/site-packages/sklearn/metrics/_classification.py:1245: UndefinedMetricWarning: Precision and F-score are ill-defined and being set to 0.0 in labels with no predicted samples. Use `zero_division` parameter to control this behavior.\n",
      "  _warn_prf(average, modifier, msg_start, len(result))\n"
     ]
    }
   ],
   "source": [
    "classes_missing = set(y_true) - set(y_pred)\n",
    "print(f'{len(classes_missing)} classes are missing in the classification (y_pred) : {classes_missing} \\n')\n",
    "\n",
    "\n",
    "acc_metrics_all = classification_report(y_true, y_pred, labels=labels_unique)\n",
    "\n",
    "print(acc_metrics_all)"
   ]
  },
  {
   "source": [
    "If you decide that you are not interested in the scores of labels that were not predicted, then you can explicitly specify the labels you are interested in (which are labels that were predicted at least once)."
   ],
   "cell_type": "markdown",
   "metadata": {}
  },
  {
   "cell_type": "code",
   "execution_count": 9,
   "metadata": {},
   "outputs": [
    {
     "output_type": "stream",
     "name": "stdout",
     "text": [
      "              precision    recall  f1-score   support\n\n           6       0.64      0.99      0.78       802\n           9       1.00      0.01      0.01       188\n          19       0.43      0.91      0.59       613\n          20       0.29      0.03      0.06        61\n          21       0.54      0.96      0.69        56\n          36       0.01      0.02      0.01      1173\n          45       0.00      0.00      0.00       354\n          62       0.79      0.92      0.85     10301\n          73       0.00      0.00      0.00       374\n          91       0.00      0.00      0.00      8729\n         201       0.07      0.36      0.11      1649\n         311       0.80      0.42      0.55     18885\n         321       0.16      0.59      0.25      2161\n         342       0.63      0.76      0.69       307\n         541       0.65      0.40      0.49       358\n         542       0.00      0.00      0.00       285\n         821       0.00      0.00      0.00       733\n         901       0.20      0.49      0.29      1873\n         931       0.02      0.02      0.02       639\n        4111       0.45      0.96      0.61       696\n        9410       0.37      0.55      0.44       368\n        9741       1.00      0.32      0.48       354\n        9742       0.00      0.00      0.00       711\n        9812       0.00      0.00      0.00       544\n\n   micro avg       0.41      0.44      0.43     52214\n   macro avg       0.33      0.36      0.29     52214\nweighted avg       0.50      0.44      0.43     52214\n\n"
     ]
    }
   ],
   "source": [
    "acc_metrics_pred = classification_report(y_true, y_pred, labels=np.unique(y_pred))\n",
    "\n",
    "print(acc_metrics_pred)\n"
   ]
  }
 ]
}