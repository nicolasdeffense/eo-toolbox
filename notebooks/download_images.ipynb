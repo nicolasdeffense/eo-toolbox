{
 "cells": [
  {
   "cell_type": "markdown",
   "source": [
    "# Download images with `sentinelsat`\n",
    "\n",
    "\n",
    "The *Copernicus Open Access Hub* provides complete, free and open access to Sentinel-1, Sentinel-2, Sentinel-3 and Sentinel-5P user products.\n",
    "\n",
    "`sentinelsat` makes searching, downloading and retrieving the metadata of Sentinel satellite images from the Copernicus Open Access Hub easy.\n",
    "\n"
   ],
   "metadata": {}
  },
  {
   "cell_type": "code",
   "execution_count": 1,
   "source": [
    "import sentinelsat\n",
    "from sentinelsat import SentinelAPI, read_geojson, geojson_to_wkt\n",
    "from pathlib import Path\n",
    "from datetime import date\n",
    "import geopandas as gpd\n",
    "from IPython.display import display\n",
    "\n",
    "print(f'sentinelsat : {sentinelsat.__version__}')"
   ],
   "outputs": [
    {
     "output_type": "stream",
     "name": "stdout",
     "text": [
      "sentinelsat : 1.0.1\n"
     ]
    }
   ],
   "metadata": {}
  },
  {
   "cell_type": "markdown",
   "source": [
    "## Set directory"
   ],
   "metadata": {}
  },
  {
   "cell_type": "code",
   "execution_count": 2,
   "source": [
    "computer_path = '/Volumes/nbdid-sst-lbrat2104/'\n",
    "grp_letter    = 'X'\n",
    "\n",
    "# Directory for all work files\n",
    "work_path = f'{computer_path}GROUP_{grp_letter}/WORK/'\n",
    "\n",
    "roi_path = f'{work_path}ROI/'\n",
    "\n",
    "Path(roi_path).mkdir(parents=True, exist_ok=True)"
   ],
   "outputs": [],
   "metadata": {}
  },
  {
   "cell_type": "markdown",
   "source": [
    "## Set Region of Interest"
   ],
   "metadata": {}
  },
  {
   "cell_type": "code",
   "execution_count": 7,
   "source": [
    "roi_file      = f'{roi_path}extent_roi_32631.shp'\n",
    "roi_file_json = f'{roi_path}extent_roi_4326.geojson'\n",
    "\n",
    "print(f'ROI file : {roi_file}')\n",
    "\n",
    "# Convert to WGS 84 if needed\n",
    "\n",
    "roi_gdf = gpd.read_file(roi_file)\n",
    "\n",
    "if roi_gdf.crs != 'epsg:4326':\n",
    "    print(f'Old CRS : {roi_gdf.crs}')\n",
    "    \n",
    "    roi_gdf = roi_gdf.to_crs('epsg:4326')\n",
    "\n",
    "    print((f'New CRS : {roi_gdf.crs}'))\n",
    "\n",
    "\n",
    "# Write ROI file in GeoJSON format\n",
    "\n",
    "roi_gdf.to_file(roi_file_json,  driver='GeoJSON')\n"
   ],
   "outputs": [
    {
     "output_type": "stream",
     "name": "stdout",
     "text": [
      "ROI file : /Volumes/nbdid-sst-lbrat2104/GROUP_X/WORK/ROI/extent_roi_32631.shp\n",
      "Old CRS : epsg:32631\n",
      "New CRS : epsg:4326\n"
     ]
    }
   ],
   "metadata": {}
  },
  {
   "cell_type": "markdown",
   "source": [
    "## Authentification\n",
    "\n",
    "The Copernicus Open Access Hub and probably most Data Hubs require authentication.\n",
    "\n",
    "You can provide your credentials with **SentinelAPI(your username , your password)**\n"
   ],
   "metadata": {}
  },
  {
   "cell_type": "code",
   "execution_count": 8,
   "source": [
    "user     = 'ndeffense'\n",
    "password = 'lbrat2104'\n",
    "\n",
    "# Connect to the API\n",
    "\n",
    "api = SentinelAPI(user, password)"
   ],
   "outputs": [],
   "metadata": {}
  },
  {
   "cell_type": "markdown",
   "source": [
    "## Sorting & Filtering\n",
    "\n",
    "In addition to the *search query keywords* sentinelsat allows filtering and sorting of search results before download. To simplify these operations sentinelsat offers the convenience functions `to_geojson()`, `to_dataframe()` and `to_geodataframe()` which return the search results as a GeoJSON object, Pandas DataFrame or a GeoPandas GeoDataFrame, respectively. `to_dataframe()` and `to_geodataframe()` require pandas and geopandas to be installed, respectively.\n",
    "\n",
    "In this example we query Sentinel-2 scenes over a location and convert the query results to a Pandas DataFrame. The DataFrame is then sorted by cloud cover and ingestion date. We limit the query to first 5 results within our timespan and download them, starting with the least cloudy scene. Filtering can be done with all data types, as long as you pass the id to the download function."
   ],
   "metadata": {}
  },
  {
   "cell_type": "code",
   "execution_count": 9,
   "source": [
    "start_date    = date(2021, 7, 1)\n",
    "end_date      = date(2021, 7, 14)\n",
    "\n",
    "dates = (start_date, end_date)\n",
    "\n",
    "platform_name = 'Sentinel-2'\n",
    "\n",
    "if platform_name == 'Sentinel-2':\n",
    "    s2_level    = 'Level-2A'\n",
    "    cloud_cover = (0,90)\n",
    "\n",
    "elif platform_name == 'Sentinel-1':\n",
    "    polarisation_mode =  'VV VH'"
   ],
   "outputs": [],
   "metadata": {}
  },
  {
   "cell_type": "code",
   "execution_count": 25,
   "source": [
    "# Search by polygon, time, and SciHub query keywords\n",
    "\n",
    "footprint = geojson_to_wkt(read_geojson(roi_file_json))\n",
    "\n",
    "if platform_name == 'Sentinel-2':\n",
    "\n",
    "    products = api.query(footprint,\n",
    "                        date = dates,\n",
    "                        platformname = platform_name,\n",
    "                        processinglevel = s2_level,\n",
    "                        cloudcoverpercentage = cloud_cover)\n",
    "\n",
    "\n",
    "# convert to Pandas DataFrame\n",
    "products_df = api.to_dataframe(products)\n",
    "\n",
    "# sort and limit to first 5 sorted products\n",
    "\n",
    "products_df_sorted = products_df.sort_values(['cloudcoverpercentage', 'ingestiondate'], ascending=[True, True])\n",
    "products_df_sorted = products_df_sorted[['cloudcoverpercentage','ingestiondate']]\n",
    "\n",
    "display(products_df_sorted)\n",
    "\n",
    "\n",
    "#products_df_sorted = products_df_sorted[0:1][0:1]\n",
    "\n",
    "products_df_sorted = products_df_sorted[0:1]\n",
    "\n",
    "\n",
    "display(products_df_sorted)\n",
    "\n",
    "# download sorted and reduced products\n",
    "\n",
    "#api.download_all(products_df_sorted.index)\n",
    "\n",
    "#api.download_all(['96b88d4d-216d-4451-a7f5-038296e58034\t'])\n",
    "\n"
   ],
   "outputs": [
    {
     "output_type": "display_data",
     "data": {
      "text/plain": [
       "                                      cloudcoverpercentage  \\\n",
       "96b88d4d-216d-4451-a7f5-038296e58034             53.508500   \n",
       "3c7677f8-53c5-42a3-b9b6-3d4f18522a4c             54.091415   \n",
       "56ff792c-8b3d-472d-a924-2aca10d4fcfb             54.838980   \n",
       "189b7167-c9f2-489b-9ec6-c70e26dde41e             56.691900   \n",
       "c8484458-dcc2-4df7-b86c-433e57427bd4             58.206305   \n",
       "2e325d44-df18-4807-ab5d-27532b0a3a1e             59.853900   \n",
       "c7f695f9-5ec7-4fab-b4dc-10c14985f924             69.949300   \n",
       "cd6e3f34-2582-426a-95e4-a157b1437484             71.924243   \n",
       "d6a16dff-93e5-4351-b079-51cf29ef46b7             75.208396   \n",
       "dd59d338-c10d-4f7e-ab2d-93b32b5bb274             75.445667   \n",
       "b3c31eb0-680a-4b70-b495-272c4e48cbbe             75.575900   \n",
       "2fd9d8c7-ed7f-4b70-8951-d6770dbf4ea9             76.016600   \n",
       "\n",
       "                                               ingestiondate  \n",
       "96b88d4d-216d-4451-a7f5-038296e58034 2021-07-11 14:42:56.931  \n",
       "3c7677f8-53c5-42a3-b9b6-3d4f18522a4c 2021-07-09 17:59:20.908  \n",
       "56ff792c-8b3d-472d-a924-2aca10d4fcfb 2021-07-09 17:43:59.361  \n",
       "189b7167-c9f2-489b-9ec6-c70e26dde41e 2021-07-09 15:55:23.661  \n",
       "c8484458-dcc2-4df7-b86c-433e57427bd4 2021-07-11 16:47:37.009  \n",
       "2e325d44-df18-4807-ab5d-27532b0a3a1e 2021-07-09 15:58:58.874  \n",
       "c7f695f9-5ec7-4fab-b4dc-10c14985f924 2021-07-11 14:50:29.585  \n",
       "cd6e3f34-2582-426a-95e4-a157b1437484 2021-07-06 18:25:36.017  \n",
       "d6a16dff-93e5-4351-b079-51cf29ef46b7 2021-07-06 18:10:42.760  \n",
       "dd59d338-c10d-4f7e-ab2d-93b32b5bb274 2021-07-11 16:48:35.876  \n",
       "b3c31eb0-680a-4b70-b495-272c4e48cbbe 2021-07-06 14:31:28.003  \n",
       "2fd9d8c7-ed7f-4b70-8951-d6770dbf4ea9 2021-07-06 14:23:23.727  "
      ],
      "text/html": [
       "<div>\n",
       "<style scoped>\n",
       "    .dataframe tbody tr th:only-of-type {\n",
       "        vertical-align: middle;\n",
       "    }\n",
       "\n",
       "    .dataframe tbody tr th {\n",
       "        vertical-align: top;\n",
       "    }\n",
       "\n",
       "    .dataframe thead th {\n",
       "        text-align: right;\n",
       "    }\n",
       "</style>\n",
       "<table border=\"1\" class=\"dataframe\">\n",
       "  <thead>\n",
       "    <tr style=\"text-align: right;\">\n",
       "      <th></th>\n",
       "      <th>cloudcoverpercentage</th>\n",
       "      <th>ingestiondate</th>\n",
       "    </tr>\n",
       "  </thead>\n",
       "  <tbody>\n",
       "    <tr>\n",
       "      <th>96b88d4d-216d-4451-a7f5-038296e58034</th>\n",
       "      <td>53.508500</td>\n",
       "      <td>2021-07-11 14:42:56.931</td>\n",
       "    </tr>\n",
       "    <tr>\n",
       "      <th>3c7677f8-53c5-42a3-b9b6-3d4f18522a4c</th>\n",
       "      <td>54.091415</td>\n",
       "      <td>2021-07-09 17:59:20.908</td>\n",
       "    </tr>\n",
       "    <tr>\n",
       "      <th>56ff792c-8b3d-472d-a924-2aca10d4fcfb</th>\n",
       "      <td>54.838980</td>\n",
       "      <td>2021-07-09 17:43:59.361</td>\n",
       "    </tr>\n",
       "    <tr>\n",
       "      <th>189b7167-c9f2-489b-9ec6-c70e26dde41e</th>\n",
       "      <td>56.691900</td>\n",
       "      <td>2021-07-09 15:55:23.661</td>\n",
       "    </tr>\n",
       "    <tr>\n",
       "      <th>c8484458-dcc2-4df7-b86c-433e57427bd4</th>\n",
       "      <td>58.206305</td>\n",
       "      <td>2021-07-11 16:47:37.009</td>\n",
       "    </tr>\n",
       "    <tr>\n",
       "      <th>2e325d44-df18-4807-ab5d-27532b0a3a1e</th>\n",
       "      <td>59.853900</td>\n",
       "      <td>2021-07-09 15:58:58.874</td>\n",
       "    </tr>\n",
       "    <tr>\n",
       "      <th>c7f695f9-5ec7-4fab-b4dc-10c14985f924</th>\n",
       "      <td>69.949300</td>\n",
       "      <td>2021-07-11 14:50:29.585</td>\n",
       "    </tr>\n",
       "    <tr>\n",
       "      <th>cd6e3f34-2582-426a-95e4-a157b1437484</th>\n",
       "      <td>71.924243</td>\n",
       "      <td>2021-07-06 18:25:36.017</td>\n",
       "    </tr>\n",
       "    <tr>\n",
       "      <th>d6a16dff-93e5-4351-b079-51cf29ef46b7</th>\n",
       "      <td>75.208396</td>\n",
       "      <td>2021-07-06 18:10:42.760</td>\n",
       "    </tr>\n",
       "    <tr>\n",
       "      <th>dd59d338-c10d-4f7e-ab2d-93b32b5bb274</th>\n",
       "      <td>75.445667</td>\n",
       "      <td>2021-07-11 16:48:35.876</td>\n",
       "    </tr>\n",
       "    <tr>\n",
       "      <th>b3c31eb0-680a-4b70-b495-272c4e48cbbe</th>\n",
       "      <td>75.575900</td>\n",
       "      <td>2021-07-06 14:31:28.003</td>\n",
       "    </tr>\n",
       "    <tr>\n",
       "      <th>2fd9d8c7-ed7f-4b70-8951-d6770dbf4ea9</th>\n",
       "      <td>76.016600</td>\n",
       "      <td>2021-07-06 14:23:23.727</td>\n",
       "    </tr>\n",
       "  </tbody>\n",
       "</table>\n",
       "</div>"
      ]
     },
     "metadata": {}
    },
    {
     "output_type": "display_data",
     "data": {
      "text/plain": [
       "                                      cloudcoverpercentage  \\\n",
       "96b88d4d-216d-4451-a7f5-038296e58034               53.5085   \n",
       "\n",
       "                                               ingestiondate  \n",
       "96b88d4d-216d-4451-a7f5-038296e58034 2021-07-11 14:42:56.931  "
      ],
      "text/html": [
       "<div>\n",
       "<style scoped>\n",
       "    .dataframe tbody tr th:only-of-type {\n",
       "        vertical-align: middle;\n",
       "    }\n",
       "\n",
       "    .dataframe tbody tr th {\n",
       "        vertical-align: top;\n",
       "    }\n",
       "\n",
       "    .dataframe thead th {\n",
       "        text-align: right;\n",
       "    }\n",
       "</style>\n",
       "<table border=\"1\" class=\"dataframe\">\n",
       "  <thead>\n",
       "    <tr style=\"text-align: right;\">\n",
       "      <th></th>\n",
       "      <th>cloudcoverpercentage</th>\n",
       "      <th>ingestiondate</th>\n",
       "    </tr>\n",
       "  </thead>\n",
       "  <tbody>\n",
       "    <tr>\n",
       "      <th>96b88d4d-216d-4451-a7f5-038296e58034</th>\n",
       "      <td>53.5085</td>\n",
       "      <td>2021-07-11 14:42:56.931</td>\n",
       "    </tr>\n",
       "  </tbody>\n",
       "</table>\n",
       "</div>"
      ]
     },
     "metadata": {}
    }
   ],
   "metadata": {}
  },
  {
   "cell_type": "code",
   "execution_count": null,
   "source": [
    "\n",
    "\n",
    "footprint = geojson_to_wkt(read_geojson('search_polygon.geojson'))\n",
    "\n",
    "products = api.query(footprint,\n",
    "                     producttype='SLC',\n",
    "                     orbitdirection='ASCENDING',\n",
    "                     limit=10)\n",
    "\n",
    "api.download_all(products)"
   ],
   "outputs": [],
   "metadata": {}
  }
 ],
 "metadata": {
  "orig_nbformat": 4,
  "language_info": {
   "name": "python",
   "version": "3.6.10",
   "mimetype": "text/x-python",
   "codemirror_mode": {
    "name": "ipython",
    "version": 3
   },
   "pygments_lexer": "ipython3",
   "nbconvert_exporter": "python",
   "file_extension": ".py"
  },
  "kernelspec": {
   "name": "python3",
   "display_name": "Python 3.6.10 64-bit ('python_3_6': conda)"
  },
  "interpreter": {
   "hash": "d44a822591a3717b24d3edf137db462f6168d56f0b857c252a9153258824edbd"
  }
 },
 "nbformat": 4,
 "nbformat_minor": 2
}