{
 "metadata": {
  "language_info": {
   "codemirror_mode": {
    "name": "ipython",
    "version": 3
   },
   "file_extension": ".py",
   "mimetype": "text/x-python",
   "name": "python",
   "nbconvert_exporter": "python",
   "pygments_lexer": "ipython3",
   "version": "3.6.10"
  },
  "orig_nbformat": 2,
  "kernelspec": {
   "name": "python3610jvsc74a57bd0d44a822591a3717b24d3edf137db462f6168d56f0b857c252a9153258824edbd",
   "display_name": "Python 3.6.10 64-bit ('python_3_6': conda)"
  }
 },
 "nbformat": 4,
 "nbformat_minor": 2,
 "cells": [
  {
   "source": [
    "# Classification using Random Forest\n",
    "\n",
    "In this chapter we will be using the Random Forest implementation provided by the `scikit-learn` library. Scikit-learn is an amazing machine learning library that provides easy and consistent interfaces to many of the most popular machine learning algorithms. It is built on top of the pre-existing scientific Python libraries, including NumPy, SciPy, and matplotlib, which makes it very easy to incorporate into your workflow. The number of available methods for accomplishing any task contained within the library is (in my opinion) its real strength. No single algorithm is best for all tasks under all circumstances, and scikit-learn helps you understand this by abstracting the details of each algorithm to simple consistent interfaces.\n",
    "\n",
    "This following figure shows the classification predictions and the decision surfaces produced for three classification problems using 9 different classifiers.\n",
    "\n",
    "<img src=\"https://scikit-learn.org/0.15/_images/plot_classifier_comparison_0011.png\">\n",
    "\n",
    "credit : https://ceholden.github.io/open-geo-tutorial/python/chapter_5_classification.html"
   ],
   "cell_type": "markdown",
   "metadata": {}
  },
  {
   "cell_type": "code",
   "execution_count": 38,
   "metadata": {},
   "outputs": [
    {
     "output_type": "stream",
     "name": "stdout",
     "text": [
      "Numpy : 1.19.2\nPandas : 1.1.5\nGeoPandas : 0.8.1\nScikit-learn: 0.24.1\n"
     ]
    }
   ],
   "source": [
    "import glob, os, time\n",
    "import numpy as np\n",
    "import pandas as pd\n",
    "import geopandas as gpd\n",
    "import rasterio\n",
    "from rasterio import features\n",
    "\n",
    "import matplotlib.pyplot as plt\n",
    "\n",
    "import sklearn\n",
    "from sklearn.ensemble import RandomForestClassifier\n",
    "#from sklearn.datasets import make_classification\n",
    "from sklearn.metrics import confusion_matrix, ConfusionMatrixDisplay\n",
    "\n",
    "from pathlib import Path\n",
    "from IPython.display import display\n",
    "\n",
    "print(f'Numpy : {np.__version__}')\n",
    "print(f'Pandas : {pd.__version__}')\n",
    "print(f'GeoPandas : {gpd.__version__}')\n",
    "print(f'Scikit-learn: {sklearn.__version__}')"
   ]
  },
  {
   "source": [
    "## Set paths for input and output directories"
   ],
   "cell_type": "markdown",
   "metadata": {}
  },
  {
   "cell_type": "code",
   "execution_count": 2,
   "metadata": {},
   "outputs": [
    {
     "output_type": "stream",
     "name": "stdout",
     "text": [
      "Classification path are set to : /Volumes/nbdid-sst-lbrat2104/GROUP_X/WORK/CLASSIF/\n"
     ]
    }
   ],
   "source": [
    "#computer_path = 'X:/'\n",
    "computer_path = '/Volumes/nbdid-sst-lbrat2104/'\n",
    "grp_letter    = 'X'\n",
    "\n",
    "# Directory for all work files\n",
    "work_path = f'{computer_path}GROUP_{grp_letter}/WORK/'\n",
    "\n",
    "# ----- #\n",
    "# INPUT #\n",
    "# ----- #\n",
    "\n",
    "im_path   = f'{work_path}3_L2A_MASKED/'\n",
    "ndvi_path = f'{work_path}NDVI/'\n",
    "\n",
    "in_situ_SD_path = f'{work_path}IN_SITU_SD/'\n",
    "\n",
    "# ------ #\n",
    "# OUTPUT #\n",
    "# ------ #\n",
    "\n",
    "classif_path = f'{work_path}CLASSIF/'\n",
    "\n",
    "Path(classif_path).mkdir(parents=True, exist_ok=True)\n",
    "\n",
    "print(f'Classification path are set to : {classif_path}')\n"
   ]
  },
  {
   "source": [
    "## Preparing the dataset\n",
    "\n",
    "### Rasterize in-situ data shapefile\n"
   ],
   "cell_type": "markdown",
   "metadata": {}
  },
  {
   "cell_type": "code",
   "execution_count": 4,
   "metadata": {
    "tags": []
   },
   "outputs": [
    {
     "output_type": "stream",
     "name": "stdout",
     "text": [
      "Raster template file : /Volumes/nbdid-sst-lbrat2104/GROUP_X/WORK/3_L2A_MASKED/T31UFS_20200116T105309_B02_10m_ROI_SCL.tif\n",
      "Rasterize /Volumes/nbdid-sst-lbrat2104/GROUP_X/WORK/IN_SITU_SD/WALLONIA_2018_IN_SITU_ROI_cal.shp\n",
      "Rasterize /Volumes/nbdid-sst-lbrat2104/GROUP_X/WORK/IN_SITU_SD/WALLONIA_2018_IN_SITU_ROI_val.shp\n"
     ]
    }
   ],
   "source": [
    "# Set up filenames\n",
    "\n",
    "in_situ_name = 'WALLONIA_2018_IN_SITU_ROI'\n",
    "\n",
    "in_situ_cal_shp = f'{in_situ_SD_path}{in_situ_name}_cal.shp'\n",
    "in_situ_cal_tif = f'{in_situ_SD_path}{in_situ_name}_cal.tif'\n",
    "in_situ_val_shp = f'{in_situ_SD_path}{in_situ_name}_val.shp'\n",
    "in_situ_val_tif = f'{in_situ_SD_path}{in_situ_name}_val.tif'\n",
    "\n",
    "#img_temp_tif = glob.glob(f'{work_path}2_L2A_CLIPPED/*.tif')[0]\n",
    "img_temp_tif = glob.glob(f'{im_path}*.tif')[0]\n",
    "\n",
    "print(f'Raster template file : {img_temp_tif}')\n",
    "\n",
    "\n",
    "for shp, raster in zip([in_situ_cal_shp, in_situ_val_shp],[in_situ_cal_tif, in_situ_val_tif]):\n",
    "    \n",
    "    print(f'Rasterize {shp}')\n",
    "\n",
    "    # Open the shapefile with GeoPandas\n",
    "\n",
    "    in_situ_gdf = gpd.read_file(shp)\n",
    "\n",
    "    # Open the raster file you want to use as a template for rasterize\n",
    "\n",
    "    src = rasterio.open(img_temp_tif, \"r\")\n",
    "\n",
    "    # Update metadata\n",
    "    profile = src.profile\n",
    "    profile.update(nodata=0)\n",
    "\n",
    "    # Burn the features into the raster and write it out\n",
    "\n",
    "    dst = rasterio.open(raster, 'w+', **profile)\n",
    "    dst_arr = dst.read(1)\n",
    "\n",
    "    # this is where we create a generator of geom, value pairs to use in rasterizing\n",
    "\n",
    "    geom_col = in_situ_gdf.geometry\n",
    "    code_col = in_situ_gdf.CODE.astype(int)\n",
    "\n",
    "    shapes = ((geom,value) for geom, value in zip(geom_col, code_col))\n",
    "\n",
    "    in_situ_arr = features.rasterize(shapes=shapes,\n",
    "                                        fill=0,\n",
    "                                        out=dst_arr,\n",
    "                                        transform=dst.transform)\n",
    "\n",
    "    dst.write_band(1, in_situ_arr)\n",
    "\n",
    "    # Close rasterio objects\n",
    "    src.close()\n",
    "    dst.close()\n"
   ]
  },
  {
   "source": [
    "## List all the classification features\n",
    "\n",
    "In this case, one NDVI per month"
   ],
   "cell_type": "markdown",
   "metadata": {}
  },
  {
   "cell_type": "code",
   "execution_count": 9,
   "metadata": {},
   "outputs": [
    {
     "output_type": "stream",
     "name": "stdout",
     "text": [
      "(570, 986, 12)\nThere are 12 features\nThe features type is : float32\n"
     ]
    }
   ],
   "source": [
    "# Get list of all files containing the features\n",
    "list_im = sorted(glob.glob(f'{ndvi_path}*.tif'))\n",
    "\n",
    "# Create an empty list to append all feature rasters one by one\n",
    "list_src_arr = []\n",
    "\n",
    "for im_file in list_im:\n",
    "\n",
    "    src = rasterio.open(im_file, \"r\")\n",
    "    im = src.read(1)\n",
    "    list_src_arr.append(im)\n",
    "    src.close()\n",
    "\n",
    "# Merge all the 2D matrices from the list into one 3D matrix\n",
    "\n",
    "feat_arr = np.dstack(list_src_arr).astype(np.float32)\n",
    "\n",
    "print(feat_arr.shape)\n",
    "print(f'There are {feat_arr.shape[2]} features')\n",
    "print(f'The features type is : {feat_arr.dtype}')\n",
    "\n",
    "#feat_arr_1 = np.stack(list_src_arr, axis=0)\n",
    "#print(feat_arr_1.shape)"
   ]
  },
  {
   "source": [
    "### Pairing Y with X\n",
    "\n",
    "Now that we have the image we want to classify (our X feature inputs), and the ROI with the land cover labels (our Y labeled data), we need to pair them up in NumPy arrays so we may feed them to Random Forest."
   ],
   "cell_type": "markdown",
   "metadata": {}
  },
  {
   "cell_type": "code",
   "execution_count": 13,
   "metadata": {},
   "outputs": [
    {
     "output_type": "stream",
     "name": "stdout",
     "text": [
      "We have 39200 samples\n\nThe training data include 25 classes: [   6    9   12   19   20   21   36   45   62   73   91  201  311  321\n  342  541  542  821  901  931 4111 9410 9741 9742 9812] \n\nOur X matrix is sized: (39200, 12)\nOur y array is sized: (39200,)\n"
     ]
    }
   ],
   "source": [
    "# Open in-situ used for calibration\n",
    "\n",
    "src = rasterio.open(in_situ_cal_tif, \"r\")\n",
    "cal_arr = src.read(1)\n",
    "src.close()\n",
    "\n",
    "# Find how many non-zero entries we have -- i.e. how many training data samples?\n",
    "n_samples = (cal_arr > 0).sum()\n",
    "\n",
    "print(f'We have {n_samples} samples\\n')\n",
    "\n",
    "\n",
    "# What are our classification labels?\n",
    "labels = np.unique(cal_arr[cal_arr > 0])\n",
    "print(f'The training data include {labels.size} classes: {labels} \\n')\n",
    "\n",
    "\n",
    "# We will need a \"X\" matrix containing our features, and a \"y\" array containing our labels\n",
    "#     These will have n_samples rows\n",
    "#     In other languages we would need to allocate these and them loop to fill them, but NumPy can be faster\n",
    "\n",
    "X = feat_arr[cal_arr > 0, :]\n",
    "y = cal_arr[cal_arr > 0]\n",
    "\n",
    "# Replace NaN by another value\n",
    "X = np.nan_to_num(X, nan=-10)\n",
    "\n",
    "print(f'Our X matrix is sized: {X.shape}')\n",
    "print(f'Our y array is sized: {y.shape}')\n"
   ]
  },
  {
   "source": [
    "## Training the Random Forest\n",
    "\n",
    "Now that we have our X matrix of feature inputs and our y array, we can train our model.\n",
    "\n",
    "Visit this <a href=\"https://scikit-learn.org/stable/modules/generated/sklearn.ensemble.RandomForestClassifier.html\" target=\"_blank\">web page</a>  to find the usage of RandomForestClassifier from scikit-learn."
   ],
   "cell_type": "markdown",
   "metadata": {}
  },
  {
   "cell_type": "code",
   "execution_count": 14,
   "metadata": {},
   "outputs": [
    {
     "output_type": "stream",
     "name": "stdout",
     "text": [
      "Random Forest training : 00:01:19.89\n"
     ]
    }
   ],
   "source": [
    "start_training = time.time()\n",
    "\n",
    "# Initialize our model with 500 trees\n",
    "rf = RandomForestClassifier(n_estimators=500, oob_score=True)\n",
    "\n",
    "# Fit our model to training data\n",
    "rf = rf.fit(X, y)\n",
    "\n",
    "end_training = time.time()\n",
    "\n",
    "# Get time elapsed during the Random Forest training\n",
    "hours, rem = divmod(end_training-start_training, 3600)\n",
    "minutes, seconds = divmod(rem, 60)\n",
    "print(\"Random Forest training : {:0>2}:{:0>2}:{:05.2f}\".format(int(hours),int(minutes),seconds))\n"
   ]
  },
  {
   "source": [
    "With our Random Forest model fit, we can check out the \"Out-of-Bag\" (OOB) prediction score:"
   ],
   "cell_type": "markdown",
   "metadata": {}
  },
  {
   "cell_type": "code",
   "execution_count": 15,
   "metadata": {},
   "outputs": [
    {
     "output_type": "stream",
     "name": "stdout",
     "text": [
      "Our OOB prediction of accuracy is: 99.1%\n"
     ]
    }
   ],
   "source": [
    "print(f'Our OOB prediction of accuracy is: {round(rf.oob_score_ * 100,2)}%')\n"
   ]
  },
  {
   "source": [
    "To help us get an idea of which features bands were important, we can look at the feature importance scores:"
   ],
   "cell_type": "markdown",
   "metadata": {}
  },
  {
   "cell_type": "code",
   "execution_count": 16,
   "metadata": {},
   "outputs": [
    {
     "output_type": "stream",
     "name": "stdout",
     "text": [
      "Band 1 importance: 0.0745\nBand 2 importance: 0.0338\nBand 3 importance: 0.0822\nBand 4 importance: 0.0953\nBand 5 importance: 0.0835\nBand 6 importance: 0.0754\nBand 7 importance: 0.0909\nBand 8 importance: 0.0942\nBand 9 importance: 0.1058\nBand 10 importance: 0.0937\nBand 11 importance: 0.0909\nBand 12 importance: 0.0797\n"
     ]
    }
   ],
   "source": [
    "for band_nb, imp in enumerate(rf.feature_importances_, start=1):\n",
    "    print(f'Band {band_nb} importance: {round(imp,4)}')"
   ]
  },
  {
   "source": [
    "Let's look at a crosstabulation to see the class confusion"
   ],
   "cell_type": "markdown",
   "metadata": {}
  },
  {
   "cell_type": "code",
   "execution_count": 22,
   "metadata": {},
   "outputs": [
    {
     "output_type": "stream",
     "name": "stdout",
     "text": [
      "[91 91 91 ... 21 21 21]\n",
      "[91 91 91 ... 21 21 21]\n"
     ]
    }
   ],
   "source": [
    "# Setup a dataframe\n",
    "df = pd.DataFrame()\n",
    "\n",
    "df['truth'] = y\n",
    "df['predict'] = rf.predict(X)\n",
    "\n",
    "print(y)\n",
    "print(rf.predict(X))\n",
    "\n",
    "# Cross-tabulate predictions\n",
    "\n",
    "#cross_tab = pd.crosstab(df['truth'], df['predict'], margins=True)\n",
    "\n",
    "#display(cross_tab)\n"
   ]
  },
  {
   "source": [
    "## Predicting the rest of the image\n",
    "\n",
    "With our Random Forest classifier fit, we can now proceed by trying to classify the entire image."
   ],
   "cell_type": "markdown",
   "metadata": {}
  },
  {
   "cell_type": "code",
   "execution_count": 18,
   "metadata": {},
   "outputs": [
    {
     "output_type": "stream",
     "name": "stdout",
     "text": [
      "Reshaped from (570, 986, 12) to (562020, 12)\n",
      "Random Forest training : 00:01:23.27\n"
     ]
    }
   ],
   "source": [
    "# Take our full image and reshape into long 2d array (nrow * ncol, nband) for classification\n",
    "\n",
    "img = feat_arr\n",
    "\n",
    "img = np.nan_to_num(img, nan=-10)\n",
    "\n",
    "new_shape = (img.shape[0] * img.shape[1], img.shape[2])\n",
    "\n",
    "img_as_array = img[:, :, :].reshape(new_shape)\n",
    "\n",
    "print(f'Reshaped from {img.shape} to {img_as_array.shape}')\n",
    "\n",
    "\n",
    "start_classification = time.time()\n",
    "\n",
    "# Now predict for each pixel\n",
    "class_prediction = rf.predict(img_as_array)\n",
    "\n",
    "# Reshape our classification map\n",
    "class_prediction = class_prediction.reshape(img[:, :, 0].shape)\n",
    "\n",
    "end_classification = time.time()\n",
    "\n",
    "hours, rem = divmod(end_classification-start_classification, 3600)\n",
    "minutes, seconds = divmod(rem, 60)\n",
    "print(\"Random Forest training : {:0>2}:{:0>2}:{:05.2f}\".format(int(hours),int(minutes),seconds))\n",
    "\n"
   ]
  },
  {
   "cell_type": "code",
   "execution_count": 19,
   "metadata": {},
   "outputs": [
    {
     "output_type": "execute_result",
     "data": {
      "text/plain": [
       "<matplotlib.image.AxesImage at 0x7fb394ff5048>"
      ]
     },
     "metadata": {},
     "execution_count": 19
    },
    {
     "output_type": "display_data",
     "data": {
      "text/plain": "<Figure size 720x360 with 1 Axes>",
      "image/svg+xml": "<?xml version=\"1.0\" encoding=\"utf-8\" standalone=\"no\"?>\n<!DOCTYPE svg PUBLIC \"-//W3C//DTD SVG 1.1//EN\"\n  \"http://www.w3.org/Graphics/SVG/1.1/DTD/svg11.dtd\">\n<!-- Created with matplotlib (https://matplotlib.org/) -->\n<svg height=\"306.438923pt\" version=\"1.1\" viewBox=\"0 0 510.653816 306.438923\" width=\"510.653816pt\" xmlns=\"http://www.w3.org/2000/svg\" xmlns:xlink=\"http://www.w3.org/1999/xlink\">\n <metadata>\n  <rdf:RDF xmlns:cc=\"http://creativecommons.org/ns#\" xmlns:dc=\"http://purl.org/dc/elements/1.1/\" xmlns:rdf=\"http://www.w3.org/1999/02/22-rdf-syntax-ns#\">\n   <cc:Work>\n    <dc:type rdf:resource=\"http://purl.org/dc/dcmitype/StillImage\"/>\n    <dc:date>2021-04-29T14:23:16.216707</dc:date>\n    <dc:format>image/svg+xml</dc:format>\n    <dc:creator>\n     <cc:Agent>\n      <dc:title>Matplotlib v3.3.4, https://matplotlib.org/</dc:title>\n     </cc:Agent>\n    </dc:creator>\n   </cc:Work>\n  </rdf:RDF>\n </metadata>\n <defs>\n  <style type=\"text/css\">*{stroke-linecap:butt;stroke-linejoin:round;}</style>\n </defs>\n <g id=\"figure_1\">\n  <g id=\"patch_1\">\n   <path d=\"M 0 306.438923 \nL 510.653816 306.438923 \nL 510.653816 0 \nL 0 0 \nz\n\" style=\"fill:none;\"/>\n  </g>\n  <g id=\"axes_1\">\n   <g id=\"patch_2\">\n    <path d=\"M 33.2875 282.560798 \nL 503.453816 282.560798 \nL 503.453816 10.760798 \nL 33.2875 10.760798 \nz\n\" style=\"fill:#ffffff;\"/>\n   </g>\n   <g clip-path=\"url(#p7fb9382993)\">\n    <image height=\"570\" id=\"image34aa143698\" style=\"image-rendering:crisp-edges;image-rendering:pixelated\" transform=\"matrix(0.477688 0 0 0.477193 33.2875 10.560798)\" width=\"986\" xlink:href=\"data:image/png;base64,\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\"/>\n   </g>\n   <g id=\"matplotlib.axis_1\">\n    <g id=\"xtick_1\">\n     <g id=\"line2d_1\">\n      <defs>\n       <path d=\"M 0 0 \nL 0 3.5 \n\" id=\"m35d1110f6f\" style=\"stroke:#000000;stroke-width:0.8;\"/>\n      </defs>\n      <g>\n       <use style=\"stroke:#000000;stroke-width:0.8;\" x=\"33.525921\" xlink:href=\"#m35d1110f6f\" y=\"282.560798\"/>\n      </g>\n     </g>\n     <g id=\"text_1\">\n      <!-- 0 -->\n      <g transform=\"translate(30.344671 297.159235)scale(0.1 -0.1)\">\n       <defs>\n        <path d=\"M 31.78125 66.40625 \nQ 24.171875 66.40625 20.328125 58.90625 \nQ 16.5 51.421875 16.5 36.375 \nQ 16.5 21.390625 20.328125 13.890625 \nQ 24.171875 6.390625 31.78125 6.390625 \nQ 39.453125 6.390625 43.28125 13.890625 \nQ 47.125 21.390625 47.125 36.375 \nQ 47.125 51.421875 43.28125 58.90625 \nQ 39.453125 66.40625 31.78125 66.40625 \nz\nM 31.78125 74.21875 \nQ 44.046875 74.21875 50.515625 64.515625 \nQ 56.984375 54.828125 56.984375 36.375 \nQ 56.984375 17.96875 50.515625 8.265625 \nQ 44.046875 -1.421875 31.78125 -1.421875 \nQ 19.53125 -1.421875 13.0625 8.265625 \nQ 6.59375 17.96875 6.59375 36.375 \nQ 6.59375 54.828125 13.0625 64.515625 \nQ 19.53125 74.21875 31.78125 74.21875 \nz\n\" id=\"DejaVuSans-48\"/>\n       </defs>\n       <use xlink:href=\"#DejaVuSans-48\"/>\n      </g>\n     </g>\n    </g>\n    <g id=\"xtick_2\">\n     <g id=\"line2d_2\">\n      <g>\n       <use style=\"stroke:#000000;stroke-width:0.8;\" x=\"128.894342\" xlink:href=\"#m35d1110f6f\" y=\"282.560798\"/>\n      </g>\n     </g>\n     <g id=\"text_2\">\n      <!-- 200 -->\n      <g transform=\"translate(119.350592 297.159235)scale(0.1 -0.1)\">\n       <defs>\n        <path d=\"M 19.1875 8.296875 \nL 53.609375 8.296875 \nL 53.609375 0 \nL 7.328125 0 \nL 7.328125 8.296875 \nQ 12.9375 14.109375 22.625 23.890625 \nQ 32.328125 33.6875 34.8125 36.53125 \nQ 39.546875 41.84375 41.421875 45.53125 \nQ 43.3125 49.21875 43.3125 52.78125 \nQ 43.3125 58.59375 39.234375 62.25 \nQ 35.15625 65.921875 28.609375 65.921875 \nQ 23.96875 65.921875 18.8125 64.3125 \nQ 13.671875 62.703125 7.8125 59.421875 \nL 7.8125 69.390625 \nQ 13.765625 71.78125 18.9375 73 \nQ 24.125 74.21875 28.421875 74.21875 \nQ 39.75 74.21875 46.484375 68.546875 \nQ 53.21875 62.890625 53.21875 53.421875 \nQ 53.21875 48.921875 51.53125 44.890625 \nQ 49.859375 40.875 45.40625 35.40625 \nQ 44.1875 33.984375 37.640625 27.21875 \nQ 31.109375 20.453125 19.1875 8.296875 \nz\n\" id=\"DejaVuSans-50\"/>\n       </defs>\n       <use xlink:href=\"#DejaVuSans-50\"/>\n       <use x=\"63.623047\" xlink:href=\"#DejaVuSans-48\"/>\n       <use x=\"127.246094\" xlink:href=\"#DejaVuSans-48\"/>\n      </g>\n     </g>\n    </g>\n    <g id=\"xtick_3\">\n     <g id=\"line2d_3\">\n      <g>\n       <use style=\"stroke:#000000;stroke-width:0.8;\" x=\"224.262763\" xlink:href=\"#m35d1110f6f\" y=\"282.560798\"/>\n      </g>\n     </g>\n     <g id=\"text_3\">\n      <!-- 400 -->\n      <g transform=\"translate(214.719013 297.159235)scale(0.1 -0.1)\">\n       <defs>\n        <path d=\"M 37.796875 64.3125 \nL 12.890625 25.390625 \nL 37.796875 25.390625 \nz\nM 35.203125 72.90625 \nL 47.609375 72.90625 \nL 47.609375 25.390625 \nL 58.015625 25.390625 \nL 58.015625 17.1875 \nL 47.609375 17.1875 \nL 47.609375 0 \nL 37.796875 0 \nL 37.796875 17.1875 \nL 4.890625 17.1875 \nL 4.890625 26.703125 \nz\n\" id=\"DejaVuSans-52\"/>\n       </defs>\n       <use xlink:href=\"#DejaVuSans-52\"/>\n       <use x=\"63.623047\" xlink:href=\"#DejaVuSans-48\"/>\n       <use x=\"127.246094\" xlink:href=\"#DejaVuSans-48\"/>\n      </g>\n     </g>\n    </g>\n    <g id=\"xtick_4\">\n     <g id=\"line2d_4\">\n      <g>\n       <use style=\"stroke:#000000;stroke-width:0.8;\" x=\"319.631184\" xlink:href=\"#m35d1110f6f\" y=\"282.560798\"/>\n      </g>\n     </g>\n     <g id=\"text_4\">\n      <!-- 600 -->\n      <g transform=\"translate(310.087434 297.159235)scale(0.1 -0.1)\">\n       <defs>\n        <path d=\"M 33.015625 40.375 \nQ 26.375 40.375 22.484375 35.828125 \nQ 18.609375 31.296875 18.609375 23.390625 \nQ 18.609375 15.53125 22.484375 10.953125 \nQ 26.375 6.390625 33.015625 6.390625 \nQ 39.65625 6.390625 43.53125 10.953125 \nQ 47.40625 15.53125 47.40625 23.390625 \nQ 47.40625 31.296875 43.53125 35.828125 \nQ 39.65625 40.375 33.015625 40.375 \nz\nM 52.59375 71.296875 \nL 52.59375 62.3125 \nQ 48.875 64.0625 45.09375 64.984375 \nQ 41.3125 65.921875 37.59375 65.921875 \nQ 27.828125 65.921875 22.671875 59.328125 \nQ 17.53125 52.734375 16.796875 39.40625 \nQ 19.671875 43.65625 24.015625 45.921875 \nQ 28.375 48.1875 33.59375 48.1875 \nQ 44.578125 48.1875 50.953125 41.515625 \nQ 57.328125 34.859375 57.328125 23.390625 \nQ 57.328125 12.15625 50.6875 5.359375 \nQ 44.046875 -1.421875 33.015625 -1.421875 \nQ 20.359375 -1.421875 13.671875 8.265625 \nQ 6.984375 17.96875 6.984375 36.375 \nQ 6.984375 53.65625 15.1875 63.9375 \nQ 23.390625 74.21875 37.203125 74.21875 \nQ 40.921875 74.21875 44.703125 73.484375 \nQ 48.484375 72.75 52.59375 71.296875 \nz\n\" id=\"DejaVuSans-54\"/>\n       </defs>\n       <use xlink:href=\"#DejaVuSans-54\"/>\n       <use x=\"63.623047\" xlink:href=\"#DejaVuSans-48\"/>\n       <use x=\"127.246094\" xlink:href=\"#DejaVuSans-48\"/>\n      </g>\n     </g>\n    </g>\n    <g id=\"xtick_5\">\n     <g id=\"line2d_5\">\n      <g>\n       <use style=\"stroke:#000000;stroke-width:0.8;\" x=\"414.999605\" xlink:href=\"#m35d1110f6f\" y=\"282.560798\"/>\n      </g>\n     </g>\n     <g id=\"text_5\">\n      <!-- 800 -->\n      <g transform=\"translate(405.455855 297.159235)scale(0.1 -0.1)\">\n       <defs>\n        <path d=\"M 31.78125 34.625 \nQ 24.75 34.625 20.71875 30.859375 \nQ 16.703125 27.09375 16.703125 20.515625 \nQ 16.703125 13.921875 20.71875 10.15625 \nQ 24.75 6.390625 31.78125 6.390625 \nQ 38.8125 6.390625 42.859375 10.171875 \nQ 46.921875 13.96875 46.921875 20.515625 \nQ 46.921875 27.09375 42.890625 30.859375 \nQ 38.875 34.625 31.78125 34.625 \nz\nM 21.921875 38.8125 \nQ 15.578125 40.375 12.03125 44.71875 \nQ 8.5 49.078125 8.5 55.328125 \nQ 8.5 64.0625 14.71875 69.140625 \nQ 20.953125 74.21875 31.78125 74.21875 \nQ 42.671875 74.21875 48.875 69.140625 \nQ 55.078125 64.0625 55.078125 55.328125 \nQ 55.078125 49.078125 51.53125 44.71875 \nQ 48 40.375 41.703125 38.8125 \nQ 48.828125 37.15625 52.796875 32.3125 \nQ 56.78125 27.484375 56.78125 20.515625 \nQ 56.78125 9.90625 50.3125 4.234375 \nQ 43.84375 -1.421875 31.78125 -1.421875 \nQ 19.734375 -1.421875 13.25 4.234375 \nQ 6.78125 9.90625 6.78125 20.515625 \nQ 6.78125 27.484375 10.78125 32.3125 \nQ 14.796875 37.15625 21.921875 38.8125 \nz\nM 18.3125 54.390625 \nQ 18.3125 48.734375 21.84375 45.5625 \nQ 25.390625 42.390625 31.78125 42.390625 \nQ 38.140625 42.390625 41.71875 45.5625 \nQ 45.3125 48.734375 45.3125 54.390625 \nQ 45.3125 60.0625 41.71875 63.234375 \nQ 38.140625 66.40625 31.78125 66.40625 \nQ 25.390625 66.40625 21.84375 63.234375 \nQ 18.3125 60.0625 18.3125 54.390625 \nz\n\" id=\"DejaVuSans-56\"/>\n       </defs>\n       <use xlink:href=\"#DejaVuSans-56\"/>\n       <use x=\"63.623047\" xlink:href=\"#DejaVuSans-48\"/>\n       <use x=\"127.246094\" xlink:href=\"#DejaVuSans-48\"/>\n      </g>\n     </g>\n    </g>\n   </g>\n   <g id=\"matplotlib.axis_2\">\n    <g id=\"ytick_1\">\n     <g id=\"line2d_6\">\n      <defs>\n       <path d=\"M 0 0 \nL -3.5 0 \n\" id=\"m802d0d9dcb\" style=\"stroke:#000000;stroke-width:0.8;\"/>\n      </defs>\n      <g>\n       <use style=\"stroke:#000000;stroke-width:0.8;\" x=\"33.2875\" xlink:href=\"#m802d0d9dcb\" y=\"10.999219\"/>\n      </g>\n     </g>\n     <g id=\"text_6\">\n      <!-- 0 -->\n      <g transform=\"translate(19.925 14.798438)scale(0.1 -0.1)\">\n       <use xlink:href=\"#DejaVuSans-48\"/>\n      </g>\n     </g>\n    </g>\n    <g id=\"ytick_2\">\n     <g id=\"line2d_7\">\n      <g>\n       <use style=\"stroke:#000000;stroke-width:0.8;\" x=\"33.2875\" xlink:href=\"#m802d0d9dcb\" y=\"58.683429\"/>\n      </g>\n     </g>\n     <g id=\"text_7\">\n      <!-- 100 -->\n      <g transform=\"translate(7.2 62.482648)scale(0.1 -0.1)\">\n       <defs>\n        <path d=\"M 12.40625 8.296875 \nL 28.515625 8.296875 \nL 28.515625 63.921875 \nL 10.984375 60.40625 \nL 10.984375 69.390625 \nL 28.421875 72.90625 \nL 38.28125 72.90625 \nL 38.28125 8.296875 \nL 54.390625 8.296875 \nL 54.390625 0 \nL 12.40625 0 \nz\n\" id=\"DejaVuSans-49\"/>\n       </defs>\n       <use xlink:href=\"#DejaVuSans-49\"/>\n       <use x=\"63.623047\" xlink:href=\"#DejaVuSans-48\"/>\n       <use x=\"127.246094\" xlink:href=\"#DejaVuSans-48\"/>\n      </g>\n     </g>\n    </g>\n    <g id=\"ytick_3\">\n     <g id=\"line2d_8\">\n      <g>\n       <use style=\"stroke:#000000;stroke-width:0.8;\" x=\"33.2875\" xlink:href=\"#m802d0d9dcb\" y=\"106.36764\"/>\n      </g>\n     </g>\n     <g id=\"text_8\">\n      <!-- 200 -->\n      <g transform=\"translate(7.2 110.166859)scale(0.1 -0.1)\">\n       <use xlink:href=\"#DejaVuSans-50\"/>\n       <use x=\"63.623047\" xlink:href=\"#DejaVuSans-48\"/>\n       <use x=\"127.246094\" xlink:href=\"#DejaVuSans-48\"/>\n      </g>\n     </g>\n    </g>\n    <g id=\"ytick_4\">\n     <g id=\"line2d_9\">\n      <g>\n       <use style=\"stroke:#000000;stroke-width:0.8;\" x=\"33.2875\" xlink:href=\"#m802d0d9dcb\" y=\"154.05185\"/>\n      </g>\n     </g>\n     <g id=\"text_9\">\n      <!-- 300 -->\n      <g transform=\"translate(7.2 157.851069)scale(0.1 -0.1)\">\n       <defs>\n        <path d=\"M 40.578125 39.3125 \nQ 47.65625 37.796875 51.625 33 \nQ 55.609375 28.21875 55.609375 21.1875 \nQ 55.609375 10.40625 48.1875 4.484375 \nQ 40.765625 -1.421875 27.09375 -1.421875 \nQ 22.515625 -1.421875 17.65625 -0.515625 \nQ 12.796875 0.390625 7.625 2.203125 \nL 7.625 11.71875 \nQ 11.71875 9.328125 16.59375 8.109375 \nQ 21.484375 6.890625 26.8125 6.890625 \nQ 36.078125 6.890625 40.9375 10.546875 \nQ 45.796875 14.203125 45.796875 21.1875 \nQ 45.796875 27.640625 41.28125 31.265625 \nQ 36.765625 34.90625 28.71875 34.90625 \nL 20.21875 34.90625 \nL 20.21875 43.015625 \nL 29.109375 43.015625 \nQ 36.375 43.015625 40.234375 45.921875 \nQ 44.09375 48.828125 44.09375 54.296875 \nQ 44.09375 59.90625 40.109375 62.90625 \nQ 36.140625 65.921875 28.71875 65.921875 \nQ 24.65625 65.921875 20.015625 65.03125 \nQ 15.375 64.15625 9.8125 62.3125 \nL 9.8125 71.09375 \nQ 15.4375 72.65625 20.34375 73.4375 \nQ 25.25 74.21875 29.59375 74.21875 \nQ 40.828125 74.21875 47.359375 69.109375 \nQ 53.90625 64.015625 53.90625 55.328125 \nQ 53.90625 49.265625 50.4375 45.09375 \nQ 46.96875 40.921875 40.578125 39.3125 \nz\n\" id=\"DejaVuSans-51\"/>\n       </defs>\n       <use xlink:href=\"#DejaVuSans-51\"/>\n       <use x=\"63.623047\" xlink:href=\"#DejaVuSans-48\"/>\n       <use x=\"127.246094\" xlink:href=\"#DejaVuSans-48\"/>\n      </g>\n     </g>\n    </g>\n    <g id=\"ytick_5\">\n     <g id=\"line2d_10\">\n      <g>\n       <use style=\"stroke:#000000;stroke-width:0.8;\" x=\"33.2875\" xlink:href=\"#m802d0d9dcb\" y=\"201.736061\"/>\n      </g>\n     </g>\n     <g id=\"text_10\">\n      <!-- 400 -->\n      <g transform=\"translate(7.2 205.53528)scale(0.1 -0.1)\">\n       <use xlink:href=\"#DejaVuSans-52\"/>\n       <use x=\"63.623047\" xlink:href=\"#DejaVuSans-48\"/>\n       <use x=\"127.246094\" xlink:href=\"#DejaVuSans-48\"/>\n      </g>\n     </g>\n    </g>\n    <g id=\"ytick_6\">\n     <g id=\"line2d_11\">\n      <g>\n       <use style=\"stroke:#000000;stroke-width:0.8;\" x=\"33.2875\" xlink:href=\"#m802d0d9dcb\" y=\"249.420271\"/>\n      </g>\n     </g>\n     <g id=\"text_11\">\n      <!-- 500 -->\n      <g transform=\"translate(7.2 253.21949)scale(0.1 -0.1)\">\n       <defs>\n        <path d=\"M 10.796875 72.90625 \nL 49.515625 72.90625 \nL 49.515625 64.59375 \nL 19.828125 64.59375 \nL 19.828125 46.734375 \nQ 21.96875 47.46875 24.109375 47.828125 \nQ 26.265625 48.1875 28.421875 48.1875 \nQ 40.625 48.1875 47.75 41.5 \nQ 54.890625 34.8125 54.890625 23.390625 \nQ 54.890625 11.625 47.5625 5.09375 \nQ 40.234375 -1.421875 26.90625 -1.421875 \nQ 22.3125 -1.421875 17.546875 -0.640625 \nQ 12.796875 0.140625 7.71875 1.703125 \nL 7.71875 11.625 \nQ 12.109375 9.234375 16.796875 8.0625 \nQ 21.484375 6.890625 26.703125 6.890625 \nQ 35.15625 6.890625 40.078125 11.328125 \nQ 45.015625 15.765625 45.015625 23.390625 \nQ 45.015625 31 40.078125 35.4375 \nQ 35.15625 39.890625 26.703125 39.890625 \nQ 22.75 39.890625 18.8125 39.015625 \nQ 14.890625 38.140625 10.796875 36.28125 \nz\n\" id=\"DejaVuSans-53\"/>\n       </defs>\n       <use xlink:href=\"#DejaVuSans-53\"/>\n       <use x=\"63.623047\" xlink:href=\"#DejaVuSans-48\"/>\n       <use x=\"127.246094\" xlink:href=\"#DejaVuSans-48\"/>\n      </g>\n     </g>\n    </g>\n   </g>\n   <g id=\"patch_3\">\n    <path d=\"M 33.2875 282.560798 \nL 33.2875 10.760798 \n\" style=\"fill:none;stroke:#000000;stroke-linecap:square;stroke-linejoin:miter;stroke-width:0.8;\"/>\n   </g>\n   <g id=\"patch_4\">\n    <path d=\"M 503.453816 282.560798 \nL 503.453816 10.760798 \n\" style=\"fill:none;stroke:#000000;stroke-linecap:square;stroke-linejoin:miter;stroke-width:0.8;\"/>\n   </g>\n   <g id=\"patch_5\">\n    <path d=\"M 33.2875 282.560798 \nL 503.453816 282.560798 \n\" style=\"fill:none;stroke:#000000;stroke-linecap:square;stroke-linejoin:miter;stroke-width:0.8;\"/>\n   </g>\n   <g id=\"patch_6\">\n    <path d=\"M 33.2875 10.760798 \nL 503.453816 10.760798 \n\" style=\"fill:none;stroke:#000000;stroke-linecap:square;stroke-linejoin:miter;stroke-width:0.8;\"/>\n   </g>\n  </g>\n </g>\n <defs>\n  <clipPath id=\"p7fb9382993\">\n   <rect height=\"271.8\" width=\"470.166316\" x=\"33.2875\" y=\"10.760798\"/>\n  </clipPath>\n </defs>\n</svg>\n",
      "image/png": "[encoded data removed]"
     },
     "metadata": {
      "needs_background": "light"
     }
    }
   ],
   "source": [
    "\n"
   ]
  },
  {
   "cell_type": "code",
   "execution_count": 21,
   "metadata": {},
   "outputs": [
    {
     "output_type": "stream",
     "name": "stdout",
     "text": [
      "Size of image : (570, 986)\n"
     ]
    }
   ],
   "source": [
    "classif_tif = f'{classif_path}Classif_RF_with_NDVI.tif'\n",
    "\n",
    "print(f'Size of image : {class_prediction.shape}')\n",
    "\n",
    "# Open template image to get metadata\n",
    "src = rasterio.open(img_temp_tif)\n",
    "im = src.read(1)\n",
    "profile = src.profile\n",
    "\n",
    "# Write classification image\n",
    "dst = rasterio.open(classif_tif, 'w', **profile)\n",
    "dst.write(class_prediction, 1)\n",
    "\n",
    "# Close rasterio objects\n",
    "src.close()\n",
    "dst.close()"
   ]
  },
  {
   "source": [
    "## Validation"
   ],
   "cell_type": "markdown",
   "metadata": {}
  },
  {
   "cell_type": "code",
   "execution_count": 74,
   "metadata": {},
   "outputs": [
    {
     "output_type": "display_data",
     "data": {
      "text/plain": "     0   1   2    3   4   5     6    7   8     9   ...    21   22  23   24  \\\n0   795   0   0    5   2   0     0    0   0     0  ...     0    0   0    0   \n1   144   1   0    0   0   0     0    0   0    43  ...     0    0   0    0   \n2    10   0   0   10   0   0     0    0   0     0  ...     0    0   0    0   \n3     1   0   0  555   0  30     0    0   0     2  ...     2    0   0    0   \n4    11   0   0   18   2  21     0    0   0     0  ...     0    0   0    0   \n5     0   0   0    2   0  54     0    0   0     0  ...     0    0   0    0   \n6     0   0   0    9   0   0    21    0   0     0  ...     0    0   0    0   \n7     0   0   0    0   0   0     6    0   0     3  ...     0    0   0    1   \n8     0   0   0   18   0   0   122    0   0     0  ...     0    0   0    0   \n9   101   0   0   69   1   0    94    0   0  9562  ...   139    1   0   90   \n10    0   0   0    0   0   0     0    0   0   374  ...     0    0   0    0   \n11    0   0   0    5   0   0   189  700   0    10  ...  1809    2   0    8   \n12    0   0   0   14   0   0   530    0   0     4  ...   293    0   0    5   \n13    9   0   0   33   0   0  1552    1   0   344  ...   684  336   0  641   \n14    0   0   0  339   0   0     5    1   0     0  ...   237    0   0    7   \n15    0   0   0    0   0   0    15    0   0     8  ...     0    0   0    0   \n16    0   0   0   39   0   0     0    0   0     0  ...     3    0   0    0   \n17    0   0   0    0   0   0   152    0   0    44  ...     0    0   0    0   \n18    0   0   0  141   0   0     0    0   0     0  ...     0    0   0    0   \n19    0   0   0    0   0   0    22    0   0    86  ...    50  231   0   12   \n20    0   0   0    0   0   0    13    0   0     0  ...    61    4   0    0   \n21    0   0   0    2   0   0   639  140   0     0  ...   943    0   0   72   \n22    0   0   0    0   0   0   122    0   0     0  ...   503   12   0    0   \n23    0   0   0    0   0   0     6    0   0     0  ...     0    0   0    0   \n24    0   0   0    0   0   0     3    0   0     0  ...     0    0   0  669   \n25   59   0   0    0   0   0     0    0   0   906  ...     0    0   0    0   \n26    0   0   0    0   0   0    45    0   0     0  ...     3    0   0    0   \n27    0   0   0    7   0   0    33    0   0     0  ...     4  125   0    0   \n28   72   0   0   16   1   0     0    0   0   110  ...     1    0   0    0   \n29   38   0   0    0   0   0     0    0   0   569  ...     0    0   0    0   \n30    0   0   0    0   0   0     3    0   0     0  ...     1    0   0    0   \n\n    25   26  27   28  29   30  \n0    0    0   0    0   0    0  \n1    0    0   0    0   0    0  \n2    0    0   0    0   0    0  \n3    0    0   0    0   0    0  \n4    0    0   0    0   0    0  \n5    0    0   0    0   0    0  \n6    0    0   0    0   0    0  \n7    0    0   0    0   0    0  \n8    0    0   0    0   0    0  \n9    0    0   0    0   6    0  \n10   0    0   0    0   0    0  \n11   0    0   0    0   0    0  \n12   0    0   0    0   0    0  \n13   0   22   0    0   0   14  \n14   0    1   0    0   0    0  \n15   0    0   0    0   0    0  \n16   0    0   0    0   0    0  \n17   0    0   0    0   0    0  \n18   0    0   0    0   0    0  \n19   0    0   0    0   0    0  \n20   0  328   0    0   0    0  \n21   0    0   0    0   0    0  \n22   0    0   0    0   0    0  \n23   0    0   0    0   0    0  \n24   0    0   0    0   0    0  \n25   0    0   0    0   0    0  \n26   0  176   0    0   0    0  \n27   0    0   0    0   0  316  \n28   0    0   0  135   0    0  \n29   0    0   0    0   0    0  \n30   0    0   0    0   0    0  \n\n[31 rows x 31 columns]",
      "text/html": "<div>\n<style scoped>\n    .dataframe tbody tr th:only-of-type {\n        vertical-align: middle;\n    }\n\n    .dataframe tbody tr th {\n        vertical-align: top;\n    }\n\n    .dataframe thead th {\n        text-align: right;\n    }\n</style>\n<table border=\"1\" class=\"dataframe\">\n  <thead>\n    <tr style=\"text-align: right;\">\n      <th></th>\n      <th>0</th>\n      <th>1</th>\n      <th>2</th>\n      <th>3</th>\n      <th>4</th>\n      <th>5</th>\n      <th>6</th>\n      <th>7</th>\n      <th>8</th>\n      <th>9</th>\n      <th>...</th>\n      <th>21</th>\n      <th>22</th>\n      <th>23</th>\n      <th>24</th>\n      <th>25</th>\n      <th>26</th>\n      <th>27</th>\n      <th>28</th>\n      <th>29</th>\n      <th>30</th>\n    </tr>\n  </thead>\n  <tbody>\n    <tr>\n      <th>0</th>\n      <td>795</td>\n      <td>0</td>\n      <td>0</td>\n      <td>5</td>\n      <td>2</td>\n      <td>0</td>\n      <td>0</td>\n      <td>0</td>\n      <td>0</td>\n      <td>0</td>\n      <td>...</td>\n      <td>0</td>\n      <td>0</td>\n      <td>0</td>\n      <td>0</td>\n      <td>0</td>\n      <td>0</td>\n      <td>0</td>\n      <td>0</td>\n      <td>0</td>\n      <td>0</td>\n    </tr>\n    <tr>\n      <th>1</th>\n      <td>144</td>\n      <td>1</td>\n      <td>0</td>\n      <td>0</td>\n      <td>0</td>\n      <td>0</td>\n      <td>0</td>\n      <td>0</td>\n      <td>0</td>\n      <td>43</td>\n      <td>...</td>\n      <td>0</td>\n      <td>0</td>\n      <td>0</td>\n      <td>0</td>\n      <td>0</td>\n      <td>0</td>\n      <td>0</td>\n      <td>0</td>\n      <td>0</td>\n      <td>0</td>\n    </tr>\n    <tr>\n      <th>2</th>\n      <td>10</td>\n      <td>0</td>\n      <td>0</td>\n      <td>10</td>\n      <td>0</td>\n      <td>0</td>\n      <td>0</td>\n      <td>0</td>\n      <td>0</td>\n      <td>0</td>\n      <td>...</td>\n      <td>0</td>\n      <td>0</td>\n      <td>0</td>\n      <td>0</td>\n      <td>0</td>\n      <td>0</td>\n      <td>0</td>\n      <td>0</td>\n      <td>0</td>\n      <td>0</td>\n    </tr>\n    <tr>\n      <th>3</th>\n      <td>1</td>\n      <td>0</td>\n      <td>0</td>\n      <td>555</td>\n      <td>0</td>\n      <td>30</td>\n      <td>0</td>\n      <td>0</td>\n      <td>0</td>\n      <td>2</td>\n      <td>...</td>\n      <td>2</td>\n      <td>0</td>\n      <td>0</td>\n      <td>0</td>\n      <td>0</td>\n      <td>0</td>\n      <td>0</td>\n      <td>0</td>\n      <td>0</td>\n      <td>0</td>\n    </tr>\n    <tr>\n      <th>4</th>\n      <td>11</td>\n      <td>0</td>\n      <td>0</td>\n      <td>18</td>\n      <td>2</td>\n      <td>21</td>\n      <td>0</td>\n      <td>0</td>\n      <td>0</td>\n      <td>0</td>\n      <td>...</td>\n      <td>0</td>\n      <td>0</td>\n      <td>0</td>\n      <td>0</td>\n      <td>0</td>\n      <td>0</td>\n      <td>0</td>\n      <td>0</td>\n      <td>0</td>\n      <td>0</td>\n    </tr>\n    <tr>\n      <th>5</th>\n      <td>0</td>\n      <td>0</td>\n      <td>0</td>\n      <td>2</td>\n      <td>0</td>\n      <td>54</td>\n      <td>0</td>\n      <td>0</td>\n      <td>0</td>\n      <td>0</td>\n      <td>...</td>\n      <td>0</td>\n      <td>0</td>\n      <td>0</td>\n      <td>0</td>\n      <td>0</td>\n      <td>0</td>\n      <td>0</td>\n      <td>0</td>\n      <td>0</td>\n      <td>0</td>\n    </tr>\n    <tr>\n      <th>6</th>\n      <td>0</td>\n      <td>0</td>\n      <td>0</td>\n      <td>9</td>\n      <td>0</td>\n      <td>0</td>\n      <td>21</td>\n      <td>0</td>\n      <td>0</td>\n      <td>0</td>\n      <td>...</td>\n      <td>0</td>\n      <td>0</td>\n      <td>0</td>\n      <td>0</td>\n      <td>0</td>\n      <td>0</td>\n      <td>0</td>\n      <td>0</td>\n      <td>0</td>\n      <td>0</td>\n    </tr>\n    <tr>\n      <th>7</th>\n      <td>0</td>\n      <td>0</td>\n      <td>0</td>\n      <td>0</td>\n      <td>0</td>\n      <td>0</td>\n      <td>6</td>\n      <td>0</td>\n      <td>0</td>\n      <td>3</td>\n      <td>...</td>\n      <td>0</td>\n      <td>0</td>\n      <td>0</td>\n      <td>1</td>\n      <td>0</td>\n      <td>0</td>\n      <td>0</td>\n      <td>0</td>\n      <td>0</td>\n      <td>0</td>\n    </tr>\n    <tr>\n      <th>8</th>\n      <td>0</td>\n      <td>0</td>\n      <td>0</td>\n      <td>18</td>\n      <td>0</td>\n      <td>0</td>\n      <td>122</td>\n      <td>0</td>\n      <td>0</td>\n      <td>0</td>\n      <td>...</td>\n      <td>0</td>\n      <td>0</td>\n      <td>0</td>\n      <td>0</td>\n      <td>0</td>\n      <td>0</td>\n      <td>0</td>\n      <td>0</td>\n      <td>0</td>\n      <td>0</td>\n    </tr>\n    <tr>\n      <th>9</th>\n      <td>101</td>\n      <td>0</td>\n      <td>0</td>\n      <td>69</td>\n      <td>1</td>\n      <td>0</td>\n      <td>94</td>\n      <td>0</td>\n      <td>0</td>\n      <td>9562</td>\n      <td>...</td>\n      <td>139</td>\n      <td>1</td>\n      <td>0</td>\n      <td>90</td>\n      <td>0</td>\n      <td>0</td>\n      <td>0</td>\n      <td>0</td>\n      <td>6</td>\n      <td>0</td>\n    </tr>\n    <tr>\n      <th>10</th>\n      <td>0</td>\n      <td>0</td>\n      <td>0</td>\n      <td>0</td>\n      <td>0</td>\n      <td>0</td>\n      <td>0</td>\n      <td>0</td>\n      <td>0</td>\n      <td>374</td>\n      <td>...</td>\n      <td>0</td>\n      <td>0</td>\n      <td>0</td>\n      <td>0</td>\n      <td>0</td>\n      <td>0</td>\n      <td>0</td>\n      <td>0</td>\n      <td>0</td>\n      <td>0</td>\n    </tr>\n    <tr>\n      <th>11</th>\n      <td>0</td>\n      <td>0</td>\n      <td>0</td>\n      <td>5</td>\n      <td>0</td>\n      <td>0</td>\n      <td>189</td>\n      <td>700</td>\n      <td>0</td>\n      <td>10</td>\n      <td>...</td>\n      <td>1809</td>\n      <td>2</td>\n      <td>0</td>\n      <td>8</td>\n      <td>0</td>\n      <td>0</td>\n      <td>0</td>\n      <td>0</td>\n      <td>0</td>\n      <td>0</td>\n    </tr>\n    <tr>\n      <th>12</th>\n      <td>0</td>\n      <td>0</td>\n      <td>0</td>\n      <td>14</td>\n      <td>0</td>\n      <td>0</td>\n      <td>530</td>\n      <td>0</td>\n      <td>0</td>\n      <td>4</td>\n      <td>...</td>\n      <td>293</td>\n      <td>0</td>\n      <td>0</td>\n      <td>5</td>\n      <td>0</td>\n      <td>0</td>\n      <td>0</td>\n      <td>0</td>\n      <td>0</td>\n      <td>0</td>\n    </tr>\n    <tr>\n      <th>13</th>\n      <td>9</td>\n      <td>0</td>\n      <td>0</td>\n      <td>33</td>\n      <td>0</td>\n      <td>0</td>\n      <td>1552</td>\n      <td>1</td>\n      <td>0</td>\n      <td>344</td>\n      <td>...</td>\n      <td>684</td>\n      <td>336</td>\n      <td>0</td>\n      <td>641</td>\n      <td>0</td>\n      <td>22</td>\n      <td>0</td>\n      <td>0</td>\n      <td>0</td>\n      <td>14</td>\n    </tr>\n    <tr>\n      <th>14</th>\n      <td>0</td>\n      <td>0</td>\n      <td>0</td>\n      <td>339</td>\n      <td>0</td>\n      <td>0</td>\n      <td>5</td>\n      <td>1</td>\n      <td>0</td>\n      <td>0</td>\n      <td>...</td>\n      <td>237</td>\n      <td>0</td>\n      <td>0</td>\n      <td>7</td>\n      <td>0</td>\n      <td>1</td>\n      <td>0</td>\n      <td>0</td>\n      <td>0</td>\n      <td>0</td>\n    </tr>\n    <tr>\n      <th>15</th>\n      <td>0</td>\n      <td>0</td>\n      <td>0</td>\n      <td>0</td>\n      <td>0</td>\n      <td>0</td>\n      <td>15</td>\n      <td>0</td>\n      <td>0</td>\n      <td>8</td>\n      <td>...</td>\n      <td>0</td>\n      <td>0</td>\n      <td>0</td>\n      <td>0</td>\n      <td>0</td>\n      <td>0</td>\n      <td>0</td>\n      <td>0</td>\n      <td>0</td>\n      <td>0</td>\n    </tr>\n    <tr>\n      <th>16</th>\n      <td>0</td>\n      <td>0</td>\n      <td>0</td>\n      <td>39</td>\n      <td>0</td>\n      <td>0</td>\n      <td>0</td>\n      <td>0</td>\n      <td>0</td>\n      <td>0</td>\n      <td>...</td>\n      <td>3</td>\n      <td>0</td>\n      <td>0</td>\n      <td>0</td>\n      <td>0</td>\n      <td>0</td>\n      <td>0</td>\n      <td>0</td>\n      <td>0</td>\n      <td>0</td>\n    </tr>\n    <tr>\n      <th>17</th>\n      <td>0</td>\n      <td>0</td>\n      <td>0</td>\n      <td>0</td>\n      <td>0</td>\n      <td>0</td>\n      <td>152</td>\n      <td>0</td>\n      <td>0</td>\n      <td>44</td>\n      <td>...</td>\n      <td>0</td>\n      <td>0</td>\n      <td>0</td>\n      <td>0</td>\n      <td>0</td>\n      <td>0</td>\n      <td>0</td>\n      <td>0</td>\n      <td>0</td>\n      <td>0</td>\n    </tr>\n    <tr>\n      <th>18</th>\n      <td>0</td>\n      <td>0</td>\n      <td>0</td>\n      <td>141</td>\n      <td>0</td>\n      <td>0</td>\n      <td>0</td>\n      <td>0</td>\n      <td>0</td>\n      <td>0</td>\n      <td>...</td>\n      <td>0</td>\n      <td>0</td>\n      <td>0</td>\n      <td>0</td>\n      <td>0</td>\n      <td>0</td>\n      <td>0</td>\n      <td>0</td>\n      <td>0</td>\n      <td>0</td>\n    </tr>\n    <tr>\n      <th>19</th>\n      <td>0</td>\n      <td>0</td>\n      <td>0</td>\n      <td>0</td>\n      <td>0</td>\n      <td>0</td>\n      <td>22</td>\n      <td>0</td>\n      <td>0</td>\n      <td>86</td>\n      <td>...</td>\n      <td>50</td>\n      <td>231</td>\n      <td>0</td>\n      <td>12</td>\n      <td>0</td>\n      <td>0</td>\n      <td>0</td>\n      <td>0</td>\n      <td>0</td>\n      <td>0</td>\n    </tr>\n    <tr>\n      <th>20</th>\n      <td>0</td>\n      <td>0</td>\n      <td>0</td>\n      <td>0</td>\n      <td>0</td>\n      <td>0</td>\n      <td>13</td>\n      <td>0</td>\n      <td>0</td>\n      <td>0</td>\n      <td>...</td>\n      <td>61</td>\n      <td>4</td>\n      <td>0</td>\n      <td>0</td>\n      <td>0</td>\n      <td>328</td>\n      <td>0</td>\n      <td>0</td>\n      <td>0</td>\n      <td>0</td>\n    </tr>\n    <tr>\n      <th>21</th>\n      <td>0</td>\n      <td>0</td>\n      <td>0</td>\n      <td>2</td>\n      <td>0</td>\n      <td>0</td>\n      <td>639</td>\n      <td>140</td>\n      <td>0</td>\n      <td>0</td>\n      <td>...</td>\n      <td>943</td>\n      <td>0</td>\n      <td>0</td>\n      <td>72</td>\n      <td>0</td>\n      <td>0</td>\n      <td>0</td>\n      <td>0</td>\n      <td>0</td>\n      <td>0</td>\n    </tr>\n    <tr>\n      <th>22</th>\n      <td>0</td>\n      <td>0</td>\n      <td>0</td>\n      <td>0</td>\n      <td>0</td>\n      <td>0</td>\n      <td>122</td>\n      <td>0</td>\n      <td>0</td>\n      <td>0</td>\n      <td>...</td>\n      <td>503</td>\n      <td>12</td>\n      <td>0</td>\n      <td>0</td>\n      <td>0</td>\n      <td>0</td>\n      <td>0</td>\n      <td>0</td>\n      <td>0</td>\n      <td>0</td>\n    </tr>\n    <tr>\n      <th>23</th>\n      <td>0</td>\n      <td>0</td>\n      <td>0</td>\n      <td>0</td>\n      <td>0</td>\n      <td>0</td>\n      <td>6</td>\n      <td>0</td>\n      <td>0</td>\n      <td>0</td>\n      <td>...</td>\n      <td>0</td>\n      <td>0</td>\n      <td>0</td>\n      <td>0</td>\n      <td>0</td>\n      <td>0</td>\n      <td>0</td>\n      <td>0</td>\n      <td>0</td>\n      <td>0</td>\n    </tr>\n    <tr>\n      <th>24</th>\n      <td>0</td>\n      <td>0</td>\n      <td>0</td>\n      <td>0</td>\n      <td>0</td>\n      <td>0</td>\n      <td>3</td>\n      <td>0</td>\n      <td>0</td>\n      <td>0</td>\n      <td>...</td>\n      <td>0</td>\n      <td>0</td>\n      <td>0</td>\n      <td>669</td>\n      <td>0</td>\n      <td>0</td>\n      <td>0</td>\n      <td>0</td>\n      <td>0</td>\n      <td>0</td>\n    </tr>\n    <tr>\n      <th>25</th>\n      <td>59</td>\n      <td>0</td>\n      <td>0</td>\n      <td>0</td>\n      <td>0</td>\n      <td>0</td>\n      <td>0</td>\n      <td>0</td>\n      <td>0</td>\n      <td>906</td>\n      <td>...</td>\n      <td>0</td>\n      <td>0</td>\n      <td>0</td>\n      <td>0</td>\n      <td>0</td>\n      <td>0</td>\n      <td>0</td>\n      <td>0</td>\n      <td>0</td>\n      <td>0</td>\n    </tr>\n    <tr>\n      <th>26</th>\n      <td>0</td>\n      <td>0</td>\n      <td>0</td>\n      <td>0</td>\n      <td>0</td>\n      <td>0</td>\n      <td>45</td>\n      <td>0</td>\n      <td>0</td>\n      <td>0</td>\n      <td>...</td>\n      <td>3</td>\n      <td>0</td>\n      <td>0</td>\n      <td>0</td>\n      <td>0</td>\n      <td>176</td>\n      <td>0</td>\n      <td>0</td>\n      <td>0</td>\n      <td>0</td>\n    </tr>\n    <tr>\n      <th>27</th>\n      <td>0</td>\n      <td>0</td>\n      <td>0</td>\n      <td>7</td>\n      <td>0</td>\n      <td>0</td>\n      <td>33</td>\n      <td>0</td>\n      <td>0</td>\n      <td>0</td>\n      <td>...</td>\n      <td>4</td>\n      <td>125</td>\n      <td>0</td>\n      <td>0</td>\n      <td>0</td>\n      <td>0</td>\n      <td>0</td>\n      <td>0</td>\n      <td>0</td>\n      <td>316</td>\n    </tr>\n    <tr>\n      <th>28</th>\n      <td>72</td>\n      <td>0</td>\n      <td>0</td>\n      <td>16</td>\n      <td>1</td>\n      <td>0</td>\n      <td>0</td>\n      <td>0</td>\n      <td>0</td>\n      <td>110</td>\n      <td>...</td>\n      <td>1</td>\n      <td>0</td>\n      <td>0</td>\n      <td>0</td>\n      <td>0</td>\n      <td>0</td>\n      <td>0</td>\n      <td>135</td>\n      <td>0</td>\n      <td>0</td>\n    </tr>\n    <tr>\n      <th>29</th>\n      <td>38</td>\n      <td>0</td>\n      <td>0</td>\n      <td>0</td>\n      <td>0</td>\n      <td>0</td>\n      <td>0</td>\n      <td>0</td>\n      <td>0</td>\n      <td>569</td>\n      <td>...</td>\n      <td>0</td>\n      <td>0</td>\n      <td>0</td>\n      <td>0</td>\n      <td>0</td>\n      <td>0</td>\n      <td>0</td>\n      <td>0</td>\n      <td>0</td>\n      <td>0</td>\n    </tr>\n    <tr>\n      <th>30</th>\n      <td>0</td>\n      <td>0</td>\n      <td>0</td>\n      <td>0</td>\n      <td>0</td>\n      <td>0</td>\n      <td>3</td>\n      <td>0</td>\n      <td>0</td>\n      <td>0</td>\n      <td>...</td>\n      <td>1</td>\n      <td>0</td>\n      <td>0</td>\n      <td>0</td>\n      <td>0</td>\n      <td>0</td>\n      <td>0</td>\n      <td>0</td>\n      <td>0</td>\n      <td>0</td>\n    </tr>\n  </tbody>\n</table>\n<p>31 rows × 31 columns</p>\n</div>"
     },
     "metadata": {}
    },
    {
     "output_type": "stream",
     "name": "stdout",
     "text": [
      "Overall Accuracy : 41.23%\n"
     ]
    }
   ],
   "source": [
    "cm_csv = f'{classif_path}Classif_RF_with_NDVI_CM.csv'\n",
    "\n",
    "# Open in-situ used for calibration\n",
    "\n",
    "src = rasterio.open(in_situ_val_tif, \"r\")\n",
    "val_arr = src.read(1)\n",
    "src.close()\n",
    "\n",
    "# Get the postion of validation pixels\n",
    "idx = np.where(val_arr > 0, 1, val_arr).astype(bool)\n",
    "\n",
    "# Get the truth vector and the prediction vector\n",
    "truth_val   = val_arr[idx]\n",
    "predict_val = class_prediction[idx]\n",
    "\n",
    "# Compute Confusion Matrix\n",
    "cm = confusion_matrix(truth_val, predict_val)\n",
    "\n",
    "# Convert CM into panda dataframe and save it\n",
    "cm_df = pd.DataFrame(cm)\n",
    "display(cm_df)\n",
    "cm_df.to_csv(cm_csv, index=False, sep=';')\n",
    "\n",
    "cm_values = cm_df.values\n",
    "\n",
    "# Compute Overall accuracy\n",
    "\n",
    "OA = (np.trace(cm) / float(np.sum(cm))) *100\n",
    "\n",
    "print(f'Overall Accuracy : {round(OA,2)}%')\n",
    "\n",
    "\n",
    "\n",
    "#oa = (np.trace(cm_values) / float(np.sum(cm_values))) *100\n",
    "#print(f'Overall Accuracy : {round(oa,2)}%')\n",
    "\n",
    "\n",
    "#pd.DataFrame(cm).to_csv(cm_csv, index=False, sep=';')\n",
    "#disp = ConfusionMatrixDisplay(confusion_matrix=cm)\n",
    "#plot_confusion_matrix(rf, class_prediction, val_arr)"
   ]
  },
  {
   "cell_type": "code",
   "execution_count": null,
   "metadata": {},
   "outputs": [],
   "source": []
  }
 ]
}