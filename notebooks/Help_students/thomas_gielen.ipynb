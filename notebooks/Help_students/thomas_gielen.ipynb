{
 "cells": [
  {
   "cell_type": "code",
   "execution_count": 5,
   "metadata": {},
   "outputs": [],
   "source": [
    "import subprocess\n",
    "import geopandas as gpd\n"
   ]
  },
  {
   "cell_type": "code",
   "execution_count": 3,
   "metadata": {},
   "outputs": [],
   "source": [
    "raster_ori  = '/export/homes/students/thgielen/clipDC/DC18.tif'\n",
    "raster_clip = '/export/homes/students/thgielen/clipA10W80/18.tif'\n",
    "\n",
    "shp = '/export/homes/students/thgielen/Artif500/A10W80.shp'"
   ]
  },
  {
   "cell_type": "code",
   "execution_count": 6,
   "metadata": {},
   "outputs": [
    {
     "name": "stdout",
     "output_type": "stream",
     "text": [
      "   BUFF_DIST  ORIG_FID     Shape_Leng    Shape_Area  \\\n",
      "0        0.1         1  677337.147965  1.373097e+08   \n",
      "\n",
      "                                            geometry  \n",
      "0  MULTIPOLYGON (((745007.734 646352.924, 745038....  \n"
     ]
    }
   ],
   "source": [
    "gdf = gpd.read_file(shp)\n",
    "\n",
    "gdf.geometry = gdf.geometry.buffer(0)\n",
    "\n",
    "print(gdf)\n"
   ]
  },
  {
   "cell_type": "code",
   "execution_count": 2,
   "metadata": {},
   "outputs": [
    {
     "name": "stdout",
     "output_type": "stream",
     "text": [
      "gdalwarp -cutline /export/homes/students/thgielen/Artif500/A10W80.shp -crop_to_cutline /export/homes/students/thgielen/clipDC/DC18.tif /export/homes/students/thgielen/clipA10W80/18.tif\n"
     ]
    },
    {
     "data": {
      "text/plain": [
       "1"
      ]
     },
     "execution_count": 2,
     "metadata": {},
     "output_type": "execute_result"
    }
   ],
   "source": [
    "cmd = 'gdalwarp'\n",
    "#cmd += ' -te 589799.8 5665918.7 605808.9 5687255.8'\n",
    "cmd += f' -cutline {shp}'\n",
    "cmd += ' -crop_to_cutline'\n",
    "cmd += f' {raster_ori}'\n",
    "cmd += f' {raster_clip}'\n",
    "\n",
    "print(cmd)\n",
    "\n",
    "subprocess.call(cmd, shell=True)"
   ]
  }
 ],
 "metadata": {
  "interpreter": {
   "hash": "31f2aee4e71d21fbe5cf8b01ff0e069b9275f58929596ceb00d14d90e3e16cd6"
  },
  "kernelspec": {
   "display_name": "Python 3.6.12 64-bit",
   "language": "python",
   "name": "python3"
  },
  "language_info": {
   "codemirror_mode": {
    "name": "ipython",
    "version": 3
   },
   "file_extension": ".py",
   "mimetype": "text/x-python",
   "name": "python",
   "nbconvert_exporter": "python",
   "pygments_lexer": "ipython3",
   "version": "3.6.12"
  },
  "orig_nbformat": 4
 },
 "nbformat": 4,
 "nbformat_minor": 2
}
