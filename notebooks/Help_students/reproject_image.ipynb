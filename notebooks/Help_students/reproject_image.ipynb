{
 "cells": [
  {
   "cell_type": "code",
   "execution_count": 1,
   "metadata": {},
   "outputs": [
    {
     "name": "stdout",
     "output_type": "stream",
     "text": [
      "All libraries successfully imported!\n",
      "Rasterio : 1.2.1\n"
     ]
    }
   ],
   "source": [
    "import glob, os\n",
    "import numpy as np\n",
    "import geopandas as gpd\n",
    "import rasterio\n",
    "import rasterio.mask\n",
    "import rasterio.plot\n",
    "from rasterio.enums import Resampling\n",
    "from rasterio.warp import calculate_default_transform, reproject, Resampling\n",
    "import matplotlib.pyplot as plt\n",
    "from pathlib import Path\n",
    "\n",
    "print('All libraries successfully imported!')\n",
    "print(f'Rasterio : {rasterio.__version__}')"
   ]
  },
  {
   "cell_type": "code",
   "execution_count": 2,
   "metadata": {},
   "outputs": [],
   "source": [
    "im_file = '/export/homes/students/dominiquem/Occup_sol/Wal_OCS_2018_clipLiege.tif'\n",
    "\n",
    "im_file_reproj = '/export/homes/ndeffense/SHARE/Wal_OCS_2018_clipLiege_reproj.tif'"
   ]
  },
  {
   "cell_type": "code",
   "execution_count": 5,
   "metadata": {},
   "outputs": [
    {
     "name": "stdout",
     "output_type": "stream",
     "text": [
      "31370\n",
      "{'driver': 'GTiff', 'dtype': 'uint8', 'nodata': None, 'width': 101937, 'height': 75308, 'count': 1, 'crs': {'init': 'EPSG:3812'}, 'transform': Affine(1.0000028313320035, 0.0, 693247.6090646925,\n",
      "       0.0, -1.0000028313320035, 667737.724611248)}\n"
     ]
    },
    {
     "data": {
      "text/plain": [
       "\"\\n#open destination raster\\ndst = rasterio.open(im_file_reproj, 'w', **out_meta)\\n\\n#reproject and save raster band data\\nfor i in range(1, src.count + 1):\\n    reproject(\\n        source = rasterio.band(src, i),\\n        destination = rasterio.band(dst, i),\\n        #src_transform=src.transform,\\n        src_crs = src.crs,\\n        #dst_transform=transform,\\n        dst_crs = crs_dst,\\n        resampling = Resampling.nearest)\\n\\n# Close rasterio objects\\nsrc.close()\\ndst.close()\\n\\nprint(f'--> A new reprojected raster file is created : {im_file_reproj}')\\n\""
      ]
     },
     "execution_count": 5,
     "metadata": {},
     "output_type": "execute_result"
    }
   ],
   "source": [
    "\n",
    "# Open file\n",
    "src = rasterio.open(im_file, \"r\")\n",
    "\n",
    "crs = '3812'\n",
    "crs_tif = str(src.crs).split(\":\",1)[1]\n",
    "\n",
    "print(crs_tif)\n",
    "\n",
    "    \n",
    "crs_dst = {'init': f'EPSG:{crs}'}\n",
    "\n",
    "transform, width, height = calculate_default_transform(src.crs,\n",
    "                                                        crs_dst,\n",
    "                                                        src.width,\n",
    "                                                        src.height,\n",
    "                                                        *src.bounds)\n",
    "                                                    \n",
    "\n",
    "# Update metadata\n",
    "out_meta = src.meta.copy()\n",
    "\n",
    "out_meta.update(driver = 'GTiff',\n",
    "                crs = crs_dst,\n",
    "                width = width,\n",
    "                height = height,\n",
    "                transform = transform)\n",
    "\n",
    "print(out_meta)\n",
    "\n",
    "'''\n",
    "#open destination raster\n",
    "dst = rasterio.open(im_file_reproj, 'w', **out_meta)\n",
    "\n",
    "#reproject and save raster band data\n",
    "for i in range(1, src.count + 1):\n",
    "    reproject(\n",
    "        source = rasterio.band(src, i),\n",
    "        destination = rasterio.band(dst, i),\n",
    "        #src_transform=src.transform,\n",
    "        src_crs = src.crs,\n",
    "        #dst_transform=transform,\n",
    "        dst_crs = crs_dst,\n",
    "        resampling = Resampling.nearest)\n",
    "\n",
    "# Close rasterio objects\n",
    "src.close()\n",
    "dst.close()\n",
    "\n",
    "print(f'--> A new reprojected raster file is created : {im_file_reproj}')\n",
    "'''"
   ]
  },
  {
   "cell_type": "code",
   "execution_count": 13,
   "metadata": {},
   "outputs": [
    {
     "name": "stdout",
     "output_type": "stream",
     "text": [
      "gdalwarp -of Gtiff -co BIGTIFF=YES -co COMPRESS=LZW -co TILED=YES -co NUM_THREADS=ALL_CPUS -t_srs EPSG:3812 /export/homes/students/dominiquem/Occup_sol/Wal_OCS_2018_clipLiege.tif /export/homes/ndeffense/SHARE/Wal_OCS_2018_clipLiege_reproj.tif\n"
     ]
    },
    {
     "data": {
      "text/plain": [
       "1"
      ]
     },
     "execution_count": 13,
     "metadata": {},
     "output_type": "execute_result"
    }
   ],
   "source": [
    "import subprocess\n",
    "\n",
    "crs = '3812'\n",
    "\n",
    "cmd = 'gdalwarp'\n",
    "cmd += ' -of Gtiff'\n",
    "cmd += ' -co BIGTIFF=YES -co COMPRESS=LZW -co TILED=YES -co NUM_THREADS=ALL_CPUS'\n",
    "cmd += f' -t_srs EPSG:{crs}'\n",
    "cmd += ' ' + im_file\n",
    "cmd += ' ' + im_file_reproj\n",
    "\n",
    "print(cmd)\n",
    "\n",
    "subprocess.call(cmd, shell=True)"
   ]
  },
  {
   "cell_type": "code",
   "execution_count": 33,
   "metadata": {},
   "outputs": [
    {
     "name": "stdout",
     "output_type": "stream",
     "text": [
      "gdalwarp -tr 5 5 -tap -s_srs EPSG:31370 -r average  -ot Float32 /export/miro/students/dominiquem/WORK/PSF/occu_constru.tif /export/miro/ndeffense/SHARE/occu_constru_downscaling_average_5x5_tap.tif\n"
     ]
    },
    {
     "data": {
      "text/plain": [
       "1"
      ]
     },
     "execution_count": 33,
     "metadata": {},
     "output_type": "execute_result"
    }
   ],
   "source": [
    "im_file = '/export/miro/students/dominiquem/WORK/PSF/occu_constru.tif'\n",
    "im_file_out = '/export/miro/ndeffense/SHARE/occu_constru_downscaling_average_5x5_tap.tif'\n",
    "\n",
    "cmd = 'gdalwarp'\n",
    "cmd += ' -tr 5 5'\n",
    "cmd += ' -tap'\n",
    "cmd += f' -s_srs EPSG:31370'\n",
    "#cmd += f' -t_srs EPSG:3812'\n",
    "cmd += ' -r average '\n",
    "cmd += ' -ot Float32'\n",
    "cmd += f' {im_file}'\n",
    "cmd += f' {im_file_out}'\n",
    "\n",
    "print(cmd)\n",
    "\n",
    "subprocess.call(cmd, shell=True)"
   ]
  },
  {
   "cell_type": "code",
   "execution_count": 29,
   "metadata": {},
   "outputs": [
    {
     "name": "stdout",
     "output_type": "stream",
     "text": [
      "[[0 0 0 ... 0 0 0]\n",
      " [0 0 0 ... 0 0 0]\n",
      " [0 0 0 ... 0 0 0]\n",
      " ...\n",
      " [0 0 0 ... 0 0 0]\n",
      " [0 0 0 ... 0 0 0]\n",
      " [0 0 0 ... 0 0 0]]\n",
      "(7532, 9062)\n",
      "(7530, 9060)\n",
      "302\n",
      "251\n",
      "[[186 331 124 ... 424   0   0]\n",
      " [425 348 162 ... 134  33   0]\n",
      " [326 120  35 ...   0 107 213]\n",
      " ...\n",
      " [509  15   0 ...   0   0   0]\n",
      " [489 128 304 ...   0   0   0]\n",
      " [418 261 501 ...   0   0   0]]\n",
      "(251, 302)\n",
      "| 1.00, 0.00, 231736.38|\n",
      "| 0.00,-1.00, 151412.78|\n",
      "| 0.00, 0.00, 1.00|\n",
      "| 24.93, 0.00, 231736.38|\n",
      "| 0.00,-36.10, 151412.78|\n",
      "| 0.00, 0.00, 1.00|\n",
      "{'driver': 'GTiff', 'dtype': 'int16', 'nodata': -10000.0, 'width': 302, 'height': 251, 'count': 1, 'crs': CRS.from_wkt('PROJCS[\"Belge_Lambert_1972\",GEOGCS[\"Belge 1972\",DATUM[\"Reseau_National_Belge_1972\",SPHEROID[\"International 1924\",6378388,297.000000000005,AUTHORITY[\"EPSG\",\"7022\"]],AUTHORITY[\"EPSG\",\"6313\"]],PRIMEM[\"Greenwich\",0],UNIT[\"degree\",0.0174532925199433,AUTHORITY[\"EPSG\",\"9122\"]],AUTHORITY[\"EPSG\",\"4313\"]],PROJECTION[\"Lambert_Conformal_Conic_2SP\"],PARAMETER[\"latitude_of_origin\",90],PARAMETER[\"central_meridian\",4.36748666666667],PARAMETER[\"standard_parallel_1\",49.8333339],PARAMETER[\"standard_parallel_2\",51.1666672333333],PARAMETER[\"false_easting\",150000.01256],PARAMETER[\"false_northing\",5400088.4378],UNIT[\"metre\",1,AUTHORITY[\"EPSG\",\"9001\"]],AXIS[\"Easting\",EAST],AXIS[\"Northing\",NORTH]]'), 'transform': Affine(24.93401945588389, 0.0, 231736.37759987442,\n",
      "       0.0, -36.09609691281621, 151412.78342807054), 'blockxsize': 128, 'blockysize': 128, 'tiled': True, 'compress': 'lzw', 'interleave': 'band'}\n"
     ]
    }
   ],
   "source": [
    "im_file     = '/export/miro/students/dominiquem/WORK/PSF/occu_constru.tif'\n",
    "im_file_out = '/export/miro/ndeffense/SHARE/occu_constru_downscaling_sum_numpy.tif'\n",
    "\n",
    "src = rasterio.open(im_file, \"r\")\n",
    "img_in = src.read(1)\n",
    "\n",
    "print(img_in)\n",
    "\n",
    "print(img_in.shape)\n",
    "\n",
    "img_in = img_in[:7530, :9060]\n",
    "\n",
    "print(img_in.shape)\n",
    "\n",
    "scale = 30\n",
    "\n",
    "#orig_height = src.height\n",
    "#orig_width  = src.width\n",
    "\n",
    "orig_height = 7530\n",
    "orig_width  = 9060\n",
    "\n",
    "target_width  = int(orig_width / scale)\n",
    "target_height = int(orig_height / scale)\n",
    "\n",
    "print(target_width)\n",
    "print(target_height)\n",
    "\n",
    "\n",
    "img_in_coarse = np.nansum(img_in.reshape(-1, scale), 1).reshape(orig_height, -1)\n",
    "img_in_coarse = np.nansum(img_in_coarse.reshape(-1, scale, target_width), 1).reshape(target_height, -1)\n",
    "\n",
    "img_in_coarse = img_in_coarse.astype('int16')\n",
    "\n",
    "print(img_in_coarse)\n",
    "\n",
    "print(img_in_coarse.shape)\n",
    "\n",
    "\n",
    "print(src.transform)\n",
    "\n",
    "new_transform = src.transform * src.transform.scale(\n",
    "    (orig_height / img_in_coarse.shape[-1]),\n",
    "    (orig_width / img_in_coarse.shape[-2])\n",
    ")\n",
    "\n",
    "print(new_transform)\n",
    "\n",
    "profile = src.profile\n",
    "profile.update(driver = 'GTiff',\n",
    "                width = target_width,\n",
    "                height = target_height,\n",
    "                transform = new_transform)\n",
    "\n",
    "print(profile)\n",
    "\n",
    "# Write resampled image\n",
    "dst = rasterio.open(im_file_out, \"w\", **profile)\n",
    "dst.write(img_in_coarse,1)\n"
   ]
  },
  {
   "cell_type": "code",
   "execution_count": null,
   "metadata": {},
   "outputs": [],
   "source": []
  }
 ],
 "metadata": {
  "interpreter": {
   "hash": "31f2aee4e71d21fbe5cf8b01ff0e069b9275f58929596ceb00d14d90e3e16cd6"
  },
  "kernelspec": {
   "display_name": "Python 3.6.12 64-bit",
   "language": "python",
   "name": "python3"
  },
  "language_info": {
   "codemirror_mode": {
    "name": "ipython",
    "version": 3
   },
   "file_extension": ".py",
   "mimetype": "text/x-python",
   "name": "python",
   "nbconvert_exporter": "python",
   "pygments_lexer": "ipython3",
   "version": "3.6.12"
  },
  "orig_nbformat": 4
 },
 "nbformat": 4,
 "nbformat_minor": 2
}
