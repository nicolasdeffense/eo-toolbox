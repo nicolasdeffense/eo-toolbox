{
 "cells": [
  {
   "cell_type": "code",
   "execution_count": 2,
   "metadata": {},
   "outputs": [],
   "source": [
    "import subprocess\n",
    "from pathlib import Path\n"
   ]
  },
  {
   "cell_type": "code",
   "execution_count": 7,
   "metadata": {},
   "outputs": [],
   "source": [
    "prod_list = ['S1_SAR_RAW', 'S1_SAR_GRD', 'S1_SAR_SLC', 'S1_SAR_OCN', 'S2_MSIL1C', 'S2_MSIL2A']\n",
    "\n",
    "prod_type = 'S2_MSIL2A'\n",
    "prod_type = 'S2_MSIL1C'\n",
    "\n",
    "grp = 'N'\n",
    "\n",
    "if not prod_type in prod_list:\n",
    "    print(\"ERROR\")\n",
    "\n",
    "\n",
    "dwl_dir = f'/scratch/ndeffense/dwl_student/GROUP_{grp}/'\n",
    "Path(dwl_dir).mkdir(parents=True, exist_ok=True)\n",
    "\n",
    "\n",
    "if grp == 'P':\n",
    "    start = '2021-08-01'\n",
    "    end   = '2021-08-03'\n",
    "\n",
    "    start = '2021-08-26'\n",
    "    end   = '2021-08-28'\n",
    "\n",
    "    bbox = '6.3 43.5 6.4 43.5'\n",
    "\n",
    "\n",
    "elif grp == 'O':\n",
    "\n",
    "    start = '2022-03-01'\n",
    "    end   = '2022-04-27'\n",
    "    \n",
    "    bbox = '150.5 -33.9 150.5 -33.9'\n",
    "\n",
    "    pct_clouds = '50'\n",
    "\n",
    "elif grp == 'N':\n",
    "\n",
    "    start = '2021-01-01'\n",
    "    end   = '2021-12-31'\n",
    "    \n",
    "    bbox = '24.8669 0.9420 25.0443 1.0881'\n",
    "\n",
    "    pct_clouds = '30'\n",
    "\n",
    "flag_list = True"
   ]
  },
  {
   "cell_type": "code",
   "execution_count": 8,
   "metadata": {},
   "outputs": [
    {
     "name": "stdout",
     "output_type": "stream",
     "text": [
      "py /export/miro/ndeffense/CODE/enge/projects/enge/dwl_specific/sentinel_lsa_dwl.py -o /scratch/ndeffense/dwl_student/GROUP_N/ S2_MSIL1C 2021-01-01 2021-12-31 -c 30 -b 24.8669 0.9420 25.0443 1.0881 -l\n"
     ]
    }
   ],
   "source": [
    "cmd = 'py /export/miro/ndeffense/CODE/enge/projects/enge/dwl_specific/sentinel_lsa_dwl.py'\n",
    "cmd += f' -o {dwl_dir}'\n",
    "cmd += f' {prod_type}'\n",
    "cmd += f' {start} {end}'\n",
    "cmd += f' -c {pct_clouds}'\n",
    "cmd += f' -b {bbox}'\n",
    "if flag_list:\n",
    "    cmd += ' -l'\n",
    "\n",
    "print(cmd)\n",
    "\n",
    "#subprocess.call(cmd, shell=True)\n"
   ]
  }
 ],
 "metadata": {
  "interpreter": {
   "hash": "31f2aee4e71d21fbe5cf8b01ff0e069b9275f58929596ceb00d14d90e3e16cd6"
  },
  "kernelspec": {
   "display_name": "Python 3.6.12 64-bit",
   "language": "python",
   "name": "python3"
  },
  "language_info": {
   "codemirror_mode": {
    "name": "ipython",
    "version": 3
   },
   "file_extension": ".py",
   "mimetype": "text/x-python",
   "name": "python",
   "nbconvert_exporter": "python",
   "pygments_lexer": "ipython3",
   "version": "3.6.12"
  },
  "orig_nbformat": 4
 },
 "nbformat": 4,
 "nbformat_minor": 2
}
