{
 "cells": [
  {
   "cell_type": "code",
   "execution_count": 13,
   "metadata": {},
   "outputs": [],
   "source": [
    "import subprocess, glob, os\n",
    "from pathlib import Path\n",
    "import datetime\n",
    "from datetime import timedelta\n"
   ]
  },
  {
   "cell_type": "code",
   "execution_count": 23,
   "metadata": {},
   "outputs": [],
   "source": [
    "prod_list = ['S1_SAR_RAW', 'S1_SAR_GRD', 'S1_SAR_SLC', 'S1_SAR_OCN', 'S2_MSIL1C', 'S2_MSIL2A']\n",
    "\n",
    "#prod_type = 'S2_MSIL2A'\n",
    "prod_type = 'S2_MSIL1C'\n",
    "\n",
    "grp = 'U'\n",
    "\n",
    "if not prod_type in prod_list:\n",
    "    print(\"ERROR\")\n",
    "\n",
    "\n",
    "dwl_dir = f'/scratch/ndeffense/dwl_student/GROUP_{grp}/{prod_type}/'\n",
    "Path(dwl_dir).mkdir(parents=True, exist_ok=True)\n",
    "\n",
    "\n",
    "if grp == 'P':\n",
    "    start = '2021-08-01'\n",
    "    end   = '2021-08-03'\n",
    "\n",
    "    start = '2021-08-26'\n",
    "    end   = '2021-08-28'\n",
    "\n",
    "    bbox = '6.3 43.5 6.4 43.5'\n",
    "\n",
    "\n",
    "elif grp == 'O':\n",
    "\n",
    "    start = '2022-03-01'\n",
    "    end   = '2022-04-27'\n",
    "    \n",
    "    bbox = '150.5 -33.9 150.5 -33.9'\n",
    "\n",
    "    pct_clouds = '50'\n",
    "\n",
    "elif grp == 'N':\n",
    "\n",
    "    start = '2021-01-01'\n",
    "    end   = '2021-12-31'\n",
    "    \n",
    "    bbox = '24.8669 0.9420 25.0443 1.0881'\n",
    "\n",
    "    pct_clouds = '30'\n",
    "\n",
    "elif grp == 'U':\n",
    "\n",
    "    start = '2021-04-20'\n",
    "    end   = '2021-09-17'\n",
    "    \n",
    "    bbox = '3.5 50.7 4.0 51.1'\n",
    "\n",
    "    pct_clouds = '100'\n",
    "\n",
    "flag_list = False"
   ]
  },
  {
   "cell_type": "code",
   "execution_count": 8,
   "metadata": {},
   "outputs": [
    {
     "name": "stdout",
     "output_type": "stream",
     "text": [
      "py /export/miro/ndeffense/CODE/enge/projects/enge/dwl_specific/sentinel_lsa_dwl.py -o /scratch/ndeffense/dwl_student/GROUP_U/S2_MSIL2A/ S2_MSIL2A 2021-04-20 2021-09-17 -c 30 -b 3.5 50.7 4.0 51.1 -l\n"
     ]
    }
   ],
   "source": [
    "cmd = 'py /export/miro/ndeffense/CODE/enge/projects/enge/dwl_specific/sentinel_lsa_dwl.py'\n",
    "cmd += f' -o {dwl_dir}'\n",
    "cmd += f' {prod_type}'\n",
    "cmd += f' {start} {end}'\n",
    "cmd += f' -c {pct_clouds}'\n",
    "cmd += f' -b {bbox}'\n",
    "if flag_list:\n",
    "    cmd += ' -l'\n",
    "\n",
    "print(cmd)\n",
    "\n",
    "#subprocess.call(cmd, shell=True)\n"
   ]
  },
  {
   "cell_type": "code",
   "execution_count": 28,
   "metadata": {},
   "outputs": [
    {
     "name": "stdout",
     "output_type": "stream",
     "text": [
      "['python3 /export/miro/ndeffense/CODE/enge/projects/enge/dwl_specific/sentinel_lsa_dwl.py -o /scratch/ndeffense/dwl_student/GROUP_U/S2_MSIL1C/ S2_MSIL1C 2021-04-20 2021-04-21 -c 100 -b 3.5 50.7 4.0 51.1', 'python3 /export/miro/ndeffense/CODE/enge/projects/enge/dwl_specific/sentinel_lsa_dwl.py -o /scratch/ndeffense/dwl_student/GROUP_U/S2_MSIL1C/ S2_MSIL1C 2021-04-25 2021-04-26 -c 100 -b 3.5 50.7 4.0 51.1', 'python3 /export/miro/ndeffense/CODE/enge/projects/enge/dwl_specific/sentinel_lsa_dwl.py -o /scratch/ndeffense/dwl_student/GROUP_U/S2_MSIL1C/ S2_MSIL1C 2021-05-05 2021-05-06 -c 100 -b 3.5 50.7 4.0 51.1', 'python3 /export/miro/ndeffense/CODE/enge/projects/enge/dwl_specific/sentinel_lsa_dwl.py -o /scratch/ndeffense/dwl_student/GROUP_U/S2_MSIL1C/ S2_MSIL1C 2021-05-30 2021-05-31 -c 100 -b 3.5 50.7 4.0 51.1', 'python3 /export/miro/ndeffense/CODE/enge/projects/enge/dwl_specific/sentinel_lsa_dwl.py -o /scratch/ndeffense/dwl_student/GROUP_U/S2_MSIL1C/ S2_MSIL1C 2021-06-09 2021-06-10 -c 100 -b 3.5 50.7 4.0 51.1', 'python3 /export/miro/ndeffense/CODE/enge/projects/enge/dwl_specific/sentinel_lsa_dwl.py -o /scratch/ndeffense/dwl_student/GROUP_U/S2_MSIL1C/ S2_MSIL1C 2021-06-14 2021-06-15 -c 100 -b 3.5 50.7 4.0 51.1', 'python3 /export/miro/ndeffense/CODE/enge/projects/enge/dwl_specific/sentinel_lsa_dwl.py -o /scratch/ndeffense/dwl_student/GROUP_U/S2_MSIL1C/ S2_MSIL1C 2021-07-19 2021-07-20 -c 100 -b 3.5 50.7 4.0 51.1', 'python3 /export/miro/ndeffense/CODE/enge/projects/enge/dwl_specific/sentinel_lsa_dwl.py -o /scratch/ndeffense/dwl_student/GROUP_U/S2_MSIL1C/ S2_MSIL1C 2021-08-03 2021-08-04 -c 100 -b 3.5 50.7 4.0 51.1', 'python3 /export/miro/ndeffense/CODE/enge/projects/enge/dwl_specific/sentinel_lsa_dwl.py -o /scratch/ndeffense/dwl_student/GROUP_U/S2_MSIL1C/ S2_MSIL1C 2021-08-08 2021-08-09 -c 100 -b 3.5 50.7 4.0 51.1', 'python3 /export/miro/ndeffense/CODE/enge/projects/enge/dwl_specific/sentinel_lsa_dwl.py -o /scratch/ndeffense/dwl_student/GROUP_U/S2_MSIL1C/ S2_MSIL1C 2021-08-13 2021-08-14 -c 100 -b 3.5 50.7 4.0 51.1', 'python3 /export/miro/ndeffense/CODE/enge/projects/enge/dwl_specific/sentinel_lsa_dwl.py -o /scratch/ndeffense/dwl_student/GROUP_U/S2_MSIL1C/ S2_MSIL1C 2021-09-02 2021-09-03 -c 100 -b 3.5 50.7 4.0 51.1', 'python3 /export/miro/ndeffense/CODE/enge/projects/enge/dwl_specific/sentinel_lsa_dwl.py -o /scratch/ndeffense/dwl_student/GROUP_U/S2_MSIL1C/ S2_MSIL1C 2021-09-12 2021-09-13 -c 100 -b 3.5 50.7 4.0 51.1', 'python3 /export/miro/ndeffense/CODE/enge/projects/enge/dwl_specific/sentinel_lsa_dwl.py -o /scratch/ndeffense/dwl_student/GROUP_U/S2_MSIL1C/ S2_MSIL1C 2021-09-07 2021-09-08 -c 100 -b 3.5 50.7 4.0 51.1', 'python3 /export/miro/ndeffense/CODE/enge/projects/enge/dwl_specific/sentinel_lsa_dwl.py -o /scratch/ndeffense/dwl_student/GROUP_U/S2_MSIL1C/ S2_MSIL1C 2021-09-17 2021-09-18 -c 100 -b 3.5 50.7 4.0 51.1']\n"
     ]
    }
   ],
   "source": [
    "list_date = [\n",
    "    20210420,\n",
    "    20210425,\n",
    "    20210505,\n",
    "    20210530,\n",
    "    20210609,\n",
    "    20210614,\n",
    "    20210719,\n",
    "    20210803,\n",
    "    20210808,\n",
    "    20210813,\n",
    "    20210902,\n",
    "    20210912,\n",
    "    20210907,\n",
    "    20210917]\n",
    "\n",
    "list_cmd = []\n",
    "\n",
    "for date in list_date:\n",
    "    \n",
    "    date = str(date)\n",
    "    start = f'{date[0:4]}-{date[4:6]}-{date[6:8]}'\n",
    "    \n",
    "    start_date = datetime.datetime.strptime(start, '%Y-%m-%d')\n",
    "    #print(start_date)\n",
    "    \n",
    "    end_date = start_date + timedelta(days=1) \n",
    "    end_date = end_date.strftime('%Y-%m-%d')\n",
    "    #print(end_date)\n",
    "        \n",
    "    cmd = 'python3 /export/miro/ndeffense/CODE/enge/projects/enge/dwl_specific/sentinel_lsa_dwl.py'\n",
    "    cmd += f' -o {dwl_dir}'\n",
    "    cmd += f' {prod_type}'\n",
    "    cmd += f' {start} {end_date}'\n",
    "    cmd += f' -c {pct_clouds}'\n",
    "    cmd += f' -b {bbox}'\n",
    "    if flag_list:\n",
    "        cmd += ' -l'\n",
    "        \n",
    "    list_cmd.append(cmd)\n",
    "    \n",
    "    #print(cmd)\n",
    "    \n",
    "print(list_cmd)"
   ]
  },
  {
   "cell_type": "code",
   "execution_count": 9,
   "metadata": {},
   "outputs": [
    {
     "data": {
      "text/plain": [
       "['20210113',\n",
       " '20210118',\n",
       " '20210123',\n",
       " '20210202',\n",
       " '20210207',\n",
       " '20210212',\n",
       " '20210227',\n",
       " '20210309',\n",
       " '20210319',\n",
       " '20210513',\n",
       " '20210528',\n",
       " '20210607',\n",
       " '20210707',\n",
       " '20210712',\n",
       " '20210811',\n",
       " '20210816',\n",
       " '20210826',\n",
       " '20211119',\n",
       " '20211209']"
      ]
     },
     "metadata": {},
     "output_type": "display_data"
    }
   ],
   "source": [
    "date_list = []\n",
    "\n",
    "for im in glob.glob('/scratch/ndeffense/dwl_student/GROUP_N/*.zip'):\n",
    "    \n",
    "    name = os.path.basename(im)\n",
    "        \n",
    "    date = name[11:11+8]\n",
    "    \n",
    "    date_list.append(date)\n",
    "    \n",
    "display(sorted(date_list))"
   ]
  },
  {
   "cell_type": "code",
   "execution_count": 10,
   "metadata": {},
   "outputs": [
    {
     "data": {
      "text/plain": [
       "['20210113',\n",
       " '20210202',\n",
       " '20210207',\n",
       " '20210212',\n",
       " '20210227',\n",
       " '20210309',\n",
       " '20210319',\n",
       " '20210513',\n",
       " '20210528',\n",
       " '20210607',\n",
       " '20210707',\n",
       " '20210811',\n",
       " '20210816',\n",
       " '20210826',\n",
       " '20211119',\n",
       " '20211204',\n",
       " '20211209']"
      ]
     },
     "metadata": {},
     "output_type": "display_data"
    }
   ],
   "source": [
    "date_list = []\n",
    "\n",
    "\n",
    "for im in glob.glob('/export/miro/ndeffense/SHARE/L2A_student/GROUP_N/*.zip'):\n",
    "    \n",
    "    name = os.path.basename(im)\n",
    "    \n",
    "    date = name[11:11+8]\n",
    "    \n",
    "    date_list.append(date)\n",
    "    \n",
    "display(sorted(date_list))"
   ]
  },
  {
   "cell_type": "code",
   "execution_count": null,
   "metadata": {},
   "outputs": [],
   "source": []
  }
 ],
 "metadata": {
  "interpreter": {
   "hash": "31f2aee4e71d21fbe5cf8b01ff0e069b9275f58929596ceb00d14d90e3e16cd6"
  },
  "kernelspec": {
   "display_name": "Python 3.6.12 64-bit",
   "language": "python",
   "name": "python3"
  },
  "language_info": {
   "codemirror_mode": {
    "name": "ipython",
    "version": 3
   },
   "file_extension": ".py",
   "mimetype": "text/x-python",
   "name": "python",
   "nbconvert_exporter": "python",
   "pygments_lexer": "ipython3",
   "version": "3.6.12"
  },
  "orig_nbformat": 4
 },
 "nbformat": 4,
 "nbformat_minor": 2
}
