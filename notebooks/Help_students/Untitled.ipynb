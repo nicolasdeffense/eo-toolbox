{
 "cells": [
  {
   "cell_type": "code",
   "execution_count": 6,
   "id": "28ea7196",
   "metadata": {},
   "outputs": [],
   "source": [
    "import ee"
   ]
  },
  {
   "cell_type": "code",
   "execution_count": 5,
   "id": "22922904",
   "metadata": {},
   "outputs": [
    {
     "ename": "SyntaxError",
     "evalue": "future feature annotations is not defined (lib.py, line 4)",
     "output_type": "error",
     "traceback": [
      "Traceback \u001b[1;36m(most recent call last)\u001b[0m:\n",
      "  File \u001b[0;32m\"C:\\Users\\ndeffense\\Anaconda3\\envs\\lbrat2104\\lib\\site-packages\\IPython\\core\\interactiveshell.py\"\u001b[0m, line \u001b[0;32m3343\u001b[0m, in \u001b[0;35mrun_code\u001b[0m\n    exec(code_obj, self.user_global_ns, self.user_ns)\n",
      "  File \u001b[0;32m\"<ipython-input-5-b00bbf514b7f>\"\u001b[0m, line \u001b[0;32m1\u001b[0m, in \u001b[0;35m<module>\u001b[0m\n    import contextily as cx\n",
      "  File \u001b[0;32m\"C:\\Users\\ndeffense\\Anaconda3\\envs\\lbrat2104\\lib\\site-packages\\contextily\\__init__.py\"\u001b[0m, line \u001b[0;32m5\u001b[0m, in \u001b[0;35m<module>\u001b[0m\n    import xyzservices.providers as providers\n",
      "\u001b[1;36m  File \u001b[1;32m\"C:\\Users\\ndeffense\\Anaconda3\\envs\\lbrat2104\\lib\\site-packages\\xyzservices\\__init__.py\"\u001b[1;36m, line \u001b[1;32m2\u001b[1;36m, in \u001b[1;35m<module>\u001b[1;36m\u001b[0m\n\u001b[1;33m    from .lib import Bunch, TileProvider  # noqa\u001b[0m\n",
      "\u001b[1;36m  File \u001b[1;32m\"C:\\Users\\ndeffense\\Anaconda3\\envs\\lbrat2104\\lib\\site-packages\\xyzservices\\lib.py\"\u001b[1;36m, line \u001b[1;32m4\u001b[0m\n\u001b[1;33m    from __future__ import annotations\u001b[0m\n\u001b[1;37m                                      ^\u001b[0m\n\u001b[1;31mSyntaxError\u001b[0m\u001b[1;31m:\u001b[0m future feature annotations is not defined\n"
     ]
    }
   ],
   "source": [
    "import contextily as cx\n",
    "import geopandas\n",
    "import rasterio\n",
    "from rasterio.plot import show as rioshow\n",
    "import matplotlib.pyplot as plt\n",
    "\n",
    "data_url = \"https://ndownloader.figshare.com/files/20232174\"\n",
    "db = geopandas.read_file(data_url)\n",
    "\n",
    "ax = db.plot(color=\"red\", figsize=(9, 9))\n",
    "cx.add_basemap(ax, crs=db.crs.to_string())"
   ]
  },
  {
   "cell_type": "code",
   "execution_count": null,
   "id": "918622cc",
   "metadata": {},
   "outputs": [],
   "source": []
  }
 ],
 "metadata": {
  "kernelspec": {
   "display_name": "Python 3",
   "language": "python",
   "name": "python3"
  },
  "language_info": {
   "codemirror_mode": {
    "name": "ipython",
    "version": 3
   },
   "file_extension": ".py",
   "mimetype": "text/x-python",
   "name": "python",
   "nbconvert_exporter": "python",
   "pygments_lexer": "ipython3",
   "version": "3.6.13"
  }
 },
 "nbformat": 4,
 "nbformat_minor": 5
}
