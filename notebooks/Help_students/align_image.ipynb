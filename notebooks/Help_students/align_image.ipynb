{
 "cells": [
  {
   "cell_type": "code",
   "execution_count": 1,
   "metadata": {},
   "outputs": [],
   "source": [
    "import rasterio\n",
    "import os, glob\n",
    "import subprocess"
   ]
  },
  {
   "cell_type": "code",
   "execution_count": 2,
   "metadata": {},
   "outputs": [],
   "source": [
    "im_cal_tif  = '/export/miro/ndeffense/LBRAT2104/ndvi/PLAINE_2021_IN_SITU_ROI_CAL.tif'\n",
    "im_ndvi_tif = '/export/miro/ndeffense/LBRAT2104/ndvi/c02_08_NDVI.tif'"
   ]
  },
  {
   "cell_type": "code",
   "execution_count": 3,
   "metadata": {},
   "outputs": [
    {
     "name": "stdout",
     "output_type": "stream",
     "text": [
      "{'driver': 'GTiff', 'dtype': 'uint8', 'nodata': 255.0, 'width': 1315, 'height': 1085, 'count': 1, 'crs': CRS.from_epsg(32631), 'transform': Affine(9.99973258760779, 0.0, 770077.1879788839,\n",
      "       0.0, -10.000255180384602, 4811728.833501905), 'blockxsize': 128, 'blockysize': 128, 'tiled': True, 'interleave': 'band'}\n"
     ]
    }
   ],
   "source": [
    "src = rasterio.open(im_cal_tif, \"r\")\n",
    "\n",
    "profile = src.profile\n",
    "\n",
    "print(profile)\n"
   ]
  },
  {
   "cell_type": "code",
   "execution_count": 4,
   "metadata": {},
   "outputs": [
    {
     "name": "stdout",
     "output_type": "stream",
     "text": [
      "{'driver': 'GTiff', 'dtype': 'float64', 'nodata': 1.7976931348623157e+308, 'width': 1282, 'height': 1072, 'count': 1, 'crs': CRS.from_epsg(32631), 'transform': Affine(9.999286155602872, 0.0, 770410.0021415332,\n",
      "       0.0, -9.998880598080733, 4811629.996641794), 'blockxsize': 128, 'blockysize': 128, 'tiled': True, 'interleave': 'band'}\n"
     ]
    }
   ],
   "source": [
    "src = rasterio.open(im_ndvi_tif, \"r\")\n",
    "\n",
    "profile = src.profile\n",
    "\n",
    "print(profile)"
   ]
  },
  {
   "cell_type": "code",
   "execution_count": 6,
   "metadata": {},
   "outputs": [
    {
     "name": "stdout",
     "output_type": "stream",
     "text": [
      "gdalwarp -tr 10 10 -tap /export/miro/ndeffense/LBRAT2104/ndvi/PLAINE_2021_IN_SITU_ROI_CAL.tif /export/miro/ndeffense/LBRAT2104/ndvi/PLAINE_2021_IN_SITU_ROI_CAL_aligned.tif\n"
     ]
    },
    {
     "data": {
      "text/plain": [
       "0"
      ]
     },
     "execution_count": 6,
     "metadata": {},
     "output_type": "execute_result"
    }
   ],
   "source": [
    "cmd = 'gdalwarp'\n",
    "cmd += ' -tr 10 10'\n",
    "cmd += ' -tap'\n",
    "cmd += ' ' + im_ndvi_tif\n",
    "cmd += ' ' + im_ndvi_tif[:-4] + '_aligned.tif'\n",
    "\n",
    "print(cmd)\n",
    "\n",
    "subprocess.call(cmd, shell=True)"
   ]
  },
  {
   "cell_type": "code",
   "execution_count": 8,
   "metadata": {},
   "outputs": [
    {
     "data": {
      "text/plain": [
       "0"
      ]
     },
     "execution_count": 8,
     "metadata": {},
     "output_type": "execute_result"
    }
   ],
   "source": [
    "cmd = 'gdaltindex'\n",
    "cmd += ' ' + im_ndvi_tif[:-4] + '_aligned.shp'\n",
    "cmd += ' ' + im_ndvi_tif[:-4] + '_aligned.tif'\n",
    "\n",
    "subprocess.call(cmd, shell=True)"
   ]
  },
  {
   "cell_type": "code",
   "execution_count": 9,
   "metadata": {},
   "outputs": [
    {
     "name": "stdout",
     "output_type": "stream",
     "text": [
      "gdalwarp -tr 10 10 -tap -cutline /export/miro/ndeffense/LBRAT2104/ndvi/c02_08_NDVI_aligned.shp -crop_to_cutline /export/miro/ndeffense/LBRAT2104/ndvi/PLAINE_2021_IN_SITU_ROI_CAL.tif /export/miro/ndeffense/LBRAT2104/ndvi/PLAINE_2021_IN_SITU_ROI_CAL_aligned_clip.tif\n"
     ]
    },
    {
     "data": {
      "text/plain": [
       "0"
      ]
     },
     "execution_count": 9,
     "metadata": {},
     "output_type": "execute_result"
    }
   ],
   "source": [
    "cmd = 'gdalwarp'\n",
    "cmd += ' -tr 10 10'\n",
    "cmd += ' -tap'\n",
    "cmd += ' -cutline ' + im_ndvi_tif[:-4] + '_aligned.shp'\n",
    "cmd += ' -crop_to_cutline'\n",
    "cmd += ' ' + im_cal_tif\n",
    "cmd += ' ' + im_cal_tif[:-4] + '_aligned_clip.tif'\n",
    "\n",
    "print(cmd)\n",
    "\n",
    "subprocess.call(cmd, shell=True)"
   ]
  },
  {
   "cell_type": "code",
   "execution_count": null,
   "metadata": {},
   "outputs": [],
   "source": [
    "\n",
    "\n",
    "gdalwarp -cutline clipper.shp -crop_to_cutline input.tif output.tif "
   ]
  }
 ],
 "metadata": {
  "interpreter": {
   "hash": "31f2aee4e71d21fbe5cf8b01ff0e069b9275f58929596ceb00d14d90e3e16cd6"
  },
  "kernelspec": {
   "display_name": "Python 3.6.12 64-bit",
   "language": "python",
   "name": "python3"
  },
  "language_info": {
   "codemirror_mode": {
    "name": "ipython",
    "version": 3
   },
   "file_extension": ".py",
   "mimetype": "text/x-python",
   "name": "python",
   "nbconvert_exporter": "python",
   "pygments_lexer": "ipython3",
   "version": "3.6.12"
  },
  "orig_nbformat": 4
 },
 "nbformat": 4,
 "nbformat_minor": 2
}
