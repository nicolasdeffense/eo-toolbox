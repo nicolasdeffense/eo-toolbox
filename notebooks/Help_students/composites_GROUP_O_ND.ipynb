{
 "cells": [
  {
   "cell_type": "markdown",
   "metadata": {},
   "source": [
    "# Composites"
   ]
  },
  {
   "cell_type": "code",
   "execution_count": 34,
   "metadata": {},
   "outputs": [
    {
     "name": "stdout",
     "output_type": "stream",
     "text": [
      "All libraries successfully imported!\n"
     ]
    }
   ],
   "source": [
    "import glob, os\n",
    "import numpy as np\n",
    "import pandas as pd\n",
    "import geopandas as gpd\n",
    "import rasterio\n",
    "import rasterio.plot\n",
    "import datetime\n",
    "from pathlib import Path\n",
    "from IPython.display import display\n",
    "\n",
    "print('All libraries successfully imported!')"
   ]
  },
  {
   "cell_type": "markdown",
   "metadata": {},
   "source": [
    "## Set directory"
   ]
  },
  {
   "cell_type": "code",
   "execution_count": 35,
   "metadata": {},
   "outputs": [],
   "source": [
    "computer_path = '/export/miro/ndeffense/LBRAT2104/'\n",
    "grp_letter    = 'O'\n",
    "\n",
    "data_path = f'{computer_path}data/'                     # Directory with data shared by the assistant\n",
    "work_path = f'{computer_path}GROUP_{grp_letter}/WORK/'  # Directory for all work files\n",
    "\n",
    "# Image timeserie directory\n",
    "ts_path = f'{work_path}NBR/'\n",
    "raster_file_list = sorted(glob.glob(f'{ts_path}*.tif'))\n",
    "\n",
    "# Output directory\n",
    "composite_path = f'{work_path}COMPOSITE/'\n",
    "\n",
    "Path(composite_path).mkdir(parents=True, exist_ok=True)"
   ]
  },
  {
   "cell_type": "markdown",
   "metadata": {},
   "source": [
    "## Set parameters\n",
    "\n",
    "Compositing method :\n",
    "- mean\n",
    "- median\n",
    "- maximum\n",
    "- minimum"
   ]
  },
  {
   "cell_type": "code",
   "execution_count": 36,
   "metadata": {},
   "outputs": [],
   "source": [
    "method = 'median'"
   ]
  },
  {
   "cell_type": "markdown",
   "metadata": {},
   "source": [
    "### Date\n",
    "The date must be in each image filename. `begin_date` is the first position of the date\n",
    "\n",
    "E.g. : \"SITE_3_**2**0181108_NDVI.tif\" --> **begin_date = 8**"
   ]
  },
  {
   "cell_type": "code",
   "execution_count": 37,
   "metadata": {},
   "outputs": [],
   "source": [
    "format     = '%Y%m%d' # format : YYYYMMDD\n",
    "begin_date = 8\n",
    "\n",
    "year  = '2019'\n",
    "start = f'{year}0101'\n",
    "end   = f'{year}1231'"
   ]
  },
  {
   "cell_type": "markdown",
   "metadata": {},
   "source": [
    "## Set filenames"
   ]
  },
  {
   "cell_type": "code",
   "execution_count": 38,
   "metadata": {},
   "outputs": [],
   "source": [
    "composite_tif = f'{composite_path}composite_{method}_{year}_ND.tif'"
   ]
  },
  {
   "cell_type": "markdown",
   "metadata": {},
   "source": [
    "## Get dataframe with all images\n",
    "- date of acquisition\n",
    "- file path"
   ]
  },
  {
   "cell_type": "code",
   "execution_count": 39,
   "metadata": {},
   "outputs": [
    {
     "name": "stdout",
     "output_type": "stream",
     "text": [
      "/export/miro/ndeffense/LBRAT2104/GROUP_O/WORK/NBR/T56HKH_20190405T000241_NBR.tif\n",
      "/export/miro/ndeffense/LBRAT2104/GROUP_O/WORK/NBR/T56HKH_20190410T000249_NBR.tif\n",
      "/export/miro/ndeffense/LBRAT2104/GROUP_O/WORK/NBR/T56HKH_20190415T000241_NBR.tif\n",
      "/export/miro/ndeffense/LBRAT2104/GROUP_O/WORK/NBR/T56HKH_20190420T000249_NBR.tif\n",
      "/export/miro/ndeffense/LBRAT2104/GROUP_O/WORK/NBR/T56HKH_20190425T000241_NBR.tif\n",
      "/export/miro/ndeffense/LBRAT2104/GROUP_O/WORK/NBR/T56HKH_20190430T000249_NBR.tif\n",
      "/export/miro/ndeffense/LBRAT2104/GROUP_O/WORK/NBR/T56HKH_20190505T000241_NBR.tif\n",
      "/export/miro/ndeffense/LBRAT2104/GROUP_O/WORK/NBR/T56HKH_20190510T000249_NBR.tif\n",
      "/export/miro/ndeffense/LBRAT2104/GROUP_O/WORK/NBR/T56HKH_20190515T000241_NBR.tif\n",
      "/export/miro/ndeffense/LBRAT2104/GROUP_O/WORK/NBR/T56HKH_20190520T000249_NBR.tif\n",
      "/export/miro/ndeffense/LBRAT2104/GROUP_O/WORK/NBR/T56HKH_20190525T000241_NBR.tif\n",
      "/export/miro/ndeffense/LBRAT2104/GROUP_O/WORK/NBR/T56HKH_20200305T000239_NBR.tif\n",
      "/export/miro/ndeffense/LBRAT2104/GROUP_O/WORK/NBR/T56HKH_20200310T000241_NBR.tif\n",
      "/export/miro/ndeffense/LBRAT2104/GROUP_O/WORK/NBR/T56HKH_20200315T000239_NBR.tif\n",
      "/export/miro/ndeffense/LBRAT2104/GROUP_O/WORK/NBR/T56HKH_20200320T000241_NBR.tif\n",
      "/export/miro/ndeffense/LBRAT2104/GROUP_O/WORK/NBR/T56HKH_20200325T000239_NBR.tif\n",
      "/export/miro/ndeffense/LBRAT2104/GROUP_O/WORK/NBR/T56HKH_20200330T000241_NBR.tif\n",
      "/export/miro/ndeffense/LBRAT2104/GROUP_O/WORK/NBR/T56HKH_20200404T000239_NBR.tif\n",
      "/export/miro/ndeffense/LBRAT2104/GROUP_O/WORK/NBR/T56HKH_20200409T000241_NBR.tif\n",
      "/export/miro/ndeffense/LBRAT2104/GROUP_O/WORK/NBR/T56HKH_20200419T000241_NBR.tif\n",
      "/export/miro/ndeffense/LBRAT2104/GROUP_O/WORK/NBR/T56HKH_20200429T000241_NBR.tif\n"
     ]
    },
    {
     "data": {
      "text/html": [
       "<div>\n",
       "<style scoped>\n",
       "    .dataframe tbody tr th:only-of-type {\n",
       "        vertical-align: middle;\n",
       "    }\n",
       "\n",
       "    .dataframe tbody tr th {\n",
       "        vertical-align: top;\n",
       "    }\n",
       "\n",
       "    .dataframe thead th {\n",
       "        text-align: right;\n",
       "    }\n",
       "</style>\n",
       "<table border=\"1\" class=\"dataframe\">\n",
       "  <thead>\n",
       "    <tr style=\"text-align: right;\">\n",
       "      <th></th>\n",
       "      <th>date</th>\n",
       "      <th>im_path</th>\n",
       "    </tr>\n",
       "  </thead>\n",
       "  <tbody>\n",
       "    <tr>\n",
       "      <th>0</th>\n",
       "      <td>2019-04-05</td>\n",
       "      <td>/export/miro/ndeffense/LBRAT2104/GROUP_O/WORK/...</td>\n",
       "    </tr>\n",
       "    <tr>\n",
       "      <th>1</th>\n",
       "      <td>2019-04-10</td>\n",
       "      <td>/export/miro/ndeffense/LBRAT2104/GROUP_O/WORK/...</td>\n",
       "    </tr>\n",
       "    <tr>\n",
       "      <th>2</th>\n",
       "      <td>2019-04-15</td>\n",
       "      <td>/export/miro/ndeffense/LBRAT2104/GROUP_O/WORK/...</td>\n",
       "    </tr>\n",
       "    <tr>\n",
       "      <th>3</th>\n",
       "      <td>2019-04-20</td>\n",
       "      <td>/export/miro/ndeffense/LBRAT2104/GROUP_O/WORK/...</td>\n",
       "    </tr>\n",
       "    <tr>\n",
       "      <th>4</th>\n",
       "      <td>2019-04-25</td>\n",
       "      <td>/export/miro/ndeffense/LBRAT2104/GROUP_O/WORK/...</td>\n",
       "    </tr>\n",
       "    <tr>\n",
       "      <th>5</th>\n",
       "      <td>2019-04-30</td>\n",
       "      <td>/export/miro/ndeffense/LBRAT2104/GROUP_O/WORK/...</td>\n",
       "    </tr>\n",
       "    <tr>\n",
       "      <th>6</th>\n",
       "      <td>2019-05-05</td>\n",
       "      <td>/export/miro/ndeffense/LBRAT2104/GROUP_O/WORK/...</td>\n",
       "    </tr>\n",
       "    <tr>\n",
       "      <th>7</th>\n",
       "      <td>2019-05-10</td>\n",
       "      <td>/export/miro/ndeffense/LBRAT2104/GROUP_O/WORK/...</td>\n",
       "    </tr>\n",
       "    <tr>\n",
       "      <th>8</th>\n",
       "      <td>2019-05-15</td>\n",
       "      <td>/export/miro/ndeffense/LBRAT2104/GROUP_O/WORK/...</td>\n",
       "    </tr>\n",
       "    <tr>\n",
       "      <th>9</th>\n",
       "      <td>2019-05-20</td>\n",
       "      <td>/export/miro/ndeffense/LBRAT2104/GROUP_O/WORK/...</td>\n",
       "    </tr>\n",
       "    <tr>\n",
       "      <th>10</th>\n",
       "      <td>2019-05-25</td>\n",
       "      <td>/export/miro/ndeffense/LBRAT2104/GROUP_O/WORK/...</td>\n",
       "    </tr>\n",
       "    <tr>\n",
       "      <th>11</th>\n",
       "      <td>2020-03-05</td>\n",
       "      <td>/export/miro/ndeffense/LBRAT2104/GROUP_O/WORK/...</td>\n",
       "    </tr>\n",
       "    <tr>\n",
       "      <th>12</th>\n",
       "      <td>2020-03-10</td>\n",
       "      <td>/export/miro/ndeffense/LBRAT2104/GROUP_O/WORK/...</td>\n",
       "    </tr>\n",
       "    <tr>\n",
       "      <th>13</th>\n",
       "      <td>2020-03-15</td>\n",
       "      <td>/export/miro/ndeffense/LBRAT2104/GROUP_O/WORK/...</td>\n",
       "    </tr>\n",
       "    <tr>\n",
       "      <th>14</th>\n",
       "      <td>2020-03-20</td>\n",
       "      <td>/export/miro/ndeffense/LBRAT2104/GROUP_O/WORK/...</td>\n",
       "    </tr>\n",
       "    <tr>\n",
       "      <th>15</th>\n",
       "      <td>2020-03-25</td>\n",
       "      <td>/export/miro/ndeffense/LBRAT2104/GROUP_O/WORK/...</td>\n",
       "    </tr>\n",
       "    <tr>\n",
       "      <th>16</th>\n",
       "      <td>2020-03-30</td>\n",
       "      <td>/export/miro/ndeffense/LBRAT2104/GROUP_O/WORK/...</td>\n",
       "    </tr>\n",
       "    <tr>\n",
       "      <th>17</th>\n",
       "      <td>2020-04-04</td>\n",
       "      <td>/export/miro/ndeffense/LBRAT2104/GROUP_O/WORK/...</td>\n",
       "    </tr>\n",
       "    <tr>\n",
       "      <th>18</th>\n",
       "      <td>2020-04-09</td>\n",
       "      <td>/export/miro/ndeffense/LBRAT2104/GROUP_O/WORK/...</td>\n",
       "    </tr>\n",
       "    <tr>\n",
       "      <th>19</th>\n",
       "      <td>2020-04-19</td>\n",
       "      <td>/export/miro/ndeffense/LBRAT2104/GROUP_O/WORK/...</td>\n",
       "    </tr>\n",
       "    <tr>\n",
       "      <th>20</th>\n",
       "      <td>2020-04-29</td>\n",
       "      <td>/export/miro/ndeffense/LBRAT2104/GROUP_O/WORK/...</td>\n",
       "    </tr>\n",
       "  </tbody>\n",
       "</table>\n",
       "</div>"
      ],
      "text/plain": [
       "          date                                            im_path\n",
       "0   2019-04-05  /export/miro/ndeffense/LBRAT2104/GROUP_O/WORK/...\n",
       "1   2019-04-10  /export/miro/ndeffense/LBRAT2104/GROUP_O/WORK/...\n",
       "2   2019-04-15  /export/miro/ndeffense/LBRAT2104/GROUP_O/WORK/...\n",
       "3   2019-04-20  /export/miro/ndeffense/LBRAT2104/GROUP_O/WORK/...\n",
       "4   2019-04-25  /export/miro/ndeffense/LBRAT2104/GROUP_O/WORK/...\n",
       "5   2019-04-30  /export/miro/ndeffense/LBRAT2104/GROUP_O/WORK/...\n",
       "6   2019-05-05  /export/miro/ndeffense/LBRAT2104/GROUP_O/WORK/...\n",
       "7   2019-05-10  /export/miro/ndeffense/LBRAT2104/GROUP_O/WORK/...\n",
       "8   2019-05-15  /export/miro/ndeffense/LBRAT2104/GROUP_O/WORK/...\n",
       "9   2019-05-20  /export/miro/ndeffense/LBRAT2104/GROUP_O/WORK/...\n",
       "10  2019-05-25  /export/miro/ndeffense/LBRAT2104/GROUP_O/WORK/...\n",
       "11  2020-03-05  /export/miro/ndeffense/LBRAT2104/GROUP_O/WORK/...\n",
       "12  2020-03-10  /export/miro/ndeffense/LBRAT2104/GROUP_O/WORK/...\n",
       "13  2020-03-15  /export/miro/ndeffense/LBRAT2104/GROUP_O/WORK/...\n",
       "14  2020-03-20  /export/miro/ndeffense/LBRAT2104/GROUP_O/WORK/...\n",
       "15  2020-03-25  /export/miro/ndeffense/LBRAT2104/GROUP_O/WORK/...\n",
       "16  2020-03-30  /export/miro/ndeffense/LBRAT2104/GROUP_O/WORK/...\n",
       "17  2020-04-04  /export/miro/ndeffense/LBRAT2104/GROUP_O/WORK/...\n",
       "18  2020-04-09  /export/miro/ndeffense/LBRAT2104/GROUP_O/WORK/...\n",
       "19  2020-04-19  /export/miro/ndeffense/LBRAT2104/GROUP_O/WORK/...\n",
       "20  2020-04-29  /export/miro/ndeffense/LBRAT2104/GROUP_O/WORK/..."
      ]
     },
     "metadata": {},
     "output_type": "display_data"
    }
   ],
   "source": [
    "dict_list = []\n",
    "\n",
    "for im in raster_file_list:\n",
    "        \n",
    "        print(im)\n",
    "            \n",
    "        date_str = os.path.basename(im)[begin_date-1:begin_date-1+8]\n",
    "\n",
    "        date_im = datetime.datetime.strptime(date_str, format).date()\n",
    "\n",
    "        dict_list.append({'date': date_im,\n",
    "                          'im_path': im})\n",
    "\n",
    "im_date_path_df = pd.DataFrame.from_dict(dict_list).sort_values('date')\n",
    "\n",
    "display(im_date_path_df)"
   ]
  },
  {
   "cell_type": "markdown",
   "metadata": {},
   "source": [
    "### Select images inside a period"
   ]
  },
  {
   "cell_type": "code",
   "execution_count": 40,
   "metadata": {},
   "outputs": [
    {
     "data": {
      "text/html": [
       "<div>\n",
       "<style scoped>\n",
       "    .dataframe tbody tr th:only-of-type {\n",
       "        vertical-align: middle;\n",
       "    }\n",
       "\n",
       "    .dataframe tbody tr th {\n",
       "        vertical-align: top;\n",
       "    }\n",
       "\n",
       "    .dataframe thead th {\n",
       "        text-align: right;\n",
       "    }\n",
       "</style>\n",
       "<table border=\"1\" class=\"dataframe\">\n",
       "  <thead>\n",
       "    <tr style=\"text-align: right;\">\n",
       "      <th></th>\n",
       "      <th>date</th>\n",
       "      <th>im_path</th>\n",
       "    </tr>\n",
       "  </thead>\n",
       "  <tbody>\n",
       "    <tr>\n",
       "      <th>0</th>\n",
       "      <td>2019-04-05</td>\n",
       "      <td>/export/miro/ndeffense/LBRAT2104/GROUP_O/WORK/...</td>\n",
       "    </tr>\n",
       "    <tr>\n",
       "      <th>1</th>\n",
       "      <td>2019-04-10</td>\n",
       "      <td>/export/miro/ndeffense/LBRAT2104/GROUP_O/WORK/...</td>\n",
       "    </tr>\n",
       "    <tr>\n",
       "      <th>2</th>\n",
       "      <td>2019-04-15</td>\n",
       "      <td>/export/miro/ndeffense/LBRAT2104/GROUP_O/WORK/...</td>\n",
       "    </tr>\n",
       "    <tr>\n",
       "      <th>3</th>\n",
       "      <td>2019-04-20</td>\n",
       "      <td>/export/miro/ndeffense/LBRAT2104/GROUP_O/WORK/...</td>\n",
       "    </tr>\n",
       "    <tr>\n",
       "      <th>4</th>\n",
       "      <td>2019-04-25</td>\n",
       "      <td>/export/miro/ndeffense/LBRAT2104/GROUP_O/WORK/...</td>\n",
       "    </tr>\n",
       "    <tr>\n",
       "      <th>5</th>\n",
       "      <td>2019-04-30</td>\n",
       "      <td>/export/miro/ndeffense/LBRAT2104/GROUP_O/WORK/...</td>\n",
       "    </tr>\n",
       "    <tr>\n",
       "      <th>6</th>\n",
       "      <td>2019-05-05</td>\n",
       "      <td>/export/miro/ndeffense/LBRAT2104/GROUP_O/WORK/...</td>\n",
       "    </tr>\n",
       "    <tr>\n",
       "      <th>7</th>\n",
       "      <td>2019-05-10</td>\n",
       "      <td>/export/miro/ndeffense/LBRAT2104/GROUP_O/WORK/...</td>\n",
       "    </tr>\n",
       "    <tr>\n",
       "      <th>8</th>\n",
       "      <td>2019-05-15</td>\n",
       "      <td>/export/miro/ndeffense/LBRAT2104/GROUP_O/WORK/...</td>\n",
       "    </tr>\n",
       "    <tr>\n",
       "      <th>9</th>\n",
       "      <td>2019-05-20</td>\n",
       "      <td>/export/miro/ndeffense/LBRAT2104/GROUP_O/WORK/...</td>\n",
       "    </tr>\n",
       "    <tr>\n",
       "      <th>10</th>\n",
       "      <td>2019-05-25</td>\n",
       "      <td>/export/miro/ndeffense/LBRAT2104/GROUP_O/WORK/...</td>\n",
       "    </tr>\n",
       "  </tbody>\n",
       "</table>\n",
       "</div>"
      ],
      "text/plain": [
       "          date                                            im_path\n",
       "0   2019-04-05  /export/miro/ndeffense/LBRAT2104/GROUP_O/WORK/...\n",
       "1   2019-04-10  /export/miro/ndeffense/LBRAT2104/GROUP_O/WORK/...\n",
       "2   2019-04-15  /export/miro/ndeffense/LBRAT2104/GROUP_O/WORK/...\n",
       "3   2019-04-20  /export/miro/ndeffense/LBRAT2104/GROUP_O/WORK/...\n",
       "4   2019-04-25  /export/miro/ndeffense/LBRAT2104/GROUP_O/WORK/...\n",
       "5   2019-04-30  /export/miro/ndeffense/LBRAT2104/GROUP_O/WORK/...\n",
       "6   2019-05-05  /export/miro/ndeffense/LBRAT2104/GROUP_O/WORK/...\n",
       "7   2019-05-10  /export/miro/ndeffense/LBRAT2104/GROUP_O/WORK/...\n",
       "8   2019-05-15  /export/miro/ndeffense/LBRAT2104/GROUP_O/WORK/...\n",
       "9   2019-05-20  /export/miro/ndeffense/LBRAT2104/GROUP_O/WORK/...\n",
       "10  2019-05-25  /export/miro/ndeffense/LBRAT2104/GROUP_O/WORK/..."
      ]
     },
     "metadata": {},
     "output_type": "display_data"
    }
   ],
   "source": [
    "start_date = datetime.datetime.strptime(start, format).date()\n",
    "end_date   = datetime.datetime.strptime(end, format).date()\n",
    "\n",
    "mask = (im_date_path_df['date'] > start_date) & (im_date_path_df['date'] <= end_date)\n",
    "\n",
    "im_date_path_df = im_date_path_df.loc[mask]\n",
    "\n",
    "display(im_date_path_df)"
   ]
  },
  {
   "cell_type": "code",
   "execution_count": 41,
   "metadata": {},
   "outputs": [
    {
     "name": "stdout",
     "output_type": "stream",
     "text": [
      "Shape of features : (7831, 7171)\n",
      "Number of features : 11\n"
     ]
    }
   ],
   "source": [
    "list_src_arr = []\n",
    "\n",
    "for i, row in im_date_path_df.iterrows():\n",
    "    im_file    = row['im_path']\n",
    "    src = rasterio.open(im_file, \"r\")\n",
    "    im_arr = src.read(1)\n",
    "    list_src_arr.append(im_arr)\n",
    "    src.close()\n",
    "    \n",
    "print(f'Shape of features : {im_arr.shape}')\n",
    "print(f'Number of features : {len(list_src_arr)}')"
   ]
  },
  {
   "cell_type": "code",
   "execution_count": 42,
   "metadata": {},
   "outputs": [
    {
     "name": "stdout",
     "output_type": "stream",
     "text": [
      "(7831, 7171, 11)\n",
      "There are 11 features\n",
      "The features type is : float64\n"
     ]
    }
   ],
   "source": [
    "im_arr_stack = np.dstack(list_src_arr)\n",
    "\n",
    "print(im_arr_stack.shape)\n",
    "print(f'There are {im_arr_stack.shape[2]} features')\n",
    "print(f'The features type is : {im_arr_stack.dtype}')"
   ]
  },
  {
   "cell_type": "code",
   "execution_count": 43,
   "metadata": {},
   "outputs": [
    {
     "name": "stderr",
     "output_type": "stream",
     "text": [
      "/usr/lib64/python3.6/site-packages/numpy/lib/nanfunctions.py:1115: RuntimeWarning: All-NaN slice encountered\n",
      "  overwrite_input=overwrite_input)\n"
     ]
    },
    {
     "name": "stdout",
     "output_type": "stream",
     "text": [
      "[[0.13754227 0.14192521 0.15314707 ... 0.68004169 0.64980545 0.67152009]\n",
      " [0.13102889 0.11373701 0.12652456 ... 0.72244898 0.69684639 0.70433953]\n",
      " [0.11227482 0.1061478  0.13364833 ... 0.70749543 0.66449318 0.68837593]\n",
      " ...\n",
      " [0.4954955  0.60790514 0.63305424 ... 0.6718894  0.68949045 0.69077107]\n",
      " [0.50523013 0.60673162 0.64029909 ... 0.66680797 0.69589258 0.66601753]\n",
      " [0.40720497 0.56546598 0.6709597  ... 0.68605578 0.69743988 0.67355372]]\n"
     ]
    }
   ],
   "source": [
    "if method == 'median':\n",
    "    compo_arr = np.nanmedian(im_arr_stack, axis=2)\n",
    "\n",
    "elif method == 'mean':\n",
    "    compo_arr = np.nanmean(im_arr_stack, axis=2)\n",
    "\n",
    "elif method == 'std':\n",
    "    compo_arr = np.nanstd(im_arr_stack, axis=2)\n",
    "\n",
    "elif method == 'minimum':\n",
    "    compo_arr = np.nanmin(im_arr_stack, axis=2)\n",
    "\n",
    "elif method == 'maximum':\n",
    "    compo_arr = np.nanmax(im_arr_stack, axis=2)\n",
    "\n",
    "else:\n",
    "    print(f'Method not available !')\n",
    "\n",
    "print(compo_arr)"
   ]
  },
  {
   "cell_type": "code",
   "execution_count": 44,
   "metadata": {},
   "outputs": [
    {
     "name": "stdout",
     "output_type": "stream",
     "text": [
      "{'driver': 'GTiff', 'dtype': 'float64', 'nodata': -10000.0, 'width': 7171, 'height': 7831, 'count': 1, 'crs': CRS({'init': 'epsg:32756'}), 'transform': Affine(10.0, 0.0, 202830.0,\n",
      "       0.0, -10.0, 6269560.0), 'tiled': False, 'compress': 'lzw', 'interleave': 'band'}\n"
     ]
    }
   ],
   "source": [
    "img_temp_tif = raster_file_list[0]\n",
    "\n",
    "with rasterio.open(img_temp_tif) as src:\n",
    "    profile = src.profile\n",
    "\n",
    "print(profile)\n",
    "\n",
    "with rasterio.open(composite_tif, \"w\", **profile) as dst:\n",
    "    dst.write(compo_arr, 1)"
   ]
  }
 ],
 "metadata": {
  "interpreter": {
   "hash": "31f2aee4e71d21fbe5cf8b01ff0e069b9275f58929596ceb00d14d90e3e16cd6"
  },
  "kernelspec": {
   "display_name": "Python 3.6.12 64-bit",
   "language": "python",
   "name": "python3"
  },
  "language_info": {
   "codemirror_mode": {
    "name": "ipython",
    "version": 3
   },
   "file_extension": ".py",
   "mimetype": "text/x-python",
   "name": "python",
   "nbconvert_exporter": "python",
   "pygments_lexer": "ipython3",
   "version": "3.6.12"
  },
  "orig_nbformat": 4
 },
 "nbformat": 4,
 "nbformat_minor": 2
}
