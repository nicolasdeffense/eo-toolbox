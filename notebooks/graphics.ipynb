{
 "metadata": {
  "language_info": {
   "codemirror_mode": {
    "name": "ipython",
    "version": 3
   },
   "file_extension": ".py",
   "mimetype": "text/x-python",
   "name": "python",
   "nbconvert_exporter": "python",
   "pygments_lexer": "ipython3",
   "version": "3.6.10"
  },
  "orig_nbformat": 2,
  "kernelspec": {
   "name": "python3610jvsc74a57bd0d44a822591a3717b24d3edf137db462f6168d56f0b857c252a9153258824edbd",
   "display_name": "Python 3.6.10 64-bit ('python_3_6': conda)"
  }
 },
 "nbformat": 4,
 "nbformat_minor": 2,
 "cells": [
  {
   "source": [
    "# Graphics with matplotlib\n",
    "\n"
   ],
   "cell_type": "markdown",
   "metadata": {}
  },
  {
   "cell_type": "code",
   "execution_count": 1,
   "metadata": {},
   "outputs": [
    {
     "output_type": "stream",
     "name": "stdout",
     "text": [
      "Matplotlib : 3.3.4\nScipy : 1.5.2\n"
     ]
    }
   ],
   "source": [
    "import pandas as pd\n",
    "import geopandas as gpd\n",
    "import numpy as np\n",
    "import datetime\n",
    "import matplotlib\n",
    "import matplotlib.pyplot as plt\n",
    "import matplotlib.dates as mdates\n",
    "from IPython.display import display\n",
    "import scipy\n",
    "from scipy.signal import savgol_filter\n",
    "from pathlib import Path\n",
    "\n",
    "# To have a better diplay of the DataFrame\n",
    "from IPython.display import display\n",
    "\n",
    "print(f'Matplotlib : {matplotlib.__version__}')\n",
    "print(f'Scipy : {scipy.__version__}')"
   ]
  },
  {
   "source": [
    "## Set paths for input and output directories"
   ],
   "cell_type": "markdown",
   "metadata": {}
  },
  {
   "cell_type": "code",
   "execution_count": null,
   "metadata": {},
   "outputs": [],
   "source": [
    "#computer_path = 'X:/'\n",
    "computer_path = '/Volumes/nbdid-sst-lbrat2104/'\n",
    "grp_letter    = 'X'\n",
    "\n",
    "# Directory for all work files\n",
    "work_path = f'{computer_path}GROUP_{grp_letter}/WORK/'\n",
    "\n",
    "\n",
    "# Shapefile with zonal stats\n",
    "shp_with_ZS = f'{work_path}'\n",
    "\n",
    "# Output directory\n",
    "graph_path = f'{work_path}GRAPH/'\n",
    "\n",
    "Path(graph_path).mkdir(parents=True, exist_ok=True)\n",
    "\n",
    "\n",
    "print(f'Gaphs directory is set to : {graph_path}')"
   ]
  },
  {
   "source": [
    "## Plot"
   ],
   "cell_type": "markdown",
   "metadata": {}
  },
  {
   "cell_type": "code",
   "execution_count": null,
   "metadata": {},
   "outputs": [],
   "source": [
    "plt.style.use('ggplot')\n",
    "#print(plt.style.available)\n",
    "\n",
    "\n",
    "fig, ax = plt.subplots(figsize=(10, 6))\n",
    "\n",
    "ax.set_title('Timeserie')\n",
    "\n",
    "ax.plot(df['NDVI_1580076457'], color='blue', label='Potato (non-early)')\n",
    "ax.plot(df['NDVI_1580135170'], color='red', label='Common wheat (winter)')\n",
    "\n",
    "ax.legend(loc='upper right')\n",
    "ax.set_ylabel('NDVI')\n",
    "ax.set_ylim([0, 1])\n",
    "\n",
    "\n",
    "fig.tight_layout()"
   ]
  },
  {
   "cell_type": "code",
   "execution_count": null,
   "metadata": {},
   "outputs": [],
   "source": [
    "# Set ROI directory\n",
    "ts_path = f'{output_path}Timeseries/'\n",
    "\n",
    "# Create ROI directory if missing\n",
    "Path(ts_path).mkdir(parents=True, exist_ok=True)\n",
    "\n",
    "\n",
    "plt.style.use('ggplot')\n",
    "#plt.style.use('fivethirtyeight')\n",
    "\n",
    "fig, axes = plt.subplots(nrows=2,ncols=2,figsize=(15, 8))\n",
    "\n",
    "\n",
    "axes[0,0].set_title('Potato (non-early)')\n",
    "axes[0,0].plot(df['NDVI_1580076457'], color='blue')\n",
    "axes[0,0].set_ylabel('NDVI')\n",
    "axes[0,0].xaxis.set_major_formatter(mdates.DateFormatter('%b %y'))\n",
    "\n",
    "axes[0,1].set_title('Common wheat (winter)')\n",
    "axes[0,1].plot(df['NDVI_1580135170'], color='red')\n",
    "axes[0,1].xaxis.set_major_formatter(mdates.DateFormatter('%b %y'))\n",
    "\n",
    "axes[1,0].set_title('Maize (for livestock)')\n",
    "axes[1,0].plot(df['NDVI_1990011176'], color='green')\n",
    "axes[1,0].set_ylabel('NDVI')\n",
    "axes[1,0].xaxis.set_major_formatter(mdates.DateFormatter('%b %y'))\n",
    "\n",
    "axes[1,1].set_title('Grassland')\n",
    "axes[1,1].plot(df['NDVI_1805103211'], color='purple')\n",
    "axes[1,1].xaxis.set_major_formatter(mdates.DateFormatter('%b %y'))\n",
    "\n",
    "\n",
    "plt.setp(axes, ylim=(0,1))\n",
    "\n",
    "fig.tight_layout()\n",
    "\n",
    "plt.savefig(f'{ts_path}NDVI_subplots.png', dpi=300)"
   ]
  }
 ]
}