{
 "metadata": {
  "language_info": {
   "codemirror_mode": {
    "name": "ipython",
    "version": 3
   },
   "file_extension": ".py",
   "mimetype": "text/x-python",
   "name": "python",
   "nbconvert_exporter": "python",
   "pygments_lexer": "ipython3",
   "version": "3.6.10"
  },
  "orig_nbformat": 2,
  "kernelspec": {
   "name": "python3610jvsc74a57bd0d44a822591a3717b24d3edf137db462f6168d56f0b857c252a9153258824edbd",
   "display_name": "Python 3.6.10 64-bit ('python_3_6': conda)"
  }
 },
 "nbformat": 4,
 "nbformat_minor": 2,
 "cells": [
  {
   "source": [
    "# Create multiband raster with rasterio\n",
    "\n",
    "Sometimes, we want to stack a list of single band raster into a unique multiband raster.\n",
    "The most common case is when you want to create a color composite. But it could also be useful to create a multiband raster with all the images of a timeserie for example."
   ],
   "cell_type": "markdown",
   "metadata": {}
  },
  {
   "cell_type": "code",
   "execution_count": 1,
   "metadata": {},
   "outputs": [],
   "source": [
    "import glob, os\n",
    "import numpy as np\n",
    "import pandas as pd\n",
    "import rasterio\n",
    "from rasterio import plot\n",
    "from rasterio.plot import show\n",
    "from pathlib import Path"
   ]
  },
  {
   "source": [
    "## Set paths for input and output directories"
   ],
   "cell_type": "markdown",
   "metadata": {}
  },
  {
   "cell_type": "code",
   "execution_count": 2,
   "metadata": {},
   "outputs": [
    {
     "output_type": "stream",
     "name": "stdout",
     "text": [
      "General work path is set to      : /Volumes/nbdid-sst-lbrat2104/GROUP_X/WORK/\nMultiband rasters path is set to : /Volumes/nbdid-sst-lbrat2104/GROUP_X/WORK/MULTIBAND/\n"
     ]
    }
   ],
   "source": [
    "# Directory for all work files\n",
    "\n",
    "grp_letter = 'X'\n",
    "#work_path = f'X:/GROUP_{grp_letter}/WORK/'\n",
    "work_path = f'/Volumes/nbdid-sst-lbrat2104/GROUP_{grp_letter}/WORK/'\n",
    "\n",
    "# ----- #\n",
    "# INPUT #\n",
    "# ----- #\n",
    " \n",
    "im_path = f'{work_path}NDVI/'\n",
    "\n",
    "# ------ #\n",
    "# OUTPUT #\n",
    "# ------ #\n",
    "\n",
    "multi_path = f'{work_path}MULTIBAND/'\n",
    "\n",
    "Path(multi_path).mkdir(parents=True, exist_ok=True)\n",
    "\n",
    "print(f'General work path is set to      : {work_path}')\n",
    "print(f'Multiband rasters path is set to : {multi_path}')"
   ]
  },
  {
   "cell_type": "code",
   "execution_count": null,
   "metadata": {},
   "outputs": [],
   "source": []
  },
  {
   "cell_type": "code",
   "execution_count": 7,
   "metadata": {},
   "outputs": [],
   "source": [
    "src = rasterio.open(list_im[0], 'r')\n",
    "\n",
    "profile = src.profile\n",
    "profile.update(count=len(list_im))\n",
    "\n",
    "src.close()"
   ]
  },
  {
   "cell_type": "code",
   "execution_count": 9,
   "metadata": {},
   "outputs": [
    {
     "output_type": "stream",
     "name": "stdout",
     "text": [
      "[array([[0.66026365, 0.50760563, 0.40082079, ..., 0.83809524, 0.85211103,\n        0.79693487],\n       [0.71828172, 0.64799294, 0.59344262, ..., 0.84845606, 0.82850356,\n        0.65788801],\n       [0.7516672 , 0.67531083, 0.63619575, ..., 0.81905001, 0.65665236,\n        0.42105263],\n       ...,\n       [0.59484778, 0.55236576, 0.55077539, ...,        nan, 0.24806746,\n        0.31261561],\n       [0.60609911, 0.56308411, 0.55648536, ...,        nan, 0.24914676,\n        0.25447244],\n       [       nan,        nan,        nan, ...,        nan,        nan,\n               nan]]), array([[0.42912925, 0.43237788, 0.37547408, ...,        nan,        nan,\n               nan],\n       [0.43097239, 0.43376623, 0.42655262, ...,        nan,        nan,\n               nan],\n       [0.43283582, 0.44285215, 0.44069015, ...,        nan,        nan,\n               nan],\n       ...,\n       [       nan,        nan,        nan, ...,        nan,        nan,\n               nan],\n       [       nan,        nan,        nan, ...,        nan,        nan,\n               nan],\n       [       nan,        nan,        nan, ...,        nan,        nan,\n               nan]]), array([[0.66888396, 0.59018987, 0.47197107, ..., 0.61890517, 0.60756501,\n        0.6372093 ],\n       [0.69617772, 0.65145526, 0.60338853, ..., 0.70489691, 0.67168084,\n        0.54275742],\n       [0.73442723, 0.6797829 , 0.66563254, ..., 0.65756505, 0.5261944 ,\n        0.38018271],\n       ...,\n       [       nan,        nan,        nan, ..., 0.32256267, 0.33150384,\n        0.34946539],\n       [       nan,        nan,        nan, ..., 0.32063146, 0.33260632,\n        0.34424441],\n       [       nan,        nan,        nan, ...,        nan,        nan,\n               nan]]), array([[0.64740307, 0.62586116, 0.56907478, ..., 0.80958359, 0.8241258 ,\n        0.67445641],\n       [0.6803653 , 0.64926716, 0.69805366, ..., 0.82131148, 0.6647219 ,\n        0.36964839],\n       [0.73038774, 0.70060753, 0.69206843, ..., 0.66261808, 0.33474427,\n        0.1779618 ],\n       ...,\n       [0.71796875, 0.73779836, 0.73572228, ..., 0.36754235, 0.39376636,\n        0.40927467],\n       [0.7370297 , 0.71998404, 0.73135525, ..., 0.38078459, 0.41897878,\n        0.41483901],\n       [       nan,        nan,        nan, ...,        nan,        nan,\n               nan]]), array([[0.64070033, 0.69012548, 0.71218962, ..., 0.5170441 , 0.49381541,\n        0.34527089],\n       [0.71521487, 0.75652174, 0.85165326, ..., 0.49025202, 0.32620818,\n        0.20146688],\n       [0.77492815, 0.76046738, 0.79944547, ..., 0.33983287, 0.18755803,\n        0.14951095],\n       ...,\n       [0.91992374, 0.92124453, 0.91181102, ..., 0.5457575 , 0.58069538,\n        0.54185464],\n       [0.9111816 , 0.90559533, 0.91531265, ..., 0.57298701, 0.59360495,\n        0.55186304],\n       [       nan,        nan,        nan, ...,        nan,        nan,\n               nan]]), array([[0.7200089 , 0.61413991, 0.43030303, ..., 0.77167687, 0.82206949,\n        0.84199662],\n       [0.74599787, 0.73388683, 0.67492121, ..., 0.83473604, 0.83918292,\n        0.75600079],\n       [0.79269537, 0.79957717, 0.83306836, ..., 0.84272608, 0.76406091,\n        0.59632616],\n       ...,\n       [0.91259746, 0.90851542, 0.84885764, ..., 0.60929467, 0.60052794,\n        0.54396186],\n       [0.90500976, 0.90399282, 0.8971508 , ..., 0.58748943, 0.55530875,\n        0.49125032],\n       [       nan,        nan,        nan, ...,        nan,        nan,\n               nan]]), array([[0.74196429, 0.76369125, 0.66397578, ..., 0.77301328, 0.81985536,\n        0.83849847],\n       [0.7316499 , 0.78632479, 0.82311366, ..., 0.81272085, 0.84855717,\n        0.90272123],\n       [0.799919  , 0.77327935, 0.82260024, ..., 0.86107471, 0.91204589,\n        0.95133626],\n       ...,\n       [0.91183754, 0.91283639, 0.9021767 , ..., 0.35153584, 0.31755725,\n        0.29881995],\n       [0.9088729 , 0.90613333, 0.90334981, ..., 0.3353182 , 0.2857685 ,\n        0.29764919],\n       [       nan,        nan,        nan, ...,        nan,        nan,\n               nan]]), array([[0.6816696 , 0.62763466, 0.47536232, ..., 0.57776645, 0.63206578,\n        0.67714663],\n       [0.58351948, 0.76052104, 0.67637727, ..., 0.62758621, 0.6644223 ,\n        0.75796897],\n       [0.56357303, 0.74337662, 0.83259127, ..., 0.69248422, 0.76437109,\n        0.83253333],\n       ...,\n       [0.86330391, 0.85654008, 0.83225806, ..., 0.11897106, 0.13888889,\n        0.13902205],\n       [0.84757255, 0.84736842, 0.82213091, ..., 0.12505643, 0.14905399,\n        0.14137116],\n       [       nan,        nan,        nan, ...,        nan,        nan,\n               nan]]), array([[0.62965019, 0.75105843, 0.64953432, ..., 0.62870099, 0.67668966,\n        0.65613842],\n       [0.59766423, 0.74320525, 0.8018211 , ..., 0.68936877, 0.72021921,\n        0.73336785],\n       [0.69298931, 0.68944779, 0.81020734, ..., 0.76011315, 0.77326733,\n        0.79213232],\n       ...,\n       [0.86453434, 0.874716  , 0.86076867, ..., 0.24113968, 0.23619048,\n        0.28418912],\n       [0.8660143 , 0.85171523, 0.86429513, ..., 0.23220102, 0.21583412,\n        0.27676369],\n       [       nan,        nan,        nan, ...,        nan,        nan,\n               nan]]), array([[0.74202345, 0.6433121 , 0.49042465, ..., 0.79427462, 0.8033261 ,\n        0.83921993],\n       [0.73478389, 0.73180751, 0.66714388, ..., 0.8399264 , 0.86212766,\n        0.83855371],\n       [0.76058201, 0.74264487, 0.78835616, ..., 0.85446985, 0.83703393,\n        0.6462683 ],\n       ...,\n       [0.86643336, 0.85147962, 0.83806452, ..., 0.88673139, 0.88530709,\n        0.87716263],\n       [0.85826278, 0.85455607, 0.83895254, ..., 0.88119462, 0.87671715,\n        0.87121076],\n       [       nan,        nan,        nan, ...,        nan,        nan,\n               nan]]), array([[0.73315436, 0.61516966, 0.40336134, ..., 0.81061453, 0.83913565,\n        0.8674429 ],\n       [0.78483338, 0.73910393, 0.67084079, ..., 0.85930372, 0.87186037,\n        0.77589664],\n       [0.82330935, 0.77725536, 0.73085671, ..., 0.88734177, 0.80476833,\n        0.54581463],\n       ...,\n       [0.62562332, 0.70293028, 0.68725361, ..., 0.92018204, 0.91947499,\n        0.90909091],\n       [0.63673469, 0.66390354, 0.66834171, ..., 0.91313597, 0.92021371,\n        0.90948276],\n       [       nan,        nan,        nan, ...,        nan,        nan,\n               nan]]), array([[0.65677626, 0.59002338, 0.41301627, ..., 0.67354597, 0.72990544,\n        0.72491349],\n       [0.71977279, 0.69829352, 0.59212519, ..., 0.72638037, 0.74378038,\n        0.6548881 ],\n       [0.75263852, 0.68906456, 0.64213788, ..., 0.75350642, 0.6385902 ,\n        0.50755008],\n       ...,\n       [0.58860104, 0.56161715, 0.51199638, ..., 0.86544742, 0.88315697,\n        0.88581624],\n       [0.61968408, 0.59546926, 0.54875177, ..., 0.8556701 , 0.87429601,\n        0.88827556],\n       [       nan,        nan,        nan, ...,        nan,        nan,\n               nan]])]\n"
     ]
    },
    {
     "output_type": "execute_result",
     "data": {
      "text/plain": [
       "\"\\nwith rasterio.open(out_img, 'w', **profile) as dest:\\n    for band_nr, src in enumerate(list_im, start=1):\\n        print(band_nr)\\n        dest.write(src, band_nr)\\n\""
      ]
     },
     "metadata": {},
     "execution_count": 9
    }
   ],
   "source": [
    "out_img = f'{multi_path}NDVI_timeserie.tif'\n",
    "\n",
    "src_arr_list = []\n",
    "\n",
    "list_im = sorted(glob.glob(f'{im_path}*.tif'))\n",
    "\n",
    "\n",
    "for im_file in list_im:\n",
    "    print(im_file)\n",
    "    src = rasterio.open(im_file, 'r')\n",
    "    src_arr = src.read(1)\n",
    "    src_arr_list.append(src_arr)\n",
    "    src.close()\n",
    "\n",
    "with rasterio.open(out_img, 'w', **profile) as dest:\n",
    "    for band_nr, src in enumerate(src_arr_list, start=1):\n",
    "        dest.write(src, band_nr)"
   ]
  }
 ]
}