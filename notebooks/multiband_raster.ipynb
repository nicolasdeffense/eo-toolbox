{
 "metadata": {
  "language_info": {
   "codemirror_mode": {
    "name": "ipython",
    "version": 3
   },
   "file_extension": ".py",
   "mimetype": "text/x-python",
   "name": "python",
   "nbconvert_exporter": "python",
   "pygments_lexer": "ipython3",
   "version": "3.6.10"
  },
  "orig_nbformat": 2,
  "kernelspec": {
   "name": "python3610jvsc74a57bd0d44a822591a3717b24d3edf137db462f6168d56f0b857c252a9153258824edbd",
   "display_name": "Python 3.6.10 64-bit ('python_3_6': conda)"
  }
 },
 "nbformat": 4,
 "nbformat_minor": 2,
 "cells": [
  {
   "source": [
    "# Create multi-band raster with rasterio\n",
    "\n",
    "This script allows to stack a list of single band raster into a unique multi-band raster.\n",
    "The most common case is when you want to create a color composite. But it could also be useful to create a multi-band raster with all the images of a timeserie for example."
   ],
   "cell_type": "markdown",
   "metadata": {}
  },
  {
   "cell_type": "code",
   "execution_count": 1,
   "metadata": {},
   "outputs": [],
   "source": [
    "import glob, os\n",
    "import numpy as np\n",
    "import pandas as pd\n",
    "import rasterio\n",
    "from rasterio import plot\n",
    "from rasterio.plot import show\n",
    "from pathlib import Path"
   ]
  },
  {
   "source": [
    "## Set paths for input and output directories"
   ],
   "cell_type": "markdown",
   "metadata": {}
  },
  {
   "cell_type": "code",
   "execution_count": 2,
   "metadata": {},
   "outputs": [
    {
     "output_type": "stream",
     "name": "stdout",
     "text": [
      "General work path is set to      : /Volumes/nbdid-sst-lbrat2104/GROUP_X/WORK/\nMultiband rasters path is set to : /Volumes/nbdid-sst-lbrat2104/GROUP_X/WORK/MULTIBAND/\n"
     ]
    }
   ],
   "source": [
    "# Directory for all work files\n",
    "\n",
    "grp_letter = 'X'\n",
    "#work_path = f'X:/GROUP_{grp_letter}/WORK/'\n",
    "work_path = f'/Volumes/nbdid-sst-lbrat2104/GROUP_{grp_letter}/WORK/'\n",
    "\n",
    "\n",
    "multi_path = f'{work_path}MULTIBAND/'\n",
    "\n",
    "Path(multi_path).mkdir(parents=True, exist_ok=True)\n",
    "\n",
    "print(f'General work path is set to      : {work_path}')\n",
    "print(f'Multiband rasters path is set to : {multi_path}')"
   ]
  },
  {
   "source": [
    "## Get list of single band images to stack in a single multi-band GeoTIFF\n",
    "\n",
    "### 1. True Color Composite - select bands RED / GREEN / BLUE"
   ],
   "cell_type": "markdown",
   "metadata": {}
  },
  {
   "cell_type": "code",
   "execution_count": 6,
   "metadata": {},
   "outputs": [],
   "source": [
    "date = '20200212'\n",
    "\n",
    "reflectance_path = f'{work_path}2_L2A_CLIPPED/'\n",
    "multi_band_file = f'{multi_path}TrueColor_composite_{date}.tif'\n",
    "\n",
    "red_band   = glob.glob(f'{reflectance_path}*{date}*B04*.tif')[0]\n",
    "green_band = glob.glob(f'{reflectance_path}*{date}*B03*.tif')[0]\n",
    "blue_band  = glob.glob(f'{reflectance_path}*{date}*B02*.tif')[0]\n",
    "\n",
    "list_im = [red_band, green_band, blue_band]"
   ]
  },
  {
   "source": [
    "### 2. False Color Composite - select bands RED / GREEN / NIR"
   ],
   "cell_type": "markdown",
   "metadata": {}
  },
  {
   "cell_type": "code",
   "execution_count": 4,
   "metadata": {},
   "outputs": [],
   "source": [
    "date = '20200212'\n",
    "\n",
    "reflectance_path = f'{work_path}3_L2A_MASKED/'\n",
    "multi_band_file = f'{multi_path}FalseColor_composite_{date}.tif'\n",
    "\n",
    "\n",
    "red_band   = glob.glob(f'{reflectance_path}*{date}*B04*.tif')[0]\n",
    "green_band = glob.glob(f'{reflectance_path}*{date}*B03*.tif')[0]\n",
    "nir_band   = glob.glob(f'{reflectance_path}*{date}*B08*.tif')[0]\n",
    "\n",
    "list_im = [nir_band, red_band, green_band]"
   ]
  },
  {
   "source": [
    "### 3. Timeserie - select all rasters in the period of the timeserie"
   ],
   "cell_type": "markdown",
   "metadata": {}
  },
  {
   "cell_type": "code",
   "execution_count": 5,
   "metadata": {},
   "outputs": [],
   "source": [
    "index_path = f'{work_path}NDVI/'\n",
    "\n",
    "multi_band_file = f'{multi_path}NDVI_timeserie.tif'\n",
    "\n",
    "list_im = sorted(glob.glob(f'{index_path}*.tif'))"
   ]
  },
  {
   "source": [
    "## Get metadata from one image of the list and update number of layers/bands"
   ],
   "cell_type": "markdown",
   "metadata": {}
  },
  {
   "cell_type": "code",
   "execution_count": 7,
   "metadata": {},
   "outputs": [
    {
     "output_type": "stream",
     "name": "stdout",
     "text": [
      "Number of layers : 3\n"
     ]
    }
   ],
   "source": [
    "src = rasterio.open(list_im[0], 'r')\n",
    "\n",
    "profile = src.profile\n",
    "profile.update(count=len(list_im))\n",
    "\n",
    "print(f'Number of layers : {profile[\"count\"]}')\n",
    "\n",
    "src.close()"
   ]
  },
  {
   "cell_type": "code",
   "execution_count": 9,
   "metadata": {},
   "outputs": [
    {
     "output_type": "stream",
     "name": "stdout",
     "text": [
      "--> /Volumes/nbdid-sst-lbrat2104/GROUP_X/WORK/MULTIBAND/TrueColor_composite_20200212.tif - already exists\n"
     ]
    }
   ],
   "source": [
    "\n",
    "if not os.path.isfile(multi_band_file):\n",
    "\n",
    "    list_src_arr = []\n",
    "\n",
    "    for im_file in list_im:\n",
    "        print(im_file)\n",
    "        src = rasterio.open(im_file, 'r')\n",
    "        im = src.read(1)\n",
    "        list_src_arr.append(im)\n",
    "        src.close()\n",
    "\n",
    "    with rasterio.open(multi_band_file, 'w', **profile) as dst:\n",
    "        for band_nr, src in enumerate(list_src_arr, start=1):\n",
    "            dst.write(src, band_nr)\n",
    "    \n",
    "    print(f'--> A new mulit-band raster file is created : {multi_band_file}')\n",
    "\n",
    "else:\n",
    "    print(f'--> {multi_band_file} - already exists')\n"
   ]
  }
 ]
}