{
 "metadata": {
  "language_info": {
   "codemirror_mode": {
    "name": "ipython",
    "version": 3
   },
   "file_extension": ".py",
   "mimetype": "text/x-python",
   "name": "python",
   "nbconvert_exporter": "python",
   "pygments_lexer": "ipython3",
   "version": 3
  },
  "orig_nbformat": 2
 },
 "nbformat": 4,
 "nbformat_minor": 2,
 "cells": [
  {
   "source": [
    "# Create multiband raster with rasterio\n",
    "\n",
    "Sometimes, we want to stack a list of single band raster into a unique multiband raster.\n",
    "The most common case is when you want to create a color composite. But it could also be useful to create a multiband raster with all the images of a timeserie for example."
   ],
   "cell_type": "markdown",
   "metadata": {}
  },
  {
   "cell_type": "code",
   "execution_count": null,
   "metadata": {},
   "outputs": [],
   "source": [
    "import glob, os\n",
    "import numpy as np\n",
    "import pandas as pd\n",
    "import rasterio\n",
    "from rasterio import plot\n",
    "from rasterio.plot import show\n",
    "from pathlib import Path"
   ]
  },
  {
   "source": [
    "## Set paths for input and output directories"
   ],
   "cell_type": "markdown",
   "metadata": {}
  },
  {
   "cell_type": "code",
   "execution_count": null,
   "metadata": {},
   "outputs": [],
   "source": [
    "# Directory for all work files\n",
    "\n",
    "grp_letter = 'X'\n",
    "#work_path = f'X:/GROUP_{grp_letter}/WORK/'\n",
    "work_path = f'/Volumes/nbdid-sst-lbrat2104/GROUP_{grp_letter}/WORK/'\n",
    "\n",
    "# ----- #\n",
    "# INPUT #\n",
    "# ----- #\n",
    " \n",
    "input_path = f'{work_path}NDVI/'\n",
    "\n",
    "# ------ #\n",
    "# OUTPUT #\n",
    "# ------ #\n",
    "\n",
    "multi_path = f'{work_path}MULTIBAND/'\n",
    "\n",
    "Path(multi_path).mkdir(parents=True, exist_ok=True)\n",
    "\n",
    "print(f'General work path is set to      : {work_path}')\n",
    "print(f'Multiband rasters path is set to : {multi_path}')"
   ]
  }
 ]
}