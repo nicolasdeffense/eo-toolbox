{
 "cells": [
  {
   "cell_type": "markdown",
   "metadata": {},
   "source": [
    "# Region of Interest"
   ]
  },
  {
   "cell_type": "code",
   "execution_count": 31,
   "metadata": {},
   "outputs": [
    {
     "name": "stdout",
     "output_type": "stream",
     "text": [
      "All libraries successfully imported!\n",
      "GeoPandas : 0.9.0\n"
     ]
    }
   ],
   "source": [
    "import os\n",
    "import geopandas as gpd\n",
    "from shapely.geometry import Polygon\n",
    "from pathlib import Path\n",
    "import matplotlib.pyplot as plt\n",
    "from IPython.display import display\n",
    "\n",
    "print('All libraries successfully imported!')\n",
    "print(f'GeoPandas : {gpd.__version__}')"
   ]
  },
  {
   "cell_type": "markdown",
   "metadata": {},
   "source": [
    "## Set directory"
   ]
  },
  {
   "cell_type": "code",
   "execution_count": 29,
   "metadata": {},
   "outputs": [],
   "source": [
    "computer_path = '/export/miro/ndeffense/LBRAT2104/'\n",
    "grp_letter    = 'X'\n",
    "\n",
    "# Directory for all work files\n",
    "work_path = f'{computer_path}GROUP_{grp_letter}/WORK/'\n",
    "\n",
    "# Directory where ROI shapefile is stored\n",
    "roi_path = f'{work_path}ROI/'\n",
    "\n",
    "# Create ROI path if not exists\n",
    "Path(roi_path).mkdir(parents=True, exist_ok=True)"
   ]
  },
  {
   "cell_type": "markdown",
   "metadata": {},
   "source": [
    "## Choose CRS of your ROI\n",
    "\n",
    "Choose the same CRS as the Sentinel data.\n",
    "\n",
    "WGS 84 / UTM zone 31N"
   ]
  },
  {
   "cell_type": "code",
   "execution_count": 3,
   "metadata": {},
   "outputs": [],
   "source": [
    "crs_dst = 'EPSG:32631'"
   ]
  },
  {
   "cell_type": "markdown",
   "metadata": {},
   "source": [
    "## Give a name for the ROI shapefile\n",
    "\n",
    "Tip : You can include the EPSG code in the filename!"
   ]
  },
  {
   "cell_type": "code",
   "execution_count": 30,
   "metadata": {},
   "outputs": [
    {
     "name": "stdout",
     "output_type": "stream",
     "text": [
      "ROI shapefile will be stored in : /export/miro/ndeffense/LBRAT2104/GROUP_X/WORK/ROI/extent_roi_32631.shp\n"
     ]
    }
   ],
   "source": [
    "roi_name = 'extent_roi'\n",
    "\n",
    "roi_filename = f'{roi_name}_{crs_dst[5:]}.shp'\n",
    "\n",
    "roi_file = f'{roi_path}{roi_filename}'\n",
    "\n",
    "print(f'ROI shapefile will be stored in : {roi_file}')"
   ]
  },
  {
   "cell_type": "markdown",
   "metadata": {},
   "source": [
    "## Find the coordinates of your ROI bounding box (bbox)\n",
    "\n",
    "To find the coordinates of a bounding box, check: http://bboxfinder.com/\n",
    "\n",
    "**!! Be carefull of the crs_src you chose !!**\n"
   ]
  },
  {
   "cell_type": "code",
   "execution_count": 16,
   "metadata": {},
   "outputs": [
    {
     "name": "stdout",
     "output_type": "stream",
     "text": [
      "Upper Left X  : 627263.7\n",
      "Upper Left Y  : 5596175.1\n",
      "Lower Right X : 637115\n",
      "Lower Right Y : 5590485.2\n"
     ]
    }
   ],
   "source": [
    "crs_src = 'EPSG:32631'\n",
    "bbox    = [627263.7,5596175.1,637115,5590485.2]\n",
    "\n",
    "ulx = bbox[0]\n",
    "uly = bbox[1]\n",
    "lrx = bbox[2]\n",
    "lry = bbox[3]\n",
    "\n",
    "print(f'Upper Left X  : {ulx}')\n",
    "print(f'Upper Left Y  : {uly}')\n",
    "print(f'Lower Right X : {lrx}')\n",
    "print(f'Lower Right Y : {lry}')"
   ]
  },
  {
   "cell_type": "markdown",
   "metadata": {},
   "source": [
    "## Store your ROI into a GeoDataFrame"
   ]
  },
  {
   "cell_type": "code",
   "execution_count": 35,
   "metadata": {},
   "outputs": [
    {
     "data": {
      "text/html": [
       "<div>\n",
       "<style scoped>\n",
       "    .dataframe tbody tr th:only-of-type {\n",
       "        vertical-align: middle;\n",
       "    }\n",
       "\n",
       "    .dataframe tbody tr th {\n",
       "        vertical-align: top;\n",
       "    }\n",
       "\n",
       "    .dataframe thead th {\n",
       "        text-align: right;\n",
       "    }\n",
       "</style>\n",
       "<table border=\"1\" class=\"dataframe\">\n",
       "  <thead>\n",
       "    <tr style=\"text-align: right;\">\n",
       "      <th></th>\n",
       "      <th>geometry</th>\n",
       "    </tr>\n",
       "  </thead>\n",
       "  <tbody>\n",
       "    <tr>\n",
       "      <th>0</th>\n",
       "      <td>POLYGON ((627263.700 5596175.100, 637115.000 5...</td>\n",
       "    </tr>\n",
       "  </tbody>\n",
       "</table>\n",
       "</div>"
      ],
      "text/plain": [
       "                                            geometry\n",
       "0  POLYGON ((627263.700 5596175.100, 637115.000 5..."
      ]
     },
     "metadata": {},
     "output_type": "display_data"
    },
    {
     "name": "stdout",
     "output_type": "stream",
     "text": [
      "ROI CRS : EPSG:32631\n"
     ]
    }
   ],
   "source": [
    "# Create a list with the longitude coordinates (x)\n",
    "lon_point_list = [ulx, lrx, lrx, ulx, ulx]\n",
    "\n",
    "# Create a list with the latitude coordinates (y)\n",
    "lat_point_list = [uly, uly, lry, lry, uly]\n",
    "\n",
    "# Create a polygon object from the two list (lon and lat)\n",
    "polygon_geom = Polygon(zip(lon_point_list, lat_point_list))\n",
    "\n",
    "# Create a GeoDataFrame with the polygon object\n",
    "polygon_src = gpd.GeoDataFrame(index=[0], crs=crs_src, geometry=[polygon_geom])       \n",
    "\n",
    "# Reproject the GeoDataFrame to the destination CRS (needed only if you set your coordinates in WGS 84)\n",
    "polygon_dst = polygon_src.to_crs(crs_dst)\n",
    "\n",
    "display(polygon_dst)\n",
    "\n",
    "# Check CRS of your polygon\n",
    "print(f'ROI CRS : {polygon_dst.crs}')"
   ]
  },
  {
   "cell_type": "markdown",
   "metadata": {},
   "source": [
    "## Plot your ROI\n",
    "\n",
    "Is it a nice rectangular polygon?"
   ]
  },
  {
   "cell_type": "code",
   "execution_count": 33,
   "metadata": {},
   "outputs": [
    {
     "data": {
      "image/png": "[encoded data removed]",
      "text/plain": [
       "<Figure size 432x288 with 1 Axes>"
      ]
     },
     "metadata": {
      "needs_background": "light"
     },
     "output_type": "display_data"
    }
   ],
   "source": [
    "fig, ax = plt.subplots(1, 1)\n",
    "\n",
    "polygon_dst.boundary.plot(ax=ax)\n",
    "\n",
    "plt.box(False)\n"
   ]
  },
  {
   "cell_type": "markdown",
   "metadata": {},
   "source": [
    "## Write GeoDataFrame in a shapefile if not exists"
   ]
  },
  {
   "cell_type": "code",
   "execution_count": 27,
   "metadata": {},
   "outputs": [
    {
     "name": "stdout",
     "output_type": "stream",
     "text": [
      "The ROI vector file already exists --> delete it or change the variable \"roi_name\" if you want to create a new one\n"
     ]
    }
   ],
   "source": [
    "if not os.path.isfile(roi_file):\n",
    "    polygon_dst.to_file(filename=roi_file, driver='ESRI Shapefile')\n",
    "    print(f'A new vector file is created : {roi_file}')\n",
    "\n",
    "else:\n",
    "    print('The ROI vector file already exists --> delete it or change the variable \"roi_name\" if you want to create a new one')"
   ]
  }
 ],
 "metadata": {
  "interpreter": {
   "hash": "31f2aee4e71d21fbe5cf8b01ff0e069b9275f58929596ceb00d14d90e3e16cd6"
  },
  "kernelspec": {
   "display_name": "Python 3.6.12 64-bit",
   "name": "python3"
  },
  "language_info": {
   "codemirror_mode": {
    "name": "ipython",
    "version": 3
   },
   "file_extension": ".py",
   "mimetype": "text/x-python",
   "name": "python",
   "nbconvert_exporter": "python",
   "pygments_lexer": "ipython3",
   "version": "3.6.12"
  },
  "orig_nbformat": 2
 },
 "nbformat": 4,
 "nbformat_minor": 2
}
