{
 "cells": [
  {
   "cell_type": "markdown",
   "metadata": {},
   "source": [
    "# Spectral indices"
   ]
  },
  {
   "cell_type": "code",
   "execution_count": 2,
   "metadata": {},
   "outputs": [
    {
     "name": "stdout",
     "output_type": "stream",
     "text": [
      "All libraries successfully imported!\n"
     ]
    }
   ],
   "source": [
    "import glob, os\n",
    "import numpy as np\n",
    "import pandas as pd\n",
    "import rasterio\n",
    "from pathlib import Path\n",
    "\n",
    "print('All libraries successfully imported!')"
   ]
  },
  {
   "cell_type": "markdown",
   "metadata": {},
   "source": [
    "**Set the index name you want to compute !**\n",
    "\n",
    "- NDVI\n",
    "- NDWI\n",
    "- NDSI\n",
    "- BRIGHTNESS\n",
    "- NBR\n",
    "- BAIS2\n",
    "- SWI"
   ]
  },
  {
   "cell_type": "code",
   "execution_count": 12,
   "metadata": {},
   "outputs": [
    {
     "name": "stdout",
     "output_type": "stream",
     "text": [
      "You chose to compute NDVI !\n"
     ]
    }
   ],
   "source": [
    "index_name = 'NDVI'\n",
    "\n",
    "nodata_val = -10000\n",
    "\n",
    "print(f'You chose to compute {index_name} !')"
   ]
  },
  {
   "cell_type": "markdown",
   "metadata": {},
   "source": [
    "## Set directory"
   ]
  },
  {
   "cell_type": "code",
   "execution_count": 9,
   "metadata": {},
   "outputs": [],
   "source": [
    "computer_path = '/export/miro/ndeffense/LBRAT2104/'\n",
    "grp_letter    = 'X'\n",
    "\n",
    "# Directory for all work files\n",
    "work_path = f'{computer_path}GROUP_{grp_letter}/WORK/'\n",
    "\n",
    "reflectance_path = f'{work_path}3_L2A_MASKED/'\n",
    "\n",
    "index_path = f'{work_path}{index_name}/'\n",
    "\n",
    "Path(index_path).mkdir(parents=True, exist_ok=True)"
   ]
  },
  {
   "cell_type": "markdown",
   "metadata": {},
   "source": [
    "> **What do you need to compute the selected spectral indices ?**"
   ]
  },
  {
   "cell_type": "code",
   "execution_count": 10,
   "metadata": {},
   "outputs": [
    {
     "name": "stdout",
     "output_type": "stream",
     "text": [
      "To compute NDVI you need : ['B04', 'B08']\n"
     ]
    }
   ],
   "source": [
    "if index_name == 'NDVI':\n",
    "    bands_needed = ['B04','B08']\n",
    "    list_im_path = [reflectance_path,\n",
    "                    reflectance_path]\n",
    "\n",
    "elif index_name == 'NDWI':\n",
    "    bands_needed = ['B08','B11']\n",
    "    list_im_path = [reflectance_path,\n",
    "                    reflectance_path]\n",
    "\n",
    "elif index_name == 'NDSI':\n",
    "    bands_needed = ['B03','B11']\n",
    "    list_im_path = [reflectance_path,\n",
    "                    reflectance_path]\n",
    "\n",
    "elif index_name == 'BRIGHTNESS':\n",
    "    bands_needed = ['B03','B04','B08','B11']\n",
    "    list_im_path = [reflectance_path,\n",
    "                    reflectance_path,\n",
    "                    reflectance_path,\n",
    "                    reflectance_path]\n",
    "\n",
    "elif index_name == 'NBR':\n",
    "    bands_needed = ['B08','B12']\n",
    "    list_im_path = [reflectance_path,\n",
    "                    reflectance_path]\n",
    "\n",
    "elif index_name == 'BAIS2':\n",
    "    bands_needed = ['B04','B06','B07','B8A','B12']\n",
    "    list_im_path = [reflectance_path,\n",
    "                    reflectance_path,\n",
    "                    reflectance_path,\n",
    "                    reflectance_path]\n",
    "\n",
    "elif index_name == 'SWI':\n",
    "    bands_needed = ['NDVI','NDWI']\n",
    "    list_im_path = [f'{work_path}NDVI/',\n",
    "                    f'{work_path}NDWI/']\n",
    "\n",
    "\n",
    "print(f'To compute {index_name} you need : {bands_needed}')"
   ]
  },
  {
   "cell_type": "markdown",
   "metadata": {},
   "source": [
    "**Check if you have the necessary spectral bands**"
   ]
  },
  {
   "cell_type": "code",
   "execution_count": 11,
   "metadata": {},
   "outputs": [
    {
     "name": "stdout",
     "output_type": "stream",
     "text": [
      "We need band/index B04 to compute NDVI\n",
      "--> 12 images are found \n",
      "\n",
      "We need band/index B08 to compute NDVI\n",
      "--> 12 images are found \n",
      "\n",
      "Check if the number of images found for each band/index is the same !!\n"
     ]
    }
   ],
   "source": [
    "for i,band in enumerate(bands_needed):\n",
    "    \n",
    "    print(f'We need band/index {band} to compute {index_name}')\n",
    "    list_im = glob.glob(f'{list_im_path[i]}*{band}*.tif')\n",
    "    \n",
    "    nb_im = len(list_im)\n",
    "    print(f'--> {nb_im} images are found \\n')\n",
    "\n",
    "print('Check if the number of images found for each band/index is the same !!')\n"
   ]
  },
  {
   "cell_type": "markdown",
   "metadata": {},
   "source": [
    "## Compute spectral index selected for all images"
   ]
  },
  {
   "cell_type": "code",
   "execution_count": 14,
   "metadata": {},
   "outputs": [
    {
     "name": "stdout",
     "output_type": "stream",
     "text": [
      "Date : 20200116\n",
      "Date : 20200212\n",
      "Date : 20200316\n",
      "Date : 20200417\n",
      "Date : 20200520\n",
      "Date : 20200621\n",
      "Date : 20200719\n",
      "Date : 20200813\n",
      "Date : 20200914\n",
      "Date : 20201019\n",
      "Date : 20201118\n",
      "Date : 20201218\n",
      "--> All NDVI are computed !\n"
     ]
    }
   ],
   "source": [
    "for i in range(0,nb_im):\n",
    "    \n",
    "    im = sorted(glob.glob(f'{list_im_path[0]}*{bands_needed[0]}*.tif'))[i]\n",
    "    date = os.path.basename(im)[7:15]\n",
    "    print(f'Date : {date}')\n",
    "\n",
    "    list_im = [im]\n",
    "\n",
    "    for n,band in enumerate(bands_needed[1:]):\n",
    "        im = glob.glob(f'{list_im_path[n+1]}*{date}*{band}*.tif')[0]\n",
    "        list_im.append(im)\n",
    "\n",
    "    # Name the output SI file\n",
    "    index_file = f'{index_path}{os.path.basename(list_im[0])[0:22]}_{index_name}.tif'\n",
    "    \n",
    "    if not os.path.isfile(index_file):\n",
    "        \n",
    "        # Create a list with all reflectance images needed to compute the SI in Numpy array\n",
    "        list_im_arr = []\n",
    "\n",
    "        for im_file in list_im:\n",
    "\n",
    "            # Open band and update metadata\n",
    "            src = rasterio.open(im_file, 'r')\n",
    "            profile = src.profile\n",
    "            profile.update(dtype=rasterio.float64)\n",
    "            im = src.read(1)\n",
    "\n",
    "            # Convert no-data value into Numpy NaN\n",
    "            im = im.astype(np.float)\n",
    "            im[im == nodata_val] = np.nan\n",
    "            \n",
    "            src.close()\n",
    "\n",
    "            list_im_arr.append(im)\n",
    "        \n",
    "        # Compute Spectral Index\n",
    "        \n",
    "        if index_name == 'NDVI':\n",
    "            red = list_im_arr[0] # B04\n",
    "            nir = list_im_arr[1] # B08\n",
    "\n",
    "            index_arr = (nir - red) / (nir + red)\n",
    "\n",
    "        elif index_name == 'NDWI':\n",
    "            nir  = list_im_arr[0] # B08\n",
    "            swir = list_im_arr[1] # B11\n",
    "\n",
    "            index_arr = (nir - swir) / (nir + swir)\n",
    "        \n",
    "        elif index_name == 'NDSI':\n",
    "            green = list_im_arr[0] # B03\n",
    "            swir  = list_im_arr[1] # B11 \n",
    "            \n",
    "            index_arr = (green - swir) / (green + swir)\n",
    "        \n",
    "        elif index_name == 'NBR':\n",
    "            nir  = list_im_arr[0] # B08\n",
    "            swir = list_im_arr[1] # B12\n",
    "\n",
    "            index_arr = (nir - swir) / (nir + swir)\n",
    "        \n",
    "        elif index_name == 'BRIGHTNESS':\n",
    "            green = list_im_arr[0] # B03\n",
    "            red   = list_im_arr[1] # B04\n",
    "            nir   = list_im_arr[2] # B08\n",
    "            swir  = list_im_arr[3] # B11\n",
    "\n",
    "            index_arr = np.sqrt(np.square(green) + np.square(red) + np.square(nir) + np.square(swir))\n",
    "\n",
    "        elif index_name == 'BAIS2':\n",
    "            red         = list_im_arr[0] # B04\n",
    "            redEdge_B6  = list_im_arr[1] # B06\n",
    "            redEdge_B7  = list_im_arr[2] # B07\n",
    "            nir         = list_im_arr[3] # B08\n",
    "            swir        = list_im_arr[4] # B12\n",
    "            \n",
    "            index_arr = (1-sqrt((redEdge_B6*redEdge_B7*nir)/red))*((swir-nir)/(sqrt(swir+nir))+1)\n",
    "        \n",
    "        elif index_name == 'SWI':\n",
    "            ndvi = list_im_arr[0] # NDVI\n",
    "            ndwi = list_im_arr[1] # NDWI\n",
    "\n",
    "            index_arr = np.square(ndvi - ndwi)\n",
    "        \n",
    "        # Write Spectral Index image into GeoTIFF\n",
    "\n",
    "        dst = rasterio.open(index_file, \"w\", **profile)\n",
    "        dst.write(index_arr,1)\n",
    "        dst.close()\n",
    "\n",
    "        print(f'A new {index_name} file is created : {index_file}')\n",
    "    \n",
    "\n",
    "print(f'--> All {index_name} are computed !')\n"
   ]
  }
 ],
 "metadata": {
  "interpreter": {
   "hash": "31f2aee4e71d21fbe5cf8b01ff0e069b9275f58929596ceb00d14d90e3e16cd6"
  },
  "kernelspec": {
   "display_name": "Python 3.6.10 64-bit ('python_3_6': conda)",
   "language": "python",
   "name": "python3"
  },
  "language_info": {
   "codemirror_mode": {
    "name": "ipython",
    "version": 3
   },
   "file_extension": ".py",
   "mimetype": "text/x-python",
   "name": "python",
   "nbconvert_exporter": "python",
   "pygments_lexer": "ipython3",
   "version": "3.6.12"
  },
  "orig_nbformat": 2
 },
 "nbformat": 4,
 "nbformat_minor": 2
}
