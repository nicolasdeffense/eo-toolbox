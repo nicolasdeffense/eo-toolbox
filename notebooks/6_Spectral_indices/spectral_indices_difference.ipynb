{
 "cells": [
  {
   "cell_type": "markdown",
   "metadata": {},
   "source": [
    "# Compute difference between spectral indices"
   ]
  },
  {
   "cell_type": "code",
   "execution_count": 2,
   "metadata": {},
   "outputs": [
    {
     "name": "stdout",
     "output_type": "stream",
     "text": [
      "All libraries successfully imported!\n"
     ]
    }
   ],
   "source": [
    "import glob, os\n",
    "import pandas as pd\n",
    "import rasterio\n",
    "import rasterio.plot\n",
    "from pathlib import Path\n",
    "\n",
    "print('All libraries successfully imported!')"
   ]
  },
  {
   "cell_type": "code",
   "execution_count": 3,
   "metadata": {},
   "outputs": [],
   "source": [
    "index_name = 'NDVI'"
   ]
  },
  {
   "cell_type": "markdown",
   "metadata": {},
   "source": [
    "## Set directory"
   ]
  },
  {
   "cell_type": "code",
   "execution_count": 4,
   "metadata": {},
   "outputs": [],
   "source": [
    "computer_path = '/export/miro/ndeffense/LBRAT2104/'\n",
    "grp_letter    = 'X'\n",
    "\n",
    "# Directory for all work files\n",
    "work_path = f'{computer_path}GROUP_{grp_letter}/WORK/'\n",
    "\n",
    "index_path = f'{work_path}{index_name}/'\n",
    "\n",
    "index_calc_path = f'{work_path}{index_name}_CALC/'\n",
    "\n",
    "Path(index_calc_path).mkdir(parents=True, exist_ok=True)"
   ]
  },
  {
   "cell_type": "code",
   "execution_count": 5,
   "metadata": {},
   "outputs": [
    {
     "ename": "IndexError",
     "evalue": "list index out of range",
     "output_type": "error",
     "traceback": [
      "\u001b[0;31m---------------------------------------------------------------------------\u001b[0m",
      "\u001b[0;31mIndexError\u001b[0m                                Traceback (most recent call last)",
      "\u001b[0;32m<ipython-input-5-8a422e9c361d>\u001b[0m in \u001b[0;36m<module>\u001b[0;34m\u001b[0m\n\u001b[1;32m      4\u001b[0m \u001b[0;34m\u001b[0m\u001b[0m\n\u001b[1;32m      5\u001b[0m \u001b[0;31m# Get the spectral indices associated with the dates you have chosen\u001b[0m\u001b[0;34m\u001b[0m\u001b[0;34m\u001b[0m\u001b[0;34m\u001b[0m\u001b[0m\n\u001b[0;32m----> 6\u001b[0;31m \u001b[0mindex_file_1\u001b[0m \u001b[0;34m=\u001b[0m \u001b[0mglob\u001b[0m\u001b[0;34m.\u001b[0m\u001b[0mglob\u001b[0m\u001b[0;34m(\u001b[0m\u001b[0;34mf'{index_path}*{date_1}*.tif'\u001b[0m\u001b[0;34m)\u001b[0m\u001b[0;34m[\u001b[0m\u001b[0;36m0\u001b[0m\u001b[0;34m]\u001b[0m\u001b[0;34m\u001b[0m\u001b[0;34m\u001b[0m\u001b[0m\n\u001b[0m\u001b[1;32m      7\u001b[0m \u001b[0mindex_file_2\u001b[0m \u001b[0;34m=\u001b[0m \u001b[0mglob\u001b[0m\u001b[0;34m.\u001b[0m\u001b[0mglob\u001b[0m\u001b[0;34m(\u001b[0m\u001b[0;34mf'{index_path}*{date_2}*.tif'\u001b[0m\u001b[0;34m)\u001b[0m\u001b[0;34m[\u001b[0m\u001b[0;36m0\u001b[0m\u001b[0;34m]\u001b[0m\u001b[0;34m\u001b[0m\u001b[0;34m\u001b[0m\u001b[0m\n\u001b[1;32m      8\u001b[0m \u001b[0;34m\u001b[0m\u001b[0m\n",
      "\u001b[0;31mIndexError\u001b[0m: list index out of range"
     ]
    }
   ],
   "source": [
    "# Choose the two dates you want to subtract\n",
    "date_1 = '20170707'\n",
    "date_2 = '20200731'\n",
    "\n",
    "# Get the spectral indices associated with the dates you have chosen\n",
    "index_file_1 = glob.glob(f'{index_path}*{date_1}*.tif')[0]\n",
    "index_file_2 = glob.glob(f'{index_path}*{date_2}*.tif')[0]\n",
    "\n",
    "# Name the output index file\n",
    "index_file_diff = f'{index_calc_path}{index_name}_{date_2}_MINUS_{date_1}.tif'\n",
    "\n",
    "if not os.path.isfile(index_file_diff):\n",
    "\n",
    "    # Open the spectral index at date 1\n",
    "    src = rasterio.open(index_file_1, 'r')\n",
    "    profile = src.profile\n",
    "    date_1_arr = src.read(1)\n",
    "    src.close()\n",
    "\n",
    "    # Open the spectral index at date 2\n",
    "    src = rasterio.open(index_file_2, 'r')\n",
    "    date_2_arr = src.read(1)\n",
    "    src.close()\n",
    "\n",
    "    # Compute the difference between date 2 and date 1\n",
    "    diff_index = date_2_arr - date_1_arr\n",
    "\n",
    "    # Write the output in GeoTIFF\n",
    "    dst = rasterio.open(index_file_diff, \"w\", **profile)\n",
    "    dst.write(diff_index,1)\n",
    "    dst.close()\n",
    "    \n",
    "    print(f'A new {index_file_diff} file is created : {index_file_diff}')\n",
    "    \n",
    "else:\n",
    "    print(f'--> {index_file_diff} - already exists')"
   ]
  }
 ],
 "metadata": {
  "interpreter": {
   "hash": "31f2aee4e71d21fbe5cf8b01ff0e069b9275f58929596ceb00d14d90e3e16cd6"
  },
  "kernelspec": {
   "display_name": "Python 3.6.12 64-bit",
   "language": "python",
   "name": "python3"
  },
  "language_info": {
   "codemirror_mode": {
    "name": "ipython",
    "version": 3
   },
   "file_extension": ".py",
   "mimetype": "text/x-python",
   "name": "python",
   "nbconvert_exporter": "python",
   "pygments_lexer": "ipython3",
   "version": "3.6.12"
  },
  "orig_nbformat": 4
 },
 "nbformat": 4,
 "nbformat_minor": 2
}
