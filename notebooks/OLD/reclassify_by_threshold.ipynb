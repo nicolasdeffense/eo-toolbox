{
 "cells": [
  {
   "cell_type": "code",
   "execution_count": 19,
   "metadata": {},
   "outputs": [],
   "source": [
    "import rasterio\n",
    "import numpy as np\n"
   ]
  },
  {
   "cell_type": "code",
   "execution_count": 26,
   "metadata": {},
   "outputs": [],
   "source": [
    "im_file = '/export/homes/students/dominiquem/WORK/Images_traitees/Calcul/LANDs13092021Cels_Comm_std.tif'\n",
    "\n",
    "output_file = '/export/homes/students/dominiquem/WORK/Images_traitees/Calcul/LANDs13092021Cels_Comm_std_reclassified.tif'"
   ]
  },
  {
   "cell_type": "code",
   "execution_count": 27,
   "metadata": {},
   "outputs": [
    {
     "name": "stdout",
     "output_type": "stream",
     "text": [
      "{'driver': 'GTiff', 'dtype': 'float32', 'nodata': 3.402823466e+38, 'width': 357, 'height': 471, 'count': 1, 'crs': CRS({'init': 'epsg:3812'}), 'transform': Affine(30.0, 0.0, 731646.728,\n",
      "       0.0, -30.0, 653742.4192), 'tiled': False, 'interleave': 'band'}\n",
      "[[-0.28975317 -0.4756446  -0.65117216 ... -1.4817356  -1.3598975\n",
      "  -1.235026  ]\n",
      " [-0.3276861  -0.50930065 -0.6949043  ... -1.3101704  -1.2261006\n",
      "  -1.141694  ]\n",
      " [-0.42597902 -0.6101871  -0.83006746 ... -1.2344043  -1.1514262\n",
      "  -1.0578007 ]\n",
      " ...\n",
      " [-2.3222268  -2.3893943  -2.4125006  ...  1.0945209   1.0331448\n",
      "   1.1131548 ]\n",
      " [-2.2494824  -2.3207717  -2.357857   ...  0.93233806  0.9330984\n",
      "   1.1001275 ]\n",
      " [-2.1300728  -2.1825638  -2.2235465  ...  0.98009354  1.032947\n",
      "   1.2599059 ]]\n"
     ]
    },
    {
     "ename": "CPLE_OpenFailedError",
     "evalue": "Attempt to create new tiff file '/export/homes/students/dominiquem/WORK/Images_traitees/Calcul/LANDs13092021Cels_Comm_std_reclassified.tif' failed: Permission denied",
     "output_type": "error",
     "traceback": [
      "\u001b[0;31m---------------------------------------------------------------------------\u001b[0m",
      "\u001b[0;31mCPLE_OpenFailedError\u001b[0m                      Traceback (most recent call last)",
      "\u001b[0;32m<ipython-input-27-e5867816b694>\u001b[0m in \u001b[0;36m<module>\u001b[0;34m\u001b[0m\n\u001b[1;32m     33\u001b[0m \u001b[0mim_arr\u001b[0m\u001b[0;34m\u001b[0m\u001b[0;34m\u001b[0m\u001b[0m\n\u001b[1;32m     34\u001b[0m \u001b[0;34m\u001b[0m\u001b[0m\n\u001b[0;32m---> 35\u001b[0;31m \u001b[0mdst\u001b[0m \u001b[0;34m=\u001b[0m \u001b[0mrasterio\u001b[0m\u001b[0;34m.\u001b[0m\u001b[0mopen\u001b[0m\u001b[0;34m(\u001b[0m\u001b[0moutput_file\u001b[0m\u001b[0;34m,\u001b[0m \u001b[0;34m\"w\"\u001b[0m\u001b[0;34m,\u001b[0m \u001b[0;34m**\u001b[0m\u001b[0mprofile\u001b[0m\u001b[0;34m)\u001b[0m\u001b[0;34m\u001b[0m\u001b[0;34m\u001b[0m\u001b[0m\n\u001b[0m\u001b[1;32m     36\u001b[0m \u001b[0mdst\u001b[0m\u001b[0;34m.\u001b[0m\u001b[0mwrite\u001b[0m\u001b[0;34m(\u001b[0m\u001b[0mim_arr\u001b[0m\u001b[0;34m)\u001b[0m\u001b[0;34m\u001b[0m\u001b[0;34m\u001b[0m\u001b[0m\n",
      "\u001b[0;32m/usr/lib64/python3.6/site-packages/rasterio/env.py\u001b[0m in \u001b[0;36mwrapper\u001b[0;34m(*args, **kwds)\u001b[0m\n\u001b[1;32m    400\u001b[0m \u001b[0;34m\u001b[0m\u001b[0m\n\u001b[1;32m    401\u001b[0m         \u001b[0;32mwith\u001b[0m \u001b[0menv_ctor\u001b[0m\u001b[0;34m(\u001b[0m\u001b[0msession\u001b[0m\u001b[0;34m=\u001b[0m\u001b[0msession\u001b[0m\u001b[0;34m)\u001b[0m\u001b[0;34m:\u001b[0m\u001b[0;34m\u001b[0m\u001b[0;34m\u001b[0m\u001b[0m\n\u001b[0;32m--> 402\u001b[0;31m             \u001b[0;32mreturn\u001b[0m \u001b[0mf\u001b[0m\u001b[0;34m(\u001b[0m\u001b[0;34m*\u001b[0m\u001b[0margs\u001b[0m\u001b[0;34m,\u001b[0m \u001b[0;34m**\u001b[0m\u001b[0mkwds\u001b[0m\u001b[0;34m)\u001b[0m\u001b[0;34m\u001b[0m\u001b[0;34m\u001b[0m\u001b[0m\n\u001b[0m\u001b[1;32m    403\u001b[0m \u001b[0;34m\u001b[0m\u001b[0m\n\u001b[1;32m    404\u001b[0m     \u001b[0;32mreturn\u001b[0m \u001b[0mwrapper\u001b[0m\u001b[0;34m\u001b[0m\u001b[0;34m\u001b[0m\u001b[0m\n",
      "\u001b[0;32m/usr/lib64/python3.6/site-packages/rasterio/__init__.py\u001b[0m in \u001b[0;36mopen\u001b[0;34m(fp, mode, driver, width, height, count, crs, transform, dtype, nodata, sharing, **kwargs)\u001b[0m\n\u001b[1;32m    224\u001b[0m                                               \u001b[0mtransform\u001b[0m\u001b[0;34m=\u001b[0m\u001b[0mtransform\u001b[0m\u001b[0;34m,\u001b[0m\u001b[0;34m\u001b[0m\u001b[0;34m\u001b[0m\u001b[0m\n\u001b[1;32m    225\u001b[0m                                               \u001b[0mdtype\u001b[0m\u001b[0;34m=\u001b[0m\u001b[0mdtype\u001b[0m\u001b[0;34m,\u001b[0m \u001b[0mnodata\u001b[0m\u001b[0;34m=\u001b[0m\u001b[0mnodata\u001b[0m\u001b[0;34m,\u001b[0m\u001b[0;34m\u001b[0m\u001b[0;34m\u001b[0m\u001b[0m\n\u001b[0;32m--> 226\u001b[0;31m                                               **kwargs)\n\u001b[0m\u001b[1;32m    227\u001b[0m         \u001b[0;32melse\u001b[0m\u001b[0;34m:\u001b[0m\u001b[0;34m\u001b[0m\u001b[0;34m\u001b[0m\u001b[0m\n\u001b[1;32m    228\u001b[0m             raise ValueError(\n",
      "\u001b[0;32mrasterio/_io.pyx\u001b[0m in \u001b[0;36mrasterio._io.DatasetWriterBase.__init__\u001b[0;34m()\u001b[0m\n",
      "\u001b[0;32mrasterio/_err.pyx\u001b[0m in \u001b[0;36mrasterio._err.exc_wrap_pointer\u001b[0;34m()\u001b[0m\n",
      "\u001b[0;31mCPLE_OpenFailedError\u001b[0m: Attempt to create new tiff file '/export/homes/students/dominiquem/WORK/Images_traitees/Calcul/LANDs13092021Cels_Comm_std_reclassified.tif' failed: Permission denied"
     ]
    }
   ],
   "source": [
    "src = rasterio.open(im_file, 'r')\n",
    "\n",
    "im_arr = src.read(1)\n",
    "\n",
    "profile = src.profile\n",
    "\n",
    "print(profile)\n",
    "\n",
    "print(im_arr)\n",
    "\n",
    "#im_arr[im_arr < -2] = -2\n",
    "\n",
    "im_arr[np.where(-2 > im_arr) ] = -2\n",
    "im_arr[np.where((-2 < im_arr) & (im_arr <= -1)) ] = -1\n",
    "im_arr[np.where((-1 < im_arr) & (im_arr <= 0)) ] = 0\n",
    "im_arr[np.where((0 < im_arr) & (im_arr <= 1)) ] = 1\n",
    "im_arr[np.where((1 < im_arr) & (im_arr <= 2)) ] = 2\n",
    "im_arr[np.where(2 < im_arr) ] = 3\n",
    "\n",
    "\n",
    "'''\n",
    "im_arr[(im_arr >= -2) and (im_arr < -1)] = -1\n",
    "\n",
    "im_arr[(im_arr >= -1) and (im_arr < 0)] = 0\n",
    "\n",
    "im_arr[(im_arr >= 0) and (im_arr < 1)] = 1\n",
    "\n",
    "im_arr[(im_arr >= 1) and (im_arr < 2)] = 2\n",
    "\n",
    "im_arr[im_arr > 2] = 3\n",
    "'''\n",
    "\n",
    "im_arr\n",
    "\n",
    "dst = rasterio.open(output_file, \"w\", **profile)\n",
    "dst.write(im_arr)\n"
   ]
  }
 ],
 "metadata": {
  "interpreter": {
   "hash": "31f2aee4e71d21fbe5cf8b01ff0e069b9275f58929596ceb00d14d90e3e16cd6"
  },
  "kernelspec": {
   "display_name": "Python 3.6.12 64-bit",
   "language": "python",
   "name": "python3"
  },
  "language_info": {
   "codemirror_mode": {
    "name": "ipython",
    "version": 3
   },
   "file_extension": ".py",
   "mimetype": "text/x-python",
   "name": "python",
   "nbconvert_exporter": "python",
   "pygments_lexer": "ipython3",
   "version": "3.6.12"
  },
  "orig_nbformat": 4
 },
 "nbformat": 4,
 "nbformat_minor": 2
}
