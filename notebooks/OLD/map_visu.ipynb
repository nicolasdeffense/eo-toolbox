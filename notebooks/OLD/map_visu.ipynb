{
 "cells": [
  {
   "cell_type": "code",
   "execution_count": null,
   "metadata": {},
   "outputs": [],
   "source": [
    "import numpy as np\n",
    "import pandas as pd\n",
    "\n",
    "import matplotlib\n",
    "import matplotlib.pyplot as plt\n",
    "\n",
    "import rasterio\n",
    "import rasterio.plot\n",
    "from rasterio.plot import reshape_as_raster, reshape_as_image\n"
   ]
  },
  {
   "cell_type": "code",
   "execution_count": null,
   "metadata": {},
   "outputs": [],
   "source": [
    "final_classes = list(np.unique(reclass_prediction))\n",
    "\n",
    "print(final_classes)"
   ]
  },
  {
   "cell_type": "code",
   "execution_count": null,
   "metadata": {},
   "outputs": [],
   "source": [
    "color_map_path = f'{computer_path}data/COLOR_MAP/'\n",
    "\n",
    "filename_xlsx = f'{color_map_path}color_map_{field_reclassif_name}.xlsx'\n",
    "\n",
    "df = pd.read_excel(filename_xlsx, usecols=[0,1,2,3,4,5]).sort_values(by=[field_reclassif_code], ascending=True)\n",
    "\n",
    "df = df[df[field_reclassif_code].isin(final_classes)].reset_index()\n",
    "\n",
    "\n",
    "col_dict = {}\n",
    "for index, row in df.iterrows():\n",
    "\n",
    "    code = row[field_reclassif_code]\n",
    "\n",
    "    r = row['R']\n",
    "    g = row['G']\n",
    "    b = row['B']\n",
    "    t = row['T']\n",
    "\n",
    "    col_dict[code] = (r,g,b,t)\n",
    "\n",
    "print(col_dict)\n",
    "\n",
    "# Put 0 - 255 as float 0 - 1\n",
    "for k in col_dict:\n",
    "    v = col_dict[k]\n",
    "    _v = [_v / 255.0 for _v in v]\n",
    "    col_dict[k] = _v\n",
    "\n",
    "\n",
    "index_colors = [col_dict[key] if key in col_dict else \n",
    "                (255, 255, 255, 0) for key in final_classes]\n",
    "\n",
    "print(len(col_dict))\n",
    "\n",
    "\n",
    "cmap = plt.matplotlib.colors.ListedColormap(index_colors,\n",
    "                                            'Classification',\n",
    "                                            193)\n",
    "\n"
   ]
  },
  {
   "cell_type": "code",
   "execution_count": null,
   "metadata": {},
   "outputs": [],
   "source": [
    "date = '20200417'\n",
    "clipped_path   = f'{work_path}2_L2A_CLIPPED/'\n",
    "im_rgb = glob.glob(f'{clipped_path}*{date}*TCI*.tif')[0]\n",
    "src_rgb  = rasterio.open(im_rgb, \"r\")\n",
    "\n",
    "\n",
    "red_arr   = src_rgb.read(1)\n",
    "green_arr = src_rgb.read(2)\n",
    "blue_arr  = src_rgb.read(3)\n",
    "\n",
    "\n",
    "rgb_arr = np.dstack([red_arr, blue_arr, green_arr ])\n",
    "\n",
    "# Returns the array in a raster order by swapping the axes order from (rows, columns, bands) to (bands, rows, columns)\n",
    "rgb_arr = reshape_as_raster(rgb_arr)"
   ]
  },
  {
   "cell_type": "code",
   "execution_count": null,
   "metadata": {},
   "outputs": [],
   "source": [
    "fig, (ax1, ax2) = plt.subplots(2,1,figsize=(20,20))\n",
    "\n",
    "rasterio.plot.show(rgb_arr, transform=src_rgb.transform, ax=ax1)\n",
    "\n",
    "rasterio.plot.show(reclass_prediction, cmap='Paired', transform=src_rgb.transform, ax=ax2)"
   ]
  },
  {
   "cell_type": "code",
   "execution_count": null,
   "metadata": {},
   "outputs": [],
   "source": [
    "from rasterio.plot import reshape_as_raster, reshape_as_image\n",
    "\n",
    "\n",
    "date = '20200621'\n",
    "\n",
    "im_rgb = glob.glob(f'{clipped_path}*{date}*TCI*.tif')[0]\n",
    "\n",
    "\n",
    "src_rgb  = rasterio.open(im_rgb, \"r\")\n",
    "\n",
    "src_scl  = rasterio.open(im_rgb, \"r\")\n",
    "\n",
    "\n",
    "\n",
    "red_arr   = src_rgb.read(1)\n",
    "green_arr = src_rgb.read(2)\n",
    "blue_arr  = src_rgb.read(3)\n",
    "\n",
    "rgb_arr = np.dstack([red_arr, blue_arr, green_arr ])\n",
    "\n",
    "rgb_arr = reshape_as_raster(rgb_arr)\n",
    "\n",
    "print(rgb_arr.shape)\n",
    "\n",
    "\n",
    "fig, ax = plt.subplots(1, 1, figsize=(20,10))\n",
    "\n",
    "rasterio.plot.show(rgb_arr, transform=src_rgb.transform, ax=ax)"
   ]
  }
 ],
 "metadata": {
  "language_info": {
   "name": "python"
  },
  "orig_nbformat": 4
 },
 "nbformat": 4,
 "nbformat_minor": 2
}
