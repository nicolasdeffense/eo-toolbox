{
 "metadata": {
  "language_info": {
   "codemirror_mode": {
    "name": "ipython",
    "version": 3
   },
   "file_extension": ".py",
   "mimetype": "text/x-python",
   "name": "python",
   "nbconvert_exporter": "python",
   "pygments_lexer": "ipython3",
   "version": "3.6.10"
  },
  "orig_nbformat": 2,
  "kernelspec": {
   "name": "python3610jvsc74a57bd0d44a822591a3717b24d3edf137db462f6168d56f0b857c252a9153258824edbd",
   "display_name": "Python 3.6.10 64-bit ('python_3_6': conda)"
  }
 },
 "nbformat": 4,
 "nbformat_minor": 2,
 "cells": [
  {
   "source": [
    "# Compute Spectral indices\n",
    "\n",
    "## NDVI - Normalized Difference Vegetation Index\n",
    "\n",
    "NDVI is used to outline the presence of vegetation. It is used to indicate relative density, or the amount, of the green vegetation present in the image. This index uses reflectance from a red band around 0.66 μm and a near-Infrared band around 0.86 μm. The red band is found in the absorption region of the chlorophyll, while the near-IR band is used in high reflectance plateau of the vegetation canopies. These two bands sense different depths over the vegetation canopies.\n",
    "\n",
    "$$ NDVI = \\frac{NIR - RED}{NIR + RED} = \\frac{B08 - B04}{B08 + B04}$$\n",
    "\n",
    "## NDWI - Normalized Difference Water Index\n",
    "\n",
    "NDWI concept as formulated by Gao combining reflectance of NIR and SWIR has a wide range of application. It can be used for exploring water content at single leaf level as well as canopy/satellite level. The range of application of NDWI spreads from agricultural monitoring for crop irrigation and pasture management to forest monitoring for assessing fire risk and live fuel moisture particularly relevant in the context of climate change.\n",
    "\n",
    "$$ NDWI = \\frac{NIR - SWIR}{NIR + SWIR} = \\frac{B08 - B11}{B08 + B11}$$\n",
    "\n",
    "## NDSI - Normalized Difference Snow Index\n",
    "\n",
    "NDSI is used to delineate the presence of snow/ice. It is a standardized ratio of the difference in the reflectance in the bands that take advantage of unique signature and the spectral difference to indicate snow from the surrounding features and even clouds.\n",
    "\n",
    "$$ NDSI = \\frac{GREEN - SWIR}{GREEN + SWIR} = \\frac{B03 - B11}{B03 + B11}$$\n",
    "\n",
    "## NBR - Normalized Burn Ratio\n",
    "\n",
    "To detect burned areas, the NBR index is the most appropriate choice. Using bands 8 and 12 it highlights burnt areas in large fire zones greater than 500 acres. To observe burn severity, you may subtract the post-fire NBR image from the pre-fire NBR image.\n",
    "\n",
    "The NIR and SWIR parts of the electromagnetic spectrum are a powerful combination of bands to use for this index given vegetation reflects strongly in the NIR region of the electromagnetic spectrum and weekly in the SWIR. Alternatively, it has been shown that a fire scar which contains scarred woody vegetation and earth will reflect more strongly in the SWIR part of the electromagnetic spectrum and beyond (see figure below).\n",
    "\n",
    "$$ NBR = \\frac{NIR - SWIR}{NIR + SWIR} = \\frac{B08 - B12}{B08 + B12}$$\n",
    "\n",
    "\n",
    "For a given area, NBR is calculated from an image just prior to the burn and a second NBR is calculated for an image immediately following the burn. Burn extent and severity is judged by taking the difference between these two index layers:\n",
    "\n",
    "\n",
    "$$ dNBR = NBR_{prefire} - NBR_{postfire} $$\n",
    "\n",
    "## BAIS2 - Burned Area Index for Sentinel-2\n",
    "\n",
    "BAIS2 adapts the traditional BAI for Sentinel-2 bands, taking advantage of the wider spectrum of Visible, Red-Edge, NIR and SWIR bands.\n",
    "\n",
    "Values description: The range of values for the BAIS2 is -1 to 1 for burn scars, and 1 - 6 for active fires. Different fire intensities may result in different thresholds, the current values were calibrates, as per original author, on mostly Mediterranen regions.\n",
    "\n",
    "$$ BAIS2 = \\left(1-\\sqrt{\\frac{B06*B07*B8A}{B4}}\\right) *\\left(\\frac{B12-B8A}{\\sqrt{B12+B8A}}+1\\right)$$\n",
    "\n",
    "## BRIGHTNESS\n",
    "\n",
    "Brightness provide complementary information improving the discrimination between crop and no-crop areas.\n",
    "\n",
    "$$ Brightness = \\sqrt{GREEN^{2}+RED^{2}+NIR^{2}+SWIR^{2}} = \\sqrt{B03^{2}+B04^{2}+B08^{2}+B11^{2}}$$\n",
    "\n",
    "\n",
    "Source : https://eos.com/make-an-analysis/index-stack/"
   ],
   "cell_type": "markdown",
   "metadata": {}
  },
  {
   "cell_type": "code",
   "execution_count": 1,
   "metadata": {},
   "outputs": [
    {
     "output_type": "stream",
     "name": "stdout",
     "text": [
      "Rasterio : 1.1.0\n"
     ]
    }
   ],
   "source": [
    "import glob, os\n",
    "import numpy as np\n",
    "import pandas as pd\n",
    "import rasterio\n",
    "from rasterio import plot\n",
    "from rasterio.plot import show\n",
    "from pathlib import Path\n",
    "\n",
    "print(f'Rasterio : {rasterio.__version__}')"
   ]
  },
  {
   "source": [
    "## Choose the spectral index to compute "
   ],
   "cell_type": "markdown",
   "metadata": {}
  },
  {
   "cell_type": "code",
   "execution_count": 2,
   "metadata": {},
   "outputs": [
    {
     "output_type": "stream",
     "name": "stdout",
     "text": [
      "You chose to compute NDVI !\n"
     ]
    }
   ],
   "source": [
    "index_name   = 'NDVI'\n",
    "\n",
    "if index_name == 'NDVI':\n",
    "    bands_needed = [4,8]\n",
    "\n",
    "elif index_name == 'NDWI':\n",
    "    bands_needed = [8,11]\n",
    "\n",
    "elif index_name == 'NDSI':\n",
    "    bands_needed = [3,11]\n",
    "\n",
    "elif index_name == 'BRIGHTNESS':\n",
    "    bands_needed = [3,4,8,11]\n",
    "\n",
    "elif index_name == 'NBR':\n",
    "    bands_needed = [8,12]\n",
    "\n",
    "elif index_name == 'BAIS2':\n",
    "    bands_needed = [4,6,7,8,12]\n",
    "\n",
    "print(f'You chose to compute {index_name} !')"
   ]
  },
  {
   "source": [
    "## Set paths for input and output directories"
   ],
   "cell_type": "markdown",
   "metadata": {}
  },
  {
   "cell_type": "code",
   "execution_count": 3,
   "metadata": {},
   "outputs": [
    {
     "output_type": "stream",
     "name": "stdout",
     "text": [
      "General work path is set to   : /Volumes/nbdid-sst-lbrat2104/GROUP_K/WORK/\nSpectral index path is set to : /Volumes/nbdid-sst-lbrat2104/GROUP_K/WORK/NDVI/\n"
     ]
    }
   ],
   "source": [
    "#computer_path = 'X:/'\n",
    "computer_path = '/Volumes/nbdid-sst-lbrat2104/'\n",
    "grp_letter    = 'K'\n",
    "\n",
    "# Directory for all work files\n",
    "work_path = f'{computer_path}GROUP_{grp_letter}/WORK/'\n",
    "\n",
    "# ----- #\n",
    "# INPUT #\n",
    "# ----- #\n",
    " \n",
    "im_path = f'{work_path}3_L2A_MASKED/'\n",
    "\n",
    "# ------ #\n",
    "# OUTPUT #\n",
    "# ------ #\n",
    "\n",
    "index_path      = f'{work_path}{index_name}/'\n",
    "index_calc_path = f'{work_path}{index_name}_CALC/'\n",
    "\n",
    "\n",
    "Path(index_path).mkdir(parents=True, exist_ok=True)\n",
    "Path(index_calc_path).mkdir(parents=True, exist_ok=True)\n",
    "\n",
    "\n",
    "print(f'General work path is set to   : {work_path}')\n",
    "print(f'Spectral index path is set to : {index_path}')"
   ]
  },
  {
   "source": [
    "## Check if you have the necessary spectral bands"
   ],
   "cell_type": "markdown",
   "metadata": {}
  },
  {
   "cell_type": "code",
   "execution_count": 4,
   "metadata": {},
   "outputs": [
    {
     "output_type": "stream",
     "name": "stdout",
     "text": [
      "We need band 4 to compute NDVI\n--> 9 images are found \n\nWe need band 8 to compute NDVI\n--> 9 images are found \n\nCheck if the number of images found for each band is the same !!\n"
     ]
    }
   ],
   "source": [
    "\n",
    "for band_nb in bands_needed:\n",
    "    \n",
    "    print(f'We need band {band_nb} to compute {index_name}')\n",
    "    list_im = glob.glob(f'{im_path}*_B*{band_nb}*.tif')\n",
    "    \n",
    "    nb_im = len(list_im)\n",
    "    print(f'--> {nb_im} images are found \\n')\n",
    "\n",
    "print('Check if the number of images found for each band is the same !!')\n"
   ]
  },
  {
   "source": [
    "## Compute Spectral Indices"
   ],
   "cell_type": "markdown",
   "metadata": {}
  },
  {
   "cell_type": "code",
   "execution_count": 5,
   "metadata": {
    "tags": []
   },
   "outputs": [
    {
     "output_type": "stream",
     "name": "stdout",
     "text": [
      "A new NDVI file is created : /Volumes/nbdid-sst-lbrat2104/GROUP_K/WORK/NDVI/T36KXU_20180101T074231_NDVI.tif\n",
      "A new NDVI file is created : /Volumes/nbdid-sst-lbrat2104/GROUP_K/WORK/NDVI/T36KXU_20180511T072621_NDVI.tif\n",
      "A new NDVI file is created : /Volumes/nbdid-sst-lbrat2104/GROUP_K/WORK/NDVI/T36KXU_20180610T072621_NDVI.tif\n",
      "A new NDVI file is created : /Volumes/nbdid-sst-lbrat2104/GROUP_K/WORK/NDVI/T36KXU_20180630T072621_NDVI.tif\n",
      "A new NDVI file is created : /Volumes/nbdid-sst-lbrat2104/GROUP_K/WORK/NDVI/T36KXU_20180730T072621_NDVI.tif\n",
      "A new NDVI file is created : /Volumes/nbdid-sst-lbrat2104/GROUP_K/WORK/NDVI/T36KXU_20180824T072609_NDVI.tif\n",
      "A new NDVI file is created : /Volumes/nbdid-sst-lbrat2104/GROUP_K/WORK/NDVI/T36KXU_20180928T072651_NDVI.tif\n",
      "A new NDVI file is created : /Volumes/nbdid-sst-lbrat2104/GROUP_K/WORK/NDVI/T36KXU_20181207T073301_NDVI.tif\n",
      "A new NDVI file is created : /Volumes/nbdid-sst-lbrat2104/GROUP_K/WORK/NDVI/T36KXU_20191227T073229_NDVI.tif\n"
     ]
    }
   ],
   "source": [
    "nodata_val = -10000\n",
    "\n",
    "# Compute the SI for all dates\n",
    "for i in range(0,nb_im):\n",
    "    \n",
    "    # Create a list with all reflectance images paths needed to compute the SI\n",
    "    list_im = []\n",
    "\n",
    "    for band in bands_needed:\n",
    "        im = sorted(glob.glob(f'{im_path}*_B*{band}*.tif'))[i]\n",
    "        list_im.append(im)\n",
    "    \n",
    "    # Name the output SI file\n",
    "    index_file = f'{index_path}{os.path.basename(list_im[0])[0:22]}_{index_name}.tif'\n",
    "\n",
    "    if not os.path.isfile(index_file):\n",
    "        \n",
    "        # Create a list with all reflectance images needed to compute the SI in Numpy array\n",
    "        list_im_arr = []\n",
    "\n",
    "        for im_file in list_im:\n",
    "\n",
    "            # Open band and update metadata\n",
    "            src = rasterio.open(im_file, 'r')\n",
    "            profile = src.profile\n",
    "            profile.update(dtype=rasterio.float64)\n",
    "            im = src.read(1)\n",
    "\n",
    "            # Convert no-data value into Numpy NaN\n",
    "            im = im.astype(np.float)\n",
    "            im[im == nodata_val] = np.nan\n",
    "            \n",
    "            src.close()\n",
    "\n",
    "            list_im_arr.append(im)\n",
    "        \n",
    "        # Compute Spectral Index\n",
    "        \n",
    "        if index_name == 'NDVI':\n",
    "            red = list_im_arr[0] # B04\n",
    "            nir = list_im_arr[1] # B08\n",
    "\n",
    "            index_arr = (nir - red) / (nir + red)\n",
    "\n",
    "        elif index_name == 'NDWI':\n",
    "            nir  = list_im_arr[0] # B08\n",
    "            swir = list_im_arr[1] # B11\n",
    "\n",
    "            index_arr = (nir - swir) / (nir + swir)\n",
    "        \n",
    "        elif index_name == 'NDSI':\n",
    "            green = list_im_arr[0] # B03\n",
    "            swir  = list_im_arr[1] # B11 \n",
    "            \n",
    "            index_arr = (green - swir) / (green + swir)\n",
    "        \n",
    "        elif index_name == 'NBR':\n",
    "            nir  = list_im_arr[0] # B08\n",
    "            swir = list_im_arr[1] # B12\n",
    "\n",
    "            index_arr = (nir - swir) / (nir + swir)\n",
    "        \n",
    "        elif index_name == 'BRIGHTNESS':\n",
    "            green = list_im_arr[0] # B03\n",
    "            red   = list_im_arr[1] # B04\n",
    "            nir   = list_im_arr[2] # B08\n",
    "            swir  = list_im_arr[3] # B11\n",
    "\n",
    "            index_arr = np.sqrt(np.square(green) + np.square(red) + np.square(nir) + np.square(swir))\n",
    "\n",
    "        elif index_name == 'BAIS2':\n",
    "            red         = list_im_arr[0] # B04\n",
    "            redEdge_B6  = list_im_arr[1] # B06\n",
    "            redEdge_B7  = list_im_arr[2] # B07\n",
    "            nir         = list_im_arr[3] # B08\n",
    "            swir        = list_im_arr[4] # B12\n",
    "            \n",
    "            index_arr = (1-sqrt((redEdge_B6*redEdge_B7*nir)/red))*((swir-nir)/(sqrt(swir+nir))+1)\n",
    "        \n",
    "        # Write Spectral Index image into GeoTIFF\n",
    "\n",
    "        dst = rasterio.open(index_file, \"w\", **profile)\n",
    "        dst.write(index_arr,1)\n",
    "        dst.close()\n",
    "\n",
    "        print(f'A new {index_name} file is created : {index_file}')\n",
    "    \n",
    "    else:\n",
    "        print(f'--> {index_file} - already exists')\n",
    "        print('-------------------------------------------')\n"
   ]
  },
  {
   "source": [
    "## Compute difference between 2 spectral indices"
   ],
   "cell_type": "markdown",
   "metadata": {}
  },
  {
   "cell_type": "code",
   "execution_count": 6,
   "metadata": {},
   "outputs": [
    {
     "output_type": "stream",
     "name": "stdout",
     "text": [
      "--> /Volumes/nbdid-sst-lbrat2104/GROUP_X/WORK/NDVI_CALC/NDVI_20200813_MINUS_20200116.tif - already exists\n"
     ]
    }
   ],
   "source": [
    "# Choose the two dates you want to subtract\n",
    "date_1 = '20200116'\n",
    "date_2 = '20200813'\n",
    "\n",
    "# Get the spectral indices associated with the dates you have chosen\n",
    "index_file_1 = glob.glob(f'{index_path}*{date_1}*.tif')[0]\n",
    "index_file_2 = glob.glob(f'{index_path}*{date_2}*.tif')[0]\n",
    "\n",
    "# Name the output index file\n",
    "index_file_diff = f'{index_calc_path}{index_name}_{date_2}_MINUS_{date_1}.tif'\n",
    "\n",
    "if not os.path.isfile(index_file_diff):\n",
    "\n",
    "    # Open the spectral index at date 1\n",
    "    src = rasterio.open(index_file_1, 'r')\n",
    "    profile = src.profile\n",
    "    date_1_arr = src.read(1)\n",
    "    src.close()\n",
    "\n",
    "    # Open the spectral index at date 2\n",
    "    src = rasterio.open(index_file_2, 'r')\n",
    "    date_2_arr = src.read(1)\n",
    "    src.close()\n",
    "\n",
    "    # Compute the difference between date 2 and date 1\n",
    "    diff_index = date_2_arr - date_1_arr\n",
    "\n",
    "    # Write the output in GeoTIFF\n",
    "    dst = rasterio.open(index_file_diff, \"w\", **profile)\n",
    "    dst.write(diff_index,1)\n",
    "    dst.close()\n",
    "    \n",
    "    print(f'A new {index_file_diff} file is created : {index_file_diff}')\n",
    "    \n",
    "else:\n",
    "    print(f'--> {index_file_diff} - already exists')\n"
   ]
  }
 ]
}