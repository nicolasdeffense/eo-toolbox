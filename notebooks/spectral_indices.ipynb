{
 "metadata": {
  "language_info": {
   "codemirror_mode": {
    "name": "ipython",
    "version": 3
   },
   "file_extension": ".py",
   "mimetype": "text/x-python",
   "name": "python",
   "nbconvert_exporter": "python",
   "pygments_lexer": "ipython3",
   "version": "3.6.10"
  },
  "orig_nbformat": 2,
  "kernelspec": {
   "name": "python3610jvsc74a57bd0d44a822591a3717b24d3edf137db462f6168d56f0b857c252a9153258824edbd",
   "display_name": "Python 3.6.10 64-bit ('python_3_6': conda)"
  }
 },
 "nbformat": 4,
 "nbformat_minor": 2,
 "cells": [
  {
   "source": [
    "# Compute Spectral indices\n",
    "\n"
   ],
   "cell_type": "markdown",
   "metadata": {}
  },
  {
   "cell_type": "code",
   "execution_count": 1,
   "metadata": {},
   "outputs": [],
   "source": [
    "import glob, os\n",
    "import numpy as np\n",
    "import pandas as pd\n",
    "import rasterio\n",
    "from rasterio import plot\n",
    "from rasterio.plot import show\n",
    "from pathlib import Path"
   ]
  },
  {
   "source": [
    "## Choose which spectral index you want to compute\n",
    "\n",
    "### NDVI - Normalized Difference Vegetation Index\n",
    "\n",
    "NDVI is used to outline the presence of vegetation. It is used to indicate relative density, or the amount, of the green vegetation present in the image. This index uses reflectance from a red band around 0.66 μm and a near-Infrared band around 0.86 μm. The red band is found in the absorption region of the chlorophyll, while the near-IR band is used in high reflectance plateau of the vegetation canopies. These two bands sense different depths over the vegetation canopies.\n",
    "\n",
    "$$ NDVI = \\frac{NIR - RED}{NIR + RED} = \\frac{B08 - B04}{B08 + B04}$$\n",
    "\n",
    "### NDWI - Normalized Difference Water Index\n",
    "\n",
    "NDWI is used to differentiate water from the dry land or rather most suitable for water body mapping. Water bodies have a low radiation and strong absorbability in the visible infrared wavelengths range. NDWI uses near Infra-red and green bands of remote sensing images based on the occurrence. It can boost the water information efficiently in most of the cases. It’s subtle in land built-up and often ends up in overestimated water bodies.\n",
    "\n",
    "$$ NDWI = \\frac{NIR - SWIR}{NIR + SWIR} = \\frac{B08 - B11}{B08 + B11}$$\n",
    "\n",
    "### NDSI - Normalized Difference Snow Index\n",
    "\n",
    "NDSI is used to delineate the presence of snow/ice. It is a standardized ratio of the difference in the reflectance in the bands that take advantage of unique signature and the spectral difference to indicate snow from the surrounding features and even clouds.\n",
    "\n",
    "$$ NDSI = \\frac{GREEN - SWIR}{GREEN + SWIR} = \\frac{B03 - B11}{B03 + B11}$$\n",
    "\n",
    "### BRIGHTNESS\n",
    "\n",
    "Brightness provide complementary information improving the discrimination between crop and no-crop areas.\n",
    "\n",
    "$$ Brightness = \\sqrt{GREEN^{2}+RED^{2}+NIR^{2}+SWIR^{2}} = \\sqrt{B03^{2}+B04^{2}+B08^{2}+B11^{2}}$$\n",
    "\n",
    "\n",
    "Source : https://eos.com/make-an-analysis/index-stack/"
   ],
   "cell_type": "markdown",
   "metadata": {}
  },
  {
   "cell_type": "code",
   "execution_count": 2,
   "metadata": {},
   "outputs": [
    {
     "output_type": "stream",
     "name": "stdout",
     "text": [
      "You chose to compute NDWI !\n"
     ]
    }
   ],
   "source": [
    "index_name   = 'NDWI'\n",
    "\n",
    "if index_name == 'NDVI':\n",
    "    bands_needed = [4,8]\n",
    "\n",
    "elif index_name == 'NDWI':\n",
    "    bands_needed = [8,11]\n",
    "\n",
    "elif index_name == 'NDSI':\n",
    "    bands_needed = [3,11]\n",
    "\n",
    "elif index_name == 'BRIGHTNESS':\n",
    "    bands_needed = [3,4,8,11]\n",
    "\n",
    "print(f'You chose to compute {index_name} !')"
   ]
  },
  {
   "source": [
    "## Set paths for input and output directories"
   ],
   "cell_type": "markdown",
   "metadata": {}
  },
  {
   "cell_type": "code",
   "execution_count": 3,
   "metadata": {},
   "outputs": [
    {
     "output_type": "stream",
     "name": "stdout",
     "text": [
      "General work path is set to   : /Volumes/nbdid-sst-lbrat2104/GROUP_X/WORK/\nSpectral index path is set to : /Volumes/nbdid-sst-lbrat2104/GROUP_X/WORK/NDWI/\n"
     ]
    }
   ],
   "source": [
    "# Directory for all work files\n",
    "\n",
    "grp_letter = 'X'\n",
    "#work_path = f'X:/GROUP_{grp_letter}/WORK/'\n",
    "work_path = f'/Volumes/nbdid-sst-lbrat2104/GROUP_{grp_letter}/WORK/'\n",
    "\n",
    "# ----- #\n",
    "# INPUT #\n",
    "# ----- #\n",
    " \n",
    "im_path = f'{work_path}3_L2A_MASKED/'\n",
    "\n",
    "# ------ #\n",
    "# OUTPUT #\n",
    "# ------ #\n",
    "\n",
    "index_path = f'{work_path}{index_name}/'\n",
    "\n",
    "Path(index_path).mkdir(parents=True, exist_ok=True)\n",
    "\n",
    "print(f'General work path is set to   : {work_path}')\n",
    "print(f'Spectral index path is set to : {index_path}')"
   ]
  },
  {
   "source": [
    "## Check if you have the necessary spectral bands"
   ],
   "cell_type": "markdown",
   "metadata": {}
  },
  {
   "cell_type": "code",
   "execution_count": 4,
   "metadata": {},
   "outputs": [
    {
     "output_type": "stream",
     "name": "stdout",
     "text": [
      "We need band 8 to compute NDWI\n",
      "--> 12 images are found \n",
      "\n",
      "We need band 11 to compute NDWI\n",
      "--> 12 images are found \n",
      "\n",
      "Check if the number of images found for each band is the same !!\n"
     ]
    }
   ],
   "source": [
    "\n",
    "for band_nb in bands_needed:\n",
    "    print(f'We need band {band_nb} to compute {index_name}')\n",
    "    list_im = glob.glob(f'{im_path}*_B*{band_nb}*.tif')\n",
    "    print(f'--> {len(list_im)} images are found \\n')\n",
    "\n",
    "print('Check if the number of images found for each band is the same !!')\n"
   ]
  },
  {
   "source": [
    "## Compute Spectral Indices using 2 spectral bands\n",
    "\n",
    "- NDVI\n",
    "- NDWI\n",
    "- NDSI"
   ],
   "cell_type": "markdown",
   "metadata": {}
  },
  {
   "cell_type": "code",
   "execution_count": 5,
   "metadata": {},
   "outputs": [
    {
     "output_type": "stream",
     "name": "stdout",
     "text": [
      "/Volumes/nbdid-sst-lbrat2104/GROUP_X/WORK/3_L2A_MASKED/T31UFS_20200116T105309_B08_10m_ROI_SCL.tif\n",
      "/Volumes/nbdid-sst-lbrat2104/GROUP_X/WORK/3_L2A_MASKED/T31UFS_20200116T105309_B11_10m_ROI_SCL.tif\n",
      "A new NDWI file is created : /Volumes/nbdid-sst-lbrat2104/GROUP_X/WORK/NDWI/T31UFS_20200116T105309_NDWI.tif\n",
      "/Volumes/nbdid-sst-lbrat2104/GROUP_X/WORK/3_L2A_MASKED/T31UFS_20200212T104049_B08_10m_ROI_SCL.tif\n",
      "/Volumes/nbdid-sst-lbrat2104/GROUP_X/WORK/3_L2A_MASKED/T31UFS_20200212T104049_B11_10m_ROI_SCL.tif\n",
      "A new NDWI file is created : /Volumes/nbdid-sst-lbrat2104/GROUP_X/WORK/NDWI/T31UFS_20200212T104049_NDWI.tif\n",
      "/Volumes/nbdid-sst-lbrat2104/GROUP_X/WORK/3_L2A_MASKED/T31UFS_20200316T104709_B08_10m_ROI_SCL.tif\n",
      "/Volumes/nbdid-sst-lbrat2104/GROUP_X/WORK/3_L2A_MASKED/T31UFS_20200316T104709_B11_10m_ROI_SCL.tif\n",
      "A new NDWI file is created : /Volumes/nbdid-sst-lbrat2104/GROUP_X/WORK/NDWI/T31UFS_20200316T104709_NDWI.tif\n",
      "/Volumes/nbdid-sst-lbrat2104/GROUP_X/WORK/3_L2A_MASKED/T31UFS_20200417T104021_B08_10m_ROI_SCL.tif\n",
      "/Volumes/nbdid-sst-lbrat2104/GROUP_X/WORK/3_L2A_MASKED/T31UFS_20200417T104021_B11_10m_ROI_SCL.tif\n",
      "A new NDWI file is created : /Volumes/nbdid-sst-lbrat2104/GROUP_X/WORK/NDWI/T31UFS_20200417T104021_NDWI.tif\n",
      "/Volumes/nbdid-sst-lbrat2104/GROUP_X/WORK/3_L2A_MASKED/T31UFS_20200520T105031_B08_10m_ROI_SCL.tif\n",
      "/Volumes/nbdid-sst-lbrat2104/GROUP_X/WORK/3_L2A_MASKED/T31UFS_20200520T105031_B11_10m_ROI_SCL.tif\n",
      "A new NDWI file is created : /Volumes/nbdid-sst-lbrat2104/GROUP_X/WORK/NDWI/T31UFS_20200520T105031_NDWI.tif\n",
      "/Volumes/nbdid-sst-lbrat2104/GROUP_X/WORK/3_L2A_MASKED/T31UFS_20200621T103629_B08_10m_ROI_SCL.tif\n",
      "/Volumes/nbdid-sst-lbrat2104/GROUP_X/WORK/3_L2A_MASKED/T31UFS_20200621T103629_B11_10m_ROI_SCL.tif\n",
      "A new NDWI file is created : /Volumes/nbdid-sst-lbrat2104/GROUP_X/WORK/NDWI/T31UFS_20200621T103629_NDWI.tif\n",
      "/Volumes/nbdid-sst-lbrat2104/GROUP_X/WORK/3_L2A_MASKED/T31UFS_20200719T105031_B08_10m_ROI_SCL.tif\n",
      "/Volumes/nbdid-sst-lbrat2104/GROUP_X/WORK/3_L2A_MASKED/T31UFS_20200719T105031_B11_10m_ROI_SCL.tif\n",
      "A new NDWI file is created : /Volumes/nbdid-sst-lbrat2104/GROUP_X/WORK/NDWI/T31UFS_20200719T105031_NDWI.tif\n",
      "/Volumes/nbdid-sst-lbrat2104/GROUP_X/WORK/3_L2A_MASKED/T31UFS_20200813T104629_B08_10m_ROI_SCL.tif\n",
      "/Volumes/nbdid-sst-lbrat2104/GROUP_X/WORK/3_L2A_MASKED/T31UFS_20200813T104629_B11_10m_ROI_SCL.tif\n",
      "A new NDWI file is created : /Volumes/nbdid-sst-lbrat2104/GROUP_X/WORK/NDWI/T31UFS_20200813T104629_NDWI.tif\n",
      "/Volumes/nbdid-sst-lbrat2104/GROUP_X/WORK/3_L2A_MASKED/T31UFS_20200914T104031_B08_10m_ROI_SCL.tif\n",
      "/Volumes/nbdid-sst-lbrat2104/GROUP_X/WORK/3_L2A_MASKED/T31UFS_20200914T104031_B11_10m_ROI_SCL.tif\n",
      "A new NDWI file is created : /Volumes/nbdid-sst-lbrat2104/GROUP_X/WORK/NDWI/T31UFS_20200914T104031_NDWI.tif\n",
      "/Volumes/nbdid-sst-lbrat2104/GROUP_X/WORK/3_L2A_MASKED/T31UFS_20201019T103959_B08_10m_ROI_SCL.tif\n",
      "/Volumes/nbdid-sst-lbrat2104/GROUP_X/WORK/3_L2A_MASKED/T31UFS_20201019T103959_B11_10m_ROI_SCL.tif\n",
      "A new NDWI file is created : /Volumes/nbdid-sst-lbrat2104/GROUP_X/WORK/NDWI/T31UFS_20201019T103959_NDWI.tif\n",
      "/Volumes/nbdid-sst-lbrat2104/GROUP_X/WORK/3_L2A_MASKED/T31UFS_20201118T104329_B08_10m_ROI_SCL.tif\n",
      "/Volumes/nbdid-sst-lbrat2104/GROUP_X/WORK/3_L2A_MASKED/T31UFS_20201118T104329_B11_10m_ROI_SCL.tif\n",
      "A new NDWI file is created : /Volumes/nbdid-sst-lbrat2104/GROUP_X/WORK/NDWI/T31UFS_20201118T104329_NDWI.tif\n",
      "/Volumes/nbdid-sst-lbrat2104/GROUP_X/WORK/3_L2A_MASKED/T31UFS_20201218T104349_B08_10m_ROI_SCL.tif\n",
      "/Volumes/nbdid-sst-lbrat2104/GROUP_X/WORK/3_L2A_MASKED/T31UFS_20201218T104349_B11_10m_ROI_SCL.tif\n",
      "A new NDWI file is created : /Volumes/nbdid-sst-lbrat2104/GROUP_X/WORK/NDWI/T31UFS_20201218T104349_NDWI.tif\n"
     ]
    }
   ],
   "source": [
    "\n",
    "first_band  = bands_needed[0]\n",
    "second_band = bands_needed[1]\n",
    "\n",
    "nodata_val = -10000\n",
    "\n",
    "list_im = glob.glob(f'{im_path}*_B*{first_band}*.tif')\n",
    "\n",
    "for im_file_1 in list_im:\n",
    "\n",
    "    # Get date of image\n",
    "    date = os.path.basename(im_file_1)[7:7+15]\n",
    "    \n",
    "    # Find second band needed\n",
    "    im_file_2 = glob.glob(f'{im_path}*{date}*_B*{second_band}*.tif')[0]\n",
    "    im_file_2 = im_file_2.replace('\\\\','/')\n",
    "    \n",
    "    index_file = f'{index_path}{os.path.basename(im_file_1)[0:22]}_{index_name}.tif'\n",
    "\n",
    "    print(im_file_1)\n",
    "    print(im_file_2)\n",
    "\n",
    "    if not os.path.isfile(index_file):\n",
    "        \n",
    "        # Open first band and update metadata\n",
    "\n",
    "        src = rasterio.open(im_file_1, 'r')\n",
    "\n",
    "        profile = src.profile\n",
    "        profile.update(dtype=rasterio.float64)\n",
    "\n",
    "        band_1 = src.read(1)\n",
    "        src.close()\n",
    "\n",
    "        # Open second band\n",
    "\n",
    "        src = rasterio.open(im_file_2, 'r')\n",
    "        band_2 = src.read(1)\n",
    "        src.close()\n",
    "\n",
    "        # Convert no-data value into Numpy NaN\n",
    "\n",
    "        band_1 = band_1.astype(np.float)\n",
    "        band_1[band_1 == nodata_val] = np.nan\n",
    "\n",
    "        band_2 = band_2.astype(np.float)\n",
    "        band_2[band_2 == nodata_val] = np.nan\n",
    "\n",
    "        # Compute Spectral Index\n",
    "\n",
    "        if index_name == 'NDVI':\n",
    "            # band_1 = RED / B04\n",
    "            # band_2 = NIR / B08\n",
    "            index_arr = (band_2 - band_1) / (band_2 + band_1)\n",
    "\n",
    "        elif index_name == 'NDWI':\n",
    "            # band_1 = RED / B08\n",
    "            # band_2 = NIR / B11\n",
    "            index_arr = (band_1 - band_2) / (band_1 + band_2)\n",
    "        \n",
    "        elif index_name == 'NDSI':\n",
    "            # band_1 = RED / B03\n",
    "            # band_2 = NIR / B11\n",
    "            index_arr = (band_1 - band_2) / (band_1 + band_2)\n",
    "\n",
    "\n",
    "        # Write Spectral Index image into GeoTIFF\n",
    "\n",
    "        dst = rasterio.open(index_file, \"w\", **profile)\n",
    "        dst.write(index_arr,1)\n",
    "        dst.close()\n",
    "\n",
    "        print(f'A new {index_name} file is created : {index_file}')\n",
    "    \n",
    "    else:\n",
    "        print(f'--> {index_file} - already exists')\n"
   ]
  },
  {
   "source": [
    "## Compute Spectral Indices using 4 spectral bands\n",
    "\n",
    "- BRIGHTNESS"
   ],
   "cell_type": "markdown",
   "metadata": {}
  },
  {
   "cell_type": "code",
   "execution_count": 7,
   "metadata": {},
   "outputs": [],
   "source": [
    "### TELL ME IF YOU NEED THIS SCRIPT FOR YOUR POSTER"
   ]
  }
 ]
}