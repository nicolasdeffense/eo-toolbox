{
 "cells": [
  {
   "cell_type": "markdown",
   "metadata": {},
   "source": [
    "# Composites"
   ]
  },
  {
   "cell_type": "code",
   "execution_count": 21,
   "metadata": {},
   "outputs": [
    {
     "name": "stdout",
     "output_type": "stream",
     "text": [
      "All libraries successfully imported!\n"
     ]
    }
   ],
   "source": [
    "import glob, os\n",
    "import numpy as np\n",
    "import pandas as pd\n",
    "import geopandas as gpd\n",
    "import rasterio\n",
    "import rasterio.plot\n",
    "import datetime\n",
    "from pathlib import Path\n",
    "from IPython.display import display\n",
    "\n",
    "print('All libraries successfully imported!')"
   ]
  },
  {
   "cell_type": "markdown",
   "metadata": {},
   "source": [
    "## Set directory"
   ]
  },
  {
   "cell_type": "code",
   "execution_count": 14,
   "metadata": {},
   "outputs": [],
   "source": [
    "computer_path = '/export/miro/ndeffense/LBRAT2104/'\n",
    "grp_letter    = 'X'\n",
    "\n",
    "data_path = f'{computer_path}data/'                     # Directory with data shared by the assistant\n",
    "work_path = f'{computer_path}GROUP_{grp_letter}/WORK/'  # Directory for all work files\n",
    "\n",
    "# Image timeserie directory\n",
    "ts_path = f'{work_path}NDVI/'\n",
    "raster_file_list = sorted(glob.glob(f'{ts_path}*.tif'))\n",
    "\n",
    "# Output directory\n",
    "composite_path = f'{work_path}COMPOSITE/'\n",
    "\n",
    "Path(composite_path).mkdir(parents=True, exist_ok=True)"
   ]
  },
  {
   "cell_type": "markdown",
   "metadata": {},
   "source": [
    "## Set parameters\n",
    "\n",
    "Compositing method :\n",
    "- mean\n",
    "- median\n",
    "- maximum\n",
    "- minimum"
   ]
  },
  {
   "cell_type": "code",
   "execution_count": 10,
   "metadata": {},
   "outputs": [],
   "source": [
    "method = 'minimum'"
   ]
  },
  {
   "cell_type": "markdown",
   "metadata": {},
   "source": [
    "### Date\n",
    "The date must be in each image filename. `begin_date` is the first position of the date\n",
    "\n",
    "E.g. : \"SITE_3_**2**0181108_NDVI.tif\" --> **begin_date = 8**"
   ]
  },
  {
   "cell_type": "code",
   "execution_count": 11,
   "metadata": {},
   "outputs": [],
   "source": [
    "format     = '%Y%m%d' # format : YYYYMMDD\n",
    "begin_date = 8"
   ]
  },
  {
   "cell_type": "markdown",
   "metadata": {},
   "source": [
    "## Set filenames"
   ]
  },
  {
   "cell_type": "code",
   "execution_count": 12,
   "metadata": {},
   "outputs": [],
   "source": [
    "composite_tif = f'{composite_path}composite_{method}.tif'"
   ]
  },
  {
   "cell_type": "markdown",
   "metadata": {},
   "source": [
    "## Get dataframe with all images\n",
    "- date of acquisition\n",
    "- file path"
   ]
  },
  {
   "cell_type": "code",
   "execution_count": 20,
   "metadata": {},
   "outputs": [
    {
     "data": {
      "text/html": [
       "<div>\n",
       "<style scoped>\n",
       "    .dataframe tbody tr th:only-of-type {\n",
       "        vertical-align: middle;\n",
       "    }\n",
       "\n",
       "    .dataframe tbody tr th {\n",
       "        vertical-align: top;\n",
       "    }\n",
       "\n",
       "    .dataframe thead th {\n",
       "        text-align: right;\n",
       "    }\n",
       "</style>\n",
       "<table border=\"1\" class=\"dataframe\">\n",
       "  <thead>\n",
       "    <tr style=\"text-align: right;\">\n",
       "      <th></th>\n",
       "      <th>date</th>\n",
       "      <th>im_path</th>\n",
       "    </tr>\n",
       "  </thead>\n",
       "  <tbody>\n",
       "    <tr>\n",
       "      <th>0</th>\n",
       "      <td>2020-01-16</td>\n",
       "      <td>/export/miro/ndeffense/LBRAT2104/GROUP_X/WORK/...</td>\n",
       "    </tr>\n",
       "    <tr>\n",
       "      <th>1</th>\n",
       "      <td>2020-02-12</td>\n",
       "      <td>/export/miro/ndeffense/LBRAT2104/GROUP_X/WORK/...</td>\n",
       "    </tr>\n",
       "    <tr>\n",
       "      <th>2</th>\n",
       "      <td>2020-03-16</td>\n",
       "      <td>/export/miro/ndeffense/LBRAT2104/GROUP_X/WORK/...</td>\n",
       "    </tr>\n",
       "    <tr>\n",
       "      <th>3</th>\n",
       "      <td>2020-04-17</td>\n",
       "      <td>/export/miro/ndeffense/LBRAT2104/GROUP_X/WORK/...</td>\n",
       "    </tr>\n",
       "    <tr>\n",
       "      <th>4</th>\n",
       "      <td>2020-05-20</td>\n",
       "      <td>/export/miro/ndeffense/LBRAT2104/GROUP_X/WORK/...</td>\n",
       "    </tr>\n",
       "    <tr>\n",
       "      <th>5</th>\n",
       "      <td>2020-06-21</td>\n",
       "      <td>/export/miro/ndeffense/LBRAT2104/GROUP_X/WORK/...</td>\n",
       "    </tr>\n",
       "    <tr>\n",
       "      <th>6</th>\n",
       "      <td>2020-07-19</td>\n",
       "      <td>/export/miro/ndeffense/LBRAT2104/GROUP_X/WORK/...</td>\n",
       "    </tr>\n",
       "    <tr>\n",
       "      <th>7</th>\n",
       "      <td>2020-08-13</td>\n",
       "      <td>/export/miro/ndeffense/LBRAT2104/GROUP_X/WORK/...</td>\n",
       "    </tr>\n",
       "    <tr>\n",
       "      <th>8</th>\n",
       "      <td>2020-09-14</td>\n",
       "      <td>/export/miro/ndeffense/LBRAT2104/GROUP_X/WORK/...</td>\n",
       "    </tr>\n",
       "    <tr>\n",
       "      <th>9</th>\n",
       "      <td>2020-10-19</td>\n",
       "      <td>/export/miro/ndeffense/LBRAT2104/GROUP_X/WORK/...</td>\n",
       "    </tr>\n",
       "    <tr>\n",
       "      <th>10</th>\n",
       "      <td>2020-11-18</td>\n",
       "      <td>/export/miro/ndeffense/LBRAT2104/GROUP_X/WORK/...</td>\n",
       "    </tr>\n",
       "    <tr>\n",
       "      <th>11</th>\n",
       "      <td>2020-12-18</td>\n",
       "      <td>/export/miro/ndeffense/LBRAT2104/GROUP_X/WORK/...</td>\n",
       "    </tr>\n",
       "  </tbody>\n",
       "</table>\n",
       "</div>"
      ],
      "text/plain": [
       "          date                                            im_path\n",
       "0   2020-01-16  /export/miro/ndeffense/LBRAT2104/GROUP_X/WORK/...\n",
       "1   2020-02-12  /export/miro/ndeffense/LBRAT2104/GROUP_X/WORK/...\n",
       "2   2020-03-16  /export/miro/ndeffense/LBRAT2104/GROUP_X/WORK/...\n",
       "3   2020-04-17  /export/miro/ndeffense/LBRAT2104/GROUP_X/WORK/...\n",
       "4   2020-05-20  /export/miro/ndeffense/LBRAT2104/GROUP_X/WORK/...\n",
       "5   2020-06-21  /export/miro/ndeffense/LBRAT2104/GROUP_X/WORK/...\n",
       "6   2020-07-19  /export/miro/ndeffense/LBRAT2104/GROUP_X/WORK/...\n",
       "7   2020-08-13  /export/miro/ndeffense/LBRAT2104/GROUP_X/WORK/...\n",
       "8   2020-09-14  /export/miro/ndeffense/LBRAT2104/GROUP_X/WORK/...\n",
       "9   2020-10-19  /export/miro/ndeffense/LBRAT2104/GROUP_X/WORK/...\n",
       "10  2020-11-18  /export/miro/ndeffense/LBRAT2104/GROUP_X/WORK/...\n",
       "11  2020-12-18  /export/miro/ndeffense/LBRAT2104/GROUP_X/WORK/..."
      ]
     },
     "metadata": {},
     "output_type": "display_data"
    }
   ],
   "source": [
    "dict_list = []\n",
    "\n",
    "for im in raster_file_list:\n",
    "            \n",
    "        date_str = os.path.basename(im)[begin_date-1:begin_date-1+8]\n",
    "\n",
    "        date_im = datetime.datetime.strptime(date_str, format).date()\n",
    "\n",
    "        dict_list.append({'date': date_im,\n",
    "                          'im_path': im})\n",
    "\n",
    "im_date_path_df = pd.DataFrame.from_dict(dict_list).sort_values('date')\n",
    "\n",
    "display(im_date_path_df)"
   ]
  },
  {
   "cell_type": "markdown",
   "metadata": {},
   "source": [
    "### Select images inside a period"
   ]
  },
  {
   "cell_type": "code",
   "execution_count": 15,
   "metadata": {},
   "outputs": [
    {
     "data": {
      "text/html": [
       "<div>\n",
       "<style scoped>\n",
       "    .dataframe tbody tr th:only-of-type {\n",
       "        vertical-align: middle;\n",
       "    }\n",
       "\n",
       "    .dataframe tbody tr th {\n",
       "        vertical-align: top;\n",
       "    }\n",
       "\n",
       "    .dataframe thead th {\n",
       "        text-align: right;\n",
       "    }\n",
       "</style>\n",
       "<table border=\"1\" class=\"dataframe\">\n",
       "  <thead>\n",
       "    <tr style=\"text-align: right;\">\n",
       "      <th></th>\n",
       "      <th>date</th>\n",
       "      <th>im_path</th>\n",
       "    </tr>\n",
       "  </thead>\n",
       "  <tbody>\n",
       "    <tr>\n",
       "      <th>0</th>\n",
       "      <td>2020-01-16</td>\n",
       "      <td>/export/miro/ndeffense/LBRAT2104/GROUP_X/WORK/...</td>\n",
       "    </tr>\n",
       "    <tr>\n",
       "      <th>1</th>\n",
       "      <td>2020-02-12</td>\n",
       "      <td>/export/miro/ndeffense/LBRAT2104/GROUP_X/WORK/...</td>\n",
       "    </tr>\n",
       "    <tr>\n",
       "      <th>2</th>\n",
       "      <td>2020-03-16</td>\n",
       "      <td>/export/miro/ndeffense/LBRAT2104/GROUP_X/WORK/...</td>\n",
       "    </tr>\n",
       "    <tr>\n",
       "      <th>3</th>\n",
       "      <td>2020-04-17</td>\n",
       "      <td>/export/miro/ndeffense/LBRAT2104/GROUP_X/WORK/...</td>\n",
       "    </tr>\n",
       "    <tr>\n",
       "      <th>4</th>\n",
       "      <td>2020-05-20</td>\n",
       "      <td>/export/miro/ndeffense/LBRAT2104/GROUP_X/WORK/...</td>\n",
       "    </tr>\n",
       "  </tbody>\n",
       "</table>\n",
       "</div>"
      ],
      "text/plain": [
       "         date                                            im_path\n",
       "0  2020-01-16  /export/miro/ndeffense/LBRAT2104/GROUP_X/WORK/...\n",
       "1  2020-02-12  /export/miro/ndeffense/LBRAT2104/GROUP_X/WORK/...\n",
       "2  2020-03-16  /export/miro/ndeffense/LBRAT2104/GROUP_X/WORK/...\n",
       "3  2020-04-17  /export/miro/ndeffense/LBRAT2104/GROUP_X/WORK/...\n",
       "4  2020-05-20  /export/miro/ndeffense/LBRAT2104/GROUP_X/WORK/..."
      ]
     },
     "metadata": {},
     "output_type": "display_data"
    }
   ],
   "source": [
    "start_date = datetime.datetime.strptime('20200101', format).date()\n",
    "end_date   = datetime.datetime.strptime('20200601', format).date()\n",
    "\n",
    "mask = (im_date_path_df['date'] > start_date) & (im_date_path_df['date'] <= end_date)\n",
    "\n",
    "im_date_path_df = im_date_path_df.loc[mask]\n",
    "\n",
    "display(im_date_path_df)"
   ]
  },
  {
   "cell_type": "code",
   "execution_count": 16,
   "metadata": {},
   "outputs": [
    {
     "name": "stdout",
     "output_type": "stream",
     "text": [
      "Shape of features : (570, 986)\n",
      "Number of features : 5\n"
     ]
    }
   ],
   "source": [
    "list_src_arr = []\n",
    "\n",
    "for i, row in im_date_path_df.iterrows():\n",
    "    im_file    = row['im_path']\n",
    "    src = rasterio.open(im_file, \"r\")\n",
    "    im_arr = src.read(1)\n",
    "    list_src_arr.append(im_arr)\n",
    "    src.close()\n",
    "    \n",
    "print(f'Shape of features : {im_arr.shape}')\n",
    "print(f'Number of features : {len(list_src_arr)}')"
   ]
  },
  {
   "cell_type": "code",
   "execution_count": 17,
   "metadata": {},
   "outputs": [
    {
     "name": "stdout",
     "output_type": "stream",
     "text": [
      "(570, 986, 5)\n",
      "There are 5 features\n",
      "The features type is : float64\n"
     ]
    }
   ],
   "source": [
    "im_arr_stack = np.dstack(list_src_arr)\n",
    "\n",
    "print(im_arr_stack.shape)\n",
    "print(f'There are {im_arr_stack.shape[2]} features')\n",
    "print(f'The features type is : {im_arr_stack.dtype}')"
   ]
  },
  {
   "cell_type": "code",
   "execution_count": 18,
   "metadata": {},
   "outputs": [
    {
     "name": "stdout",
     "output_type": "stream",
     "text": [
      "[[0.42912925 0.43237788 0.37547408 ... 0.5170441  0.49381541 0.34527089]\n",
      " [0.43097239 0.43376623 0.42655262 ... 0.49025202 0.32620818 0.20146688]\n",
      " [0.43283582 0.44285215 0.44069015 ... 0.33983287 0.18755803 0.14951095]\n",
      " ...\n",
      " [0.59484778 0.55236576 0.55077539 ... 0.32256267 0.24806746 0.31261561]\n",
      " [0.60609911 0.56308411 0.55648536 ... 0.32063146 0.24914676 0.25447244]\n",
      " [0.66213314 0.596366   0.59649123 ... 0.3208756  0.23613963 0.26780627]]\n"
     ]
    },
    {
     "name": "stderr",
     "output_type": "stream",
     "text": [
      "/export/miro/ndeffense/.local/lib/python3.6/site-packages/ipykernel_launcher.py:11: RuntimeWarning: All-NaN slice encountered\n",
      "  # This is added back by InteractiveShellApp.init_path()\n"
     ]
    }
   ],
   "source": [
    "if method == 'median':\n",
    "    compo_arr = np.nanmedian(im_arr_stack, axis=2)\n",
    "\n",
    "elif method == 'mean':\n",
    "    compo_arr = np.nanmean(im_arr_stack, axis=2)\n",
    "\n",
    "elif method == 'std':\n",
    "    compo_arr = np.nanstd(im_arr_stack, axis=2)\n",
    "\n",
    "elif method == 'minimum':\n",
    "    compo_arr = np.nanmin(im_arr_stack, axis=2)\n",
    "\n",
    "elif method == 'maximum':\n",
    "    compo_arr = np.nanmax(im_arr_stack, axis=2)\n",
    "\n",
    "else:\n",
    "    print(f'Method not available !')\n",
    "\n",
    "print(compo_arr)"
   ]
  },
  {
   "cell_type": "code",
   "execution_count": 19,
   "metadata": {},
   "outputs": [
    {
     "name": "stdout",
     "output_type": "stream",
     "text": [
      "{'driver': 'GTiff', 'dtype': 'float64', 'nodata': -10000.0, 'width': 986, 'height': 570, 'count': 1, 'crs': CRS.from_epsg(32631), 'transform': Affine(10.0, 0.0, 627260.0,\n",
      "       0.0, -10.0, 5596180.0), 'tiled': False, 'compress': 'lzw', 'interleave': 'band'}\n"
     ]
    }
   ],
   "source": [
    "img_temp_tif = raster_file_list[0]\n",
    "\n",
    "with rasterio.open(img_temp_tif) as src:\n",
    "    profile = src.profile\n",
    "\n",
    "print(profile)\n",
    "\n",
    "with rasterio.open(composite_tif, \"w\", **profile) as dst:\n",
    "    dst.write(compo_arr, 1)"
   ]
  }
 ],
 "metadata": {
  "interpreter": {
   "hash": "31f2aee4e71d21fbe5cf8b01ff0e069b9275f58929596ceb00d14d90e3e16cd6"
  },
  "kernelspec": {
   "display_name": "Python 3.6.12 64-bit",
   "language": "python",
   "name": "python3"
  },
  "language_info": {
   "codemirror_mode": {
    "name": "ipython",
    "version": 3
   },
   "file_extension": ".py",
   "mimetype": "text/x-python",
   "name": "python",
   "nbconvert_exporter": "python",
   "pygments_lexer": "ipython3",
   "version": "3.6.12"
  },
  "orig_nbformat": 4
 },
 "nbformat": 4,
 "nbformat_minor": 2
}
