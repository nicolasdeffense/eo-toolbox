{
 "cells": [
  {
   "cell_type": "markdown",
   "metadata": {},
   "source": [
    "# Composites"
   ]
  },
  {
   "cell_type": "code",
   "execution_count": 66,
   "metadata": {},
   "outputs": [],
   "source": [
    "import glob, os\n",
    "import numpy as np\n",
    "import pandas as pd\n",
    "import geopandas as gpd\n",
    "import rasterio\n",
    "import rasterio.plot\n",
    "\n",
    "from pathlib import Path\n",
    "from IPython.display import display"
   ]
  },
  {
   "cell_type": "markdown",
   "metadata": {},
   "source": [
    "## Set directory"
   ]
  },
  {
   "cell_type": "code",
   "execution_count": 67,
   "metadata": {},
   "outputs": [],
   "source": [
    "computer_path = '/export/miro/ndeffense/LBRAT2104/'\n",
    "grp_letter    = 'X'\n",
    "\n",
    "data_path = f'{computer_path}data/'                     # Directory with data shared by the assistant\n",
    "work_path = f'{computer_path}GROUP_{grp_letter}/WORK/'  # Directory for all work files\n",
    "\n",
    "# Input directories\n",
    "ndvi_path    = f'{work_path}NDVI/'\n",
    "\n",
    "# Output directory\n",
    "composite_path = f'{work_path}COMPOSITE/'\n",
    "\n",
    "Path(composite_path).mkdir(parents=True, exist_ok=True)"
   ]
  },
  {
   "cell_type": "markdown",
   "metadata": {},
   "source": [
    "## Set parameters\n",
    "\n",
    "Method :\n",
    "- mean\n",
    "- median\n",
    "- maximum\n",
    "- minimum"
   ]
  },
  {
   "cell_type": "code",
   "execution_count": 68,
   "metadata": {},
   "outputs": [],
   "source": [
    "method = 'minimum'"
   ]
  },
  {
   "cell_type": "markdown",
   "metadata": {},
   "source": [
    "## Set filenames"
   ]
  },
  {
   "cell_type": "code",
   "execution_count": 69,
   "metadata": {},
   "outputs": [],
   "source": [
    "composite_tif = f'{composite_path}composite_{method}.tif'"
   ]
  },
  {
   "cell_type": "code",
   "execution_count": 70,
   "metadata": {},
   "outputs": [
    {
     "name": "stdout",
     "output_type": "stream",
     "text": [
      "Shape of features : (570, 986)\n",
      "Number of features : 12\n"
     ]
    }
   ],
   "source": [
    "list_src_arr = []\n",
    "\n",
    "list_im = sorted(glob.glob(f'{ndvi_path}*.tif'))\n",
    "\n",
    "for im_file in list_im:\n",
    "\n",
    "    src = rasterio.open(im_file, \"r\")\n",
    "    im = src.read(1)\n",
    "    list_src_arr.append(im)\n",
    "    src.close()\n",
    "    \n",
    "print(f'Shape of features : {im.shape}')\n",
    "print(f'Number of features : {len(list_src_arr)}')"
   ]
  },
  {
   "cell_type": "code",
   "execution_count": 71,
   "metadata": {},
   "outputs": [
    {
     "name": "stdout",
     "output_type": "stream",
     "text": [
      "(570, 986, 12)\n",
      "There are 12 features\n",
      "The features type is : float64\n"
     ]
    }
   ],
   "source": [
    "im_arr = np.dstack(list_src_arr)\n",
    "\n",
    "print(im_arr.shape)\n",
    "print(f'There are {im_arr.shape[2]} features')\n",
    "print(f'The features type is : {im_arr.dtype}')"
   ]
  },
  {
   "cell_type": "code",
   "execution_count": 72,
   "metadata": {},
   "outputs": [
    {
     "name": "stdout",
     "output_type": "stream",
     "text": [
      "[[0.42912925 0.43237788 0.37547408 ... 0.5170441  0.49381541 0.34527089]\n",
      " [0.43097239 0.43376623 0.42655262 ... 0.49025202 0.32620818 0.20146688]\n",
      " [0.43283582 0.44285215 0.44069015 ... 0.33983287 0.18755803 0.14951095]\n",
      " ...\n",
      " [0.58860104 0.55236576 0.51199638 ... 0.11897106 0.13888889 0.13902205]\n",
      " [0.60609911 0.56308411 0.54875177 ... 0.12505643 0.14905399 0.14137116]\n",
      " [0.60179833 0.596366   0.58564103 ... 0.11681173 0.13850416 0.14312354]]\n"
     ]
    },
    {
     "name": "stderr",
     "output_type": "stream",
     "text": [
      "/export/miro/ndeffense/.local/lib/python3.6/site-packages/ipykernel_launcher.py:11: RuntimeWarning: All-NaN slice encountered\n",
      "  # This is added back by InteractiveShellApp.init_path()\n"
     ]
    }
   ],
   "source": [
    "if method == 'median':\n",
    "    compo_arr = np.nanmedian(im_arr, axis=2)\n",
    "\n",
    "elif method == 'mean':\n",
    "    compo_arr = np.nanmean(im_arr, axis=2)\n",
    "\n",
    "elif method == 'std':\n",
    "    compo_arr = np.nanstd(im_arr, axis=2)\n",
    "\n",
    "elif method == 'minimum':\n",
    "    compo_arr = np.nanmin(im_arr, axis=2)\n",
    "\n",
    "elif method == 'maximum':\n",
    "    compo_arr = np.nanmax(im_arr, axis=2)\n",
    "\n",
    "else:\n",
    "    print(f'Method not available !')\n",
    "\n",
    "print(compo_arr)"
   ]
  },
  {
   "cell_type": "code",
   "execution_count": 73,
   "metadata": {},
   "outputs": [
    {
     "name": "stdout",
     "output_type": "stream",
     "text": [
      "{'driver': 'GTiff', 'dtype': 'float64', 'nodata': -10000.0, 'width': 986, 'height': 570, 'count': 1, 'crs': CRS({'init': 'epsg:32631'}), 'transform': Affine(10.0, 0.0, 627260.0,\n",
      "       0.0, -10.0, 5596180.0), 'tiled': False, 'compress': 'lzw', 'interleave': 'band'}\n"
     ]
    }
   ],
   "source": [
    "img_temp_tif = list_im[0]\n",
    "\n",
    "with rasterio.open(img_temp_tif) as src:\n",
    "    profile = src.profile\n",
    "\n",
    "print(profile)\n",
    "\n",
    "with rasterio.open(composite_tif, \"w\", **profile) as dst:\n",
    "    dst.write(compo_arr, 1)"
   ]
  }
 ],
 "metadata": {
  "interpreter": {
   "hash": "31f2aee4e71d21fbe5cf8b01ff0e069b9275f58929596ceb00d14d90e3e16cd6"
  },
  "kernelspec": {
   "display_name": "Python 3.6.12 64-bit",
   "language": "python",
   "name": "python3"
  },
  "language_info": {
   "codemirror_mode": {
    "name": "ipython",
    "version": 3
   },
   "file_extension": ".py",
   "mimetype": "text/x-python",
   "name": "python",
   "nbconvert_exporter": "python",
   "pygments_lexer": "ipython3",
   "version": "3.6.12"
  },
  "orig_nbformat": 4
 },
 "nbformat": 4,
 "nbformat_minor": 2
}
