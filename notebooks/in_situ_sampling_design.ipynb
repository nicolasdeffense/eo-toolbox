{
 "metadata": {
  "language_info": {
   "codemirror_mode": {
    "name": "ipython",
    "version": 3
   },
   "file_extension": ".py",
   "mimetype": "text/x-python",
   "name": "python",
   "nbconvert_exporter": "python",
   "pygments_lexer": "ipython3",
   "version": "3.6.10-final"
  },
  "orig_nbformat": 2,
  "kernelspec": {
   "name": "python3",
   "display_name": "Python 3",
   "language": "python"
  }
 },
 "nbformat": 4,
 "nbformat_minor": 2,
 "cells": [
  {
   "source": [
    "# In-Situ Sampling Design"
   ],
   "cell_type": "markdown",
   "metadata": {}
  },
  {
   "cell_type": "code",
   "execution_count": 1,
   "metadata": {},
   "outputs": [
    {
     "output_type": "stream",
     "name": "stdout",
     "text": [
      "Pandas    : 1.1.5\nGeoPandas : 0.8.1\n"
     ]
    }
   ],
   "source": [
    "import glob, os\n",
    "import numpy as np\n",
    "import pandas as pd\n",
    "import geopandas as gpd\n",
    "\n",
    "import rasterstats\n",
    "from rasterstats import zonal_stats\n",
    "from pathlib import Path\n",
    "from IPython.display import display\n",
    "\n",
    "print(f'Pandas    : {pd.__version__}')\n",
    "print(f'GeoPandas : {gpd.__version__}')"
   ]
  },
  {
   "cell_type": "code",
   "execution_count": 2,
   "metadata": {},
   "outputs": [
    {
     "output_type": "stream",
     "name": "stdout",
     "text": [
      "Vector input path are set to : /Users/Nicolas/OneDrive - UCL/LBRAT2104/VECTOR/\nRaster input path are set to : /Users/Nicolas/OneDrive - UCL/LBRAT2104/Output/\nOutput path are set to       : /Users/Nicolas/OneDrive - UCL/LBRAT2104/Output/\n"
     ]
    }
   ],
   "source": [
    "# Set the general input and output paths\n",
    "# --------------------------------------\n",
    "\n",
    "grp_letter   = 'X'\n",
    "student_name = 'ndeffense'\n",
    "\n",
    "# When you are connected to the computer room\n",
    "'''\n",
    "vector_path = 'X:/data/VECTOR/'\n",
    "raster_path = 'X:/data/RASTER/'\n",
    "output_path = f'X:/GROUP_{grp_letter}/TP/{student_name}/DATA/'\n",
    "'''\n",
    "\n",
    "# When you are connected to your personnal computer\n",
    "vector_path = '/Users/Nicolas/OneDrive - UCL/LBRAT2104/VECTOR/'\n",
    "raster_path = '/Users/Nicolas/OneDrive - UCL/LBRAT2104/Output/'\n",
    "output_path = '/Users/Nicolas/OneDrive - UCL/LBRAT2104/Output/'\n",
    "\n",
    "\n",
    "print(f'Vector input path are set to : {vector_path}')\n",
    "print(f'Raster input path are set to : {raster_path}')\n",
    "print(f'Output path are set to       : {output_path}')"
   ]
  },
  {
   "source": [
    "## Add pixel count to in-situ data\n",
    "\n",
    "### Zonal Stats using `rasterstats`"
   ],
   "cell_type": "markdown",
   "metadata": {}
  },
  {
   "cell_type": "code",
   "execution_count": 3,
   "metadata": {},
   "outputs": [
    {
     "output_type": "display_data",
     "data": {
      "text/plain": "     pix_count\n0          254\n1          585\n2          262\n3          166\n4          625\n..         ...\n325         50\n326        128\n327         66\n328        136\n329        104\n\n[330 rows x 1 columns]",
      "text/html": "<div>\n<style scoped>\n    .dataframe tbody tr th:only-of-type {\n        vertical-align: middle;\n    }\n\n    .dataframe tbody tr th {\n        vertical-align: top;\n    }\n\n    .dataframe thead th {\n        text-align: right;\n    }\n</style>\n<table border=\"1\" class=\"dataframe\">\n  <thead>\n    <tr style=\"text-align: right;\">\n      <th></th>\n      <th>pix_count</th>\n    </tr>\n  </thead>\n  <tbody>\n    <tr>\n      <th>0</th>\n      <td>254</td>\n    </tr>\n    <tr>\n      <th>1</th>\n      <td>585</td>\n    </tr>\n    <tr>\n      <th>2</th>\n      <td>262</td>\n    </tr>\n    <tr>\n      <th>3</th>\n      <td>166</td>\n    </tr>\n    <tr>\n      <th>4</th>\n      <td>625</td>\n    </tr>\n    <tr>\n      <th>...</th>\n      <td>...</td>\n    </tr>\n    <tr>\n      <th>325</th>\n      <td>50</td>\n    </tr>\n    <tr>\n      <th>326</th>\n      <td>128</td>\n    </tr>\n    <tr>\n      <th>327</th>\n      <td>66</td>\n    </tr>\n    <tr>\n      <th>328</th>\n      <td>136</td>\n    </tr>\n    <tr>\n      <th>329</th>\n      <td>104</td>\n    </tr>\n  </tbody>\n</table>\n<p>330 rows × 1 columns</p>\n</div>"
     },
     "metadata": {}
    }
   ],
   "source": [
    "# Set up filenames\n",
    "# ----------------\n",
    "\n",
    "# In-Situ polygons\n",
    "in_situ_shp = f'{output_path}IN_SITU/WALLONIA_2018_IN_SITU_ROI.shp'\n",
    "\n",
    "# Raster template with no NaN (before applying SCL)\n",
    "img_temp_tif = f'{raster_path}IM_ROI/T31UFR_20200316T104709_B02_10m_ROI.tif'\n",
    "\n",
    "\n",
    "\n",
    "# Compute the zonal stat and store output in a DataFrame\n",
    "zs_df = pd.DataFrame(zonal_stats(vectors=in_situ_shp,\n",
    "                                 raster=img_temp_tif,\n",
    "                                 nodata=-999,\n",
    "                                 stats='count'))\n",
    "\n",
    "zs_df = zs_df.rename(columns={'count': 'pix_count'})\n",
    "\n",
    "display(zs_df)"
   ]
  },
  {
   "source": [
    "### Join zonal stat dataframe to shapefile"
   ],
   "cell_type": "markdown",
   "metadata": {}
  },
  {
   "cell_type": "code",
   "execution_count": 4,
   "metadata": {},
   "outputs": [
    {
     "output_type": "display_data",
     "data": {
      "text/plain": "         ID  CROP                     LC  CODE  IRRIGATION    area  \\\n0      1877     1  Maize (for livestock)   201           0   11372   \n1      1878     1  Common wheat (winter)   311           0   25548   \n2      1879     1  Maize (for livestock)   201           0   79139   \n3      1880     1  Grassland (temporary)    62           0   25873   \n4      3251     1        Barley (winter)   321           0   16585   \n..      ...   ...                    ...   ...         ...     ...   \n325  183204     0        Not agriculture    20           0   30502   \n326  183206     0        Not agriculture    19           0   52986   \n327  183208     0        Not agriculture    19           0   56815   \n328  183210     0        Not agriculture     6           0  109914   \n329  183211     0        Not agriculture     6           0   87020   \n\n                                              geometry  pix_count  \n0    POLYGON ((634736.092 5591240.943, 634789.895 5...        254  \n1    POLYGON ((635007.971 5591764.526, 635051.831 5...        585  \n2    POLYGON ((635206.957 5591341.834, 635209.723 5...        262  \n3    POLYGON ((635016.863 5591076.352, 635026.482 5...        166  \n4    POLYGON ((634719.083 5590523.686, 634720.398 5...        625  \n..                                                 ...        ...  \n325  POLYGON ((634030.058 5595825.237, 634031.095 5...         50  \n326  POLYGON ((627815.480 5595734.706, 627814.517 5...        128  \n327  POLYGON ((628489.484 5595844.131, 628491.520 5...         66  \n328  POLYGON ((632038.546 5595956.541, 632042.544 5...        136  \n329  POLYGON ((635833.726 5596065.489, 635836.780 5...        104  \n\n[330 rows x 8 columns]",
      "text/html": "<div>\n<style scoped>\n    .dataframe tbody tr th:only-of-type {\n        vertical-align: middle;\n    }\n\n    .dataframe tbody tr th {\n        vertical-align: top;\n    }\n\n    .dataframe thead th {\n        text-align: right;\n    }\n</style>\n<table border=\"1\" class=\"dataframe\">\n  <thead>\n    <tr style=\"text-align: right;\">\n      <th></th>\n      <th>ID</th>\n      <th>CROP</th>\n      <th>LC</th>\n      <th>CODE</th>\n      <th>IRRIGATION</th>\n      <th>area</th>\n      <th>geometry</th>\n      <th>pix_count</th>\n    </tr>\n  </thead>\n  <tbody>\n    <tr>\n      <th>0</th>\n      <td>1877</td>\n      <td>1</td>\n      <td>Maize (for livestock)</td>\n      <td>201</td>\n      <td>0</td>\n      <td>11372</td>\n      <td>POLYGON ((634736.092 5591240.943, 634789.895 5...</td>\n      <td>254</td>\n    </tr>\n    <tr>\n      <th>1</th>\n      <td>1878</td>\n      <td>1</td>\n      <td>Common wheat (winter)</td>\n      <td>311</td>\n      <td>0</td>\n      <td>25548</td>\n      <td>POLYGON ((635007.971 5591764.526, 635051.831 5...</td>\n      <td>585</td>\n    </tr>\n    <tr>\n      <th>2</th>\n      <td>1879</td>\n      <td>1</td>\n      <td>Maize (for livestock)</td>\n      <td>201</td>\n      <td>0</td>\n      <td>79139</td>\n      <td>POLYGON ((635206.957 5591341.834, 635209.723 5...</td>\n      <td>262</td>\n    </tr>\n    <tr>\n      <th>3</th>\n      <td>1880</td>\n      <td>1</td>\n      <td>Grassland (temporary)</td>\n      <td>62</td>\n      <td>0</td>\n      <td>25873</td>\n      <td>POLYGON ((635016.863 5591076.352, 635026.482 5...</td>\n      <td>166</td>\n    </tr>\n    <tr>\n      <th>4</th>\n      <td>3251</td>\n      <td>1</td>\n      <td>Barley (winter)</td>\n      <td>321</td>\n      <td>0</td>\n      <td>16585</td>\n      <td>POLYGON ((634719.083 5590523.686, 634720.398 5...</td>\n      <td>625</td>\n    </tr>\n    <tr>\n      <th>...</th>\n      <td>...</td>\n      <td>...</td>\n      <td>...</td>\n      <td>...</td>\n      <td>...</td>\n      <td>...</td>\n      <td>...</td>\n      <td>...</td>\n    </tr>\n    <tr>\n      <th>325</th>\n      <td>183204</td>\n      <td>0</td>\n      <td>Not agriculture</td>\n      <td>20</td>\n      <td>0</td>\n      <td>30502</td>\n      <td>POLYGON ((634030.058 5595825.237, 634031.095 5...</td>\n      <td>50</td>\n    </tr>\n    <tr>\n      <th>326</th>\n      <td>183206</td>\n      <td>0</td>\n      <td>Not agriculture</td>\n      <td>19</td>\n      <td>0</td>\n      <td>52986</td>\n      <td>POLYGON ((627815.480 5595734.706, 627814.517 5...</td>\n      <td>128</td>\n    </tr>\n    <tr>\n      <th>327</th>\n      <td>183208</td>\n      <td>0</td>\n      <td>Not agriculture</td>\n      <td>19</td>\n      <td>0</td>\n      <td>56815</td>\n      <td>POLYGON ((628489.484 5595844.131, 628491.520 5...</td>\n      <td>66</td>\n    </tr>\n    <tr>\n      <th>328</th>\n      <td>183210</td>\n      <td>0</td>\n      <td>Not agriculture</td>\n      <td>6</td>\n      <td>0</td>\n      <td>109914</td>\n      <td>POLYGON ((632038.546 5595956.541, 632042.544 5...</td>\n      <td>136</td>\n    </tr>\n    <tr>\n      <th>329</th>\n      <td>183211</td>\n      <td>0</td>\n      <td>Not agriculture</td>\n      <td>6</td>\n      <td>0</td>\n      <td>87020</td>\n      <td>POLYGON ((635833.726 5596065.489, 635836.780 5...</td>\n      <td>104</td>\n    </tr>\n  </tbody>\n</table>\n<p>330 rows × 8 columns</p>\n</div>"
     },
     "metadata": {}
    }
   ],
   "source": [
    "# Read in-situ shapefile as a GeoDataFrame\n",
    "\n",
    "in_situ_gdf = gpd.read_file(in_situ_shp)\n",
    "\n",
    "# Join pixels count with polygons informations\n",
    "\n",
    "in_situ_pixCount_gdf = pd.concat([in_situ_gdf, zs_df], axis=1, join=\"inner\")\n",
    "\n",
    "# Write into a new shapefile\n",
    "\n",
    "in_situ_count_shp = f'{in_situ_shp[:-4]}_pixCount.shp'\n",
    "\n",
    "in_situ_pixCount_gdf.to_file(in_situ_count_shp)\n",
    "\n",
    "\n",
    "\n",
    "display(in_situ_pixCount_gdf)"
   ]
  },
  {
   "source": [
    "## Sampling Design\n",
    "\n",
    "\n",
    "<img src=\"figures/in_situ_sampling_design.png\">\n",
    "\n",
    "### Set up parameters\n"
   ],
   "cell_type": "markdown",
   "metadata": {}
  },
  {
   "cell_type": "code",
   "execution_count": 5,
   "metadata": {},
   "outputs": [],
   "source": [
    "S2pixMin  = 3\n",
    "S2pixBest = 10\n",
    "S2pixThres = 10000\n",
    "SampleRatioCal_1 = 0.25\n",
    "SampleRatioCal_2 = 0.75"
   ]
  },
  {
   "source": [
    "### Set up filenames"
   ],
   "cell_type": "markdown",
   "metadata": {}
  },
  {
   "cell_type": "code",
   "execution_count": 6,
   "metadata": {},
   "outputs": [],
   "source": [
    "in_situ_cal_shp = f'{output_path}IN_SITU/WALLONIA_2018_IN_SITU_ROI_cal.shp'\n",
    "in_situ_val_shp = f'{output_path}IN_SITU/WALLONIA_2018_IN_SITU_ROI_val.shp'\n",
    "\n",
    "csv_strategies = f'{output_path}IN_SITU/WALLONIA_2018_IN_SITU_ROI_sampling_design.csv'\n",
    "\n",
    "# Open the in-situ shapefile in a GeoDataFrame\n",
    "\n",
    "parcels_gdf = gpd.read_file(in_situ_count_shp)"
   ]
  },
  {
   "source": [
    "### 1. Remove parcels with not enough pixels"
   ],
   "cell_type": "markdown",
   "metadata": {}
  },
  {
   "cell_type": "code",
   "execution_count": 7,
   "metadata": {},
   "outputs": [
    {
     "output_type": "stream",
     "name": "stdout",
     "text": [
      "-- Remove parcels with less than 3 pixels\n----> There are 330 polygons with enough pixels\n"
     ]
    }
   ],
   "source": [
    "print(f'-- Remove parcels with less than {S2pixMin} pixels')\n",
    "\n",
    "parcels_gdf = parcels_gdf.loc[parcels_gdf['pix_count'] >= S2pixMin]\n",
    "\n",
    "nb_remove_small_poly = len(parcels_gdf)\n",
    "\n",
    "print(f'----> There are {nb_remove_small_poly} polygons with enough pixels')"
   ]
  },
  {
   "source": [
    "### 2. Select best parcels"
   ],
   "cell_type": "markdown",
   "metadata": {}
  },
  {
   "cell_type": "code",
   "execution_count": 8,
   "metadata": {},
   "outputs": [
    {
     "output_type": "stream",
     "name": "stdout",
     "text": [
      "-- Move parcels with less than 10 pixels in the validation dataset\n----> 330 best parcels\n----> 0 non-best parcels (moved in the validation dataset)\n"
     ]
    }
   ],
   "source": [
    "print(f'-- Move parcels with less than {S2pixBest} pixels in the validation dataset')\n",
    "\n",
    "parcels_non_best_gdf = parcels_gdf.loc[parcels_gdf['pix_count'] < S2pixBest]\n",
    "parcels_best_gdf = parcels_gdf.loc[parcels_gdf['pix_count'] >= S2pixBest]\n",
    "\n",
    "print(f'----> {len(parcels_best_gdf)} best parcels')\n",
    "print(f'----> {len(parcels_non_best_gdf)} non-best parcels (moved in the validation dataset)')"
   ]
  },
  {
   "source": [
    "### 3. Split parcels into calibration and validation datasets\n",
    "#### 3.1. Create a table with the number of pixels to get for calibration and validation (depending on the strategy)"
   ],
   "cell_type": "markdown",
   "metadata": {}
  },
  {
   "cell_type": "code",
   "execution_count": 9,
   "metadata": {},
   "outputs": [
    {
     "output_type": "stream",
     "name": "stdout",
     "text": [
      "-- Split parcels into cal/val\n"
     ]
    },
    {
     "output_type": "display_data",
     "data": {
      "text/plain": "    index  CODE  pix_count  strategy  pix_cal   pix_val\n0       9    62      13520         1  3380.00  10140.00\n1      11    91      10833         1  2708.25   8124.75\n2      13   311      25097         1  6274.25  18822.75\n3       0     6       5111         2  3833.25   1277.75\n4       1     9        355         2   266.25     88.75\n5       2    12        147         2   110.25     36.75\n6       3    19       3822         2  2866.50    955.50\n7       4    20        645         2   483.75    161.25\n8       5    21        429         2   321.75    107.25\n9       6    36       3663         2  2747.25    915.75\n10      7    45       1250         2   937.50    312.50\n11      8    53        515         2   386.25    128.75\n12     10    73       1301         2   975.75    325.25\n13     12   201       6293         2  4719.75   1573.25\n14     14   321       6200         2  4650.00   1550.00\n15     15   341        329         2   246.75     82.25\n16     16   342        518         2   388.50    129.50\n17     17   541        482         2   361.50    120.50\n18     18   542        685         2   513.75    171.25\n19     19   743        614         2   460.50    153.50\n20     20   821       1787         2  1340.25    446.75\n21     21   901       6689         2  5016.75   1672.25\n22     22   931       2157         2  1617.75    539.25\n23     23   959        292         2   219.00     73.00\n24     24  4111       2453         2  1839.75    613.25\n25     25  9202        974         2   730.50    243.50\n26     26  9410        789         2   591.75    197.25\n27     27  9535        685         2   513.75    171.25\n28     28  9741        435         2   326.25    108.75\n29     29  9742        907         2   680.25    226.75\n30     30  9812        861         2   645.75    215.25",
      "text/html": "<div>\n<style scoped>\n    .dataframe tbody tr th:only-of-type {\n        vertical-align: middle;\n    }\n\n    .dataframe tbody tr th {\n        vertical-align: top;\n    }\n\n    .dataframe thead th {\n        text-align: right;\n    }\n</style>\n<table border=\"1\" class=\"dataframe\">\n  <thead>\n    <tr style=\"text-align: right;\">\n      <th></th>\n      <th>index</th>\n      <th>CODE</th>\n      <th>pix_count</th>\n      <th>strategy</th>\n      <th>pix_cal</th>\n      <th>pix_val</th>\n    </tr>\n  </thead>\n  <tbody>\n    <tr>\n      <th>0</th>\n      <td>9</td>\n      <td>62</td>\n      <td>13520</td>\n      <td>1</td>\n      <td>3380.00</td>\n      <td>10140.00</td>\n    </tr>\n    <tr>\n      <th>1</th>\n      <td>11</td>\n      <td>91</td>\n      <td>10833</td>\n      <td>1</td>\n      <td>2708.25</td>\n      <td>8124.75</td>\n    </tr>\n    <tr>\n      <th>2</th>\n      <td>13</td>\n      <td>311</td>\n      <td>25097</td>\n      <td>1</td>\n      <td>6274.25</td>\n      <td>18822.75</td>\n    </tr>\n    <tr>\n      <th>3</th>\n      <td>0</td>\n      <td>6</td>\n      <td>5111</td>\n      <td>2</td>\n      <td>3833.25</td>\n      <td>1277.75</td>\n    </tr>\n    <tr>\n      <th>4</th>\n      <td>1</td>\n      <td>9</td>\n      <td>355</td>\n      <td>2</td>\n      <td>266.25</td>\n      <td>88.75</td>\n    </tr>\n    <tr>\n      <th>5</th>\n      <td>2</td>\n      <td>12</td>\n      <td>147</td>\n      <td>2</td>\n      <td>110.25</td>\n      <td>36.75</td>\n    </tr>\n    <tr>\n      <th>6</th>\n      <td>3</td>\n      <td>19</td>\n      <td>3822</td>\n      <td>2</td>\n      <td>2866.50</td>\n      <td>955.50</td>\n    </tr>\n    <tr>\n      <th>7</th>\n      <td>4</td>\n      <td>20</td>\n      <td>645</td>\n      <td>2</td>\n      <td>483.75</td>\n      <td>161.25</td>\n    </tr>\n    <tr>\n      <th>8</th>\n      <td>5</td>\n      <td>21</td>\n      <td>429</td>\n      <td>2</td>\n      <td>321.75</td>\n      <td>107.25</td>\n    </tr>\n    <tr>\n      <th>9</th>\n      <td>6</td>\n      <td>36</td>\n      <td>3663</td>\n      <td>2</td>\n      <td>2747.25</td>\n      <td>915.75</td>\n    </tr>\n    <tr>\n      <th>10</th>\n      <td>7</td>\n      <td>45</td>\n      <td>1250</td>\n      <td>2</td>\n      <td>937.50</td>\n      <td>312.50</td>\n    </tr>\n    <tr>\n      <th>11</th>\n      <td>8</td>\n      <td>53</td>\n      <td>515</td>\n      <td>2</td>\n      <td>386.25</td>\n      <td>128.75</td>\n    </tr>\n    <tr>\n      <th>12</th>\n      <td>10</td>\n      <td>73</td>\n      <td>1301</td>\n      <td>2</td>\n      <td>975.75</td>\n      <td>325.25</td>\n    </tr>\n    <tr>\n      <th>13</th>\n      <td>12</td>\n      <td>201</td>\n      <td>6293</td>\n      <td>2</td>\n      <td>4719.75</td>\n      <td>1573.25</td>\n    </tr>\n    <tr>\n      <th>14</th>\n      <td>14</td>\n      <td>321</td>\n      <td>6200</td>\n      <td>2</td>\n      <td>4650.00</td>\n      <td>1550.00</td>\n    </tr>\n    <tr>\n      <th>15</th>\n      <td>15</td>\n      <td>341</td>\n      <td>329</td>\n      <td>2</td>\n      <td>246.75</td>\n      <td>82.25</td>\n    </tr>\n    <tr>\n      <th>16</th>\n      <td>16</td>\n      <td>342</td>\n      <td>518</td>\n      <td>2</td>\n      <td>388.50</td>\n      <td>129.50</td>\n    </tr>\n    <tr>\n      <th>17</th>\n      <td>17</td>\n      <td>541</td>\n      <td>482</td>\n      <td>2</td>\n      <td>361.50</td>\n      <td>120.50</td>\n    </tr>\n    <tr>\n      <th>18</th>\n      <td>18</td>\n      <td>542</td>\n      <td>685</td>\n      <td>2</td>\n      <td>513.75</td>\n      <td>171.25</td>\n    </tr>\n    <tr>\n      <th>19</th>\n      <td>19</td>\n      <td>743</td>\n      <td>614</td>\n      <td>2</td>\n      <td>460.50</td>\n      <td>153.50</td>\n    </tr>\n    <tr>\n      <th>20</th>\n      <td>20</td>\n      <td>821</td>\n      <td>1787</td>\n      <td>2</td>\n      <td>1340.25</td>\n      <td>446.75</td>\n    </tr>\n    <tr>\n      <th>21</th>\n      <td>21</td>\n      <td>901</td>\n      <td>6689</td>\n      <td>2</td>\n      <td>5016.75</td>\n      <td>1672.25</td>\n    </tr>\n    <tr>\n      <th>22</th>\n      <td>22</td>\n      <td>931</td>\n      <td>2157</td>\n      <td>2</td>\n      <td>1617.75</td>\n      <td>539.25</td>\n    </tr>\n    <tr>\n      <th>23</th>\n      <td>23</td>\n      <td>959</td>\n      <td>292</td>\n      <td>2</td>\n      <td>219.00</td>\n      <td>73.00</td>\n    </tr>\n    <tr>\n      <th>24</th>\n      <td>24</td>\n      <td>4111</td>\n      <td>2453</td>\n      <td>2</td>\n      <td>1839.75</td>\n      <td>613.25</td>\n    </tr>\n    <tr>\n      <th>25</th>\n      <td>25</td>\n      <td>9202</td>\n      <td>974</td>\n      <td>2</td>\n      <td>730.50</td>\n      <td>243.50</td>\n    </tr>\n    <tr>\n      <th>26</th>\n      <td>26</td>\n      <td>9410</td>\n      <td>789</td>\n      <td>2</td>\n      <td>591.75</td>\n      <td>197.25</td>\n    </tr>\n    <tr>\n      <th>27</th>\n      <td>27</td>\n      <td>9535</td>\n      <td>685</td>\n      <td>2</td>\n      <td>513.75</td>\n      <td>171.25</td>\n    </tr>\n    <tr>\n      <th>28</th>\n      <td>28</td>\n      <td>9741</td>\n      <td>435</td>\n      <td>2</td>\n      <td>326.25</td>\n      <td>108.75</td>\n    </tr>\n    <tr>\n      <th>29</th>\n      <td>29</td>\n      <td>9742</td>\n      <td>907</td>\n      <td>2</td>\n      <td>680.25</td>\n      <td>226.75</td>\n    </tr>\n    <tr>\n      <th>30</th>\n      <td>30</td>\n      <td>9812</td>\n      <td>861</td>\n      <td>2</td>\n      <td>645.75</td>\n      <td>215.25</td>\n    </tr>\n  </tbody>\n</table>\n</div>"
     },
     "metadata": {}
    }
   ],
   "source": [
    "print('-- Split parcels into cal/val')\n",
    "\n",
    "pixel_per_class_df = parcels_best_gdf.groupby('CODE')['pix_count'].agg('sum').to_frame().reset_index()\n",
    "\n",
    "pixel_per_class_df['strategy'] = np.where(pixel_per_class_df['pix_count'] >= S2pixThres, 1, 2)\n",
    "\n",
    "\n",
    "classes_strategy_1 = pixel_per_class_df.loc[np.where(pixel_per_class_df['strategy'] == 1)]\n",
    "classes_strategy_2 = pixel_per_class_df.loc[np.where(pixel_per_class_df['strategy'] == 2)]\n",
    "\n",
    "\n",
    "# Strategy 1\n",
    "# ----------\n",
    "\n",
    "classes_strategy_1['pix_cal'] = classes_strategy_1['pix_count']*SampleRatioCal_1\n",
    "classes_strategy_1['pix_val'] = classes_strategy_1['pix_count']*(1-SampleRatioCal_1)\n",
    "\n",
    "# Strategy 2\n",
    "# ----------\n",
    "\n",
    "classes_strategy_2['pix_cal'] = classes_strategy_2['pix_count']*SampleRatioCal_2\n",
    "classes_strategy_2['pix_val'] = classes_strategy_2['pix_count']*(1-SampleRatioCal_2)\n",
    "\n",
    "\n",
    "classes_strategy_all = pd.concat([classes_strategy_1, classes_strategy_2]).reset_index()\n",
    "\n",
    "display(classes_strategy_all)"
   ]
  },
  {
   "source": [
    "#### 3.2 Select randomly parcels to reach the number of pixels needed to calibrate the model"
   ],
   "cell_type": "markdown",
   "metadata": {}
  },
  {
   "cell_type": "code",
   "execution_count": 10,
   "metadata": {},
   "outputs": [
    {
     "output_type": "stream",
     "name": "stdout",
     "text": [
      "----> 173 parcels are in calibration dataset\n----> 157 parcels are in validation dataset\n"
     ]
    }
   ],
   "source": [
    "parcels_cal_gdfs = []\n",
    "parcels_val_gdfs = []\n",
    "\n",
    "for i in range(0,len(classes_strategy_all)):\n",
    "\n",
    "    code = classes_strategy_all.loc[i,'CODE']\n",
    "    strategy  = classes_strategy_all.loc[i,'strategy']\n",
    "\n",
    "    pixel_cal = int(classes_strategy_all['pix_cal'].loc[classes_strategy_all['CODE'] == code])\n",
    "\n",
    "    parcels_by_sub_class = parcels_best_gdf.loc[parcels_best_gdf['CODE'] == code]\n",
    "    parcels_by_sub_class_reordered = parcels_by_sub_class.sample(len(parcels_by_sub_class), random_state=10)\n",
    "\n",
    "    parcels_cal_gdf = parcels_by_sub_class_reordered[parcels_by_sub_class_reordered['pix_count'].cumsum() <= pixel_cal]\n",
    "    parcels_val_gdf = parcels_by_sub_class_reordered[parcels_by_sub_class_reordered['pix_count'].cumsum() > pixel_cal]\n",
    "\n",
    "    if pixel_cal < int(parcels_cal_gdf['pix_count'].sum()):\n",
    "        print(\"error\")\n",
    "\n",
    "    parcels_cal_gdfs.append(parcels_cal_gdf)\n",
    "    parcels_val_gdfs.append(parcels_val_gdf)\n",
    "\n",
    "\n",
    "# Add non best parcels to validation\n",
    "parcels_val_gdfs.append(parcels_non_best_gdf)\n",
    "\n",
    "parcels_cal_final_gdf = pd.concat(parcels_cal_gdfs, ignore_index=True)\n",
    "parcels_val_final_gdf = pd.concat(parcels_val_gdfs, ignore_index=True)\n",
    "\n",
    "\n",
    "print(f'----> {len(parcels_cal_final_gdf)} parcels are in calibration dataset')\n",
    "print(f'----> {len(parcels_val_final_gdf)} parcels are in validation dataset')"
   ]
  },
  {
   "source": [
    "### 4. Write datasets in shapefiles"
   ],
   "cell_type": "markdown",
   "metadata": {}
  },
  {
   "cell_type": "code",
   "execution_count": 11,
   "metadata": {},
   "outputs": [
    {
     "output_type": "stream",
     "name": "stdout",
     "text": [
      "-- Writing shapefiles\n",
      "----> /Users/Nicolas/OneDrive - UCL/LBRAT2104/Output/IN_SITU/WALLONIA_2018_IN_SITU_ROI_cal.shp\n",
      "----> /Users/Nicolas/OneDrive - UCL/LBRAT2104/Output/IN_SITU/WALLONIA_2018_IN_SITU_ROI_val.shp\n",
      "-- Writing csv strategies\n",
      "----> /Users/Nicolas/OneDrive - UCL/LBRAT2104/Output/IN_SITU/WALLONIA_2018_IN_SITU_ROI_sampling_design.csv\n"
     ]
    }
   ],
   "source": [
    "print('-- Writing shapefiles')\n",
    "print(f'----> {in_situ_cal_shp}')\n",
    "print(f'----> {in_situ_val_shp}')\n",
    "\n",
    "parcels_cal_final_gdf.to_file(in_situ_cal_shp)\n",
    "parcels_val_final_gdf.to_file(in_situ_val_shp)\n",
    "\n",
    "print('-- Writing csv strategies')\n",
    "print(f'----> {csv_strategies}')\n",
    "\n",
    "classes_strategy_all.to_csv(csv_strategies, index=False, sep=';')"
   ]
  }
 ]
}