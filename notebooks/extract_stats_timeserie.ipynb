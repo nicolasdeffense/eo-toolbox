{
 "metadata": {
  "language_info": {
   "codemirror_mode": {
    "name": "ipython",
    "version": 3
   },
   "file_extension": ".py",
   "mimetype": "text/x-python",
   "name": "python",
   "nbconvert_exporter": "python",
   "pygments_lexer": "ipython3",
   "version": "3.6.10"
  },
  "orig_nbformat": 2,
  "kernelspec": {
   "name": "python3610jvsc74a57bd0d44a822591a3717b24d3edf137db462f6168d56f0b857c252a9153258824edbd",
   "display_name": "Python 3.6.10 64-bit ('python_3_6': conda)"
  }
 },
 "nbformat": 4,
 "nbformat_minor": 2,
 "cells": [
  {
   "source": [
    "# Extraction of statistics from timeserie"
   ],
   "cell_type": "markdown",
   "metadata": {}
  },
  {
   "cell_type": "code",
   "execution_count": 2,
   "metadata": {},
   "outputs": [],
   "source": [
    "import glob, os\n",
    "import numpy as np\n",
    "import pandas as pd\n",
    "import rasterio\n",
    "from rasterio import plot\n",
    "from rasterio.plot import show\n",
    "from pathlib import Path"
   ]
  },
  {
   "source": [
    "## Set paths for input and output directories"
   ],
   "cell_type": "markdown",
   "metadata": {}
  },
  {
   "cell_type": "code",
   "execution_count": 3,
   "metadata": {},
   "outputs": [
    {
     "output_type": "stream",
     "name": "stdout",
     "text": [
      "Input directory  : /Volumes/nbdid-sst-lbrat2104/GROUP_X/WORK/NDVI/\nOutput directory : /Volumes/nbdid-sst-lbrat2104/GROUP_X/WORK/NDVI_stat/\n"
     ]
    }
   ],
   "source": [
    "#computer_path = 'X:/'\n",
    "computer_path = '/Volumes/nbdid-sst-lbrat2104/'\n",
    "grp_letter    = 'X'\n",
    "\n",
    "# Directory for all work files\n",
    "work_path = f'{computer_path}GROUP_{grp_letter}/WORK/'\n",
    "\n",
    "\n",
    "# Directory where the images of the timeserie are stored\n",
    "im_path = f'{work_path}NDVI/'\n",
    "\n",
    "# Directory to store the statistics\n",
    "stat_path = f'{work_path}NDVI_stat/'\n",
    "\n",
    "Path(stat_path).mkdir(parents=True, exist_ok=True)\n",
    "\n",
    "\n",
    "# Output files\n",
    "\n",
    "ts_name = 'NDVI'\n",
    "\n",
    "out_max = f'{stat_path}{ts_name}_mean_3_max.tif'\n",
    "out_min = f'{stat_path}{ts_name}_mean_3_min.tif'\n",
    "\n",
    "\n",
    "print(f'Input directory  : {im_path}')\n",
    "print(f'Output directory : {stat_path}')"
   ]
  },
  {
   "source": [
    "## Check list of images"
   ],
   "cell_type": "markdown",
   "metadata": {}
  },
  {
   "cell_type": "code",
   "execution_count": 3,
   "metadata": {},
   "outputs": [
    {
     "output_type": "stream",
     "name": "stdout",
     "text": [
      "/Volumes/nbdid-sst-lbrat2104/GROUP_X/WORK/NDVI/T31UFS_20200116T105309_NDVI.tif\n/Volumes/nbdid-sst-lbrat2104/GROUP_X/WORK/NDVI/T31UFS_20200212T104049_NDVI.tif\n/Volumes/nbdid-sst-lbrat2104/GROUP_X/WORK/NDVI/T31UFS_20200316T104709_NDVI.tif\n/Volumes/nbdid-sst-lbrat2104/GROUP_X/WORK/NDVI/T31UFS_20200417T104021_NDVI.tif\n/Volumes/nbdid-sst-lbrat2104/GROUP_X/WORK/NDVI/T31UFS_20200520T105031_NDVI.tif\n/Volumes/nbdid-sst-lbrat2104/GROUP_X/WORK/NDVI/T31UFS_20200621T103629_NDVI.tif\n/Volumes/nbdid-sst-lbrat2104/GROUP_X/WORK/NDVI/T31UFS_20200719T105031_NDVI.tif\n/Volumes/nbdid-sst-lbrat2104/GROUP_X/WORK/NDVI/T31UFS_20200813T104629_NDVI.tif\n/Volumes/nbdid-sst-lbrat2104/GROUP_X/WORK/NDVI/T31UFS_20200914T104031_NDVI.tif\n/Volumes/nbdid-sst-lbrat2104/GROUP_X/WORK/NDVI/T31UFS_20201019T103959_NDVI.tif\n/Volumes/nbdid-sst-lbrat2104/GROUP_X/WORK/NDVI/T31UFS_20201118T104329_NDVI.tif\n/Volumes/nbdid-sst-lbrat2104/GROUP_X/WORK/NDVI/T31UFS_20201218T104349_NDVI.tif\n"
     ]
    }
   ],
   "source": [
    "list_im = sorted(glob.glob(f'{im_path}*.tif'))\n",
    "\n",
    "for im_file in list_im:\n",
    "    print(im_file)"
   ]
  },
  {
   "source": [
    "## Get metadata from one image of the list"
   ],
   "cell_type": "markdown",
   "metadata": {}
  },
  {
   "cell_type": "code",
   "execution_count": 4,
   "metadata": {},
   "outputs": [
    {
     "output_type": "stream",
     "name": "stdout",
     "text": [
      "Type   : float64\nWidth  : 986\nHeight : 570\n"
     ]
    }
   ],
   "source": [
    "src = rasterio.open(list_im[0], 'r')\n",
    "\n",
    "profile = src.profile\n",
    "dtype  = profile['dtype']\n",
    "width  = profile['width']\n",
    "height = profile['height']\n",
    "\n",
    "print(f'Type   : {dtype}')\n",
    "print(f'Width  : {width}')\n",
    "print(f'Height : {height}')\n",
    "\n",
    "src.close()"
   ]
  },
  {
   "source": [
    "## Stack all raster into a single 3-D array"
   ],
   "cell_type": "markdown",
   "metadata": {}
  },
  {
   "cell_type": "code",
   "execution_count": 5,
   "metadata": {},
   "outputs": [
    {
     "output_type": "stream",
     "name": "stdout",
     "text": [
      "(12, 570, 986)\n"
     ]
    }
   ],
   "source": [
    "list_src_arr = []\n",
    "\n",
    "for im_file in list_im:\n",
    "\n",
    "    src = rasterio.open(im_file, \"r\")\n",
    "    im = src.read(1)\n",
    "    list_src_arr.append(im)\n",
    "    src.close()\n",
    "\n",
    "\n",
    "ts_arr = np.stack(list_src_arr, axis=0)\n",
    "\n",
    "print(ts_arr.shape)\n"
   ]
  },
  {
   "source": [
    "## Compute statistics on 3-D array"
   ],
   "cell_type": "markdown",
   "metadata": {}
  },
  {
   "cell_type": "code",
   "execution_count": 7,
   "metadata": {},
   "outputs": [],
   "source": [
    "# Create empty array with NaN\n",
    "\n",
    "result_arr_max = np.zeros((height, width)) * np.nan\n",
    "result_arr_min = np.zeros((height, width)) * np.nan\n",
    "\n",
    "# Remove values out of the range\n",
    "\n",
    "max_val = 1\n",
    "min_val = -1\n",
    "\n",
    "ts_arr[(ts_arr >= max_val) | (ts_arr <= min_val)] = np.nan\n",
    "\n",
    "\n",
    "# Compute the mean of the 3 max/min for every pixels\n",
    "# --------------------------------------------------\n",
    "\n",
    "for line in range(0,height):\n",
    "    for col in range(0,width):\n",
    "        \n",
    "        # Get vector of timeserie values for a given pixel\n",
    "        vec = ts_arr[:, line, col]\n",
    "\n",
    "        # Sort vector\n",
    "        sorted_vec = np.sort(vec)\n",
    "\n",
    "        # Remove NaN from the sorted vector\n",
    "        sorted_vec = sorted_vec[~np.isnan(sorted_vec)]\n",
    "        \n",
    "        if len(sorted_vec) > 3:\n",
    "            \n",
    "            # Compute mean of the 3 largest values\n",
    "            result_arr_max[line, col] = sorted_vec[-3:].mean()\n",
    "            \n",
    "            # Compute mean of the 3 smallest values\n",
    "            result_arr_min[line, col] = sorted_vec[:3].mean()\n",
    "        \n",
    "        else:\n",
    "            # There are not enough values to calculate an average !\n",
    "            result_arr_max[line, col] = np.nan\n",
    "            result_arr_min[line, col] = np.nan\n"
   ]
  },
  {
   "source": [
    "## Write statistics in new GeoTIFF file"
   ],
   "cell_type": "markdown",
   "metadata": {}
  },
  {
   "cell_type": "code",
   "execution_count": 8,
   "metadata": {},
   "outputs": [],
   "source": [
    "dst = rasterio.open(out_max, \"w\", **profile)\n",
    "dst.write(result_arr_max, 1)\n",
    "dst.close()\n",
    "\n",
    "\n",
    "dst = rasterio.open(out_min, \"w\", **profile)\n",
    "dst.write(result_arr_min, 1)\n",
    "dst.close()\n"
   ]
  }
 ]
}