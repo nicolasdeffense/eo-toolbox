{
 "cells": [
  {
   "cell_type": "markdown",
   "metadata": {},
   "source": [
    "# Build Region of Interest with GeoPandas\n",
    "\n",
    "We will build a new shapefile containing the Region of Interest (ROI) from a set of coordinates.\n",
    "\n",
    "### Choose the CRS of the new shapefile - crs_dst\n",
    "\n",
    "It is important to set the EPSG code matching with the EPSG code of your satellite images!\n",
    "\n",
    "For instance, if your ROI is located in Belgium,\n",
    "- the CRS is WGS 84 / UTM zone 31N\n",
    "- the EPSG code is 32631\n",
    "\n",
    "### Choose the CRS of the coordinates - crs_src\n",
    "\n",
    "- Degree - WGS84 - EPSG:4326\n",
    "- Meters - WGS 84 / UTM zone 31N - EPSG:32631 (RECOMMANDED)\n",
    "\n",
    "### Coordinates bounding box\n",
    "\n",
    "Extent in QGIS --> ulx, uly : lrx, lry\n",
    "\n",
    "- ulx = Upper Left x\n",
    "- uly = Upper Left y\n",
    "- lrx = Lower Right x\n",
    "- lry = Lower Right y\n",
    "\n",
    "\n",
    "<img src=\"figures/ROI_box.png\" width=\"500\">"
   ]
  },
  {
   "cell_type": "code",
   "execution_count": 11,
   "metadata": {},
   "outputs": [
    {
     "name": "stdout",
     "output_type": "stream",
     "text": [
      "Pandas    : 1.1.5\n",
      "GeoPandas : 0.8.0\n"
     ]
    }
   ],
   "source": [
    "import os\n",
    "import geopandas as gpd\n",
    "import pandas as pd\n",
    "from shapely.geometry import Polygon\n",
    "from pathlib import Path\n",
    "import IPython.display\n",
    "from IPython.display import display\n",
    "from sentinelhub import BBox\n",
    "\n",
    "print(f'Pandas    : {pd.__version__}')\n",
    "print(f'GeoPandas : {gpd.__version__}')"
   ]
  },
  {
   "cell_type": "markdown",
   "metadata": {},
   "source": [
    "## Set directory"
   ]
  },
  {
   "cell_type": "code",
   "execution_count": 3,
   "metadata": {},
   "outputs": [],
   "source": [
    "computer_path = '/export/miro/ndeffense/LBRAT2104/'\n",
    "grp_letter    = 'X'\n",
    "\n",
    "# Directory for all work files\n",
    "work_path = f'{computer_path}GROUP_{grp_letter}/WORK/'\n",
    "\n",
    "\n",
    "roi_path = f'{work_path}ROI/'\n",
    "\n",
    "Path(roi_path).mkdir(parents=True, exist_ok=True)\n",
    "\n",
    "\n",
    "# EPSG of your ROI\n",
    "\n",
    "crs_dst = 'EPSG:32631'    # WGS 84 / UTM zone 31N\n",
    "\n",
    "roi_name      = 'extent_roi'\n",
    "roi_extension = '.shp'\n",
    "\n",
    "roi_file = f'{roi_path}{roi_name}_{crs_dst[5:]}{roi_extension}'"
   ]
  },
  {
   "cell_type": "markdown",
   "metadata": {},
   "source": [
    "## Set coordinates of your ROI - be carefull of the crs_src you chose!\n"
   ]
  },
  {
   "cell_type": "code",
   "execution_count": 8,
   "metadata": {},
   "outputs": [],
   "source": [
    "# EPSG of your coordinates\n",
    "crs_src = 'EPSG:32631'\n",
    "\n",
    "ulx = 627263.7\n",
    "uly = 5596175.1\n",
    "lrx = 637115\n",
    "lry = 5590485.2\n",
    "\n",
    "# WGS84 - EPSG:4326\n",
    "\n",
    "ulx_4326 = 4.7946375\n",
    "uly_4326 = 50.5037005\n",
    "lrx_4326 = 4.9313909\n",
    "lry_4326 = 50.4503348\n",
    "\n",
    "bbox = ulx_4326, uly_4326, lrx_4326, lry_4326"
   ]
  },
  {
   "cell_type": "code",
   "execution_count": 12,
   "metadata": {},
   "outputs": [
    {
     "data": {
      "application/geo+json": {
       "coordinates": [
        [
         [
          4.7946375,
          50.4503348
         ],
         [
          4.7946375,
          50.5037005
         ],
         [
          4.9313909,
          50.5037005
         ],
         [
          4.9313909,
          50.4503348
         ],
         [
          4.7946375,
          50.4503348
         ]
        ]
       ],
       "crs": {
        "properties": {
         "name": "urn:ogc:def:crs:EPSG::4326"
        },
        "type": "name"
       },
       "type": "Polygon"
      },
      "text/plain": [
       "<IPython.display.GeoJSON object>"
      ]
     },
     "metadata": {
      "application/geo+json": {
       "expanded": false,
       "root": "root"
      }
     },
     "output_type": "display_data"
    }
   ],
   "source": [
    "IPython.display.GeoJSON(BBox(bbox,crs=4326).get_geojson())"
   ]
  },
  {
   "cell_type": "markdown",
   "metadata": {},
   "source": [
    "## Build shapefile"
   ]
  },
  {
   "cell_type": "code",
   "execution_count": 4,
   "metadata": {},
   "outputs": [
    {
     "name": "stdout",
     "output_type": "stream",
     "text": [
      "ROI CRS : EPSG:32631 \n",
      "\n",
      "The ROI vector file already exists --> delete it or change the variable \"roi_name\" if you want to create a new one\n"
     ]
    }
   ],
   "source": [
    "# Create a list with the longitude coordinates (x)\n",
    "lon_point_list = [ulx, lrx, lrx, ulx, ulx]\n",
    "\n",
    "\n",
    "# Create a list with the latitude coordinates (y)\n",
    "lat_point_list = [uly, uly, lry, lry, uly]\n",
    "\n",
    "\n",
    "# Create a polygon object from the two list (lon and lat)\n",
    "polygon_geom = Polygon(zip(lon_point_list, lat_point_list))\n",
    "\n",
    "\n",
    "# Create a GeoDataFrame with the polygon object\n",
    "polygon_src = gpd.GeoDataFrame(index=[0], crs=crs_src, geometry=[polygon_geom])       \n",
    "\n",
    "\n",
    "# Reproject the GeoDataFrame to the destination CRS (needed only if you set your coordinates in WGS 84)\n",
    "polygon_dst = polygon_src.to_crs(crs_dst)\n",
    "\n",
    "# Check CRS of your polygon\n",
    "print(f'ROI CRS : {polygon_dst.crs} \\n')\n",
    "\n",
    "# Write the GeoDataFrame in a shapefile if not exists\n",
    "\n",
    "if not os.path.isfile(roi_file):\n",
    "    polygon_dst.to_file(filename=roi_file, driver='ESRI Shapefile')\n",
    "    print(f'A new vector file is created : {roi_file}')\n",
    "else:\n",
    "    print('The ROI vector file already exists --> delete it or change the variable \"roi_name\" if you want to create a new one')\n"
   ]
  }
 ],
 "metadata": {
  "interpreter": {
   "hash": "31f2aee4e71d21fbe5cf8b01ff0e069b9275f58929596ceb00d14d90e3e16cd6"
  },
  "kernelspec": {
   "display_name": "Python 3.6.12 64-bit",
   "name": "python3"
  },
  "language_info": {
   "codemirror_mode": {
    "name": "ipython",
    "version": 3
   },
   "file_extension": ".py",
   "mimetype": "text/x-python",
   "name": "python",
   "nbconvert_exporter": "python",
   "pygments_lexer": "ipython3",
   "version": "3.6.12"
  },
  "orig_nbformat": 2
 },
 "nbformat": 4,
 "nbformat_minor": 2
}
