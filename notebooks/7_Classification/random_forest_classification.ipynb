{
 "cells": [
  {
   "cell_type": "markdown",
   "metadata": {},
   "source": [
    "# Classification"
   ]
  },
  {
   "cell_type": "code",
   "execution_count": 1,
   "metadata": {},
   "outputs": [
    {
     "name": "stdout",
     "output_type": "stream",
     "text": [
      "All libraries successfully imported!\n",
      "Scipy        : 1.3.3\n",
      "Scikit-learn : 0.24.2\n"
     ]
    }
   ],
   "source": [
    "import glob, os, time\n",
    "import numpy as np\n",
    "import pandas as pd\n",
    "import geopandas as gpd\n",
    "import rasterio\n",
    "from rasterio import features\n",
    "\n",
    "import matplotlib.pyplot as plt\n",
    "import sklearn\n",
    "from sklearn.ensemble import RandomForestClassifier\n",
    "#from sklearn.datasets import make_classification\n",
    "from sklearn.metrics import confusion_matrix, ConfusionMatrixDisplay, plot_confusion_matrix\n",
    "\n",
    "from pathlib import Path\n",
    "from IPython.display import display\n",
    "\n",
    "print('All libraries successfully imported!')\n",
    "print(f'Scikit-learn : {sklearn.__version__}')"
   ]
  },
  {
   "cell_type": "markdown",
   "metadata": {},
   "source": [
    "## Set directory"
   ]
  },
  {
   "cell_type": "code",
   "execution_count": 2,
   "metadata": {},
   "outputs": [
    {
     "name": "stdout",
     "output_type": "stream",
     "text": [
      "Classification path are set to : /export/miro/ndeffense/LBRAT2104/GROUP_X/WORK/CLASSIF/\n"
     ]
    }
   ],
   "source": [
    "computer_path = '/export/miro/ndeffense/LBRAT2104/'\n",
    "grp_letter    = 'X'\n",
    "\n",
    "# Directory for all work files\n",
    "work_path = f'{computer_path}GROUP_{grp_letter}/WORK/'\n",
    "\n",
    "in_situ_path = f'{work_path}IN_SITU/'\n",
    "\n",
    "im_path   = f'{work_path}3_L2A_MASKED/'\n",
    "ndvi_path = f'{work_path}NDVI/'\n",
    "\n",
    "\n",
    "classif_path = f'{work_path}CLASSIF/'\n",
    "\n",
    "Path(classif_path).mkdir(parents=True, exist_ok=True)\n",
    "\n",
    "print(f'Classification path is set to : {classif_path}')"
   ]
  },
  {
   "cell_type": "markdown",
   "metadata": {},
   "source": [
    "## Set parameters"
   ]
  },
  {
   "cell_type": "code",
   "execution_count": 21,
   "metadata": {},
   "outputs": [],
   "source": [
    "site = 'NAMUR'\n",
    "year = '2020'\n",
    "\n",
    "no_data = 0\n",
    "trees_nb = 500\n",
    "\n",
    "field_classif_code = 'sub_nb'\n",
    "field_classif_name = 'sub'"
   ]
  },
  {
   "cell_type": "markdown",
   "metadata": {},
   "source": [
    "## Set filenames"
   ]
  },
  {
   "cell_type": "code",
   "execution_count": null,
   "metadata": {},
   "outputs": [],
   "source": [
    "in_situ_cal_shp = f'{in_situ_path}{site}_{year}_IN_SITU_ROI_CAL.shp'\n",
    "in_situ_cal_tif = f'{in_situ_path}{site}_{year}_IN_SITU_ROI_CAL.tif'\n",
    "\n",
    "classif_tif = f'{classif_path}{site}_{year}_CLASSIF_RF_with_NDVI.tif'"
   ]
  },
  {
   "cell_type": "markdown",
   "metadata": {},
   "source": [
    "## 1. Prepare classification features associated to *in situ* data"
   ]
  },
  {
   "cell_type": "markdown",
   "metadata": {},
   "source": [
    "### 1.1 Rasterize *in situ* data calibration shapefile"
   ]
  },
  {
   "cell_type": "code",
   "execution_count": 7,
   "metadata": {
    "tags": []
   },
   "outputs": [
    {
     "name": "stdout",
     "output_type": "stream",
     "text": [
      "Raster template file : /export/miro/ndeffense/LBRAT2104/GROUP_X/WORK/3_L2A_MASKED/T31UFS_20200417T104021_B11_10m_ROI_SCL.tif\n",
      "Rasterize starts : /export/miro/ndeffense/LBRAT2104/GROUP_X/WORK/IN_SITU/NAMUR_2020_IN_SITU_ROI_CAL.shp\n",
      "Rasterize is done : /export/miro/ndeffense/LBRAT2104/GROUP_X/WORK/IN_SITU/NAMUR_2020_IN_SITU_ROI_CAL.tif\n",
      "Rasterize starts : /export/miro/ndeffense/LBRAT2104/GROUP_X/WORK/IN_SITU/NAMUR_2020_IN_SITU_ROI_VAL.shp\n",
      "Rasterize is done : /export/miro/ndeffense/LBRAT2104/GROUP_X/WORK/IN_SITU/NAMUR_2020_IN_SITU_ROI_VAL.tif\n"
     ]
    }
   ],
   "source": [
    "img_temp_tif = glob.glob(f'{im_path}*.tif')[0]\n",
    "\n",
    "print(f'Raster template file : {img_temp_tif}')\n",
    "\n",
    "# Open the shapefile with GeoPandas\n",
    "\n",
    "in_situ_gdf = gpd.read_file(in_situ_cal_shp)\n",
    "\n",
    "# Open the raster file you want to use as a template for rasterize\n",
    "\n",
    "src = rasterio.open(img_temp_tif, \"r\")\n",
    "\n",
    "# Update metadata\n",
    "\n",
    "out_meta = src.meta\n",
    "out_meta.update(nodata=no_data)\n",
    "\n",
    "crs_shp = str(in_situ_gdf.crs).split(\":\",1)[1]\n",
    "crs_tif = str(src.crs).split(\":\",1)[1]\n",
    "\n",
    "print(f'The CRS of in situ data is    : {crs_shp}')\n",
    "print(f'The CRS of raster template is : {crs_tif}')\n",
    "\n",
    "if crs_shp == crs_tif:\n",
    "    print(\"CRS are the same\")\n",
    "\n",
    "    print(f'Rasterize starts : {in_situ_cal_shp}')\n",
    "\n",
    "    # Burn the features into the raster and write it out\n",
    "\n",
    "    dst = rasterio.open(in_situ_cal_tif, 'w+', **out_meta)\n",
    "    dst_arr = dst.read(1)\n",
    "\n",
    "    # This is where we create a generator of geom, value pairs to use in rasterizing\n",
    "\n",
    "    geom_col = in_situ_gdf.geometry\n",
    "    code_col = in_situ_gdf[field_classif_code].astype(int)\n",
    "\n",
    "    shapes = ((geom,value) for geom, value in zip(geom_col, code_col))\n",
    "\n",
    "    in_situ_arr = features.rasterize(shapes=shapes,\n",
    "                                     fill=no_data,\n",
    "                                     out=dst_arr,\n",
    "                                     transform=dst.transform)\n",
    "\n",
    "    dst.write_band(1, in_situ_arr)\n",
    "\n",
    "    print(f'Rasterize is done : {in_situ_cal_tif}')\n",
    "\n",
    "    # Close rasterio objects\n",
    "    src.close()\n",
    "    dst.close()\n",
    "\n",
    "else:\n",
    "    print('CRS are different --> repoject in-situ data shapefile with \"to_crs\"')\n",
    "\n"
   ]
  },
  {
   "cell_type": "markdown",
   "metadata": {},
   "source": [
    "### 1.2 List all the classification features\n",
    "\n",
    "In this case, one NDVI per month"
   ]
  },
  {
   "cell_type": "code",
   "execution_count": 11,
   "metadata": {},
   "outputs": [
    {
     "name": "stdout",
     "output_type": "stream",
     "text": [
      "(570, 986, 12)\n",
      "There are 12 features\n",
      "The features type is : float32\n"
     ]
    }
   ],
   "source": [
    "# Get list of all files containing the features\n",
    "list_im = sorted(glob.glob(f'{ndvi_path}*.tif'))\n",
    "\n",
    "# Create an empty list to append all feature rasters one by one\n",
    "list_src_arr = []\n",
    "\n",
    "for im_file in list_im:\n",
    "\n",
    "    src = rasterio.open(im_file, \"r\")\n",
    "    im = src.read(1)\n",
    "    list_src_arr.append(im)\n",
    "    src.close()\n",
    "\n",
    "# Merge all the 2D matrices from the list into one 3D matrix\n",
    "\n",
    "feat_arr = np.dstack(list_src_arr).astype(np.float32)\n",
    "\n",
    "print(feat_arr.shape)\n",
    "print(f'There are {feat_arr.shape[2]} features')\n",
    "print(f'The features type is : {feat_arr.dtype}')\n",
    "\n",
    "#feat_arr_1 = np.stack(list_src_arr, axis=0)\n",
    "#print(feat_arr_1.shape)"
   ]
  },
  {
   "cell_type": "markdown",
   "metadata": {},
   "source": [
    "### 1.3 Pairing *in situ* data (Y) with EO classification features (X)\n",
    "\n",
    "Now that we have the image we want to classify (our X feature inputs), and the ROI with the land cover labels (our Y labeled data), we need to pair them up in NumPy arrays so we may feed them to Random Forest."
   ]
  },
  {
   "cell_type": "code",
   "execution_count": 17,
   "metadata": {},
   "outputs": [
    {
     "name": "stdout",
     "output_type": "stream",
     "text": [
      "We have 32585 samples (= calibration pixels)\n"
     ]
    }
   ],
   "source": [
    "# Open in-situ used for calibration\n",
    "\n",
    "src = rasterio.open(in_situ_cal_tif, \"r\")\n",
    "cal_arr = src.read(1)\n",
    "src.close()\n",
    "\n",
    "# Find how many non-zero entries we have -- i.e. how many training data samples?\n",
    "n_samples = (cal_arr > 0).sum()\n",
    "\n",
    "print(f'We have {n_samples} samples (= calibration pixels)')"
   ]
  },
  {
   "cell_type": "markdown",
   "metadata": {},
   "source": [
    "What are our classification labels?"
   ]
  },
  {
   "cell_type": "code",
   "execution_count": 20,
   "metadata": {},
   "outputs": [
    {
     "name": "stdout",
     "output_type": "stream",
     "text": [
      "The training data include 16 classes: [1111 1121 1152 1171 1192 1435 1511 1771 1811 1911 1923 3199 4111 6999\n",
      " 8111 8411]\n"
     ]
    }
   ],
   "source": [
    "labels = np.unique(cal_arr[cal_arr > 0])\n",
    "\n",
    "print(f'The training data include {labels.size} classes: {labels}')"
   ]
  },
  {
   "cell_type": "markdown",
   "metadata": {},
   "source": [
    "We need :\n",
    "- **\"X\" 2D matrix** containing classification features\n",
    "- **\"y\" 1D matrix** containing our labels\n",
    "\n",
    "These will have `n_samples` rows."
   ]
  },
  {
   "cell_type": "code",
   "execution_count": 15,
   "metadata": {},
   "outputs": [
    {
     "name": "stdout",
     "output_type": "stream",
     "text": [
      "Our X matrix is sized: (32585, 12)\n",
      "Our y array is sized: (32585,)\n"
     ]
    }
   ],
   "source": [
    "X = feat_arr[cal_arr > 0, :]\n",
    "y = cal_arr[cal_arr > 0]\n",
    "\n",
    "# Replace NaN by another value\n",
    "X = np.nan_to_num(X, nan=-10)\n",
    "\n",
    "print(f'Our X matrix is sized: {X.shape}')\n",
    "print(f'Our y array is sized: {y.shape}')"
   ]
  },
  {
   "cell_type": "markdown",
   "metadata": {},
   "source": [
    "## 2. Train the Random Forest"
   ]
  },
  {
   "cell_type": "markdown",
   "metadata": {},
   "source": [
    "Now that we have our X 2D-matrix of feature inputs and our y 1D-matrix, we can train our model.\n",
    "\n",
    "Visit this <a href=\"https://scikit-learn.org/stable/modules/generated/sklearn.ensemble.RandomForestClassifier.html\" target=\"_blank\">web page</a>  to find the usage of RandomForestClassifier from scikit-learn."
   ]
  },
  {
   "cell_type": "code",
   "execution_count": 22,
   "metadata": {},
   "outputs": [
    {
     "name": "stdout",
     "output_type": "stream",
     "text": [
      "Random Forest training : 00:01:35.13\n"
     ]
    }
   ],
   "source": [
    "start_training = time.time()\n",
    "\n",
    "# Initialize our model\n",
    "rf = RandomForestClassifier(n_estimators=trees_nb, oob_score=True)\n",
    "\n",
    "# Fit our model to training data\n",
    "rf = rf.fit(X, y)\n",
    "\n",
    "end_training = time.time()\n",
    "\n",
    "# Get time elapsed during the Random Forest training\n",
    "hours, rem = divmod(end_training-start_training, 3600)\n",
    "minutes, seconds = divmod(rem, 60)\n",
    "print(\"Random Forest training : {:0>2}:{:0>2}:{:05.2f}\".format(int(hours),int(minutes),seconds))\n"
   ]
  },
  {
   "cell_type": "markdown",
   "metadata": {},
   "source": [
    "With our Random Forest model fit, we can check out the \"Out-of-Bag\" (OOB) prediction score:"
   ]
  },
  {
   "cell_type": "code",
   "execution_count": 23,
   "metadata": {},
   "outputs": [
    {
     "name": "stdout",
     "output_type": "stream",
     "text": [
      "Our OOB prediction of accuracy is: 99.27%\n"
     ]
    }
   ],
   "source": [
    "print(f'Our OOB prediction of accuracy is: {round(rf.oob_score_ * 100,2)}%')"
   ]
  },
  {
   "cell_type": "markdown",
   "metadata": {},
   "source": [
    "To help us get an idea of which features bands were important, we can look at the feature importance scores:"
   ]
  },
  {
   "cell_type": "code",
   "execution_count": 24,
   "metadata": {},
   "outputs": [
    {
     "name": "stdout",
     "output_type": "stream",
     "text": [
      "Band 1 importance: 0.0731\n",
      "Band 2 importance: 0.017\n",
      "Band 3 importance: 0.1093\n",
      "Band 4 importance: 0.0922\n",
      "Band 5 importance: 0.1293\n",
      "Band 6 importance: 0.064\n",
      "Band 7 importance: 0.1223\n",
      "Band 8 importance: 0.1123\n",
      "Band 9 importance: 0.1095\n",
      "Band 10 importance: 0.0642\n",
      "Band 11 importance: 0.0549\n",
      "Band 12 importance: 0.052\n"
     ]
    }
   ],
   "source": [
    "for band_nb, imp in enumerate(rf.feature_importances_, start=1):\n",
    "    print(f'Band {band_nb} importance: {round(imp,4)}')"
   ]
  },
  {
   "cell_type": "markdown",
   "metadata": {},
   "source": [
    "Let's look at a crosstabulation to see the class confusion"
   ]
  },
  {
   "cell_type": "code",
   "execution_count": 25,
   "metadata": {},
   "outputs": [
    {
     "data": {
      "text/html": [
       "<div>\n",
       "<style scoped>\n",
       "    .dataframe tbody tr th:only-of-type {\n",
       "        vertical-align: middle;\n",
       "    }\n",
       "\n",
       "    .dataframe tbody tr th {\n",
       "        vertical-align: top;\n",
       "    }\n",
       "\n",
       "    .dataframe thead th {\n",
       "        text-align: right;\n",
       "    }\n",
       "</style>\n",
       "<table border=\"1\" class=\"dataframe\">\n",
       "  <thead>\n",
       "    <tr style=\"text-align: right;\">\n",
       "      <th>predict</th>\n",
       "      <th>1111</th>\n",
       "      <th>1121</th>\n",
       "      <th>1152</th>\n",
       "      <th>1171</th>\n",
       "      <th>1192</th>\n",
       "      <th>1435</th>\n",
       "      <th>1511</th>\n",
       "      <th>1771</th>\n",
       "      <th>1811</th>\n",
       "      <th>1911</th>\n",
       "      <th>1923</th>\n",
       "      <th>3199</th>\n",
       "      <th>4111</th>\n",
       "      <th>6999</th>\n",
       "      <th>8111</th>\n",
       "      <th>8411</th>\n",
       "      <th>All</th>\n",
       "    </tr>\n",
       "    <tr>\n",
       "      <th>truth</th>\n",
       "      <th></th>\n",
       "      <th></th>\n",
       "      <th></th>\n",
       "      <th></th>\n",
       "      <th></th>\n",
       "      <th></th>\n",
       "      <th></th>\n",
       "      <th></th>\n",
       "      <th></th>\n",
       "      <th></th>\n",
       "      <th></th>\n",
       "      <th></th>\n",
       "      <th></th>\n",
       "      <th></th>\n",
       "      <th></th>\n",
       "      <th></th>\n",
       "      <th></th>\n",
       "    </tr>\n",
       "  </thead>\n",
       "  <tbody>\n",
       "    <tr>\n",
       "      <th>1111</th>\n",
       "      <td>7406</td>\n",
       "      <td>0</td>\n",
       "      <td>0</td>\n",
       "      <td>0</td>\n",
       "      <td>0</td>\n",
       "      <td>0</td>\n",
       "      <td>0</td>\n",
       "      <td>0</td>\n",
       "      <td>0</td>\n",
       "      <td>0</td>\n",
       "      <td>0</td>\n",
       "      <td>0</td>\n",
       "      <td>0</td>\n",
       "      <td>0</td>\n",
       "      <td>0</td>\n",
       "      <td>0</td>\n",
       "      <td>7406</td>\n",
       "    </tr>\n",
       "    <tr>\n",
       "      <th>1121</th>\n",
       "      <td>0</td>\n",
       "      <td>2161</td>\n",
       "      <td>0</td>\n",
       "      <td>0</td>\n",
       "      <td>0</td>\n",
       "      <td>0</td>\n",
       "      <td>0</td>\n",
       "      <td>0</td>\n",
       "      <td>0</td>\n",
       "      <td>0</td>\n",
       "      <td>0</td>\n",
       "      <td>0</td>\n",
       "      <td>0</td>\n",
       "      <td>0</td>\n",
       "      <td>0</td>\n",
       "      <td>0</td>\n",
       "      <td>2161</td>\n",
       "    </tr>\n",
       "    <tr>\n",
       "      <th>1152</th>\n",
       "      <td>0</td>\n",
       "      <td>0</td>\n",
       "      <td>1636</td>\n",
       "      <td>0</td>\n",
       "      <td>0</td>\n",
       "      <td>0</td>\n",
       "      <td>0</td>\n",
       "      <td>0</td>\n",
       "      <td>0</td>\n",
       "      <td>0</td>\n",
       "      <td>0</td>\n",
       "      <td>0</td>\n",
       "      <td>0</td>\n",
       "      <td>0</td>\n",
       "      <td>0</td>\n",
       "      <td>0</td>\n",
       "      <td>1636</td>\n",
       "    </tr>\n",
       "    <tr>\n",
       "      <th>1171</th>\n",
       "      <td>0</td>\n",
       "      <td>0</td>\n",
       "      <td>0</td>\n",
       "      <td>490</td>\n",
       "      <td>0</td>\n",
       "      <td>0</td>\n",
       "      <td>0</td>\n",
       "      <td>0</td>\n",
       "      <td>0</td>\n",
       "      <td>0</td>\n",
       "      <td>0</td>\n",
       "      <td>0</td>\n",
       "      <td>0</td>\n",
       "      <td>0</td>\n",
       "      <td>0</td>\n",
       "      <td>0</td>\n",
       "      <td>490</td>\n",
       "    </tr>\n",
       "    <tr>\n",
       "      <th>1192</th>\n",
       "      <td>0</td>\n",
       "      <td>0</td>\n",
       "      <td>0</td>\n",
       "      <td>0</td>\n",
       "      <td>1526</td>\n",
       "      <td>0</td>\n",
       "      <td>0</td>\n",
       "      <td>0</td>\n",
       "      <td>0</td>\n",
       "      <td>0</td>\n",
       "      <td>0</td>\n",
       "      <td>0</td>\n",
       "      <td>0</td>\n",
       "      <td>0</td>\n",
       "      <td>0</td>\n",
       "      <td>0</td>\n",
       "      <td>1526</td>\n",
       "    </tr>\n",
       "    <tr>\n",
       "      <th>1435</th>\n",
       "      <td>0</td>\n",
       "      <td>0</td>\n",
       "      <td>0</td>\n",
       "      <td>0</td>\n",
       "      <td>0</td>\n",
       "      <td>1328</td>\n",
       "      <td>0</td>\n",
       "      <td>0</td>\n",
       "      <td>0</td>\n",
       "      <td>0</td>\n",
       "      <td>0</td>\n",
       "      <td>0</td>\n",
       "      <td>0</td>\n",
       "      <td>0</td>\n",
       "      <td>0</td>\n",
       "      <td>0</td>\n",
       "      <td>1328</td>\n",
       "    </tr>\n",
       "    <tr>\n",
       "      <th>1511</th>\n",
       "      <td>0</td>\n",
       "      <td>0</td>\n",
       "      <td>0</td>\n",
       "      <td>0</td>\n",
       "      <td>0</td>\n",
       "      <td>0</td>\n",
       "      <td>1601</td>\n",
       "      <td>0</td>\n",
       "      <td>0</td>\n",
       "      <td>0</td>\n",
       "      <td>0</td>\n",
       "      <td>0</td>\n",
       "      <td>0</td>\n",
       "      <td>0</td>\n",
       "      <td>0</td>\n",
       "      <td>0</td>\n",
       "      <td>1601</td>\n",
       "    </tr>\n",
       "    <tr>\n",
       "      <th>1771</th>\n",
       "      <td>0</td>\n",
       "      <td>0</td>\n",
       "      <td>0</td>\n",
       "      <td>0</td>\n",
       "      <td>0</td>\n",
       "      <td>0</td>\n",
       "      <td>0</td>\n",
       "      <td>2578</td>\n",
       "      <td>0</td>\n",
       "      <td>0</td>\n",
       "      <td>0</td>\n",
       "      <td>0</td>\n",
       "      <td>0</td>\n",
       "      <td>0</td>\n",
       "      <td>0</td>\n",
       "      <td>0</td>\n",
       "      <td>2578</td>\n",
       "    </tr>\n",
       "    <tr>\n",
       "      <th>1811</th>\n",
       "      <td>0</td>\n",
       "      <td>0</td>\n",
       "      <td>0</td>\n",
       "      <td>0</td>\n",
       "      <td>0</td>\n",
       "      <td>0</td>\n",
       "      <td>0</td>\n",
       "      <td>0</td>\n",
       "      <td>1804</td>\n",
       "      <td>0</td>\n",
       "      <td>0</td>\n",
       "      <td>0</td>\n",
       "      <td>0</td>\n",
       "      <td>0</td>\n",
       "      <td>0</td>\n",
       "      <td>0</td>\n",
       "      <td>1804</td>\n",
       "    </tr>\n",
       "    <tr>\n",
       "      <th>1911</th>\n",
       "      <td>0</td>\n",
       "      <td>0</td>\n",
       "      <td>0</td>\n",
       "      <td>0</td>\n",
       "      <td>0</td>\n",
       "      <td>0</td>\n",
       "      <td>0</td>\n",
       "      <td>0</td>\n",
       "      <td>0</td>\n",
       "      <td>403</td>\n",
       "      <td>0</td>\n",
       "      <td>0</td>\n",
       "      <td>0</td>\n",
       "      <td>0</td>\n",
       "      <td>0</td>\n",
       "      <td>0</td>\n",
       "      <td>403</td>\n",
       "    </tr>\n",
       "    <tr>\n",
       "      <th>1923</th>\n",
       "      <td>0</td>\n",
       "      <td>0</td>\n",
       "      <td>0</td>\n",
       "      <td>0</td>\n",
       "      <td>0</td>\n",
       "      <td>0</td>\n",
       "      <td>0</td>\n",
       "      <td>0</td>\n",
       "      <td>0</td>\n",
       "      <td>0</td>\n",
       "      <td>1879</td>\n",
       "      <td>0</td>\n",
       "      <td>0</td>\n",
       "      <td>0</td>\n",
       "      <td>0</td>\n",
       "      <td>0</td>\n",
       "      <td>1879</td>\n",
       "    </tr>\n",
       "    <tr>\n",
       "      <th>3199</th>\n",
       "      <td>0</td>\n",
       "      <td>0</td>\n",
       "      <td>0</td>\n",
       "      <td>0</td>\n",
       "      <td>0</td>\n",
       "      <td>0</td>\n",
       "      <td>0</td>\n",
       "      <td>0</td>\n",
       "      <td>0</td>\n",
       "      <td>0</td>\n",
       "      <td>0</td>\n",
       "      <td>5964</td>\n",
       "      <td>0</td>\n",
       "      <td>0</td>\n",
       "      <td>0</td>\n",
       "      <td>0</td>\n",
       "      <td>5964</td>\n",
       "    </tr>\n",
       "    <tr>\n",
       "      <th>4111</th>\n",
       "      <td>0</td>\n",
       "      <td>0</td>\n",
       "      <td>0</td>\n",
       "      <td>0</td>\n",
       "      <td>0</td>\n",
       "      <td>0</td>\n",
       "      <td>0</td>\n",
       "      <td>0</td>\n",
       "      <td>0</td>\n",
       "      <td>0</td>\n",
       "      <td>0</td>\n",
       "      <td>0</td>\n",
       "      <td>102</td>\n",
       "      <td>0</td>\n",
       "      <td>0</td>\n",
       "      <td>0</td>\n",
       "      <td>102</td>\n",
       "    </tr>\n",
       "    <tr>\n",
       "      <th>6999</th>\n",
       "      <td>0</td>\n",
       "      <td>0</td>\n",
       "      <td>0</td>\n",
       "      <td>0</td>\n",
       "      <td>0</td>\n",
       "      <td>0</td>\n",
       "      <td>0</td>\n",
       "      <td>0</td>\n",
       "      <td>0</td>\n",
       "      <td>0</td>\n",
       "      <td>0</td>\n",
       "      <td>0</td>\n",
       "      <td>0</td>\n",
       "      <td>2331</td>\n",
       "      <td>0</td>\n",
       "      <td>0</td>\n",
       "      <td>2331</td>\n",
       "    </tr>\n",
       "    <tr>\n",
       "      <th>8111</th>\n",
       "      <td>0</td>\n",
       "      <td>0</td>\n",
       "      <td>0</td>\n",
       "      <td>0</td>\n",
       "      <td>0</td>\n",
       "      <td>0</td>\n",
       "      <td>0</td>\n",
       "      <td>0</td>\n",
       "      <td>0</td>\n",
       "      <td>0</td>\n",
       "      <td>0</td>\n",
       "      <td>0</td>\n",
       "      <td>0</td>\n",
       "      <td>0</td>\n",
       "      <td>1283</td>\n",
       "      <td>0</td>\n",
       "      <td>1283</td>\n",
       "    </tr>\n",
       "    <tr>\n",
       "      <th>8411</th>\n",
       "      <td>0</td>\n",
       "      <td>0</td>\n",
       "      <td>0</td>\n",
       "      <td>0</td>\n",
       "      <td>0</td>\n",
       "      <td>0</td>\n",
       "      <td>0</td>\n",
       "      <td>0</td>\n",
       "      <td>0</td>\n",
       "      <td>0</td>\n",
       "      <td>0</td>\n",
       "      <td>0</td>\n",
       "      <td>0</td>\n",
       "      <td>0</td>\n",
       "      <td>0</td>\n",
       "      <td>93</td>\n",
       "      <td>93</td>\n",
       "    </tr>\n",
       "    <tr>\n",
       "      <th>All</th>\n",
       "      <td>7406</td>\n",
       "      <td>2161</td>\n",
       "      <td>1636</td>\n",
       "      <td>490</td>\n",
       "      <td>1526</td>\n",
       "      <td>1328</td>\n",
       "      <td>1601</td>\n",
       "      <td>2578</td>\n",
       "      <td>1804</td>\n",
       "      <td>403</td>\n",
       "      <td>1879</td>\n",
       "      <td>5964</td>\n",
       "      <td>102</td>\n",
       "      <td>2331</td>\n",
       "      <td>1283</td>\n",
       "      <td>93</td>\n",
       "      <td>32585</td>\n",
       "    </tr>\n",
       "  </tbody>\n",
       "</table>\n",
       "</div>"
      ],
      "text/plain": [
       "predict  1111  1121  1152  1171  1192  1435  1511  1771  1811  1911  1923  \\\n",
       "truth                                                                       \n",
       "1111     7406     0     0     0     0     0     0     0     0     0     0   \n",
       "1121        0  2161     0     0     0     0     0     0     0     0     0   \n",
       "1152        0     0  1636     0     0     0     0     0     0     0     0   \n",
       "1171        0     0     0   490     0     0     0     0     0     0     0   \n",
       "1192        0     0     0     0  1526     0     0     0     0     0     0   \n",
       "1435        0     0     0     0     0  1328     0     0     0     0     0   \n",
       "1511        0     0     0     0     0     0  1601     0     0     0     0   \n",
       "1771        0     0     0     0     0     0     0  2578     0     0     0   \n",
       "1811        0     0     0     0     0     0     0     0  1804     0     0   \n",
       "1911        0     0     0     0     0     0     0     0     0   403     0   \n",
       "1923        0     0     0     0     0     0     0     0     0     0  1879   \n",
       "3199        0     0     0     0     0     0     0     0     0     0     0   \n",
       "4111        0     0     0     0     0     0     0     0     0     0     0   \n",
       "6999        0     0     0     0     0     0     0     0     0     0     0   \n",
       "8111        0     0     0     0     0     0     0     0     0     0     0   \n",
       "8411        0     0     0     0     0     0     0     0     0     0     0   \n",
       "All      7406  2161  1636   490  1526  1328  1601  2578  1804   403  1879   \n",
       "\n",
       "predict  3199  4111  6999  8111  8411    All  \n",
       "truth                                         \n",
       "1111        0     0     0     0     0   7406  \n",
       "1121        0     0     0     0     0   2161  \n",
       "1152        0     0     0     0     0   1636  \n",
       "1171        0     0     0     0     0    490  \n",
       "1192        0     0     0     0     0   1526  \n",
       "1435        0     0     0     0     0   1328  \n",
       "1511        0     0     0     0     0   1601  \n",
       "1771        0     0     0     0     0   2578  \n",
       "1811        0     0     0     0     0   1804  \n",
       "1911        0     0     0     0     0    403  \n",
       "1923        0     0     0     0     0   1879  \n",
       "3199     5964     0     0     0     0   5964  \n",
       "4111        0   102     0     0     0    102  \n",
       "6999        0     0  2331     0     0   2331  \n",
       "8111        0     0     0  1283     0   1283  \n",
       "8411        0     0     0     0    93     93  \n",
       "All      5964   102  2331  1283    93  32585  "
      ]
     },
     "metadata": {},
     "output_type": "display_data"
    }
   ],
   "source": [
    "# Setup a dataframe\n",
    "df = pd.DataFrame()\n",
    "\n",
    "df['truth'] = y\n",
    "df['predict'] = rf.predict(X)\n",
    "\n",
    "# Cross-tabulate predictions\n",
    "\n",
    "cross_tab = pd.crosstab(df['truth'], df['predict'], margins=True)\n",
    "display(cross_tab)\n"
   ]
  },
  {
   "cell_type": "markdown",
   "metadata": {},
   "source": [
    "## Predicting the rest of the image\n",
    "\n",
    "With our Random Forest classifier fit, we can now proceed by trying to classify the entire image."
   ]
  },
  {
   "cell_type": "code",
   "execution_count": 26,
   "metadata": {},
   "outputs": [
    {
     "name": "stdout",
     "output_type": "stream",
     "text": [
      "Reshaped from (570, 986, 12) to (562020, 12)\n",
      "Random Forest training : 00:01:58.14\n"
     ]
    }
   ],
   "source": [
    "# Take our full image and reshape into long 2d array (nrow * ncol, nband) for classification\n",
    "\n",
    "img = feat_arr\n",
    "\n",
    "img = np.nan_to_num(img, nan=-10)\n",
    "\n",
    "new_shape = (img.shape[0] * img.shape[1], img.shape[2])\n",
    "\n",
    "img_as_array = img[:, :, :].reshape(new_shape)\n",
    "\n",
    "print(f'Reshaped from {img.shape} to {img_as_array.shape}')\n",
    "\n",
    "\n",
    "start_classification = time.time()\n",
    "\n",
    "# Now predict for each pixel\n",
    "class_prediction = rf.predict(img_as_array)\n",
    "\n",
    "# Reshape our classification map\n",
    "class_prediction = class_prediction.reshape(img[:, :, 0].shape)\n",
    "\n",
    "end_classification = time.time()\n",
    "\n",
    "hours, rem = divmod(end_classification-start_classification, 3600)\n",
    "minutes, seconds = divmod(rem, 60)\n",
    "print(\"Random Forest training : {:0>2}:{:0>2}:{:05.2f}\".format(int(hours),int(minutes),seconds))\n",
    "\n"
   ]
  },
  {
   "cell_type": "markdown",
   "metadata": {},
   "source": [
    "## Write Classification product into a GeoTIFF file"
   ]
  },
  {
   "cell_type": "code",
   "execution_count": 27,
   "metadata": {},
   "outputs": [
    {
     "name": "stdout",
     "output_type": "stream",
     "text": [
      "Size of image : (570, 986)\n"
     ]
    }
   ],
   "source": [
    "print(f'Size of image : {class_prediction.shape}')\n",
    "\n",
    "# Open template image to get metadata\n",
    "src = rasterio.open(img_temp_tif)\n",
    "im = src.read(1)\n",
    "profile = src.profile\n",
    "\n",
    "# Write classification image\n",
    "dst = rasterio.open(classif_tif, 'w', **profile)\n",
    "dst.write(class_prediction, 1)\n",
    "\n",
    "# Close rasterio objects\n",
    "src.close()\n",
    "dst.close()"
   ]
  }
 ],
 "metadata": {
  "interpreter": {
   "hash": "31f2aee4e71d21fbe5cf8b01ff0e069b9275f58929596ceb00d14d90e3e16cd6"
  },
  "kernelspec": {
   "display_name": "Python 3.6.10 64-bit ('python_3_6': conda)",
   "language": "python",
   "name": "python3"
  },
  "language_info": {
   "codemirror_mode": {
    "name": "ipython",
    "version": 3
   },
   "file_extension": ".py",
   "mimetype": "text/x-python",
   "name": "python",
   "nbconvert_exporter": "python",
   "pygments_lexer": "ipython3",
   "version": "3.6.12"
  },
  "orig_nbformat": 2
 },
 "nbformat": 4,
 "nbformat_minor": 2
}
