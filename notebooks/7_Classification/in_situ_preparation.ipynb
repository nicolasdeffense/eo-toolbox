{
 "cells": [
  {
   "cell_type": "markdown",
   "metadata": {},
   "source": [
    "# *In situ* data preparation"
   ]
  },
  {
   "cell_type": "code",
   "execution_count": 94,
   "metadata": {},
   "outputs": [
    {
     "name": "stdout",
     "output_type": "stream",
     "text": [
      "All libraries successfully imported!\n",
      "Pandas    : 1.1.5\n",
      "GeoPandas : 0.9.0\n"
     ]
    }
   ],
   "source": [
    "import pandas as pd\n",
    "import geopandas as gpd\n",
    "import matplotlib.pyplot as plt\n",
    "import numpy as np\n",
    "import glob\n",
    "import rasterio\n",
    "from rasterio import features\n",
    "import rasterio.plot\n",
    "import plotly.express as px\n",
    "from IPython.display import display\n",
    "\n",
    "print('All libraries successfully imported!')\n",
    "print(f'Pandas    : {pd.__version__}')\n",
    "print(f'GeoPandas : {gpd.__version__}')"
   ]
  },
  {
   "cell_type": "markdown",
   "metadata": {},
   "source": [
    "## Set directory"
   ]
  },
  {
   "cell_type": "code",
   "execution_count": 4,
   "metadata": {},
   "outputs": [],
   "source": [
    "computer_path = '/export/miro/ndeffense/LBRAT2104/'\n",
    "grp_letter    = 'X'\n",
    "\n",
    "# Directory for all work files\n",
    "work_path = f'{computer_path}GROUP_{grp_letter}/WORK/'\n",
    "\n",
    "clipped_path = f'{work_path}2_L2A_CLIPPED/'\n",
    "in_situ_path = f'{work_path}IN_SITU/'"
   ]
  },
  {
   "cell_type": "markdown",
   "metadata": {},
   "source": [
    "## Set parameters"
   ]
  },
  {
   "cell_type": "code",
   "execution_count": 57,
   "metadata": {},
   "outputs": [],
   "source": [
    "site = 'NAMUR'\n",
    "year = '2020'\n",
    "\n",
    "field_classif_code = 'sub_nb'\n",
    "field_classif_name = 'sub'\n",
    "buffer_size   = -10\n",
    "pix_min       = 3\n",
    "pix_ratio_min = 0.0002\n",
    "poly_min      = 5"
   ]
  },
  {
   "cell_type": "markdown",
   "metadata": {},
   "source": [
    "## 1. Apply 10m buffer to each polygons"
   ]
  },
  {
   "cell_type": "code",
   "execution_count": 7,
   "metadata": {},
   "outputs": [
    {
     "name": "stdout",
     "output_type": "stream",
     "text": [
      "The Coordinates Reference System is epsg:32631 \n",
      "\n",
      "There are 733 polygons BEFORE applying the -10m buffer.\n",
      "There are 629 polygons AFTER applying the -10m buffer.\n"
     ]
    },
    {
     "data": {
      "text/html": [
       "<div>\n",
       "<style scoped>\n",
       "    .dataframe tbody tr th:only-of-type {\n",
       "        vertical-align: middle;\n",
       "    }\n",
       "\n",
       "    .dataframe tbody tr th {\n",
       "        vertical-align: top;\n",
       "    }\n",
       "\n",
       "    .dataframe thead th {\n",
       "        text-align: right;\n",
       "    }\n",
       "</style>\n",
       "<table border=\"1\" class=\"dataframe\">\n",
       "  <thead>\n",
       "    <tr style=\"text-align: right;\">\n",
       "      <th></th>\n",
       "      <th>id</th>\n",
       "      <th>sub_nb</th>\n",
       "      <th>sub</th>\n",
       "      <th>grp_nb</th>\n",
       "      <th>grp</th>\n",
       "      <th>class_nb</th>\n",
       "      <th>class</th>\n",
       "      <th>lc_nb</th>\n",
       "      <th>lc</th>\n",
       "      <th>geometry</th>\n",
       "    </tr>\n",
       "  </thead>\n",
       "  <tbody>\n",
       "    <tr>\n",
       "      <th>0</th>\n",
       "      <td>0</td>\n",
       "      <td>3199</td>\n",
       "      <td>Grassland and meadows</td>\n",
       "      <td>31</td>\n",
       "      <td>Grassland and meadows</td>\n",
       "      <td>319</td>\n",
       "      <td>Grassland and meadows</td>\n",
       "      <td>3</td>\n",
       "      <td>Grassland and meadows</td>\n",
       "      <td>MULTIPOLYGON (((636113.254 5595481.323, 636113...</td>\n",
       "    </tr>\n",
       "    <tr>\n",
       "      <th>1</th>\n",
       "      <td>1</td>\n",
       "      <td>3199</td>\n",
       "      <td>Grassland and meadows</td>\n",
       "      <td>31</td>\n",
       "      <td>Grassland and meadows</td>\n",
       "      <td>319</td>\n",
       "      <td>Grassland and meadows</td>\n",
       "      <td>3</td>\n",
       "      <td>Grassland and meadows</td>\n",
       "      <td>POLYGON ((629775.101 5593157.573, 629778.482 5...</td>\n",
       "    </tr>\n",
       "    <tr>\n",
       "      <th>2</th>\n",
       "      <td>2</td>\n",
       "      <td>3199</td>\n",
       "      <td>Grassland and meadows</td>\n",
       "      <td>31</td>\n",
       "      <td>Grassland and meadows</td>\n",
       "      <td>319</td>\n",
       "      <td>Grassland and meadows</td>\n",
       "      <td>3</td>\n",
       "      <td>Grassland and meadows</td>\n",
       "      <td>POLYGON ((636748.981 5595728.374, 636750.028 5...</td>\n",
       "    </tr>\n",
       "    <tr>\n",
       "      <th>3</th>\n",
       "      <td>3</td>\n",
       "      <td>3199</td>\n",
       "      <td>Grassland and meadows</td>\n",
       "      <td>31</td>\n",
       "      <td>Grassland and meadows</td>\n",
       "      <td>319</td>\n",
       "      <td>Grassland and meadows</td>\n",
       "      <td>3</td>\n",
       "      <td>Grassland and meadows</td>\n",
       "      <td>MULTIPOLYGON (((630003.573 5594258.004, 630003...</td>\n",
       "    </tr>\n",
       "    <tr>\n",
       "      <th>4</th>\n",
       "      <td>4</td>\n",
       "      <td>3199</td>\n",
       "      <td>Grassland and meadows</td>\n",
       "      <td>31</td>\n",
       "      <td>Grassland and meadows</td>\n",
       "      <td>319</td>\n",
       "      <td>Grassland and meadows</td>\n",
       "      <td>3</td>\n",
       "      <td>Grassland and meadows</td>\n",
       "      <td>POLYGON ((636962.589 5595674.757, 636966.536 5...</td>\n",
       "    </tr>\n",
       "  </tbody>\n",
       "</table>\n",
       "</div>"
      ],
      "text/plain": [
       "   id  sub_nb                    sub  grp_nb                    grp  class_nb  \\\n",
       "0   0    3199  Grassland and meadows      31  Grassland and meadows       319   \n",
       "1   1    3199  Grassland and meadows      31  Grassland and meadows       319   \n",
       "2   2    3199  Grassland and meadows      31  Grassland and meadows       319   \n",
       "3   3    3199  Grassland and meadows      31  Grassland and meadows       319   \n",
       "4   4    3199  Grassland and meadows      31  Grassland and meadows       319   \n",
       "\n",
       "                   class  lc_nb                     lc  \\\n",
       "0  Grassland and meadows      3  Grassland and meadows   \n",
       "1  Grassland and meadows      3  Grassland and meadows   \n",
       "2  Grassland and meadows      3  Grassland and meadows   \n",
       "3  Grassland and meadows      3  Grassland and meadows   \n",
       "4  Grassland and meadows      3  Grassland and meadows   \n",
       "\n",
       "                                            geometry  \n",
       "0  MULTIPOLYGON (((636113.254 5595481.323, 636113...  \n",
       "1  POLYGON ((629775.101 5593157.573, 629778.482 5...  \n",
       "2  POLYGON ((636748.981 5595728.374, 636750.028 5...  \n",
       "3  MULTIPOLYGON (((630003.573 5594258.004, 630003...  \n",
       "4  POLYGON ((636962.589 5595674.757, 636966.536 5...  "
      ]
     },
     "metadata": {},
     "output_type": "display_data"
    }
   ],
   "source": [
    "in_situ_file = f'{in_situ_path}{site}_{year}_IN_SITU_ROI.shp'\n",
    "\n",
    "gdf = gpd.read_file(in_situ_file)\n",
    "\n",
    "print(f'The Coordinates Reference System is {gdf.crs} \\n')\n",
    "\n",
    "print(f'There are {len(gdf)} polygons BEFORE applying the {buffer_size}m buffer.')\n",
    "\n",
    "gdf.geometry = gdf.geometry.buffer(buffer_size)\n",
    "\n",
    "gdf = gdf[~gdf.geometry.is_empty]    # Remove empty geometries\n",
    "\n",
    "print(f'There are {len(gdf)} polygons AFTER applying the {buffer_size}m buffer.')\n",
    "\n",
    "display(gdf.head())\n"
   ]
  },
  {
   "cell_type": "code",
   "execution_count": 9,
   "metadata": {},
   "outputs": [
    {
     "data": {
      "image/png": "[encoded data removed]",
      "text/plain": [
       "<Figure size 1080x1080 with 1 Axes>"
      ]
     },
     "metadata": {
      "needs_background": "light"
     },
     "output_type": "display_data"
    }
   ],
   "source": [
    "fig, ax = plt.subplots(1, 1, figsize=(15,15))\n",
    "\n",
    "gdf.plot(ax=ax,\n",
    "        column='sub',\n",
    "        categorical=True,\n",
    "        cmap='tab20',\n",
    "        linewidth=.6,\n",
    "        edgecolor='0.2',\n",
    "        legend=False)\n",
    "\n",
    "ax.set_title(f'In situ with {buffer_size}m buffer - {site} {year}',fontsize=20)\n",
    "\n",
    "plt.box(False)"
   ]
  },
  {
   "cell_type": "markdown",
   "metadata": {},
   "source": [
    "## 2. Add area column"
   ]
  },
  {
   "cell_type": "code",
   "execution_count": 10,
   "metadata": {},
   "outputs": [
    {
     "data": {
      "text/html": [
       "<div>\n",
       "<style scoped>\n",
       "    .dataframe tbody tr th:only-of-type {\n",
       "        vertical-align: middle;\n",
       "    }\n",
       "\n",
       "    .dataframe tbody tr th {\n",
       "        vertical-align: top;\n",
       "    }\n",
       "\n",
       "    .dataframe thead th {\n",
       "        text-align: right;\n",
       "    }\n",
       "</style>\n",
       "<table border=\"1\" class=\"dataframe\">\n",
       "  <thead>\n",
       "    <tr style=\"text-align: right;\">\n",
       "      <th></th>\n",
       "      <th>id</th>\n",
       "      <th>sub_nb</th>\n",
       "      <th>sub</th>\n",
       "      <th>grp_nb</th>\n",
       "      <th>grp</th>\n",
       "      <th>class_nb</th>\n",
       "      <th>class</th>\n",
       "      <th>lc_nb</th>\n",
       "      <th>lc</th>\n",
       "      <th>geometry</th>\n",
       "      <th>area</th>\n",
       "    </tr>\n",
       "  </thead>\n",
       "  <tbody>\n",
       "    <tr>\n",
       "      <th>0</th>\n",
       "      <td>0</td>\n",
       "      <td>3199</td>\n",
       "      <td>Grassland and meadows</td>\n",
       "      <td>31</td>\n",
       "      <td>Grassland and meadows</td>\n",
       "      <td>319</td>\n",
       "      <td>Grassland and meadows</td>\n",
       "      <td>3</td>\n",
       "      <td>Grassland and meadows</td>\n",
       "      <td>MULTIPOLYGON (((636113.254 5595481.323, 636113...</td>\n",
       "      <td>0</td>\n",
       "    </tr>\n",
       "    <tr>\n",
       "      <th>1</th>\n",
       "      <td>1</td>\n",
       "      <td>3199</td>\n",
       "      <td>Grassland and meadows</td>\n",
       "      <td>31</td>\n",
       "      <td>Grassland and meadows</td>\n",
       "      <td>319</td>\n",
       "      <td>Grassland and meadows</td>\n",
       "      <td>3</td>\n",
       "      <td>Grassland and meadows</td>\n",
       "      <td>POLYGON ((629775.101 5593157.573, 629778.482 5...</td>\n",
       "      <td>235</td>\n",
       "    </tr>\n",
       "    <tr>\n",
       "      <th>2</th>\n",
       "      <td>2</td>\n",
       "      <td>3199</td>\n",
       "      <td>Grassland and meadows</td>\n",
       "      <td>31</td>\n",
       "      <td>Grassland and meadows</td>\n",
       "      <td>319</td>\n",
       "      <td>Grassland and meadows</td>\n",
       "      <td>3</td>\n",
       "      <td>Grassland and meadows</td>\n",
       "      <td>POLYGON ((636748.981 5595728.374, 636750.028 5...</td>\n",
       "      <td>251</td>\n",
       "    </tr>\n",
       "    <tr>\n",
       "      <th>3</th>\n",
       "      <td>3</td>\n",
       "      <td>3199</td>\n",
       "      <td>Grassland and meadows</td>\n",
       "      <td>31</td>\n",
       "      <td>Grassland and meadows</td>\n",
       "      <td>319</td>\n",
       "      <td>Grassland and meadows</td>\n",
       "      <td>3</td>\n",
       "      <td>Grassland and meadows</td>\n",
       "      <td>MULTIPOLYGON (((630003.573 5594258.004, 630003...</td>\n",
       "      <td>1735</td>\n",
       "    </tr>\n",
       "    <tr>\n",
       "      <th>4</th>\n",
       "      <td>4</td>\n",
       "      <td>3199</td>\n",
       "      <td>Grassland and meadows</td>\n",
       "      <td>31</td>\n",
       "      <td>Grassland and meadows</td>\n",
       "      <td>319</td>\n",
       "      <td>Grassland and meadows</td>\n",
       "      <td>3</td>\n",
       "      <td>Grassland and meadows</td>\n",
       "      <td>POLYGON ((636962.589 5595674.757, 636966.536 5...</td>\n",
       "      <td>14331</td>\n",
       "    </tr>\n",
       "  </tbody>\n",
       "</table>\n",
       "</div>"
      ],
      "text/plain": [
       "   id  sub_nb                    sub  grp_nb                    grp  class_nb  \\\n",
       "0   0    3199  Grassland and meadows      31  Grassland and meadows       319   \n",
       "1   1    3199  Grassland and meadows      31  Grassland and meadows       319   \n",
       "2   2    3199  Grassland and meadows      31  Grassland and meadows       319   \n",
       "3   3    3199  Grassland and meadows      31  Grassland and meadows       319   \n",
       "4   4    3199  Grassland and meadows      31  Grassland and meadows       319   \n",
       "\n",
       "                   class  lc_nb                     lc  \\\n",
       "0  Grassland and meadows      3  Grassland and meadows   \n",
       "1  Grassland and meadows      3  Grassland and meadows   \n",
       "2  Grassland and meadows      3  Grassland and meadows   \n",
       "3  Grassland and meadows      3  Grassland and meadows   \n",
       "4  Grassland and meadows      3  Grassland and meadows   \n",
       "\n",
       "                                            geometry   area  \n",
       "0  MULTIPOLYGON (((636113.254 5595481.323, 636113...      0  \n",
       "1  POLYGON ((629775.101 5593157.573, 629778.482 5...    235  \n",
       "2  POLYGON ((636748.981 5595728.374, 636750.028 5...    251  \n",
       "3  MULTIPOLYGON (((630003.573 5594258.004, 630003...   1735  \n",
       "4  POLYGON ((636962.589 5595674.757, 636966.536 5...  14331  "
      ]
     },
     "metadata": {},
     "output_type": "display_data"
    }
   ],
   "source": [
    "gdf['area'] = gdf.geometry.area.astype(int)\n",
    "\n",
    "display(gdf.head())"
   ]
  },
  {
   "cell_type": "markdown",
   "metadata": {},
   "source": [
    "## 3. Add pixel count"
   ]
  },
  {
   "cell_type": "markdown",
   "metadata": {},
   "source": [
    "### 3.1 Select one raster clipped to the extent of the ROI as a template to rasterize *in situ* polygons"
   ]
  },
  {
   "cell_type": "code",
   "execution_count": 12,
   "metadata": {},
   "outputs": [
    {
     "name": "stdout",
     "output_type": "stream",
     "text": [
      "Raster template file : /export/miro/ndeffense/LBRAT2104/GROUP_X/WORK/2_L2A_CLIPPED/T31UFS_20200417T104021_SCL_10m_ROI.tif\n"
     ]
    }
   ],
   "source": [
    "img_temp_tif = glob.glob(f'{clipped_path}*.tif')[0]\n",
    "\n",
    "print(f'Raster template file : {img_temp_tif}')"
   ]
  },
  {
   "cell_type": "markdown",
   "metadata": {},
   "source": [
    "### 3.2 Rasterize *in situ* polygons"
   ]
  },
  {
   "cell_type": "code",
   "execution_count": 14,
   "metadata": {},
   "outputs": [
    {
     "name": "stdout",
     "output_type": "stream",
     "text": [
      "Rasterize is done : /export/miro/ndeffense/LBRAT2104/GROUP_X/WORK/IN_SITU/NAMUR_2020_IN_SITU_ROI_buffer.tif\n"
     ]
    }
   ],
   "source": [
    "in_situ_file_tif = f'{in_situ_path}{site}_{year}_IN_SITU_ROI_buffer.tif'\n",
    "\n",
    "# Open the raster file you want to use as a template for rasterize\n",
    "\n",
    "src = rasterio.open(img_temp_tif, \"r\")\n",
    "\n",
    "# Update metadata\n",
    "\n",
    "out_meta = src.meta\n",
    "out_meta.update(dtype='int16',\n",
    "                nodata=-999)\n",
    "\n",
    "# Burn the features into the raster and write it out\n",
    "\n",
    "dst = rasterio.open(in_situ_file_tif, 'w+', **out_meta)\n",
    "dst_arr = dst.read(1)\n",
    "\n",
    "# this is where we create a generator of geom, value pairs to use in rasterizing\n",
    "\n",
    "geom_col = gdf.geometry\n",
    "code_col = gdf['id'].astype(int)\n",
    "\n",
    "shapes = ((geom,value) for geom, value in zip(geom_col, code_col))\n",
    "\n",
    "in_situ_arr = features.rasterize(shapes=shapes,\n",
    "                                 fill=-999,\n",
    "                                 out=dst_arr,\n",
    "                                 transform=dst.transform,\n",
    "                                 all_touched=False)\n",
    "\n",
    "dst.write_band(1, in_situ_arr)\n",
    "\n",
    "# Close rasterio objects\n",
    "src.close()\n",
    "dst.close()\n",
    "\n",
    "print(f'Rasterize is done : {in_situ_file_tif}')"
   ]
  },
  {
   "cell_type": "code",
   "execution_count": 16,
   "metadata": {},
   "outputs": [
    {
     "data": {
      "image/png": "[encoded data removed]",
      "text/plain": [
       "<Figure size 720x720 with 1 Axes>"
      ]
     },
     "metadata": {
      "needs_background": "light"
     },
     "output_type": "display_data"
    }
   ],
   "source": [
    "fig, ax = plt.subplots(1, 1, figsize=(10,10))\n",
    "\n",
    "rasterio.plot.show(in_situ_arr, ax=ax)\n",
    "\n",
    "plt.box(False)"
   ]
  },
  {
   "cell_type": "markdown",
   "metadata": {},
   "source": [
    "### 3.3 Count number of pixels for each polygons"
   ]
  },
  {
   "cell_type": "code",
   "execution_count": 17,
   "metadata": {},
   "outputs": [
    {
     "data": {
      "text/html": [
       "<div>\n",
       "<style scoped>\n",
       "    .dataframe tbody tr th:only-of-type {\n",
       "        vertical-align: middle;\n",
       "    }\n",
       "\n",
       "    .dataframe tbody tr th {\n",
       "        vertical-align: top;\n",
       "    }\n",
       "\n",
       "    .dataframe thead th {\n",
       "        text-align: right;\n",
       "    }\n",
       "</style>\n",
       "<table border=\"1\" class=\"dataframe\">\n",
       "  <thead>\n",
       "    <tr style=\"text-align: right;\">\n",
       "      <th></th>\n",
       "      <th>id</th>\n",
       "      <th>pix_count</th>\n",
       "    </tr>\n",
       "  </thead>\n",
       "  <tbody>\n",
       "    <tr>\n",
       "      <th>0</th>\n",
       "      <td>-999</td>\n",
       "      <td>-12677</td>\n",
       "    </tr>\n",
       "    <tr>\n",
       "      <th>1</th>\n",
       "      <td>1</td>\n",
       "      <td>2</td>\n",
       "    </tr>\n",
       "    <tr>\n",
       "      <th>2</th>\n",
       "      <td>3</td>\n",
       "      <td>17</td>\n",
       "    </tr>\n",
       "    <tr>\n",
       "      <th>3</th>\n",
       "      <td>4</td>\n",
       "      <td>146</td>\n",
       "    </tr>\n",
       "    <tr>\n",
       "      <th>4</th>\n",
       "      <td>5</td>\n",
       "      <td>18</td>\n",
       "    </tr>\n",
       "    <tr>\n",
       "      <th>...</th>\n",
       "      <td>...</td>\n",
       "      <td>...</td>\n",
       "    </tr>\n",
       "    <tr>\n",
       "      <th>600</th>\n",
       "      <td>728</td>\n",
       "      <td>77</td>\n",
       "    </tr>\n",
       "    <tr>\n",
       "      <th>601</th>\n",
       "      <td>729</td>\n",
       "      <td>23</td>\n",
       "    </tr>\n",
       "    <tr>\n",
       "      <th>602</th>\n",
       "      <td>730</td>\n",
       "      <td>82</td>\n",
       "    </tr>\n",
       "    <tr>\n",
       "      <th>603</th>\n",
       "      <td>731</td>\n",
       "      <td>47</td>\n",
       "    </tr>\n",
       "    <tr>\n",
       "      <th>604</th>\n",
       "      <td>732</td>\n",
       "      <td>44</td>\n",
       "    </tr>\n",
       "  </tbody>\n",
       "</table>\n",
       "<p>605 rows × 2 columns</p>\n",
       "</div>"
      ],
      "text/plain": [
       "      id  pix_count\n",
       "0   -999     -12677\n",
       "1      1          2\n",
       "2      3         17\n",
       "3      4        146\n",
       "4      5         18\n",
       "..   ...        ...\n",
       "600  728         77\n",
       "601  729         23\n",
       "602  730         82\n",
       "603  731         47\n",
       "604  732         44\n",
       "\n",
       "[605 rows x 2 columns]"
      ]
     },
     "metadata": {},
     "output_type": "display_data"
    }
   ],
   "source": [
    "unique, counts = np.unique(in_situ_arr, return_counts=True)\n",
    "pix_count_df = pd.DataFrame(zip(unique, counts), columns=['id','pix_count'], dtype='int16')\n",
    "\n",
    "display(pix_count_df)"
   ]
  },
  {
   "cell_type": "markdown",
   "metadata": {},
   "source": [
    "### 3.4 Merge pixels count with polygons informations"
   ]
  },
  {
   "cell_type": "code",
   "execution_count": 18,
   "metadata": {},
   "outputs": [
    {
     "data": {
      "text/html": [
       "<div>\n",
       "<style scoped>\n",
       "    .dataframe tbody tr th:only-of-type {\n",
       "        vertical-align: middle;\n",
       "    }\n",
       "\n",
       "    .dataframe tbody tr th {\n",
       "        vertical-align: top;\n",
       "    }\n",
       "\n",
       "    .dataframe thead th {\n",
       "        text-align: right;\n",
       "    }\n",
       "</style>\n",
       "<table border=\"1\" class=\"dataframe\">\n",
       "  <thead>\n",
       "    <tr style=\"text-align: right;\">\n",
       "      <th></th>\n",
       "      <th>id</th>\n",
       "      <th>sub_nb</th>\n",
       "      <th>sub</th>\n",
       "      <th>grp_nb</th>\n",
       "      <th>grp</th>\n",
       "      <th>class_nb</th>\n",
       "      <th>class</th>\n",
       "      <th>lc_nb</th>\n",
       "      <th>lc</th>\n",
       "      <th>geometry</th>\n",
       "      <th>area</th>\n",
       "      <th>pix_count</th>\n",
       "    </tr>\n",
       "  </thead>\n",
       "  <tbody>\n",
       "    <tr>\n",
       "      <th>0</th>\n",
       "      <td>0</td>\n",
       "      <td>3199</td>\n",
       "      <td>Grassland and meadows</td>\n",
       "      <td>31</td>\n",
       "      <td>Grassland and meadows</td>\n",
       "      <td>319</td>\n",
       "      <td>Grassland and meadows</td>\n",
       "      <td>3</td>\n",
       "      <td>Grassland and meadows</td>\n",
       "      <td>MULTIPOLYGON (((636113.254 5595481.323, 636113...</td>\n",
       "      <td>0</td>\n",
       "      <td>NaN</td>\n",
       "    </tr>\n",
       "    <tr>\n",
       "      <th>1</th>\n",
       "      <td>1</td>\n",
       "      <td>3199</td>\n",
       "      <td>Grassland and meadows</td>\n",
       "      <td>31</td>\n",
       "      <td>Grassland and meadows</td>\n",
       "      <td>319</td>\n",
       "      <td>Grassland and meadows</td>\n",
       "      <td>3</td>\n",
       "      <td>Grassland and meadows</td>\n",
       "      <td>POLYGON ((629775.101 5593157.573, 629778.482 5...</td>\n",
       "      <td>235</td>\n",
       "      <td>2.0</td>\n",
       "    </tr>\n",
       "    <tr>\n",
       "      <th>2</th>\n",
       "      <td>2</td>\n",
       "      <td>3199</td>\n",
       "      <td>Grassland and meadows</td>\n",
       "      <td>31</td>\n",
       "      <td>Grassland and meadows</td>\n",
       "      <td>319</td>\n",
       "      <td>Grassland and meadows</td>\n",
       "      <td>3</td>\n",
       "      <td>Grassland and meadows</td>\n",
       "      <td>POLYGON ((636748.981 5595728.374, 636750.028 5...</td>\n",
       "      <td>251</td>\n",
       "      <td>NaN</td>\n",
       "    </tr>\n",
       "    <tr>\n",
       "      <th>3</th>\n",
       "      <td>3</td>\n",
       "      <td>3199</td>\n",
       "      <td>Grassland and meadows</td>\n",
       "      <td>31</td>\n",
       "      <td>Grassland and meadows</td>\n",
       "      <td>319</td>\n",
       "      <td>Grassland and meadows</td>\n",
       "      <td>3</td>\n",
       "      <td>Grassland and meadows</td>\n",
       "      <td>MULTIPOLYGON (((630003.573 5594258.004, 630003...</td>\n",
       "      <td>1735</td>\n",
       "      <td>17.0</td>\n",
       "    </tr>\n",
       "    <tr>\n",
       "      <th>4</th>\n",
       "      <td>4</td>\n",
       "      <td>3199</td>\n",
       "      <td>Grassland and meadows</td>\n",
       "      <td>31</td>\n",
       "      <td>Grassland and meadows</td>\n",
       "      <td>319</td>\n",
       "      <td>Grassland and meadows</td>\n",
       "      <td>3</td>\n",
       "      <td>Grassland and meadows</td>\n",
       "      <td>POLYGON ((636962.589 5595674.757, 636966.536 5...</td>\n",
       "      <td>14331</td>\n",
       "      <td>146.0</td>\n",
       "    </tr>\n",
       "  </tbody>\n",
       "</table>\n",
       "</div>"
      ],
      "text/plain": [
       "   id  sub_nb                    sub  grp_nb                    grp  class_nb  \\\n",
       "0   0    3199  Grassland and meadows      31  Grassland and meadows       319   \n",
       "1   1    3199  Grassland and meadows      31  Grassland and meadows       319   \n",
       "2   2    3199  Grassland and meadows      31  Grassland and meadows       319   \n",
       "3   3    3199  Grassland and meadows      31  Grassland and meadows       319   \n",
       "4   4    3199  Grassland and meadows      31  Grassland and meadows       319   \n",
       "\n",
       "                   class  lc_nb                     lc  \\\n",
       "0  Grassland and meadows      3  Grassland and meadows   \n",
       "1  Grassland and meadows      3  Grassland and meadows   \n",
       "2  Grassland and meadows      3  Grassland and meadows   \n",
       "3  Grassland and meadows      3  Grassland and meadows   \n",
       "4  Grassland and meadows      3  Grassland and meadows   \n",
       "\n",
       "                                            geometry   area  pix_count  \n",
       "0  MULTIPOLYGON (((636113.254 5595481.323, 636113...      0        NaN  \n",
       "1  POLYGON ((629775.101 5593157.573, 629778.482 5...    235        2.0  \n",
       "2  POLYGON ((636748.981 5595728.374, 636750.028 5...    251        NaN  \n",
       "3  MULTIPOLYGON (((630003.573 5594258.004, 630003...   1735       17.0  \n",
       "4  POLYGON ((636962.589 5595674.757, 636966.536 5...  14331      146.0  "
      ]
     },
     "metadata": {},
     "output_type": "display_data"
    },
    {
     "name": "stdout",
     "output_type": "stream",
     "text": [
      "There are 629 polygons\n"
     ]
    }
   ],
   "source": [
    "pix_count_gdf = gdf.merge(pix_count_df, on='id', how=\"left\")\n",
    "\n",
    "display(pix_count_gdf.head())\n",
    "\n",
    "print(f'There are {len(pix_count_gdf)} polygons')"
   ]
  },
  {
   "cell_type": "markdown",
   "metadata": {},
   "source": [
    "## 4. Remove unnecessary *in situ* polygons"
   ]
  },
  {
   "cell_type": "markdown",
   "metadata": {},
   "source": [
    "### 4.1 Remove polygons with less than `pix_min` pixels"
   ]
  },
  {
   "cell_type": "code",
   "execution_count": 89,
   "metadata": {},
   "outputs": [
    {
     "name": "stdout",
     "output_type": "stream",
     "text": [
      "There are 583 polygons with more (or equal) than 3 pixels.\n"
     ]
    }
   ],
   "source": [
    "gdf = pix_count_gdf.loc[pix_count_gdf['pix_count'] >= pix_min]\n",
    "\n",
    "gdf = gdf.astype({\"pix_count\": int})\n",
    "\n",
    "print(f'There are {len(gdf)} polygons with more (or equal) than {pix_min} pixels.')"
   ]
  },
  {
   "cell_type": "markdown",
   "metadata": {},
   "source": [
    "### 4.2 Remove polygons from under represented and unwanted classes\n",
    "\n",
    "**Under represented** classes mean the classes with :\n",
    "- not enough pixels - less than `pix_ratio_min`% of the total number of pixels (default : 0.0002%)\n",
    "- not enough polygons - less than `poly_min` polygons (default : 5 polygons)\n",
    "\n",
    "**Unwanted** classes mean the classes we don't want to work with"
   ]
  },
  {
   "cell_type": "code",
   "execution_count": 90,
   "metadata": {},
   "outputs": [
    {
     "data": {
      "text/html": [
       "<div>\n",
       "<style scoped>\n",
       "    .dataframe tbody tr th:only-of-type {\n",
       "        vertical-align: middle;\n",
       "    }\n",
       "\n",
       "    .dataframe tbody tr th {\n",
       "        vertical-align: top;\n",
       "    }\n",
       "\n",
       "    .dataframe thead th {\n",
       "        text-align: right;\n",
       "    }\n",
       "</style>\n",
       "<table border=\"1\" class=\"dataframe\">\n",
       "  <thead>\n",
       "    <tr style=\"text-align: right;\">\n",
       "      <th></th>\n",
       "      <th>sub_nb</th>\n",
       "      <th>sub</th>\n",
       "      <th>pix_count</th>\n",
       "      <th>ratio</th>\n",
       "      <th>poly_count</th>\n",
       "    </tr>\n",
       "  </thead>\n",
       "  <tbody>\n",
       "    <tr>\n",
       "      <th>0</th>\n",
       "      <td>1111</td>\n",
       "      <td>Winter wheat</td>\n",
       "      <td>29633</td>\n",
       "      <td>0.255640</td>\n",
       "      <td>74</td>\n",
       "    </tr>\n",
       "    <tr>\n",
       "      <th>1</th>\n",
       "      <td>3199</td>\n",
       "      <td>Grassland and meadows</td>\n",
       "      <td>23889</td>\n",
       "      <td>0.206087</td>\n",
       "      <td>221</td>\n",
       "    </tr>\n",
       "    <tr>\n",
       "      <th>2</th>\n",
       "      <td>1121</td>\n",
       "      <td>Maize</td>\n",
       "      <td>8667</td>\n",
       "      <td>0.074769</td>\n",
       "      <td>36</td>\n",
       "    </tr>\n",
       "    <tr>\n",
       "      <th>3</th>\n",
       "      <td>1811</td>\n",
       "      <td>Sugar beet</td>\n",
       "      <td>7400</td>\n",
       "      <td>0.063839</td>\n",
       "      <td>21</td>\n",
       "    </tr>\n",
       "    <tr>\n",
       "      <th>4</th>\n",
       "      <td>1152</td>\n",
       "      <td>Barley six-row</td>\n",
       "      <td>6659</td>\n",
       "      <td>0.057446</td>\n",
       "      <td>20</td>\n",
       "    </tr>\n",
       "    <tr>\n",
       "      <th>5</th>\n",
       "      <td>1511</td>\n",
       "      <td>Potatoes</td>\n",
       "      <td>6439</td>\n",
       "      <td>0.055548</td>\n",
       "      <td>14</td>\n",
       "    </tr>\n",
       "    <tr>\n",
       "      <th>6</th>\n",
       "      <td>1192</td>\n",
       "      <td>Other cereals</td>\n",
       "      <td>6117</td>\n",
       "      <td>0.052771</td>\n",
       "      <td>17</td>\n",
       "    </tr>\n",
       "    <tr>\n",
       "      <th>7</th>\n",
       "      <td>1771</td>\n",
       "      <td>Peas</td>\n",
       "      <td>3606</td>\n",
       "      <td>0.031108</td>\n",
       "      <td>10</td>\n",
       "    </tr>\n",
       "    <tr>\n",
       "      <th>8</th>\n",
       "      <td>6999</td>\n",
       "      <td>Forest</td>\n",
       "      <td>3109</td>\n",
       "      <td>0.026821</td>\n",
       "      <td>35</td>\n",
       "    </tr>\n",
       "    <tr>\n",
       "      <th>9</th>\n",
       "      <td>1923</td>\n",
       "      <td>Flax, hemp and other similar crops</td>\n",
       "      <td>2810</td>\n",
       "      <td>0.024241</td>\n",
       "      <td>8</td>\n",
       "    </tr>\n",
       "    <tr>\n",
       "      <th>10</th>\n",
       "      <td>0</td>\n",
       "      <td>Unknown</td>\n",
       "      <td>2542</td>\n",
       "      <td>0.021929</td>\n",
       "      <td>8</td>\n",
       "    </tr>\n",
       "    <tr>\n",
       "      <th>11</th>\n",
       "      <td>2111</td>\n",
       "      <td>No citrus fruits trees</td>\n",
       "      <td>1850</td>\n",
       "      <td>0.015960</td>\n",
       "      <td>4</td>\n",
       "    </tr>\n",
       "    <tr>\n",
       "      <th>12</th>\n",
       "      <td>1435</td>\n",
       "      <td>Rapeseed</td>\n",
       "      <td>1826</td>\n",
       "      <td>0.015753</td>\n",
       "      <td>6</td>\n",
       "    </tr>\n",
       "    <tr>\n",
       "      <th>13</th>\n",
       "      <td>8111</td>\n",
       "      <td>Urban</td>\n",
       "      <td>1795</td>\n",
       "      <td>0.015485</td>\n",
       "      <td>36</td>\n",
       "    </tr>\n",
       "    <tr>\n",
       "      <th>14</th>\n",
       "      <td>1151</td>\n",
       "      <td>Barley two-row</td>\n",
       "      <td>1660</td>\n",
       "      <td>0.014321</td>\n",
       "      <td>3</td>\n",
       "    </tr>\n",
       "    <tr>\n",
       "      <th>15</th>\n",
       "      <td>1217</td>\n",
       "      <td>Chicory</td>\n",
       "      <td>1333</td>\n",
       "      <td>0.011500</td>\n",
       "      <td>2</td>\n",
       "    </tr>\n",
       "    <tr>\n",
       "      <th>16</th>\n",
       "      <td>1992</td>\n",
       "      <td>Crop combinations</td>\n",
       "      <td>956</td>\n",
       "      <td>0.008247</td>\n",
       "      <td>5</td>\n",
       "    </tr>\n",
       "    <tr>\n",
       "      <th>17</th>\n",
       "      <td>1711</td>\n",
       "      <td>Beans</td>\n",
       "      <td>835</td>\n",
       "      <td>0.007203</td>\n",
       "      <td>2</td>\n",
       "    </tr>\n",
       "    <tr>\n",
       "      <th>18</th>\n",
       "      <td>1171</td>\n",
       "      <td>Oats</td>\n",
       "      <td>776</td>\n",
       "      <td>0.006694</td>\n",
       "      <td>8</td>\n",
       "    </tr>\n",
       "    <tr>\n",
       "      <th>19</th>\n",
       "      <td>1231</td>\n",
       "      <td>Carrots</td>\n",
       "      <td>723</td>\n",
       "      <td>0.006237</td>\n",
       "      <td>2</td>\n",
       "    </tr>\n",
       "    <tr>\n",
       "      <th>20</th>\n",
       "      <td>1911</td>\n",
       "      <td>Alfalfa</td>\n",
       "      <td>554</td>\n",
       "      <td>0.004779</td>\n",
       "      <td>7</td>\n",
       "    </tr>\n",
       "    <tr>\n",
       "      <th>21</th>\n",
       "      <td>1112</td>\n",
       "      <td>Spring wheat</td>\n",
       "      <td>405</td>\n",
       "      <td>0.003494</td>\n",
       "      <td>3</td>\n",
       "    </tr>\n",
       "    <tr>\n",
       "      <th>22</th>\n",
       "      <td>2112</td>\n",
       "      <td>No citrus fruits shrub</td>\n",
       "      <td>389</td>\n",
       "      <td>0.003356</td>\n",
       "      <td>3</td>\n",
       "    </tr>\n",
       "    <tr>\n",
       "      <th>23</th>\n",
       "      <td>1999</td>\n",
       "      <td>Other annual crops</td>\n",
       "      <td>327</td>\n",
       "      <td>0.002821</td>\n",
       "      <td>1</td>\n",
       "    </tr>\n",
       "    <tr>\n",
       "      <th>24</th>\n",
       "      <td>8411</td>\n",
       "      <td>Greenhouses</td>\n",
       "      <td>252</td>\n",
       "      <td>0.002174</td>\n",
       "      <td>5</td>\n",
       "    </tr>\n",
       "    <tr>\n",
       "      <th>25</th>\n",
       "      <td>1161</td>\n",
       "      <td>Rye</td>\n",
       "      <td>230</td>\n",
       "      <td>0.001984</td>\n",
       "      <td>2</td>\n",
       "    </tr>\n",
       "    <tr>\n",
       "      <th>26</th>\n",
       "      <td>9212</td>\n",
       "      <td>Permanent rivers and streams</td>\n",
       "      <td>208</td>\n",
       "      <td>0.001794</td>\n",
       "      <td>4</td>\n",
       "    </tr>\n",
       "    <tr>\n",
       "      <th>27</th>\n",
       "      <td>2211</td>\n",
       "      <td>Vineyards</td>\n",
       "      <td>178</td>\n",
       "      <td>0.001536</td>\n",
       "      <td>4</td>\n",
       "    </tr>\n",
       "    <tr>\n",
       "      <th>28</th>\n",
       "      <td>4111</td>\n",
       "      <td>Fallows 1 year</td>\n",
       "      <td>151</td>\n",
       "      <td>0.001303</td>\n",
       "      <td>12</td>\n",
       "    </tr>\n",
       "    <tr>\n",
       "      <th>29</th>\n",
       "      <td>1115</td>\n",
       "      <td>Triticale</td>\n",
       "      <td>149</td>\n",
       "      <td>0.001285</td>\n",
       "      <td>1</td>\n",
       "    </tr>\n",
       "    <tr>\n",
       "      <th>30</th>\n",
       "      <td>1761</td>\n",
       "      <td>Lupins</td>\n",
       "      <td>140</td>\n",
       "      <td>0.001208</td>\n",
       "      <td>2</td>\n",
       "    </tr>\n",
       "    <tr>\n",
       "      <th>31</th>\n",
       "      <td>1931</td>\n",
       "      <td>Medicinal, aromatic, pesticidal or similar crops</td>\n",
       "      <td>138</td>\n",
       "      <td>0.001191</td>\n",
       "      <td>1</td>\n",
       "    </tr>\n",
       "    <tr>\n",
       "      <th>32</th>\n",
       "      <td>1291</td>\n",
       "      <td>Other vegetables</td>\n",
       "      <td>71</td>\n",
       "      <td>0.000613</td>\n",
       "      <td>1</td>\n",
       "    </tr>\n",
       "    <tr>\n",
       "      <th>33</th>\n",
       "      <td>7211</td>\n",
       "      <td>Bare soils</td>\n",
       "      <td>61</td>\n",
       "      <td>0.000526</td>\n",
       "      <td>2</td>\n",
       "    </tr>\n",
       "    <tr>\n",
       "      <th>34</th>\n",
       "      <td>2999</td>\n",
       "      <td>Other perennial crops</td>\n",
       "      <td>21</td>\n",
       "      <td>0.000181</td>\n",
       "      <td>1</td>\n",
       "    </tr>\n",
       "    <tr>\n",
       "      <th>35</th>\n",
       "      <td>1212</td>\n",
       "      <td>Asparagus</td>\n",
       "      <td>18</td>\n",
       "      <td>0.000155</td>\n",
       "      <td>2</td>\n",
       "    </tr>\n",
       "  </tbody>\n",
       "</table>\n",
       "</div>"
      ],
      "text/plain": [
       "    sub_nb                                               sub  pix_count  \\\n",
       "0     1111                                      Winter wheat      29633   \n",
       "1     3199                             Grassland and meadows      23889   \n",
       "2     1121                                             Maize       8667   \n",
       "3     1811                                        Sugar beet       7400   \n",
       "4     1152                                    Barley six-row       6659   \n",
       "5     1511                                          Potatoes       6439   \n",
       "6     1192                                     Other cereals       6117   \n",
       "7     1771                                              Peas       3606   \n",
       "8     6999                                            Forest       3109   \n",
       "9     1923                Flax, hemp and other similar crops       2810   \n",
       "10       0                                           Unknown       2542   \n",
       "11    2111                            No citrus fruits trees       1850   \n",
       "12    1435                                          Rapeseed       1826   \n",
       "13    8111                                             Urban       1795   \n",
       "14    1151                                    Barley two-row       1660   \n",
       "15    1217                                           Chicory       1333   \n",
       "16    1992                                 Crop combinations        956   \n",
       "17    1711                                             Beans        835   \n",
       "18    1171                                              Oats        776   \n",
       "19    1231                                           Carrots        723   \n",
       "20    1911                                           Alfalfa        554   \n",
       "21    1112                                      Spring wheat        405   \n",
       "22    2112                            No citrus fruits shrub        389   \n",
       "23    1999                                Other annual crops        327   \n",
       "24    8411                                       Greenhouses        252   \n",
       "25    1161                                               Rye        230   \n",
       "26    9212                      Permanent rivers and streams        208   \n",
       "27    2211                                         Vineyards        178   \n",
       "28    4111                                    Fallows 1 year        151   \n",
       "29    1115                                         Triticale        149   \n",
       "30    1761                                            Lupins        140   \n",
       "31    1931  Medicinal, aromatic, pesticidal or similar crops        138   \n",
       "32    1291                                  Other vegetables         71   \n",
       "33    7211                                        Bare soils         61   \n",
       "34    2999                             Other perennial crops         21   \n",
       "35    1212                                         Asparagus         18   \n",
       "\n",
       "       ratio  poly_count  \n",
       "0   0.255640          74  \n",
       "1   0.206087         221  \n",
       "2   0.074769          36  \n",
       "3   0.063839          21  \n",
       "4   0.057446          20  \n",
       "5   0.055548          14  \n",
       "6   0.052771          17  \n",
       "7   0.031108          10  \n",
       "8   0.026821          35  \n",
       "9   0.024241           8  \n",
       "10  0.021929           8  \n",
       "11  0.015960           4  \n",
       "12  0.015753           6  \n",
       "13  0.015485          36  \n",
       "14  0.014321           3  \n",
       "15  0.011500           2  \n",
       "16  0.008247           5  \n",
       "17  0.007203           2  \n",
       "18  0.006694           8  \n",
       "19  0.006237           2  \n",
       "20  0.004779           7  \n",
       "21  0.003494           3  \n",
       "22  0.003356           3  \n",
       "23  0.002821           1  \n",
       "24  0.002174           5  \n",
       "25  0.001984           2  \n",
       "26  0.001794           4  \n",
       "27  0.001536           4  \n",
       "28  0.001303          12  \n",
       "29  0.001285           1  \n",
       "30  0.001208           2  \n",
       "31  0.001191           1  \n",
       "32  0.000613           1  \n",
       "33  0.000526           2  \n",
       "34  0.000181           1  \n",
       "35  0.000155           2  "
      ]
     },
     "metadata": {},
     "output_type": "display_data"
    }
   ],
   "source": [
    "# Get number of pixels per class\n",
    "\n",
    "pix_per_class_df = gdf.groupby([field_classif_code, field_classif_name])['pix_count'].agg('sum').to_frame().reset_index()\n",
    "pix_per_class_df = pix_per_class_df.sort_values(by='pix_count', ascending=False)\n",
    "pix_per_class_df['ratio'] = pix_per_class_df['pix_count'] / pix_per_class_df['pix_count'].sum()\n",
    "\n",
    "# Get number of polygons per class\n",
    "\n",
    "poly_per_class_df = gdf.groupby([field_classif_code, field_classif_name])[field_classif_code].agg('count').reset_index(name='poly_count')\n",
    "poly_per_class_df = poly_per_class_df.sort_values(by='poly_count', ascending=False)\n",
    "\n",
    "# Merge 2 previous dataframe in a single one\n",
    "pix_poly_per_class_df = pix_per_class_df.merge(poly_per_class_df, on=[field_classif_code, field_classif_name], how=\"outer\")\n",
    "\n",
    "display(pix_poly_per_class_df)"
   ]
  },
  {
   "cell_type": "code",
   "execution_count": 91,
   "metadata": {},
   "outputs": [
    {
     "name": "stdout",
     "output_type": "stream",
     "text": [
      "---> 16 well-represented classes (>= 0.0002% & >= 5 polygons) :\n",
      " {1152, 1923, 4111, 1811, 1171, 1111, 6999, 8411, 1435, 1121, 1511, 1192, 1771, 8111, 1911, 3199}\n",
      "---> 18 under-represented classes (< 0.0002% & < 5 polygons) :\n",
      " {2112, 1217, 1761, 2211, 1161, 1931, 1291, 7211, 1231, 1711, 1999, 1212, 2999, 1112, 1115, 9212, 2111, 1151}\n",
      "---> 2 unwanted classes :\n",
      " {0, 1992}\n"
     ]
    },
    {
     "data": {
      "text/html": [
       "<div>\n",
       "<style scoped>\n",
       "    .dataframe tbody tr th:only-of-type {\n",
       "        vertical-align: middle;\n",
       "    }\n",
       "\n",
       "    .dataframe tbody tr th {\n",
       "        vertical-align: top;\n",
       "    }\n",
       "\n",
       "    .dataframe thead th {\n",
       "        text-align: right;\n",
       "    }\n",
       "</style>\n",
       "<table border=\"1\" class=\"dataframe\">\n",
       "  <thead>\n",
       "    <tr style=\"text-align: right;\">\n",
       "      <th></th>\n",
       "      <th>id</th>\n",
       "      <th>sub_nb</th>\n",
       "      <th>sub</th>\n",
       "      <th>grp_nb</th>\n",
       "      <th>grp</th>\n",
       "      <th>class_nb</th>\n",
       "      <th>class</th>\n",
       "      <th>lc_nb</th>\n",
       "      <th>lc</th>\n",
       "      <th>geometry</th>\n",
       "      <th>area</th>\n",
       "      <th>pix_count</th>\n",
       "    </tr>\n",
       "  </thead>\n",
       "  <tbody>\n",
       "    <tr>\n",
       "      <th>3</th>\n",
       "      <td>3</td>\n",
       "      <td>3199</td>\n",
       "      <td>Grassland and meadows</td>\n",
       "      <td>31</td>\n",
       "      <td>Grassland and meadows</td>\n",
       "      <td>319</td>\n",
       "      <td>Grassland and meadows</td>\n",
       "      <td>3</td>\n",
       "      <td>Grassland and meadows</td>\n",
       "      <td>MULTIPOLYGON (((630003.573 5594258.004, 630003...</td>\n",
       "      <td>1735</td>\n",
       "      <td>17</td>\n",
       "    </tr>\n",
       "    <tr>\n",
       "      <th>4</th>\n",
       "      <td>4</td>\n",
       "      <td>3199</td>\n",
       "      <td>Grassland and meadows</td>\n",
       "      <td>31</td>\n",
       "      <td>Grassland and meadows</td>\n",
       "      <td>319</td>\n",
       "      <td>Grassland and meadows</td>\n",
       "      <td>3</td>\n",
       "      <td>Grassland and meadows</td>\n",
       "      <td>POLYGON ((636962.589 5595674.757, 636966.536 5...</td>\n",
       "      <td>14331</td>\n",
       "      <td>146</td>\n",
       "    </tr>\n",
       "    <tr>\n",
       "      <th>5</th>\n",
       "      <td>5</td>\n",
       "      <td>3199</td>\n",
       "      <td>Grassland and meadows</td>\n",
       "      <td>31</td>\n",
       "      <td>Grassland and meadows</td>\n",
       "      <td>319</td>\n",
       "      <td>Grassland and meadows</td>\n",
       "      <td>3</td>\n",
       "      <td>Grassland and meadows</td>\n",
       "      <td>POLYGON ((635692.119 5593303.601, 635688.405 5...</td>\n",
       "      <td>1768</td>\n",
       "      <td>18</td>\n",
       "    </tr>\n",
       "    <tr>\n",
       "      <th>6</th>\n",
       "      <td>6</td>\n",
       "      <td>3199</td>\n",
       "      <td>Grassland and meadows</td>\n",
       "      <td>31</td>\n",
       "      <td>Grassland and meadows</td>\n",
       "      <td>319</td>\n",
       "      <td>Grassland and meadows</td>\n",
       "      <td>3</td>\n",
       "      <td>Grassland and meadows</td>\n",
       "      <td>POLYGON ((627911.368 5595749.375, 627942.033 5...</td>\n",
       "      <td>7828</td>\n",
       "      <td>79</td>\n",
       "    </tr>\n",
       "    <tr>\n",
       "      <th>7</th>\n",
       "      <td>8</td>\n",
       "      <td>3199</td>\n",
       "      <td>Grassland and meadows</td>\n",
       "      <td>31</td>\n",
       "      <td>Grassland and meadows</td>\n",
       "      <td>319</td>\n",
       "      <td>Grassland and meadows</td>\n",
       "      <td>3</td>\n",
       "      <td>Grassland and meadows</td>\n",
       "      <td>POLYGON ((633236.525 5596165.100, 633397.286 5...</td>\n",
       "      <td>3197</td>\n",
       "      <td>39</td>\n",
       "    </tr>\n",
       "  </tbody>\n",
       "</table>\n",
       "</div>"
      ],
      "text/plain": [
       "   id  sub_nb                    sub  grp_nb                    grp  class_nb  \\\n",
       "3   3    3199  Grassland and meadows      31  Grassland and meadows       319   \n",
       "4   4    3199  Grassland and meadows      31  Grassland and meadows       319   \n",
       "5   5    3199  Grassland and meadows      31  Grassland and meadows       319   \n",
       "6   6    3199  Grassland and meadows      31  Grassland and meadows       319   \n",
       "7   8    3199  Grassland and meadows      31  Grassland and meadows       319   \n",
       "\n",
       "                   class  lc_nb                     lc  \\\n",
       "3  Grassland and meadows      3  Grassland and meadows   \n",
       "4  Grassland and meadows      3  Grassland and meadows   \n",
       "5  Grassland and meadows      3  Grassland and meadows   \n",
       "6  Grassland and meadows      3  Grassland and meadows   \n",
       "7  Grassland and meadows      3  Grassland and meadows   \n",
       "\n",
       "                                            geometry   area  pix_count  \n",
       "3  MULTIPOLYGON (((630003.573 5594258.004, 630003...   1735         17  \n",
       "4  POLYGON ((636962.589 5595674.757, 636966.536 5...  14331        146  \n",
       "5  POLYGON ((635692.119 5593303.601, 635688.405 5...   1768         18  \n",
       "6  POLYGON ((627911.368 5595749.375, 627942.033 5...   7828         79  \n",
       "7  POLYGON ((633236.525 5596165.100, 633397.286 5...   3197         39  "
      ]
     },
     "metadata": {},
     "output_type": "display_data"
    },
    {
     "name": "stdout",
     "output_type": "stream",
     "text": [
      "There are 530 polygons from well-represented classes.\n"
     ]
    }
   ],
   "source": [
    "list_all_classes             = set(pix_poly_per_class_df[field_classif_code].values)\n",
    "list_under_represented_class = set(pix_poly_per_class_df.loc[(pix_poly_per_class_df['ratio'] < pix_ratio_min) | (pix_poly_per_class_df['poly_count'] < poly_min)][field_classif_code].values)\n",
    "list_unwanted_class          = {0, 1992}\n",
    "\n",
    "list_well_represented_class = set(list_all_classes - list_under_represented_class - list_unwanted_class)\n",
    "\n",
    "print(f'---> {len(list_well_represented_class)} well-represented classes (>= {pix_ratio_min}% & >= {poly_min} polygons) :\\n {list_well_represented_class}')\n",
    "print(f'---> {len(list_under_represented_class)} under-represented classes (< {pix_ratio_min}% & < {poly_min} polygons) :\\n {list_under_represented_class}')\n",
    "print(f'---> {len(list_unwanted_class)} unwanted classes :\\n {list_unwanted_class}')\n",
    "\n",
    "gdf = gdf.loc[gdf[field_classif_code].isin(list_well_represented_class)]\n",
    "\n",
    "display(gdf.head())\n",
    "\n",
    "print(f'There are {len(gdf)} polygons from well-represented classes.')"
   ]
  },
  {
   "cell_type": "markdown",
   "metadata": {},
   "source": [
    "## Plot histogram"
   ]
  },
  {
   "cell_type": "code",
   "execution_count": 99,
   "metadata": {},
   "outputs": [
    {
     "data": {
      "text/html": [
       "<div>\n",
       "<style scoped>\n",
       "    .dataframe tbody tr th:only-of-type {\n",
       "        vertical-align: middle;\n",
       "    }\n",
       "\n",
       "    .dataframe tbody tr th {\n",
       "        vertical-align: top;\n",
       "    }\n",
       "\n",
       "    .dataframe thead th {\n",
       "        text-align: right;\n",
       "    }\n",
       "</style>\n",
       "<table border=\"1\" class=\"dataframe\">\n",
       "  <thead>\n",
       "    <tr style=\"text-align: right;\">\n",
       "      <th></th>\n",
       "      <th>sub_nb</th>\n",
       "      <th>sub</th>\n",
       "      <th>pix_count</th>\n",
       "      <th>ratio</th>\n",
       "      <th>poly_count</th>\n",
       "    </tr>\n",
       "  </thead>\n",
       "  <tbody>\n",
       "    <tr>\n",
       "      <th>0</th>\n",
       "      <td>1111</td>\n",
       "      <td>Winter wheat</td>\n",
       "      <td>29633</td>\n",
       "      <td>0.255640</td>\n",
       "      <td>74</td>\n",
       "    </tr>\n",
       "    <tr>\n",
       "      <th>1</th>\n",
       "      <td>3199</td>\n",
       "      <td>Grassland and meadows</td>\n",
       "      <td>23889</td>\n",
       "      <td>0.206087</td>\n",
       "      <td>221</td>\n",
       "    </tr>\n",
       "    <tr>\n",
       "      <th>2</th>\n",
       "      <td>1121</td>\n",
       "      <td>Maize</td>\n",
       "      <td>8667</td>\n",
       "      <td>0.074769</td>\n",
       "      <td>36</td>\n",
       "    </tr>\n",
       "    <tr>\n",
       "      <th>3</th>\n",
       "      <td>1811</td>\n",
       "      <td>Sugar beet</td>\n",
       "      <td>7400</td>\n",
       "      <td>0.063839</td>\n",
       "      <td>21</td>\n",
       "    </tr>\n",
       "    <tr>\n",
       "      <th>4</th>\n",
       "      <td>1152</td>\n",
       "      <td>Barley six-row</td>\n",
       "      <td>6659</td>\n",
       "      <td>0.057446</td>\n",
       "      <td>20</td>\n",
       "    </tr>\n",
       "    <tr>\n",
       "      <th>5</th>\n",
       "      <td>1511</td>\n",
       "      <td>Potatoes</td>\n",
       "      <td>6439</td>\n",
       "      <td>0.055548</td>\n",
       "      <td>14</td>\n",
       "    </tr>\n",
       "    <tr>\n",
       "      <th>6</th>\n",
       "      <td>1192</td>\n",
       "      <td>Other cereals</td>\n",
       "      <td>6117</td>\n",
       "      <td>0.052771</td>\n",
       "      <td>17</td>\n",
       "    </tr>\n",
       "    <tr>\n",
       "      <th>7</th>\n",
       "      <td>1771</td>\n",
       "      <td>Peas</td>\n",
       "      <td>3606</td>\n",
       "      <td>0.031108</td>\n",
       "      <td>10</td>\n",
       "    </tr>\n",
       "    <tr>\n",
       "      <th>8</th>\n",
       "      <td>6999</td>\n",
       "      <td>Forest</td>\n",
       "      <td>3109</td>\n",
       "      <td>0.026821</td>\n",
       "      <td>35</td>\n",
       "    </tr>\n",
       "    <tr>\n",
       "      <th>9</th>\n",
       "      <td>1923</td>\n",
       "      <td>Flax, hemp and other similar crops</td>\n",
       "      <td>2810</td>\n",
       "      <td>0.024241</td>\n",
       "      <td>8</td>\n",
       "    </tr>\n",
       "    <tr>\n",
       "      <th>12</th>\n",
       "      <td>1435</td>\n",
       "      <td>Rapeseed</td>\n",
       "      <td>1826</td>\n",
       "      <td>0.015753</td>\n",
       "      <td>6</td>\n",
       "    </tr>\n",
       "    <tr>\n",
       "      <th>13</th>\n",
       "      <td>8111</td>\n",
       "      <td>Urban</td>\n",
       "      <td>1795</td>\n",
       "      <td>0.015485</td>\n",
       "      <td>36</td>\n",
       "    </tr>\n",
       "    <tr>\n",
       "      <th>18</th>\n",
       "      <td>1171</td>\n",
       "      <td>Oats</td>\n",
       "      <td>776</td>\n",
       "      <td>0.006694</td>\n",
       "      <td>8</td>\n",
       "    </tr>\n",
       "    <tr>\n",
       "      <th>20</th>\n",
       "      <td>1911</td>\n",
       "      <td>Alfalfa</td>\n",
       "      <td>554</td>\n",
       "      <td>0.004779</td>\n",
       "      <td>7</td>\n",
       "    </tr>\n",
       "    <tr>\n",
       "      <th>24</th>\n",
       "      <td>8411</td>\n",
       "      <td>Greenhouses</td>\n",
       "      <td>252</td>\n",
       "      <td>0.002174</td>\n",
       "      <td>5</td>\n",
       "    </tr>\n",
       "    <tr>\n",
       "      <th>28</th>\n",
       "      <td>4111</td>\n",
       "      <td>Fallows 1 year</td>\n",
       "      <td>151</td>\n",
       "      <td>0.001303</td>\n",
       "      <td>12</td>\n",
       "    </tr>\n",
       "  </tbody>\n",
       "</table>\n",
       "</div>"
      ],
      "text/plain": [
       "    sub_nb                                 sub  pix_count     ratio  \\\n",
       "0     1111                        Winter wheat      29633  0.255640   \n",
       "1     3199               Grassland and meadows      23889  0.206087   \n",
       "2     1121                               Maize       8667  0.074769   \n",
       "3     1811                          Sugar beet       7400  0.063839   \n",
       "4     1152                      Barley six-row       6659  0.057446   \n",
       "5     1511                            Potatoes       6439  0.055548   \n",
       "6     1192                       Other cereals       6117  0.052771   \n",
       "7     1771                                Peas       3606  0.031108   \n",
       "8     6999                              Forest       3109  0.026821   \n",
       "9     1923  Flax, hemp and other similar crops       2810  0.024241   \n",
       "12    1435                            Rapeseed       1826  0.015753   \n",
       "13    8111                               Urban       1795  0.015485   \n",
       "18    1171                                Oats        776  0.006694   \n",
       "20    1911                             Alfalfa        554  0.004779   \n",
       "24    8411                         Greenhouses        252  0.002174   \n",
       "28    4111                      Fallows 1 year        151  0.001303   \n",
       "\n",
       "    poly_count  \n",
       "0           74  \n",
       "1          221  \n",
       "2           36  \n",
       "3           21  \n",
       "4           20  \n",
       "5           14  \n",
       "6           17  \n",
       "7           10  \n",
       "8           35  \n",
       "9            8  \n",
       "12           6  \n",
       "13          36  \n",
       "18           8  \n",
       "20           7  \n",
       "24           5  \n",
       "28          12  "
      ]
     },
     "metadata": {},
     "output_type": "display_data"
    }
   ],
   "source": [
    "df = pix_poly_per_class_df.loc[pix_poly_per_class_df[field_classif_code].isin(list_well_represented_class)]\n",
    "\n",
    "display(df)\n"
   ]
  },
  {
   "cell_type": "code",
   "execution_count": 98,
   "metadata": {},
   "outputs": [
    {
     "data": {
      "application/vnd.plotly.v1+json": {
       "config": {
        "plotlyServerURL": "https://plot.ly"
       },
       "data": [
        {
         "alignmentgroup": "True",
         "hovertemplate": "sub=%{x}<br>pix_count=%{y}<br>poly_count=%{text}<extra></extra>",
         "legendgroup": "",
         "marker": {
          "color": "#636efa",
          "pattern": {
           "shape": ""
          }
         },
         "name": "",
         "offsetgroup": "",
         "orientation": "v",
         "showlegend": false,
         "text": [
          74,
          221,
          36,
          21,
          20,
          14,
          17,
          10,
          35,
          8,
          6,
          36,
          8,
          7,
          5,
          12
         ],
         "textposition": "auto",
         "type": "bar",
         "x": [
          "Winter wheat",
          "Grassland and meadows",
          "Maize",
          "Sugar beet",
          "Barley six-row",
          "Potatoes",
          "Other cereals",
          "Peas",
          "Forest",
          "Flax, hemp and other similar crops",
          "Rapeseed",
          "Urban",
          "Oats",
          "Alfalfa",
          "Greenhouses",
          "Fallows 1 year"
         ],
         "xaxis": "x",
         "y": [
          29633,
          23889,
          8667,
          7400,
          6659,
          6439,
          6117,
          3606,
          3109,
          2810,
          1826,
          1795,
          776,
          554,
          252,
          151
         ],
         "yaxis": "y"
        }
       ],
       "layout": {
        "barmode": "relative",
        "legend": {
         "tracegroupgap": 0
        },
        "margin": {
         "t": 60
        },
        "template": {
         "data": {
          "bar": [
           {
            "error_x": {
             "color": "#2a3f5f"
            },
            "error_y": {
             "color": "#2a3f5f"
            },
            "marker": {
             "line": {
              "color": "#E5ECF6",
              "width": 0.5
             },
             "pattern": {
              "fillmode": "overlay",
              "size": 10,
              "solidity": 0.2
             }
            },
            "type": "bar"
           }
          ],
          "barpolar": [
           {
            "marker": {
             "line": {
              "color": "#E5ECF6",
              "width": 0.5
             },
             "pattern": {
              "fillmode": "overlay",
              "size": 10,
              "solidity": 0.2
             }
            },
            "type": "barpolar"
           }
          ],
          "carpet": [
           {
            "aaxis": {
             "endlinecolor": "#2a3f5f",
             "gridcolor": "white",
             "linecolor": "white",
             "minorgridcolor": "white",
             "startlinecolor": "#2a3f5f"
            },
            "baxis": {
             "endlinecolor": "#2a3f5f",
             "gridcolor": "white",
             "linecolor": "white",
             "minorgridcolor": "white",
             "startlinecolor": "#2a3f5f"
            },
            "type": "carpet"
           }
          ],
          "choropleth": [
           {
            "colorbar": {
             "outlinewidth": 0,
             "ticks": ""
            },
            "type": "choropleth"
           }
          ],
          "contour": [
           {
            "colorbar": {
             "outlinewidth": 0,
             "ticks": ""
            },
            "colorscale": [
             [
              0,
              "#0d0887"
             ],
             [
              0.1111111111111111,
              "#46039f"
             ],
             [
              0.2222222222222222,
              "#7201a8"
             ],
             [
              0.3333333333333333,
              "#9c179e"
             ],
             [
              0.4444444444444444,
              "#bd3786"
             ],
             [
              0.5555555555555556,
              "#d8576b"
             ],
             [
              0.6666666666666666,
              "#ed7953"
             ],
             [
              0.7777777777777778,
              "#fb9f3a"
             ],
             [
              0.8888888888888888,
              "#fdca26"
             ],
             [
              1,
              "#f0f921"
             ]
            ],
            "type": "contour"
           }
          ],
          "contourcarpet": [
           {
            "colorbar": {
             "outlinewidth": 0,
             "ticks": ""
            },
            "type": "contourcarpet"
           }
          ],
          "heatmap": [
           {
            "colorbar": {
             "outlinewidth": 0,
             "ticks": ""
            },
            "colorscale": [
             [
              0,
              "#0d0887"
             ],
             [
              0.1111111111111111,
              "#46039f"
             ],
             [
              0.2222222222222222,
              "#7201a8"
             ],
             [
              0.3333333333333333,
              "#9c179e"
             ],
             [
              0.4444444444444444,
              "#bd3786"
             ],
             [
              0.5555555555555556,
              "#d8576b"
             ],
             [
              0.6666666666666666,
              "#ed7953"
             ],
             [
              0.7777777777777778,
              "#fb9f3a"
             ],
             [
              0.8888888888888888,
              "#fdca26"
             ],
             [
              1,
              "#f0f921"
             ]
            ],
            "type": "heatmap"
           }
          ],
          "heatmapgl": [
           {
            "colorbar": {
             "outlinewidth": 0,
             "ticks": ""
            },
            "colorscale": [
             [
              0,
              "#0d0887"
             ],
             [
              0.1111111111111111,
              "#46039f"
             ],
             [
              0.2222222222222222,
              "#7201a8"
             ],
             [
              0.3333333333333333,
              "#9c179e"
             ],
             [
              0.4444444444444444,
              "#bd3786"
             ],
             [
              0.5555555555555556,
              "#d8576b"
             ],
             [
              0.6666666666666666,
              "#ed7953"
             ],
             [
              0.7777777777777778,
              "#fb9f3a"
             ],
             [
              0.8888888888888888,
              "#fdca26"
             ],
             [
              1,
              "#f0f921"
             ]
            ],
            "type": "heatmapgl"
           }
          ],
          "histogram": [
           {
            "marker": {
             "pattern": {
              "fillmode": "overlay",
              "size": 10,
              "solidity": 0.2
             }
            },
            "type": "histogram"
           }
          ],
          "histogram2d": [
           {
            "colorbar": {
             "outlinewidth": 0,
             "ticks": ""
            },
            "colorscale": [
             [
              0,
              "#0d0887"
             ],
             [
              0.1111111111111111,
              "#46039f"
             ],
             [
              0.2222222222222222,
              "#7201a8"
             ],
             [
              0.3333333333333333,
              "#9c179e"
             ],
             [
              0.4444444444444444,
              "#bd3786"
             ],
             [
              0.5555555555555556,
              "#d8576b"
             ],
             [
              0.6666666666666666,
              "#ed7953"
             ],
             [
              0.7777777777777778,
              "#fb9f3a"
             ],
             [
              0.8888888888888888,
              "#fdca26"
             ],
             [
              1,
              "#f0f921"
             ]
            ],
            "type": "histogram2d"
           }
          ],
          "histogram2dcontour": [
           {
            "colorbar": {
             "outlinewidth": 0,
             "ticks": ""
            },
            "colorscale": [
             [
              0,
              "#0d0887"
             ],
             [
              0.1111111111111111,
              "#46039f"
             ],
             [
              0.2222222222222222,
              "#7201a8"
             ],
             [
              0.3333333333333333,
              "#9c179e"
             ],
             [
              0.4444444444444444,
              "#bd3786"
             ],
             [
              0.5555555555555556,
              "#d8576b"
             ],
             [
              0.6666666666666666,
              "#ed7953"
             ],
             [
              0.7777777777777778,
              "#fb9f3a"
             ],
             [
              0.8888888888888888,
              "#fdca26"
             ],
             [
              1,
              "#f0f921"
             ]
            ],
            "type": "histogram2dcontour"
           }
          ],
          "mesh3d": [
           {
            "colorbar": {
             "outlinewidth": 0,
             "ticks": ""
            },
            "type": "mesh3d"
           }
          ],
          "parcoords": [
           {
            "line": {
             "colorbar": {
              "outlinewidth": 0,
              "ticks": ""
             }
            },
            "type": "parcoords"
           }
          ],
          "pie": [
           {
            "automargin": true,
            "type": "pie"
           }
          ],
          "scatter": [
           {
            "marker": {
             "colorbar": {
              "outlinewidth": 0,
              "ticks": ""
             }
            },
            "type": "scatter"
           }
          ],
          "scatter3d": [
           {
            "line": {
             "colorbar": {
              "outlinewidth": 0,
              "ticks": ""
             }
            },
            "marker": {
             "colorbar": {
              "outlinewidth": 0,
              "ticks": ""
             }
            },
            "type": "scatter3d"
           }
          ],
          "scattercarpet": [
           {
            "marker": {
             "colorbar": {
              "outlinewidth": 0,
              "ticks": ""
             }
            },
            "type": "scattercarpet"
           }
          ],
          "scattergeo": [
           {
            "marker": {
             "colorbar": {
              "outlinewidth": 0,
              "ticks": ""
             }
            },
            "type": "scattergeo"
           }
          ],
          "scattergl": [
           {
            "marker": {
             "colorbar": {
              "outlinewidth": 0,
              "ticks": ""
             }
            },
            "type": "scattergl"
           }
          ],
          "scattermapbox": [
           {
            "marker": {
             "colorbar": {
              "outlinewidth": 0,
              "ticks": ""
             }
            },
            "type": "scattermapbox"
           }
          ],
          "scatterpolar": [
           {
            "marker": {
             "colorbar": {
              "outlinewidth": 0,
              "ticks": ""
             }
            },
            "type": "scatterpolar"
           }
          ],
          "scatterpolargl": [
           {
            "marker": {
             "colorbar": {
              "outlinewidth": 0,
              "ticks": ""
             }
            },
            "type": "scatterpolargl"
           }
          ],
          "scatterternary": [
           {
            "marker": {
             "colorbar": {
              "outlinewidth": 0,
              "ticks": ""
             }
            },
            "type": "scatterternary"
           }
          ],
          "surface": [
           {
            "colorbar": {
             "outlinewidth": 0,
             "ticks": ""
            },
            "colorscale": [
             [
              0,
              "#0d0887"
             ],
             [
              0.1111111111111111,
              "#46039f"
             ],
             [
              0.2222222222222222,
              "#7201a8"
             ],
             [
              0.3333333333333333,
              "#9c179e"
             ],
             [
              0.4444444444444444,
              "#bd3786"
             ],
             [
              0.5555555555555556,
              "#d8576b"
             ],
             [
              0.6666666666666666,
              "#ed7953"
             ],
             [
              0.7777777777777778,
              "#fb9f3a"
             ],
             [
              0.8888888888888888,
              "#fdca26"
             ],
             [
              1,
              "#f0f921"
             ]
            ],
            "type": "surface"
           }
          ],
          "table": [
           {
            "cells": {
             "fill": {
              "color": "#EBF0F8"
             },
             "line": {
              "color": "white"
             }
            },
            "header": {
             "fill": {
              "color": "#C8D4E3"
             },
             "line": {
              "color": "white"
             }
            },
            "type": "table"
           }
          ]
         },
         "layout": {
          "annotationdefaults": {
           "arrowcolor": "#2a3f5f",
           "arrowhead": 0,
           "arrowwidth": 1
          },
          "autotypenumbers": "strict",
          "coloraxis": {
           "colorbar": {
            "outlinewidth": 0,
            "ticks": ""
           }
          },
          "colorscale": {
           "diverging": [
            [
             0,
             "#8e0152"
            ],
            [
             0.1,
             "#c51b7d"
            ],
            [
             0.2,
             "#de77ae"
            ],
            [
             0.3,
             "#f1b6da"
            ],
            [
             0.4,
             "#fde0ef"
            ],
            [
             0.5,
             "#f7f7f7"
            ],
            [
             0.6,
             "#e6f5d0"
            ],
            [
             0.7,
             "#b8e186"
            ],
            [
             0.8,
             "#7fbc41"
            ],
            [
             0.9,
             "#4d9221"
            ],
            [
             1,
             "#276419"
            ]
           ],
           "sequential": [
            [
             0,
             "#0d0887"
            ],
            [
             0.1111111111111111,
             "#46039f"
            ],
            [
             0.2222222222222222,
             "#7201a8"
            ],
            [
             0.3333333333333333,
             "#9c179e"
            ],
            [
             0.4444444444444444,
             "#bd3786"
            ],
            [
             0.5555555555555556,
             "#d8576b"
            ],
            [
             0.6666666666666666,
             "#ed7953"
            ],
            [
             0.7777777777777778,
             "#fb9f3a"
            ],
            [
             0.8888888888888888,
             "#fdca26"
            ],
            [
             1,
             "#f0f921"
            ]
           ],
           "sequentialminus": [
            [
             0,
             "#0d0887"
            ],
            [
             0.1111111111111111,
             "#46039f"
            ],
            [
             0.2222222222222222,
             "#7201a8"
            ],
            [
             0.3333333333333333,
             "#9c179e"
            ],
            [
             0.4444444444444444,
             "#bd3786"
            ],
            [
             0.5555555555555556,
             "#d8576b"
            ],
            [
             0.6666666666666666,
             "#ed7953"
            ],
            [
             0.7777777777777778,
             "#fb9f3a"
            ],
            [
             0.8888888888888888,
             "#fdca26"
            ],
            [
             1,
             "#f0f921"
            ]
           ]
          },
          "colorway": [
           "#636efa",
           "#EF553B",
           "#00cc96",
           "#ab63fa",
           "#FFA15A",
           "#19d3f3",
           "#FF6692",
           "#B6E880",
           "#FF97FF",
           "#FECB52"
          ],
          "font": {
           "color": "#2a3f5f"
          },
          "geo": {
           "bgcolor": "white",
           "lakecolor": "white",
           "landcolor": "#E5ECF6",
           "showlakes": true,
           "showland": true,
           "subunitcolor": "white"
          },
          "hoverlabel": {
           "align": "left"
          },
          "hovermode": "closest",
          "mapbox": {
           "style": "light"
          },
          "paper_bgcolor": "white",
          "plot_bgcolor": "#E5ECF6",
          "polar": {
           "angularaxis": {
            "gridcolor": "white",
            "linecolor": "white",
            "ticks": ""
           },
           "bgcolor": "#E5ECF6",
           "radialaxis": {
            "gridcolor": "white",
            "linecolor": "white",
            "ticks": ""
           }
          },
          "scene": {
           "xaxis": {
            "backgroundcolor": "#E5ECF6",
            "gridcolor": "white",
            "gridwidth": 2,
            "linecolor": "white",
            "showbackground": true,
            "ticks": "",
            "zerolinecolor": "white"
           },
           "yaxis": {
            "backgroundcolor": "#E5ECF6",
            "gridcolor": "white",
            "gridwidth": 2,
            "linecolor": "white",
            "showbackground": true,
            "ticks": "",
            "zerolinecolor": "white"
           },
           "zaxis": {
            "backgroundcolor": "#E5ECF6",
            "gridcolor": "white",
            "gridwidth": 2,
            "linecolor": "white",
            "showbackground": true,
            "ticks": "",
            "zerolinecolor": "white"
           }
          },
          "shapedefaults": {
           "line": {
            "color": "#2a3f5f"
           }
          },
          "ternary": {
           "aaxis": {
            "gridcolor": "white",
            "linecolor": "white",
            "ticks": ""
           },
           "baxis": {
            "gridcolor": "white",
            "linecolor": "white",
            "ticks": ""
           },
           "bgcolor": "#E5ECF6",
           "caxis": {
            "gridcolor": "white",
            "linecolor": "white",
            "ticks": ""
           }
          },
          "title": {
           "x": 0.05
          },
          "xaxis": {
           "automargin": true,
           "gridcolor": "white",
           "linecolor": "white",
           "ticks": "",
           "title": {
            "standoff": 15
           },
           "zerolinecolor": "white",
           "zerolinewidth": 2
          },
          "yaxis": {
           "automargin": true,
           "gridcolor": "white",
           "linecolor": "white",
           "ticks": "",
           "title": {
            "standoff": 15
           },
           "zerolinecolor": "white",
           "zerolinewidth": 2
          }
         }
        },
        "xaxis": {
         "anchor": "y",
         "domain": [
          0,
          1
         ],
         "title": {
          "text": "sub"
         }
        },
        "yaxis": {
         "anchor": "x",
         "domain": [
          0,
          1
         ],
         "title": {
          "text": "pix_count"
         }
        }
       }
      },
      "text/html": [
       "<div>                            <div id=\"d0e1c37a-64bc-4a63-8c51-004efc3cd0bf\" class=\"plotly-graph-div\" style=\"height:525px; width:100%;\"></div>            <script type=\"text/javascript\">                require([\"plotly\"], function(Plotly) {                    window.PLOTLYENV=window.PLOTLYENV || {};                                    if (document.getElementById(\"d0e1c37a-64bc-4a63-8c51-004efc3cd0bf\")) {                    Plotly.newPlot(                        \"d0e1c37a-64bc-4a63-8c51-004efc3cd0bf\",                        [{\"alignmentgroup\":\"True\",\"hovertemplate\":\"sub=%{x}<br>pix_count=%{y}<br>poly_count=%{text}<extra></extra>\",\"legendgroup\":\"\",\"marker\":{\"color\":\"#636efa\",\"pattern\":{\"shape\":\"\"}},\"name\":\"\",\"offsetgroup\":\"\",\"orientation\":\"v\",\"showlegend\":false,\"text\":[74.0,221.0,36.0,21.0,20.0,14.0,17.0,10.0,35.0,8.0,6.0,36.0,8.0,7.0,5.0,12.0],\"textposition\":\"auto\",\"type\":\"bar\",\"x\":[\"Winter wheat\",\"Grassland and meadows\",\"Maize\",\"Sugar beet\",\"Barley six-row\",\"Potatoes\",\"Other cereals\",\"Peas\",\"Forest\",\"Flax, hemp and other similar crops\",\"Rapeseed\",\"Urban\",\"Oats\",\"Alfalfa\",\"Greenhouses\",\"Fallows 1 year\"],\"xaxis\":\"x\",\"y\":[29633,23889,8667,7400,6659,6439,6117,3606,3109,2810,1826,1795,776,554,252,151],\"yaxis\":\"y\"}],                        {\"barmode\":\"relative\",\"legend\":{\"tracegroupgap\":0},\"margin\":{\"t\":60},\"template\":{\"data\":{\"bar\":[{\"error_x\":{\"color\":\"#2a3f5f\"},\"error_y\":{\"color\":\"#2a3f5f\"},\"marker\":{\"line\":{\"color\":\"#E5ECF6\",\"width\":0.5},\"pattern\":{\"fillmode\":\"overlay\",\"size\":10,\"solidity\":0.2}},\"type\":\"bar\"}],\"barpolar\":[{\"marker\":{\"line\":{\"color\":\"#E5ECF6\",\"width\":0.5},\"pattern\":{\"fillmode\":\"overlay\",\"size\":10,\"solidity\":0.2}},\"type\":\"barpolar\"}],\"carpet\":[{\"aaxis\":{\"endlinecolor\":\"#2a3f5f\",\"gridcolor\":\"white\",\"linecolor\":\"white\",\"minorgridcolor\":\"white\",\"startlinecolor\":\"#2a3f5f\"},\"baxis\":{\"endlinecolor\":\"#2a3f5f\",\"gridcolor\":\"white\",\"linecolor\":\"white\",\"minorgridcolor\":\"white\",\"startlinecolor\":\"#2a3f5f\"},\"type\":\"carpet\"}],\"choropleth\":[{\"colorbar\":{\"outlinewidth\":0,\"ticks\":\"\"},\"type\":\"choropleth\"}],\"contour\":[{\"colorbar\":{\"outlinewidth\":0,\"ticks\":\"\"},\"colorscale\":[[0.0,\"#0d0887\"],[0.1111111111111111,\"#46039f\"],[0.2222222222222222,\"#7201a8\"],[0.3333333333333333,\"#9c179e\"],[0.4444444444444444,\"#bd3786\"],[0.5555555555555556,\"#d8576b\"],[0.6666666666666666,\"#ed7953\"],[0.7777777777777778,\"#fb9f3a\"],[0.8888888888888888,\"#fdca26\"],[1.0,\"#f0f921\"]],\"type\":\"contour\"}],\"contourcarpet\":[{\"colorbar\":{\"outlinewidth\":0,\"ticks\":\"\"},\"type\":\"contourcarpet\"}],\"heatmap\":[{\"colorbar\":{\"outlinewidth\":0,\"ticks\":\"\"},\"colorscale\":[[0.0,\"#0d0887\"],[0.1111111111111111,\"#46039f\"],[0.2222222222222222,\"#7201a8\"],[0.3333333333333333,\"#9c179e\"],[0.4444444444444444,\"#bd3786\"],[0.5555555555555556,\"#d8576b\"],[0.6666666666666666,\"#ed7953\"],[0.7777777777777778,\"#fb9f3a\"],[0.8888888888888888,\"#fdca26\"],[1.0,\"#f0f921\"]],\"type\":\"heatmap\"}],\"heatmapgl\":[{\"colorbar\":{\"outlinewidth\":0,\"ticks\":\"\"},\"colorscale\":[[0.0,\"#0d0887\"],[0.1111111111111111,\"#46039f\"],[0.2222222222222222,\"#7201a8\"],[0.3333333333333333,\"#9c179e\"],[0.4444444444444444,\"#bd3786\"],[0.5555555555555556,\"#d8576b\"],[0.6666666666666666,\"#ed7953\"],[0.7777777777777778,\"#fb9f3a\"],[0.8888888888888888,\"#fdca26\"],[1.0,\"#f0f921\"]],\"type\":\"heatmapgl\"}],\"histogram\":[{\"marker\":{\"pattern\":{\"fillmode\":\"overlay\",\"size\":10,\"solidity\":0.2}},\"type\":\"histogram\"}],\"histogram2d\":[{\"colorbar\":{\"outlinewidth\":0,\"ticks\":\"\"},\"colorscale\":[[0.0,\"#0d0887\"],[0.1111111111111111,\"#46039f\"],[0.2222222222222222,\"#7201a8\"],[0.3333333333333333,\"#9c179e\"],[0.4444444444444444,\"#bd3786\"],[0.5555555555555556,\"#d8576b\"],[0.6666666666666666,\"#ed7953\"],[0.7777777777777778,\"#fb9f3a\"],[0.8888888888888888,\"#fdca26\"],[1.0,\"#f0f921\"]],\"type\":\"histogram2d\"}],\"histogram2dcontour\":[{\"colorbar\":{\"outlinewidth\":0,\"ticks\":\"\"},\"colorscale\":[[0.0,\"#0d0887\"],[0.1111111111111111,\"#46039f\"],[0.2222222222222222,\"#7201a8\"],[0.3333333333333333,\"#9c179e\"],[0.4444444444444444,\"#bd3786\"],[0.5555555555555556,\"#d8576b\"],[0.6666666666666666,\"#ed7953\"],[0.7777777777777778,\"#fb9f3a\"],[0.8888888888888888,\"#fdca26\"],[1.0,\"#f0f921\"]],\"type\":\"histogram2dcontour\"}],\"mesh3d\":[{\"colorbar\":{\"outlinewidth\":0,\"ticks\":\"\"},\"type\":\"mesh3d\"}],\"parcoords\":[{\"line\":{\"colorbar\":{\"outlinewidth\":0,\"ticks\":\"\"}},\"type\":\"parcoords\"}],\"pie\":[{\"automargin\":true,\"type\":\"pie\"}],\"scatter\":[{\"marker\":{\"colorbar\":{\"outlinewidth\":0,\"ticks\":\"\"}},\"type\":\"scatter\"}],\"scatter3d\":[{\"line\":{\"colorbar\":{\"outlinewidth\":0,\"ticks\":\"\"}},\"marker\":{\"colorbar\":{\"outlinewidth\":0,\"ticks\":\"\"}},\"type\":\"scatter3d\"}],\"scattercarpet\":[{\"marker\":{\"colorbar\":{\"outlinewidth\":0,\"ticks\":\"\"}},\"type\":\"scattercarpet\"}],\"scattergeo\":[{\"marker\":{\"colorbar\":{\"outlinewidth\":0,\"ticks\":\"\"}},\"type\":\"scattergeo\"}],\"scattergl\":[{\"marker\":{\"colorbar\":{\"outlinewidth\":0,\"ticks\":\"\"}},\"type\":\"scattergl\"}],\"scattermapbox\":[{\"marker\":{\"colorbar\":{\"outlinewidth\":0,\"ticks\":\"\"}},\"type\":\"scattermapbox\"}],\"scatterpolar\":[{\"marker\":{\"colorbar\":{\"outlinewidth\":0,\"ticks\":\"\"}},\"type\":\"scatterpolar\"}],\"scatterpolargl\":[{\"marker\":{\"colorbar\":{\"outlinewidth\":0,\"ticks\":\"\"}},\"type\":\"scatterpolargl\"}],\"scatterternary\":[{\"marker\":{\"colorbar\":{\"outlinewidth\":0,\"ticks\":\"\"}},\"type\":\"scatterternary\"}],\"surface\":[{\"colorbar\":{\"outlinewidth\":0,\"ticks\":\"\"},\"colorscale\":[[0.0,\"#0d0887\"],[0.1111111111111111,\"#46039f\"],[0.2222222222222222,\"#7201a8\"],[0.3333333333333333,\"#9c179e\"],[0.4444444444444444,\"#bd3786\"],[0.5555555555555556,\"#d8576b\"],[0.6666666666666666,\"#ed7953\"],[0.7777777777777778,\"#fb9f3a\"],[0.8888888888888888,\"#fdca26\"],[1.0,\"#f0f921\"]],\"type\":\"surface\"}],\"table\":[{\"cells\":{\"fill\":{\"color\":\"#EBF0F8\"},\"line\":{\"color\":\"white\"}},\"header\":{\"fill\":{\"color\":\"#C8D4E3\"},\"line\":{\"color\":\"white\"}},\"type\":\"table\"}]},\"layout\":{\"annotationdefaults\":{\"arrowcolor\":\"#2a3f5f\",\"arrowhead\":0,\"arrowwidth\":1},\"autotypenumbers\":\"strict\",\"coloraxis\":{\"colorbar\":{\"outlinewidth\":0,\"ticks\":\"\"}},\"colorscale\":{\"diverging\":[[0,\"#8e0152\"],[0.1,\"#c51b7d\"],[0.2,\"#de77ae\"],[0.3,\"#f1b6da\"],[0.4,\"#fde0ef\"],[0.5,\"#f7f7f7\"],[0.6,\"#e6f5d0\"],[0.7,\"#b8e186\"],[0.8,\"#7fbc41\"],[0.9,\"#4d9221\"],[1,\"#276419\"]],\"sequential\":[[0.0,\"#0d0887\"],[0.1111111111111111,\"#46039f\"],[0.2222222222222222,\"#7201a8\"],[0.3333333333333333,\"#9c179e\"],[0.4444444444444444,\"#bd3786\"],[0.5555555555555556,\"#d8576b\"],[0.6666666666666666,\"#ed7953\"],[0.7777777777777778,\"#fb9f3a\"],[0.8888888888888888,\"#fdca26\"],[1.0,\"#f0f921\"]],\"sequentialminus\":[[0.0,\"#0d0887\"],[0.1111111111111111,\"#46039f\"],[0.2222222222222222,\"#7201a8\"],[0.3333333333333333,\"#9c179e\"],[0.4444444444444444,\"#bd3786\"],[0.5555555555555556,\"#d8576b\"],[0.6666666666666666,\"#ed7953\"],[0.7777777777777778,\"#fb9f3a\"],[0.8888888888888888,\"#fdca26\"],[1.0,\"#f0f921\"]]},\"colorway\":[\"#636efa\",\"#EF553B\",\"#00cc96\",\"#ab63fa\",\"#FFA15A\",\"#19d3f3\",\"#FF6692\",\"#B6E880\",\"#FF97FF\",\"#FECB52\"],\"font\":{\"color\":\"#2a3f5f\"},\"geo\":{\"bgcolor\":\"white\",\"lakecolor\":\"white\",\"landcolor\":\"#E5ECF6\",\"showlakes\":true,\"showland\":true,\"subunitcolor\":\"white\"},\"hoverlabel\":{\"align\":\"left\"},\"hovermode\":\"closest\",\"mapbox\":{\"style\":\"light\"},\"paper_bgcolor\":\"white\",\"plot_bgcolor\":\"#E5ECF6\",\"polar\":{\"angularaxis\":{\"gridcolor\":\"white\",\"linecolor\":\"white\",\"ticks\":\"\"},\"bgcolor\":\"#E5ECF6\",\"radialaxis\":{\"gridcolor\":\"white\",\"linecolor\":\"white\",\"ticks\":\"\"}},\"scene\":{\"xaxis\":{\"backgroundcolor\":\"#E5ECF6\",\"gridcolor\":\"white\",\"gridwidth\":2,\"linecolor\":\"white\",\"showbackground\":true,\"ticks\":\"\",\"zerolinecolor\":\"white\"},\"yaxis\":{\"backgroundcolor\":\"#E5ECF6\",\"gridcolor\":\"white\",\"gridwidth\":2,\"linecolor\":\"white\",\"showbackground\":true,\"ticks\":\"\",\"zerolinecolor\":\"white\"},\"zaxis\":{\"backgroundcolor\":\"#E5ECF6\",\"gridcolor\":\"white\",\"gridwidth\":2,\"linecolor\":\"white\",\"showbackground\":true,\"ticks\":\"\",\"zerolinecolor\":\"white\"}},\"shapedefaults\":{\"line\":{\"color\":\"#2a3f5f\"}},\"ternary\":{\"aaxis\":{\"gridcolor\":\"white\",\"linecolor\":\"white\",\"ticks\":\"\"},\"baxis\":{\"gridcolor\":\"white\",\"linecolor\":\"white\",\"ticks\":\"\"},\"bgcolor\":\"#E5ECF6\",\"caxis\":{\"gridcolor\":\"white\",\"linecolor\":\"white\",\"ticks\":\"\"}},\"title\":{\"x\":0.05},\"xaxis\":{\"automargin\":true,\"gridcolor\":\"white\",\"linecolor\":\"white\",\"ticks\":\"\",\"title\":{\"standoff\":15},\"zerolinecolor\":\"white\",\"zerolinewidth\":2},\"yaxis\":{\"automargin\":true,\"gridcolor\":\"white\",\"linecolor\":\"white\",\"ticks\":\"\",\"title\":{\"standoff\":15},\"zerolinecolor\":\"white\",\"zerolinewidth\":2}}},\"xaxis\":{\"anchor\":\"y\",\"domain\":[0.0,1.0],\"title\":{\"text\":\"sub\"}},\"yaxis\":{\"anchor\":\"x\",\"domain\":[0.0,1.0],\"title\":{\"text\":\"pix_count\"}}},                        {\"responsive\": true}                    ).then(function(){\n",
       "                            \n",
       "var gd = document.getElementById('d0e1c37a-64bc-4a63-8c51-004efc3cd0bf');\n",
       "var x = new MutationObserver(function (mutations, observer) {{\n",
       "        var display = window.getComputedStyle(gd).display;\n",
       "        if (!display || display === 'none') {{\n",
       "            console.log([gd, 'removed!']);\n",
       "            Plotly.purge(gd);\n",
       "            observer.disconnect();\n",
       "        }}\n",
       "}});\n",
       "\n",
       "// Listen for the removal of the full notebook cells\n",
       "var notebookContainer = gd.closest('#notebook-container');\n",
       "if (notebookContainer) {{\n",
       "    x.observe(notebookContainer, {childList: true});\n",
       "}}\n",
       "\n",
       "// Listen for the clearing of the current output cell\n",
       "var outputEl = gd.closest('.output');\n",
       "if (outputEl) {{\n",
       "    x.observe(outputEl, {childList: true});\n",
       "}}\n",
       "\n",
       "                        })                };                });            </script>        </div>"
      ]
     },
     "metadata": {},
     "output_type": "display_data"
    }
   ],
   "source": [
    "fig = px.bar(df,\n",
    "             x=df[field_classif_name],\n",
    "             y=df['pix_count'],\n",
    "             text='poly_count')\n",
    "\n",
    "fig.show()"
   ]
  },
  {
   "cell_type": "markdown",
   "metadata": {},
   "source": [
    "## Write geodataframe into a shapefile"
   ]
  },
  {
   "cell_type": "code",
   "execution_count": 92,
   "metadata": {},
   "outputs": [
    {
     "name": "stdout",
     "output_type": "stream",
     "text": [
      "New shapefile has been created : /export/miro/ndeffense/LBRAT2104/GROUP_X/WORK/IN_SITU/NAMUR_2020_IN_SITU_ROI_prepared.shp\n"
     ]
    }
   ],
   "source": [
    "in_situ_prepared_file = f'{in_situ_path}{site}_{year}_IN_SITU_ROI_prepared.shp'\n",
    "\n",
    "gdf.to_file(in_situ_prepared_file)\n",
    "\n",
    "print(f'New shapefile has been created : {in_situ_prepared_file}')"
   ]
  }
 ],
 "metadata": {
  "interpreter": {
   "hash": "31f2aee4e71d21fbe5cf8b01ff0e069b9275f58929596ceb00d14d90e3e16cd6"
  },
  "kernelspec": {
   "display_name": "Python 3.6.12 64-bit",
   "language": "python",
   "name": "python3"
  },
  "language_info": {
   "codemirror_mode": {
    "name": "ipython",
    "version": 3
   },
   "file_extension": ".py",
   "mimetype": "text/x-python",
   "name": "python",
   "nbconvert_exporter": "python",
   "pygments_lexer": "ipython3",
   "version": "3.6.12"
  },
  "orig_nbformat": 4
 },
 "nbformat": 4,
 "nbformat_minor": 2
}
