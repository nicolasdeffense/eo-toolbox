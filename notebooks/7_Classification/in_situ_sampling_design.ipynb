{
 "metadata": {
  "language_info": {
   "codemirror_mode": {
    "name": "ipython",
    "version": 3
   },
   "file_extension": ".py",
   "mimetype": "text/x-python",
   "name": "python",
   "nbconvert_exporter": "python",
   "pygments_lexer": "ipython3",
   "version": "3.6.10"
  },
  "orig_nbformat": 2,
  "kernelspec": {
   "name": "python3610jvsc74a57bd0d44a822591a3717b24d3edf137db462f6168d56f0b857c252a9153258824edbd",
   "display_name": "Python 3.6.10 64-bit ('python_3_6': conda)"
  }
 },
 "nbformat": 4,
 "nbformat_minor": 2,
 "cells": [
  {
   "source": [
    "# In-situ prepration for Classification"
   ],
   "cell_type": "markdown",
   "metadata": {}
  },
  {
   "cell_type": "code",
   "execution_count": 1,
   "metadata": {},
   "outputs": [
    {
     "output_type": "stream",
     "name": "stdout",
     "text": [
      "Pandas    : 1.1.5\nGeoPandas : 0.8.1\n"
     ]
    }
   ],
   "source": [
    "import glob, os\n",
    "import numpy as np\n",
    "import pandas as pd\n",
    "import geopandas as gpd\n",
    "\n",
    "from shapely.geometry.polygon import Polygon\n",
    "from shapely.geometry.multipolygon import MultiPolygon\n",
    "\n",
    "import rasterstats\n",
    "from rasterstats import zonal_stats\n",
    "from pathlib import Path\n",
    "from IPython.display import display\n",
    "\n",
    "print(f'Pandas    : {pd.__version__}')\n",
    "print(f'GeoPandas : {gpd.__version__}')"
   ]
  },
  {
   "source": [
    "## Set paths for input and output directories\n",
    "\n",
    "Create directories if there are missing using `Path` and `mkdir`"
   ],
   "cell_type": "markdown",
   "metadata": {}
  },
  {
   "cell_type": "code",
   "execution_count": 4,
   "metadata": {},
   "outputs": [
    {
     "output_type": "stream",
     "name": "stdout",
     "text": [
      "In-Situ data path is set to : /Volumes/nbdid-sst-lbrat2104/GROUP_X/WORK/IN_SITU/\nIn-Situ data for classification path is set to : /Volumes/nbdid-sst-lbrat2104/GROUP_X/WORK/IN_SITU_SD/\n"
     ]
    }
   ],
   "source": [
    "#computer_path = 'X:/'\n",
    "computer_path = '/Volumes/nbdid-sst-lbrat2104/'\n",
    "grp_letter    = 'X'\n",
    "\n",
    "# Directory for all work files\n",
    "work_path = f'{computer_path}GROUP_{grp_letter}/WORK/'\n",
    "\n",
    "# ----- #\n",
    "# INPUT #\n",
    "# ----- #\n",
    "\n",
    "clipped_path = f'{work_path}2_L2A_CLIPPED/'\n",
    "in_situ_path = f'{work_path}IN_SITU/'\n",
    "\n",
    "# ------ #\n",
    "# OUTPUT #\n",
    "# ------ #\n",
    "\n",
    "in_situ_SD_path = f'{work_path}IN_SITU_SD/'\n",
    "\n",
    "Path(in_situ_SD_path).mkdir(parents=True, exist_ok=True)\n",
    "\n",
    "\n",
    "print(f'In-Situ data path is set to : {in_situ_path}')\n",
    "print(f'In-Situ data for classification path is set to : {in_situ_SD_path}')\n"
   ]
  },
  {
   "source": [
    "## 1. Prepare in-situ dataset\n",
    "\n",
    "<img src=\"figures/prepare_in_situ.png\" width=\"10000\">\n",
    "\n",
    "### Set up filenames and parameters"
   ],
   "cell_type": "markdown",
   "metadata": {}
  },
  {
   "cell_type": "code",
   "execution_count": 14,
   "metadata": {},
   "outputs": [
    {
     "output_type": "stream",
     "name": "stdout",
     "text": [
      "epsg:32631\n"
     ]
    },
    {
     "output_type": "display_data",
     "data": {
      "text/plain": "     ID  CROP                     LC  CODE  IRRIGATION  \\\n0  1877     1  Maize (for livestock)   201           0   \n1  1878     1  Common wheat (winter)   311           0   \n2  1879     1  Maize (for livestock)   201           0   \n3  1880     1  Grassland (temporary)    62           0   \n4  3251     1        Barley (winter)   321           0   \n\n                                            geometry  \n0  POLYGON ((634719.076 5591248.019, 634788.109 5...  \n1  POLYGON ((634996.603 5591774.690, 635051.974 5...  \n2  POLYGON ((635196.857 5591331.590, 635199.724 5...  \n3  POLYGON ((635003.339 5591080.041, 635021.807 5...  \n4  POLYGON ((634708.850 5590509.262, 634710.400 5...  ",
      "text/html": "<div>\n<style scoped>\n    .dataframe tbody tr th:only-of-type {\n        vertical-align: middle;\n    }\n\n    .dataframe tbody tr th {\n        vertical-align: top;\n    }\n\n    .dataframe thead th {\n        text-align: right;\n    }\n</style>\n<table border=\"1\" class=\"dataframe\">\n  <thead>\n    <tr style=\"text-align: right;\">\n      <th></th>\n      <th>ID</th>\n      <th>CROP</th>\n      <th>LC</th>\n      <th>CODE</th>\n      <th>IRRIGATION</th>\n      <th>geometry</th>\n    </tr>\n  </thead>\n  <tbody>\n    <tr>\n      <th>0</th>\n      <td>1877</td>\n      <td>1</td>\n      <td>Maize (for livestock)</td>\n      <td>201</td>\n      <td>0</td>\n      <td>POLYGON ((634719.076 5591248.019, 634788.109 5...</td>\n    </tr>\n    <tr>\n      <th>1</th>\n      <td>1878</td>\n      <td>1</td>\n      <td>Common wheat (winter)</td>\n      <td>311</td>\n      <td>0</td>\n      <td>POLYGON ((634996.603 5591774.690, 635051.974 5...</td>\n    </tr>\n    <tr>\n      <th>2</th>\n      <td>1879</td>\n      <td>1</td>\n      <td>Maize (for livestock)</td>\n      <td>201</td>\n      <td>0</td>\n      <td>POLYGON ((635196.857 5591331.590, 635199.724 5...</td>\n    </tr>\n    <tr>\n      <th>3</th>\n      <td>1880</td>\n      <td>1</td>\n      <td>Grassland (temporary)</td>\n      <td>62</td>\n      <td>0</td>\n      <td>POLYGON ((635003.339 5591080.041, 635021.807 5...</td>\n    </tr>\n    <tr>\n      <th>4</th>\n      <td>3251</td>\n      <td>1</td>\n      <td>Barley (winter)</td>\n      <td>321</td>\n      <td>0</td>\n      <td>POLYGON ((634708.850 5590509.262, 634710.400 5...</td>\n    </tr>\n  </tbody>\n</table>\n</div>"
     },
     "metadata": {}
    },
    {
     "output_type": "stream",
     "name": "stdout",
     "text": [
      "Raster template file : /Volumes/nbdid-sst-lbrat2104/GROUP_X/WORK/2_L2A_CLIPPED/T31UFS_20200116T105309_B02_10m_ROI.tif\n"
     ]
    }
   ],
   "source": [
    "# In-Situ original dataset\n",
    "# ------------------------\n",
    "\n",
    "in_situ_name = 'WALLONIA_2018_IN_SITU_ROI'\n",
    "\n",
    "in_situ_shp       = f'{in_situ_path}{in_situ_name}.shp'\n",
    "in_situ_count_shp = f'{in_situ_SD_path}{in_situ_name}_pixCount.shp'\n",
    "\n",
    "\n",
    "gdf = gpd.read_file(in_situ_shp)\n",
    "\n",
    "epsg_code = gdf.crs\n",
    "\n",
    "print(epsg_code)\n",
    "\n",
    "display(gdf.head())\n",
    "\n",
    "\n",
    "# Raster template with no NaN (before applying SCL)\n",
    "# -------------------------------------------------\n",
    "\n",
    "img_temp_tif = glob.glob(f'{clipped_path}*.tif')[0]\n",
    "\n",
    "print(f'Raster template file : {img_temp_tif}')\n",
    "\n",
    "# Parameters\n",
    "# ----------\n",
    "\n",
    "buf_size = -10"
   ]
  },
  {
   "source": [
    "### 1.1 Apply a negative buffer\n",
    "\n",
    "This step is useful to avoid border effects"
   ],
   "cell_type": "markdown",
   "metadata": {}
  },
  {
   "cell_type": "code",
   "execution_count": 6,
   "metadata": {},
   "outputs": [
    {
     "output_type": "display_data",
     "data": {
      "text/plain": "     ID  CROP                     LC  CODE  IRRIGATION  \\\n0  1877     1  Maize (for livestock)   201           0   \n1  1878     1  Common wheat (winter)   311           0   \n2  1879     1  Maize (for livestock)   201           0   \n3  1880     1  Grassland (temporary)    62           0   \n4  3251     1        Barley (winter)   321           0   \n\n                                            geometry  \n0  POLYGON ((634736.092 5591240.943, 634789.895 5...  \n1  POLYGON ((635007.971 5591764.526, 635051.831 5...  \n2  POLYGON ((635206.957 5591341.834, 635209.723 5...  \n3  POLYGON ((635016.863 5591076.352, 635026.482 5...  \n4  POLYGON ((634719.083 5590523.686, 634720.398 5...  ",
      "text/html": "<div>\n<style scoped>\n    .dataframe tbody tr th:only-of-type {\n        vertical-align: middle;\n    }\n\n    .dataframe tbody tr th {\n        vertical-align: top;\n    }\n\n    .dataframe thead th {\n        text-align: right;\n    }\n</style>\n<table border=\"1\" class=\"dataframe\">\n  <thead>\n    <tr style=\"text-align: right;\">\n      <th></th>\n      <th>ID</th>\n      <th>CROP</th>\n      <th>LC</th>\n      <th>CODE</th>\n      <th>IRRIGATION</th>\n      <th>geometry</th>\n    </tr>\n  </thead>\n  <tbody>\n    <tr>\n      <th>0</th>\n      <td>1877</td>\n      <td>1</td>\n      <td>Maize (for livestock)</td>\n      <td>201</td>\n      <td>0</td>\n      <td>POLYGON ((634736.092 5591240.943, 634789.895 5...</td>\n    </tr>\n    <tr>\n      <th>1</th>\n      <td>1878</td>\n      <td>1</td>\n      <td>Common wheat (winter)</td>\n      <td>311</td>\n      <td>0</td>\n      <td>POLYGON ((635007.971 5591764.526, 635051.831 5...</td>\n    </tr>\n    <tr>\n      <th>2</th>\n      <td>1879</td>\n      <td>1</td>\n      <td>Maize (for livestock)</td>\n      <td>201</td>\n      <td>0</td>\n      <td>POLYGON ((635206.957 5591341.834, 635209.723 5...</td>\n    </tr>\n    <tr>\n      <th>3</th>\n      <td>1880</td>\n      <td>1</td>\n      <td>Grassland (temporary)</td>\n      <td>62</td>\n      <td>0</td>\n      <td>POLYGON ((635016.863 5591076.352, 635026.482 5...</td>\n    </tr>\n    <tr>\n      <th>4</th>\n      <td>3251</td>\n      <td>1</td>\n      <td>Barley (winter)</td>\n      <td>321</td>\n      <td>0</td>\n      <td>POLYGON ((634719.083 5590523.686, 634720.398 5...</td>\n    </tr>\n  </tbody>\n</table>\n</div>"
     },
     "metadata": {}
    }
   ],
   "source": [
    "gdf.geometry = gdf.geometry.buffer(buf_size)\n",
    "\n",
    "gdf = gdf[~gdf.geometry.is_empty]    # Remove empty geometries\n",
    "\n",
    "display(gdf.head())"
   ]
  },
  {
   "source": [
    "### 1.1.1 Explode *MultiPolygon* geometry into individual *Polygon* geometries using `GeoPandas` and `Shapely`\n",
    "\n",
    "*MultiPolygons* geometries can cause problems later on (e.g. for rasterisation) !"
   ],
   "cell_type": "markdown",
   "metadata": {}
  },
  {
   "cell_type": "code",
   "execution_count": 7,
   "metadata": {},
   "outputs": [
    {
     "output_type": "display_data",
     "data": {
      "text/plain": "     ID CROP                     LC CODE IRRIGATION  \\\n0  1877    1  Maize (for livestock)  201          0   \n1  1878    1  Common wheat (winter)  311          0   \n2  1879    1  Maize (for livestock)  201          0   \n3  1880    1  Grassland (temporary)   62          0   \n4  3251    1        Barley (winter)  321          0   \n\n                                            geometry  \n0  POLYGON ((634736.092 5591240.943, 634789.895 5...  \n1  POLYGON ((635007.971 5591764.526, 635051.831 5...  \n2  POLYGON ((635206.957 5591341.834, 635209.723 5...  \n3  POLYGON ((635016.863 5591076.352, 635026.482 5...  \n4  POLYGON ((634719.083 5590523.686, 634720.398 5...  ",
      "text/html": "<div>\n<style scoped>\n    .dataframe tbody tr th:only-of-type {\n        vertical-align: middle;\n    }\n\n    .dataframe tbody tr th {\n        vertical-align: top;\n    }\n\n    .dataframe thead th {\n        text-align: right;\n    }\n</style>\n<table border=\"1\" class=\"dataframe\">\n  <thead>\n    <tr style=\"text-align: right;\">\n      <th></th>\n      <th>ID</th>\n      <th>CROP</th>\n      <th>LC</th>\n      <th>CODE</th>\n      <th>IRRIGATION</th>\n      <th>geometry</th>\n    </tr>\n  </thead>\n  <tbody>\n    <tr>\n      <th>0</th>\n      <td>1877</td>\n      <td>1</td>\n      <td>Maize (for livestock)</td>\n      <td>201</td>\n      <td>0</td>\n      <td>POLYGON ((634736.092 5591240.943, 634789.895 5...</td>\n    </tr>\n    <tr>\n      <th>1</th>\n      <td>1878</td>\n      <td>1</td>\n      <td>Common wheat (winter)</td>\n      <td>311</td>\n      <td>0</td>\n      <td>POLYGON ((635007.971 5591764.526, 635051.831 5...</td>\n    </tr>\n    <tr>\n      <th>2</th>\n      <td>1879</td>\n      <td>1</td>\n      <td>Maize (for livestock)</td>\n      <td>201</td>\n      <td>0</td>\n      <td>POLYGON ((635206.957 5591341.834, 635209.723 5...</td>\n    </tr>\n    <tr>\n      <th>3</th>\n      <td>1880</td>\n      <td>1</td>\n      <td>Grassland (temporary)</td>\n      <td>62</td>\n      <td>0</td>\n      <td>POLYGON ((635016.863 5591076.352, 635026.482 5...</td>\n    </tr>\n    <tr>\n      <th>4</th>\n      <td>3251</td>\n      <td>1</td>\n      <td>Barley (winter)</td>\n      <td>321</td>\n      <td>0</td>\n      <td>POLYGON ((634719.083 5590523.686, 634720.398 5...</td>\n    </tr>\n  </tbody>\n</table>\n</div>"
     },
     "metadata": {}
    }
   ],
   "source": [
    "# Create a function to explode MultiPolygons from a GeoDataFrame\n",
    "def explode(indf):\n",
    "    outdf = gpd.GeoDataFrame(columns=indf.columns)\n",
    "    for idx, row in indf.iterrows():\n",
    "        if type(row.geometry) == Polygon:\n",
    "            outdf = outdf.append(row,ignore_index=True)\n",
    "        if type(row.geometry) == MultiPolygon:\n",
    "            multdf = gpd.GeoDataFrame(columns=indf.columns)\n",
    "            recs = len(row.geometry)\n",
    "            multdf = multdf.append([row]*recs,ignore_index=True)\n",
    "            for geom in range(recs):\n",
    "                multdf.loc[geom,'geometry'] = row.geometry[geom]\n",
    "            outdf = outdf.append(multdf,ignore_index=True)\n",
    "    return outdf\n",
    "\n",
    "\n",
    "# Apply function on GeoDataFrame\n",
    "gdf = explode(gdf)\n",
    "\n",
    "display(gdf.head())"
   ]
  },
  {
   "source": [
    "### 1.2 Add a column with area of each polygons"
   ],
   "cell_type": "markdown",
   "metadata": {}
  },
  {
   "cell_type": "code",
   "execution_count": 8,
   "metadata": {},
   "outputs": [
    {
     "output_type": "display_data",
     "data": {
      "text/plain": "     ID CROP                     LC CODE IRRIGATION  \\\n0  1877    1  Maize (for livestock)  201          0   \n1  1878    1  Common wheat (winter)  311          0   \n2  1879    1  Maize (for livestock)  201          0   \n3  1880    1  Grassland (temporary)   62          0   \n4  3251    1        Barley (winter)  321          0   \n\n                                            geometry   area  \n0  POLYGON ((634736.092 5591240.943, 634789.895 5...  25444  \n1  POLYGON ((635007.971 5591764.526, 635051.831 5...  59305  \n2  POLYGON ((635206.957 5591341.834, 635209.723 5...  26169  \n3  POLYGON ((635016.863 5591076.352, 635026.482 5...  16639  \n4  POLYGON ((634719.083 5590523.686, 634720.398 5...  62352  ",
      "text/html": "<div>\n<style scoped>\n    .dataframe tbody tr th:only-of-type {\n        vertical-align: middle;\n    }\n\n    .dataframe tbody tr th {\n        vertical-align: top;\n    }\n\n    .dataframe thead th {\n        text-align: right;\n    }\n</style>\n<table border=\"1\" class=\"dataframe\">\n  <thead>\n    <tr style=\"text-align: right;\">\n      <th></th>\n      <th>ID</th>\n      <th>CROP</th>\n      <th>LC</th>\n      <th>CODE</th>\n      <th>IRRIGATION</th>\n      <th>geometry</th>\n      <th>area</th>\n    </tr>\n  </thead>\n  <tbody>\n    <tr>\n      <th>0</th>\n      <td>1877</td>\n      <td>1</td>\n      <td>Maize (for livestock)</td>\n      <td>201</td>\n      <td>0</td>\n      <td>POLYGON ((634736.092 5591240.943, 634789.895 5...</td>\n      <td>25444</td>\n    </tr>\n    <tr>\n      <th>1</th>\n      <td>1878</td>\n      <td>1</td>\n      <td>Common wheat (winter)</td>\n      <td>311</td>\n      <td>0</td>\n      <td>POLYGON ((635007.971 5591764.526, 635051.831 5...</td>\n      <td>59305</td>\n    </tr>\n    <tr>\n      <th>2</th>\n      <td>1879</td>\n      <td>1</td>\n      <td>Maize (for livestock)</td>\n      <td>201</td>\n      <td>0</td>\n      <td>POLYGON ((635206.957 5591341.834, 635209.723 5...</td>\n      <td>26169</td>\n    </tr>\n    <tr>\n      <th>3</th>\n      <td>1880</td>\n      <td>1</td>\n      <td>Grassland (temporary)</td>\n      <td>62</td>\n      <td>0</td>\n      <td>POLYGON ((635016.863 5591076.352, 635026.482 5...</td>\n      <td>16639</td>\n    </tr>\n    <tr>\n      <th>4</th>\n      <td>3251</td>\n      <td>1</td>\n      <td>Barley (winter)</td>\n      <td>321</td>\n      <td>0</td>\n      <td>POLYGON ((634719.083 5590523.686, 634720.398 5...</td>\n      <td>62352</td>\n    </tr>\n  </tbody>\n</table>\n</div>"
     },
     "metadata": {}
    }
   ],
   "source": [
    "gdf['area'] = gdf.geometry.area.astype(int)\n",
    "\n",
    "display(gdf.head())"
   ]
  },
  {
   "source": [
    "### 1.3 Add pixel count to in-situ data\n",
    "\n",
    "#### 1.3.1 Zonal Stats using `rasterstats` and store output in a DataFrame"
   ],
   "cell_type": "markdown",
   "metadata": {}
  },
  {
   "cell_type": "code",
   "execution_count": 9,
   "metadata": {},
   "outputs": [
    {
     "output_type": "display_data",
     "data": {
      "text/plain": "   pix_count\n0        254\n1        585\n2        262\n3        166\n4        625",
      "text/html": "<div>\n<style scoped>\n    .dataframe tbody tr th:only-of-type {\n        vertical-align: middle;\n    }\n\n    .dataframe tbody tr th {\n        vertical-align: top;\n    }\n\n    .dataframe thead th {\n        text-align: right;\n    }\n</style>\n<table border=\"1\" class=\"dataframe\">\n  <thead>\n    <tr style=\"text-align: right;\">\n      <th></th>\n      <th>pix_count</th>\n    </tr>\n  </thead>\n  <tbody>\n    <tr>\n      <th>0</th>\n      <td>254</td>\n    </tr>\n    <tr>\n      <th>1</th>\n      <td>585</td>\n    </tr>\n    <tr>\n      <th>2</th>\n      <td>262</td>\n    </tr>\n    <tr>\n      <th>3</th>\n      <td>166</td>\n    </tr>\n    <tr>\n      <th>4</th>\n      <td>625</td>\n    </tr>\n  </tbody>\n</table>\n</div>"
     },
     "metadata": {}
    },
    {
     "output_type": "display_data",
     "data": {
      "text/plain": "     ID CROP                     LC CODE IRRIGATION  \\\n0  1877    1  Maize (for livestock)  201          0   \n1  1878    1  Common wheat (winter)  311          0   \n2  1879    1  Maize (for livestock)  201          0   \n3  1880    1  Grassland (temporary)   62          0   \n4  3251    1        Barley (winter)  321          0   \n\n                                            geometry   area  pix_count  \n0  POLYGON ((634736.092 5591240.943, 634789.895 5...  25444        254  \n1  POLYGON ((635007.971 5591764.526, 635051.831 5...  59305        585  \n2  POLYGON ((635206.957 5591341.834, 635209.723 5...  26169        262  \n3  POLYGON ((635016.863 5591076.352, 635026.482 5...  16639        166  \n4  POLYGON ((634719.083 5590523.686, 634720.398 5...  62352        625  ",
      "text/html": "<div>\n<style scoped>\n    .dataframe tbody tr th:only-of-type {\n        vertical-align: middle;\n    }\n\n    .dataframe tbody tr th {\n        vertical-align: top;\n    }\n\n    .dataframe thead th {\n        text-align: right;\n    }\n</style>\n<table border=\"1\" class=\"dataframe\">\n  <thead>\n    <tr style=\"text-align: right;\">\n      <th></th>\n      <th>ID</th>\n      <th>CROP</th>\n      <th>LC</th>\n      <th>CODE</th>\n      <th>IRRIGATION</th>\n      <th>geometry</th>\n      <th>area</th>\n      <th>pix_count</th>\n    </tr>\n  </thead>\n  <tbody>\n    <tr>\n      <th>0</th>\n      <td>1877</td>\n      <td>1</td>\n      <td>Maize (for livestock)</td>\n      <td>201</td>\n      <td>0</td>\n      <td>POLYGON ((634736.092 5591240.943, 634789.895 5...</td>\n      <td>25444</td>\n      <td>254</td>\n    </tr>\n    <tr>\n      <th>1</th>\n      <td>1878</td>\n      <td>1</td>\n      <td>Common wheat (winter)</td>\n      <td>311</td>\n      <td>0</td>\n      <td>POLYGON ((635007.971 5591764.526, 635051.831 5...</td>\n      <td>59305</td>\n      <td>585</td>\n    </tr>\n    <tr>\n      <th>2</th>\n      <td>1879</td>\n      <td>1</td>\n      <td>Maize (for livestock)</td>\n      <td>201</td>\n      <td>0</td>\n      <td>POLYGON ((635206.957 5591341.834, 635209.723 5...</td>\n      <td>26169</td>\n      <td>262</td>\n    </tr>\n    <tr>\n      <th>3</th>\n      <td>1880</td>\n      <td>1</td>\n      <td>Grassland (temporary)</td>\n      <td>62</td>\n      <td>0</td>\n      <td>POLYGON ((635016.863 5591076.352, 635026.482 5...</td>\n      <td>16639</td>\n      <td>166</td>\n    </tr>\n    <tr>\n      <th>4</th>\n      <td>3251</td>\n      <td>1</td>\n      <td>Barley (winter)</td>\n      <td>321</td>\n      <td>0</td>\n      <td>POLYGON ((634719.083 5590523.686, 634720.398 5...</td>\n      <td>62352</td>\n      <td>625</td>\n    </tr>\n  </tbody>\n</table>\n</div>"
     },
     "metadata": {}
    }
   ],
   "source": [
    "zs_df = pd.DataFrame(zonal_stats(vectors=gdf,\n",
    "                                 raster=img_temp_tif,\n",
    "                                 nodata=-999,\n",
    "                                 stats='count'))\n",
    "\n",
    "zs_df = zs_df.rename(columns={'count': 'pix_count'})\n",
    "\n",
    "display(zs_df.head())\n",
    "\n",
    "# Join pixels count with polygons informations\n",
    "\n",
    "pixCount_gdf = pd.concat([gdf, zs_df], axis=1, join=\"inner\")\n",
    "\n",
    "display(pixCount_gdf.head())"
   ]
  },
  {
   "source": [
    "### 1.4 Write dataset in shapefiles"
   ],
   "cell_type": "markdown",
   "metadata": {}
  },
  {
   "cell_type": "code",
   "execution_count": 15,
   "metadata": {},
   "outputs": [
    {
     "output_type": "stream",
     "name": "stdout",
     "text": [
      "Write In-Situ --> /Volumes/nbdid-sst-lbrat2104/GROUP_X/WORK/IN_SITU_SD/WALLONIA_2018_IN_SITU_ROI_pixCount.shp\n"
     ]
    }
   ],
   "source": [
    "print(f'Write In-Situ --> {in_situ_count_shp}')\n",
    "\n",
    "pixCount_gdf = pixCount_gdf.set_crs(epsg_code)\n",
    "\n",
    "pixCount_gdf.to_file(in_situ_count_shp)"
   ]
  },
  {
   "source": [
    "## 2. Sampling Design\n",
    "\n",
    "\n",
    "<img src=\"figures/in_situ_sampling_design.png\" width=\"10000\">\n",
    "\n",
    "### Set up filenames and parameters"
   ],
   "cell_type": "markdown",
   "metadata": {}
  },
  {
   "cell_type": "code",
   "execution_count": 16,
   "metadata": {},
   "outputs": [],
   "source": [
    "in_situ_cal_shp = f'{in_situ_SD_path}{in_situ_name}_cal.shp'\n",
    "in_situ_val_shp = f'{in_situ_SD_path}{in_situ_name}_val.shp'\n",
    "\n",
    "csv_strategies = f'{in_situ_SD_path}{in_situ_name}_sampling_design.csv'\n",
    "\n",
    "# Open the in-situ shapefile in a GeoDataFrame\n",
    "\n",
    "parcels_gdf = gpd.read_file(in_situ_count_shp)\n",
    "\n",
    "# Parameters\n",
    "# ----------\n",
    "\n",
    "S2pixMin         = 3\n",
    "S2pixBest        = 10\n",
    "S2pixThres       = 10000\n",
    "SampleRatioCal_1 = 0.25\n",
    "SampleRatioCal_2 = 0.75"
   ]
  },
  {
   "source": [
    "### 2.1 Remove parcels with not enough pixels"
   ],
   "cell_type": "markdown",
   "metadata": {}
  },
  {
   "cell_type": "code",
   "execution_count": 17,
   "metadata": {},
   "outputs": [
    {
     "output_type": "stream",
     "name": "stdout",
     "text": [
      "-- Remove parcels with less than 3 pixels\n----> There are 341 polygons with enough pixels\n"
     ]
    }
   ],
   "source": [
    "print(f'-- Remove parcels with less than {S2pixMin} pixels')\n",
    "\n",
    "parcels_gdf = parcels_gdf.loc[parcels_gdf['pix_count'] >= S2pixMin]\n",
    "\n",
    "nb_remove_small_poly = len(parcels_gdf)\n",
    "\n",
    "print(f'----> There are {nb_remove_small_poly} polygons with enough pixels')"
   ]
  },
  {
   "source": [
    "### 2.2 Select best parcels"
   ],
   "cell_type": "markdown",
   "metadata": {}
  },
  {
   "cell_type": "code",
   "execution_count": 18,
   "metadata": {},
   "outputs": [
    {
     "output_type": "stream",
     "name": "stdout",
     "text": [
      "-- Move parcels with less than 10 pixels in the validation dataset\n----> 324 best parcels\n----> 17 non-best parcels (moved in the validation dataset)\n"
     ]
    }
   ],
   "source": [
    "print(f'-- Move parcels with less than {S2pixBest} pixels in the validation dataset')\n",
    "\n",
    "parcels_non_best_gdf = parcels_gdf.loc[parcels_gdf['pix_count'] < S2pixBest]\n",
    "parcels_best_gdf = parcels_gdf.loc[parcels_gdf['pix_count'] >= S2pixBest]\n",
    "\n",
    "print(f'----> {len(parcels_best_gdf)} best parcels')\n",
    "print(f'----> {len(parcels_non_best_gdf)} non-best parcels (moved in the validation dataset)')"
   ]
  },
  {
   "source": [
    "### 2.3 Split parcels into calibration and validation datasets\n",
    "#### 2.3.1 Create a table with the number of pixels to get for calibration and validation (depending on the strategy)"
   ],
   "cell_type": "markdown",
   "metadata": {}
  },
  {
   "cell_type": "code",
   "execution_count": 19,
   "metadata": {},
   "outputs": [
    {
     "output_type": "stream",
     "name": "stdout",
     "text": [
      "-- Split parcels into cal/val\n"
     ]
    },
    {
     "output_type": "display_data",
     "data": {
      "text/plain": "    index  CODE  pix_count  strategy  pix_cal   pix_val\n0       5   311      25092         1  6273.00  18819.00\n1      16    62      13499         1  3374.75  10124.25\n2      22    91      10833         1  2708.25   8124.75\n3       0    12         71         2    53.25     17.75\n4       1    19       1758         2  1318.50    439.50\n5       2    20        146         2   109.50     36.50\n6       3   201       6293         2  4719.75   1573.25\n7       4    21        208         2   156.00     52.00\n8       6   321       6200         2  4650.00   1550.00\n9       7   341        329         2   246.75     82.25\n10      8   342        518         2   388.50    129.50\n11      9    36       3662         2  2746.50    915.50\n12     10  4111       2453         2  1839.75    613.25\n13     11    45       1250         2   937.50    312.50\n14     12    53        515         2   386.25    128.75\n15     13   541        482         2   361.50    120.50\n16     14   542        682         2   511.50    170.50\n17     15     6       3052         2  2289.00    763.00\n18     17    73       1301         2   975.75    325.25\n19     18   743        614         2   460.50    153.50\n20     19   821       1787         2  1340.25    446.75\n21     20     9        225         2   168.75     56.25\n22     21   901       6689         2  5016.75   1672.25\n23     23  9202        974         2   730.50    243.50\n24     24   931       2157         2  1617.75    539.25\n25     25  9410        789         2   591.75    197.25\n26     26  9535        685         2   513.75    171.25\n27     27   959        292         2   219.00     73.00\n28     28  9741        435         2   326.25    108.75\n29     29  9742        907         2   680.25    226.75\n30     30  9812        861         2   645.75    215.25",
      "text/html": "<div>\n<style scoped>\n    .dataframe tbody tr th:only-of-type {\n        vertical-align: middle;\n    }\n\n    .dataframe tbody tr th {\n        vertical-align: top;\n    }\n\n    .dataframe thead th {\n        text-align: right;\n    }\n</style>\n<table border=\"1\" class=\"dataframe\">\n  <thead>\n    <tr style=\"text-align: right;\">\n      <th></th>\n      <th>index</th>\n      <th>CODE</th>\n      <th>pix_count</th>\n      <th>strategy</th>\n      <th>pix_cal</th>\n      <th>pix_val</th>\n    </tr>\n  </thead>\n  <tbody>\n    <tr>\n      <th>0</th>\n      <td>5</td>\n      <td>311</td>\n      <td>25092</td>\n      <td>1</td>\n      <td>6273.00</td>\n      <td>18819.00</td>\n    </tr>\n    <tr>\n      <th>1</th>\n      <td>16</td>\n      <td>62</td>\n      <td>13499</td>\n      <td>1</td>\n      <td>3374.75</td>\n      <td>10124.25</td>\n    </tr>\n    <tr>\n      <th>2</th>\n      <td>22</td>\n      <td>91</td>\n      <td>10833</td>\n      <td>1</td>\n      <td>2708.25</td>\n      <td>8124.75</td>\n    </tr>\n    <tr>\n      <th>3</th>\n      <td>0</td>\n      <td>12</td>\n      <td>71</td>\n      <td>2</td>\n      <td>53.25</td>\n      <td>17.75</td>\n    </tr>\n    <tr>\n      <th>4</th>\n      <td>1</td>\n      <td>19</td>\n      <td>1758</td>\n      <td>2</td>\n      <td>1318.50</td>\n      <td>439.50</td>\n    </tr>\n    <tr>\n      <th>5</th>\n      <td>2</td>\n      <td>20</td>\n      <td>146</td>\n      <td>2</td>\n      <td>109.50</td>\n      <td>36.50</td>\n    </tr>\n    <tr>\n      <th>6</th>\n      <td>3</td>\n      <td>201</td>\n      <td>6293</td>\n      <td>2</td>\n      <td>4719.75</td>\n      <td>1573.25</td>\n    </tr>\n    <tr>\n      <th>7</th>\n      <td>4</td>\n      <td>21</td>\n      <td>208</td>\n      <td>2</td>\n      <td>156.00</td>\n      <td>52.00</td>\n    </tr>\n    <tr>\n      <th>8</th>\n      <td>6</td>\n      <td>321</td>\n      <td>6200</td>\n      <td>2</td>\n      <td>4650.00</td>\n      <td>1550.00</td>\n    </tr>\n    <tr>\n      <th>9</th>\n      <td>7</td>\n      <td>341</td>\n      <td>329</td>\n      <td>2</td>\n      <td>246.75</td>\n      <td>82.25</td>\n    </tr>\n    <tr>\n      <th>10</th>\n      <td>8</td>\n      <td>342</td>\n      <td>518</td>\n      <td>2</td>\n      <td>388.50</td>\n      <td>129.50</td>\n    </tr>\n    <tr>\n      <th>11</th>\n      <td>9</td>\n      <td>36</td>\n      <td>3662</td>\n      <td>2</td>\n      <td>2746.50</td>\n      <td>915.50</td>\n    </tr>\n    <tr>\n      <th>12</th>\n      <td>10</td>\n      <td>4111</td>\n      <td>2453</td>\n      <td>2</td>\n      <td>1839.75</td>\n      <td>613.25</td>\n    </tr>\n    <tr>\n      <th>13</th>\n      <td>11</td>\n      <td>45</td>\n      <td>1250</td>\n      <td>2</td>\n      <td>937.50</td>\n      <td>312.50</td>\n    </tr>\n    <tr>\n      <th>14</th>\n      <td>12</td>\n      <td>53</td>\n      <td>515</td>\n      <td>2</td>\n      <td>386.25</td>\n      <td>128.75</td>\n    </tr>\n    <tr>\n      <th>15</th>\n      <td>13</td>\n      <td>541</td>\n      <td>482</td>\n      <td>2</td>\n      <td>361.50</td>\n      <td>120.50</td>\n    </tr>\n    <tr>\n      <th>16</th>\n      <td>14</td>\n      <td>542</td>\n      <td>682</td>\n      <td>2</td>\n      <td>511.50</td>\n      <td>170.50</td>\n    </tr>\n    <tr>\n      <th>17</th>\n      <td>15</td>\n      <td>6</td>\n      <td>3052</td>\n      <td>2</td>\n      <td>2289.00</td>\n      <td>763.00</td>\n    </tr>\n    <tr>\n      <th>18</th>\n      <td>17</td>\n      <td>73</td>\n      <td>1301</td>\n      <td>2</td>\n      <td>975.75</td>\n      <td>325.25</td>\n    </tr>\n    <tr>\n      <th>19</th>\n      <td>18</td>\n      <td>743</td>\n      <td>614</td>\n      <td>2</td>\n      <td>460.50</td>\n      <td>153.50</td>\n    </tr>\n    <tr>\n      <th>20</th>\n      <td>19</td>\n      <td>821</td>\n      <td>1787</td>\n      <td>2</td>\n      <td>1340.25</td>\n      <td>446.75</td>\n    </tr>\n    <tr>\n      <th>21</th>\n      <td>20</td>\n      <td>9</td>\n      <td>225</td>\n      <td>2</td>\n      <td>168.75</td>\n      <td>56.25</td>\n    </tr>\n    <tr>\n      <th>22</th>\n      <td>21</td>\n      <td>901</td>\n      <td>6689</td>\n      <td>2</td>\n      <td>5016.75</td>\n      <td>1672.25</td>\n    </tr>\n    <tr>\n      <th>23</th>\n      <td>23</td>\n      <td>9202</td>\n      <td>974</td>\n      <td>2</td>\n      <td>730.50</td>\n      <td>243.50</td>\n    </tr>\n    <tr>\n      <th>24</th>\n      <td>24</td>\n      <td>931</td>\n      <td>2157</td>\n      <td>2</td>\n      <td>1617.75</td>\n      <td>539.25</td>\n    </tr>\n    <tr>\n      <th>25</th>\n      <td>25</td>\n      <td>9410</td>\n      <td>789</td>\n      <td>2</td>\n      <td>591.75</td>\n      <td>197.25</td>\n    </tr>\n    <tr>\n      <th>26</th>\n      <td>26</td>\n      <td>9535</td>\n      <td>685</td>\n      <td>2</td>\n      <td>513.75</td>\n      <td>171.25</td>\n    </tr>\n    <tr>\n      <th>27</th>\n      <td>27</td>\n      <td>959</td>\n      <td>292</td>\n      <td>2</td>\n      <td>219.00</td>\n      <td>73.00</td>\n    </tr>\n    <tr>\n      <th>28</th>\n      <td>28</td>\n      <td>9741</td>\n      <td>435</td>\n      <td>2</td>\n      <td>326.25</td>\n      <td>108.75</td>\n    </tr>\n    <tr>\n      <th>29</th>\n      <td>29</td>\n      <td>9742</td>\n      <td>907</td>\n      <td>2</td>\n      <td>680.25</td>\n      <td>226.75</td>\n    </tr>\n    <tr>\n      <th>30</th>\n      <td>30</td>\n      <td>9812</td>\n      <td>861</td>\n      <td>2</td>\n      <td>645.75</td>\n      <td>215.25</td>\n    </tr>\n  </tbody>\n</table>\n</div>"
     },
     "metadata": {}
    }
   ],
   "source": [
    "print('-- Split parcels into cal/val')\n",
    "\n",
    "pixel_per_class_df = parcels_best_gdf.groupby('CODE')['pix_count'].agg('sum').to_frame().reset_index()\n",
    "\n",
    "pixel_per_class_df['strategy'] = np.where(pixel_per_class_df['pix_count'] >= S2pixThres, 1, 2)\n",
    "\n",
    "\n",
    "classes_strategy_1 = pixel_per_class_df.loc[np.where(pixel_per_class_df['strategy'] == 1)]\n",
    "classes_strategy_2 = pixel_per_class_df.loc[np.where(pixel_per_class_df['strategy'] == 2)]\n",
    "\n",
    "\n",
    "# Strategy 1\n",
    "# ----------\n",
    "\n",
    "classes_strategy_1['pix_cal'] = classes_strategy_1['pix_count']*SampleRatioCal_1\n",
    "classes_strategy_1['pix_val'] = classes_strategy_1['pix_count']*(1-SampleRatioCal_1)\n",
    "\n",
    "# Strategy 2\n",
    "# ----------\n",
    "\n",
    "classes_strategy_2['pix_cal'] = classes_strategy_2['pix_count']*SampleRatioCal_2\n",
    "classes_strategy_2['pix_val'] = classes_strategy_2['pix_count']*(1-SampleRatioCal_2)\n",
    "\n",
    "\n",
    "classes_strategy_all = pd.concat([classes_strategy_1, classes_strategy_2]).reset_index()\n",
    "\n",
    "display(classes_strategy_all)"
   ]
  },
  {
   "source": [
    "#### 2.3.2 Select randomly parcels to reach the number of pixels needed to calibrate the model"
   ],
   "cell_type": "markdown",
   "metadata": {}
  },
  {
   "cell_type": "code",
   "execution_count": 22,
   "metadata": {},
   "outputs": [
    {
     "output_type": "stream",
     "name": "stdout",
     "text": [
      "----> 167 parcels are in calibration dataset\n----> 174 parcels are in validation dataset\n"
     ]
    }
   ],
   "source": [
    "parcels_cal_gdfs = []\n",
    "parcels_val_gdfs = []\n",
    "\n",
    "for i in range(0,len(classes_strategy_all)):\n",
    "\n",
    "    code = classes_strategy_all.loc[i,'CODE']\n",
    "    strategy  = classes_strategy_all.loc[i,'strategy']\n",
    "\n",
    "    pixel_cal = int(classes_strategy_all['pix_cal'].loc[classes_strategy_all['CODE'] == code])\n",
    "\n",
    "    parcels_by_sub_class = parcels_best_gdf.loc[parcels_best_gdf['CODE'] == code]\n",
    "    parcels_by_sub_class_reordered = parcels_by_sub_class.sample(len(parcels_by_sub_class),random_state=10)\n",
    "\n",
    "    parcels_cal_gdf = parcels_by_sub_class_reordered[parcels_by_sub_class_reordered['pix_count'].cumsum() <= pixel_cal]\n",
    "    parcels_val_gdf = parcels_by_sub_class_reordered[parcels_by_sub_class_reordered['pix_count'].cumsum() > pixel_cal]\n",
    "\n",
    "    if pixel_cal < int(parcels_cal_gdf['pix_count'].sum()):\n",
    "        print(\"error\")\n",
    "\n",
    "    parcels_cal_gdfs.append(parcels_cal_gdf)\n",
    "    parcels_val_gdfs.append(parcels_val_gdf)\n",
    "\n",
    "\n",
    "# Add non best parcels to validation\n",
    "parcels_val_gdfs.append(parcels_non_best_gdf)\n",
    "\n",
    "parcels_cal_final_gdf = pd.concat(parcels_cal_gdfs, ignore_index=True)\n",
    "parcels_val_final_gdf = pd.concat(parcels_val_gdfs, ignore_index=True)\n",
    "\n",
    "\n",
    "print(f'----> {len(parcels_cal_final_gdf)} parcels are in calibration dataset')\n",
    "print(f'----> {len(parcels_val_final_gdf)} parcels are in validation dataset')"
   ]
  },
  {
   "source": [
    "### 2.4 Write datasets in shapefiles"
   ],
   "cell_type": "markdown",
   "metadata": {}
  },
  {
   "cell_type": "code",
   "execution_count": 14,
   "metadata": {},
   "outputs": [],
   "source": [
    "print(f'Write calibration In-Situ --> {in_situ_cal_shp}')\n",
    "\n",
    "parcels_cal_final_gdf.to_file(in_situ_cal_shp)\n",
    "\n",
    "print(f'Write validation In-Situ --> {in_situ_cal_shp}')\n",
    "\n",
    "parcels_val_final_gdf.to_file(in_situ_val_shp)\n",
    "\n",
    "classes_strategy_all.to_csv(csv_strategies, index=False, sep=';')"
   ]
  }
 ]
}