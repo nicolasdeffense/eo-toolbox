{
 "cells": [
  {
   "cell_type": "markdown",
   "metadata": {},
   "source": [
    "# Sentinel-2 data download"
   ]
  },
  {
   "cell_type": "code",
   "execution_count": 2,
   "metadata": {},
   "outputs": [
    {
     "name": "stdout",
     "output_type": "stream",
     "text": [
      "All libraries successfully imported!\n",
      "sentinelsat : 1.1.0\n"
     ]
    }
   ],
   "source": [
    "import sentinelsat\n",
    "from sentinelsat import SentinelAPI, read_geojson, geojson_to_wkt, make_path_filter\n",
    "from pathlib import Path\n",
    "from datetime import date\n",
    "import geopandas as gpd\n",
    "from IPython.display import display\n",
    "import matplotlib.pyplot as plt\n",
    "\n",
    "\n",
    "print('All libraries successfully imported!')\n",
    "print(f'sentinelsat : {sentinelsat.__version__}')"
   ]
  },
  {
   "cell_type": "markdown",
   "metadata": {},
   "source": [
    "## Set directory"
   ]
  },
  {
   "cell_type": "code",
   "execution_count": 3,
   "metadata": {},
   "outputs": [],
   "source": [
    "computer_path = '/export/miro/ndeffense/LBRAT2104/'\n",
    "grp_letter    = 'X'\n",
    "\n",
    "# Directory for all work files\n",
    "work_path = f'{computer_path}GROUP_{grp_letter}/WORK/'\n",
    "\n",
    "roi_path = f'{work_path}ROI/'\n",
    "dwl_path = f'{work_path}DOWNLOAD/'\n",
    "\n",
    "Path(dwl_path).mkdir(parents=True, exist_ok=True)"
   ]
  },
  {
   "cell_type": "markdown",
   "metadata": {},
   "source": [
    "## Authentification to Copernicus Open Access Hub\n",
    "\n",
    "The Copernicus Open Access Hub and probably most Data Hubs require authentication.\n",
    "\n",
    "You can provide your credentials with **SentinelAPI(your username , your password)**"
   ]
  },
  {
   "cell_type": "code",
   "execution_count": 4,
   "metadata": {},
   "outputs": [],
   "source": [
    "user     = 'ndeffense'\n",
    "password = 'lbrat2104'\n",
    "\n",
    "# Connect to the API\n",
    "api = SentinelAPI(user, password, 'https://apihub.copernicus.eu/apihub')"
   ]
  },
  {
   "cell_type": "markdown",
   "metadata": {},
   "source": [
    "## Set region of interest"
   ]
  },
  {
   "cell_type": "markdown",
   "metadata": {},
   "source": [
    "### 1. Open ROI shapefile"
   ]
  },
  {
   "cell_type": "code",
   "execution_count": 5,
   "metadata": {},
   "outputs": [
    {
     "name": "stdout",
     "output_type": "stream",
     "text": [
      "ROI shapefile : /export/miro/ndeffense/LBRAT2104/GROUP_X/WORK/ROI/extent_roi_32631.shp\n"
     ]
    }
   ],
   "source": [
    "crs_dst = 'EPSG:32631'\n",
    "\n",
    "roi_name     = 'extent_roi'\n",
    "roi_filename = f'{roi_name}_{crs_dst[5:]}.shp'\n",
    "roi_file     = f'{roi_path}{roi_filename}'\n",
    "\n",
    "roi_gdf = gpd.read_file(roi_file)\n",
    "\n",
    "print(f'ROI shapefile : {roi_file}')"
   ]
  },
  {
   "cell_type": "markdown",
   "metadata": {},
   "source": [
    "### 2. Reproject to WGS 84 if necessary\n"
   ]
  },
  {
   "cell_type": "code",
   "execution_count": 6,
   "metadata": {},
   "outputs": [
    {
     "name": "stdout",
     "output_type": "stream",
     "text": [
      "Old CRS : epsg:32631\n",
      "New CRS : epsg:4326\n"
     ]
    }
   ],
   "source": [
    "if roi_gdf.crs != 'epsg:4326':\n",
    "    print(f'Old CRS : {roi_gdf.crs}')\n",
    "    \n",
    "    roi_gdf = roi_gdf.to_crs('epsg:4326')\n",
    "\n",
    "    print((f'New CRS : {roi_gdf.crs}'))"
   ]
  },
  {
   "cell_type": "markdown",
   "metadata": {},
   "source": [
    "### 3. Save ROI (WGS 84) as GeoJSON file\n"
   ]
  },
  {
   "cell_type": "code",
   "execution_count": 7,
   "metadata": {},
   "outputs": [
    {
     "name": "stdout",
     "output_type": "stream",
     "text": [
      "ROI GeoJSON file : /export/miro/ndeffense/LBRAT2104/GROUP_X/WORK/ROI/extent_roi_4326.geojson\n"
     ]
    }
   ],
   "source": [
    "roi_file_json = f'{roi_path}{roi_name}_4326.geojson'\n",
    "\n",
    "roi_gdf.to_file(roi_file_json, driver='GeoJSON')\n",
    "\n",
    "print(f'ROI GeoJSON file : {roi_file_json}')"
   ]
  },
  {
   "cell_type": "markdown",
   "metadata": {},
   "source": [
    "### 4. Set footprint"
   ]
  },
  {
   "cell_type": "code",
   "execution_count": 8,
   "metadata": {},
   "outputs": [
    {
     "data": {
      "text/plain": [
       "'GEOMETRYCOLLECTION(POLYGON((4.1899 50.4304,4.1975 50.7301,4.9988 50.7191,4.9861 50.4195,4.1899 50.4304)))'"
      ]
     },
     "execution_count": 8,
     "metadata": {},
     "output_type": "execute_result"
    }
   ],
   "source": [
    "footprint = geojson_to_wkt(read_geojson(roi_file_json))\n",
    "\n",
    "footprint"
   ]
  },
  {
   "cell_type": "markdown",
   "metadata": {},
   "source": [
    "## Set period of interest"
   ]
  },
  {
   "cell_type": "code",
   "execution_count": 9,
   "metadata": {},
   "outputs": [],
   "source": [
    "# Year, Month, Day\n",
    "\n",
    "start_date = date(2021, 10, 1)\n",
    "end_date   = date(2021, 11, 30)\n",
    "\n",
    "period = (start_date, end_date)"
   ]
  },
  {
   "cell_type": "markdown",
   "metadata": {},
   "source": [
    "## Set cloud cover\n",
    "\n",
    "To avoid downloading too cloudy images"
   ]
  },
  {
   "cell_type": "code",
   "execution_count": 10,
   "metadata": {},
   "outputs": [],
   "source": [
    "min_pc_cloud = 0\n",
    "max_pc_cloud = 75\n",
    "\n",
    "cloud_range = (min_pc_cloud, max_pc_cloud)"
   ]
  },
  {
   "cell_type": "markdown",
   "metadata": {},
   "source": [
    "## Set product type\n",
    "\n",
    "Choose between Level-1C (*S2MSI1C*) or Level-2A (*S2MSI2A*)"
   ]
  },
  {
   "cell_type": "code",
   "execution_count": 11,
   "metadata": {},
   "outputs": [],
   "source": [
    "#product_type = 'S2MSI1C'\n",
    "product_type = 'S2MSI2A'"
   ]
  },
  {
   "cell_type": "markdown",
   "metadata": {},
   "source": [
    "## Search by polygon, time, and SciHub query keywords"
   ]
  },
  {
   "cell_type": "code",
   "execution_count": 12,
   "metadata": {},
   "outputs": [
    {
     "data": {
      "text/html": [
       "<div>\n",
       "<style scoped>\n",
       "    .dataframe tbody tr th:only-of-type {\n",
       "        vertical-align: middle;\n",
       "    }\n",
       "\n",
       "    .dataframe tbody tr th {\n",
       "        vertical-align: top;\n",
       "    }\n",
       "\n",
       "    .dataframe thead th {\n",
       "        text-align: right;\n",
       "    }\n",
       "</style>\n",
       "<table border=\"1\" class=\"dataframe\">\n",
       "  <thead>\n",
       "    <tr style=\"text-align: right;\">\n",
       "      <th></th>\n",
       "      <th>title</th>\n",
       "      <th>link</th>\n",
       "      <th>link_alternative</th>\n",
       "      <th>link_icon</th>\n",
       "      <th>summary</th>\n",
       "      <th>ondemand</th>\n",
       "      <th>generationdate</th>\n",
       "      <th>beginposition</th>\n",
       "      <th>endposition</th>\n",
       "      <th>ingestiondate</th>\n",
       "      <th>...</th>\n",
       "      <th>producttype</th>\n",
       "      <th>platformidentifier</th>\n",
       "      <th>orbitdirection</th>\n",
       "      <th>platformserialidentifier</th>\n",
       "      <th>processinglevel</th>\n",
       "      <th>datastripidentifier</th>\n",
       "      <th>granuleidentifier</th>\n",
       "      <th>identifier</th>\n",
       "      <th>uuid</th>\n",
       "      <th>geometry</th>\n",
       "    </tr>\n",
       "  </thead>\n",
       "  <tbody>\n",
       "    <tr>\n",
       "      <th>cb702f82-efcb-4a53-8a3c-73270742a73c</th>\n",
       "      <td>S2B_MSIL2A_20211126T105309_N0301_R051_T31UER_2...</td>\n",
       "      <td>https://apihub.copernicus.eu/apihub/odata/v1/P...</td>\n",
       "      <td>https://apihub.copernicus.eu/apihub/odata/v1/P...</td>\n",
       "      <td>https://apihub.copernicus.eu/apihub/odata/v1/P...</td>\n",
       "      <td>Date: 2021-11-26T10:53:09.024Z, Instrument: MS...</td>\n",
       "      <td>false</td>\n",
       "      <td>2021-11-26 12:59:46</td>\n",
       "      <td>2021-11-26 10:53:09.024</td>\n",
       "      <td>2021-11-26 10:53:09.024</td>\n",
       "      <td>2021-11-26 17:55:41.179</td>\n",
       "      <td>...</td>\n",
       "      <td>S2MSI2A</td>\n",
       "      <td>2017-013A</td>\n",
       "      <td>DESCENDING</td>\n",
       "      <td>Sentinel-2B</td>\n",
       "      <td>Level-2A</td>\n",
       "      <td>S2B_OPER_MSI_L2A_DS_VGS4_20211126T125946_S2021...</td>\n",
       "      <td>S2B_OPER_MSI_L2A_TL_VGS4_20211126T125946_A0246...</td>\n",
       "      <td>S2B_MSIL2A_20211126T105309_N0301_R051_T31UER_2...</td>\n",
       "      <td>cb702f82-efcb-4a53-8a3c-73270742a73c</td>\n",
       "      <td>MULTIPOLYGON (((4.51786 49.55480, 4.54933 50.5...</td>\n",
       "    </tr>\n",
       "    <tr>\n",
       "      <th>8969e1e5-f684-473a-8e6e-ad364ad1fb2c</th>\n",
       "      <td>S2B_MSIL2A_20211123T104249_N0301_R008_T31UFR_2...</td>\n",
       "      <td>https://apihub.copernicus.eu/apihub/odata/v1/P...</td>\n",
       "      <td>https://apihub.copernicus.eu/apihub/odata/v1/P...</td>\n",
       "      <td>https://apihub.copernicus.eu/apihub/odata/v1/P...</td>\n",
       "      <td>Date: 2021-11-23T10:42:49.025Z, Instrument: MS...</td>\n",
       "      <td>false</td>\n",
       "      <td>2021-11-23 12:23:13</td>\n",
       "      <td>2021-11-23 10:42:49.025</td>\n",
       "      <td>2021-11-23 10:42:49.025</td>\n",
       "      <td>2021-11-23 17:25:30.667</td>\n",
       "      <td>...</td>\n",
       "      <td>S2MSI2A</td>\n",
       "      <td>2017-013A</td>\n",
       "      <td>DESCENDING</td>\n",
       "      <td>Sentinel-2B</td>\n",
       "      <td>Level-2A</td>\n",
       "      <td>S2B_OPER_MSI_L2A_DS_VGS4_20211123T122313_S2021...</td>\n",
       "      <td>S2B_OPER_MSI_L2A_TL_VGS4_20211123T122313_A0246...</td>\n",
       "      <td>S2B_MSIL2A_20211123T104249_N0301_R008_T31UFR_2...</td>\n",
       "      <td>8969e1e5-f684-473a-8e6e-ad364ad1fb2c</td>\n",
       "      <td>MULTIPOLYGON (((5.89936 49.52842, 5.95939 50.5...</td>\n",
       "    </tr>\n",
       "    <tr>\n",
       "      <th>8e139b03-ce17-4219-a0db-2caa25b5b867</th>\n",
       "      <td>S2B_MSIL2A_20211123T104249_N0301_R008_T31UER_2...</td>\n",
       "      <td>https://apihub.copernicus.eu/apihub/odata/v1/P...</td>\n",
       "      <td>https://apihub.copernicus.eu/apihub/odata/v1/P...</td>\n",
       "      <td>https://apihub.copernicus.eu/apihub/odata/v1/P...</td>\n",
       "      <td>Date: 2021-11-23T10:42:49.025Z, Instrument: MS...</td>\n",
       "      <td>false</td>\n",
       "      <td>2021-11-23 12:23:13</td>\n",
       "      <td>2021-11-23 10:42:49.025</td>\n",
       "      <td>2021-11-23 10:42:49.025</td>\n",
       "      <td>2021-11-23 17:14:47.770</td>\n",
       "      <td>...</td>\n",
       "      <td>S2MSI2A</td>\n",
       "      <td>2017-013A</td>\n",
       "      <td>DESCENDING</td>\n",
       "      <td>Sentinel-2B</td>\n",
       "      <td>Level-2A</td>\n",
       "      <td>S2B_OPER_MSI_L2A_DS_VGS4_20211123T122313_S2021...</td>\n",
       "      <td>S2B_OPER_MSI_L2A_TL_VGS4_20211123T122313_A0246...</td>\n",
       "      <td>S2B_MSIL2A_20211123T104249_N0301_R008_T31UER_2...</td>\n",
       "      <td>8e139b03-ce17-4219-a0db-2caa25b5b867</td>\n",
       "      <td>MULTIPOLYGON (((4.51786 49.55480, 4.54933 50.5...</td>\n",
       "    </tr>\n",
       "    <tr>\n",
       "      <th>2f426423-9bb1-430e-b4fd-d3e62d67cbec</th>\n",
       "      <td>S2A_MSIL2A_20211121T105341_N0301_R051_T31UES_2...</td>\n",
       "      <td>https://apihub.copernicus.eu/apihub/odata/v1/P...</td>\n",
       "      <td>https://apihub.copernicus.eu/apihub/odata/v1/P...</td>\n",
       "      <td>https://apihub.copernicus.eu/apihub/odata/v1/P...</td>\n",
       "      <td>Date: 2021-11-21T10:53:41.024Z, Instrument: MS...</td>\n",
       "      <td>false</td>\n",
       "      <td>2021-11-21 13:52:06</td>\n",
       "      <td>2021-11-21 10:53:41.024</td>\n",
       "      <td>2021-11-21 10:53:41.024</td>\n",
       "      <td>2021-11-21 17:13:13.458</td>\n",
       "      <td>...</td>\n",
       "      <td>S2MSI2A</td>\n",
       "      <td>2015-028A</td>\n",
       "      <td>DESCENDING</td>\n",
       "      <td>Sentinel-2A</td>\n",
       "      <td>Level-2A</td>\n",
       "      <td>S2A_OPER_MSI_L2A_DS_VGS2_20211121T135206_S2021...</td>\n",
       "      <td>S2A_OPER_MSI_L2A_TL_VGS2_20211121T135206_A0335...</td>\n",
       "      <td>S2A_MSIL2A_20211121T105341_N0301_R051_T31UES_2...</td>\n",
       "      <td>2f426423-9bb1-430e-b4fd-d3e62d67cbec</td>\n",
       "      <td>MULTIPOLYGON (((4.54644 50.45352, 4.57954 51.4...</td>\n",
       "    </tr>\n",
       "    <tr>\n",
       "      <th>4164f982-e812-4cd9-a11f-0bfdae73b3a7</th>\n",
       "      <td>S2A_MSIL2A_20211118T104331_N0301_R008_T31UES_2...</td>\n",
       "      <td>https://apihub.copernicus.eu/apihub/odata/v1/P...</td>\n",
       "      <td>https://apihub.copernicus.eu/apihub/odata/v1/P...</td>\n",
       "      <td>https://apihub.copernicus.eu/apihub/odata/v1/P...</td>\n",
       "      <td>Date: 2021-11-18T10:43:31.024Z, Instrument: MS...</td>\n",
       "      <td>false</td>\n",
       "      <td>2021-11-18 13:32:11</td>\n",
       "      <td>2021-11-18 10:43:31.024</td>\n",
       "      <td>2021-11-18 10:43:31.024</td>\n",
       "      <td>2021-11-18 15:41:46.536</td>\n",
       "      <td>...</td>\n",
       "      <td>S2MSI2A</td>\n",
       "      <td>2015-028A</td>\n",
       "      <td>DESCENDING</td>\n",
       "      <td>Sentinel-2A</td>\n",
       "      <td>Level-2A</td>\n",
       "      <td>S2A_OPER_MSI_L2A_DS_VGS2_20211118T133211_S2021...</td>\n",
       "      <td>S2A_OPER_MSI_L2A_TL_VGS2_20211118T133211_A0334...</td>\n",
       "      <td>S2A_MSIL2A_20211118T104331_N0301_R008_T31UES_2...</td>\n",
       "      <td>4164f982-e812-4cd9-a11f-0bfdae73b3a7</td>\n",
       "      <td>MULTIPOLYGON (((4.54644 50.45352, 4.57954 51.4...</td>\n",
       "    </tr>\n",
       "  </tbody>\n",
       "</table>\n",
       "<p>5 rows × 41 columns</p>\n",
       "</div>"
      ],
      "text/plain": [
       "                                                                                  title  \\\n",
       "cb702f82-efcb-4a53-8a3c-73270742a73c  S2B_MSIL2A_20211126T105309_N0301_R051_T31UER_2...   \n",
       "8969e1e5-f684-473a-8e6e-ad364ad1fb2c  S2B_MSIL2A_20211123T104249_N0301_R008_T31UFR_2...   \n",
       "8e139b03-ce17-4219-a0db-2caa25b5b867  S2B_MSIL2A_20211123T104249_N0301_R008_T31UER_2...   \n",
       "2f426423-9bb1-430e-b4fd-d3e62d67cbec  S2A_MSIL2A_20211121T105341_N0301_R051_T31UES_2...   \n",
       "4164f982-e812-4cd9-a11f-0bfdae73b3a7  S2A_MSIL2A_20211118T104331_N0301_R008_T31UES_2...   \n",
       "\n",
       "                                                                                   link  \\\n",
       "cb702f82-efcb-4a53-8a3c-73270742a73c  https://apihub.copernicus.eu/apihub/odata/v1/P...   \n",
       "8969e1e5-f684-473a-8e6e-ad364ad1fb2c  https://apihub.copernicus.eu/apihub/odata/v1/P...   \n",
       "8e139b03-ce17-4219-a0db-2caa25b5b867  https://apihub.copernicus.eu/apihub/odata/v1/P...   \n",
       "2f426423-9bb1-430e-b4fd-d3e62d67cbec  https://apihub.copernicus.eu/apihub/odata/v1/P...   \n",
       "4164f982-e812-4cd9-a11f-0bfdae73b3a7  https://apihub.copernicus.eu/apihub/odata/v1/P...   \n",
       "\n",
       "                                                                       link_alternative  \\\n",
       "cb702f82-efcb-4a53-8a3c-73270742a73c  https://apihub.copernicus.eu/apihub/odata/v1/P...   \n",
       "8969e1e5-f684-473a-8e6e-ad364ad1fb2c  https://apihub.copernicus.eu/apihub/odata/v1/P...   \n",
       "8e139b03-ce17-4219-a0db-2caa25b5b867  https://apihub.copernicus.eu/apihub/odata/v1/P...   \n",
       "2f426423-9bb1-430e-b4fd-d3e62d67cbec  https://apihub.copernicus.eu/apihub/odata/v1/P...   \n",
       "4164f982-e812-4cd9-a11f-0bfdae73b3a7  https://apihub.copernicus.eu/apihub/odata/v1/P...   \n",
       "\n",
       "                                                                              link_icon  \\\n",
       "cb702f82-efcb-4a53-8a3c-73270742a73c  https://apihub.copernicus.eu/apihub/odata/v1/P...   \n",
       "8969e1e5-f684-473a-8e6e-ad364ad1fb2c  https://apihub.copernicus.eu/apihub/odata/v1/P...   \n",
       "8e139b03-ce17-4219-a0db-2caa25b5b867  https://apihub.copernicus.eu/apihub/odata/v1/P...   \n",
       "2f426423-9bb1-430e-b4fd-d3e62d67cbec  https://apihub.copernicus.eu/apihub/odata/v1/P...   \n",
       "4164f982-e812-4cd9-a11f-0bfdae73b3a7  https://apihub.copernicus.eu/apihub/odata/v1/P...   \n",
       "\n",
       "                                                                                summary  \\\n",
       "cb702f82-efcb-4a53-8a3c-73270742a73c  Date: 2021-11-26T10:53:09.024Z, Instrument: MS...   \n",
       "8969e1e5-f684-473a-8e6e-ad364ad1fb2c  Date: 2021-11-23T10:42:49.025Z, Instrument: MS...   \n",
       "8e139b03-ce17-4219-a0db-2caa25b5b867  Date: 2021-11-23T10:42:49.025Z, Instrument: MS...   \n",
       "2f426423-9bb1-430e-b4fd-d3e62d67cbec  Date: 2021-11-21T10:53:41.024Z, Instrument: MS...   \n",
       "4164f982-e812-4cd9-a11f-0bfdae73b3a7  Date: 2021-11-18T10:43:31.024Z, Instrument: MS...   \n",
       "\n",
       "                                     ondemand      generationdate  \\\n",
       "cb702f82-efcb-4a53-8a3c-73270742a73c    false 2021-11-26 12:59:46   \n",
       "8969e1e5-f684-473a-8e6e-ad364ad1fb2c    false 2021-11-23 12:23:13   \n",
       "8e139b03-ce17-4219-a0db-2caa25b5b867    false 2021-11-23 12:23:13   \n",
       "2f426423-9bb1-430e-b4fd-d3e62d67cbec    false 2021-11-21 13:52:06   \n",
       "4164f982-e812-4cd9-a11f-0bfdae73b3a7    false 2021-11-18 13:32:11   \n",
       "\n",
       "                                               beginposition  \\\n",
       "cb702f82-efcb-4a53-8a3c-73270742a73c 2021-11-26 10:53:09.024   \n",
       "8969e1e5-f684-473a-8e6e-ad364ad1fb2c 2021-11-23 10:42:49.025   \n",
       "8e139b03-ce17-4219-a0db-2caa25b5b867 2021-11-23 10:42:49.025   \n",
       "2f426423-9bb1-430e-b4fd-d3e62d67cbec 2021-11-21 10:53:41.024   \n",
       "4164f982-e812-4cd9-a11f-0bfdae73b3a7 2021-11-18 10:43:31.024   \n",
       "\n",
       "                                                 endposition  \\\n",
       "cb702f82-efcb-4a53-8a3c-73270742a73c 2021-11-26 10:53:09.024   \n",
       "8969e1e5-f684-473a-8e6e-ad364ad1fb2c 2021-11-23 10:42:49.025   \n",
       "8e139b03-ce17-4219-a0db-2caa25b5b867 2021-11-23 10:42:49.025   \n",
       "2f426423-9bb1-430e-b4fd-d3e62d67cbec 2021-11-21 10:53:41.024   \n",
       "4164f982-e812-4cd9-a11f-0bfdae73b3a7 2021-11-18 10:43:31.024   \n",
       "\n",
       "                                               ingestiondate  ...  \\\n",
       "cb702f82-efcb-4a53-8a3c-73270742a73c 2021-11-26 17:55:41.179  ...   \n",
       "8969e1e5-f684-473a-8e6e-ad364ad1fb2c 2021-11-23 17:25:30.667  ...   \n",
       "8e139b03-ce17-4219-a0db-2caa25b5b867 2021-11-23 17:14:47.770  ...   \n",
       "2f426423-9bb1-430e-b4fd-d3e62d67cbec 2021-11-21 17:13:13.458  ...   \n",
       "4164f982-e812-4cd9-a11f-0bfdae73b3a7 2021-11-18 15:41:46.536  ...   \n",
       "\n",
       "                                      producttype  platformidentifier  \\\n",
       "cb702f82-efcb-4a53-8a3c-73270742a73c      S2MSI2A           2017-013A   \n",
       "8969e1e5-f684-473a-8e6e-ad364ad1fb2c      S2MSI2A           2017-013A   \n",
       "8e139b03-ce17-4219-a0db-2caa25b5b867      S2MSI2A           2017-013A   \n",
       "2f426423-9bb1-430e-b4fd-d3e62d67cbec      S2MSI2A           2015-028A   \n",
       "4164f982-e812-4cd9-a11f-0bfdae73b3a7      S2MSI2A           2015-028A   \n",
       "\n",
       "                                      orbitdirection  \\\n",
       "cb702f82-efcb-4a53-8a3c-73270742a73c      DESCENDING   \n",
       "8969e1e5-f684-473a-8e6e-ad364ad1fb2c      DESCENDING   \n",
       "8e139b03-ce17-4219-a0db-2caa25b5b867      DESCENDING   \n",
       "2f426423-9bb1-430e-b4fd-d3e62d67cbec      DESCENDING   \n",
       "4164f982-e812-4cd9-a11f-0bfdae73b3a7      DESCENDING   \n",
       "\n",
       "                                      platformserialidentifier  \\\n",
       "cb702f82-efcb-4a53-8a3c-73270742a73c               Sentinel-2B   \n",
       "8969e1e5-f684-473a-8e6e-ad364ad1fb2c               Sentinel-2B   \n",
       "8e139b03-ce17-4219-a0db-2caa25b5b867               Sentinel-2B   \n",
       "2f426423-9bb1-430e-b4fd-d3e62d67cbec               Sentinel-2A   \n",
       "4164f982-e812-4cd9-a11f-0bfdae73b3a7               Sentinel-2A   \n",
       "\n",
       "                                      processinglevel  \\\n",
       "cb702f82-efcb-4a53-8a3c-73270742a73c         Level-2A   \n",
       "8969e1e5-f684-473a-8e6e-ad364ad1fb2c         Level-2A   \n",
       "8e139b03-ce17-4219-a0db-2caa25b5b867         Level-2A   \n",
       "2f426423-9bb1-430e-b4fd-d3e62d67cbec         Level-2A   \n",
       "4164f982-e812-4cd9-a11f-0bfdae73b3a7         Level-2A   \n",
       "\n",
       "                                                                    datastripidentifier  \\\n",
       "cb702f82-efcb-4a53-8a3c-73270742a73c  S2B_OPER_MSI_L2A_DS_VGS4_20211126T125946_S2021...   \n",
       "8969e1e5-f684-473a-8e6e-ad364ad1fb2c  S2B_OPER_MSI_L2A_DS_VGS4_20211123T122313_S2021...   \n",
       "8e139b03-ce17-4219-a0db-2caa25b5b867  S2B_OPER_MSI_L2A_DS_VGS4_20211123T122313_S2021...   \n",
       "2f426423-9bb1-430e-b4fd-d3e62d67cbec  S2A_OPER_MSI_L2A_DS_VGS2_20211121T135206_S2021...   \n",
       "4164f982-e812-4cd9-a11f-0bfdae73b3a7  S2A_OPER_MSI_L2A_DS_VGS2_20211118T133211_S2021...   \n",
       "\n",
       "                                                                      granuleidentifier  \\\n",
       "cb702f82-efcb-4a53-8a3c-73270742a73c  S2B_OPER_MSI_L2A_TL_VGS4_20211126T125946_A0246...   \n",
       "8969e1e5-f684-473a-8e6e-ad364ad1fb2c  S2B_OPER_MSI_L2A_TL_VGS4_20211123T122313_A0246...   \n",
       "8e139b03-ce17-4219-a0db-2caa25b5b867  S2B_OPER_MSI_L2A_TL_VGS4_20211123T122313_A0246...   \n",
       "2f426423-9bb1-430e-b4fd-d3e62d67cbec  S2A_OPER_MSI_L2A_TL_VGS2_20211121T135206_A0335...   \n",
       "4164f982-e812-4cd9-a11f-0bfdae73b3a7  S2A_OPER_MSI_L2A_TL_VGS2_20211118T133211_A0334...   \n",
       "\n",
       "                                                                             identifier  \\\n",
       "cb702f82-efcb-4a53-8a3c-73270742a73c  S2B_MSIL2A_20211126T105309_N0301_R051_T31UER_2...   \n",
       "8969e1e5-f684-473a-8e6e-ad364ad1fb2c  S2B_MSIL2A_20211123T104249_N0301_R008_T31UFR_2...   \n",
       "8e139b03-ce17-4219-a0db-2caa25b5b867  S2B_MSIL2A_20211123T104249_N0301_R008_T31UER_2...   \n",
       "2f426423-9bb1-430e-b4fd-d3e62d67cbec  S2A_MSIL2A_20211121T105341_N0301_R051_T31UES_2...   \n",
       "4164f982-e812-4cd9-a11f-0bfdae73b3a7  S2A_MSIL2A_20211118T104331_N0301_R008_T31UES_2...   \n",
       "\n",
       "                                                                      uuid  \\\n",
       "cb702f82-efcb-4a53-8a3c-73270742a73c  cb702f82-efcb-4a53-8a3c-73270742a73c   \n",
       "8969e1e5-f684-473a-8e6e-ad364ad1fb2c  8969e1e5-f684-473a-8e6e-ad364ad1fb2c   \n",
       "8e139b03-ce17-4219-a0db-2caa25b5b867  8e139b03-ce17-4219-a0db-2caa25b5b867   \n",
       "2f426423-9bb1-430e-b4fd-d3e62d67cbec  2f426423-9bb1-430e-b4fd-d3e62d67cbec   \n",
       "4164f982-e812-4cd9-a11f-0bfdae73b3a7  4164f982-e812-4cd9-a11f-0bfdae73b3a7   \n",
       "\n",
       "                                                                               geometry  \n",
       "cb702f82-efcb-4a53-8a3c-73270742a73c  MULTIPOLYGON (((4.51786 49.55480, 4.54933 50.5...  \n",
       "8969e1e5-f684-473a-8e6e-ad364ad1fb2c  MULTIPOLYGON (((5.89936 49.52842, 5.95939 50.5...  \n",
       "8e139b03-ce17-4219-a0db-2caa25b5b867  MULTIPOLYGON (((4.51786 49.55480, 4.54933 50.5...  \n",
       "2f426423-9bb1-430e-b4fd-d3e62d67cbec  MULTIPOLYGON (((4.54644 50.45352, 4.57954 51.4...  \n",
       "4164f982-e812-4cd9-a11f-0bfdae73b3a7  MULTIPOLYGON (((4.54644 50.45352, 4.57954 51.4...  \n",
       "\n",
       "[5 rows x 41 columns]"
      ]
     },
     "metadata": {},
     "output_type": "display_data"
    }
   ],
   "source": [
    "products = api.query(footprint,\n",
    "                    date = period,\n",
    "                    platformname = 'Sentinel-2',\n",
    "                    producttype = product_type,\n",
    "                    cloudcoverpercentage = cloud_range)\n",
    "\n",
    "# Convert to pandas DataFrame\n",
    "\n",
    "gdf = api.to_geodataframe(products)\n",
    "\n",
    "display(gdf.head())"
   ]
  },
  {
   "cell_type": "markdown",
   "metadata": {},
   "source": [
    "## Plot footprint of the products"
   ]
  },
  {
   "cell_type": "code",
   "execution_count": 16,
   "metadata": {},
   "outputs": [
    {
     "data": {
      "image/png": "[encoded data removed]",
      "text/plain": [
       "<Figure size 720x720 with 1 Axes>"
      ]
     },
     "metadata": {
      "needs_background": "light"
     },
     "output_type": "display_data"
    }
   ],
   "source": [
    "fig, ax = plt.subplots(1, 1, figsize=(10,10))\n",
    "\n",
    "gdf.boundary.plot(ax=ax)\n",
    "\n",
    "roi_gdf.boundary.plot(color='red', linewidth = 4, ax=ax)\n",
    "\n",
    "plt.box(False)"
   ]
  },
  {
   "cell_type": "markdown",
   "metadata": {},
   "source": [
    "## Select products of a specific Sentinel-2 tile"
   ]
  },
  {
   "cell_type": "code",
   "execution_count": 18,
   "metadata": {},
   "outputs": [
    {
     "data": {
      "text/plain": [
       "['S2B_MSIL2A_20211004T103809_N0301_R008_T31UFS_20211004T134409',\n",
       " 'S2B_MSIL2A_20211007T104829_N0301_R051_T31UFS_20211007T141822',\n",
       " 'S2A_MSIL2A_20211009T103941_N0301_R008_T31UFS_20211009T134536',\n",
       " 'S2A_MSIL2A_20211012T105011_N0301_R051_T31UFS_20211012T140548',\n",
       " 'S2A_MSIL2A_20211022T105111_N0301_R051_T31UFS_20211022T140322',\n",
       " 'S2B_MSIL2A_20211024T104029_N0301_R008_T31UFS_20211024T122748',\n",
       " 'S2B_MSIL2A_20211027T105049_N0301_R051_T31UFS_20211027T131047',\n",
       " 'S2A_MSIL2A_20211029T104151_N0301_R008_T31UFS_20211029T134258',\n",
       " 'S2A_MSIL2A_20211101T105211_N0301_R051_T31UFS_20211101T140418',\n",
       " 'S2A_MSIL2A_20211111T105301_N0301_R051_T31UFS_20211111T135052',\n",
       " 'S2A_MSIL2A_20211118T104331_N0301_R008_T31UFS_20211118T133211']"
      ]
     },
     "metadata": {},
     "output_type": "display_data"
    }
   ],
   "source": [
    "s2_tile = '31UFS'\n",
    "\n",
    "gdf = gdf[gdf['title'].str.contains(s2_tile)]\n",
    "\n",
    "gdf = gdf.sort_values('ingestiondate', ascending=True)\n",
    "\n",
    "display(gdf['title'].to_list())\n"
   ]
  },
  {
   "cell_type": "code",
   "execution_count": 15,
   "metadata": {},
   "outputs": [
    {
     "data": {
      "image/png": "[encoded data removed]",
      "text/plain": [
       "<Figure size 432x288 with 1 Axes>"
      ]
     },
     "metadata": {
      "needs_background": "light"
     },
     "output_type": "display_data"
    }
   ],
   "source": [
    "fig, ax = plt.subplots(1, 1, figsize=(10,10))\n",
    "\n",
    "gdf.boundary.plot(ax=ax)\n",
    "\n",
    "roi_gdf.boundary.plot(color='red', linewidth = 4, ax=ax)\n",
    "\n",
    "plt.box(False)"
   ]
  },
  {
   "cell_type": "markdown",
   "metadata": {},
   "source": [
    "## Download products\n",
    "\n",
    "Copernicus Open Access Hub no longer stores all products online for immediate retrieval. Offline products can be requested from the Long Term Archive (LTA) and should become available within 24 hours. Copernicus Open Access Hub’s quota currently permits users to request an offline product every 30 minutes.\n",
    "\n",
    "A product’s availability can be checked by using the `is_online()` convenience method.\n",
    "\n",
    "The retrieval of offline products from the LTA can be triggered using trigger_offline_retrieval()."
   ]
  },
  {
   "cell_type": "markdown",
   "metadata": {},
   "source": [
    "### Define the filter function to select files (to be excluded in this case)"
   ]
  },
  {
   "cell_type": "code",
   "execution_count": null,
   "metadata": {},
   "outputs": [],
   "source": [
    "path_filter = make_path_filter(\"*60m.jp2\", exclude=False)"
   ]
  },
  {
   "cell_type": "code",
   "execution_count": 40,
   "metadata": {},
   "outputs": [
    {
     "name": "stdout",
     "output_type": "stream",
     "text": [
      "Product bd214fb6-6244-4968-a143-274e87711d68 is online. Starting download.\n"
     ]
    }
   ],
   "source": [
    "for i, row in gdf[0:1].iterrows():\n",
    "\n",
    "    product_id = row['uuid']\n",
    "\n",
    "    is_online = api.is_online(product_id)\n",
    "\n",
    "    if is_online:\n",
    "        print(f'Product {product_id} is online. Starting download.')\n",
    "        #api.download(product_id, directory_path=dwl_path, nodefilter=path_filter)\n",
    "    else:\n",
    "        print(f'Product {product_id} is not online.')\n",
    "        api.trigger_offline_retrieval(product_id)"
   ]
  }
 ],
 "metadata": {
  "interpreter": {
   "hash": "d44a822591a3717b24d3edf137db462f6168d56f0b857c252a9153258824edbd"
  },
  "kernelspec": {
   "display_name": "Python 3.6.10 64-bit ('python_3_6': conda)",
   "name": "python3"
  },
  "language_info": {
   "codemirror_mode": {
    "name": "ipython",
    "version": 3
   },
   "file_extension": ".py",
   "mimetype": "text/x-python",
   "name": "python",
   "nbconvert_exporter": "python",
   "pygments_lexer": "ipython3",
   "version": "3.6.12"
  },
  "orig_nbformat": 4
 },
 "nbformat": 4,
 "nbformat_minor": 2
}
