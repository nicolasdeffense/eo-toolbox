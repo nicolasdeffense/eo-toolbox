{
 "cells": [
  {
   "cell_type": "markdown",
   "metadata": {},
   "source": [
    "# Sentinel-1 data download"
   ]
  },
  {
   "cell_type": "code",
   "execution_count": 48,
   "metadata": {},
   "outputs": [
    {
     "name": "stdout",
     "output_type": "stream",
     "text": [
      "All libraries successfully imported!\n",
      "sentinelsat : 1.1.0\n"
     ]
    }
   ],
   "source": [
    "import sentinelsat\n",
    "from sentinelsat import SentinelAPI, read_geojson, geojson_to_wkt, make_path_filter\n",
    "from pathlib import Path\n",
    "from datetime import date\n",
    "import geopandas as gpd\n",
    "from IPython.display import display\n",
    "import matplotlib.pyplot as plt\n",
    "\n",
    "\n",
    "print('All libraries successfully imported!')\n",
    "print(f'sentinelsat : {sentinelsat.__version__}')"
   ]
  },
  {
   "cell_type": "markdown",
   "metadata": {},
   "source": [
    "## Set directory"
   ]
  },
  {
   "cell_type": "code",
   "execution_count": 49,
   "metadata": {},
   "outputs": [],
   "source": [
    "computer_path = '/export/miro/ndeffense/LBRAT2104/'\n",
    "grp_letter    = 'X'\n",
    "\n",
    "# Directory for all work files\n",
    "work_path = f'{computer_path}GROUP_{grp_letter}/WORK/'\n",
    "\n",
    "roi_path = f'{work_path}ROI/'\n",
    "dwl_path = f'{work_path}DOWNLOAD/'\n",
    "\n",
    "Path(dwl_path).mkdir(parents=True, exist_ok=True)"
   ]
  },
  {
   "cell_type": "markdown",
   "metadata": {},
   "source": [
    "## Authentification to Copernicus Open Access Hub\n",
    "\n",
    "The Copernicus Open Access Hub and probably most Data Hubs require authentication.\n",
    "\n",
    "You can provide your credentials with **SentinelAPI(your username , your password)**"
   ]
  },
  {
   "cell_type": "code",
   "execution_count": 50,
   "metadata": {},
   "outputs": [],
   "source": [
    "user     = 'ndeffense'\n",
    "password = 'lbrat2104'\n",
    "\n",
    "# Connect to the API\n",
    "api = SentinelAPI(user, password, 'https://apihub.copernicus.eu/apihub')"
   ]
  },
  {
   "cell_type": "markdown",
   "metadata": {},
   "source": [
    "## Set region of interest"
   ]
  },
  {
   "cell_type": "markdown",
   "metadata": {},
   "source": [
    "### 1. Open ROI shapefile"
   ]
  },
  {
   "cell_type": "code",
   "execution_count": 51,
   "metadata": {},
   "outputs": [
    {
     "name": "stdout",
     "output_type": "stream",
     "text": [
      "ROI shapefile : /export/miro/ndeffense/LBRAT2104/GROUP_X/WORK/ROI/extent_roi_32631.shp\n"
     ]
    }
   ],
   "source": [
    "crs_dst = 'EPSG:32631'\n",
    "\n",
    "roi_name     = 'extent_roi'\n",
    "roi_filename = f'{roi_name}_{crs_dst[5:]}.shp'\n",
    "roi_file     = f'{roi_path}{roi_filename}'\n",
    "\n",
    "roi_gdf = gpd.read_file(roi_file)\n",
    "\n",
    "print(f'ROI shapefile : {roi_file}')"
   ]
  },
  {
   "cell_type": "markdown",
   "metadata": {},
   "source": [
    "### 2. Reproject to WGS 84 if necessary\n"
   ]
  },
  {
   "cell_type": "code",
   "execution_count": 52,
   "metadata": {},
   "outputs": [
    {
     "name": "stdout",
     "output_type": "stream",
     "text": [
      "Old CRS : epsg:32631\n",
      "New CRS : epsg:4326\n"
     ]
    }
   ],
   "source": [
    "if roi_gdf.crs != 'epsg:4326':\n",
    "    print(f'Old CRS : {roi_gdf.crs}')\n",
    "    \n",
    "    roi_gdf = roi_gdf.to_crs('epsg:4326')\n",
    "\n",
    "    print((f'New CRS : {roi_gdf.crs}'))"
   ]
  },
  {
   "cell_type": "markdown",
   "metadata": {},
   "source": [
    "### 3. Save ROI (WGS 84) as GeoJSON file\n"
   ]
  },
  {
   "cell_type": "code",
   "execution_count": 53,
   "metadata": {},
   "outputs": [
    {
     "name": "stdout",
     "output_type": "stream",
     "text": [
      "ROI GeoJSON file : /export/miro/ndeffense/LBRAT2104/GROUP_X/WORK/ROI/extent_roi_4326.geojson\n"
     ]
    }
   ],
   "source": [
    "roi_file_json = f'{roi_path}{roi_name}_4326.geojson'\n",
    "\n",
    "roi_gdf.to_file(roi_file_json, driver='GeoJSON')\n",
    "\n",
    "print(f'ROI GeoJSON file : {roi_file_json}')"
   ]
  },
  {
   "cell_type": "markdown",
   "metadata": {},
   "source": [
    "### 4. Set footprint"
   ]
  },
  {
   "cell_type": "code",
   "execution_count": 54,
   "metadata": {},
   "outputs": [
    {
     "data": {
      "text/plain": [
       "'GEOMETRYCOLLECTION(POLYGON((4.7927 50.4526,4.7946 50.5037,4.9335 50.5015,4.9314 50.4503,4.7927 50.4526)))'"
      ]
     },
     "execution_count": 54,
     "metadata": {},
     "output_type": "execute_result"
    }
   ],
   "source": [
    "footprint = geojson_to_wkt(read_geojson(roi_file_json))\n",
    "\n",
    "footprint"
   ]
  },
  {
   "cell_type": "markdown",
   "metadata": {},
   "source": [
    "## Set period of interest"
   ]
  },
  {
   "cell_type": "code",
   "execution_count": 55,
   "metadata": {},
   "outputs": [
    {
     "data": {
      "text/plain": [
       "(datetime.date(2021, 10, 1), datetime.date(2021, 11, 30))"
      ]
     },
     "execution_count": 55,
     "metadata": {},
     "output_type": "execute_result"
    }
   ],
   "source": [
    "# Year, Month, Day\n",
    "\n",
    "start_date = date(2021, 10, 1)\n",
    "end_date   = date(2021, 11, 30)\n",
    "\n",
    "period = (start_date, end_date)\n",
    "\n",
    "period"
   ]
  },
  {
   "cell_type": "markdown",
   "metadata": {},
   "source": [
    "## Set product type"
   ]
  },
  {
   "cell_type": "code",
   "execution_count": 56,
   "metadata": {},
   "outputs": [],
   "source": [
    "#product_type = 'GRD'\n",
    "product_type = 'SLC'"
   ]
  },
  {
   "cell_type": "markdown",
   "metadata": {},
   "source": [
    "## Set orbit direction"
   ]
  },
  {
   "cell_type": "code",
   "execution_count": 57,
   "metadata": {},
   "outputs": [],
   "source": [
    "#orbit_direction = 'ASCENDING'\n",
    "orbit_direction = None"
   ]
  },
  {
   "cell_type": "markdown",
   "metadata": {},
   "source": [
    "## Search by polygon, time, and SciHub query keywords"
   ]
  },
  {
   "cell_type": "code",
   "execution_count": 65,
   "metadata": {},
   "outputs": [
    {
     "data": {
      "text/html": [
       "<div>\n",
       "<style scoped>\n",
       "    .dataframe tbody tr th:only-of-type {\n",
       "        vertical-align: middle;\n",
       "    }\n",
       "\n",
       "    .dataframe tbody tr th {\n",
       "        vertical-align: top;\n",
       "    }\n",
       "\n",
       "    .dataframe thead th {\n",
       "        text-align: right;\n",
       "    }\n",
       "</style>\n",
       "<table border=\"1\" class=\"dataframe\">\n",
       "  <thead>\n",
       "    <tr style=\"text-align: right;\">\n",
       "      <th></th>\n",
       "      <th>title</th>\n",
       "      <th>link</th>\n",
       "      <th>link_alternative</th>\n",
       "      <th>link_icon</th>\n",
       "      <th>summary</th>\n",
       "      <th>ondemand</th>\n",
       "      <th>beginposition</th>\n",
       "      <th>endposition</th>\n",
       "      <th>ingestiondate</th>\n",
       "      <th>missiondatatakeid</th>\n",
       "      <th>...</th>\n",
       "      <th>producttype</th>\n",
       "      <th>platformname</th>\n",
       "      <th>platformidentifier</th>\n",
       "      <th>instrumentname</th>\n",
       "      <th>instrumentshortname</th>\n",
       "      <th>productclass</th>\n",
       "      <th>polarisationmode</th>\n",
       "      <th>acquisitiontype</th>\n",
       "      <th>uuid</th>\n",
       "      <th>geometry</th>\n",
       "    </tr>\n",
       "  </thead>\n",
       "  <tbody>\n",
       "    <tr>\n",
       "      <th>b1b3feaf-7789-4d72-b7e0-54daf9526dce</th>\n",
       "      <td>S1A_IW_SLC__1SDV_20211129T055902_20211129T0559...</td>\n",
       "      <td>https://apihub.copernicus.eu/apihub/odata/v1/P...</td>\n",
       "      <td>https://apihub.copernicus.eu/apihub/odata/v1/P...</td>\n",
       "      <td>https://apihub.copernicus.eu/apihub/odata/v1/P...</td>\n",
       "      <td>Date: 2021-11-29T05:59:02.914Z, Instrument: SA...</td>\n",
       "      <td>false</td>\n",
       "      <td>2021-11-29 05:59:02.914</td>\n",
       "      <td>2021-11-29 05:59:30.012</td>\n",
       "      <td>2021-11-29 07:18:32.892</td>\n",
       "      <td>317244</td>\n",
       "      <td>...</td>\n",
       "      <td>SLC</td>\n",
       "      <td>Sentinel-1</td>\n",
       "      <td>2014-016A</td>\n",
       "      <td>Synthetic Aperture Radar (C-band)</td>\n",
       "      <td>SAR-C SAR</td>\n",
       "      <td>S</td>\n",
       "      <td>VV VH</td>\n",
       "      <td>NOMINAL</td>\n",
       "      <td>b1b3feaf-7789-4d72-b7e0-54daf9526dce</td>\n",
       "      <td>MULTIPOLYGON (((4.98045 49.45272, 5.49601 51.0...</td>\n",
       "    </tr>\n",
       "    <tr>\n",
       "      <th>c666ef35-b132-46d5-8ed6-bb7ef9904248</th>\n",
       "      <td>S1A_IW_SLC__1SDV_20211127T172456_20211127T1725...</td>\n",
       "      <td>https://apihub.copernicus.eu/apihub/odata/v1/P...</td>\n",
       "      <td>https://apihub.copernicus.eu/apihub/odata/v1/P...</td>\n",
       "      <td>https://apihub.copernicus.eu/apihub/odata/v1/P...</td>\n",
       "      <td>Date: 2021-11-27T17:24:56.24Z, Instrument: SAR...</td>\n",
       "      <td>false</td>\n",
       "      <td>2021-11-27 17:24:56.240</td>\n",
       "      <td>2021-11-27 17:25:23.318</td>\n",
       "      <td>2021-11-27 18:48:49.874</td>\n",
       "      <td>317038</td>\n",
       "      <td>...</td>\n",
       "      <td>SLC</td>\n",
       "      <td>Sentinel-1</td>\n",
       "      <td>2014-016A</td>\n",
       "      <td>Synthetic Aperture Radar (C-band)</td>\n",
       "      <td>SAR-C SAR</td>\n",
       "      <td>S</td>\n",
       "      <td>VV VH</td>\n",
       "      <td>NOMINAL</td>\n",
       "      <td>c666ef35-b132-46d5-8ed6-bb7ef9904248</td>\n",
       "      <td>MULTIPOLYGON (((4.45775 49.85886, 8.02799 50.2...</td>\n",
       "    </tr>\n",
       "    <tr>\n",
       "      <th>a3093df0-72d5-4205-b88e-de79ab053b27</th>\n",
       "      <td>S1B_IW_SLC__1SDV_20211126T173211_20211126T1732...</td>\n",
       "      <td>https://apihub.copernicus.eu/apihub/odata/v1/P...</td>\n",
       "      <td>https://apihub.copernicus.eu/apihub/odata/v1/P...</td>\n",
       "      <td>https://apihub.copernicus.eu/apihub/odata/v1/P...</td>\n",
       "      <td>Date: 2021-11-26T17:32:11.441Z, Instrument: SA...</td>\n",
       "      <td>false</td>\n",
       "      <td>2021-11-26 17:32:11.441</td>\n",
       "      <td>2021-11-26 17:32:38.418</td>\n",
       "      <td>2021-11-26 18:48:46.008</td>\n",
       "      <td>232802</td>\n",
       "      <td>...</td>\n",
       "      <td>SLC</td>\n",
       "      <td>Sentinel-1</td>\n",
       "      <td>2016-025A</td>\n",
       "      <td>Synthetic Aperture Radar (C-band)</td>\n",
       "      <td>SAR-C SAR</td>\n",
       "      <td>S</td>\n",
       "      <td>VV VH</td>\n",
       "      <td>NOMINAL</td>\n",
       "      <td>a3093df0-72d5-4205-b88e-de79ab053b27</td>\n",
       "      <td>MULTIPOLYGON (((2.72885 48.86291, 6.21426 49.2...</td>\n",
       "    </tr>\n",
       "    <tr>\n",
       "      <th>29686869-fc46-47a8-8cf4-167161387a22</th>\n",
       "      <td>S1A_IW_SLC__1SDV_20211124T055054_20211124T0551...</td>\n",
       "      <td>https://apihub.copernicus.eu/apihub/odata/v1/P...</td>\n",
       "      <td>https://apihub.copernicus.eu/apihub/odata/v1/P...</td>\n",
       "      <td>https://apihub.copernicus.eu/apihub/odata/v1/P...</td>\n",
       "      <td>Date: 2021-11-24T05:50:54.177Z, Instrument: SA...</td>\n",
       "      <td>false</td>\n",
       "      <td>2021-11-24 05:50:54.177</td>\n",
       "      <td>2021-11-24 05:51:21.273</td>\n",
       "      <td>2021-11-24 08:01:24.803</td>\n",
       "      <td>316591</td>\n",
       "      <td>...</td>\n",
       "      <td>SLC</td>\n",
       "      <td>Sentinel-1</td>\n",
       "      <td>2014-016A</td>\n",
       "      <td>Synthetic Aperture Radar (C-band)</td>\n",
       "      <td>SAR-C SAR</td>\n",
       "      <td>S</td>\n",
       "      <td>VV VH</td>\n",
       "      <td>NOMINAL</td>\n",
       "      <td>29686869-fc46-47a8-8cf4-167161387a22</td>\n",
       "      <td>MULTIPOLYGON (((6.94221 49.16781, 7.45346 50.7...</td>\n",
       "    </tr>\n",
       "    <tr>\n",
       "      <th>536bf3ce-542a-4614-889a-69d17553b5a9</th>\n",
       "      <td>S1B_IW_SLC__1SDV_20211123T055807_20211123T0558...</td>\n",
       "      <td>https://apihub.copernicus.eu/apihub/odata/v1/P...</td>\n",
       "      <td>https://apihub.copernicus.eu/apihub/odata/v1/P...</td>\n",
       "      <td>https://apihub.copernicus.eu/apihub/odata/v1/P...</td>\n",
       "      <td>Date: 2021-11-23T05:58:07.534Z, Instrument: SA...</td>\n",
       "      <td>false</td>\n",
       "      <td>2021-11-23 05:58:07.534</td>\n",
       "      <td>2021-11-23 05:58:34.635</td>\n",
       "      <td>2021-11-23 07:45:44.449</td>\n",
       "      <td>232412</td>\n",
       "      <td>...</td>\n",
       "      <td>SLC</td>\n",
       "      <td>Sentinel-1</td>\n",
       "      <td>2016-025A</td>\n",
       "      <td>Synthetic Aperture Radar (C-band)</td>\n",
       "      <td>SAR-C SAR</td>\n",
       "      <td>S</td>\n",
       "      <td>VV VH</td>\n",
       "      <td>NOMINAL</td>\n",
       "      <td>536bf3ce-542a-4614-889a-69d17553b5a9</td>\n",
       "      <td>MULTIPOLYGON (((5.26505 50.27451, 5.79374 51.8...</td>\n",
       "    </tr>\n",
       "  </tbody>\n",
       "</table>\n",
       "<p>5 rows × 34 columns</p>\n",
       "</div>"
      ],
      "text/plain": [
       "                                                                                  title  \\\n",
       "b1b3feaf-7789-4d72-b7e0-54daf9526dce  S1A_IW_SLC__1SDV_20211129T055902_20211129T0559...   \n",
       "c666ef35-b132-46d5-8ed6-bb7ef9904248  S1A_IW_SLC__1SDV_20211127T172456_20211127T1725...   \n",
       "a3093df0-72d5-4205-b88e-de79ab053b27  S1B_IW_SLC__1SDV_20211126T173211_20211126T1732...   \n",
       "29686869-fc46-47a8-8cf4-167161387a22  S1A_IW_SLC__1SDV_20211124T055054_20211124T0551...   \n",
       "536bf3ce-542a-4614-889a-69d17553b5a9  S1B_IW_SLC__1SDV_20211123T055807_20211123T0558...   \n",
       "\n",
       "                                                                                   link  \\\n",
       "b1b3feaf-7789-4d72-b7e0-54daf9526dce  https://apihub.copernicus.eu/apihub/odata/v1/P...   \n",
       "c666ef35-b132-46d5-8ed6-bb7ef9904248  https://apihub.copernicus.eu/apihub/odata/v1/P...   \n",
       "a3093df0-72d5-4205-b88e-de79ab053b27  https://apihub.copernicus.eu/apihub/odata/v1/P...   \n",
       "29686869-fc46-47a8-8cf4-167161387a22  https://apihub.copernicus.eu/apihub/odata/v1/P...   \n",
       "536bf3ce-542a-4614-889a-69d17553b5a9  https://apihub.copernicus.eu/apihub/odata/v1/P...   \n",
       "\n",
       "                                                                       link_alternative  \\\n",
       "b1b3feaf-7789-4d72-b7e0-54daf9526dce  https://apihub.copernicus.eu/apihub/odata/v1/P...   \n",
       "c666ef35-b132-46d5-8ed6-bb7ef9904248  https://apihub.copernicus.eu/apihub/odata/v1/P...   \n",
       "a3093df0-72d5-4205-b88e-de79ab053b27  https://apihub.copernicus.eu/apihub/odata/v1/P...   \n",
       "29686869-fc46-47a8-8cf4-167161387a22  https://apihub.copernicus.eu/apihub/odata/v1/P...   \n",
       "536bf3ce-542a-4614-889a-69d17553b5a9  https://apihub.copernicus.eu/apihub/odata/v1/P...   \n",
       "\n",
       "                                                                              link_icon  \\\n",
       "b1b3feaf-7789-4d72-b7e0-54daf9526dce  https://apihub.copernicus.eu/apihub/odata/v1/P...   \n",
       "c666ef35-b132-46d5-8ed6-bb7ef9904248  https://apihub.copernicus.eu/apihub/odata/v1/P...   \n",
       "a3093df0-72d5-4205-b88e-de79ab053b27  https://apihub.copernicus.eu/apihub/odata/v1/P...   \n",
       "29686869-fc46-47a8-8cf4-167161387a22  https://apihub.copernicus.eu/apihub/odata/v1/P...   \n",
       "536bf3ce-542a-4614-889a-69d17553b5a9  https://apihub.copernicus.eu/apihub/odata/v1/P...   \n",
       "\n",
       "                                                                                summary  \\\n",
       "b1b3feaf-7789-4d72-b7e0-54daf9526dce  Date: 2021-11-29T05:59:02.914Z, Instrument: SA...   \n",
       "c666ef35-b132-46d5-8ed6-bb7ef9904248  Date: 2021-11-27T17:24:56.24Z, Instrument: SAR...   \n",
       "a3093df0-72d5-4205-b88e-de79ab053b27  Date: 2021-11-26T17:32:11.441Z, Instrument: SA...   \n",
       "29686869-fc46-47a8-8cf4-167161387a22  Date: 2021-11-24T05:50:54.177Z, Instrument: SA...   \n",
       "536bf3ce-542a-4614-889a-69d17553b5a9  Date: 2021-11-23T05:58:07.534Z, Instrument: SA...   \n",
       "\n",
       "                                     ondemand           beginposition  \\\n",
       "b1b3feaf-7789-4d72-b7e0-54daf9526dce    false 2021-11-29 05:59:02.914   \n",
       "c666ef35-b132-46d5-8ed6-bb7ef9904248    false 2021-11-27 17:24:56.240   \n",
       "a3093df0-72d5-4205-b88e-de79ab053b27    false 2021-11-26 17:32:11.441   \n",
       "29686869-fc46-47a8-8cf4-167161387a22    false 2021-11-24 05:50:54.177   \n",
       "536bf3ce-542a-4614-889a-69d17553b5a9    false 2021-11-23 05:58:07.534   \n",
       "\n",
       "                                                 endposition  \\\n",
       "b1b3feaf-7789-4d72-b7e0-54daf9526dce 2021-11-29 05:59:30.012   \n",
       "c666ef35-b132-46d5-8ed6-bb7ef9904248 2021-11-27 17:25:23.318   \n",
       "a3093df0-72d5-4205-b88e-de79ab053b27 2021-11-26 17:32:38.418   \n",
       "29686869-fc46-47a8-8cf4-167161387a22 2021-11-24 05:51:21.273   \n",
       "536bf3ce-542a-4614-889a-69d17553b5a9 2021-11-23 05:58:34.635   \n",
       "\n",
       "                                               ingestiondate  \\\n",
       "b1b3feaf-7789-4d72-b7e0-54daf9526dce 2021-11-29 07:18:32.892   \n",
       "c666ef35-b132-46d5-8ed6-bb7ef9904248 2021-11-27 18:48:49.874   \n",
       "a3093df0-72d5-4205-b88e-de79ab053b27 2021-11-26 18:48:46.008   \n",
       "29686869-fc46-47a8-8cf4-167161387a22 2021-11-24 08:01:24.803   \n",
       "536bf3ce-542a-4614-889a-69d17553b5a9 2021-11-23 07:45:44.449   \n",
       "\n",
       "                                      missiondatatakeid  ...  producttype  \\\n",
       "b1b3feaf-7789-4d72-b7e0-54daf9526dce             317244  ...          SLC   \n",
       "c666ef35-b132-46d5-8ed6-bb7ef9904248             317038  ...          SLC   \n",
       "a3093df0-72d5-4205-b88e-de79ab053b27             232802  ...          SLC   \n",
       "29686869-fc46-47a8-8cf4-167161387a22             316591  ...          SLC   \n",
       "536bf3ce-542a-4614-889a-69d17553b5a9             232412  ...          SLC   \n",
       "\n",
       "                                      platformname  platformidentifier  \\\n",
       "b1b3feaf-7789-4d72-b7e0-54daf9526dce    Sentinel-1           2014-016A   \n",
       "c666ef35-b132-46d5-8ed6-bb7ef9904248    Sentinel-1           2014-016A   \n",
       "a3093df0-72d5-4205-b88e-de79ab053b27    Sentinel-1           2016-025A   \n",
       "29686869-fc46-47a8-8cf4-167161387a22    Sentinel-1           2014-016A   \n",
       "536bf3ce-542a-4614-889a-69d17553b5a9    Sentinel-1           2016-025A   \n",
       "\n",
       "                                                         instrumentname  \\\n",
       "b1b3feaf-7789-4d72-b7e0-54daf9526dce  Synthetic Aperture Radar (C-band)   \n",
       "c666ef35-b132-46d5-8ed6-bb7ef9904248  Synthetic Aperture Radar (C-band)   \n",
       "a3093df0-72d5-4205-b88e-de79ab053b27  Synthetic Aperture Radar (C-band)   \n",
       "29686869-fc46-47a8-8cf4-167161387a22  Synthetic Aperture Radar (C-band)   \n",
       "536bf3ce-542a-4614-889a-69d17553b5a9  Synthetic Aperture Radar (C-band)   \n",
       "\n",
       "                                      instrumentshortname productclass  \\\n",
       "b1b3feaf-7789-4d72-b7e0-54daf9526dce            SAR-C SAR            S   \n",
       "c666ef35-b132-46d5-8ed6-bb7ef9904248            SAR-C SAR            S   \n",
       "a3093df0-72d5-4205-b88e-de79ab053b27            SAR-C SAR            S   \n",
       "29686869-fc46-47a8-8cf4-167161387a22            SAR-C SAR            S   \n",
       "536bf3ce-542a-4614-889a-69d17553b5a9            SAR-C SAR            S   \n",
       "\n",
       "                                     polarisationmode acquisitiontype  \\\n",
       "b1b3feaf-7789-4d72-b7e0-54daf9526dce            VV VH         NOMINAL   \n",
       "c666ef35-b132-46d5-8ed6-bb7ef9904248            VV VH         NOMINAL   \n",
       "a3093df0-72d5-4205-b88e-de79ab053b27            VV VH         NOMINAL   \n",
       "29686869-fc46-47a8-8cf4-167161387a22            VV VH         NOMINAL   \n",
       "536bf3ce-542a-4614-889a-69d17553b5a9            VV VH         NOMINAL   \n",
       "\n",
       "                                                                      uuid  \\\n",
       "b1b3feaf-7789-4d72-b7e0-54daf9526dce  b1b3feaf-7789-4d72-b7e0-54daf9526dce   \n",
       "c666ef35-b132-46d5-8ed6-bb7ef9904248  c666ef35-b132-46d5-8ed6-bb7ef9904248   \n",
       "a3093df0-72d5-4205-b88e-de79ab053b27  a3093df0-72d5-4205-b88e-de79ab053b27   \n",
       "29686869-fc46-47a8-8cf4-167161387a22  29686869-fc46-47a8-8cf4-167161387a22   \n",
       "536bf3ce-542a-4614-889a-69d17553b5a9  536bf3ce-542a-4614-889a-69d17553b5a9   \n",
       "\n",
       "                                                                               geometry  \n",
       "b1b3feaf-7789-4d72-b7e0-54daf9526dce  MULTIPOLYGON (((4.98045 49.45272, 5.49601 51.0...  \n",
       "c666ef35-b132-46d5-8ed6-bb7ef9904248  MULTIPOLYGON (((4.45775 49.85886, 8.02799 50.2...  \n",
       "a3093df0-72d5-4205-b88e-de79ab053b27  MULTIPOLYGON (((2.72885 48.86291, 6.21426 49.2...  \n",
       "29686869-fc46-47a8-8cf4-167161387a22  MULTIPOLYGON (((6.94221 49.16781, 7.45346 50.7...  \n",
       "536bf3ce-542a-4614-889a-69d17553b5a9  MULTIPOLYGON (((5.26505 50.27451, 5.79374 51.8...  \n",
       "\n",
       "[5 rows x 34 columns]"
      ]
     },
     "metadata": {},
     "output_type": "display_data"
    }
   ],
   "source": [
    "products = api.query(footprint,\n",
    "                     date = period,\n",
    "                     platformname = 'Sentinel-1',\n",
    "                     producttype = product_type,\n",
    "                     orbitdirection = orbit_direction,\n",
    "                     limit = 10)\n",
    "\n",
    "# Convert to pandas DataFrame\n",
    "\n",
    "gdf = api.to_geodataframe(products)\n",
    "\n",
    "display(gdf.head())"
   ]
  },
  {
   "cell_type": "code",
   "execution_count": 66,
   "metadata": {},
   "outputs": [
    {
     "name": "stdout",
     "output_type": "stream",
     "text": [
      "Relative orbit number : [110, 88, 161, 37]\n"
     ]
    }
   ],
   "source": [
    "orbit_list = gdf['relativeorbitnumber'].drop_duplicates().to_list()\n",
    "\n",
    "print(f'Relative orbit number : {orbit_list}')"
   ]
  },
  {
   "cell_type": "markdown",
   "metadata": {},
   "source": [
    "## Plot footprint of the products"
   ]
  },
  {
   "cell_type": "code",
   "execution_count": 59,
   "metadata": {},
   "outputs": [
    {
     "data": {
      "image/png": "[encoded data removed]",
      "text/plain": [
       "<Figure size 720x720 with 1 Axes>"
      ]
     },
     "metadata": {
      "needs_background": "light"
     },
     "output_type": "display_data"
    }
   ],
   "source": [
    "fig, ax = plt.subplots(1, 1, figsize=(10,10))\n",
    "\n",
    "gdf.boundary.plot(ax=ax)\n",
    "\n",
    "roi_gdf.boundary.plot(color='red', linewidth = 4, ax=ax)\n",
    "\n",
    "plt.box(False)"
   ]
  },
  {
   "cell_type": "markdown",
   "metadata": {},
   "source": [
    "## Download products\n",
    "\n",
    "Copernicus Open Access Hub no longer stores all products online for immediate retrieval. Offline products can be requested from the Long Term Archive (LTA) and should become available within 24 hours. Copernicus Open Access Hub’s quota currently permits users to request an offline product every 30 minutes.\n",
    "\n",
    "A product’s availability can be checked by using the `is_online()` convenience method.\n",
    "\n",
    "The retrieval of offline products from the LTA can be triggered using trigger_offline_retrieval()."
   ]
  },
  {
   "cell_type": "markdown",
   "metadata": {},
   "source": [
    "### Define the filter function to select files (to be excluded in this case)\n"
   ]
  },
  {
   "cell_type": "code",
   "execution_count": 60,
   "metadata": {},
   "outputs": [],
   "source": [
    "#path_filter = make_path_filter(\"*s1?-ew[12]-slc-hh-*.tiff\")\n",
    "path_filter = None"
   ]
  },
  {
   "cell_type": "code",
   "execution_count": 61,
   "metadata": {},
   "outputs": [
    {
     "name": "stdout",
     "output_type": "stream",
     "text": [
      "Product b1b3feaf-7789-4d72-b7e0-54daf9526dce is online. Starting download.\n"
     ]
    }
   ],
   "source": [
    "for i, row in gdf[0:1].iterrows():\n",
    "\n",
    "    product_id = row['uuid']\n",
    "\n",
    "    is_online = api.is_online(product_id)\n",
    "\n",
    "    if is_online:\n",
    "        print(f'Product {product_id} is online. Starting download.')\n",
    "        #api.download(product_id, directory_path=dwl_path, nodefilter=path_filter)\n",
    "    else:\n",
    "        print(f'Product {product_id} is not online.')\n",
    "        api.trigger_offline_retrieval(product_id)\n"
   ]
  }
 ],
 "metadata": {
  "interpreter": {
   "hash": "d44a822591a3717b24d3edf137db462f6168d56f0b857c252a9153258824edbd"
  },
  "kernelspec": {
   "display_name": "Python 3.6.10 64-bit ('python_3_6': conda)",
   "name": "python3"
  },
  "language_info": {
   "codemirror_mode": {
    "name": "ipython",
    "version": 3
   },
   "file_extension": ".py",
   "mimetype": "text/x-python",
   "name": "python",
   "nbconvert_exporter": "python",
   "pygments_lexer": "ipython3",
   "version": "3.6.12"
  },
  "orig_nbformat": 4
 },
 "nbformat": 4,
 "nbformat_minor": 2
}
