{
 "cells": [
  {
   "cell_type": "markdown",
   "metadata": {},
   "source": [
    "# Download EO data with `sentinelsat`"
   ]
  },
  {
   "cell_type": "code",
   "execution_count": 1,
   "metadata": {},
   "outputs": [
    {
     "name": "stdout",
     "output_type": "stream",
     "text": [
      "All libraries successfully imported!\n",
      "sentinelsat : 1.1.0\n"
     ]
    }
   ],
   "source": [
    "import sentinelsat\n",
    "from sentinelsat import SentinelAPI, read_geojson, geojson_to_wkt, make_path_filter\n",
    "from collections import OrderedDict\n",
    "from pathlib import Path\n",
    "from datetime import date\n",
    "import geopandas as gpd\n",
    "from IPython.display import display\n",
    "import matplotlib.pyplot as plt\n",
    "\n",
    "\n",
    "print('All libraries successfully imported!')\n",
    "print(f'sentinelsat : {sentinelsat.__version__}')"
   ]
  },
  {
   "cell_type": "markdown",
   "metadata": {},
   "source": [
    "## Set directory"
   ]
  },
  {
   "cell_type": "code",
   "execution_count": 2,
   "metadata": {},
   "outputs": [],
   "source": [
    "computer_path = '/export/miro/ndeffense/LBRAT2104/'\n",
    "grp_letter    = 'X'\n",
    "\n",
    "# Directory for all work files\n",
    "work_path = f'{computer_path}GROUP_{grp_letter}/WORK/'\n",
    "\n",
    "roi_path = f'{work_path}ROI/'\n",
    "dwl_path = f'{work_path}DOWNLOAD/'\n",
    "\n",
    "Path(dwl_path).mkdir(parents=True, exist_ok=True)"
   ]
  },
  {
   "cell_type": "markdown",
   "metadata": {},
   "source": [
    "## Set Region of Interest\n",
    "\n",
    "### 1. Open ROI shapefile"
   ]
  },
  {
   "cell_type": "code",
   "execution_count": 3,
   "metadata": {},
   "outputs": [
    {
     "name": "stdout",
     "output_type": "stream",
     "text": [
      "ROI shapefile : /export/miro/ndeffense/LBRAT2104/GROUP_X/WORK/ROI/extent_roi_32631.shp\n"
     ]
    }
   ],
   "source": [
    "crs_dst = 'EPSG:32631'\n",
    "\n",
    "roi_name = 'extent_roi'\n",
    "roi_filename = f'{roi_name}_{crs_dst[5:]}.shp'\n",
    "\n",
    "roi_file      = f'{roi_path}{roi_filename}'\n",
    "roi_file_json = f'{roi_path}{roi_name}_4326.geojson'\n",
    "\n",
    "roi_gdf = gpd.read_file(roi_file)\n",
    "\n",
    "print(f'ROI shapefile : {roi_file}')"
   ]
  },
  {
   "cell_type": "markdown",
   "metadata": {},
   "source": [
    "### 2. Reproject to WGS 84 if necessary\n"
   ]
  },
  {
   "cell_type": "code",
   "execution_count": 4,
   "metadata": {},
   "outputs": [
    {
     "name": "stdout",
     "output_type": "stream",
     "text": [
      "Old CRS : epsg:32631\n",
      "New CRS : epsg:4326\n"
     ]
    }
   ],
   "source": [
    "if roi_gdf.crs != 'epsg:4326':\n",
    "    print(f'Old CRS : {roi_gdf.crs}')\n",
    "    \n",
    "    roi_gdf = roi_gdf.to_crs('epsg:4326')\n",
    "\n",
    "    print((f'New CRS : {roi_gdf.crs}'))"
   ]
  },
  {
   "cell_type": "markdown",
   "metadata": {},
   "source": [
    "### 3. Save ROI as GeoJSON file\n"
   ]
  },
  {
   "cell_type": "code",
   "execution_count": 5,
   "metadata": {},
   "outputs": [
    {
     "name": "stdout",
     "output_type": "stream",
     "text": [
      "ROI GeoJSON file : /export/miro/ndeffense/LBRAT2104/GROUP_X/WORK/ROI/extent_roi_4326.geojson\n"
     ]
    }
   ],
   "source": [
    "roi_gdf.to_file(roi_file_json, driver='GeoJSON')\n",
    "\n",
    "print(f'ROI GeoJSON file : {roi_file_json}')"
   ]
  },
  {
   "cell_type": "markdown",
   "metadata": {},
   "source": [
    "## Authentification\n",
    "\n",
    "The Copernicus Open Access Hub and probably most Data Hubs require authentication.\n",
    "\n",
    "You can provide your credentials with **SentinelAPI(your username , your password)**\n"
   ]
  },
  {
   "cell_type": "code",
   "execution_count": 6,
   "metadata": {},
   "outputs": [],
   "source": [
    "user     = 'ndeffense'\n",
    "password = 'lbrat2104'\n",
    "\n",
    "# Connect to the API\n",
    "\n",
    "api = SentinelAPI(user, password, 'https://apihub.copernicus.eu/apihub')"
   ]
  },
  {
   "cell_type": "markdown",
   "metadata": {},
   "source": [
    "## Sorting & Filtering\n",
    "\n",
    "In addition to the *search query keywords* sentinelsat allows filtering and sorting of search results before download. To simplify these operations sentinelsat offers the convenience functions `to_geojson()`, `to_dataframe()` and `to_geodataframe()` which return the search results as a GeoJSON object, Pandas DataFrame or a GeoPandas GeoDataFrame, respectively. `to_dataframe()` and `to_geodataframe()` require pandas and geopandas to be installed, respectively.\n",
    "\n",
    "In this example we query Sentinel-2 scenes over a location and convert the query results to a Pandas DataFrame. The DataFrame is then sorted by cloud cover and ingestion date. We limit the query to first 5 results within our timespan and download them, starting with the least cloudy scene. Filtering can be done with all data types, as long as you pass the id to the download function."
   ]
  },
  {
   "cell_type": "code",
   "execution_count": 7,
   "metadata": {},
   "outputs": [],
   "source": [
    "start_date    = date(2021, 10, 1)\n",
    "end_date      = date(2021, 11, 30)\n",
    "\n",
    "dates = (start_date, end_date)\n",
    "\n",
    "platform_name = 'Sentinel-2'\n",
    "\n",
    "# Sentinel-2\n",
    "#s2_level      = 'Level-1C'\n",
    "#product_type  = 'S2MSI1C'\n",
    "\n",
    "s2_level      = 'Level-2A'\n",
    "product_type  = 'S2MSI2A'\n",
    "\n",
    "cloud_cover   = (0,90)\n",
    "s2_tile       = '31UFS'\n",
    "\n",
    "# Sentinel-1\n",
    "polarisation_mode =  'VV VH'"
   ]
  },
  {
   "cell_type": "markdown",
   "metadata": {},
   "source": [
    "### Search by polygon, time, and SciHub query keywords"
   ]
  },
  {
   "cell_type": "code",
   "execution_count": 8,
   "metadata": {},
   "outputs": [
    {
     "data": {
      "text/html": [
       "<div>\n",
       "<style scoped>\n",
       "    .dataframe tbody tr th:only-of-type {\n",
       "        vertical-align: middle;\n",
       "    }\n",
       "\n",
       "    .dataframe tbody tr th {\n",
       "        vertical-align: top;\n",
       "    }\n",
       "\n",
       "    .dataframe thead th {\n",
       "        text-align: right;\n",
       "    }\n",
       "</style>\n",
       "<table border=\"1\" class=\"dataframe\">\n",
       "  <thead>\n",
       "    <tr style=\"text-align: right;\">\n",
       "      <th></th>\n",
       "      <th>title</th>\n",
       "      <th>link</th>\n",
       "      <th>link_alternative</th>\n",
       "      <th>link_icon</th>\n",
       "      <th>summary</th>\n",
       "      <th>ondemand</th>\n",
       "      <th>generationdate</th>\n",
       "      <th>beginposition</th>\n",
       "      <th>endposition</th>\n",
       "      <th>ingestiondate</th>\n",
       "      <th>...</th>\n",
       "      <th>s2datatakeid</th>\n",
       "      <th>producttype</th>\n",
       "      <th>platformidentifier</th>\n",
       "      <th>orbitdirection</th>\n",
       "      <th>platformserialidentifier</th>\n",
       "      <th>processinglevel</th>\n",
       "      <th>datastripidentifier</th>\n",
       "      <th>granuleidentifier</th>\n",
       "      <th>identifier</th>\n",
       "      <th>uuid</th>\n",
       "    </tr>\n",
       "  </thead>\n",
       "  <tbody>\n",
       "    <tr>\n",
       "      <th>eebdc6f2-e351-4664-bc8c-049560fb20b1</th>\n",
       "      <td>S2A_MSIL2A_20211128T104411_N0301_R008_T31UFS_2...</td>\n",
       "      <td>https://apihub.copernicus.eu/apihub/odata/v1/P...</td>\n",
       "      <td>https://apihub.copernicus.eu/apihub/odata/v1/P...</td>\n",
       "      <td>https://apihub.copernicus.eu/apihub/odata/v1/P...</td>\n",
       "      <td>Date: 2021-11-28T10:44:11.024Z, Instrument: MS...</td>\n",
       "      <td>false</td>\n",
       "      <td>2021-11-28 13:40:10</td>\n",
       "      <td>2021-11-28 10:44:11.024</td>\n",
       "      <td>2021-11-28 10:44:11.024</td>\n",
       "      <td>2021-11-28 15:57:25.295</td>\n",
       "      <td>...</td>\n",
       "      <td>GS2A_20211128T104411_033610_N03.01</td>\n",
       "      <td>S2MSI2A</td>\n",
       "      <td>2015-028A</td>\n",
       "      <td>DESCENDING</td>\n",
       "      <td>Sentinel-2A</td>\n",
       "      <td>Level-2A</td>\n",
       "      <td>S2A_OPER_MSI_L2A_DS_VGS2_20211128T134010_S2021...</td>\n",
       "      <td>S2A_OPER_MSI_L2A_TL_VGS2_20211128T134010_A0336...</td>\n",
       "      <td>S2A_MSIL2A_20211128T104411_N0301_R008_T31UFS_2...</td>\n",
       "      <td>eebdc6f2-e351-4664-bc8c-049560fb20b1</td>\n",
       "    </tr>\n",
       "    <tr>\n",
       "      <th>6fc27276-c3b4-4573-a872-f3ec81822498</th>\n",
       "      <td>S2B_MSIL2A_20211126T105309_N0301_R051_T31UES_2...</td>\n",
       "      <td>https://apihub.copernicus.eu/apihub/odata/v1/P...</td>\n",
       "      <td>https://apihub.copernicus.eu/apihub/odata/v1/P...</td>\n",
       "      <td>https://apihub.copernicus.eu/apihub/odata/v1/P...</td>\n",
       "      <td>Date: 2021-11-26T10:53:09.024Z, Instrument: MS...</td>\n",
       "      <td>false</td>\n",
       "      <td>2021-11-26 12:59:46</td>\n",
       "      <td>2021-11-26 10:53:09.024</td>\n",
       "      <td>2021-11-26 10:53:09.024</td>\n",
       "      <td>2021-11-26 18:00:54.242</td>\n",
       "      <td>...</td>\n",
       "      <td>GS2B_20211126T105309_024673_N03.01</td>\n",
       "      <td>S2MSI2A</td>\n",
       "      <td>2017-013A</td>\n",
       "      <td>DESCENDING</td>\n",
       "      <td>Sentinel-2B</td>\n",
       "      <td>Level-2A</td>\n",
       "      <td>S2B_OPER_MSI_L2A_DS_VGS4_20211126T125946_S2021...</td>\n",
       "      <td>S2B_OPER_MSI_L2A_TL_VGS4_20211126T125946_A0246...</td>\n",
       "      <td>S2B_MSIL2A_20211126T105309_N0301_R051_T31UES_2...</td>\n",
       "      <td>6fc27276-c3b4-4573-a872-f3ec81822498</td>\n",
       "    </tr>\n",
       "    <tr>\n",
       "      <th>d99f7ed0-19aa-491a-b35d-3758c0b36e24</th>\n",
       "      <td>S2B_MSIL2A_20211126T105309_N0301_R051_T31UFR_2...</td>\n",
       "      <td>https://apihub.copernicus.eu/apihub/odata/v1/P...</td>\n",
       "      <td>https://apihub.copernicus.eu/apihub/odata/v1/P...</td>\n",
       "      <td>https://apihub.copernicus.eu/apihub/odata/v1/P...</td>\n",
       "      <td>Date: 2021-11-26T10:53:09.024Z, Instrument: MS...</td>\n",
       "      <td>false</td>\n",
       "      <td>2021-11-26 12:59:46</td>\n",
       "      <td>2021-11-26 10:53:09.024</td>\n",
       "      <td>2021-11-26 10:53:09.024</td>\n",
       "      <td>2021-11-26 17:59:28.316</td>\n",
       "      <td>...</td>\n",
       "      <td>GS2B_20211126T105309_024673_N03.01</td>\n",
       "      <td>S2MSI2A</td>\n",
       "      <td>2017-013A</td>\n",
       "      <td>DESCENDING</td>\n",
       "      <td>Sentinel-2B</td>\n",
       "      <td>Level-2A</td>\n",
       "      <td>S2B_OPER_MSI_L2A_DS_VGS4_20211126T125946_S2021...</td>\n",
       "      <td>S2B_OPER_MSI_L2A_TL_VGS4_20211126T125946_A0246...</td>\n",
       "      <td>S2B_MSIL2A_20211126T105309_N0301_R051_T31UFR_2...</td>\n",
       "      <td>d99f7ed0-19aa-491a-b35d-3758c0b36e24</td>\n",
       "    </tr>\n",
       "    <tr>\n",
       "      <th>cb702f82-efcb-4a53-8a3c-73270742a73c</th>\n",
       "      <td>S2B_MSIL2A_20211126T105309_N0301_R051_T31UER_2...</td>\n",
       "      <td>https://apihub.copernicus.eu/apihub/odata/v1/P...</td>\n",
       "      <td>https://apihub.copernicus.eu/apihub/odata/v1/P...</td>\n",
       "      <td>https://apihub.copernicus.eu/apihub/odata/v1/P...</td>\n",
       "      <td>Date: 2021-11-26T10:53:09.024Z, Instrument: MS...</td>\n",
       "      <td>false</td>\n",
       "      <td>2021-11-26 12:59:46</td>\n",
       "      <td>2021-11-26 10:53:09.024</td>\n",
       "      <td>2021-11-26 10:53:09.024</td>\n",
       "      <td>2021-11-26 17:55:41.179</td>\n",
       "      <td>...</td>\n",
       "      <td>GS2B_20211126T105309_024673_N03.01</td>\n",
       "      <td>S2MSI2A</td>\n",
       "      <td>2017-013A</td>\n",
       "      <td>DESCENDING</td>\n",
       "      <td>Sentinel-2B</td>\n",
       "      <td>Level-2A</td>\n",
       "      <td>S2B_OPER_MSI_L2A_DS_VGS4_20211126T125946_S2021...</td>\n",
       "      <td>S2B_OPER_MSI_L2A_TL_VGS4_20211126T125946_A0246...</td>\n",
       "      <td>S2B_MSIL2A_20211126T105309_N0301_R051_T31UER_2...</td>\n",
       "      <td>cb702f82-efcb-4a53-8a3c-73270742a73c</td>\n",
       "    </tr>\n",
       "    <tr>\n",
       "      <th>73ec4e85-e6cf-40e1-a19d-775e695b07d0</th>\n",
       "      <td>S2B_MSIL2A_20211126T105309_N0301_R051_T31UFS_2...</td>\n",
       "      <td>https://apihub.copernicus.eu/apihub/odata/v1/P...</td>\n",
       "      <td>https://apihub.copernicus.eu/apihub/odata/v1/P...</td>\n",
       "      <td>https://apihub.copernicus.eu/apihub/odata/v1/P...</td>\n",
       "      <td>Date: 2021-11-26T10:53:09.024Z, Instrument: MS...</td>\n",
       "      <td>false</td>\n",
       "      <td>2021-11-26 12:59:46</td>\n",
       "      <td>2021-11-26 10:53:09.024</td>\n",
       "      <td>2021-11-26 10:53:09.024</td>\n",
       "      <td>2021-11-26 17:45:39.019</td>\n",
       "      <td>...</td>\n",
       "      <td>GS2B_20211126T105309_024673_N03.01</td>\n",
       "      <td>S2MSI2A</td>\n",
       "      <td>2017-013A</td>\n",
       "      <td>DESCENDING</td>\n",
       "      <td>Sentinel-2B</td>\n",
       "      <td>Level-2A</td>\n",
       "      <td>S2B_OPER_MSI_L2A_DS_VGS4_20211126T125946_S2021...</td>\n",
       "      <td>S2B_OPER_MSI_L2A_TL_VGS4_20211126T125946_A0246...</td>\n",
       "      <td>S2B_MSIL2A_20211126T105309_N0301_R051_T31UFS_2...</td>\n",
       "      <td>73ec4e85-e6cf-40e1-a19d-775e695b07d0</td>\n",
       "    </tr>\n",
       "  </tbody>\n",
       "</table>\n",
       "<p>5 rows × 42 columns</p>\n",
       "</div>"
      ],
      "text/plain": [
       "                                                                                  title  \\\n",
       "eebdc6f2-e351-4664-bc8c-049560fb20b1  S2A_MSIL2A_20211128T104411_N0301_R008_T31UFS_2...   \n",
       "6fc27276-c3b4-4573-a872-f3ec81822498  S2B_MSIL2A_20211126T105309_N0301_R051_T31UES_2...   \n",
       "d99f7ed0-19aa-491a-b35d-3758c0b36e24  S2B_MSIL2A_20211126T105309_N0301_R051_T31UFR_2...   \n",
       "cb702f82-efcb-4a53-8a3c-73270742a73c  S2B_MSIL2A_20211126T105309_N0301_R051_T31UER_2...   \n",
       "73ec4e85-e6cf-40e1-a19d-775e695b07d0  S2B_MSIL2A_20211126T105309_N0301_R051_T31UFS_2...   \n",
       "\n",
       "                                                                                   link  \\\n",
       "eebdc6f2-e351-4664-bc8c-049560fb20b1  https://apihub.copernicus.eu/apihub/odata/v1/P...   \n",
       "6fc27276-c3b4-4573-a872-f3ec81822498  https://apihub.copernicus.eu/apihub/odata/v1/P...   \n",
       "d99f7ed0-19aa-491a-b35d-3758c0b36e24  https://apihub.copernicus.eu/apihub/odata/v1/P...   \n",
       "cb702f82-efcb-4a53-8a3c-73270742a73c  https://apihub.copernicus.eu/apihub/odata/v1/P...   \n",
       "73ec4e85-e6cf-40e1-a19d-775e695b07d0  https://apihub.copernicus.eu/apihub/odata/v1/P...   \n",
       "\n",
       "                                                                       link_alternative  \\\n",
       "eebdc6f2-e351-4664-bc8c-049560fb20b1  https://apihub.copernicus.eu/apihub/odata/v1/P...   \n",
       "6fc27276-c3b4-4573-a872-f3ec81822498  https://apihub.copernicus.eu/apihub/odata/v1/P...   \n",
       "d99f7ed0-19aa-491a-b35d-3758c0b36e24  https://apihub.copernicus.eu/apihub/odata/v1/P...   \n",
       "cb702f82-efcb-4a53-8a3c-73270742a73c  https://apihub.copernicus.eu/apihub/odata/v1/P...   \n",
       "73ec4e85-e6cf-40e1-a19d-775e695b07d0  https://apihub.copernicus.eu/apihub/odata/v1/P...   \n",
       "\n",
       "                                                                              link_icon  \\\n",
       "eebdc6f2-e351-4664-bc8c-049560fb20b1  https://apihub.copernicus.eu/apihub/odata/v1/P...   \n",
       "6fc27276-c3b4-4573-a872-f3ec81822498  https://apihub.copernicus.eu/apihub/odata/v1/P...   \n",
       "d99f7ed0-19aa-491a-b35d-3758c0b36e24  https://apihub.copernicus.eu/apihub/odata/v1/P...   \n",
       "cb702f82-efcb-4a53-8a3c-73270742a73c  https://apihub.copernicus.eu/apihub/odata/v1/P...   \n",
       "73ec4e85-e6cf-40e1-a19d-775e695b07d0  https://apihub.copernicus.eu/apihub/odata/v1/P...   \n",
       "\n",
       "                                                                                summary  \\\n",
       "eebdc6f2-e351-4664-bc8c-049560fb20b1  Date: 2021-11-28T10:44:11.024Z, Instrument: MS...   \n",
       "6fc27276-c3b4-4573-a872-f3ec81822498  Date: 2021-11-26T10:53:09.024Z, Instrument: MS...   \n",
       "d99f7ed0-19aa-491a-b35d-3758c0b36e24  Date: 2021-11-26T10:53:09.024Z, Instrument: MS...   \n",
       "cb702f82-efcb-4a53-8a3c-73270742a73c  Date: 2021-11-26T10:53:09.024Z, Instrument: MS...   \n",
       "73ec4e85-e6cf-40e1-a19d-775e695b07d0  Date: 2021-11-26T10:53:09.024Z, Instrument: MS...   \n",
       "\n",
       "                                     ondemand      generationdate  \\\n",
       "eebdc6f2-e351-4664-bc8c-049560fb20b1    false 2021-11-28 13:40:10   \n",
       "6fc27276-c3b4-4573-a872-f3ec81822498    false 2021-11-26 12:59:46   \n",
       "d99f7ed0-19aa-491a-b35d-3758c0b36e24    false 2021-11-26 12:59:46   \n",
       "cb702f82-efcb-4a53-8a3c-73270742a73c    false 2021-11-26 12:59:46   \n",
       "73ec4e85-e6cf-40e1-a19d-775e695b07d0    false 2021-11-26 12:59:46   \n",
       "\n",
       "                                               beginposition  \\\n",
       "eebdc6f2-e351-4664-bc8c-049560fb20b1 2021-11-28 10:44:11.024   \n",
       "6fc27276-c3b4-4573-a872-f3ec81822498 2021-11-26 10:53:09.024   \n",
       "d99f7ed0-19aa-491a-b35d-3758c0b36e24 2021-11-26 10:53:09.024   \n",
       "cb702f82-efcb-4a53-8a3c-73270742a73c 2021-11-26 10:53:09.024   \n",
       "73ec4e85-e6cf-40e1-a19d-775e695b07d0 2021-11-26 10:53:09.024   \n",
       "\n",
       "                                                 endposition  \\\n",
       "eebdc6f2-e351-4664-bc8c-049560fb20b1 2021-11-28 10:44:11.024   \n",
       "6fc27276-c3b4-4573-a872-f3ec81822498 2021-11-26 10:53:09.024   \n",
       "d99f7ed0-19aa-491a-b35d-3758c0b36e24 2021-11-26 10:53:09.024   \n",
       "cb702f82-efcb-4a53-8a3c-73270742a73c 2021-11-26 10:53:09.024   \n",
       "73ec4e85-e6cf-40e1-a19d-775e695b07d0 2021-11-26 10:53:09.024   \n",
       "\n",
       "                                               ingestiondate  ...  \\\n",
       "eebdc6f2-e351-4664-bc8c-049560fb20b1 2021-11-28 15:57:25.295  ...   \n",
       "6fc27276-c3b4-4573-a872-f3ec81822498 2021-11-26 18:00:54.242  ...   \n",
       "d99f7ed0-19aa-491a-b35d-3758c0b36e24 2021-11-26 17:59:28.316  ...   \n",
       "cb702f82-efcb-4a53-8a3c-73270742a73c 2021-11-26 17:55:41.179  ...   \n",
       "73ec4e85-e6cf-40e1-a19d-775e695b07d0 2021-11-26 17:45:39.019  ...   \n",
       "\n",
       "                                                            s2datatakeid  \\\n",
       "eebdc6f2-e351-4664-bc8c-049560fb20b1  GS2A_20211128T104411_033610_N03.01   \n",
       "6fc27276-c3b4-4573-a872-f3ec81822498  GS2B_20211126T105309_024673_N03.01   \n",
       "d99f7ed0-19aa-491a-b35d-3758c0b36e24  GS2B_20211126T105309_024673_N03.01   \n",
       "cb702f82-efcb-4a53-8a3c-73270742a73c  GS2B_20211126T105309_024673_N03.01   \n",
       "73ec4e85-e6cf-40e1-a19d-775e695b07d0  GS2B_20211126T105309_024673_N03.01   \n",
       "\n",
       "                                      producttype  platformidentifier  \\\n",
       "eebdc6f2-e351-4664-bc8c-049560fb20b1      S2MSI2A           2015-028A   \n",
       "6fc27276-c3b4-4573-a872-f3ec81822498      S2MSI2A           2017-013A   \n",
       "d99f7ed0-19aa-491a-b35d-3758c0b36e24      S2MSI2A           2017-013A   \n",
       "cb702f82-efcb-4a53-8a3c-73270742a73c      S2MSI2A           2017-013A   \n",
       "73ec4e85-e6cf-40e1-a19d-775e695b07d0      S2MSI2A           2017-013A   \n",
       "\n",
       "                                      orbitdirection  \\\n",
       "eebdc6f2-e351-4664-bc8c-049560fb20b1      DESCENDING   \n",
       "6fc27276-c3b4-4573-a872-f3ec81822498      DESCENDING   \n",
       "d99f7ed0-19aa-491a-b35d-3758c0b36e24      DESCENDING   \n",
       "cb702f82-efcb-4a53-8a3c-73270742a73c      DESCENDING   \n",
       "73ec4e85-e6cf-40e1-a19d-775e695b07d0      DESCENDING   \n",
       "\n",
       "                                      platformserialidentifier  \\\n",
       "eebdc6f2-e351-4664-bc8c-049560fb20b1               Sentinel-2A   \n",
       "6fc27276-c3b4-4573-a872-f3ec81822498               Sentinel-2B   \n",
       "d99f7ed0-19aa-491a-b35d-3758c0b36e24               Sentinel-2B   \n",
       "cb702f82-efcb-4a53-8a3c-73270742a73c               Sentinel-2B   \n",
       "73ec4e85-e6cf-40e1-a19d-775e695b07d0               Sentinel-2B   \n",
       "\n",
       "                                      processinglevel  \\\n",
       "eebdc6f2-e351-4664-bc8c-049560fb20b1         Level-2A   \n",
       "6fc27276-c3b4-4573-a872-f3ec81822498         Level-2A   \n",
       "d99f7ed0-19aa-491a-b35d-3758c0b36e24         Level-2A   \n",
       "cb702f82-efcb-4a53-8a3c-73270742a73c         Level-2A   \n",
       "73ec4e85-e6cf-40e1-a19d-775e695b07d0         Level-2A   \n",
       "\n",
       "                                                                    datastripidentifier  \\\n",
       "eebdc6f2-e351-4664-bc8c-049560fb20b1  S2A_OPER_MSI_L2A_DS_VGS2_20211128T134010_S2021...   \n",
       "6fc27276-c3b4-4573-a872-f3ec81822498  S2B_OPER_MSI_L2A_DS_VGS4_20211126T125946_S2021...   \n",
       "d99f7ed0-19aa-491a-b35d-3758c0b36e24  S2B_OPER_MSI_L2A_DS_VGS4_20211126T125946_S2021...   \n",
       "cb702f82-efcb-4a53-8a3c-73270742a73c  S2B_OPER_MSI_L2A_DS_VGS4_20211126T125946_S2021...   \n",
       "73ec4e85-e6cf-40e1-a19d-775e695b07d0  S2B_OPER_MSI_L2A_DS_VGS4_20211126T125946_S2021...   \n",
       "\n",
       "                                                                      granuleidentifier  \\\n",
       "eebdc6f2-e351-4664-bc8c-049560fb20b1  S2A_OPER_MSI_L2A_TL_VGS2_20211128T134010_A0336...   \n",
       "6fc27276-c3b4-4573-a872-f3ec81822498  S2B_OPER_MSI_L2A_TL_VGS4_20211126T125946_A0246...   \n",
       "d99f7ed0-19aa-491a-b35d-3758c0b36e24  S2B_OPER_MSI_L2A_TL_VGS4_20211126T125946_A0246...   \n",
       "cb702f82-efcb-4a53-8a3c-73270742a73c  S2B_OPER_MSI_L2A_TL_VGS4_20211126T125946_A0246...   \n",
       "73ec4e85-e6cf-40e1-a19d-775e695b07d0  S2B_OPER_MSI_L2A_TL_VGS4_20211126T125946_A0246...   \n",
       "\n",
       "                                                                             identifier  \\\n",
       "eebdc6f2-e351-4664-bc8c-049560fb20b1  S2A_MSIL2A_20211128T104411_N0301_R008_T31UFS_2...   \n",
       "6fc27276-c3b4-4573-a872-f3ec81822498  S2B_MSIL2A_20211126T105309_N0301_R051_T31UES_2...   \n",
       "d99f7ed0-19aa-491a-b35d-3758c0b36e24  S2B_MSIL2A_20211126T105309_N0301_R051_T31UFR_2...   \n",
       "cb702f82-efcb-4a53-8a3c-73270742a73c  S2B_MSIL2A_20211126T105309_N0301_R051_T31UER_2...   \n",
       "73ec4e85-e6cf-40e1-a19d-775e695b07d0  S2B_MSIL2A_20211126T105309_N0301_R051_T31UFS_2...   \n",
       "\n",
       "                                                                      uuid  \n",
       "eebdc6f2-e351-4664-bc8c-049560fb20b1  eebdc6f2-e351-4664-bc8c-049560fb20b1  \n",
       "6fc27276-c3b4-4573-a872-f3ec81822498  6fc27276-c3b4-4573-a872-f3ec81822498  \n",
       "d99f7ed0-19aa-491a-b35d-3758c0b36e24  d99f7ed0-19aa-491a-b35d-3758c0b36e24  \n",
       "cb702f82-efcb-4a53-8a3c-73270742a73c  cb702f82-efcb-4a53-8a3c-73270742a73c  \n",
       "73ec4e85-e6cf-40e1-a19d-775e695b07d0  73ec4e85-e6cf-40e1-a19d-775e695b07d0  \n",
       "\n",
       "[5 rows x 42 columns]"
      ]
     },
     "metadata": {},
     "output_type": "display_data"
    }
   ],
   "source": [
    "footprint = geojson_to_wkt(read_geojson(roi_file_json))\n",
    "\n",
    "if platform_name == 'Sentinel-2':\n",
    "\n",
    "    products = api.query(footprint,\n",
    "                        date = dates,\n",
    "                        platformname = platform_name,\n",
    "                        processinglevel = s2_level,\n",
    "                        producttype = product_type,\n",
    "                        cloudcoverpercentage = cloud_cover)\n",
    "\n",
    "# Convert to pandas DataFrame\n",
    "\n",
    "df = api.to_dataframe(products)\n",
    "\n",
    "display(df.head())"
   ]
  },
  {
   "cell_type": "code",
   "execution_count": 40,
   "metadata": {},
   "outputs": [
    {
     "data": {
      "image/png": "[encoded data removed]",
      "text/plain": [
       "<Figure size 432x288 with 1 Axes>"
      ]
     },
     "metadata": {
      "needs_background": "light"
     },
     "output_type": "display_data"
    }
   ],
   "source": [
    "products_gdf = api.to_geodataframe(products)\n",
    "\n",
    "fig, ax = plt.subplots(1, 1)\n",
    "\n",
    "products_gdf.boundary.plot(ax=ax)\n",
    "\n",
    "plt.box(False)"
   ]
  },
  {
   "cell_type": "code",
   "execution_count": 9,
   "metadata": {},
   "outputs": [
    {
     "name": "stdout",
     "output_type": "stream",
     "text": [
      "bd214fb6-6244-4968-a143-274e87711d68    S2B_MSIL2A_20211004T103809_N0301_R008_T31UFS_2...\n",
      "3781cac7-8459-4f61-b9ad-4c0aa8ffc89d    S2B_MSIL2A_20211007T104829_N0301_R051_T31UFS_2...\n",
      "5b3e486e-e97f-411e-a192-640e814e2dbe    S2A_MSIL2A_20211009T103941_N0301_R008_T31UFS_2...\n",
      "58818ce5-9e33-4ca8-8c0c-b3c4cc2a20b5    S2A_MSIL2A_20211012T105011_N0301_R051_T31UFS_2...\n",
      "3a0c28d2-6786-462a-86e1-3aa1d3fb33d4    S2B_MSIL2A_20211014T103919_N0301_R008_T31UFS_2...\n",
      "bd3a133f-6138-4a24-8f26-5fbb948742ab    S2A_MSIL2A_20211022T105111_N0301_R051_T31UFS_2...\n",
      "56ad8352-c118-4296-a4a9-c2b6a921a21c    S2B_MSIL2A_20211024T104029_N0301_R008_T31UFS_2...\n",
      "58de57de-c19a-488c-a683-154bbd9c96a8    S2B_MSIL2A_20211027T105049_N0301_R051_T31UFS_2...\n",
      "78169a79-b453-45c6-b767-990dbe98e2e6    S2A_MSIL2A_20211029T104151_N0301_R008_T31UFS_2...\n",
      "c1dceaaa-7fb7-4227-9983-e7bc2f56b505    S2A_MSIL2A_20211101T105211_N0301_R051_T31UFS_2...\n",
      "27af21d8-e0bb-4fbf-a232-e64e3dcea5be    S2A_MSIL2A_20211111T105301_N0301_R051_T31UFS_2...\n",
      "3493cd63-0ae2-4bc6-a61e-14ee0846214d    S2B_MSIL2A_20211113T104209_N0301_R008_T31UFS_2...\n",
      "7263ebe3-076b-49f6-b400-5257394d5c89    S2A_MSIL2A_20211118T104331_N0301_R008_T31UFS_2...\n",
      "16b38e0f-dd29-4eb5-94f5-d7533aa5788f    S2A_MSIL2A_20211121T105341_N0301_R051_T31UFS_2...\n",
      "4bb305d5-f450-4071-a58f-0b2d10d4a6ac    S2B_MSIL2A_20211123T104249_N0301_R008_T31UFS_2...\n",
      "73ec4e85-e6cf-40e1-a19d-775e695b07d0    S2B_MSIL2A_20211126T105309_N0301_R051_T31UFS_2...\n",
      "eebdc6f2-e351-4664-bc8c-049560fb20b1    S2A_MSIL2A_20211128T104411_N0301_R008_T31UFS_2...\n",
      "Name: title, dtype: object\n"
     ]
    }
   ],
   "source": [
    "#tiles_list = df['tileid'].drop_duplicates().values\n",
    "#print(f'Selected tiles : {tiles_list}')\n",
    "\n",
    "df = df.sort_values('ingestiondate', ascending=True)\n",
    "\n",
    "#selected_tile_df = df[df['tileid'] == s2_tile]\n",
    "selected_tile_df = df[df['title'].str.contains(s2_tile)]\n",
    "\n",
    "\n",
    "print(selected_tile_df['title'])\n"
   ]
  },
  {
   "cell_type": "code",
   "execution_count": 10,
   "metadata": {},
   "outputs": [
    {
     "name": "stdout",
     "output_type": "stream",
     "text": [
      "Index(['5b3e486e-e97f-411e-a192-640e814e2dbe'], dtype='object')\n"
     ]
    },
    {
     "data": {
      "text/html": [
       "<div>\n",
       "<style scoped>\n",
       "    .dataframe tbody tr th:only-of-type {\n",
       "        vertical-align: middle;\n",
       "    }\n",
       "\n",
       "    .dataframe tbody tr th {\n",
       "        vertical-align: top;\n",
       "    }\n",
       "\n",
       "    .dataframe thead th {\n",
       "        text-align: right;\n",
       "    }\n",
       "</style>\n",
       "<table border=\"1\" class=\"dataframe\">\n",
       "  <thead>\n",
       "    <tr style=\"text-align: right;\">\n",
       "      <th></th>\n",
       "      <th>title</th>\n",
       "      <th>link</th>\n",
       "      <th>link_alternative</th>\n",
       "      <th>link_icon</th>\n",
       "      <th>summary</th>\n",
       "      <th>ondemand</th>\n",
       "      <th>generationdate</th>\n",
       "      <th>beginposition</th>\n",
       "      <th>endposition</th>\n",
       "      <th>ingestiondate</th>\n",
       "      <th>...</th>\n",
       "      <th>s2datatakeid</th>\n",
       "      <th>producttype</th>\n",
       "      <th>platformidentifier</th>\n",
       "      <th>orbitdirection</th>\n",
       "      <th>platformserialidentifier</th>\n",
       "      <th>processinglevel</th>\n",
       "      <th>datastripidentifier</th>\n",
       "      <th>granuleidentifier</th>\n",
       "      <th>identifier</th>\n",
       "      <th>uuid</th>\n",
       "    </tr>\n",
       "  </thead>\n",
       "  <tbody>\n",
       "    <tr>\n",
       "      <th>5b3e486e-e97f-411e-a192-640e814e2dbe</th>\n",
       "      <td>S2A_MSIL2A_20211009T103941_N0301_R008_T31UFS_2...</td>\n",
       "      <td>https://apihub.copernicus.eu/apihub/odata/v1/P...</td>\n",
       "      <td>https://apihub.copernicus.eu/apihub/odata/v1/P...</td>\n",
       "      <td>https://apihub.copernicus.eu/apihub/odata/v1/P...</td>\n",
       "      <td>Date: 2021-10-09T10:39:41.024Z, Instrument: MS...</td>\n",
       "      <td>false</td>\n",
       "      <td>2021-10-09 13:45:36</td>\n",
       "      <td>2021-10-09 10:39:41.024</td>\n",
       "      <td>2021-10-09 10:39:41.024</td>\n",
       "      <td>2021-10-09 16:24:54.742</td>\n",
       "      <td>...</td>\n",
       "      <td>GS2A_20211009T103941_032895_N03.01</td>\n",
       "      <td>S2MSI2A</td>\n",
       "      <td>2015-028A</td>\n",
       "      <td>DESCENDING</td>\n",
       "      <td>Sentinel-2A</td>\n",
       "      <td>Level-2A</td>\n",
       "      <td>S2A_OPER_MSI_L2A_DS_VGS2_20211009T134536_S2021...</td>\n",
       "      <td>S2A_OPER_MSI_L2A_TL_VGS2_20211009T134536_A0328...</td>\n",
       "      <td>S2A_MSIL2A_20211009T103941_N0301_R008_T31UFS_2...</td>\n",
       "      <td>5b3e486e-e97f-411e-a192-640e814e2dbe</td>\n",
       "    </tr>\n",
       "  </tbody>\n",
       "</table>\n",
       "<p>1 rows × 42 columns</p>\n",
       "</div>"
      ],
      "text/plain": [
       "                                                                                  title  \\\n",
       "5b3e486e-e97f-411e-a192-640e814e2dbe  S2A_MSIL2A_20211009T103941_N0301_R008_T31UFS_2...   \n",
       "\n",
       "                                                                                   link  \\\n",
       "5b3e486e-e97f-411e-a192-640e814e2dbe  https://apihub.copernicus.eu/apihub/odata/v1/P...   \n",
       "\n",
       "                                                                       link_alternative  \\\n",
       "5b3e486e-e97f-411e-a192-640e814e2dbe  https://apihub.copernicus.eu/apihub/odata/v1/P...   \n",
       "\n",
       "                                                                              link_icon  \\\n",
       "5b3e486e-e97f-411e-a192-640e814e2dbe  https://apihub.copernicus.eu/apihub/odata/v1/P...   \n",
       "\n",
       "                                                                                summary  \\\n",
       "5b3e486e-e97f-411e-a192-640e814e2dbe  Date: 2021-10-09T10:39:41.024Z, Instrument: MS...   \n",
       "\n",
       "                                     ondemand      generationdate  \\\n",
       "5b3e486e-e97f-411e-a192-640e814e2dbe    false 2021-10-09 13:45:36   \n",
       "\n",
       "                                               beginposition  \\\n",
       "5b3e486e-e97f-411e-a192-640e814e2dbe 2021-10-09 10:39:41.024   \n",
       "\n",
       "                                                 endposition  \\\n",
       "5b3e486e-e97f-411e-a192-640e814e2dbe 2021-10-09 10:39:41.024   \n",
       "\n",
       "                                               ingestiondate  ...  \\\n",
       "5b3e486e-e97f-411e-a192-640e814e2dbe 2021-10-09 16:24:54.742  ...   \n",
       "\n",
       "                                                            s2datatakeid  \\\n",
       "5b3e486e-e97f-411e-a192-640e814e2dbe  GS2A_20211009T103941_032895_N03.01   \n",
       "\n",
       "                                      producttype  platformidentifier  \\\n",
       "5b3e486e-e97f-411e-a192-640e814e2dbe      S2MSI2A           2015-028A   \n",
       "\n",
       "                                      orbitdirection  \\\n",
       "5b3e486e-e97f-411e-a192-640e814e2dbe      DESCENDING   \n",
       "\n",
       "                                      platformserialidentifier  \\\n",
       "5b3e486e-e97f-411e-a192-640e814e2dbe               Sentinel-2A   \n",
       "\n",
       "                                      processinglevel  \\\n",
       "5b3e486e-e97f-411e-a192-640e814e2dbe         Level-2A   \n",
       "\n",
       "                                                                    datastripidentifier  \\\n",
       "5b3e486e-e97f-411e-a192-640e814e2dbe  S2A_OPER_MSI_L2A_DS_VGS2_20211009T134536_S2021...   \n",
       "\n",
       "                                                                      granuleidentifier  \\\n",
       "5b3e486e-e97f-411e-a192-640e814e2dbe  S2A_OPER_MSI_L2A_TL_VGS2_20211009T134536_A0328...   \n",
       "\n",
       "                                                                             identifier  \\\n",
       "5b3e486e-e97f-411e-a192-640e814e2dbe  S2A_MSIL2A_20211009T103941_N0301_R008_T31UFS_2...   \n",
       "\n",
       "                                                                      uuid  \n",
       "5b3e486e-e97f-411e-a192-640e814e2dbe  5b3e486e-e97f-411e-a192-640e814e2dbe  \n",
       "\n",
       "[1 rows x 42 columns]"
      ]
     },
     "metadata": {},
     "output_type": "display_data"
    }
   ],
   "source": [
    "test = selected_tile_df[2:3]['filename']\n",
    "\n",
    "print(test.index)\n",
    "\n",
    "display(selected_tile_df[2:3])"
   ]
  },
  {
   "cell_type": "markdown",
   "metadata": {},
   "source": [
    "### Download product"
   ]
  },
  {
   "cell_type": "code",
   "execution_count": 16,
   "metadata": {},
   "outputs": [
    {
     "data": {
      "application/vnd.jupyter.widget-view+json": {
       "model_id": "bc978774eb88449aa986834ad39c9d69",
       "version_major": 2,
       "version_minor": 0
      },
      "text/plain": [
       "Downloading products:   0%|          | 0/1 [00:00<?, ?product/s]"
      ]
     },
     "metadata": {},
     "output_type": "display_data"
    },
    {
     "data": {
      "application/vnd.jupyter.widget-view+json": {
       "model_id": "2efe5c0f3d514ed9b91e5ee66f08939b",
       "version_major": 2,
       "version_minor": 0
      },
      "text/plain": [
       "Downloading MTD_MSIL2A.xml:   0%|          | 0.00/53.6k [00:00<?, ?B/s]"
      ]
     },
     "metadata": {},
     "output_type": "display_data"
    },
    {
     "data": {
      "application/vnd.jupyter.widget-view+json": {
       "model_id": "a3b75fd6744f4ffb9a3c89e4460cba42",
       "version_major": 2,
       "version_minor": 0
      },
      "text/plain": [
       "SHA3_256 checksumming:   0%|          | 0.00/53.6k [00:00<?, ?B/s]"
      ]
     },
     "metadata": {},
     "output_type": "display_data"
    },
    {
     "data": {
      "application/vnd.jupyter.widget-view+json": {
       "model_id": "87f89ab346904f1b8f06ecf73b91560a",
       "version_major": 2,
       "version_minor": 0
      },
      "text/plain": [
       "Downloading INSPIRE.xml:   0%|          | 0.00/18.7k [00:00<?, ?B/s]"
      ]
     },
     "metadata": {},
     "output_type": "display_data"
    },
    {
     "data": {
      "application/vnd.jupyter.widget-view+json": {
       "model_id": "0a0e63e8c3174d7dbfa843c7fc22526a",
       "version_major": 2,
       "version_minor": 0
      },
      "text/plain": [
       "SHA3_256 checksumming:   0%|          | 0.00/18.7k [00:00<?, ?B/s]"
      ]
     },
     "metadata": {},
     "output_type": "display_data"
    },
    {
     "data": {
      "application/vnd.jupyter.widget-view+json": {
       "model_id": "bafcdca8b5b949fca79b83a9d564a707",
       "version_major": 2,
       "version_minor": 0
      },
      "text/plain": [
       "Downloading UserProduct_index.html:   0%|          | 0.00/8.30k [00:00<?, ?B/s]"
      ]
     },
     "metadata": {},
     "output_type": "display_data"
    },
    {
     "data": {
      "application/vnd.jupyter.widget-view+json": {
       "model_id": "df67d721f92e4ec48077d1fcb23f3366",
       "version_major": 2,
       "version_minor": 0
      },
      "text/plain": [
       "SHA3_256 checksumming:   0%|          | 0.00/8.30k [00:00<?, ?B/s]"
      ]
     },
     "metadata": {},
     "output_type": "display_data"
    },
    {
     "data": {
      "application/vnd.jupyter.widget-view+json": {
       "model_id": "de95aeedf2cf463f9f0fce61e3fdecd6",
       "version_major": 2,
       "version_minor": 0
      },
      "text/plain": [
       "Downloading UserProduct_index.xsl:   0%|          | 0.00/10.0k [00:00<?, ?B/s]"
      ]
     },
     "metadata": {},
     "output_type": "display_data"
    },
    {
     "data": {
      "application/vnd.jupyter.widget-view+json": {
       "model_id": "0e74b706f35c499a8dd10bb87c8d5d00",
       "version_major": 2,
       "version_minor": 0
      },
      "text/plain": [
       "SHA3_256 checksumming:   0%|          | 0.00/10.0k [00:00<?, ?B/s]"
      ]
     },
     "metadata": {},
     "output_type": "display_data"
    },
    {
     "data": {
      "application/vnd.jupyter.widget-view+json": {
       "model_id": "4199461555a648878c02e132a00fd54e",
       "version_major": 2,
       "version_minor": 0
      },
      "text/plain": [
       "Downloading MTD_DS.xml:   0%|          | 0.00/24.5M [00:00<?, ?B/s]"
      ]
     },
     "metadata": {},
     "output_type": "display_data"
    },
    {
     "data": {
      "application/vnd.jupyter.widget-view+json": {
       "model_id": "4b57741d713448a39f427f5bba4846b2",
       "version_major": 2,
       "version_minor": 0
      },
      "text/plain": [
       "SHA3_256 checksumming:   0%|          | 0.00/24.5M [00:00<?, ?B/s]"
      ]
     },
     "metadata": {},
     "output_type": "display_data"
    },
    {
     "data": {
      "application/vnd.jupyter.widget-view+json": {
       "model_id": "1813b3d7b45548efaaf1f54c9bbf6ece",
       "version_major": 2,
       "version_minor": 0
      },
      "text/plain": [
       "Downloading FORMAT_CORRECTNESS.xml:   0%|          | 0.00/3.81k [00:00<?, ?B/s]"
      ]
     },
     "metadata": {},
     "output_type": "display_data"
    },
    {
     "data": {
      "application/vnd.jupyter.widget-view+json": {
       "model_id": "4f51a7fc633349b5b88c3c2e8f1c80e0",
       "version_major": 2,
       "version_minor": 0
      },
      "text/plain": [
       "SHA3_256 checksumming:   0%|          | 0.00/3.81k [00:00<?, ?B/s]"
      ]
     },
     "metadata": {},
     "output_type": "display_data"
    },
    {
     "data": {
      "application/vnd.jupyter.widget-view+json": {
       "model_id": "f32deed5cb804be4913e5d605bc1f587",
       "version_major": 2,
       "version_minor": 0
      },
      "text/plain": [
       "Downloading GENERAL_QUALITY.xml:   0%|          | 0.00/5.48k [00:00<?, ?B/s]"
      ]
     },
     "metadata": {},
     "output_type": "display_data"
    },
    {
     "data": {
      "application/vnd.jupyter.widget-view+json": {
       "model_id": "8380dfbf96254469bacc9486a4543ef6",
       "version_major": 2,
       "version_minor": 0
      },
      "text/plain": [
       "SHA3_256 checksumming:   0%|          | 0.00/5.48k [00:00<?, ?B/s]"
      ]
     },
     "metadata": {},
     "output_type": "display_data"
    },
    {
     "data": {
      "application/vnd.jupyter.widget-view+json": {
       "model_id": "db347e05097d4a06aea71ad39ee9dc2a",
       "version_major": 2,
       "version_minor": 0
      },
      "text/plain": [
       "Downloading GEOMETRIC_QUALITY.xml:   0%|          | 0.00/7.77k [00:00<?, ?B/s]"
      ]
     },
     "metadata": {},
     "output_type": "display_data"
    },
    {
     "data": {
      "application/vnd.jupyter.widget-view+json": {
       "model_id": "bed5da715081418bb3324d12db8d6697",
       "version_major": 2,
       "version_minor": 0
      },
      "text/plain": [
       "SHA3_256 checksumming:   0%|          | 0.00/7.77k [00:00<?, ?B/s]"
      ]
     },
     "metadata": {},
     "output_type": "display_data"
    },
    {
     "data": {
      "application/vnd.jupyter.widget-view+json": {
       "model_id": "1e351a8f7b954a54a86707eb52f4c607",
       "version_major": 2,
       "version_minor": 0
      },
      "text/plain": [
       "Downloading RADIOMETRIC_QUALITY.xml:   0%|          | 0.00/6.72k [00:00<?, ?B/s]"
      ]
     },
     "metadata": {},
     "output_type": "display_data"
    },
    {
     "data": {
      "application/vnd.jupyter.widget-view+json": {
       "model_id": "4f5131d14df24b5a809b957ce6cdaf67",
       "version_major": 2,
       "version_minor": 0
      },
      "text/plain": [
       "SHA3_256 checksumming:   0%|          | 0.00/6.72k [00:00<?, ?B/s]"
      ]
     },
     "metadata": {},
     "output_type": "display_data"
    },
    {
     "data": {
      "application/vnd.jupyter.widget-view+json": {
       "model_id": "9769c8618c4c411092fe2167fbff613f",
       "version_major": 2,
       "version_minor": 0
      },
      "text/plain": [
       "Downloading SENSOR_QUALITY.xml:   0%|          | 0.00/4.19k [00:00<?, ?B/s]"
      ]
     },
     "metadata": {},
     "output_type": "display_data"
    },
    {
     "data": {
      "application/vnd.jupyter.widget-view+json": {
       "model_id": "a6bb5e77cb2c4408801117fc29d996d0",
       "version_major": 2,
       "version_minor": 0
      },
      "text/plain": [
       "SHA3_256 checksumming:   0%|          | 0.00/4.19k [00:00<?, ?B/s]"
      ]
     },
     "metadata": {},
     "output_type": "display_data"
    },
    {
     "data": {
      "application/vnd.jupyter.widget-view+json": {
       "model_id": "521f5e0595804e3886c3fb65a94ae1aa",
       "version_major": 2,
       "version_minor": 0
      },
      "text/plain": [
       "Downloading AUX_ECMWFT:   0%|          | 0.00/810 [00:00<?, ?B/s]"
      ]
     },
     "metadata": {},
     "output_type": "display_data"
    },
    {
     "data": {
      "application/vnd.jupyter.widget-view+json": {
       "model_id": "a59a491a5df84e42bcf957174313aae2",
       "version_major": 2,
       "version_minor": 0
      },
      "text/plain": [
       "SHA3_256 checksumming:   0%|          | 0.00/810 [00:00<?, ?B/s]"
      ]
     },
     "metadata": {},
     "output_type": "display_data"
    },
    {
     "data": {
      "application/vnd.jupyter.widget-view+json": {
       "model_id": "d360046a2de14bd48c91fd174c424a1b",
       "version_major": 2,
       "version_minor": 0
      },
      "text/plain": [
       "Downloading T31UFS_20211009T103941_AOT_10m.jp2:   0%|          | 0.00/654k [00:00<?, ?B/s]"
      ]
     },
     "metadata": {},
     "output_type": "display_data"
    },
    {
     "data": {
      "application/vnd.jupyter.widget-view+json": {
       "model_id": "44183f8817a345459a3b141a645a6299",
       "version_major": 2,
       "version_minor": 0
      },
      "text/plain": [
       "SHA3_256 checksumming:   0%|          | 0.00/654k [00:00<?, ?B/s]"
      ]
     },
     "metadata": {},
     "output_type": "display_data"
    },
    {
     "data": {
      "application/vnd.jupyter.widget-view+json": {
       "model_id": "61e1f0862c954649b51668940190cee1",
       "version_major": 2,
       "version_minor": 0
      },
      "text/plain": [
       "Downloading T31UFS_20211009T103941_B02_10m.jp2:   0%|          | 0.00/118M [00:00<?, ?B/s]"
      ]
     },
     "metadata": {},
     "output_type": "display_data"
    },
    {
     "data": {
      "application/vnd.jupyter.widget-view+json": {
       "model_id": "24603c18b32b400197621f36b2e98e82",
       "version_major": 2,
       "version_minor": 0
      },
      "text/plain": [
       "SHA3_256 checksumming:   0%|          | 0.00/118M [00:00<?, ?B/s]"
      ]
     },
     "metadata": {},
     "output_type": "display_data"
    },
    {
     "data": {
      "application/vnd.jupyter.widget-view+json": {
       "model_id": "78e8912f31734c0b9bca2ecfe5dc618b",
       "version_major": 2,
       "version_minor": 0
      },
      "text/plain": [
       "Downloading T31UFS_20211009T103941_B03_10m.jp2:   0%|          | 0.00/124M [00:00<?, ?B/s]"
      ]
     },
     "metadata": {},
     "output_type": "display_data"
    },
    {
     "ename": "KeyboardInterrupt",
     "evalue": "",
     "output_type": "error",
     "traceback": [
      "\u001b[0;31m---------------------------------------------------------------------------\u001b[0m",
      "\u001b[0;31mKeyboardInterrupt\u001b[0m                         Traceback (most recent call last)",
      "\u001b[0;32m<ipython-input-16-7c7357eebc24>\u001b[0m in \u001b[0;36m<module>\u001b[0;34m\u001b[0m\n\u001b[1;32m      5\u001b[0m \u001b[0;34m\u001b[0m\u001b[0m\n\u001b[1;32m      6\u001b[0m \u001b[0;34m\u001b[0m\u001b[0m\n\u001b[0;32m----> 7\u001b[0;31m \u001b[0mapi\u001b[0m\u001b[0;34m.\u001b[0m\u001b[0mdownload_all\u001b[0m\u001b[0;34m(\u001b[0m\u001b[0;34m[\u001b[0m\u001b[0;34m'5b3e486e-e97f-411e-a192-640e814e2dbe'\u001b[0m\u001b[0;34m]\u001b[0m\u001b[0;34m,\u001b[0m \u001b[0mdirectory_path\u001b[0m\u001b[0;34m=\u001b[0m\u001b[0mdwl_path\u001b[0m\u001b[0;34m,\u001b[0m \u001b[0mnodefilter\u001b[0m\u001b[0;34m=\u001b[0m\u001b[0mpath_filter\u001b[0m\u001b[0;34m)\u001b[0m\u001b[0;34m\u001b[0m\u001b[0;34m\u001b[0m\u001b[0m\n\u001b[0m\u001b[1;32m      8\u001b[0m \u001b[0;34m\u001b[0m\u001b[0m\n\u001b[1;32m      9\u001b[0m \u001b[0;34m\u001b[0m\u001b[0m\n",
      "\u001b[0;32m~/.local/lib/python3.6/site-packages/sentinelsat/sentinel.py\u001b[0m in \u001b[0;36mdownload_all\u001b[0;34m(self, products, directory_path, max_attempts, checksum, n_concurrent_dl, lta_retry_delay, fail_fast, nodefilter)\u001b[0m\n\u001b[1;32m    708\u001b[0m             \u001b[0mdownloader\u001b[0m\u001b[0;34m.\u001b[0m\u001b[0mlta_retry_delay\u001b[0m \u001b[0;34m=\u001b[0m \u001b[0mlta_retry_delay\u001b[0m\u001b[0;34m\u001b[0m\u001b[0;34m\u001b[0m\u001b[0m\n\u001b[1;32m    709\u001b[0m         \u001b[0mdownloader\u001b[0m\u001b[0;34m.\u001b[0m\u001b[0mnode_filter\u001b[0m \u001b[0;34m=\u001b[0m \u001b[0mnodefilter\u001b[0m\u001b[0;34m\u001b[0m\u001b[0;34m\u001b[0m\u001b[0m\n\u001b[0;32m--> 710\u001b[0;31m         \u001b[0mstatuses\u001b[0m\u001b[0;34m,\u001b[0m \u001b[0mexceptions\u001b[0m\u001b[0;34m,\u001b[0m \u001b[0mproduct_infos\u001b[0m \u001b[0;34m=\u001b[0m \u001b[0mdownloader\u001b[0m\u001b[0;34m.\u001b[0m\u001b[0mdownload_all\u001b[0m\u001b[0;34m(\u001b[0m\u001b[0mproducts\u001b[0m\u001b[0;34m,\u001b[0m \u001b[0mdirectory_path\u001b[0m\u001b[0;34m)\u001b[0m\u001b[0;34m\u001b[0m\u001b[0;34m\u001b[0m\u001b[0m\n\u001b[0m\u001b[1;32m    711\u001b[0m \u001b[0;34m\u001b[0m\u001b[0m\n\u001b[1;32m    712\u001b[0m         \u001b[0;31m# Adapt results to the old download_all() API\u001b[0m\u001b[0;34m\u001b[0m\u001b[0;34m\u001b[0m\u001b[0;34m\u001b[0m\u001b[0m\n",
      "\u001b[0;32m~/.local/lib/python3.6/site-packages/sentinelsat/download.py\u001b[0m in \u001b[0;36mdownload_all\u001b[0;34m(self, products, directory)\u001b[0m\n\u001b[1;32m    323\u001b[0m                 \u001b[0mtrigger_tasks\u001b[0m\u001b[0;34m[\u001b[0m\u001b[0mfuture\u001b[0m\u001b[0;34m]\u001b[0m \u001b[0;34m=\u001b[0m \u001b[0mpid\u001b[0m\u001b[0;34m\u001b[0m\u001b[0;34m\u001b[0m\u001b[0m\n\u001b[1;32m    324\u001b[0m \u001b[0;34m\u001b[0m\u001b[0m\n\u001b[0;32m--> 325\u001b[0;31m             \u001b[0;32mfor\u001b[0m \u001b[0mtask\u001b[0m \u001b[0;32min\u001b[0m \u001b[0mconcurrent\u001b[0m\u001b[0;34m.\u001b[0m\u001b[0mfutures\u001b[0m\u001b[0;34m.\u001b[0m\u001b[0mas_completed\u001b[0m\u001b[0;34m(\u001b[0m\u001b[0mlist\u001b[0m\u001b[0;34m(\u001b[0m\u001b[0mtrigger_tasks\u001b[0m\u001b[0;34m)\u001b[0m \u001b[0;34m+\u001b[0m \u001b[0mlist\u001b[0m\u001b[0;34m(\u001b[0m\u001b[0mdl_tasks\u001b[0m\u001b[0;34m)\u001b[0m\u001b[0;34m)\u001b[0m\u001b[0;34m:\u001b[0m\u001b[0;34m\u001b[0m\u001b[0;34m\u001b[0m\u001b[0m\n\u001b[0m\u001b[1;32m    326\u001b[0m                 \u001b[0mpid\u001b[0m \u001b[0;34m=\u001b[0m \u001b[0mtrigger_tasks\u001b[0m\u001b[0;34m.\u001b[0m\u001b[0mget\u001b[0m\u001b[0;34m(\u001b[0m\u001b[0mtask\u001b[0m\u001b[0;34m)\u001b[0m \u001b[0;32mor\u001b[0m \u001b[0mdl_tasks\u001b[0m\u001b[0;34m[\u001b[0m\u001b[0mtask\u001b[0m\u001b[0;34m]\u001b[0m\u001b[0;34m\u001b[0m\u001b[0;34m\u001b[0m\u001b[0m\n\u001b[1;32m    327\u001b[0m                 \u001b[0mexception\u001b[0m \u001b[0;34m=\u001b[0m \u001b[0mexceptions\u001b[0m\u001b[0;34m.\u001b[0m\u001b[0mget\u001b[0m\u001b[0;34m(\u001b[0m\u001b[0mpid\u001b[0m\u001b[0;34m)\u001b[0m\u001b[0;34m\u001b[0m\u001b[0;34m\u001b[0m\u001b[0m\n",
      "\u001b[0;32m/usr/lib64/python3.6/concurrent/futures/_base.py\u001b[0m in \u001b[0;36mas_completed\u001b[0;34m(fs, timeout)\u001b[0m\n\u001b[1;32m    238\u001b[0m                             len(pending), total_futures))\n\u001b[1;32m    239\u001b[0m \u001b[0;34m\u001b[0m\u001b[0m\n\u001b[0;32m--> 240\u001b[0;31m             \u001b[0mwaiter\u001b[0m\u001b[0;34m.\u001b[0m\u001b[0mevent\u001b[0m\u001b[0;34m.\u001b[0m\u001b[0mwait\u001b[0m\u001b[0;34m(\u001b[0m\u001b[0mwait_timeout\u001b[0m\u001b[0;34m)\u001b[0m\u001b[0;34m\u001b[0m\u001b[0;34m\u001b[0m\u001b[0m\n\u001b[0m\u001b[1;32m    241\u001b[0m \u001b[0;34m\u001b[0m\u001b[0m\n\u001b[1;32m    242\u001b[0m             \u001b[0;32mwith\u001b[0m \u001b[0mwaiter\u001b[0m\u001b[0;34m.\u001b[0m\u001b[0mlock\u001b[0m\u001b[0;34m:\u001b[0m\u001b[0;34m\u001b[0m\u001b[0;34m\u001b[0m\u001b[0m\n",
      "\u001b[0;32m/usr/lib64/python3.6/threading.py\u001b[0m in \u001b[0;36mwait\u001b[0;34m(self, timeout)\u001b[0m\n\u001b[1;32m    549\u001b[0m             \u001b[0msignaled\u001b[0m \u001b[0;34m=\u001b[0m \u001b[0mself\u001b[0m\u001b[0;34m.\u001b[0m\u001b[0m_flag\u001b[0m\u001b[0;34m\u001b[0m\u001b[0;34m\u001b[0m\u001b[0m\n\u001b[1;32m    550\u001b[0m             \u001b[0;32mif\u001b[0m \u001b[0;32mnot\u001b[0m \u001b[0msignaled\u001b[0m\u001b[0;34m:\u001b[0m\u001b[0;34m\u001b[0m\u001b[0;34m\u001b[0m\u001b[0m\n\u001b[0;32m--> 551\u001b[0;31m                 \u001b[0msignaled\u001b[0m \u001b[0;34m=\u001b[0m \u001b[0mself\u001b[0m\u001b[0;34m.\u001b[0m\u001b[0m_cond\u001b[0m\u001b[0;34m.\u001b[0m\u001b[0mwait\u001b[0m\u001b[0;34m(\u001b[0m\u001b[0mtimeout\u001b[0m\u001b[0;34m)\u001b[0m\u001b[0;34m\u001b[0m\u001b[0;34m\u001b[0m\u001b[0m\n\u001b[0m\u001b[1;32m    552\u001b[0m             \u001b[0;32mreturn\u001b[0m \u001b[0msignaled\u001b[0m\u001b[0;34m\u001b[0m\u001b[0;34m\u001b[0m\u001b[0m\n\u001b[1;32m    553\u001b[0m \u001b[0;34m\u001b[0m\u001b[0m\n",
      "\u001b[0;32m/usr/lib64/python3.6/threading.py\u001b[0m in \u001b[0;36mwait\u001b[0;34m(self, timeout)\u001b[0m\n\u001b[1;32m    293\u001b[0m         \u001b[0;32mtry\u001b[0m\u001b[0;34m:\u001b[0m    \u001b[0;31m# restore state no matter what (e.g., KeyboardInterrupt)\u001b[0m\u001b[0;34m\u001b[0m\u001b[0;34m\u001b[0m\u001b[0m\n\u001b[1;32m    294\u001b[0m             \u001b[0;32mif\u001b[0m \u001b[0mtimeout\u001b[0m \u001b[0;32mis\u001b[0m \u001b[0;32mNone\u001b[0m\u001b[0;34m:\u001b[0m\u001b[0;34m\u001b[0m\u001b[0;34m\u001b[0m\u001b[0m\n\u001b[0;32m--> 295\u001b[0;31m                 \u001b[0mwaiter\u001b[0m\u001b[0;34m.\u001b[0m\u001b[0macquire\u001b[0m\u001b[0;34m(\u001b[0m\u001b[0;34m)\u001b[0m\u001b[0;34m\u001b[0m\u001b[0;34m\u001b[0m\u001b[0m\n\u001b[0m\u001b[1;32m    296\u001b[0m                 \u001b[0mgotit\u001b[0m \u001b[0;34m=\u001b[0m \u001b[0;32mTrue\u001b[0m\u001b[0;34m\u001b[0m\u001b[0;34m\u001b[0m\u001b[0m\n\u001b[1;32m    297\u001b[0m             \u001b[0;32melse\u001b[0m\u001b[0;34m:\u001b[0m\u001b[0;34m\u001b[0m\u001b[0;34m\u001b[0m\u001b[0m\n",
      "\u001b[0;31mKeyboardInterrupt\u001b[0m: "
     ]
    }
   ],
   "source": [
    "#api.download_all(test.index, directory_path=dwl_path)\n",
    "\n",
    "# define the filter function to select files (to be excluded in this case)\n",
    "path_filter = make_path_filter(\"*Measurement/*\", exclude=True)\n",
    "\n",
    "api.download_all(['5b3e486e-e97f-411e-a192-640e814e2dbe'], directory_path=dwl_path, nodefilter=path_filter)\n",
    "\n",
    "\n",
    "#api.download_all(selected_tile_df[2:3], directory_path=dwl_path, path_filter)"
   ]
  },
  {
   "cell_type": "code",
   "execution_count": null,
   "metadata": {},
   "outputs": [],
   "source": [
    "footprint = geojson_to_wkt(read_geojson('search_polygon.geojson'))\n",
    "\n",
    "products = api.query(footprint,\n",
    "                     producttype='SLC',\n",
    "                     orbitdirection='ASCENDING',\n",
    "                     limit=10)\n",
    "\n",
    "api.download_all(products)"
   ]
  },
  {
   "cell_type": "code",
   "execution_count": 33,
   "metadata": {},
   "outputs": [
    {
     "name": "stdout",
     "output_type": "stream",
     "text": [
      "OrderedDict()\n"
     ]
    }
   ],
   "source": [
    "tiles = ['33VUC', '33UUB']\n",
    "\n",
    "query_kwargs = {\n",
    "        'platformname': platform_name,\n",
    "        'producttype': product_type,\n",
    "        'date': dates}\n",
    "\n",
    "products = OrderedDict()\n",
    "for tile in tiles:\n",
    "    kw = query_kwargs.copy()\n",
    "    kw['tileid'] = tile\n",
    "    pp = api.query(**kw)\n",
    "    products.update(pp)\n",
    "\n",
    "print(products)"
   ]
  }
 ],
 "metadata": {
  "interpreter": {
   "hash": "d44a822591a3717b24d3edf137db462f6168d56f0b857c252a9153258824edbd"
  },
  "kernelspec": {
   "display_name": "Python 3.6.10 64-bit ('python_3_6': conda)",
   "name": "python3"
  },
  "language_info": {
   "codemirror_mode": {
    "name": "ipython",
    "version": 3
   },
   "file_extension": ".py",
   "mimetype": "text/x-python",
   "name": "python",
   "nbconvert_exporter": "python",
   "pygments_lexer": "ipython3",
   "version": "3.6.12"
  },
  "orig_nbformat": 4
 },
 "nbformat": 4,
 "nbformat_minor": 2
}
